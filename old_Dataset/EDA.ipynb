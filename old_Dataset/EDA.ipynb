{
 "cells": [
  {
   "cell_type": "code",
   "source": "%pip install pandas\n%pip install tensorflow",
   "metadata": {
    "cell_id": "dac7528a4ac64935997fdf2d37aeb3ed",
    "tags": [],
    "deepnote_to_be_reexecuted": false,
    "source_hash": "7613897a",
    "execution_start": 1664628768589,
    "execution_millis": 16600,
    "deepnote_cell_type": "code",
    "deepnote_cell_height": 714
   },
   "outputs": [
    {
     "name": "stdout",
     "text": "Requirement already satisfied: pandas in /shared-libs/python3.9/py/lib/python3.9/site-packages (1.2.5)\nRequirement already satisfied: python-dateutil>=2.7.3 in /shared-libs/python3.9/py-core/lib/python3.9/site-packages (from pandas) (2.8.2)\nRequirement already satisfied: numpy>=1.16.5 in /shared-libs/python3.9/py/lib/python3.9/site-packages (from pandas) (1.23.3)\nRequirement already satisfied: pytz>=2017.3 in /shared-libs/python3.9/py/lib/python3.9/site-packages (from pandas) (2022.2.1)\nRequirement already satisfied: six>=1.5 in /shared-libs/python3.9/py-core/lib/python3.9/site-packages (from python-dateutil>=2.7.3->pandas) (1.16.0)\n\u001b[33mWARNING: Running pip as the 'root' user can result in broken permissions and conflicting behaviour with the system package manager. It is recommended to use a virtual environment instead: https://pip.pypa.io/warnings/venv\u001b[0m\u001b[33m\n\u001b[0m\u001b[33mWARNING: You are using pip version 22.0.4; however, version 22.2.2 is available.\nYou should consider upgrading via the '/usr/local/bin/python -m pip install --upgrade pip' command.\u001b[0m\u001b[33m\n\u001b[0mNote: you may need to restart the kernel to use updated packages.\nRequirement already satisfied: tensorflow in /shared-libs/python3.9/py/lib/python3.9/site-packages (2.10.0)\nRequirement already satisfied: keras-preprocessing>=1.1.1 in /shared-libs/python3.9/py/lib/python3.9/site-packages (from tensorflow) (1.1.2)\nRequirement already satisfied: flatbuffers>=2.0 in /shared-libs/python3.9/py/lib/python3.9/site-packages (from tensorflow) (2.0.7)\nRequirement already satisfied: absl-py>=1.0.0 in /shared-libs/python3.9/py/lib/python3.9/site-packages (from tensorflow) (1.2.0)\nRequirement already satisfied: tensorflow-estimator<2.11,>=2.10.0 in /shared-libs/python3.9/py/lib/python3.9/site-packages (from tensorflow) (2.10.0)\nRequirement already satisfied: h5py>=2.9.0 in /shared-libs/python3.9/py/lib/python3.9/site-packages (from tensorflow) (3.7.0)\nRequirement already satisfied: tensorflow-io-gcs-filesystem>=0.23.1 in /shared-libs/python3.9/py/lib/python3.9/site-packages (from tensorflow) (0.27.0)\nRequirement already satisfied: tensorboard<2.11,>=2.10 in /shared-libs/python3.9/py/lib/python3.9/site-packages (from tensorflow) (2.10.0)\nRequirement already satisfied: packaging in /shared-libs/python3.9/py-core/lib/python3.9/site-packages (from tensorflow) (21.3)\nRequirement already satisfied: typing-extensions>=3.6.6 in /shared-libs/python3.9/py/lib/python3.9/site-packages (from tensorflow) (4.3.0)\nRequirement already satisfied: keras<2.11,>=2.10.0 in /shared-libs/python3.9/py/lib/python3.9/site-packages (from tensorflow) (2.10.0)\nRequirement already satisfied: wrapt>=1.11.0 in /shared-libs/python3.9/py/lib/python3.9/site-packages (from tensorflow) (1.14.1)\nRequirement already satisfied: six>=1.12.0 in /shared-libs/python3.9/py-core/lib/python3.9/site-packages (from tensorflow) (1.16.0)\nRequirement already satisfied: setuptools in /root/venv/lib/python3.9/site-packages (from tensorflow) (58.1.0)\nRequirement already satisfied: gast<=0.4.0,>=0.2.1 in /shared-libs/python3.9/py/lib/python3.9/site-packages (from tensorflow) (0.4.0)\nRequirement already satisfied: protobuf<3.20,>=3.9.2 in /shared-libs/python3.9/py/lib/python3.9/site-packages (from tensorflow) (3.19.4)\nRequirement already satisfied: termcolor>=1.1.0 in /shared-libs/python3.9/py/lib/python3.9/site-packages (from tensorflow) (2.0.1)\nRequirement already satisfied: numpy>=1.20 in /shared-libs/python3.9/py/lib/python3.9/site-packages (from tensorflow) (1.23.3)\nRequirement already satisfied: opt-einsum>=2.3.2 in /shared-libs/python3.9/py/lib/python3.9/site-packages (from tensorflow) (3.3.0)\nRequirement already satisfied: astunparse>=1.6.0 in /shared-libs/python3.9/py/lib/python3.9/site-packages (from tensorflow) (1.6.3)\nRequirement already satisfied: google-pasta>=0.1.1 in /shared-libs/python3.9/py/lib/python3.9/site-packages (from tensorflow) (0.2.0)\nRequirement already satisfied: grpcio<2.0,>=1.24.3 in /shared-libs/python3.9/py/lib/python3.9/site-packages (from tensorflow) (1.48.1)\nRequirement already satisfied: libclang>=13.0.0 in /shared-libs/python3.9/py/lib/python3.9/site-packages (from tensorflow) (14.0.6)\nRequirement already satisfied: wheel<1.0,>=0.23.0 in /usr/local/lib/python3.9/site-packages (from astunparse>=1.6.0->tensorflow) (0.37.1)\nRequirement already satisfied: markdown>=2.6.8 in /shared-libs/python3.9/py/lib/python3.9/site-packages (from tensorboard<2.11,>=2.10->tensorflow) (3.4.1)\nRequirement already satisfied: tensorboard-data-server<0.7.0,>=0.6.0 in /shared-libs/python3.9/py/lib/python3.9/site-packages (from tensorboard<2.11,>=2.10->tensorflow) (0.6.1)\nRequirement already satisfied: google-auth-oauthlib<0.5,>=0.4.1 in /shared-libs/python3.9/py/lib/python3.9/site-packages (from tensorboard<2.11,>=2.10->tensorflow) (0.4.6)\nRequirement already satisfied: werkzeug>=1.0.1 in /shared-libs/python3.9/py/lib/python3.9/site-packages (from tensorboard<2.11,>=2.10->tensorflow) (2.2.2)\nRequirement already satisfied: requests<3,>=2.21.0 in /shared-libs/python3.9/py/lib/python3.9/site-packages (from tensorboard<2.11,>=2.10->tensorflow) (2.28.1)\nRequirement already satisfied: google-auth<3,>=1.6.3 in /shared-libs/python3.9/py/lib/python3.9/site-packages (from tensorboard<2.11,>=2.10->tensorflow) (2.11.0)\nRequirement already satisfied: tensorboard-plugin-wit>=1.6.0 in /shared-libs/python3.9/py/lib/python3.9/site-packages (from tensorboard<2.11,>=2.10->tensorflow) (1.8.1)\nRequirement already satisfied: pyparsing!=3.0.5,>=2.0.2 in /shared-libs/python3.9/py-core/lib/python3.9/site-packages (from packaging->tensorflow) (3.0.9)\nRequirement already satisfied: rsa<5,>=3.1.4 in /shared-libs/python3.9/py/lib/python3.9/site-packages (from google-auth<3,>=1.6.3->tensorboard<2.11,>=2.10->tensorflow) (4.9)\nRequirement already satisfied: cachetools<6.0,>=2.0.0 in /shared-libs/python3.9/py/lib/python3.9/site-packages (from google-auth<3,>=1.6.3->tensorboard<2.11,>=2.10->tensorflow) (5.2.0)\nRequirement already satisfied: pyasn1-modules>=0.2.1 in /shared-libs/python3.9/py/lib/python3.9/site-packages (from google-auth<3,>=1.6.3->tensorboard<2.11,>=2.10->tensorflow) (0.2.8)\nRequirement already satisfied: requests-oauthlib>=0.7.0 in /shared-libs/python3.9/py/lib/python3.9/site-packages (from google-auth-oauthlib<0.5,>=0.4.1->tensorboard<2.11,>=2.10->tensorflow) (1.3.1)\nRequirement already satisfied: importlib-metadata>=4.4 in /shared-libs/python3.9/py/lib/python3.9/site-packages (from markdown>=2.6.8->tensorboard<2.11,>=2.10->tensorflow) (4.12.0)\nRequirement already satisfied: charset-normalizer<3,>=2 in /shared-libs/python3.9/py-core/lib/python3.9/site-packages (from requests<3,>=2.21.0->tensorboard<2.11,>=2.10->tensorflow) (2.1.1)\nRequirement already satisfied: idna<4,>=2.5 in /shared-libs/python3.9/py-core/lib/python3.9/site-packages (from requests<3,>=2.21.0->tensorboard<2.11,>=2.10->tensorflow) (3.3)\nRequirement already satisfied: urllib3<1.27,>=1.21.1 in /shared-libs/python3.9/py/lib/python3.9/site-packages (from requests<3,>=2.21.0->tensorboard<2.11,>=2.10->tensorflow) (1.26.12)\nRequirement already satisfied: certifi>=2017.4.17 in /shared-libs/python3.9/py/lib/python3.9/site-packages (from requests<3,>=2.21.0->tensorboard<2.11,>=2.10->tensorflow) (2022.6.15.1)\nCollecting MarkupSafe>=2.1.1\n  Downloading MarkupSafe-2.1.1-cp39-cp39-manylinux_2_17_x86_64.manylinux2014_x86_64.whl (25 kB)\nRequirement already satisfied: zipp>=0.5 in /shared-libs/python3.9/py/lib/python3.9/site-packages (from importlib-metadata>=4.4->markdown>=2.6.8->tensorboard<2.11,>=2.10->tensorflow) (3.8.1)\nRequirement already satisfied: pyasn1<0.5.0,>=0.4.6 in /shared-libs/python3.9/py/lib/python3.9/site-packages (from pyasn1-modules>=0.2.1->google-auth<3,>=1.6.3->tensorboard<2.11,>=2.10->tensorflow) (0.4.8)\nRequirement already satisfied: oauthlib>=3.0.0 in /shared-libs/python3.9/py/lib/python3.9/site-packages (from requests-oauthlib>=0.7.0->google-auth-oauthlib<0.5,>=0.4.1->tensorboard<2.11,>=2.10->tensorflow) (3.2.1)\nInstalling collected packages: MarkupSafe\n  Attempting uninstall: MarkupSafe\n    Found existing installation: MarkupSafe 2.0.1\n    Uninstalling MarkupSafe-2.0.1:\n\u001b[31mERROR: Could not install packages due to an OSError: [Errno 30] Read-only file system: 'RECORD'\n\u001b[0m\u001b[31m\n\u001b[0m\u001b[33mWARNING: You are using pip version 22.0.4; however, version 22.2.2 is available.\nYou should consider upgrading via the '/usr/local/bin/python -m pip install --upgrade pip' command.\u001b[0m\u001b[33m\n\u001b[0mNote: you may need to restart the kernel to use updated packages.\n",
     "output_type": "stream"
    }
   ],
   "execution_count": null
  },
  {
   "cell_type": "code",
   "source": "import pandas as pd\nimport numpy as np\nimport tensorflow as tf",
   "metadata": {
    "tags": [],
    "cell_id": "d14e5584-d09f-4ccf-93d2-88b998a7bf84",
    "deepnote_to_be_reexecuted": false,
    "source_hash": "5717d12c",
    "execution_start": 1664628784367,
    "execution_millis": 7940,
    "deepnote_cell_type": "code",
    "deepnote_cell_height": 307
   },
   "outputs": [
    {
     "name": "stderr",
     "text": "2022-10-01 12:53:04.385429: I tensorflow/core/platform/cpu_feature_guard.cc:193] This TensorFlow binary is optimized with oneAPI Deep Neural Network Library (oneDNN) to use the following CPU instructions in performance-critical operations:  AVX2 AVX512F AVX512_VNNI FMA\nTo enable them in other operations, rebuild TensorFlow with the appropriate compiler flags.\n2022-10-01 12:53:04.675405: I tensorflow/core/util/util.cc:169] oneDNN custom operations are on. You may see slightly different numerical results due to floating-point round-off errors from different computation orders. To turn them off, set the environment variable `TF_ENABLE_ONEDNN_OPTS=0`.\n2022-10-01 12:53:04.732876: W tensorflow/stream_executor/platform/default/dso_loader.cc:64] Could not load dynamic library 'libcudart.so.11.0'; dlerror: libcudart.so.11.0: cannot open shared object file: No such file or directory\n2022-10-01 12:53:04.732907: I tensorflow/stream_executor/cuda/cudart_stub.cc:29] Ignore above cudart dlerror if you do not have a GPU set up on your machine.\n2022-10-01 12:53:04.767346: E tensorflow/stream_executor/cuda/cuda_blas.cc:2981] Unable to register cuBLAS factory: Attempting to register factory for plugin cuBLAS when one has already been registered\n2022-10-01 12:53:07.739261: W tensorflow/stream_executor/platform/default/dso_loader.cc:64] Could not load dynamic library 'libnvinfer.so.7'; dlerror: libnvinfer.so.7: cannot open shared object file: No such file or directory\n2022-10-01 12:53:07.739378: W tensorflow/stream_executor/platform/default/dso_loader.cc:64] Could not load dynamic library 'libnvinfer_plugin.so.7'; dlerror: libnvinfer_plugin.so.7: cannot open shared object file: No such file or directory\n2022-10-01 12:53:07.739390: W tensorflow/compiler/tf2tensorrt/utils/py_utils.cc:38] TF-TRT Warning: Cannot dlopen some TensorRT libraries. If you would like to use Nvidia GPU with TensorRT, please make sure the missing libraries mentioned above are installed properly.\n",
     "output_type": "stream"
    }
   ],
   "execution_count": null
  },
  {
   "cell_type": "code",
   "source": "modelWithScore = pd.read_csv('modellMitScore.csv')",
   "metadata": {
    "cell_id": "71b352cdbac34db3b46b14389af09a55",
    "tags": [],
    "deepnote_to_be_reexecuted": false,
    "source_hash": "ac5ebf3f",
    "execution_start": 1664628792339,
    "execution_millis": 10,
    "deepnote_cell_type": "code",
    "deepnote_cell_height": 76
   },
   "outputs": [],
   "execution_count": null
  },
  {
   "cell_type": "markdown",
   "source": "### Beschreibung der Tabelle\n| Spalte | Beschreibung |\n| :------ | ------: |\n| barvermoegen | Vermögen in Bar in CHF |\n| aktienvermoegen | Vermögen in Aktien in CHF |\n| saeule3a | Kontostand 3a Säule in CHF |\n| lebensversicherung | Kontostand Lebensversicherung in CHF |\n| pensionskasse | Kontostand Pensionskasse in CHF |\n| totalVermoegen | Summierung des Guthabens |\n| lohn | Monatslohn in CHF |\n| lohnJahr | Jahreslohn in CHF |\n| bonus | Jahresbonus in CHF |\n| zulagen | Monatszulagen in CHF |\n| totalLohn | Totaler Jahreslohn in CHF |\n| schaetzungObjekt | Objektkosten in CHF |\n| anzahlung | Score der Anzahlung in % |\n| tragbarkeit | Score der Tragbarkeit in % |\n| score | Totaler Score in % |\n| age | Alter der Person in Jahren |\n| usCitizen | Bedingung: US Bürger |\n| propertyType | Objekttyp |",
   "metadata": {
    "cell_id": "9fba2864faef47fc9e97c522ce7cdc43",
    "tags": [],
    "deepnote_cell_type": "markdown",
    "deepnote_cell_height": 534
   }
  },
  {
   "cell_type": "code",
   "source": "modelWithScore.head(1000)\n",
   "metadata": {
    "cell_id": "d18955e76267405984ee79024a014d97",
    "tags": [],
    "deepnote_to_be_reexecuted": false,
    "source_hash": "d8bd6328",
    "execution_start": 1664628792355,
    "execution_millis": 190,
    "deepnote_table_state": {
     "pageSize": 10,
     "pageIndex": 3,
     "filters": [],
     "sortBy": []
    },
    "deepnote_table_loading": false,
    "deepnote_cell_type": "code",
    "deepnote_cell_height": 613
   },
   "outputs": [
    {
     "output_type": "execute_result",
     "execution_count": 4,
     "data": {
      "application/vnd.deepnote.dataframe.v3+json": {
       "column_count": 15,
       "row_count": 1000,
       "columns": [
        {
         "name": "barvermoegen",
         "dtype": "float64",
         "stats": {
          "unique_count": 1000,
          "nan_count": 0,
          "min": "3.944353786",
          "max": "395285.7517",
          "histogram": [
           {
            "bin_start": 3.944353786,
            "bin_end": 39532.1250884074,
            "count": 494
           },
           {
            "bin_start": 39532.1250884074,
            "bin_end": 79060.30582302882,
            "count": 205
           },
           {
            "bin_start": 79060.30582302882,
            "bin_end": 118588.48655765022,
            "count": 131
           },
           {
            "bin_start": 118588.48655765022,
            "bin_end": 158116.66729227162,
            "count": 77
           },
           {
            "bin_start": 158116.66729227162,
            "bin_end": 197644.84802689304,
            "count": 43
           },
           {
            "bin_start": 197644.84802689304,
            "bin_end": 237173.02876151443,
            "count": 19
           },
           {
            "bin_start": 237173.02876151443,
            "bin_end": 276701.2094961358,
            "count": 13
           },
           {
            "bin_start": 276701.2094961358,
            "bin_end": 316229.39023075724,
            "count": 12
           },
           {
            "bin_start": 316229.39023075724,
            "bin_end": 355757.57096537866,
            "count": 3
           },
           {
            "bin_start": 355757.57096537866,
            "bin_end": 395285.7517,
            "count": 3
           }
          ]
         }
        },
        {
         "name": "aktienvermoegen",
         "dtype": "float64",
         "stats": {
          "unique_count": 1000,
          "nan_count": 0,
          "min": "0.846043119",
          "max": "53200.20762",
          "histogram": [
           {
            "bin_start": 0.846043119,
            "bin_end": 5320.7822008071,
            "count": 596
           },
           {
            "bin_start": 5320.7822008071,
            "bin_end": 10640.7183584952,
            "count": 224
           },
           {
            "bin_start": 10640.7183584952,
            "bin_end": 15960.6545161833,
            "count": 96
           },
           {
            "bin_start": 15960.6545161833,
            "bin_end": 21280.5906738714,
            "count": 52
           },
           {
            "bin_start": 21280.5906738714,
            "bin_end": 26600.5268315595,
            "count": 19
           },
           {
            "bin_start": 26600.5268315595,
            "bin_end": 31920.4629892476,
            "count": 8
           },
           {
            "bin_start": 31920.4629892476,
            "bin_end": 37240.399146935706,
            "count": 3
           },
           {
            "bin_start": 37240.399146935706,
            "bin_end": 42560.335304623804,
            "count": 1
           },
           {
            "bin_start": 42560.335304623804,
            "bin_end": 47880.2714623119,
            "count": 0
           },
           {
            "bin_start": 47880.2714623119,
            "bin_end": 53200.20762,
            "count": 1
           }
          ]
         }
        },
        {
         "name": "saeule3a",
         "dtype": "int64",
         "stats": {
          "unique_count": 6,
          "nan_count": 0,
          "min": "0",
          "max": "130000",
          "histogram": [
           {
            "bin_start": 0,
            "bin_end": 13000,
            "count": 60
           },
           {
            "bin_start": 13000,
            "bin_end": 26000,
            "count": 146
           },
           {
            "bin_start": 26000,
            "bin_end": 39000,
            "count": 0
           },
           {
            "bin_start": 39000,
            "bin_end": 52000,
            "count": 170
           },
           {
            "bin_start": 52000,
            "bin_end": 65000,
            "count": 0
           },
           {
            "bin_start": 65000,
            "bin_end": 78000,
            "count": 0
           },
           {
            "bin_start": 78000,
            "bin_end": 91000,
            "count": 148
           },
           {
            "bin_start": 91000,
            "bin_end": 104000,
            "count": 169
           },
           {
            "bin_start": 104000,
            "bin_end": 117000,
            "count": 0
           },
           {
            "bin_start": 117000,
            "bin_end": 130000,
            "count": 307
           }
          ]
         }
        },
        {
         "name": "lebensversicherung",
         "dtype": "int64",
         "stats": {
          "unique_count": 65,
          "nan_count": 0,
          "min": "0",
          "max": "90000",
          "histogram": [
           {
            "bin_start": 0,
            "bin_end": 9000,
            "count": 725
           },
           {
            "bin_start": 9000,
            "bin_end": 18000,
            "count": 0
           },
           {
            "bin_start": 18000,
            "bin_end": 27000,
            "count": 8
           },
           {
            "bin_start": 27000,
            "bin_end": 36000,
            "count": 36
           },
           {
            "bin_start": 36000,
            "bin_end": 45000,
            "count": 40
           },
           {
            "bin_start": 45000,
            "bin_end": 54000,
            "count": 41
           },
           {
            "bin_start": 54000,
            "bin_end": 63000,
            "count": 36
           },
           {
            "bin_start": 63000,
            "bin_end": 72000,
            "count": 44
           },
           {
            "bin_start": 72000,
            "bin_end": 81000,
            "count": 34
           },
           {
            "bin_start": 81000,
            "bin_end": 90000,
            "count": 36
           }
          ]
         }
        },
        {
         "name": "pensionskasse",
         "dtype": "float64",
         "stats": {
          "unique_count": 600,
          "nan_count": 0,
          "min": "0.0",
          "max": "1068463.462",
          "histogram": [
           {
            "bin_start": 0,
            "bin_end": 106846.3462,
            "count": 863
           },
           {
            "bin_start": 106846.3462,
            "bin_end": 213692.6924,
            "count": 59
           },
           {
            "bin_start": 213692.6924,
            "bin_end": 320539.03859999997,
            "count": 23
           },
           {
            "bin_start": 320539.03859999997,
            "bin_end": 427385.3848,
            "count": 15
           },
           {
            "bin_start": 427385.3848,
            "bin_end": 534231.731,
            "count": 18
           },
           {
            "bin_start": 534231.731,
            "bin_end": 641078.0771999999,
            "count": 9
           },
           {
            "bin_start": 641078.0771999999,
            "bin_end": 747924.4234,
            "count": 4
           },
           {
            "bin_start": 747924.4234,
            "bin_end": 854770.7696,
            "count": 6
           },
           {
            "bin_start": 854770.7696,
            "bin_end": 961617.1158,
            "count": 1
           },
           {
            "bin_start": 961617.1158,
            "bin_end": 1068463.462,
            "count": 2
           }
          ]
         }
        },
        {
         "name": "totalVermoegen",
         "dtype": "float64",
         "stats": {
          "unique_count": 1000,
          "nan_count": 0,
          "min": "2981.444742",
          "max": "1439245.07",
          "histogram": [
           {
            "bin_start": 2981.444742,
            "bin_end": 146607.8072678,
            "count": 366
           },
           {
            "bin_start": 146607.8072678,
            "bin_end": 290234.16979360004,
            "count": 428
           },
           {
            "bin_start": 290234.16979360004,
            "bin_end": 433860.53231940005,
            "count": 118
           },
           {
            "bin_start": 433860.53231940005,
            "bin_end": 577486.8948452,
            "count": 39
           },
           {
            "bin_start": 577486.8948452,
            "bin_end": 721113.257371,
            "count": 20
           },
           {
            "bin_start": 721113.257371,
            "bin_end": 864739.6198968,
            "count": 12
           },
           {
            "bin_start": 864739.6198968,
            "bin_end": 1008365.9824226,
            "count": 10
           },
           {
            "bin_start": 1008365.9824226,
            "bin_end": 1151992.3449484,
            "count": 2
           },
           {
            "bin_start": 1151992.3449484,
            "bin_end": 1295618.7074742,
            "count": 4
           },
           {
            "bin_start": 1295618.7074742,
            "bin_end": 1439245.07,
            "count": 1
           }
          ]
         }
        },
        {
         "name": "lohn",
         "dtype": "int64",
         "stats": {
          "unique_count": 5,
          "nan_count": 0,
          "min": "3200",
          "max": "13000",
          "histogram": [
           {
            "bin_start": 3200,
            "bin_end": 4180,
            "count": 68
           },
           {
            "bin_start": 4180,
            "bin_end": 5160,
            "count": 0
           },
           {
            "bin_start": 5160,
            "bin_end": 6140,
            "count": 368
           },
           {
            "bin_start": 6140,
            "bin_end": 7120,
            "count": 0
           },
           {
            "bin_start": 7120,
            "bin_end": 8100,
            "count": 31
           },
           {
            "bin_start": 8100,
            "bin_end": 9080,
            "count": 0
           },
           {
            "bin_start": 9080,
            "bin_end": 10060,
            "count": 383
           },
           {
            "bin_start": 10060,
            "bin_end": 11040,
            "count": 0
           },
           {
            "bin_start": 11040,
            "bin_end": 12020,
            "count": 0
           },
           {
            "bin_start": 12020,
            "bin_end": 13000,
            "count": 150
           }
          ]
         }
        },
        {
         "name": "lohnJahr",
         "dtype": "int64",
         "stats": {
          "unique_count": 5,
          "nan_count": 0,
          "min": "38400",
          "max": "156000",
          "histogram": [
           {
            "bin_start": 38400,
            "bin_end": 50160,
            "count": 68
           },
           {
            "bin_start": 50160,
            "bin_end": 61920,
            "count": 0
           },
           {
            "bin_start": 61920,
            "bin_end": 73680,
            "count": 368
           },
           {
            "bin_start": 73680,
            "bin_end": 85440,
            "count": 0
           },
           {
            "bin_start": 85440,
            "bin_end": 97200,
            "count": 31
           },
           {
            "bin_start": 97200,
            "bin_end": 108960,
            "count": 0
           },
           {
            "bin_start": 108960,
            "bin_end": 120720,
            "count": 383
           },
           {
            "bin_start": 120720,
            "bin_end": 132480,
            "count": 0
           },
           {
            "bin_start": 132480,
            "bin_end": 144240,
            "count": 0
           },
           {
            "bin_start": 144240,
            "bin_end": 156000,
            "count": 150
           }
          ]
         }
        },
        {
         "name": "bonus",
         "dtype": "float64",
         "stats": {
          "unique_count": 182,
          "nan_count": 0,
          "min": "0.0",
          "max": "29469.37939",
          "histogram": [
           {
            "bin_start": 0,
            "bin_end": 2946.937939,
            "count": 835
           },
           {
            "bin_start": 2946.937939,
            "bin_end": 5893.875878,
            "count": 26
           },
           {
            "bin_start": 5893.875878,
            "bin_end": 8840.813817,
            "count": 15
           },
           {
            "bin_start": 8840.813817,
            "bin_end": 11787.751756,
            "count": 18
           },
           {
            "bin_start": 11787.751756,
            "bin_end": 14734.689695,
            "count": 17
           },
           {
            "bin_start": 14734.689695,
            "bin_end": 17681.627634,
            "count": 19
           },
           {
            "bin_start": 17681.627634,
            "bin_end": 20628.565573,
            "count": 22
           },
           {
            "bin_start": 20628.565573,
            "bin_end": 23575.503512,
            "count": 9
           },
           {
            "bin_start": 23575.503512,
            "bin_end": 26522.441451,
            "count": 18
           },
           {
            "bin_start": 26522.441451,
            "bin_end": 29469.37939,
            "count": 21
           }
          ]
         }
        },
        {
         "name": "zulagen",
         "dtype": "int64",
         "stats": {
          "unique_count": 3,
          "nan_count": 0,
          "min": "0",
          "max": "840",
          "histogram": [
           {
            "bin_start": 0,
            "bin_end": 84,
            "count": 671
           },
           {
            "bin_start": 84,
            "bin_end": 168,
            "count": 0
           },
           {
            "bin_start": 168,
            "bin_end": 252,
            "count": 0
           },
           {
            "bin_start": 252,
            "bin_end": 336,
            "count": 0
           },
           {
            "bin_start": 336,
            "bin_end": 420,
            "count": 0
           },
           {
            "bin_start": 420,
            "bin_end": 504,
            "count": 68
           },
           {
            "bin_start": 504,
            "bin_end": 588,
            "count": 0
           },
           {
            "bin_start": 588,
            "bin_end": 672,
            "count": 0
           },
           {
            "bin_start": 672,
            "bin_end": 756,
            "count": 0
           },
           {
            "bin_start": 756,
            "bin_end": 840,
            "count": 261
           }
          ]
         }
        },
        {
         "name": "totalLohn",
         "dtype": "float64",
         "stats": {
          "unique_count": 185,
          "nan_count": 0,
          "min": "38880.0",
          "max": "185469.3794",
          "histogram": [
           {
            "bin_start": 38880,
            "bin_end": 53538.93794,
            "count": 68
           },
           {
            "bin_start": 53538.93794,
            "bin_end": 68197.87588,
            "count": 368
           },
           {
            "bin_start": 68197.87588,
            "bin_end": 82856.81382,
            "count": 0
           },
           {
            "bin_start": 82856.81382,
            "bin_end": 97515.75176,
            "count": 1
           },
           {
            "bin_start": 97515.75176,
            "bin_end": 112174.6897,
            "count": 401
           },
           {
            "bin_start": 112174.6897,
            "bin_end": 126833.62763999999,
            "count": 12
           },
           {
            "bin_start": 126833.62763999999,
            "bin_end": 141492.56558,
            "count": 0
           },
           {
            "bin_start": 141492.56558,
            "bin_end": 156151.50352,
            "count": 0
           },
           {
            "bin_start": 156151.50352,
            "bin_end": 170810.44146,
            "count": 74
           },
           {
            "bin_start": 170810.44146,
            "bin_end": 185469.3794,
            "count": 76
           }
          ]
         }
        },
        {
         "name": "schaetzungObjekt",
         "dtype": "float64",
         "stats": {
          "unique_count": 1000,
          "nan_count": 0,
          "min": "2831.958338",
          "max": "1999139.412",
          "histogram": [
           {
            "bin_start": 2831.958338,
            "bin_end": 202462.7037042,
            "count": 89
           },
           {
            "bin_start": 202462.7037042,
            "bin_end": 402093.4490704,
            "count": 107
           },
           {
            "bin_start": 402093.4490704,
            "bin_end": 601724.1944366,
            "count": 111
           },
           {
            "bin_start": 601724.1944366,
            "bin_end": 801354.9398028,
            "count": 96
           },
           {
            "bin_start": 801354.9398028,
            "bin_end": 1000985.685169,
            "count": 102
           },
           {
            "bin_start": 1000985.685169,
            "bin_end": 1200616.4305352,
            "count": 95
           },
           {
            "bin_start": 1200616.4305352,
            "bin_end": 1400247.1759014002,
            "count": 101
           },
           {
            "bin_start": 1400247.1759014002,
            "bin_end": 1599877.9212676,
            "count": 97
           },
           {
            "bin_start": 1599877.9212676,
            "bin_end": 1799508.6666338,
            "count": 99
           },
           {
            "bin_start": 1799508.6666338,
            "bin_end": 1999139.412,
            "count": 103
           }
          ]
         }
        },
        {
         "name": "anzahlung",
         "dtype": "int64",
         "stats": {
          "unique_count": 5,
          "nan_count": 0,
          "min": "0",
          "max": "100",
          "histogram": [
           {
            "bin_start": 0,
            "bin_end": 10,
            "count": 277
           },
           {
            "bin_start": 10,
            "bin_end": 20,
            "count": 0
           },
           {
            "bin_start": 20,
            "bin_end": 30,
            "count": 0
           },
           {
            "bin_start": 30,
            "bin_end": 40,
            "count": 0
           },
           {
            "bin_start": 40,
            "bin_end": 50,
            "count": 0
           },
           {
            "bin_start": 50,
            "bin_end": 60,
            "count": 0
           },
           {
            "bin_start": 60,
            "bin_end": 70,
            "count": 232
           },
           {
            "bin_start": 70,
            "bin_end": 80,
            "count": 0
           },
           {
            "bin_start": 80,
            "bin_end": 90,
            "count": 144
           },
           {
            "bin_start": 90,
            "bin_end": 100,
            "count": 347
           }
          ]
         }
        },
        {
         "name": "tragbarkeit",
         "dtype": "int64",
         "stats": {
          "unique_count": 8,
          "nan_count": 0,
          "min": "0",
          "max": "100",
          "histogram": [
           {
            "bin_start": 0,
            "bin_end": 10,
            "count": 22
           },
           {
            "bin_start": 10,
            "bin_end": 20,
            "count": 232
           },
           {
            "bin_start": 20,
            "bin_end": 30,
            "count": 225
           },
           {
            "bin_start": 30,
            "bin_end": 40,
            "count": 0
           },
           {
            "bin_start": 40,
            "bin_end": 50,
            "count": 115
           },
           {
            "bin_start": 50,
            "bin_end": 60,
            "count": 74
           },
           {
            "bin_start": 60,
            "bin_end": 70,
            "count": 0
           },
           {
            "bin_start": 70,
            "bin_end": 80,
            "count": 47
           },
           {
            "bin_start": 80,
            "bin_end": 90,
            "count": 50
           },
           {
            "bin_start": 90,
            "bin_end": 100,
            "count": 235
           }
          ]
         }
        },
        {
         "name": "score",
         "dtype": "int64",
         "stats": {
          "unique_count": 20,
          "nan_count": 0,
          "min": "0",
          "max": "100",
          "histogram": [
           {
            "bin_start": 0,
            "bin_end": 10,
            "count": 85
           },
           {
            "bin_start": 10,
            "bin_end": 20,
            "count": 103
           },
           {
            "bin_start": 20,
            "bin_end": 30,
            "count": 64
           },
           {
            "bin_start": 30,
            "bin_end": 40,
            "count": 149
           },
           {
            "bin_start": 40,
            "bin_end": 50,
            "count": 86
           },
           {
            "bin_start": 50,
            "bin_end": 60,
            "count": 99
           },
           {
            "bin_start": 60,
            "bin_end": 70,
            "count": 64
           },
           {
            "bin_start": 70,
            "bin_end": 80,
            "count": 61
           },
           {
            "bin_start": 80,
            "bin_end": 90,
            "count": 42
           },
           {
            "bin_start": 90,
            "bin_end": 100,
            "count": 247
           }
          ]
         }
        },
        {
         "name": "_deepnote_index_column",
         "dtype": "int64"
        }
       ],
       "rows": [
        {
         "barvermoegen": "248829.8181",
         "aktienvermoegen": "4708.246854",
         "saeule3a": "0",
         "lebensversicherung": "0",
         "pensionskasse": "36989.03583",
         "totalVermoegen": "290527.1008",
         "lohn": "3200",
         "lohnJahr": "38400",
         "bonus": "0.0",
         "zulagen": "480",
         "totalLohn": "38880.0",
         "schaetzungObjekt": "1535438.319",
         "anzahlung": "0",
         "tragbarkeit": "0",
         "score": "0",
         "_deepnote_index_column": "30"
        },
        {
         "barvermoegen": "132439.4414",
         "aktienvermoegen": "15827.23546",
         "saeule3a": "80000",
         "lebensversicherung": "0",
         "pensionskasse": "581423.5919",
         "totalVermoegen": "809690.2688",
         "lohn": "9100",
         "lohnJahr": "109200",
         "bonus": "0.0",
         "zulagen": "0",
         "totalLohn": "109200.0",
         "schaetzungObjekt": "524022.281",
         "anzahlung": "100",
         "tragbarkeit": "80",
         "score": "90",
         "_deepnote_index_column": "31"
        },
        {
         "barvermoegen": "31910.04471",
         "aktienvermoegen": "25724.10584",
         "saeule3a": "130000",
         "lebensversicherung": "0",
         "pensionskasse": "0.0",
         "totalVermoegen": "187634.1505",
         "lohn": "13000",
         "lohnJahr": "156000",
         "bonus": "11917.02678",
         "zulagen": "0",
         "totalLohn": "167917.0268",
         "schaetzungObjekt": "1548118.885",
         "anzahlung": "0",
         "tragbarkeit": "40",
         "score": "20",
         "_deepnote_index_column": "32"
        },
        {
         "barvermoegen": "127767.3648",
         "aktienvermoegen": "16036.05567",
         "saeule3a": "130000",
         "lebensversicherung": "78000",
         "pensionskasse": "0.0",
         "totalVermoegen": "351803.4205",
         "lohn": "9100",
         "lohnJahr": "109200",
         "bonus": "0.0",
         "zulagen": "0",
         "totalLohn": "109200.0",
         "schaetzungObjekt": "1815986.557",
         "anzahlung": "0",
         "tragbarkeit": "20",
         "score": "10",
         "_deepnote_index_column": "33"
        },
        {
         "barvermoegen": "12494.78439",
         "aktienvermoegen": "27105.06481",
         "saeule3a": "130000",
         "lebensversicherung": "0",
         "pensionskasse": "0.0",
         "totalVermoegen": "169599.8492",
         "lohn": "9100",
         "lohnJahr": "109200",
         "bonus": "0.0",
         "zulagen": "0",
         "totalLohn": "109200.0",
         "schaetzungObjekt": "1688374.043",
         "anzahlung": "0",
         "tragbarkeit": "20",
         "score": "10",
         "_deepnote_index_column": "34"
        },
        {
         "barvermoegen": "176005.2101",
         "aktienvermoegen": "10464.80292",
         "saeule3a": "40000",
         "lebensversicherung": "0",
         "pensionskasse": "140326.6197",
         "totalVermoegen": "366796.6327",
         "lohn": "9100",
         "lohnJahr": "109200",
         "bonus": "0.0",
         "zulagen": "0",
         "totalLohn": "109200.0",
         "schaetzungObjekt": "106047.7118",
         "anzahlung": "100",
         "tragbarkeit": "100",
         "score": "100",
         "_deepnote_index_column": "35"
        },
        {
         "barvermoegen": "2324.277172",
         "aktienvermoegen": "27813.1147",
         "saeule3a": "0",
         "lebensversicherung": "25000",
         "pensionskasse": "28045.54242",
         "totalVermoegen": "83182.9343",
         "lohn": "8000",
         "lohnJahr": "96000",
         "bonus": "18431.23823",
         "zulagen": "0",
         "totalLohn": "114431.2382",
         "schaetzungObjekt": "69189.18903",
         "anzahlung": "100",
         "tragbarkeit": "100",
         "score": "100",
         "_deepnote_index_column": "36"
        },
        {
         "barvermoegen": "153050.4164",
         "aktienvermoegen": "12687.97747",
         "saeule3a": "130000",
         "lebensversicherung": "80000",
         "pensionskasse": "0.0",
         "totalVermoegen": "375738.3938",
         "lohn": "9100",
         "lohnJahr": "109200",
         "bonus": "0.0",
         "zulagen": "0",
         "totalLohn": "109200.0",
         "schaetzungObjekt": "226227.5919",
         "anzahlung": "100",
         "tragbarkeit": "100",
         "score": "100",
         "_deepnote_index_column": "37"
        },
        {
         "barvermoegen": "172179.5481",
         "aktienvermoegen": "10593.75653",
         "saeule3a": "130000",
         "lebensversicherung": "0",
         "pensionskasse": "0.0",
         "totalVermoegen": "312773.3046",
         "lohn": "5600",
         "lohnJahr": "67200",
         "bonus": "0.0",
         "zulagen": "840",
         "totalLohn": "68040.0",
         "schaetzungObjekt": "1170591.298",
         "anzahlung": "80",
         "tragbarkeit": "10",
         "score": "45",
         "_deepnote_index_column": "38"
        },
        {
         "barvermoegen": "102375.0713",
         "aktienvermoegen": "17223.45758",
         "saeule3a": "40000",
         "lebensversicherung": "0",
         "pensionskasse": "54921.9294",
         "totalVermoegen": "214520.4582",
         "lohn": "5600",
         "lohnJahr": "67200",
         "bonus": "0.0",
         "zulagen": "840",
         "totalLohn": "68040.0",
         "schaetzungObjekt": "932646.3981",
         "anzahlung": "80",
         "tragbarkeit": "20",
         "score": "50",
         "_deepnote_index_column": "39"
        }
       ]
      },
      "text/plain": "      barvermoegen  aktienvermoegen  saeule3a  lebensversicherung  \\\n0    154557.917600     28291.630990     80000                   0   \n1    338303.875600      7606.009156     40000               45000   \n2    395285.751700       910.833454     40000                   0   \n3    308723.736800      9147.939781     40000                   0   \n4    278315.539600     10403.239510    130000                   0   \n..             ...              ...       ...                 ...   \n995  284680.397500     12058.680370    130000               90000   \n996  216612.527800     19229.992810     20000                   0   \n997  334148.999000      7524.367007     80000               52000   \n998  360670.327300      5746.440486     40000                   0   \n999    9678.416234     53200.207620     40000                   0   \n\n     pensionskasse  totalVermoegen   lohn  lohnJahr        bonus  zulagen  \\\n0     109368.55690    3.722181e+05   5600     67200      0.00000      840   \n1     207181.98360    6.380919e+05   9100    109200      0.00000        0   \n2      80878.81724    5.170754e+05   5600     67200      0.00000      840   \n3     200101.56730    5.579732e+05  13000    156000  15759.38929        0   \n4          0.00000    4.187188e+05   9100    109200      0.00000        0   \n..             ...             ...    ...       ...          ...      ...   \n995        0.00000    5.167391e+05   9100    109200      0.00000        0   \n996    51114.05699    3.069566e+05   5600     67200      0.00000        0   \n997   818785.33820    1.292459e+06   9100    109200      0.00000        0   \n998    83626.94643    4.900437e+05   5600     67200      0.00000      840   \n999   108336.09850    2.112147e+05   5600     67200      0.00000      840   \n\n       totalLohn  schaetzungObjekt  anzahlung  tragbarkeit  score  \n0     68040.0000      5.079846e+05        100           50     75  \n1    109200.0000      7.126644e+05        100           70     85  \n2     68040.0000      1.593039e+06         90           10     50  \n3    171759.3893      1.088717e+06        100           50     75  \n4    109200.0000      5.413073e+05        100           80     90  \n..           ...               ...        ...          ...    ...  \n995  109200.0000      1.618881e+05        100          100    100  \n996   67200.0000      2.315122e+05        100          100    100  \n997  109200.0000      5.003248e+04        100          100    100  \n998   68040.0000      4.587502e+05        100           50     75  \n999   68040.0000      1.042591e+06         80           20     50  \n\n[1000 rows x 15 columns]",
      "text/html": "<div>\n<style scoped>\n    .dataframe tbody tr th:only-of-type {\n        vertical-align: middle;\n    }\n\n    .dataframe tbody tr th {\n        vertical-align: top;\n    }\n\n    .dataframe thead th {\n        text-align: right;\n    }\n</style>\n<table border=\"1\" class=\"dataframe\">\n  <thead>\n    <tr style=\"text-align: right;\">\n      <th></th>\n      <th>barvermoegen</th>\n      <th>aktienvermoegen</th>\n      <th>saeule3a</th>\n      <th>lebensversicherung</th>\n      <th>pensionskasse</th>\n      <th>totalVermoegen</th>\n      <th>lohn</th>\n      <th>lohnJahr</th>\n      <th>bonus</th>\n      <th>zulagen</th>\n      <th>totalLohn</th>\n      <th>schaetzungObjekt</th>\n      <th>anzahlung</th>\n      <th>tragbarkeit</th>\n      <th>score</th>\n    </tr>\n  </thead>\n  <tbody>\n    <tr>\n      <th>0</th>\n      <td>154557.917600</td>\n      <td>28291.630990</td>\n      <td>80000</td>\n      <td>0</td>\n      <td>109368.55690</td>\n      <td>3.722181e+05</td>\n      <td>5600</td>\n      <td>67200</td>\n      <td>0.00000</td>\n      <td>840</td>\n      <td>68040.0000</td>\n      <td>5.079846e+05</td>\n      <td>100</td>\n      <td>50</td>\n      <td>75</td>\n    </tr>\n    <tr>\n      <th>1</th>\n      <td>338303.875600</td>\n      <td>7606.009156</td>\n      <td>40000</td>\n      <td>45000</td>\n      <td>207181.98360</td>\n      <td>6.380919e+05</td>\n      <td>9100</td>\n      <td>109200</td>\n      <td>0.00000</td>\n      <td>0</td>\n      <td>109200.0000</td>\n      <td>7.126644e+05</td>\n      <td>100</td>\n      <td>70</td>\n      <td>85</td>\n    </tr>\n    <tr>\n      <th>2</th>\n      <td>395285.751700</td>\n      <td>910.833454</td>\n      <td>40000</td>\n      <td>0</td>\n      <td>80878.81724</td>\n      <td>5.170754e+05</td>\n      <td>5600</td>\n      <td>67200</td>\n      <td>0.00000</td>\n      <td>840</td>\n      <td>68040.0000</td>\n      <td>1.593039e+06</td>\n      <td>90</td>\n      <td>10</td>\n      <td>50</td>\n    </tr>\n    <tr>\n      <th>3</th>\n      <td>308723.736800</td>\n      <td>9147.939781</td>\n      <td>40000</td>\n      <td>0</td>\n      <td>200101.56730</td>\n      <td>5.579732e+05</td>\n      <td>13000</td>\n      <td>156000</td>\n      <td>15759.38929</td>\n      <td>0</td>\n      <td>171759.3893</td>\n      <td>1.088717e+06</td>\n      <td>100</td>\n      <td>50</td>\n      <td>75</td>\n    </tr>\n    <tr>\n      <th>4</th>\n      <td>278315.539600</td>\n      <td>10403.239510</td>\n      <td>130000</td>\n      <td>0</td>\n      <td>0.00000</td>\n      <td>4.187188e+05</td>\n      <td>9100</td>\n      <td>109200</td>\n      <td>0.00000</td>\n      <td>0</td>\n      <td>109200.0000</td>\n      <td>5.413073e+05</td>\n      <td>100</td>\n      <td>80</td>\n      <td>90</td>\n    </tr>\n    <tr>\n      <th>...</th>\n      <td>...</td>\n      <td>...</td>\n      <td>...</td>\n      <td>...</td>\n      <td>...</td>\n      <td>...</td>\n      <td>...</td>\n      <td>...</td>\n      <td>...</td>\n      <td>...</td>\n      <td>...</td>\n      <td>...</td>\n      <td>...</td>\n      <td>...</td>\n      <td>...</td>\n    </tr>\n    <tr>\n      <th>995</th>\n      <td>284680.397500</td>\n      <td>12058.680370</td>\n      <td>130000</td>\n      <td>90000</td>\n      <td>0.00000</td>\n      <td>5.167391e+05</td>\n      <td>9100</td>\n      <td>109200</td>\n      <td>0.00000</td>\n      <td>0</td>\n      <td>109200.0000</td>\n      <td>1.618881e+05</td>\n      <td>100</td>\n      <td>100</td>\n      <td>100</td>\n    </tr>\n    <tr>\n      <th>996</th>\n      <td>216612.527800</td>\n      <td>19229.992810</td>\n      <td>20000</td>\n      <td>0</td>\n      <td>51114.05699</td>\n      <td>3.069566e+05</td>\n      <td>5600</td>\n      <td>67200</td>\n      <td>0.00000</td>\n      <td>0</td>\n      <td>67200.0000</td>\n      <td>2.315122e+05</td>\n      <td>100</td>\n      <td>100</td>\n      <td>100</td>\n    </tr>\n    <tr>\n      <th>997</th>\n      <td>334148.999000</td>\n      <td>7524.367007</td>\n      <td>80000</td>\n      <td>52000</td>\n      <td>818785.33820</td>\n      <td>1.292459e+06</td>\n      <td>9100</td>\n      <td>109200</td>\n      <td>0.00000</td>\n      <td>0</td>\n      <td>109200.0000</td>\n      <td>5.003248e+04</td>\n      <td>100</td>\n      <td>100</td>\n      <td>100</td>\n    </tr>\n    <tr>\n      <th>998</th>\n      <td>360670.327300</td>\n      <td>5746.440486</td>\n      <td>40000</td>\n      <td>0</td>\n      <td>83626.94643</td>\n      <td>4.900437e+05</td>\n      <td>5600</td>\n      <td>67200</td>\n      <td>0.00000</td>\n      <td>840</td>\n      <td>68040.0000</td>\n      <td>4.587502e+05</td>\n      <td>100</td>\n      <td>50</td>\n      <td>75</td>\n    </tr>\n    <tr>\n      <th>999</th>\n      <td>9678.416234</td>\n      <td>53200.207620</td>\n      <td>40000</td>\n      <td>0</td>\n      <td>108336.09850</td>\n      <td>2.112147e+05</td>\n      <td>5600</td>\n      <td>67200</td>\n      <td>0.00000</td>\n      <td>840</td>\n      <td>68040.0000</td>\n      <td>1.042591e+06</td>\n      <td>80</td>\n      <td>20</td>\n      <td>50</td>\n    </tr>\n  </tbody>\n</table>\n<p>1000 rows × 15 columns</p>\n</div>"
     },
     "metadata": {}
    }
   ],
   "execution_count": null
  },
  {
   "cell_type": "code",
   "metadata": {
    "cell_id": "9340560044f34cce9b46c846fab98706",
    "deepnote_variable_name": "modelWithScore",
    "deepnote_visualization_spec": {
     "$schema": "https://vega.github.io/schema/vega-lite/v4.json",
     "mark": {
      "type": "line",
      "tooltip": true
     },
     "height": 220,
     "autosize": {
      "type": "fit"
     },
     "data": {
      "name": "placeholder"
     },
     "encoding": {
      "x": {
       "field": "saeule3a",
       "type": "nominal",
       "sort": null,
       "scale": {
        "type": "linear",
        "zero": false
       },
       "bin": false
      },
      "y": {
       "field": "saeule3a",
       "type": "quantitative",
       "sort": null,
       "scale": {
        "type": "linear",
        "zero": false
       }
      },
      "color": {
       "field": "",
       "type": "nominal",
       "sort": null,
       "scale": {
        "type": "linear",
        "zero": false
       }
      }
     }
    },
    "deepnote_to_be_reexecuted": false,
    "source_hash": "115d95e4",
    "execution_start": 1664628792589,
    "execution_millis": 1715,
    "deepnote_cell_type": "visualization"
   },
   "outputs": [
    {
     "output_type": "execute_result",
     "execution_count": 5,
     "data": {
      "text/html": "\n<div id=\"altair-viz-6d01504e28e94b269178ae030ad351df\"></div>\n<script type=\"text/javascript\">\n  var VEGA_DEBUG = (typeof VEGA_DEBUG == \"undefined\") ? {} : VEGA_DEBUG;\n  (function(spec, embedOpt){\n    let outputDiv = document.currentScript.previousElementSibling;\n    if (outputDiv.id !== \"altair-viz-6d01504e28e94b269178ae030ad351df\") {\n      outputDiv = document.getElementById(\"altair-viz-6d01504e28e94b269178ae030ad351df\");\n    }\n    const paths = {\n      \"vega\": \"https://cdn.jsdelivr.net/npm//vega@5?noext\",\n      \"vega-lib\": \"https://cdn.jsdelivr.net/npm//vega-lib?noext\",\n      \"vega-lite\": \"https://cdn.jsdelivr.net/npm//vega-lite@4.17.0?noext\",\n      \"vega-embed\": \"https://cdn.jsdelivr.net/npm//vega-embed@6?noext\",\n    };\n\n    function maybeLoadScript(lib, version) {\n      var key = `${lib.replace(\"-\", \"\")}_version`;\n      return (VEGA_DEBUG[key] == version) ?\n        Promise.resolve(paths[lib]) :\n        new Promise(function(resolve, reject) {\n          var s = document.createElement('script');\n          document.getElementsByTagName(\"head\")[0].appendChild(s);\n          s.async = true;\n          s.onload = () => {\n            VEGA_DEBUG[key] = version;\n            return resolve(paths[lib]);\n          };\n          s.onerror = () => reject(`Error loading script: ${paths[lib]}`);\n          s.src = paths[lib];\n        });\n    }\n\n    function showError(err) {\n      outputDiv.innerHTML = `<div class=\"error\" style=\"color:red;\">${err}</div>`;\n      throw err;\n    }\n\n    function displayChart(vegaEmbed) {\n      vegaEmbed(outputDiv, spec, embedOpt)\n        .catch(err => showError(`Javascript Error: ${err.message}<br>This usually means there's a typo in your chart specification. See the javascript console for the full traceback.`));\n    }\n\n    if(typeof define === \"function\" && define.amd) {\n      requirejs.config({paths});\n      require([\"vega-embed\"], displayChart, err => showError(`Error loading script: ${err.message}`));\n    } else {\n      maybeLoadScript(\"vega\", \"5\")\n        .then(() => maybeLoadScript(\"vega-lite\", \"4.17.0\"))\n        .then(() => maybeLoadScript(\"vega-embed\", \"6\"))\n        .catch(showError)\n        .then(() => displayChart(vegaEmbed));\n    }\n  })({\"config\": {\"view\": {\"continuousWidth\": 400, \"continuousHeight\": 300}, \"area\": {\"fill\": \"#51C0E9\"}, \"axis\": {\"labelFont\": \"Inter, sans-serif\", \"labelFontSize\": 12, \"labelFontWeight\": \"normal\", \"labelLimit\": 60, \"labelOverlap\": \"greedy\", \"titleFont\": \"Inter, sans-serif\", \"titleFontSize\": 12, \"titleFontWeight\": \"bold\"}, \"background\": \"#ffffff\", \"legend\": {\"labelFont\": \"Inter, sans-serif\", \"labelFontSize\": 12, \"titleFont\": \"Inter, sans-serif\", \"titleFontSize\": 12, \"titleFontWeight\": \"bold\"}, \"line\": {\"stroke\": \"#51C0E9\", \"strokeWidth\": 2}, \"rect\": {\"fill\": \"#51C0E9\"}, \"title\": {\"anchor\": \"start\", \"color\": \"#000000\", \"font\": \"Inter, sans-serif\", \"fontSize\": 22, \"fontWeight\": \"normal\"}}, \"data\": {\"name\": \"data-8ac2d6ac247ff1c74f6709fe360e68de\"}, \"mark\": {\"type\": \"line\", \"tooltip\": true}, \"autosize\": {\"type\": \"fit\"}, \"encoding\": {\"color\": {\"field\": \"\", \"scale\": {\"type\": \"linear\", \"zero\": false}, \"sort\": null, \"type\": \"nominal\"}, \"x\": {\"bin\": false, \"field\": \"saeule3a\", \"scale\": {\"type\": \"linear\", \"zero\": false}, \"sort\": null, \"type\": \"nominal\"}, \"y\": {\"field\": \"saeule3a\", \"scale\": {\"type\": \"linear\", \"zero\": false}, \"sort\": null, \"type\": \"quantitative\"}}, \"height\": 440, \"width\": \"container\", \"$schema\": \"https://vega.github.io/schema/vega-lite/v4.json\", \"datasets\": {\"data-8ac2d6ac247ff1c74f6709fe360e68de\": [{\"barvermoegen\": 154557.9176, \"aktienvermoegen\": 28291.63099, \"saeule3a\": 80000, \"lebensversicherung\": 0, \"pensionskasse\": 109368.5569, \"totalVermoegen\": 372218.1055, \"lohn\": 5600, \"lohnJahr\": 67200, \"bonus\": 0.0, \"zulagen\": 840, \"totalLohn\": 68040.0, \"schaetzungObjekt\": 507984.5702, \"anzahlung\": 100, \"tragbarkeit\": 50, \"score\": 75}, {\"barvermoegen\": 338303.8756, \"aktienvermoegen\": 7606.009156, \"saeule3a\": 40000, \"lebensversicherung\": 45000, \"pensionskasse\": 207181.9836, \"totalVermoegen\": 638091.8683, \"lohn\": 9100, \"lohnJahr\": 109200, \"bonus\": 0.0, \"zulagen\": 0, \"totalLohn\": 109200.0, \"schaetzungObjekt\": 712664.4166, \"anzahlung\": 100, \"tragbarkeit\": 70, \"score\": 85}, {\"barvermoegen\": 395285.7517, \"aktienvermoegen\": 910.8334536, \"saeule3a\": 40000, \"lebensversicherung\": 0, \"pensionskasse\": 80878.81724, \"totalVermoegen\": 517075.4024, \"lohn\": 5600, \"lohnJahr\": 67200, \"bonus\": 0.0, \"zulagen\": 840, \"totalLohn\": 68040.0, \"schaetzungObjekt\": 1593038.547, \"anzahlung\": 90, \"tragbarkeit\": 10, \"score\": 50}, {\"barvermoegen\": 308723.7368, \"aktienvermoegen\": 9147.939781, \"saeule3a\": 40000, \"lebensversicherung\": 0, \"pensionskasse\": 200101.5673, \"totalVermoegen\": 557973.2439, \"lohn\": 13000, \"lohnJahr\": 156000, \"bonus\": 15759.38929, \"zulagen\": 0, \"totalLohn\": 171759.3893, \"schaetzungObjekt\": 1088717.334, \"anzahlung\": 100, \"tragbarkeit\": 50, \"score\": 75}, {\"barvermoegen\": 278315.5396, \"aktienvermoegen\": 10403.23951, \"saeule3a\": 130000, \"lebensversicherung\": 0, \"pensionskasse\": 0.0, \"totalVermoegen\": 418718.7791, \"lohn\": 9100, \"lohnJahr\": 109200, \"bonus\": 0.0, \"zulagen\": 0, \"totalLohn\": 109200.0, \"schaetzungObjekt\": 541307.2816, \"anzahlung\": 100, \"tragbarkeit\": 80, \"score\": 90}, {\"barvermoegen\": 274839.6374, \"aktienvermoegen\": 9772.39532, \"saeule3a\": 130000, \"lebensversicherung\": 70000, \"pensionskasse\": 0.0, \"totalVermoegen\": 484612.0328, \"lohn\": 9100, \"lohnJahr\": 109200, \"bonus\": 0.0, \"zulagen\": 0, \"totalLohn\": 109200.0, \"schaetzungObjekt\": 1150048.064, \"anzahlung\": 100, \"tragbarkeit\": 40, \"score\": 70}, {\"barvermoegen\": 124052.5564, \"aktienvermoegen\": 23307.32712, \"saeule3a\": 40000, \"lebensversicherung\": 0, \"pensionskasse\": 178562.9138, \"totalVermoegen\": 365922.7973, \"lohn\": 9100, \"lohnJahr\": 109200, \"bonus\": 0.0, \"zulagen\": 0, \"totalLohn\": 109200.0, \"schaetzungObjekt\": 1249016.934, \"anzahlung\": 80, \"tragbarkeit\": 20, \"score\": 50}, {\"barvermoegen\": 17987.71701, \"aktienvermoegen\": 33874.79373, \"saeule3a\": 0, \"lebensversicherung\": 0, \"pensionskasse\": 44591.95679, \"totalVermoegen\": 96454.46754, \"lohn\": 3200, \"lohnJahr\": 38400, \"bonus\": 0.0, \"zulagen\": 480, \"totalLohn\": 38880.0, \"schaetzungObjekt\": 748687.1035, \"anzahlung\": 0, \"tragbarkeit\": 10, \"score\": 5}, {\"barvermoegen\": 185792.0079, \"aktienvermoegen\": 15878.82498, \"saeule3a\": 100000, \"lebensversicherung\": 0, \"pensionskasse\": 0.0, \"totalVermoegen\": 301670.8329, \"lohn\": 5600, \"lohnJahr\": 67200, \"bonus\": 0.0, \"zulagen\": 840, \"totalLohn\": 68040.0, \"schaetzungObjekt\": 1100611.345, \"anzahlung\": 80, \"tragbarkeit\": 20, \"score\": 50}, {\"barvermoegen\": 308739.0199, \"aktienvermoegen\": 3270.620955, \"saeule3a\": 20000, \"lebensversicherung\": 0, \"pensionskasse\": 42680.65368, \"totalVermoegen\": 374690.2945, \"lohn\": 8000, \"lohnJahr\": 96000, \"bonus\": 27782.28304, \"zulagen\": 0, \"totalLohn\": 123782.283, \"schaetzungObjekt\": 285079.7598, \"anzahlung\": 100, \"tragbarkeit\": 100, \"score\": 100}, {\"barvermoegen\": 6510.987705, \"aktienvermoegen\": 33387.28614, \"saeule3a\": 100000, \"lebensversicherung\": 0, \"pensionskasse\": 0.0, \"totalVermoegen\": 139898.2738, \"lohn\": 9100, \"lohnJahr\": 109200, \"bonus\": 0.0, \"zulagen\": 0, \"totalLohn\": 109200.0, \"schaetzungObjekt\": 1858838.825, \"anzahlung\": 60, \"tragbarkeit\": 10, \"score\": 35}, {\"barvermoegen\": 101627.5519, \"aktienvermoegen\": 22653.54169, \"saeule3a\": 80000, \"lebensversicherung\": 0, \"pensionskasse\": 656325.9376, \"totalVermoegen\": 860607.0312, \"lohn\": 13000, \"lohnJahr\": 156000, \"bonus\": 15566.14864, \"zulagen\": 0, \"totalLohn\": 171566.1486, \"schaetzungObjekt\": 556295.3465, \"anzahlung\": 100, \"tragbarkeit\": 100, \"score\": 100}, {\"barvermoegen\": 276845.6439, \"aktienvermoegen\": 5007.31361, \"saeule3a\": 20000, \"lebensversicherung\": 0, \"pensionskasse\": 40864.84751, \"totalVermoegen\": 342717.8051, \"lohn\": 5600, \"lohnJahr\": 67200, \"bonus\": 0.0, \"zulagen\": 0, \"totalLohn\": 67200.0, \"schaetzungObjekt\": 1416262.657, \"anzahlung\": 80, \"tragbarkeit\": 10, \"score\": 45}, {\"barvermoegen\": 174854.8002, \"aktienvermoegen\": 15108.44541, \"saeule3a\": 80000, \"lebensversicherung\": 0, \"pensionskasse\": 651878.5085, \"totalVermoegen\": 921841.7541, \"lohn\": 13000, \"lohnJahr\": 156000, \"bonus\": 19329.8167, \"zulagen\": 0, \"totalLohn\": 175329.8167, \"schaetzungObjekt\": 700770.8296, \"anzahlung\": 100, \"tragbarkeit\": 100, \"score\": 100}, {\"barvermoegen\": 289091.8539, \"aktienvermoegen\": 3180.51617, \"saeule3a\": 40000, \"lebensversicherung\": 0, \"pensionskasse\": 64179.40313, \"totalVermoegen\": 396451.7732, \"lohn\": 5600, \"lohnJahr\": 67200, \"bonus\": 0.0, \"zulagen\": 840, \"totalLohn\": 68040.0, \"schaetzungObjekt\": 1628276.001, \"anzahlung\": 80, \"tragbarkeit\": 10, \"score\": 45}, {\"barvermoegen\": 274719.8361, \"aktienvermoegen\": 4362.058989, \"saeule3a\": 20000, \"lebensversicherung\": 38000, \"pensionskasse\": 39792.55325, \"totalVermoegen\": 376874.4484, \"lohn\": 5600, \"lohnJahr\": 67200, \"bonus\": 0.0, \"zulagen\": 0, \"totalLohn\": 67200.0, \"schaetzungObjekt\": 1227648.937, \"anzahlung\": 90, \"tragbarkeit\": 10, \"score\": 50}, {\"barvermoegen\": 99105.72064, \"aktienvermoegen\": 21783.22645, \"saeule3a\": 80000, \"lebensversicherung\": 0, \"pensionskasse\": 79234.4963, \"totalVermoegen\": 280123.4434, \"lohn\": 5600, \"lohnJahr\": 67200, \"bonus\": 0.0, \"zulagen\": 840, \"totalLohn\": 68040.0, \"schaetzungObjekt\": 210021.2693, \"anzahlung\": 100, \"tragbarkeit\": 100, \"score\": 100}, {\"barvermoegen\": 265889.0198, \"aktienvermoegen\": 4935.730522, \"saeule3a\": 80000, \"lebensversicherung\": 0, \"pensionskasse\": 78811.58126, \"totalVermoegen\": 429636.3316, \"lohn\": 5600, \"lohnJahr\": 67200, \"bonus\": 0.0, \"zulagen\": 840, \"totalLohn\": 68040.0, \"schaetzungObjekt\": 384677.3205, \"anzahlung\": 100, \"tragbarkeit\": 70, \"score\": 85}, {\"barvermoegen\": 238322.7457, \"aktienvermoegen\": 7650.612124, \"saeule3a\": 100000, \"lebensversicherung\": 0, \"pensionskasse\": 944486.6009, \"totalVermoegen\": 1290459.959, \"lohn\": 9100, \"lohnJahr\": 109200, \"bonus\": 0.0, \"zulagen\": 0, \"totalLohn\": 109200.0, \"schaetzungObjekt\": 1396369.57, \"anzahlung\": 100, \"tragbarkeit\": 20, \"score\": 60}, {\"barvermoegen\": 79286.35799, \"aktienvermoegen\": 22871.31133, \"saeule3a\": 20000, \"lebensversicherung\": 0, \"pensionskasse\": 51333.24521, \"totalVermoegen\": 173490.9145, \"lohn\": 3200, \"lohnJahr\": 38400, \"bonus\": 0.0, \"zulagen\": 480, \"totalLohn\": 38880.0, \"schaetzungObjekt\": 69383.20773, \"anzahlung\": 100, \"tragbarkeit\": 100, \"score\": 100}, {\"barvermoegen\": 249269.02, \"aktienvermoegen\": 5788.46212, \"saeule3a\": 40000, \"lebensversicherung\": 41000, \"pensionskasse\": 153576.8206, \"totalVermoegen\": 489634.3027, \"lohn\": 9100, \"lohnJahr\": 109200, \"bonus\": 0.0, \"zulagen\": 0, \"totalLohn\": 109200.0, \"schaetzungObjekt\": 1252277.228, \"anzahlung\": 90, \"tragbarkeit\": 20, \"score\": 55}, {\"barvermoegen\": 158583.6685, \"aktienvermoegen\": 14672.68816, \"saeule3a\": 0, \"lebensversicherung\": 27000, \"pensionskasse\": 30531.05502, \"totalVermoegen\": 230787.4117, \"lohn\": 5600, \"lohnJahr\": 67200, \"bonus\": 0.0, \"zulagen\": 0, \"totalLohn\": 67200.0, \"schaetzungObjekt\": 576273.4384, \"anzahlung\": 100, \"tragbarkeit\": 40, \"score\": 70}, {\"barvermoegen\": 42650.61862, \"aktienvermoegen\": 26094.9172, \"saeule3a\": 130000, \"lebensversicherung\": 0, \"pensionskasse\": 0.0, \"totalVermoegen\": 198745.5358, \"lohn\": 5600, \"lohnJahr\": 67200, \"bonus\": 0.0, \"zulagen\": 840, \"totalLohn\": 68040.0, \"schaetzungObjekt\": 311576.909, \"anzahlung\": 100, \"tragbarkeit\": 100, \"score\": 100}, {\"barvermoegen\": 49931.67075, \"aktienvermoegen\": 25349.07684, \"saeule3a\": 80000, \"lebensversicherung\": 50000, \"pensionskasse\": 606844.8783, \"totalVermoegen\": 812125.6259, \"lohn\": 13000, \"lohnJahr\": 156000, \"bonus\": 4824.444805, \"zulagen\": 0, \"totalLohn\": 160824.4448, \"schaetzungObjekt\": 68959.95004, \"anzahlung\": 100, \"tragbarkeit\": 100, \"score\": 100}, {\"barvermoegen\": 238124.0414, \"aktienvermoegen\": 6467.903188, \"saeule3a\": 130000, \"lebensversicherung\": 0, \"pensionskasse\": 0.0, \"totalVermoegen\": 374591.9446, \"lohn\": 9100, \"lohnJahr\": 109200, \"bonus\": 0.0, \"zulagen\": 0, \"totalLohn\": 109200.0, \"schaetzungObjekt\": 1186151.82, \"anzahlung\": 90, \"tragbarkeit\": 40, \"score\": 65}, {\"barvermoegen\": 171701.0524, \"aktienvermoegen\": 13110.20209, \"saeule3a\": 130000, \"lebensversicherung\": 82000, \"pensionskasse\": 0.0, \"totalVermoegen\": 396811.2545, \"lohn\": 9100, \"lohnJahr\": 109200, \"bonus\": 0.0, \"zulagen\": 0, \"totalLohn\": 109200.0, \"schaetzungObjekt\": 1514757.74, \"anzahlung\": 80, \"tragbarkeit\": 20, \"score\": 50}, {\"barvermoegen\": 140567.4127, \"aktienvermoegen\": 16223.56606, \"saeule3a\": 130000, \"lebensversicherung\": 0, \"pensionskasse\": 0.0, \"totalVermoegen\": 286790.9788, \"lohn\": 9100, \"lohnJahr\": 109200, \"bonus\": 0.0, \"zulagen\": 0, \"totalLohn\": 109200.0, \"schaetzungObjekt\": 293424.5083, \"anzahlung\": 100, \"tragbarkeit\": 100, \"score\": 100}, {\"barvermoegen\": 160256.5019, \"aktienvermoegen\": 14141.1522, \"saeule3a\": 130000, \"lebensversicherung\": 0, \"pensionskasse\": 0.0, \"totalVermoegen\": 304397.6541, \"lohn\": 9100, \"lohnJahr\": 109200, \"bonus\": 0.0, \"zulagen\": 0, \"totalLohn\": 109200.0, \"schaetzungObjekt\": 375639.6765, \"anzahlung\": 100, \"tragbarkeit\": 100, \"score\": 100}, {\"barvermoegen\": 142704.341, \"aktienvermoegen\": 15499.51027, \"saeule3a\": 40000, \"lebensversicherung\": 47000, \"pensionskasse\": 148849.7219, \"totalVermoegen\": 394053.5732, \"lohn\": 13000, \"lohnJahr\": 156000, \"bonus\": 12484.56083, \"zulagen\": 0, \"totalLohn\": 168484.5608, \"schaetzungObjekt\": 1361335.875, \"anzahlung\": 80, \"tragbarkeit\": 40, \"score\": 60}, {\"barvermoegen\": 222172.6183, \"aktienvermoegen\": 7397.977502, \"saeule3a\": 80000, \"lebensversicherung\": 52000, \"pensionskasse\": 592304.7866, \"totalVermoegen\": 953875.3823, \"lohn\": 9100, \"lohnJahr\": 109200, \"bonus\": 0.0, \"zulagen\": 0, \"totalLohn\": 109200.0, \"schaetzungObjekt\": 347322.2395, \"anzahlung\": 100, \"tragbarkeit\": 100, \"score\": 100}, {\"barvermoegen\": 248829.8181, \"aktienvermoegen\": 4708.246854, \"saeule3a\": 0, \"lebensversicherung\": 0, \"pensionskasse\": 36989.03583, \"totalVermoegen\": 290527.1008, \"lohn\": 3200, \"lohnJahr\": 38400, \"bonus\": 0.0, \"zulagen\": 480, \"totalLohn\": 38880.0, \"schaetzungObjekt\": 1535438.319, \"anzahlung\": 0, \"tragbarkeit\": 0, \"score\": 0}, {\"barvermoegen\": 132439.4414, \"aktienvermoegen\": 15827.23546, \"saeule3a\": 80000, \"lebensversicherung\": 0, \"pensionskasse\": 581423.5919, \"totalVermoegen\": 809690.2688, \"lohn\": 9100, \"lohnJahr\": 109200, \"bonus\": 0.0, \"zulagen\": 0, \"totalLohn\": 109200.0, \"schaetzungObjekt\": 524022.281, \"anzahlung\": 100, \"tragbarkeit\": 80, \"score\": 90}, {\"barvermoegen\": 31910.04471, \"aktienvermoegen\": 25724.10584, \"saeule3a\": 130000, \"lebensversicherung\": 0, \"pensionskasse\": 0.0, \"totalVermoegen\": 187634.1505, \"lohn\": 13000, \"lohnJahr\": 156000, \"bonus\": 11917.02678, \"zulagen\": 0, \"totalLohn\": 167917.0268, \"schaetzungObjekt\": 1548118.885, \"anzahlung\": 0, \"tragbarkeit\": 40, \"score\": 20}, {\"barvermoegen\": 127767.3648, \"aktienvermoegen\": 16036.05567, \"saeule3a\": 130000, \"lebensversicherung\": 78000, \"pensionskasse\": 0.0, \"totalVermoegen\": 351803.4205, \"lohn\": 9100, \"lohnJahr\": 109200, \"bonus\": 0.0, \"zulagen\": 0, \"totalLohn\": 109200.0, \"schaetzungObjekt\": 1815986.557, \"anzahlung\": 0, \"tragbarkeit\": 20, \"score\": 10}, {\"barvermoegen\": 12494.78439, \"aktienvermoegen\": 27105.06481, \"saeule3a\": 130000, \"lebensversicherung\": 0, \"pensionskasse\": 0.0, \"totalVermoegen\": 169599.8492, \"lohn\": 9100, \"lohnJahr\": 109200, \"bonus\": 0.0, \"zulagen\": 0, \"totalLohn\": 109200.0, \"schaetzungObjekt\": 1688374.043, \"anzahlung\": 0, \"tragbarkeit\": 20, \"score\": 10}, {\"barvermoegen\": 176005.2101, \"aktienvermoegen\": 10464.80292, \"saeule3a\": 40000, \"lebensversicherung\": 0, \"pensionskasse\": 140326.6197, \"totalVermoegen\": 366796.6327, \"lohn\": 9100, \"lohnJahr\": 109200, \"bonus\": 0.0, \"zulagen\": 0, \"totalLohn\": 109200.0, \"schaetzungObjekt\": 106047.7118, \"anzahlung\": 100, \"tragbarkeit\": 100, \"score\": 100}, {\"barvermoegen\": 2324.277172, \"aktienvermoegen\": 27813.1147, \"saeule3a\": 0, \"lebensversicherung\": 25000, \"pensionskasse\": 28045.54242, \"totalVermoegen\": 83182.9343, \"lohn\": 8000, \"lohnJahr\": 96000, \"bonus\": 18431.23823, \"zulagen\": 0, \"totalLohn\": 114431.2382, \"schaetzungObjekt\": 69189.18903, \"anzahlung\": 100, \"tragbarkeit\": 100, \"score\": 100}, {\"barvermoegen\": 153050.4164, \"aktienvermoegen\": 12687.97747, \"saeule3a\": 130000, \"lebensversicherung\": 80000, \"pensionskasse\": 0.0, \"totalVermoegen\": 375738.3938, \"lohn\": 9100, \"lohnJahr\": 109200, \"bonus\": 0.0, \"zulagen\": 0, \"totalLohn\": 109200.0, \"schaetzungObjekt\": 226227.5919, \"anzahlung\": 100, \"tragbarkeit\": 100, \"score\": 100}, {\"barvermoegen\": 172179.5481, \"aktienvermoegen\": 10593.75653, \"saeule3a\": 130000, \"lebensversicherung\": 0, \"pensionskasse\": 0.0, \"totalVermoegen\": 312773.3046, \"lohn\": 5600, \"lohnJahr\": 67200, \"bonus\": 0.0, \"zulagen\": 840, \"totalLohn\": 68040.0, \"schaetzungObjekt\": 1170591.298, \"anzahlung\": 80, \"tragbarkeit\": 10, \"score\": 45}, {\"barvermoegen\": 102375.0713, \"aktienvermoegen\": 17223.45758, \"saeule3a\": 40000, \"lebensversicherung\": 0, \"pensionskasse\": 54921.9294, \"totalVermoegen\": 214520.4582, \"lohn\": 5600, \"lohnJahr\": 67200, \"bonus\": 0.0, \"zulagen\": 840, \"totalLohn\": 68040.0, \"schaetzungObjekt\": 932646.3981, \"anzahlung\": 80, \"tragbarkeit\": 20, \"score\": 50}, {\"barvermoegen\": 269492.8682, \"aktienvermoegen\": 359.8377403, \"saeule3a\": 100000, \"lebensversicherung\": 68000, \"pensionskasse\": 0.0, \"totalVermoegen\": 437852.706, \"lohn\": 13000, \"lohnJahr\": 156000, \"bonus\": 1730.831405, \"zulagen\": 0, \"totalLohn\": 157730.8314, \"schaetzungObjekt\": 1154449.942, \"anzahlung\": 90, \"tragbarkeit\": 50, \"score\": 70}, {\"barvermoegen\": 93807.39021, \"aktienvermoegen\": 17808.87794, \"saeule3a\": 40000, \"lebensversicherung\": 0, \"pensionskasse\": 135948.0848, \"totalVermoegen\": 287564.3529, \"lohn\": 9100, \"lohnJahr\": 109200, \"bonus\": 0.0, \"zulagen\": 0, \"totalLohn\": 109200.0, \"schaetzungObjekt\": 1032710.137, \"anzahlung\": 80, \"tragbarkeit\": 40, \"score\": 60}, {\"barvermoegen\": 203307.8429, \"aktienvermoegen\": 6835.094851, \"saeule3a\": 100000, \"lebensversicherung\": 0, \"pensionskasse\": 0.0, \"totalVermoegen\": 310142.9378, \"lohn\": 5600, \"lohnJahr\": 67200, \"bonus\": 0.0, \"zulagen\": 840, \"totalLohn\": 68040.0, \"schaetzungObjekt\": 1658432.563, \"anzahlung\": 0, \"tragbarkeit\": 10, \"score\": 5}, {\"barvermoegen\": 52450.783, \"aktienvermoegen\": 21449.31879, \"saeule3a\": 130000, \"lebensversicherung\": 0, \"pensionskasse\": 0.0, \"totalVermoegen\": 203900.1018, \"lohn\": 9100, \"lohnJahr\": 109200, \"bonus\": 0.0, \"zulagen\": 0, \"totalLohn\": 109200.0, \"schaetzungObjekt\": 1179591.974, \"anzahlung\": 0, \"tragbarkeit\": 40, \"score\": 20}, {\"barvermoegen\": 593.181542, \"aktienvermoegen\": 26403.49885, \"saeule3a\": 100000, \"lebensversicherung\": 62000, \"pensionskasse\": 793884.5101, \"totalVermoegen\": 982881.1905, \"lohn\": 13000, \"lohnJahr\": 156000, \"bonus\": 1590.296011, \"zulagen\": 0, \"totalLohn\": 157590.296, \"schaetzungObjekt\": 593148.8371, \"anzahlung\": 100, \"tragbarkeit\": 100, \"score\": 100}, {\"barvermoegen\": 57427.92818, \"aktienvermoegen\": 20665.79557, \"saeule3a\": 130000, \"lebensversicherung\": 0, \"pensionskasse\": 0.0, \"totalVermoegen\": 208093.7237, \"lohn\": 5600, \"lohnJahr\": 67200, \"bonus\": 0.0, \"zulagen\": 840, \"totalLohn\": 68040.0, \"schaetzungObjekt\": 1634971.149, \"anzahlung\": 0, \"tragbarkeit\": 10, \"score\": 5}, {\"barvermoegen\": 139996.389, \"aktienvermoegen\": 12195.4456, \"saeule3a\": 40000, \"lebensversicherung\": 0, \"pensionskasse\": 52390.169, \"totalVermoegen\": 244582.0036, \"lohn\": 5600, \"lohnJahr\": 67200, \"bonus\": 0.0, \"zulagen\": 840, \"totalLohn\": 68040.0, \"schaetzungObjekt\": 1931697.81, \"anzahlung\": 0, \"tragbarkeit\": 10, \"score\": 5}, {\"barvermoegen\": 17783.19542, \"aktienvermoegen\": 24374.67809, \"saeule3a\": 20000, \"lebensversicherung\": 37000, \"pensionskasse\": 32691.24704, \"totalVermoegen\": 131849.1206, \"lohn\": 8000, \"lohnJahr\": 96000, \"bonus\": 19771.06277, \"zulagen\": 0, \"totalLohn\": 115771.0628, \"schaetzungObjekt\": 801270.8091, \"anzahlung\": 0, \"tragbarkeit\": 40, \"score\": 20}, {\"barvermoegen\": 113874.4563, \"aktienvermoegen\": 14517.32817, \"saeule3a\": 80000, \"lebensversicherung\": 0, \"pensionskasse\": 518095.4759, \"totalVermoegen\": 726487.2603, \"lohn\": 9100, \"lohnJahr\": 109200, \"bonus\": 0.0, \"zulagen\": 0, \"totalLohn\": 109200.0, \"schaetzungObjekt\": 1893164.449, \"anzahlung\": 90, \"tragbarkeit\": 10, \"score\": 50}, {\"barvermoegen\": 174219.3454, \"aktienvermoegen\": 8406.714543, \"saeule3a\": 80000, \"lebensversicherung\": 0, \"pensionskasse\": 516572.9817, \"totalVermoegen\": 779199.0417, \"lohn\": 9100, \"lohnJahr\": 109200, \"bonus\": 0.0, \"zulagen\": 0, \"totalLohn\": 109200.0, \"schaetzungObjekt\": 262190.0239, \"anzahlung\": 100, \"tragbarkeit\": 100, \"score\": 100}, {\"barvermoegen\": 51355.03411, \"aktienvermoegen\": 20683.05028, \"saeule3a\": 80000, \"lebensversicherung\": 0, \"pensionskasse\": 516371.0739, \"totalVermoegen\": 668409.1583, \"lohn\": 9100, \"lohnJahr\": 109200, \"bonus\": 0.0, \"zulagen\": 0, \"totalLohn\": 109200.0, \"schaetzungObjekt\": 1889706.826, \"anzahlung\": 90, \"tragbarkeit\": 10, \"score\": 50}, {\"barvermoegen\": 139651.0287, \"aktienvermoegen\": 11778.07645, \"saeule3a\": 40000, \"lebensversicherung\": 0, \"pensionskasse\": 51486.35864, \"totalVermoegen\": 242915.4638, \"lohn\": 5600, \"lohnJahr\": 67200, \"bonus\": 0.0, \"zulagen\": 840, \"totalLohn\": 68040.0, \"schaetzungObjekt\": 1119465.918, \"anzahlung\": 80, \"tragbarkeit\": 20, \"score\": 50}, {\"barvermoegen\": 221578.8912, \"aktienvermoegen\": 3377.584349, \"saeule3a\": 80000, \"lebensversicherung\": 53000, \"pensionskasse\": 510709.4694, \"totalVermoegen\": 868665.9449, \"lohn\": 9100, \"lohnJahr\": 109200, \"bonus\": 0.0, \"zulagen\": 0, \"totalLohn\": 109200.0, \"schaetzungObjekt\": 794023.2424, \"anzahlung\": 100, \"tragbarkeit\": 50, \"score\": 75}, {\"barvermoegen\": 98348.10836, \"aktienvermoegen\": 15656.80225, \"saeule3a\": 80000, \"lebensversicherung\": 0, \"pensionskasse\": 63729.03272, \"totalVermoegen\": 257733.9433, \"lohn\": 5600, \"lohnJahr\": 67200, \"bonus\": 0.0, \"zulagen\": 840, \"totalLohn\": 68040.0, \"schaetzungObjekt\": 1402999.715, \"anzahlung\": 0, \"tragbarkeit\": 10, \"score\": 5}, {\"barvermoegen\": 118322.9006, \"aktienvermoegen\": 13273.92464, \"saeule3a\": 100000, \"lebensversicherung\": 0, \"pensionskasse\": 125531.0735, \"totalVermoegen\": 357127.8988, \"lohn\": 5600, \"lohnJahr\": 67200, \"bonus\": 0.0, \"zulagen\": 840, \"totalLohn\": 68040.0, \"schaetzungObjekt\": 795019.2468, \"anzahlung\": 100, \"tragbarkeit\": 20, \"score\": 60}, {\"barvermoegen\": 74770.01455, \"aktienvermoegen\": 17300.02164, \"saeule3a\": 20000, \"lebensversicherung\": 0, \"pensionskasse\": 41295.0385, \"totalVermoegen\": 153365.0747, \"lohn\": 3200, \"lohnJahr\": 38400, \"bonus\": 0.0, \"zulagen\": 480, \"totalLohn\": 38880.0, \"schaetzungObjekt\": 1376393.996, \"anzahlung\": 0, \"tragbarkeit\": 0, \"score\": 0}, {\"barvermoegen\": 148528.9819, \"aktienvermoegen\": 9821.465692, \"saeule3a\": 130000, \"lebensversicherung\": 0, \"pensionskasse\": 0.0, \"totalVermoegen\": 288350.4476, \"lohn\": 5600, \"lohnJahr\": 67200, \"bonus\": 0.0, \"zulagen\": 840, \"totalLohn\": 68040.0, \"schaetzungObjekt\": 804116.4213, \"anzahlung\": 90, \"tragbarkeit\": 20, \"score\": 55}, {\"barvermoegen\": 147437.5721, \"aktienvermoegen\": 9868.670091, \"saeule3a\": 100000, \"lebensversicherung\": 68000, \"pensionskasse\": 0.0, \"totalVermoegen\": 325306.2421, \"lohn\": 13000, \"lohnJahr\": 156000, \"bonus\": 14215.24577, \"zulagen\": 0, \"totalLohn\": 170215.2458, \"schaetzungObjekt\": 271116.568, \"anzahlung\": 100, \"tragbarkeit\": 100, \"score\": 100}, {\"barvermoegen\": 36773.49987, \"aktienvermoegen\": 20886.71493, \"saeule3a\": 20000, \"lebensversicherung\": 0, \"pensionskasse\": 40940.10819, \"totalVermoegen\": 118600.323, \"lohn\": 3200, \"lohnJahr\": 38400, \"bonus\": 0.0, \"zulagen\": 480, \"totalLohn\": 38880.0, \"schaetzungObjekt\": 1060436.594, \"anzahlung\": 0, \"tragbarkeit\": 10, \"score\": 5}, {\"barvermoegen\": 88778.71366, \"aktienvermoegen\": 15538.2415, \"saeule3a\": 80000, \"lebensversicherung\": 0, \"pensionskasse\": 488322.2573, \"totalVermoegen\": 672639.2125, \"lohn\": 13000, \"lohnJahr\": 156000, \"bonus\": 17555.36653, \"zulagen\": 0, \"totalLohn\": 173555.3665, \"schaetzungObjekt\": 1134381.093, \"anzahlung\": 100, \"tragbarkeit\": 50, \"score\": 75}, {\"barvermoegen\": 144799.005, \"aktienvermoegen\": 9643.104957, \"saeule3a\": 80000, \"lebensversicherung\": 0, \"pensionskasse\": 482460.1092, \"totalVermoegen\": 716902.2192, \"lohn\": 9100, \"lohnJahr\": 109200, \"bonus\": 0.0, \"zulagen\": 0, \"totalLohn\": 109200.0, \"schaetzungObjekt\": 1305381.708, \"anzahlung\": 100, \"tragbarkeit\": 20, \"score\": 60}, {\"barvermoegen\": 208376.4523, \"aktienvermoegen\": 3082.702074, \"saeule3a\": 130000, \"lebensversicherung\": 0, \"pensionskasse\": 0.0, \"totalVermoegen\": 341459.1544, \"lohn\": 13000, \"lohnJahr\": 156000, \"bonus\": 5676.764482, \"zulagen\": 0, \"totalLohn\": 161676.7645, \"schaetzungObjekt\": 1336120.147, \"anzahlung\": 80, \"tragbarkeit\": 40, \"score\": 60}, {\"barvermoegen\": 168558.1109, \"aktienvermoegen\": 6882.137052, \"saeule3a\": 80000, \"lebensversicherung\": 0, \"pensionskasse\": 474758.9628, \"totalVermoegen\": 730199.2108, \"lohn\": 9100, \"lohnJahr\": 109200, \"bonus\": 0.0, \"zulagen\": 0, \"totalLohn\": 109200.0, \"schaetzungObjekt\": 1886303.802, \"anzahlung\": 90, \"tragbarkeit\": 10, \"score\": 50}, {\"barvermoegen\": 176718.5688, \"aktienvermoegen\": 6046.036906, \"saeule3a\": 130000, \"lebensversicherung\": 0, \"pensionskasse\": 0.0, \"totalVermoegen\": 312764.6057, \"lohn\": 5600, \"lohnJahr\": 67200, \"bonus\": 0.0, \"zulagen\": 840, \"totalLohn\": 68040.0, \"schaetzungObjekt\": 212335.7546, \"anzahlung\": 100, \"tragbarkeit\": 100, \"score\": 100}, {\"barvermoegen\": 187196.3593, \"aktienvermoegen\": 4962.241865, \"saeule3a\": 130000, \"lebensversicherung\": 0, \"pensionskasse\": 0.0, \"totalVermoegen\": 322158.6011, \"lohn\": 9100, \"lohnJahr\": 109200, \"bonus\": 0.0, \"zulagen\": 0, \"totalLohn\": 109200.0, \"schaetzungObjekt\": 560163.3659, \"anzahlung\": 100, \"tragbarkeit\": 80, \"score\": 90}, {\"barvermoegen\": 200887.8675, \"aktienvermoegen\": 3517.580248, \"saeule3a\": 40000, \"lebensversicherung\": 0, \"pensionskasse\": 47212.73399, \"totalVermoegen\": 291618.1817, \"lohn\": 5600, \"lohnJahr\": 67200, \"bonus\": 0.0, \"zulagen\": 840, \"totalLohn\": 68040.0, \"schaetzungObjekt\": 844017.1675, \"anzahlung\": 90, \"tragbarkeit\": 20, \"score\": 55}, {\"barvermoegen\": 155189.9882, \"aktienvermoegen\": 7852.786752, \"saeule3a\": 130000, \"lebensversicherung\": 81000, \"pensionskasse\": 0.0, \"totalVermoegen\": 374042.775, \"lohn\": 9100, \"lohnJahr\": 109200, \"bonus\": 0.0, \"zulagen\": 0, \"totalLohn\": 109200.0, \"schaetzungObjekt\": 1885097.283, \"anzahlung\": 0, \"tragbarkeit\": 10, \"score\": 5}, {\"barvermoegen\": 159328.5923, \"aktienvermoegen\": 7101.071797, \"saeule3a\": 130000, \"lebensversicherung\": 87000, \"pensionskasse\": 0.0, \"totalVermoegen\": 383429.6641, \"lohn\": 9100, \"lohnJahr\": 109200, \"bonus\": 0.0, \"zulagen\": 0, \"totalLohn\": 109200.0, \"schaetzungObjekt\": 207528.1927, \"anzahlung\": 100, \"tragbarkeit\": 100, \"score\": 100}, {\"barvermoegen\": 83819.97848, \"aktienvermoegen\": 14588.70056, \"saeule3a\": 130000, \"lebensversicherung\": 0, \"pensionskasse\": 0.0, \"totalVermoegen\": 228408.679, \"lohn\": 9100, \"lohnJahr\": 109200, \"bonus\": 0.0, \"zulagen\": 0, \"totalLohn\": 109200.0, \"schaetzungObjekt\": 1046751.312, \"anzahlung\": 80, \"tragbarkeit\": 40, \"score\": 60}, {\"barvermoegen\": 5525.561469, \"aktienvermoegen\": 22201.84169, \"saeule3a\": 0, \"lebensversicherung\": 26000, \"pensionskasse\": 22754.39783, \"totalVermoegen\": 76481.80099, \"lohn\": 8000, \"lohnJahr\": 96000, \"bonus\": 17995.57899, \"zulagen\": 0, \"totalLohn\": 113995.579, \"schaetzungObjekt\": 688412.0123, \"anzahlung\": 0, \"tragbarkeit\": 50, \"score\": 25}, {\"barvermoegen\": 150098.7759, \"aktienvermoegen\": 7693.906863, \"saeule3a\": 20000, \"lebensversicherung\": 0, \"pensionskasse\": 28379.73057, \"totalVermoegen\": 206172.4133, \"lohn\": 5600, \"lohnJahr\": 67200, \"bonus\": 0.0, \"zulagen\": 0, \"totalLohn\": 67200.0, \"schaetzungObjekt\": 171690.7878, \"anzahlung\": 100, \"tragbarkeit\": 100, \"score\": 100}, {\"barvermoegen\": 161845.3516, \"aktienvermoegen\": 6436.644435, \"saeule3a\": 130000, \"lebensversicherung\": 0, \"pensionskasse\": 0.0, \"totalVermoegen\": 298281.996, \"lohn\": 5600, \"lohnJahr\": 67200, \"bonus\": 0.0, \"zulagen\": 840, \"totalLohn\": 68040.0, \"schaetzungObjekt\": 1203454.864, \"anzahlung\": 80, \"tragbarkeit\": 10, \"score\": 45}, {\"barvermoegen\": 221923.8831, \"aktienvermoegen\": 286.7054811, \"saeule3a\": 20000, \"lebensversicherung\": 35000, \"pensionskasse\": 28098.86723, \"totalVermoegen\": 305309.4558, \"lohn\": 5600, \"lohnJahr\": 67200, \"bonus\": 0.0, \"zulagen\": 0, \"totalLohn\": 67200.0, \"schaetzungObjekt\": 218056.6544, \"anzahlung\": 100, \"tragbarkeit\": 100, \"score\": 100}, {\"barvermoegen\": 45418.3313, \"aktienvermoegen\": 17529.4205, \"saeule3a\": 130000, \"lebensversicherung\": 0, \"pensionskasse\": 0.0, \"totalVermoegen\": 192947.7518, \"lohn\": 9100, \"lohnJahr\": 109200, \"bonus\": 0.0, \"zulagen\": 0, \"totalLohn\": 109200.0, \"schaetzungObjekt\": 211987.098, \"anzahlung\": 100, \"tragbarkeit\": 100, \"score\": 100}, {\"barvermoegen\": 133579.4145, \"aktienvermoegen\": 8706.559174, \"saeule3a\": 100000, \"lebensversicherung\": 0, \"pensionskasse\": 110322.5031, \"totalVermoegen\": 352608.4768, \"lohn\": 5600, \"lohnJahr\": 67200, \"bonus\": 0.0, \"zulagen\": 840, \"totalLohn\": 68040.0, \"schaetzungObjekt\": 854260.8646, \"anzahlung\": 100, \"tragbarkeit\": 20, \"score\": 60}, {\"barvermoegen\": 183867.5929, \"aktienvermoegen\": 3460.008309, \"saeule3a\": 0, \"lebensversicherung\": 0, \"pensionskasse\": 21846.76759, \"totalVermoegen\": 209174.3688, \"lohn\": 5600, \"lohnJahr\": 67200, \"bonus\": 0.0, \"zulagen\": 0, \"totalLohn\": 67200.0, \"schaetzungObjekt\": 516225.2897, \"anzahlung\": 100, \"tragbarkeit\": 50, \"score\": 75}, {\"barvermoegen\": 150408.1837, \"aktienvermoegen\": 6769.523967, \"saeule3a\": 130000, \"lebensversicherung\": 0, \"pensionskasse\": 0.0, \"totalVermoegen\": 287177.7076, \"lohn\": 9100, \"lohnJahr\": 109200, \"bonus\": 0.0, \"zulagen\": 0, \"totalLohn\": 109200.0, \"schaetzungObjekt\": 1734774.022, \"anzahlung\": 0, \"tragbarkeit\": 20, \"score\": 10}, {\"barvermoegen\": 27988.32366, \"aktienvermoegen\": 18893.3325, \"saeule3a\": 100000, \"lebensversicherung\": 0, \"pensionskasse\": 0.0, \"totalVermoegen\": 146881.6562, \"lohn\": 5600, \"lohnJahr\": 67200, \"bonus\": 0.0, \"zulagen\": 840, \"totalLohn\": 68040.0, \"schaetzungObjekt\": 243107.9863, \"anzahlung\": 100, \"tragbarkeit\": 100, \"score\": 100}, {\"barvermoegen\": 38168.97446, \"aktienvermoegen\": 17868.75316, \"saeule3a\": 80000, \"lebensversicherung\": 0, \"pensionskasse\": 433713.0122, \"totalVermoegen\": 569750.7398, \"lohn\": 9100, \"lohnJahr\": 109200, \"bonus\": 0.0, \"zulagen\": 0, \"totalLohn\": 109200.0, \"schaetzungObjekt\": 614967.2349, \"anzahlung\": 100, \"tragbarkeit\": 70, \"score\": 85}, {\"barvermoegen\": 151629.3579, \"aktienvermoegen\": 6360.847502, \"saeule3a\": 40000, \"lebensversicherung\": 41000, \"pensionskasse\": 107618.9164, \"totalVermoegen\": 346609.1218, \"lohn\": 9100, \"lohnJahr\": 109200, \"bonus\": 0.0, \"zulagen\": 0, \"totalLohn\": 109200.0, \"schaetzungObjekt\": 1999139.412, \"anzahlung\": 0, \"tragbarkeit\": 10, \"score\": 5}, {\"barvermoegen\": 72452.41156, \"aktienvermoegen\": 14115.92448, \"saeule3a\": 20000, \"lebensversicherung\": 0, \"pensionskasse\": 26701.45705, \"totalVermoegen\": 133269.7931, \"lohn\": 5600, \"lohnJahr\": 67200, \"bonus\": 0.0, \"zulagen\": 0, \"totalLohn\": 67200.0, \"schaetzungObjekt\": 699423.2534, \"anzahlung\": 0, \"tragbarkeit\": 40, \"score\": 20}, {\"barvermoegen\": 201149.4848, \"aktienvermoegen\": 1233.597921, \"saeule3a\": 40000, \"lebensversicherung\": 44000, \"pensionskasse\": 106742.732, \"totalVermoegen\": 393125.8147, \"lohn\": 13000, \"lohnJahr\": 156000, \"bonus\": 27407.9348, \"zulagen\": 0, \"totalLohn\": 183407.9348, \"schaetzungObjekt\": 1954076.505, \"anzahlung\": 80, \"tragbarkeit\": 20, \"score\": 50}, {\"barvermoegen\": 132747.5789, \"aktienvermoegen\": 7854.895866, \"saeule3a\": 130000, \"lebensversicherung\": 72000, \"pensionskasse\": 0.0, \"totalVermoegen\": 342602.4748, \"lohn\": 13000, \"lohnJahr\": 156000, \"bonus\": 17429.02885, \"zulagen\": 0, \"totalLohn\": 173429.0289, \"schaetzungObjekt\": 1970776.524, \"anzahlung\": 0, \"tragbarkeit\": 20, \"score\": 10}, {\"barvermoegen\": 183441.6958, \"aktienvermoegen\": 2717.613134, \"saeule3a\": 100000, \"lebensversicherung\": 67000, \"pensionskasse\": 0.0, \"totalVermoegen\": 353159.309, \"lohn\": 13000, \"lohnJahr\": 156000, \"bonus\": 16535.61981, \"zulagen\": 0, \"totalLohn\": 172535.6198, \"schaetzungObjekt\": 1277712.984, \"anzahlung\": 80, \"tragbarkeit\": 50, \"score\": 65}, {\"barvermoegen\": 31676.70821, \"aktienvermoegen\": 17671.94508, \"saeule3a\": 130000, \"lebensversicherung\": 0, \"pensionskasse\": 0.0, \"totalVermoegen\": 179348.6533, \"lohn\": 9100, \"lohnJahr\": 109200, \"bonus\": 0.0, \"zulagen\": 0, \"totalLohn\": 109200.0, \"schaetzungObjekt\": 1522019.855, \"anzahlung\": 0, \"tragbarkeit\": 20, \"score\": 10}, {\"barvermoegen\": 178931.7403, \"aktienvermoegen\": 2871.408553, \"saeule3a\": 100000, \"lebensversicherung\": 0, \"pensionskasse\": 103822.9129, \"totalVermoegen\": 385626.0618, \"lohn\": 5600, \"lohnJahr\": 67200, \"bonus\": 0.0, \"zulagen\": 840, \"totalLohn\": 68040.0, \"schaetzungObjekt\": 1053242.016, \"anzahlung\": 90, \"tragbarkeit\": 20, \"score\": 55}, {\"barvermoegen\": 48772.41094, \"aktienvermoegen\": 15842.59435, \"saeule3a\": 40000, \"lebensversicherung\": 0, \"pensionskasse\": 41439.67089, \"totalVermoegen\": 146054.6762, \"lohn\": 5600, \"lohnJahr\": 67200, \"bonus\": 0.0, \"zulagen\": 840, \"totalLohn\": 68040.0, \"schaetzungObjekt\": 1106910.982, \"anzahlung\": 0, \"tragbarkeit\": 20, \"score\": 10}, {\"barvermoegen\": 75090.69159, \"aktienvermoegen\": 13166.15557, \"saeule3a\": 130000, \"lebensversicherung\": 0, \"pensionskasse\": 0.0, \"totalVermoegen\": 218256.8472, \"lohn\": 5600, \"lohnJahr\": 67200, \"bonus\": 0.0, \"zulagen\": 840, \"totalLohn\": 68040.0, \"schaetzungObjekt\": 746944.9848, \"anzahlung\": 80, \"tragbarkeit\": 20, \"score\": 50}, {\"barvermoegen\": 165878.7743, \"aktienvermoegen\": 4054.741916, \"saeule3a\": 130000, \"lebensversicherung\": 0, \"pensionskasse\": 0.0, \"totalVermoegen\": 299933.5162, \"lohn\": 9100, \"lohnJahr\": 109200, \"bonus\": 0.0, \"zulagen\": 0, \"totalLohn\": 109200.0, \"schaetzungObjekt\": 800448.8224, \"anzahlung\": 90, \"tragbarkeit\": 50, \"score\": 70}, {\"barvermoegen\": 22592.15133, \"aktienvermoegen\": 18300.93578, \"saeule3a\": 130000, \"lebensversicherung\": 0, \"pensionskasse\": 0.0, \"totalVermoegen\": 170893.0871, \"lohn\": 5600, \"lohnJahr\": 67200, \"bonus\": 0.0, \"zulagen\": 840, \"totalLohn\": 68040.0, \"schaetzungObjekt\": 1425056.432, \"anzahlung\": 0, \"tragbarkeit\": 10, \"score\": 5}, {\"barvermoegen\": 38481.47877, \"aktienvermoegen\": 16580.66063, \"saeule3a\": 80000, \"lebensversicherung\": 0, \"pensionskasse\": 51072.02128, \"totalVermoegen\": 186134.1607, \"lohn\": 5600, \"lohnJahr\": 67200, \"bonus\": 0.0, \"zulagen\": 840, \"totalLohn\": 68040.0, \"schaetzungObjekt\": 1244431.879, \"anzahlung\": 0, \"tragbarkeit\": 10, \"score\": 5}, {\"barvermoegen\": 59651.15805, \"aktienvermoegen\": 14296.74358, \"saeule3a\": 100000, \"lebensversicherung\": 68000, \"pensionskasse\": 0.0, \"totalVermoegen\": 241947.9016, \"lohn\": 9100, \"lohnJahr\": 109200, \"bonus\": 0.0, \"zulagen\": 0, \"totalLohn\": 109200.0, \"schaetzungObjekt\": 926494.4023, \"anzahlung\": 80, \"tragbarkeit\": 40, \"score\": 60}, {\"barvermoegen\": 196504.7937, \"aktienvermoegen\": 608.5151071, \"saeule3a\": 80000, \"lebensversicherung\": 0, \"pensionskasse\": 405179.8896, \"totalVermoegen\": 682293.1985, \"lohn\": 9100, \"lohnJahr\": 109200, \"bonus\": 0.0, \"zulagen\": 0, \"totalLohn\": 109200.0, \"schaetzungObjekt\": 1615343.972, \"anzahlung\": 100, \"tragbarkeit\": 20, \"score\": 60}, {\"barvermoegen\": 88930.11574, \"aktienvermoegen\": 11164.96184, \"saeule3a\": 20000, \"lebensversicherung\": 33000, \"pensionskasse\": 25072.46677, \"totalVermoegen\": 178167.5444, \"lohn\": 5600, \"lohnJahr\": 67200, \"bonus\": 0.0, \"zulagen\": 0, \"totalLohn\": 67200.0, \"schaetzungObjekt\": 518907.015, \"anzahlung\": 90, \"tragbarkeit\": 50, \"score\": 70}, {\"barvermoegen\": 73526.89041, \"aktienvermoegen\": 12332.77808, \"saeule3a\": 80000, \"lebensversicherung\": 0, \"pensionskasse\": 49213.66781, \"totalVermoegen\": 215073.3363, \"lohn\": 5600, \"lohnJahr\": 67200, \"bonus\": 0.0, \"zulagen\": 840, \"totalLohn\": 68040.0, \"schaetzungObjekt\": 1460606.98, \"anzahlung\": 0, \"tragbarkeit\": 10, \"score\": 5}, {\"barvermoegen\": 22070.05289, \"aktienvermoegen\": 17418.84446, \"saeule3a\": 100000, \"lebensversicherung\": 64000, \"pensionskasse\": 588775.4924, \"totalVermoegen\": 792264.3897, \"lohn\": 13000, \"lohnJahr\": 156000, \"bonus\": 16901.64541, \"zulagen\": 0, \"totalLohn\": 172901.6454, \"schaetzungObjekt\": 532720.0464, \"anzahlung\": 100, \"tragbarkeit\": 100, \"score\": 100}, {\"barvermoegen\": 96859.48039, \"aktienvermoegen\": 9902.180413, \"saeule3a\": 100000, \"lebensversicherung\": 0, \"pensionskasse\": 0.0, \"totalVermoegen\": 206761.6608, \"lohn\": 5600, \"lohnJahr\": 67200, \"bonus\": 0.0, \"zulagen\": 840, \"totalLohn\": 68040.0, \"schaetzungObjekt\": 940493.7808, \"anzahlung\": 80, \"tragbarkeit\": 20, \"score\": 50}, {\"barvermoegen\": 99075.03319, \"aktienvermoegen\": 9522.884646, \"saeule3a\": 20000, \"lebensversicherung\": 0, \"pensionskasse\": 24287.98496, \"totalVermoegen\": 152885.9028, \"lohn\": 8000, \"lohnJahr\": 96000, \"bonus\": 10688.20129, \"zulagen\": 0, \"totalLohn\": 106688.2013, \"schaetzungObjekt\": 1794432.447, \"anzahlung\": 60, \"tragbarkeit\": 10, \"score\": 35}, {\"barvermoegen\": 92989.95927, \"aktienvermoegen\": 10123.44533, \"saeule3a\": 130000, \"lebensversicherung\": 70000, \"pensionskasse\": 0.0, \"totalVermoegen\": 303113.4046, \"lohn\": 9100, \"lohnJahr\": 109200, \"bonus\": 0.0, \"zulagen\": 0, \"totalLohn\": 109200.0, \"schaetzungObjekt\": 1103322.037, \"anzahlung\": 80, \"tragbarkeit\": 40, \"score\": 60}, {\"barvermoegen\": 129365.8449, \"aktienvermoegen\": 6361.778955, \"saeule3a\": 20000, \"lebensversicherung\": 38000, \"pensionskasse\": 24122.9543, \"totalVermoegen\": 217850.5781, \"lohn\": 5600, \"lohnJahr\": 67200, \"bonus\": 0.0, \"zulagen\": 0, \"totalLohn\": 67200.0, \"schaetzungObjekt\": 1936004.289, \"anzahlung\": 0, \"tragbarkeit\": 10, \"score\": 5}, {\"barvermoegen\": 84038.48962, \"aktienvermoegen\": 10852.59814, \"saeule3a\": 40000, \"lebensversicherung\": 0, \"pensionskasse\": 96282.23552, \"totalVermoegen\": 231173.3233, \"lohn\": 9100, \"lohnJahr\": 109200, \"bonus\": 0.0, \"zulagen\": 0, \"totalLohn\": 109200.0, \"schaetzungObjekt\": 1865635.446, \"anzahlung\": 0, \"tragbarkeit\": 10, \"score\": 5}, {\"barvermoegen\": 95634.74989, \"aktienvermoegen\": 9480.423203, \"saeule3a\": 0, \"lebensversicherung\": 27000, \"pensionskasse\": 19043.89819, \"totalVermoegen\": 151159.0713, \"lohn\": 8000, \"lohnJahr\": 96000, \"bonus\": 4177.188799, \"zulagen\": 0, \"totalLohn\": 100177.1888, \"schaetzungObjekt\": 1163966.92, \"anzahlung\": 0, \"tragbarkeit\": 20, \"score\": 10}, {\"barvermoegen\": 53092.75197, \"aktienvermoegen\": 13714.05705, \"saeule3a\": 130000, \"lebensversicherung\": 0, \"pensionskasse\": 0.0, \"totalVermoegen\": 196806.809, \"lohn\": 13000, \"lohnJahr\": 156000, \"bonus\": 26762.72144, \"zulagen\": 0, \"totalLohn\": 182762.7214, \"schaetzungObjekt\": 1196051.745, \"anzahlung\": 0, \"tragbarkeit\": 50, \"score\": 25}, {\"barvermoegen\": 137655.406, \"aktienvermoegen\": 5201.516659, \"saeule3a\": 100000, \"lebensversicherung\": 0, \"pensionskasse\": 94835.28629, \"totalVermoegen\": 337692.2089, \"lohn\": 5600, \"lohnJahr\": 67200, \"bonus\": 0.0, \"zulagen\": 840, \"totalLohn\": 68040.0, \"schaetzungObjekt\": 1524763.841, \"anzahlung\": 80, \"tragbarkeit\": 10, \"score\": 45}, {\"barvermoegen\": 10605.45094, \"aktienvermoegen\": 17878.47699, \"saeule3a\": 80000, \"lebensversicherung\": 0, \"pensionskasse\": 378780.4417, \"totalVermoegen\": 487264.3696, \"lohn\": 9100, \"lohnJahr\": 109200, \"bonus\": 0.0, \"zulagen\": 0, \"totalLohn\": 109200.0, \"schaetzungObjekt\": 534201.6334, \"anzahlung\": 100, \"tragbarkeit\": 80, \"score\": 90}, {\"barvermoegen\": 176627.349, \"aktienvermoegen\": 1212.815823, \"saeule3a\": 40000, \"lebensversicherung\": 40000, \"pensionskasse\": 94377.75361, \"totalVermoegen\": 352217.9184, \"lohn\": 9100, \"lohnJahr\": 109200, \"bonus\": 0.0, \"zulagen\": 0, \"totalLohn\": 109200.0, \"schaetzungObjekt\": 1888229.429, \"anzahlung\": 0, \"tragbarkeit\": 10, \"score\": 5}, {\"barvermoegen\": 104867.3995, \"aktienvermoegen\": 8348.326885, \"saeule3a\": 20000, \"lebensversicherung\": 0, \"pensionskasse\": 31391.77807, \"totalVermoegen\": 164607.5045, \"lohn\": 3200, \"lohnJahr\": 38400, \"bonus\": 0.0, \"zulagen\": 480, \"totalLohn\": 38880.0, \"schaetzungObjekt\": 1747814.507, \"anzahlung\": 60, \"tragbarkeit\": 0, \"score\": 30}, {\"barvermoegen\": 99245.3645, \"aktienvermoegen\": 8832.563957, \"saeule3a\": 130000, \"lebensversicherung\": 0, \"pensionskasse\": 0.0, \"totalVermoegen\": 238077.9285, \"lohn\": 5600, \"lohnJahr\": 67200, \"bonus\": 0.0, \"zulagen\": 840, \"totalLohn\": 68040.0, \"schaetzungObjekt\": 1553439.989, \"anzahlung\": 0, \"tragbarkeit\": 10, \"score\": 5}, {\"barvermoegen\": 125264.0821, \"aktienvermoegen\": 6148.223761, \"saeule3a\": 130000, \"lebensversicherung\": 0, \"pensionskasse\": 0.0, \"totalVermoegen\": 261412.3059, \"lohn\": 5600, \"lohnJahr\": 67200, \"bonus\": 0.0, \"zulagen\": 840, \"totalLohn\": 68040.0, \"schaetzungObjekt\": 1416385.219, \"anzahlung\": 0, \"tragbarkeit\": 10, \"score\": 5}, {\"barvermoegen\": 118898.489, \"aktienvermoegen\": 6700.404703, \"saeule3a\": 40000, \"lebensversicherung\": 0, \"pensionskasse\": 37180.50721, \"totalVermoegen\": 202779.4009, \"lohn\": 5600, \"lohnJahr\": 67200, \"bonus\": 0.0, \"zulagen\": 840, \"totalLohn\": 68040.0, \"schaetzungObjekt\": 499733.3943, \"anzahlung\": 100, \"tragbarkeit\": 50, \"score\": 75}, {\"barvermoegen\": 88497.69721, \"aktienvermoegen\": 9634.550487, \"saeule3a\": 130000, \"lebensversicherung\": 0, \"pensionskasse\": 0.0, \"totalVermoegen\": 228132.2477, \"lohn\": 9100, \"lohnJahr\": 109200, \"bonus\": 0.0, \"zulagen\": 0, \"totalLohn\": 109200.0, \"schaetzungObjekt\": 888789.0172, \"anzahlung\": 80, \"tragbarkeit\": 50, \"score\": 65}, {\"barvermoegen\": 118105.4468, \"aktienvermoegen\": 6663.987089, \"saeule3a\": 130000, \"lebensversicherung\": 0, \"pensionskasse\": 0.0, \"totalVermoegen\": 254769.4339, \"lohn\": 9100, \"lohnJahr\": 109200, \"bonus\": 0.0, \"zulagen\": 0, \"totalLohn\": 109200.0, \"schaetzungObjekt\": 355759.5018, \"anzahlung\": 100, \"tragbarkeit\": 100, \"score\": 100}, {\"barvermoegen\": 125795.5268, \"aktienvermoegen\": 5848.526646, \"saeule3a\": 40000, \"lebensversicherung\": 0, \"pensionskasse\": 36856.15866, \"totalVermoegen\": 208500.2121, \"lohn\": 5600, \"lohnJahr\": 67200, \"bonus\": 0.0, \"zulagen\": 840, \"totalLohn\": 68040.0, \"schaetzungObjekt\": 822670.497, \"anzahlung\": 80, \"tragbarkeit\": 20, \"score\": 50}, {\"barvermoegen\": 175862.7807, \"aktienvermoegen\": 778.534538, \"saeule3a\": 100000, \"lebensversicherung\": 68000, \"pensionskasse\": 0.0, \"totalVermoegen\": 344641.3152, \"lohn\": 9100, \"lohnJahr\": 109200, \"bonus\": 0.0, \"zulagen\": 0, \"totalLohn\": 109200.0, \"schaetzungObjekt\": 902891.4548, \"anzahlung\": 90, \"tragbarkeit\": 50, \"score\": 70}, {\"barvermoegen\": 144810.4099, \"aktienvermoegen\": 3760.546449, \"saeule3a\": 100000, \"lebensversicherung\": 0, \"pensionskasse\": 0.0, \"totalVermoegen\": 248570.9564, \"lohn\": 5600, \"lohnJahr\": 67200, \"bonus\": 0.0, \"zulagen\": 840, \"totalLohn\": 68040.0, \"schaetzungObjekt\": 1736887.669, \"anzahlung\": 0, \"tragbarkeit\": 10, \"score\": 5}, {\"barvermoegen\": 81213.38113, \"aktienvermoegen\": 10115.44037, \"saeule3a\": 80000, \"lebensversicherung\": 0, \"pensionskasse\": 364735.5697, \"totalVermoegen\": 536064.3913, \"lohn\": 13000, \"lohnJahr\": 156000, \"bonus\": 25874.74762, \"zulagen\": 0, \"totalLohn\": 181874.7476, \"schaetzungObjekt\": 1309807.323, \"anzahlung\": 100, \"tragbarkeit\": 40, \"score\": 70}, {\"barvermoegen\": 86432.14973, \"aktienvermoegen\": 9588.754561, \"saeule3a\": 80000, \"lebensversicherung\": 52000, \"pensionskasse\": 364639.3907, \"totalVermoegen\": 592660.295, \"lohn\": 9100, \"lohnJahr\": 109200, \"bonus\": 0.0, \"zulagen\": 0, \"totalLohn\": 109200.0, \"schaetzungObjekt\": 543798.9341, \"anzahlung\": 100, \"tragbarkeit\": 80, \"score\": 90}, {\"barvermoegen\": 134541.5394, \"aktienvermoegen\": 4739.446284, \"saeule3a\": 80000, \"lebensversicherung\": 0, \"pensionskasse\": 363872.0045, \"totalVermoegen\": 583152.9902, \"lohn\": 13000, \"lohnJahr\": 156000, \"bonus\": 746.2741093, \"zulagen\": 0, \"totalLohn\": 156746.2741, \"schaetzungObjekt\": 167316.0075, \"anzahlung\": 100, \"tragbarkeit\": 100, \"score\": 100}, {\"barvermoegen\": 54605.63675, \"aktienvermoegen\": 12723.48686, \"saeule3a\": 100000, \"lebensversicherung\": 61000, \"pensionskasse\": 545521.516, \"totalVermoegen\": 773850.6396, \"lohn\": 13000, \"lohnJahr\": 156000, \"bonus\": 19210.77935, \"zulagen\": 0, \"totalLohn\": 175210.7793, \"schaetzungObjekt\": 534341.7716, \"anzahlung\": 100, \"tragbarkeit\": 100, \"score\": 100}, {\"barvermoegen\": 96581.79175, \"aktienvermoegen\": 8418.641932, \"saeule3a\": 100000, \"lebensversicherung\": 0, \"pensionskasse\": 90384.10553, \"totalVermoegen\": 295384.5392, \"lohn\": 5600, \"lohnJahr\": 67200, \"bonus\": 0.0, \"zulagen\": 840, \"totalLohn\": 68040.0, \"schaetzungObjekt\": 1214806.256, \"anzahlung\": 80, \"tragbarkeit\": 10, \"score\": 45}, {\"barvermoegen\": 108484.3989, \"aktienvermoegen\": 7204.711614, \"saeule3a\": 80000, \"lebensversicherung\": 0, \"pensionskasse\": 361063.0301, \"totalVermoegen\": 556752.1407, \"lohn\": 13000, \"lohnJahr\": 156000, \"bonus\": 27682.22592, \"zulagen\": 0, \"totalLohn\": 183682.2259, \"schaetzungObjekt\": 857547.3796, \"anzahlung\": 100, \"tragbarkeit\": 80, \"score\": 90}, {\"barvermoegen\": 92720.4837, \"aktienvermoegen\": 8710.264868, \"saeule3a\": 80000, \"lebensversicherung\": 0, \"pensionskasse\": 44955.7831, \"totalVermoegen\": 226386.5317, \"lohn\": 5600, \"lohnJahr\": 67200, \"bonus\": 0.0, \"zulagen\": 840, \"totalLohn\": 68040.0, \"schaetzungObjekt\": 1112840.066, \"anzahlung\": 80, \"tragbarkeit\": 20, \"score\": 50}, {\"barvermoegen\": 134417.3589, \"aktienvermoegen\": 4519.397489, \"saeule3a\": 0, \"lebensversicherung\": 25000, \"pensionskasse\": 17961.13338, \"totalVermoegen\": 181897.8898, \"lohn\": 5600, \"lohnJahr\": 67200, \"bonus\": 0.0, \"zulagen\": 0, \"totalLohn\": 67200.0, \"schaetzungObjekt\": 1283317.135, \"anzahlung\": 0, \"tragbarkeit\": 10, \"score\": 5}, {\"barvermoegen\": 5561.695865, \"aktienvermoegen\": 17257.76208, \"saeule3a\": 0, \"lebensversicherung\": 29000, \"pensionskasse\": 17813.93166, \"totalVermoegen\": 69633.3896, \"lohn\": 8000, \"lohnJahr\": 96000, \"bonus\": 26243.74651, \"zulagen\": 0, \"totalLohn\": 122243.7465, \"schaetzungObjekt\": 1510194.859, \"anzahlung\": 60, \"tragbarkeit\": 20, \"score\": 40}, {\"barvermoegen\": 149153.8185, \"aktienvermoegen\": 2801.381671, \"saeule3a\": 80000, \"lebensversicherung\": 0, \"pensionskasse\": 44291.90881, \"totalVermoegen\": 276247.109, \"lohn\": 5600, \"lohnJahr\": 67200, \"bonus\": 0.0, \"zulagen\": 840, \"totalLohn\": 68040.0, \"schaetzungObjekt\": 1306438.539, \"anzahlung\": 80, \"tragbarkeit\": 10, \"score\": 45}, {\"barvermoegen\": 120820.792, \"aktienvermoegen\": 5572.611311, \"saeule3a\": 100000, \"lebensversicherung\": 0, \"pensionskasse\": 88273.45255, \"totalVermoegen\": 314666.8558, \"lohn\": 5600, \"lohnJahr\": 67200, \"bonus\": 0.0, \"zulagen\": 840, \"totalLohn\": 68040.0, \"schaetzungObjekt\": 1696358.909, \"anzahlung\": 0, \"tragbarkeit\": 10, \"score\": 5}, {\"barvermoegen\": 96651.25807, \"aktienvermoegen\": 7959.790119, \"saeule3a\": 100000, \"lebensversicherung\": 0, \"pensionskasse\": 0.0, \"totalVermoegen\": 204611.0482, \"lohn\": 13000, \"lohnJahr\": 156000, \"bonus\": 24421.6407, \"zulagen\": 0, \"totalLohn\": 180421.6407, \"schaetzungObjekt\": 455490.6369, \"anzahlung\": 100, \"tragbarkeit\": 100, \"score\": 100}, {\"barvermoegen\": 45142.33041, \"aktienvermoegen\": 13010.37699, \"saeule3a\": 100000, \"lebensversicherung\": 69000, \"pensionskasse\": 0.0, \"totalVermoegen\": 227152.7074, \"lohn\": 13000, \"lohnJahr\": 156000, \"bonus\": 19746.82188, \"zulagen\": 0, \"totalLohn\": 175746.8219, \"schaetzungObjekt\": 1236974.902, \"anzahlung\": 0, \"tragbarkeit\": 50, \"score\": 25}, {\"barvermoegen\": 151382.7622, \"aktienvermoegen\": 2363.653288, \"saeule3a\": 100000, \"lebensversicherung\": 69000, \"pensionskasse\": 0.0, \"totalVermoegen\": 322746.4155, \"lohn\": 9100, \"lohnJahr\": 109200, \"bonus\": 0.0, \"zulagen\": 0, \"totalLohn\": 109200.0, \"schaetzungObjekt\": 1416794.355, \"anzahlung\": 80, \"tragbarkeit\": 20, \"score\": 50}, {\"barvermoegen\": 112155.8709, \"aktienvermoegen\": 6263.695994, \"saeule3a\": 100000, \"lebensversicherung\": 65000, \"pensionskasse\": 0.0, \"totalVermoegen\": 283419.5669, \"lohn\": 13000, \"lohnJahr\": 156000, \"bonus\": 25328.88618, \"zulagen\": 0, \"totalLohn\": 181328.8862, \"schaetzungObjekt\": 553218.8248, \"anzahlung\": 100, \"tragbarkeit\": 100, \"score\": 100}, {\"barvermoegen\": 106095.7773, \"aktienvermoegen\": 6786.247849, \"saeule3a\": 130000, \"lebensversicherung\": 0, \"pensionskasse\": 0.0, \"totalVermoegen\": 242882.0252, \"lohn\": 5600, \"lohnJahr\": 67200, \"bonus\": 0.0, \"zulagen\": 840, \"totalLohn\": 68040.0, \"schaetzungObjekt\": 882736.8494, \"anzahlung\": 80, \"tragbarkeit\": 20, \"score\": 50}, {\"barvermoegen\": 24065.73329, \"aktienvermoegen\": 14955.58958, \"saeule3a\": 0, \"lebensversicherung\": 0, \"pensionskasse\": 17362.16291, \"totalVermoegen\": 56383.48578, \"lohn\": 5600, \"lohnJahr\": 67200, \"bonus\": 0.0, \"zulagen\": 0, \"totalLohn\": 67200.0, \"schaetzungObjekt\": 346015.6009, \"anzahlung\": 0, \"tragbarkeit\": 80, \"score\": 40}, {\"barvermoegen\": 173072.1989, \"aktienvermoegen\": 1.225990667, \"saeule3a\": 20000, \"lebensversicherung\": 39000, \"pensionskasse\": 21635.55735, \"totalVermoegen\": 253708.9822, \"lohn\": 5600, \"lohnJahr\": 67200, \"bonus\": 0.0, \"zulagen\": 0, \"totalLohn\": 67200.0, \"schaetzungObjekt\": 1562458.017, \"anzahlung\": 0, \"tragbarkeit\": 10, \"score\": 5}, {\"barvermoegen\": 164825.134, \"aktienvermoegen\": 805.8440139, \"saeule3a\": 80000, \"lebensversicherung\": 0, \"pensionskasse\": 43220.89353, \"totalVermoegen\": 288851.8715, \"lohn\": 5600, \"lohnJahr\": 67200, \"bonus\": 0.0, \"zulagen\": 840, \"totalLohn\": 68040.0, \"schaetzungObjekt\": 9245.00733, \"anzahlung\": 100, \"tragbarkeit\": 100, \"score\": 100}, {\"barvermoegen\": 60279.37938, \"aktienvermoegen\": 11238.14822, \"saeule3a\": 40000, \"lebensversicherung\": 48000, \"pensionskasse\": 86330.4308, \"totalVermoegen\": 245847.9584, \"lohn\": 9100, \"lohnJahr\": 109200, \"bonus\": 0.0, \"zulagen\": 0, \"totalLohn\": 109200.0, \"schaetzungObjekt\": 1547012.042, \"anzahlung\": 0, \"tragbarkeit\": 20, \"score\": 10}, {\"barvermoegen\": 155640.6143, \"aktienvermoegen\": 1664.235228, \"saeule3a\": 100000, \"lebensversicherung\": 61000, \"pensionskasse\": 516848.8997, \"totalVermoegen\": 835153.7492, \"lohn\": 9100, \"lohnJahr\": 109200, \"bonus\": 0.0, \"zulagen\": 0, \"totalLohn\": 109200.0, \"schaetzungObjekt\": 123810.1409, \"anzahlung\": 100, \"tragbarkeit\": 100, \"score\": 100}, {\"barvermoegen\": 142527.296, \"aktienvermoegen\": 2880.513491, \"saeule3a\": 40000, \"lebensversicherung\": 0, \"pensionskasse\": 34266.48618, \"totalVermoegen\": 219674.2957, \"lohn\": 5600, \"lohnJahr\": 67200, \"bonus\": 0.0, \"zulagen\": 840, \"totalLohn\": 68040.0, \"schaetzungObjekt\": 1537727.86, \"anzahlung\": 0, \"tragbarkeit\": 10, \"score\": 5}, {\"barvermoegen\": 155764.0626, \"aktienvermoegen\": 1534.804319, \"saeule3a\": 100000, \"lebensversicherung\": 0, \"pensionskasse\": 513336.3175, \"totalVermoegen\": 770635.1844, \"lohn\": 13000, \"lohnJahr\": 156000, \"bonus\": 8336.595762, \"zulagen\": 0, \"totalLohn\": 164336.5958, \"schaetzungObjekt\": 1806063.367, \"anzahlung\": 100, \"tragbarkeit\": 20, \"score\": 60}, {\"barvermoegen\": 5506.640927, \"aktienvermoegen\": 16440.15213, \"saeule3a\": 130000, \"lebensversicherung\": 0, \"pensionskasse\": 0.0, \"totalVermoegen\": 151946.7931, \"lohn\": 5600, \"lohnJahr\": 67200, \"bonus\": 0.0, \"zulagen\": 840, \"totalLohn\": 68040.0, \"schaetzungObjekt\": 1481091.022, \"anzahlung\": 0, \"tragbarkeit\": 10, \"score\": 5}, {\"barvermoegen\": 119872.3633, \"aktienvermoegen\": 4936.186328, \"saeule3a\": 130000, \"lebensversicherung\": 76000, \"pensionskasse\": 0.0, \"totalVermoegen\": 330808.5497, \"lohn\": 9100, \"lohnJahr\": 109200, \"bonus\": 0.0, \"zulagen\": 0, \"totalLohn\": 109200.0, \"schaetzungObjekt\": 547310.5582, \"anzahlung\": 100, \"tragbarkeit\": 80, \"score\": 90}, {\"barvermoegen\": 74999.66075, \"aktienvermoegen\": 9304.699318, \"saeule3a\": 130000, \"lebensversicherung\": 84000, \"pensionskasse\": 0.0, \"totalVermoegen\": 298304.3601, \"lohn\": 9100, \"lohnJahr\": 109200, \"bonus\": 0.0, \"zulagen\": 0, \"totalLohn\": 109200.0, \"schaetzungObjekt\": 997073.6998, \"anzahlung\": 80, \"tragbarkeit\": 40, \"score\": 60}, {\"barvermoegen\": 165620.7641, \"aktienvermoegen\": 227.548214, \"saeule3a\": 20000, \"lebensversicherung\": 0, \"pensionskasse\": 27982.70771, \"totalVermoegen\": 213831.02, \"lohn\": 3200, \"lohnJahr\": 38400, \"bonus\": 0.0, \"zulagen\": 480, \"totalLohn\": 38880.0, \"schaetzungObjekt\": 6962.208019, \"anzahlung\": 100, \"tragbarkeit\": 100, \"score\": 100}, {\"barvermoegen\": 86596.84855, \"aktienvermoegen\": 8125.642407, \"saeule3a\": 100000, \"lebensversicherung\": 66000, \"pensionskasse\": 0.0, \"totalVermoegen\": 260722.491, \"lohn\": 9100, \"lohnJahr\": 109200, \"bonus\": 0.0, \"zulagen\": 0, \"totalLohn\": 109200.0, \"schaetzungObjekt\": 500342.7658, \"anzahlung\": 100, \"tragbarkeit\": 100, \"score\": 100}, {\"barvermoegen\": 148684.852, \"aktienvermoegen\": 1865.44424, \"saeule3a\": 0, \"lebensversicherung\": 0, \"pensionskasse\": 16733.92944, \"totalVermoegen\": 167284.2257, \"lohn\": 5600, \"lohnJahr\": 67200, \"bonus\": 0.0, \"zulagen\": 0, \"totalLohn\": 67200.0, \"schaetzungObjekt\": 286541.6909, \"anzahlung\": 100, \"tragbarkeit\": 100, \"score\": 100}, {\"barvermoegen\": 97311.1169, \"aktienvermoegen\": 6968.643489, \"saeule3a\": 80000, \"lebensversicherung\": 0, \"pensionskasse\": 333995.1036, \"totalVermoegen\": 518274.864, \"lohn\": 9100, \"lohnJahr\": 109200, \"bonus\": 0.0, \"zulagen\": 0, \"totalLohn\": 109200.0, \"schaetzungObjekt\": 364689.7047, \"anzahlung\": 100, \"tragbarkeit\": 100, \"score\": 100}, {\"barvermoegen\": 122106.0012, \"aktienvermoegen\": 4476.365285, \"saeule3a\": 20000, \"lebensversicherung\": 0, \"pensionskasse\": 27811.60902, \"totalVermoegen\": 174393.9755, \"lohn\": 3200, \"lohnJahr\": 38400, \"bonus\": 0.0, \"zulagen\": 480, \"totalLohn\": 38880.0, \"schaetzungObjekt\": 1751241.781, \"anzahlung\": 60, \"tragbarkeit\": 0, \"score\": 30}, {\"barvermoegen\": 139254.5134, \"aktienvermoegen\": 2742.380571, \"saeule3a\": 20000, \"lebensversicherung\": 34000, \"pensionskasse\": 20834.78989, \"totalVermoegen\": 216831.6839, \"lohn\": 5600, \"lohnJahr\": 67200, \"bonus\": 0.0, \"zulagen\": 0, \"totalLohn\": 67200.0, \"schaetzungObjekt\": 1525855.063, \"anzahlung\": 0, \"tragbarkeit\": 10, \"score\": 5}, {\"barvermoegen\": 71109.17474, \"aktienvermoegen\": 9501.696743, \"saeule3a\": 100000, \"lebensversicherung\": 65000, \"pensionskasse\": 0.0, \"totalVermoegen\": 245610.8715, \"lohn\": 9100, \"lohnJahr\": 109200, \"bonus\": 0.0, \"zulagen\": 0, \"totalLohn\": 109200.0, \"schaetzungObjekt\": 896135.6716, \"anzahlung\": 80, \"tragbarkeit\": 50, \"score\": 65}, {\"barvermoegen\": 93097.20769, \"aktienvermoegen\": 7176.359998, \"saeule3a\": 0, \"lebensversicherung\": 25000, \"pensionskasse\": 16486.08077, \"totalVermoegen\": 141759.6485, \"lohn\": 5600, \"lohnJahr\": 67200, \"bonus\": 0.0, \"zulagen\": 0, \"totalLohn\": 67200.0, \"schaetzungObjekt\": 1017891.542, \"anzahlung\": 0, \"tragbarkeit\": 20, \"score\": 10}, {\"barvermoegen\": 19208.26821, \"aktienvermoegen\": 14496.15509, \"saeule3a\": 40000, \"lebensversicherung\": 0, \"pensionskasse\": 32833.96381, \"totalVermoegen\": 106538.3871, \"lohn\": 5600, \"lohnJahr\": 67200, \"bonus\": 0.0, \"zulagen\": 840, \"totalLohn\": 68040.0, \"schaetzungObjekt\": 546420.0954, \"anzahlung\": 0, \"tragbarkeit\": 50, \"score\": 25}, {\"barvermoegen\": 82889.50466, \"aktienvermoegen\": 8055.112703, \"saeule3a\": 100000, \"lebensversicherung\": 61000, \"pensionskasse\": 490321.8951, \"totalVermoegen\": 742266.5125, \"lohn\": 9100, \"lohnJahr\": 109200, \"bonus\": 0.0, \"zulagen\": 0, \"totalLohn\": 109200.0, \"schaetzungObjekt\": 16176.84892, \"anzahlung\": 100, \"tragbarkeit\": 100, \"score\": 100}, {\"barvermoegen\": 113697.3799, \"aktienvermoegen\": 4868.766947, \"saeule3a\": 100000, \"lebensversicherung\": 0, \"pensionskasse\": 81192.5247, \"totalVermoegen\": 299758.6716, \"lohn\": 5600, \"lohnJahr\": 67200, \"bonus\": 0.0, \"zulagen\": 840, \"totalLohn\": 68040.0, \"schaetzungObjekt\": 89653.75295, \"anzahlung\": 100, \"tragbarkeit\": 100, \"score\": 100}, {\"barvermoegen\": 116493.8948, \"aktienvermoegen\": 4572.642243, \"saeule3a\": 100000, \"lebensversicherung\": 0, \"pensionskasse\": 81110.15859, \"totalVermoegen\": 302176.6956, \"lohn\": 5600, \"lohnJahr\": 67200, \"bonus\": 0.0, \"zulagen\": 840, \"totalLohn\": 68040.0, \"schaetzungObjekt\": 875923.8164, \"anzahlung\": 90, \"tragbarkeit\": 20, \"score\": 55}, {\"barvermoegen\": 144396.3422, \"aktienvermoegen\": 1665.516063, \"saeule3a\": 130000, \"lebensversicherung\": 0, \"pensionskasse\": 0.0, \"totalVermoegen\": 276061.8582, \"lohn\": 5600, \"lohnJahr\": 67200, \"bonus\": 0.0, \"zulagen\": 840, \"totalLohn\": 68040.0, \"schaetzungObjekt\": 629500.6371, \"anzahlung\": 100, \"tragbarkeit\": 40, \"score\": 70}, {\"barvermoegen\": 154809.4326, \"aktienvermoegen\": 353.2003332, \"saeule3a\": 130000, \"lebensversicherung\": 88000, \"pensionskasse\": 0.0, \"totalVermoegen\": 373162.633, \"lohn\": 9100, \"lohnJahr\": 109200, \"bonus\": 0.0, \"zulagen\": 0, \"totalLohn\": 109200.0, \"schaetzungObjekt\": 220351.2739, \"anzahlung\": 100, \"tragbarkeit\": 100, \"score\": 100}, {\"barvermoegen\": 150902.8474, \"aktienvermoegen\": 727.8290165, \"saeule3a\": 20000, \"lebensversicherung\": 0, \"pensionskasse\": 19772.64219, \"totalVermoegen\": 191403.3186, \"lohn\": 5600, \"lohnJahr\": 67200, \"bonus\": 0.0, \"zulagen\": 0, \"totalLohn\": 67200.0, \"schaetzungObjekt\": 250755.7424, \"anzahlung\": 100, \"tragbarkeit\": 100, \"score\": 100}, {\"barvermoegen\": 107375.554, \"aktienvermoegen\": 5076.567943, \"saeule3a\": 130000, \"lebensversicherung\": 0, \"pensionskasse\": 0.0, \"totalVermoegen\": 242452.122, \"lohn\": 9100, \"lohnJahr\": 109200, \"bonus\": 0.0, \"zulagen\": 0, \"totalLohn\": 109200.0, \"schaetzungObjekt\": 572148.3778, \"anzahlung\": 100, \"tragbarkeit\": 80, \"score\": 90}, {\"barvermoegen\": 50444.98166, \"aktienvermoegen\": 10753.62944, \"saeule3a\": 100000, \"lebensversicherung\": 0, \"pensionskasse\": 473943.8282, \"totalVermoegen\": 635142.4393, \"lohn\": 9100, \"lohnJahr\": 109200, \"bonus\": 0.0, \"zulagen\": 0, \"totalLohn\": 109200.0, \"schaetzungObjekt\": 155117.214, \"anzahlung\": 100, \"tragbarkeit\": 100, \"score\": 100}, {\"barvermoegen\": 13732.63819, \"aktienvermoegen\": 14388.95011, \"saeule3a\": 40000, \"lebensversicherung\": 0, \"pensionskasse\": 31524.42787, \"totalVermoegen\": 99646.01618, \"lohn\": 5600, \"lohnJahr\": 67200, \"bonus\": 0.0, \"zulagen\": 840, \"totalLohn\": 68040.0, \"schaetzungObjekt\": 7068.283707, \"anzahlung\": 100, \"tragbarkeit\": 100, \"score\": 100}, {\"barvermoegen\": 23991.51779, \"aktienvermoegen\": 13351.09093, \"saeule3a\": 40000, \"lebensversicherung\": 0, \"pensionskasse\": 78751.21355, \"totalVermoegen\": 156093.8223, \"lohn\": 9100, \"lohnJahr\": 109200, \"bonus\": 0.0, \"zulagen\": 0, \"totalLohn\": 109200.0, \"schaetzungObjekt\": 1509008.302, \"anzahlung\": 0, \"tragbarkeit\": 20, \"score\": 10}, {\"barvermoegen\": 74421.55154, \"aktienvermoegen\": 8189.125649, \"saeule3a\": 80000, \"lebensversicherung\": 57000, \"pensionskasse\": 312625.6161, \"totalVermoegen\": 532236.2933, \"lohn\": 9100, \"lohnJahr\": 109200, \"bonus\": 0.0, \"zulagen\": 0, \"totalLohn\": 109200.0, \"schaetzungObjekt\": 1274105.523, \"anzahlung\": 100, \"tragbarkeit\": 20, \"score\": 60}, {\"barvermoegen\": 113643.0146, \"aktienvermoegen\": 4154.838642, \"saeule3a\": 20000, \"lebensversicherung\": 0, \"pensionskasse\": 25865.23351, \"totalVermoegen\": 163663.0868, \"lohn\": 3200, \"lohnJahr\": 38400, \"bonus\": 0.0, \"zulagen\": 480, \"totalLohn\": 38880.0, \"schaetzungObjekt\": 1975973.611, \"anzahlung\": 60, \"tragbarkeit\": 0, \"score\": 30}, {\"barvermoegen\": 46392.86404, \"aktienvermoegen\": 10846.5662, \"saeule3a\": 130000, \"lebensversicherung\": 0, \"pensionskasse\": 0.0, \"totalVermoegen\": 187239.4302, \"lohn\": 5600, \"lohnJahr\": 67200, \"bonus\": 0.0, \"zulagen\": 840, \"totalLohn\": 68040.0, \"schaetzungObjekt\": 70883.31175, \"anzahlung\": 100, \"tragbarkeit\": 100, \"score\": 100}, {\"barvermoegen\": 95638.88591, \"aktienvermoegen\": 5842.019425, \"saeule3a\": 40000, \"lebensversicherung\": 42000, \"pensionskasse\": 77029.54008, \"totalVermoegen\": 260510.4454, \"lohn\": 9100, \"lohnJahr\": 109200, \"bonus\": 0.0, \"zulagen\": 0, \"totalLohn\": 109200.0, \"schaetzungObjekt\": 1689693.579, \"anzahlung\": 0, \"tragbarkeit\": 20, \"score\": 10}, {\"barvermoegen\": 47720.082, \"aktienvermoegen\": 10502.28456, \"saeule3a\": 0, \"lebensversicherung\": 0, \"pensionskasse\": 15274.29276, \"totalVermoegen\": 73496.65933, \"lohn\": 5600, \"lohnJahr\": 67200, \"bonus\": 0.0, \"zulagen\": 0, \"totalLohn\": 67200.0, \"schaetzungObjekt\": 1977907.764, \"anzahlung\": 60, \"tragbarkeit\": 10, \"score\": 35}, {\"barvermoegen\": 2500.375042, \"aktienvermoegen\": 14943.52624, \"saeule3a\": 130000, \"lebensversicherung\": 76000, \"pensionskasse\": 0.0, \"totalVermoegen\": 223443.9013, \"lohn\": 9100, \"lohnJahr\": 109200, \"bonus\": 0.0, \"zulagen\": 0, \"totalLohn\": 109200.0, \"schaetzungObjekt\": 1348518.571, \"anzahlung\": 0, \"tragbarkeit\": 20, \"score\": 10}, {\"barvermoegen\": 102337.8275, \"aktienvermoegen\": 4788.295768, \"saeule3a\": 0, \"lebensversicherung\": 27000, \"pensionskasse\": 15022.07851, \"totalVermoegen\": 149148.2017, \"lohn\": 5600, \"lohnJahr\": 67200, \"bonus\": 0.0, \"zulagen\": 0, \"totalLohn\": 67200.0, \"schaetzungObjekt\": 849622.7625, \"anzahlung\": 0, \"tragbarkeit\": 20, \"score\": 10}, {\"barvermoegen\": 35158.93251, \"aktienvermoegen\": 11360.9958, \"saeule3a\": 130000, \"lebensversicherung\": 0, \"pensionskasse\": 0.0, \"totalVermoegen\": 176519.9283, \"lohn\": 5600, \"lohnJahr\": 67200, \"bonus\": 0.0, \"zulagen\": 840, \"totalLohn\": 68040.0, \"schaetzungObjekt\": 1430635.714, \"anzahlung\": 0, \"tragbarkeit\": 10, \"score\": 5}, {\"barvermoegen\": 23135.55655, \"aktienvermoegen\": 12426.9433, \"saeule3a\": 100000, \"lebensversicherung\": 0, \"pensionskasse\": 0.0, \"totalVermoegen\": 135562.4998, \"lohn\": 9100, \"lohnJahr\": 109200, \"bonus\": 0.0, \"zulagen\": 0, \"totalLohn\": 109200.0, \"schaetzungObjekt\": 1047543.092, \"anzahlung\": 0, \"tragbarkeit\": 40, \"score\": 20}, {\"barvermoegen\": 4849.572941, \"aktienvermoegen\": 14207.2816, \"saeule3a\": 100000, \"lebensversicherung\": 60000, \"pensionskasse\": 440767.1668, \"totalVermoegen\": 619824.0213, \"lohn\": 13000, \"lohnJahr\": 156000, \"bonus\": 9850.715852, \"zulagen\": 0, \"totalLohn\": 165850.7159, \"schaetzungObjekt\": 940458.7219, \"anzahlung\": 100, \"tragbarkeit\": 70, \"score\": 85}, {\"barvermoegen\": 37580.31918, \"aktienvermoegen\": 10924.93013, \"saeule3a\": 130000, \"lebensversicherung\": 0, \"pensionskasse\": 0.0, \"totalVermoegen\": 178505.2493, \"lohn\": 9100, \"lohnJahr\": 109200, \"bonus\": 0.0, \"zulagen\": 0, \"totalLohn\": 109200.0, \"schaetzungObjekt\": 271837.2882, \"anzahlung\": 100, \"tragbarkeit\": 100, \"score\": 100}, {\"barvermoegen\": 113328.2751, \"aktienvermoegen\": 3320.530487, \"saeule3a\": 100000, \"lebensversicherung\": 0, \"pensionskasse\": 0.0, \"totalVermoegen\": 216648.8056, \"lohn\": 13000, \"lohnJahr\": 156000, \"bonus\": 17738.39578, \"zulagen\": 0, \"totalLohn\": 173738.3958, \"schaetzungObjekt\": 955489.4989, \"anzahlung\": 80, \"tragbarkeit\": 70, \"score\": 75}, {\"barvermoegen\": 103436.5419, \"aktienvermoegen\": 4274.608677, \"saeule3a\": 130000, \"lebensversicherung\": 73000, \"pensionskasse\": 0.0, \"totalVermoegen\": 310711.1506, \"lohn\": 9100, \"lohnJahr\": 109200, \"bonus\": 0.0, \"zulagen\": 0, \"totalLohn\": 109200.0, \"schaetzungObjekt\": 1871404.357, \"anzahlung\": 0, \"tragbarkeit\": 10, \"score\": 5}, {\"barvermoegen\": 66608.41201, \"aktienvermoegen\": 7576.525284, \"saeule3a\": 130000, \"lebensversicherung\": 0, \"pensionskasse\": 0.0, \"totalVermoegen\": 204184.9373, \"lohn\": 9100, \"lohnJahr\": 109200, \"bonus\": 0.0, \"zulagen\": 0, \"totalLohn\": 109200.0, \"schaetzungObjekt\": 1390511.107, \"anzahlung\": 0, \"tragbarkeit\": 20, \"score\": 10}, {\"barvermoegen\": 122061.4579, \"aktienvermoegen\": 2018.635565, \"saeule3a\": 20000, \"lebensversicherung\": 39000, \"pensionskasse\": 17780.97669, \"totalVermoegen\": 200861.0701, \"lohn\": 5600, \"lohnJahr\": 67200, \"bonus\": 0.0, \"zulagen\": 0, \"totalLohn\": 67200.0, \"schaetzungObjekt\": 537120.6561, \"anzahlung\": 90, \"tragbarkeit\": 50, \"score\": 70}, {\"barvermoegen\": 48407.52954, \"aktienvermoegen\": 9333.756079, \"saeule3a\": 0, \"lebensversicherung\": 27000, \"pensionskasse\": 14174.50903, \"totalVermoegen\": 98915.79465, \"lohn\": 5600, \"lohnJahr\": 67200, \"bonus\": 0.0, \"zulagen\": 0, \"totalLohn\": 67200.0, \"schaetzungObjekt\": 1664359.919, \"anzahlung\": 60, \"tragbarkeit\": 10, \"score\": 35}, {\"barvermoegen\": 30782.05718, \"aktienvermoegen\": 11022.9412, \"saeule3a\": 100000, \"lebensversicherung\": 64000, \"pensionskasse\": 423034.4075, \"totalVermoegen\": 628839.4059, \"lohn\": 9100, \"lohnJahr\": 109200, \"bonus\": 0.0, \"zulagen\": 0, \"totalLohn\": 109200.0, \"schaetzungObjekt\": 566354.8012, \"anzahlung\": 100, \"tragbarkeit\": 80, \"score\": 90}, {\"barvermoegen\": 91442.13097, \"aktienvermoegen\": 4944.451005, \"saeule3a\": 80000, \"lebensversicherung\": 0, \"pensionskasse\": 281773.282, \"totalVermoegen\": 458159.864, \"lohn\": 9100, \"lohnJahr\": 109200, \"bonus\": 0.0, \"zulagen\": 0, \"totalLohn\": 109200.0, \"schaetzungObjekt\": 1238671.273, \"anzahlung\": 90, \"tragbarkeit\": 20, \"score\": 55}, {\"barvermoegen\": 137057.7745, \"aktienvermoegen\": 363.2756754, \"saeule3a\": 130000, \"lebensversicherung\": 0, \"pensionskasse\": 0.0, \"totalVermoegen\": 267421.0501, \"lohn\": 5600, \"lohnJahr\": 67200, \"bonus\": 0.0, \"zulagen\": 840, \"totalLohn\": 68040.0, \"schaetzungObjekt\": 839812.5888, \"anzahlung\": 90, \"tragbarkeit\": 20, \"score\": 55}, {\"barvermoegen\": 14625.9779, \"aktienvermoegen\": 12604.64771, \"saeule3a\": 100000, \"lebensversicherung\": 0, \"pensionskasse\": 0.0, \"totalVermoegen\": 127230.6256, \"lohn\": 5600, \"lohnJahr\": 67200, \"bonus\": 0.0, \"zulagen\": 840, \"totalLohn\": 68040.0, \"schaetzungObjekt\": 1576484.297, \"anzahlung\": 60, \"tragbarkeit\": 10, \"score\": 35}, {\"barvermoegen\": 94813.03224, \"aktienvermoegen\": 4585.942278, \"saeule3a\": 100000, \"lebensversicherung\": 0, \"pensionskasse\": 0.0, \"totalVermoegen\": 199398.9745, \"lohn\": 5600, \"lohnJahr\": 67200, \"bonus\": 0.0, \"zulagen\": 840, \"totalLohn\": 68040.0, \"schaetzungObjekt\": 1545729.374, \"anzahlung\": 0, \"tragbarkeit\": 10, \"score\": 5}, {\"barvermoegen\": 92757.78454, \"aktienvermoegen\": 4789.693533, \"saeule3a\": 20000, \"lebensversicherung\": 0, \"pensionskasse\": 17581.83998, \"totalVermoegen\": 135129.3181, \"lohn\": 5600, \"lohnJahr\": 67200, \"bonus\": 0.0, \"zulagen\": 0, \"totalLohn\": 67200.0, \"schaetzungObjekt\": 1721111.297, \"anzahlung\": 60, \"tragbarkeit\": 10, \"score\": 35}, {\"barvermoegen\": 65009.28414, \"aktienvermoegen\": 7527.197447, \"saeule3a\": 130000, \"lebensversicherung\": 0, \"pensionskasse\": 0.0, \"totalVermoegen\": 202536.4816, \"lohn\": 13000, \"lohnJahr\": 156000, \"bonus\": 12618.234, \"zulagen\": 0, \"totalLohn\": 168618.234, \"schaetzungObjekt\": 722135.7328, \"anzahlung\": 80, \"tragbarkeit\": 100, \"score\": 90}, {\"barvermoegen\": 80057.93821, \"aktienvermoegen\": 5990.374669, \"saeule3a\": 130000, \"lebensversicherung\": 71000, \"pensionskasse\": 0.0, \"totalVermoegen\": 287048.3129, \"lohn\": 9100, \"lohnJahr\": 109200, \"bonus\": 0.0, \"zulagen\": 0, \"totalLohn\": 109200.0, \"schaetzungObjekt\": 1992426.517, \"anzahlung\": 0, \"tragbarkeit\": 10, \"score\": 5}, {\"barvermoegen\": 119781.8681, \"aktienvermoegen\": 1989.639555, \"saeule3a\": 130000, \"lebensversicherung\": 87000, \"pensionskasse\": 0.0, \"totalVermoegen\": 338771.5076, \"lohn\": 9100, \"lohnJahr\": 109200, \"bonus\": 0.0, \"zulagen\": 0, \"totalLohn\": 109200.0, \"schaetzungObjekt\": 1952062.124, \"anzahlung\": 0, \"tragbarkeit\": 10, \"score\": 5}, {\"barvermoegen\": 20297.99093, \"aktienvermoegen\": 11922.09974, \"saeule3a\": 130000, \"lebensversicherung\": 0, \"pensionskasse\": 0.0, \"totalVermoegen\": 162220.0907, \"lohn\": 9100, \"lohnJahr\": 109200, \"bonus\": 0.0, \"zulagen\": 0, \"totalLohn\": 109200.0, \"schaetzungObjekt\": 444911.5489, \"anzahlung\": 90, \"tragbarkeit\": 100, \"score\": 95}, {\"barvermoegen\": 40543.36247, \"aktienvermoegen\": 9842.822377, \"saeule3a\": 20000, \"lebensversicherung\": 0, \"pensionskasse\": 23161.93104, \"totalVermoegen\": 93548.11588, \"lohn\": 3200, \"lohnJahr\": 38400, \"bonus\": 0.0, \"zulagen\": 480, \"totalLohn\": 38880.0, \"schaetzungObjekt\": 1904718.067, \"anzahlung\": 60, \"tragbarkeit\": 0, \"score\": 30}, {\"barvermoegen\": 58127.31092, \"aktienvermoegen\": 8075.628171, \"saeule3a\": 130000, \"lebensversicherung\": 0, \"pensionskasse\": 0.0, \"totalVermoegen\": 196202.9391, \"lohn\": 9100, \"lohnJahr\": 109200, \"bonus\": 0.0, \"zulagen\": 0, \"totalLohn\": 109200.0, \"schaetzungObjekt\": 465174.2715, \"anzahlung\": 100, \"tragbarkeit\": 100, \"score\": 100}, {\"barvermoegen\": 102887.1552, \"aktienvermoegen\": 3538.082324, \"saeule3a\": 80000, \"lebensversicherung\": 0, \"pensionskasse\": 276535.9568, \"totalVermoegen\": 462961.1943, \"lohn\": 9100, \"lohnJahr\": 109200, \"bonus\": 0.0, \"zulagen\": 0, \"totalLohn\": 109200.0, \"schaetzungObjekt\": 1638320.674, \"anzahlung\": 80, \"tragbarkeit\": 20, \"score\": 50}, {\"barvermoegen\": 17673.86726, \"aktienvermoegen\": 12033.11535, \"saeule3a\": 40000, \"lebensversicherung\": 44000, \"pensionskasse\": 69002.51037, \"totalVermoegen\": 182709.493, \"lohn\": 9100, \"lohnJahr\": 109200, \"bonus\": 0.0, \"zulagen\": 0, \"totalLohn\": 109200.0, \"schaetzungObjekt\": 1094695.005, \"anzahlung\": 0, \"tragbarkeit\": 40, \"score\": 20}, {\"barvermoegen\": 86234.98986, \"aktienvermoegen\": 5096.615125, \"saeule3a\": 80000, \"lebensversicherung\": 0, \"pensionskasse\": 274402.2822, \"totalVermoegen\": 445733.8872, \"lohn\": 9100, \"lohnJahr\": 109200, \"bonus\": 0.0, \"zulagen\": 0, \"totalLohn\": 109200.0, \"schaetzungObjekt\": 1086484.86, \"anzahlung\": 100, \"tragbarkeit\": 40, \"score\": 70}, {\"barvermoegen\": 75580.69089, \"aktienvermoegen\": 6095.913389, \"saeule3a\": 40000, \"lebensversicherung\": 47000, \"pensionskasse\": 68269.91239, \"totalVermoegen\": 236946.5167, \"lohn\": 13000, \"lohnJahr\": 156000, \"bonus\": 22366.18899, \"zulagen\": 0, \"totalLohn\": 178366.189, \"schaetzungObjekt\": 1445259.357, \"anzahlung\": 0, \"tragbarkeit\": 40, \"score\": 20}, {\"barvermoegen\": 80379.35641, \"aktienvermoegen\": 5596.981554, \"saeule3a\": 130000, \"lebensversicherung\": 0, \"pensionskasse\": 0.0, \"totalVermoegen\": 215976.338, \"lohn\": 5600, \"lohnJahr\": 67200, \"bonus\": 0.0, \"zulagen\": 840, \"totalLohn\": 68040.0, \"schaetzungObjekt\": 680198.1863, \"anzahlung\": 90, \"tragbarkeit\": 40, \"score\": 65}, {\"barvermoegen\": 37229.01504, \"aktienvermoegen\": 9870.440415, \"saeule3a\": 40000, \"lebensversicherung\": 0, \"pensionskasse\": 27186.68384, \"totalVermoegen\": 114286.1393, \"lohn\": 5600, \"lohnJahr\": 67200, \"bonus\": 0.0, \"zulagen\": 840, \"totalLohn\": 68040.0, \"schaetzungObjekt\": 1676961.091, \"anzahlung\": 60, \"tragbarkeit\": 10, \"score\": 35}, {\"barvermoegen\": 97258.98807, \"aktienvermoegen\": 3702.165187, \"saeule3a\": 40000, \"lebensversicherung\": 0, \"pensionskasse\": 67140.31997, \"totalVermoegen\": 208101.4732, \"lohn\": 9100, \"lohnJahr\": 109200, \"bonus\": 0.0, \"zulagen\": 0, \"totalLohn\": 109200.0, \"schaetzungObjekt\": 1925867.643, \"anzahlung\": 0, \"tragbarkeit\": 10, \"score\": 5}, {\"barvermoegen\": 38914.7664, \"aktienvermoegen\": 9517.760814, \"saeule3a\": 20000, \"lebensversicherung\": 0, \"pensionskasse\": 16761.54682, \"totalVermoegen\": 85194.07403, \"lohn\": 5600, \"lohnJahr\": 67200, \"bonus\": 0.0, \"zulagen\": 0, \"totalLohn\": 67200.0, \"schaetzungObjekt\": 38863.54004, \"anzahlung\": 100, \"tragbarkeit\": 100, \"score\": 100}, {\"barvermoegen\": 83161.05179, \"aktienvermoegen\": 4941.530877, \"saeule3a\": 40000, \"lebensversicherung\": 0, \"pensionskasse\": 66288.18028, \"totalVermoegen\": 194390.7629, \"lohn\": 13000, \"lohnJahr\": 156000, \"bonus\": 11398.4951, \"zulagen\": 0, \"totalLohn\": 167398.4951, \"schaetzungObjekt\": 1974631.351, \"anzahlung\": 60, \"tragbarkeit\": 20, \"score\": 40}, {\"barvermoegen\": 94860.43043, \"aktienvermoegen\": 3700.516002, \"saeule3a\": 130000, \"lebensversicherung\": 0, \"pensionskasse\": 0.0, \"totalVermoegen\": 228560.9464, \"lohn\": 9100, \"lohnJahr\": 109200, \"bonus\": 0.0, \"zulagen\": 0, \"totalLohn\": 109200.0, \"schaetzungObjekt\": 1828931.515, \"anzahlung\": 0, \"tragbarkeit\": 10, \"score\": 5}, {\"barvermoegen\": 55936.83198, \"aktienvermoegen\": 7575.993352, \"saeule3a\": 130000, \"lebensversicherung\": 0, \"pensionskasse\": 0.0, \"totalVermoegen\": 193512.8253, \"lohn\": 9100, \"lohnJahr\": 109200, \"bonus\": 0.0, \"zulagen\": 0, \"totalLohn\": 109200.0, \"schaetzungObjekt\": 1022610.866, \"anzahlung\": 0, \"tragbarkeit\": 40, \"score\": 20}, {\"barvermoegen\": 44038.6013, \"aktienvermoegen\": 8733.790837, \"saeule3a\": 80000, \"lebensversicherung\": 59000, \"pensionskasse\": 262753.0193, \"totalVermoegen\": 454525.4115, \"lohn\": 13000, \"lohnJahr\": 156000, \"bonus\": 538.3532525, \"zulagen\": 0, \"totalLohn\": 156538.3533, \"schaetzungObjekt\": 606231.7066, \"anzahlung\": 100, \"tragbarkeit\": 100, \"score\": 100}, {\"barvermoegen\": 87384.9045, \"aktienvermoegen\": 4333.608686, \"saeule3a\": 100000, \"lebensversicherung\": 0, \"pensionskasse\": 392162.9741, \"totalVermoegen\": 583881.4873, \"lohn\": 9100, \"lohnJahr\": 109200, \"bonus\": 0.0, \"zulagen\": 0, \"totalLohn\": 109200.0, \"schaetzungObjekt\": 1961972.159, \"anzahlung\": 80, \"tragbarkeit\": 10, \"score\": 45}, {\"barvermoegen\": 44956.11971, \"aktienvermoegen\": 8574.815969, \"saeule3a\": 100000, \"lebensversicherung\": 0, \"pensionskasse\": 0.0, \"totalVermoegen\": 153530.9357, \"lohn\": 9100, \"lohnJahr\": 109200, \"bonus\": 0.0, \"zulagen\": 0, \"totalLohn\": 109200.0, \"schaetzungObjekt\": 830640.5548, \"anzahlung\": 0, \"tragbarkeit\": 50, \"score\": 25}, {\"barvermoegen\": 22379.26906, \"aktienvermoegen\": 10810.70727, \"saeule3a\": 80000, \"lebensversicherung\": 0, \"pensionskasse\": 260972.6835, \"totalVermoegen\": 374162.6598, \"lohn\": 13000, \"lohnJahr\": 156000, \"bonus\": 6376.456158, \"zulagen\": 0, \"totalLohn\": 162376.4562, \"schaetzungObjekt\": 618765.3333, \"anzahlung\": 100, \"tragbarkeit\": 100, \"score\": 100}, {\"barvermoegen\": 93894.84746, \"aktienvermoegen\": 3624.020195, \"saeule3a\": 20000, \"lebensversicherung\": 39000, \"pensionskasse\": 16266.88118, \"totalVermoegen\": 172785.7488, \"lohn\": 5600, \"lohnJahr\": 67200, \"bonus\": 0.0, \"zulagen\": 0, \"totalLohn\": 67200.0, \"schaetzungObjekt\": 1076987.675, \"anzahlung\": 0, \"tragbarkeit\": 20, \"score\": 10}, {\"barvermoegen\": 45493.2403, \"aktienvermoegen\": 8390.750582, \"saeule3a\": 130000, \"lebensversicherung\": 0, \"pensionskasse\": 0.0, \"totalVermoegen\": 183883.9909, \"lohn\": 5600, \"lohnJahr\": 67200, \"bonus\": 0.0, \"zulagen\": 840, \"totalLohn\": 68040.0, \"schaetzungObjekt\": 23490.87611, \"anzahlung\": 100, \"tragbarkeit\": 100, \"score\": 100}, {\"barvermoegen\": 125791.8845, \"aktienvermoegen\": 249.7004387, \"saeule3a\": 20000, \"lebensversicherung\": 0, \"pensionskasse\": 16036.11111, \"totalVermoegen\": 162077.696, \"lohn\": 8000, \"lohnJahr\": 96000, \"bonus\": 19938.89919, \"zulagen\": 0, \"totalLohn\": 115938.8992, \"schaetzungObjekt\": 509266.6719, \"anzahlung\": 90, \"tragbarkeit\": 80, \"score\": 85}, {\"barvermoegen\": 40900.07926, \"aktienvermoegen\": 8697.57853, \"saeule3a\": 40000, \"lebensversicherung\": 0, \"pensionskasse\": 63937.93228, \"totalVermoegen\": 153535.5901, \"lohn\": 13000, \"lohnJahr\": 156000, \"bonus\": 24077.90776, \"zulagen\": 0, \"totalLohn\": 180077.9078, \"schaetzungObjekt\": 562529.9687, \"anzahlung\": 80, \"tragbarkeit\": 100, \"score\": 90}, {\"barvermoegen\": 22589.12079, \"aktienvermoegen\": 10515.47534, \"saeule3a\": 130000, \"lebensversicherung\": 85000, \"pensionskasse\": 0.0, \"totalVermoegen\": 248104.5961, \"lohn\": 9100, \"lohnJahr\": 109200, \"bonus\": 0.0, \"zulagen\": 0, \"totalLohn\": 109200.0, \"schaetzungObjekt\": 604664.4146, \"anzahlung\": 100, \"tragbarkeit\": 80, \"score\": 90}, {\"barvermoegen\": 84984.96219, \"aktienvermoegen\": 4274.254105, \"saeule3a\": 40000, \"lebensversicherung\": 0, \"pensionskasse\": 25545.50065, \"totalVermoegen\": 154804.7169, \"lohn\": 5600, \"lohnJahr\": 67200, \"bonus\": 0.0, \"zulagen\": 840, \"totalLohn\": 68040.0, \"schaetzungObjekt\": 587163.821, \"anzahlung\": 80, \"tragbarkeit\": 40, \"score\": 60}, {\"barvermoegen\": 62538.30096, \"aktienvermoegen\": 6458.006821, \"saeule3a\": 40000, \"lebensversicherung\": 0, \"pensionskasse\": 25423.67383, \"totalVermoegen\": 134419.9816, \"lohn\": 5600, \"lohnJahr\": 67200, \"bonus\": 0.0, \"zulagen\": 840, \"totalLohn\": 68040.0, \"schaetzungObjekt\": 1965797.259, \"anzahlung\": 60, \"tragbarkeit\": 10, \"score\": 35}, {\"barvermoegen\": 92904.29627, \"aktienvermoegen\": 3419.770199, \"saeule3a\": 130000, \"lebensversicherung\": 76000, \"pensionskasse\": 0.0, \"totalVermoegen\": 302324.0665, \"lohn\": 9100, \"lohnJahr\": 109200, \"bonus\": 0.0, \"zulagen\": 0, \"totalLohn\": 109200.0, \"schaetzungObjekt\": 1601934.891, \"anzahlung\": 0, \"tragbarkeit\": 20, \"score\": 10}, {\"barvermoegen\": 10090.38709, \"aktienvermoegen\": 11660.13154, \"saeule3a\": 100000, \"lebensversicherung\": 0, \"pensionskasse\": 0.0, \"totalVermoegen\": 121750.5186, \"lohn\": 5600, \"lohnJahr\": 67200, \"bonus\": 0.0, \"zulagen\": 840, \"totalLohn\": 68040.0, \"schaetzungObjekt\": 1834614.318, \"anzahlung\": 60, \"tragbarkeit\": 10, \"score\": 35}, {\"barvermoegen\": 100588.5032, \"aktienvermoegen\": 2541.596234, \"saeule3a\": 20000, \"lebensversicherung\": 38000, \"pensionskasse\": 15750.55819, \"totalVermoegen\": 176880.6576, \"lohn\": 5600, \"lohnJahr\": 67200, \"bonus\": 0.0, \"zulagen\": 0, \"totalLohn\": 67200.0, \"schaetzungObjekt\": 1997749.391, \"anzahlung\": 60, \"tragbarkeit\": 10, \"score\": 35}, {\"barvermoegen\": 10481.14129, \"aktienvermoegen\": 11496.91009, \"saeule3a\": 40000, \"lebensversicherung\": 0, \"pensionskasse\": 25090.04844, \"totalVermoegen\": 87068.09982, \"lohn\": 5600, \"lohnJahr\": 67200, \"bonus\": 0.0, \"zulagen\": 840, \"totalLohn\": 68040.0, \"schaetzungObjekt\": 1037648.084, \"anzahlung\": 60, \"tragbarkeit\": 20, \"score\": 40}, {\"barvermoegen\": 24743.50966, \"aktienvermoegen\": 9945.742787, \"saeule3a\": 130000, \"lebensversicherung\": 0, \"pensionskasse\": 0.0, \"totalVermoegen\": 164689.2524, \"lohn\": 5600, \"lohnJahr\": 67200, \"bonus\": 0.0, \"zulagen\": 840, \"totalLohn\": 68040.0, \"schaetzungObjekt\": 1280797.352, \"anzahlung\": 0, \"tragbarkeit\": 10, \"score\": 5}, {\"barvermoegen\": 36380.95554, \"aktienvermoegen\": 8574.633407, \"saeule3a\": 130000, \"lebensversicherung\": 82000, \"pensionskasse\": 0.0, \"totalVermoegen\": 256955.589, \"lohn\": 9100, \"lohnJahr\": 109200, \"bonus\": 0.0, \"zulagen\": 0, \"totalLohn\": 109200.0, \"schaetzungObjekt\": 554973.1029, \"anzahlung\": 100, \"tragbarkeit\": 80, \"score\": 90}, {\"barvermoegen\": 9435.588035, \"aktienvermoegen\": 11176.70865, \"saeule3a\": 100000, \"lebensversicherung\": 63000, \"pensionskasse\": 363608.0237, \"totalVermoegen\": 547220.3204, \"lohn\": 9100, \"lohnJahr\": 109200, \"bonus\": 0.0, \"zulagen\": 0, \"totalLohn\": 109200.0, \"schaetzungObjekt\": 94195.06446, \"anzahlung\": 100, \"tragbarkeit\": 100, \"score\": 100}, {\"barvermoegen\": 100017.185, \"aktienvermoegen\": 2018.618228, \"saeule3a\": 130000, \"lebensversicherung\": 0, \"pensionskasse\": 0.0, \"totalVermoegen\": 232035.8032, \"lohn\": 9100, \"lohnJahr\": 109200, \"bonus\": 0.0, \"zulagen\": 0, \"totalLohn\": 109200.0, \"schaetzungObjekt\": 401373.9047, \"anzahlung\": 100, \"tragbarkeit\": 100, \"score\": 100}, {\"barvermoegen\": 62029.15997, \"aktienvermoegen\": 5762.134819, \"saeule3a\": 130000, \"lebensversicherung\": 0, \"pensionskasse\": 0.0, \"totalVermoegen\": 197791.2948, \"lohn\": 13000, \"lohnJahr\": 156000, \"bonus\": 4549.213441, \"zulagen\": 0, \"totalLohn\": 160549.2134, \"schaetzungObjekt\": 744829.0921, \"anzahlung\": 80, \"tragbarkeit\": 80, \"score\": 80}, {\"barvermoegen\": 35291.39287, \"aktienvermoegen\": 8382.365029, \"saeule3a\": 130000, \"lebensversicherung\": 74000, \"pensionskasse\": 0.0, \"totalVermoegen\": 247673.7579, \"lohn\": 9100, \"lohnJahr\": 109200, \"bonus\": 0.0, \"zulagen\": 0, \"totalLohn\": 109200.0, \"schaetzungObjekt\": 1955269.327, \"anzahlung\": 0, \"tragbarkeit\": 10, \"score\": 5}, {\"barvermoegen\": 69560.38926, \"aktienvermoegen\": 4875.418488, \"saeule3a\": 100000, \"lebensversicherung\": 0, \"pensionskasse\": 59157.28707, \"totalVermoegen\": 233593.0948, \"lohn\": 5600, \"lohnJahr\": 67200, \"bonus\": 0.0, \"zulagen\": 840, \"totalLohn\": 68040.0, \"schaetzungObjekt\": 6626.06327, \"anzahlung\": 100, \"tragbarkeit\": 100, \"score\": 100}, {\"barvermoegen\": 38722.21159, \"aktienvermoegen\": 7890.444349, \"saeule3a\": 130000, \"lebensversicherung\": 0, \"pensionskasse\": 0.0, \"totalVermoegen\": 176612.6559, \"lohn\": 9100, \"lohnJahr\": 109200, \"bonus\": 0.0, \"zulagen\": 0, \"totalLohn\": 109200.0, \"schaetzungObjekt\": 1874555.071, \"anzahlung\": 60, \"tragbarkeit\": 10, \"score\": 35}, {\"barvermoegen\": 85121.85996, \"aktienvermoegen\": 3233.324169, \"saeule3a\": 130000, \"lebensversicherung\": 0, \"pensionskasse\": 0.0, \"totalVermoegen\": 218355.1841, \"lohn\": 9100, \"lohnJahr\": 109200, \"bonus\": 0.0, \"zulagen\": 0, \"totalLohn\": 109200.0, \"schaetzungObjekt\": 1257754.529, \"anzahlung\": 0, \"tragbarkeit\": 20, \"score\": 10}, {\"barvermoegen\": 109409.0823, \"aktienvermoegen\": 739.2206358, \"saeule3a\": 20000, \"lebensversicherung\": 0, \"pensionskasse\": 19466.88144, \"totalVermoegen\": 149615.1844, \"lohn\": 3200, \"lohnJahr\": 38400, \"bonus\": 0.0, \"zulagen\": 480, \"totalLohn\": 38880.0, \"schaetzungObjekt\": 1816517.994, \"anzahlung\": 60, \"tragbarkeit\": 0, \"score\": 30}, {\"barvermoegen\": 27763.74356, \"aktienvermoegen\": 8699.732109, \"saeule3a\": 130000, \"lebensversicherung\": 0, \"pensionskasse\": 0.0, \"totalVermoegen\": 166463.4757, \"lohn\": 9100, \"lohnJahr\": 109200, \"bonus\": 0.0, \"zulagen\": 0, \"totalLohn\": 109200.0, \"schaetzungObjekt\": 466483.964, \"anzahlung\": 90, \"tragbarkeit\": 100, \"score\": 95}, {\"barvermoegen\": 81675.70188, \"aktienvermoegen\": 3193.564778, \"saeule3a\": 80000, \"lebensversicherung\": 0, \"pensionskasse\": 227222.6993, \"totalVermoegen\": 392091.966, \"lohn\": 9100, \"lohnJahr\": 109200, \"bonus\": 0.0, \"zulagen\": 0, \"totalLohn\": 109200.0, \"schaetzungObjekt\": 1478340.809, \"anzahlung\": 80, \"tragbarkeit\": 20, \"score\": 50}, {\"barvermoegen\": 80652.09632, \"aktienvermoegen\": 3242.481151, \"saeule3a\": 80000, \"lebensversicherung\": 52000, \"pensionskasse\": 226153.8157, \"totalVermoegen\": 442048.3931, \"lohn\": 13000, \"lohnJahr\": 156000, \"bonus\": 12870.36217, \"zulagen\": 0, \"totalLohn\": 168870.3622, \"schaetzungObjekt\": 108827.9037, \"anzahlung\": 100, \"tragbarkeit\": 100, \"score\": 100}, {\"barvermoegen\": 76224.01275, \"aktienvermoegen\": 3544.005191, \"saeule3a\": 20000, \"lebensversicherung\": 0, \"pensionskasse\": 13958.00808, \"totalVermoegen\": 113726.026, \"lohn\": 5600, \"lohnJahr\": 67200, \"bonus\": 0.0, \"zulagen\": 0, \"totalLohn\": 67200.0, \"schaetzungObjekt\": 285927.7899, \"anzahlung\": 90, \"tragbarkeit\": 100, \"score\": 95}, {\"barvermoegen\": 34962.84202, \"aktienvermoegen\": 7615.706059, \"saeule3a\": 130000, \"lebensversicherung\": 0, \"pensionskasse\": 0.0, \"totalVermoegen\": 172578.5481, \"lohn\": 5600, \"lohnJahr\": 67200, \"bonus\": 0.0, \"zulagen\": 840, \"totalLohn\": 68040.0, \"schaetzungObjekt\": 1693631.235, \"anzahlung\": 0, \"tragbarkeit\": 10, \"score\": 5}, {\"barvermoegen\": 47393.24551, \"aktienvermoegen\": 6246.234578, \"saeule3a\": 40000, \"lebensversicherung\": 0, \"pensionskasse\": 21971.11826, \"totalVermoegen\": 115610.5983, \"lohn\": 5600, \"lohnJahr\": 67200, \"bonus\": 0.0, \"zulagen\": 840, \"totalLohn\": 68040.0, \"schaetzungObjekt\": 216045.9024, \"anzahlung\": 100, \"tragbarkeit\": 100, \"score\": 100}, {\"barvermoegen\": 78653.49674, \"aktienvermoegen\": 3084.227571, \"saeule3a\": 40000, \"lebensversicherung\": 0, \"pensionskasse\": 21899.15449, \"totalVermoegen\": 143636.8788, \"lohn\": 5600, \"lohnJahr\": 67200, \"bonus\": 0.0, \"zulagen\": 840, \"totalLohn\": 68040.0, \"schaetzungObjekt\": 1756087.484, \"anzahlung\": 60, \"tragbarkeit\": 10, \"score\": 35}, {\"barvermoegen\": 15801.47328, \"aktienvermoegen\": 9366.428584, \"saeule3a\": 130000, \"lebensversicherung\": 0, \"pensionskasse\": 0.0, \"totalVermoegen\": 155167.9019, \"lohn\": 5600, \"lohnJahr\": 67200, \"bonus\": 0.0, \"zulagen\": 840, \"totalLohn\": 68040.0, \"schaetzungObjekt\": 93954.022, \"anzahlung\": 100, \"tragbarkeit\": 100, \"score\": 100}, {\"barvermoegen\": 14179.6652, \"aktienvermoegen\": 9488.227828, \"saeule3a\": 40000, \"lebensversicherung\": 0, \"pensionskasse\": 54530.97174, \"totalVermoegen\": 118198.8648, \"lohn\": 13000, \"lohnJahr\": 156000, \"bonus\": 7004.361544, \"zulagen\": 0, \"totalLohn\": 163004.3615, \"schaetzungObjekt\": 521978.7527, \"anzahlung\": 80, \"tragbarkeit\": 100, \"score\": 90}, {\"barvermoegen\": 102064.8998, \"aktienvermoegen\": 586.4040694, \"saeule3a\": 40000, \"lebensversicherung\": 0, \"pensionskasse\": 21585.78809, \"totalVermoegen\": 164237.0919, \"lohn\": 5600, \"lohnJahr\": 67200, \"bonus\": 0.0, \"zulagen\": 840, \"totalLohn\": 68040.0, \"schaetzungObjekt\": 1145759.751, \"anzahlung\": 0, \"tragbarkeit\": 10, \"score\": 5}, {\"barvermoegen\": 20832.0338, \"aktienvermoegen\": 8705.239825, \"saeule3a\": 100000, \"lebensversicherung\": 0, \"pensionskasse\": 0.0, \"totalVermoegen\": 129537.2736, \"lohn\": 9100, \"lohnJahr\": 109200, \"bonus\": 0.0, \"zulagen\": 0, \"totalLohn\": 109200.0, \"schaetzungObjekt\": 581099.1108, \"anzahlung\": 80, \"tragbarkeit\": 80, \"score\": 80}, {\"barvermoegen\": 90514.1016, \"aktienvermoegen\": 1699.908609, \"saeule3a\": 0, \"lebensversicherung\": 0, \"pensionskasse\": 10751.31877, \"totalVermoegen\": 102965.329, \"lohn\": 5600, \"lohnJahr\": 67200, \"bonus\": 0.0, \"zulagen\": 0, \"totalLohn\": 67200.0, \"schaetzungObjekt\": 656536.4124, \"anzahlung\": 0, \"tragbarkeit\": 40, \"score\": 20}, {\"barvermoegen\": 76276.51572, \"aktienvermoegen\": 3024.520905, \"saeule3a\": 130000, \"lebensversicherung\": 0, \"pensionskasse\": 0.0, \"totalVermoegen\": 209301.0366, \"lohn\": 5600, \"lohnJahr\": 67200, \"bonus\": 0.0, \"zulagen\": 840, \"totalLohn\": 68040.0, \"schaetzungObjekt\": 1794522.76, \"anzahlung\": 0, \"tragbarkeit\": 10, \"score\": 5}, {\"barvermoegen\": 52505.68582, \"aktienvermoegen\": 5376.501842, \"saeule3a\": 130000, \"lebensversicherung\": 0, \"pensionskasse\": 0.0, \"totalVermoegen\": 187882.1877, \"lohn\": 9100, \"lohnJahr\": 109200, \"bonus\": 0.0, \"zulagen\": 0, \"totalLohn\": 109200.0, \"schaetzungObjekt\": 1507706.893, \"anzahlung\": 0, \"tragbarkeit\": 20, \"score\": 10}, {\"barvermoegen\": 98725.43017, \"aktienvermoegen\": 744.2103258, \"saeule3a\": 20000, \"lebensversicherung\": 0, \"pensionskasse\": 13270.94168, \"totalVermoegen\": 132740.5822, \"lohn\": 8000, \"lohnJahr\": 96000, \"bonus\": 4543.899143, \"zulagen\": 0, \"totalLohn\": 100543.8991, \"schaetzungObjekt\": 1761598.475, \"anzahlung\": 60, \"tragbarkeit\": 10, \"score\": 35}, {\"barvermoegen\": 5384.19169, \"aktienvermoegen\": 10069.48365, \"saeule3a\": 130000, \"lebensversicherung\": 0, \"pensionskasse\": 0.0, \"totalVermoegen\": 145453.6753, \"lohn\": 5600, \"lohnJahr\": 67200, \"bonus\": 0.0, \"zulagen\": 840, \"totalLohn\": 68040.0, \"schaetzungObjekt\": 432087.0132, \"anzahlung\": 90, \"tragbarkeit\": 70, \"score\": 80}, {\"barvermoegen\": 4128.804074, \"aktienvermoegen\": 10172.93875, \"saeule3a\": 80000, \"lebensversicherung\": 0, \"pensionskasse\": 26464.54789, \"totalVermoegen\": 120766.2907, \"lohn\": 5600, \"lohnJahr\": 67200, \"bonus\": 0.0, \"zulagen\": 840, \"totalLohn\": 68040.0, \"schaetzungObjekt\": 334823.3004, \"anzahlung\": 90, \"tragbarkeit\": 80, \"score\": 85}, {\"barvermoegen\": 30791.88739, \"aktienvermoegen\": 7447.831583, \"saeule3a\": 20000, \"lebensversicherung\": 31000, \"pensionskasse\": 13158.7754, \"totalVermoegen\": 102398.4944, \"lohn\": 5600, \"lohnJahr\": 67200, \"bonus\": 0.0, \"zulagen\": 0, \"totalLohn\": 67200.0, \"schaetzungObjekt\": 513588.916, \"anzahlung\": 0, \"tragbarkeit\": 50, \"score\": 25}, {\"barvermoegen\": 56579.16148, \"aktienvermoegen\": 4811.925379, \"saeule3a\": 40000, \"lebensversicherung\": 45000, \"pensionskasse\": 52349.20764, \"totalVermoegen\": 198740.2945, \"lohn\": 9100, \"lohnJahr\": 109200, \"bonus\": 0.0, \"zulagen\": 0, \"totalLohn\": 109200.0, \"schaetzungObjekt\": 1106473.71, \"anzahlung\": 0, \"tragbarkeit\": 40, \"score\": 20}, {\"barvermoegen\": 32922.64349, \"aktienvermoegen\": 7171.745044, \"saeule3a\": 130000, \"lebensversicherung\": 0, \"pensionskasse\": 0.0, \"totalVermoegen\": 170094.3885, \"lohn\": 5600, \"lohnJahr\": 67200, \"bonus\": 0.0, \"zulagen\": 840, \"totalLohn\": 68040.0, \"schaetzungObjekt\": 1236080.266, \"anzahlung\": 0, \"tragbarkeit\": 10, \"score\": 5}, {\"barvermoegen\": 86624.99036, \"aktienvermoegen\": 1785.412301, \"saeule3a\": 100000, \"lebensversicherung\": 0, \"pensionskasse\": 0.0, \"totalVermoegen\": 188410.4027, \"lohn\": 5600, \"lohnJahr\": 67200, \"bonus\": 0.0, \"zulagen\": 840, \"totalLohn\": 68040.0, \"schaetzungObjekt\": 146989.9698, \"anzahlung\": 100, \"tragbarkeit\": 100, \"score\": 100}, {\"barvermoegen\": 64220.90837, \"aktienvermoegen\": 3880.051236, \"saeule3a\": 0, \"lebensversicherung\": 0, \"pensionskasse\": 10302.14207, \"totalVermoegen\": 78403.10168, \"lohn\": 5600, \"lohnJahr\": 67200, \"bonus\": 0.0, \"zulagen\": 0, \"totalLohn\": 67200.0, \"schaetzungObjekt\": 1680637.461, \"anzahlung\": 60, \"tragbarkeit\": 10, \"score\": 35}, {\"barvermoegen\": 82173.00537, \"aktienvermoegen\": 1822.020305, \"saeule3a\": 20000, \"lebensversicherung\": 30000, \"pensionskasse\": 12549.15105, \"totalVermoegen\": 146544.1767, \"lohn\": 5600, \"lohnJahr\": 67200, \"bonus\": 0.0, \"zulagen\": 0, \"totalLohn\": 67200.0, \"schaetzungObjekt\": 555143.3463, \"anzahlung\": 80, \"tragbarkeit\": 50, \"score\": 65}, {\"barvermoegen\": 73277.62853, \"aktienvermoegen\": 2681.442345, \"saeule3a\": 80000, \"lebensversicherung\": 0, \"pensionskasse\": 25023.013, \"totalVermoegen\": 180982.0839, \"lohn\": 5600, \"lohnJahr\": 67200, \"bonus\": 0.0, \"zulagen\": 840, \"totalLohn\": 68040.0, \"schaetzungObjekt\": 886142.1395, \"anzahlung\": 80, \"tragbarkeit\": 20, \"score\": 50}, {\"barvermoegen\": 18189.11862, \"aktienvermoegen\": 8098.718588, \"saeule3a\": 20000, \"lebensversicherung\": 0, \"pensionskasse\": 16529.38408, \"totalVermoegen\": 62817.22129, \"lohn\": 3200, \"lohnJahr\": 38400, \"bonus\": 0.0, \"zulagen\": 480, \"totalLohn\": 38880.0, \"schaetzungObjekt\": 73507.5127, \"anzahlung\": 100, \"tragbarkeit\": 100, \"score\": 100}, {\"barvermoegen\": 15178.61244, \"aktienvermoegen\": 8376.952258, \"saeule3a\": 130000, \"lebensversicherung\": 0, \"pensionskasse\": 0.0, \"totalVermoegen\": 153555.5647, \"lohn\": 5600, \"lohnJahr\": 67200, \"bonus\": 0.0, \"zulagen\": 840, \"totalLohn\": 68040.0, \"schaetzungObjekt\": 1137780.88, \"anzahlung\": 0, \"tragbarkeit\": 10, \"score\": 5}, {\"barvermoegen\": 90190.24214, \"aktienvermoegen\": 810.2715636, \"saeule3a\": 40000, \"lebensversicherung\": 0, \"pensionskasse\": 49146.47889, \"totalVermoegen\": 180146.9926, \"lohn\": 9100, \"lohnJahr\": 109200, \"bonus\": 0.0, \"zulagen\": 0, \"totalLohn\": 109200.0, \"schaetzungObjekt\": 1697334.519, \"anzahlung\": 0, \"tragbarkeit\": 20, \"score\": 10}, {\"barvermoegen\": 85582.10734, \"aktienvermoegen\": 1214.264362, \"saeule3a\": 100000, \"lebensversicherung\": 0, \"pensionskasse\": 0.0, \"totalVermoegen\": 186796.3717, \"lohn\": 9100, \"lohnJahr\": 109200, \"bonus\": 0.0, \"zulagen\": 0, \"totalLohn\": 109200.0, \"schaetzungObjekt\": 1142349.241, \"anzahlung\": 0, \"tragbarkeit\": 40, \"score\": 20}, {\"barvermoegen\": 15370.72411, \"aktienvermoegen\": 8110.881491, \"saeule3a\": 80000, \"lebensversicherung\": 0, \"pensionskasse\": 192959.078, \"totalVermoegen\": 296440.6837, \"lohn\": 9100, \"lohnJahr\": 109200, \"bonus\": 0.0, \"zulagen\": 0, \"totalLohn\": 109200.0, \"schaetzungObjekt\": 954385.7182, \"anzahlung\": 90, \"tragbarkeit\": 40, \"score\": 65}, {\"barvermoegen\": 29395.2266, \"aktienvermoegen\": 6657.681438, \"saeule3a\": 130000, \"lebensversicherung\": 72000, \"pensionskasse\": 0.0, \"totalVermoegen\": 238052.908, \"lohn\": 9100, \"lohnJahr\": 109200, \"bonus\": 0.0, \"zulagen\": 0, \"totalLohn\": 109200.0, \"schaetzungObjekt\": 1556190.31, \"anzahlung\": 0, \"tragbarkeit\": 20, \"score\": 10}, {\"barvermoegen\": 36506.74914, \"aktienvermoegen\": 5869.210766, \"saeule3a\": 100000, \"lebensversicherung\": 0, \"pensionskasse\": 285596.5704, \"totalVermoegen\": 427972.5303, \"lohn\": 13000, \"lohnJahr\": 156000, \"bonus\": 3955.341737, \"zulagen\": 0, \"totalLohn\": 159955.3417, \"schaetzungObjekt\": 990030.5877, \"anzahlung\": 100, \"tragbarkeit\": 70, \"score\": 85}, {\"barvermoegen\": 86312.8427, \"aktienvermoegen\": 803.1316447, \"saeule3a\": 0, \"lebensversicherung\": 27000, \"pensionskasse\": 9434.415915, \"totalVermoegen\": 123550.3903, \"lohn\": 8000, \"lohnJahr\": 96000, \"bonus\": 3257.143757, \"zulagen\": 0, \"totalLohn\": 99257.14376, \"schaetzungObjekt\": 1067580.17, \"anzahlung\": 0, \"tragbarkeit\": 20, \"score\": 10}, {\"barvermoegen\": 649.021925, \"aktienvermoegen\": 9317.843055, \"saeule3a\": 40000, \"lebensversicherung\": 0, \"pensionskasse\": 46913.72624, \"totalVermoegen\": 96880.59122, \"lohn\": 9100, \"lohnJahr\": 109200, \"bonus\": 0.0, \"zulagen\": 0, \"totalLohn\": 109200.0, \"schaetzungObjekt\": 1827696.331, \"anzahlung\": 60, \"tragbarkeit\": 10, \"score\": 35}, {\"barvermoegen\": 38941.97633, \"aktienvermoegen\": 5404.953682, \"saeule3a\": 130000, \"lebensversicherung\": 0, \"pensionskasse\": 0.0, \"totalVermoegen\": 174346.93, \"lohn\": 5600, \"lohnJahr\": 67200, \"bonus\": 0.0, \"zulagen\": 840, \"totalLohn\": 68040.0, \"schaetzungObjekt\": 229263.5527, \"anzahlung\": 100, \"tragbarkeit\": 100, \"score\": 100}, {\"barvermoegen\": 80987.77657, \"aktienvermoegen\": 1110.163153, \"saeule3a\": 100000, \"lebensversicherung\": 60000, \"pensionskasse\": 276268.2243, \"totalVermoegen\": 518366.164, \"lohn\": 13000, \"lohnJahr\": 156000, \"bonus\": 10097.89663, \"zulagen\": 0, \"totalLohn\": 166097.8966, \"schaetzungObjekt\": 1800076.645, \"anzahlung\": 80, \"tragbarkeit\": 20, \"score\": 50}, {\"barvermoegen\": 6737.717915, \"aktienvermoegen\": 8439.75734, \"saeule3a\": 130000, \"lebensversicherung\": 0, \"pensionskasse\": 0.0, \"totalVermoegen\": 145177.4753, \"lohn\": 5600, \"lohnJahr\": 67200, \"bonus\": 0.0, \"zulagen\": 840, \"totalLohn\": 68040.0, \"schaetzungObjekt\": 1631345.478, \"anzahlung\": 60, \"tragbarkeit\": 10, \"score\": 35}, {\"barvermoegen\": 47345.2598, \"aktienvermoegen\": 4264.730827, \"saeule3a\": 100000, \"lebensversicherung\": 61000, \"pensionskasse\": 269977.7042, \"totalVermoegen\": 482587.6948, \"lohn\": 13000, \"lohnJahr\": 156000, \"bonus\": 15088.33582, \"zulagen\": 0, \"totalLohn\": 171088.3358, \"schaetzungObjekt\": 1137462.653, \"anzahlung\": 100, \"tragbarkeit\": 50, \"score\": 75}, {\"barvermoegen\": 7863.593665, \"aktienvermoegen\": 8129.235296, \"saeule3a\": 40000, \"lebensversicherung\": 43000, \"pensionskasse\": 44577.97331, \"totalVermoegen\": 143570.8023, \"lohn\": 9100, \"lohnJahr\": 109200, \"bonus\": 0.0, \"zulagen\": 0, \"totalLohn\": 109200.0, \"schaetzungObjekt\": 1031849.253, \"anzahlung\": 0, \"tragbarkeit\": 40, \"score\": 20}, {\"barvermoegen\": 20345.50068, \"aktienvermoegen\": 6870.096552, \"saeule3a\": 40000, \"lebensversicherung\": 0, \"pensionskasse\": 44523.2331, \"totalVermoegen\": 111738.8303, \"lohn\": 9100, \"lohnJahr\": 109200, \"bonus\": 0.0, \"zulagen\": 0, \"totalLohn\": 109200.0, \"schaetzungObjekt\": 1929803.779, \"anzahlung\": 60, \"tragbarkeit\": 10, \"score\": 35}, {\"barvermoegen\": 13282.28621, \"aktienvermoegen\": 7557.250399, \"saeule3a\": 130000, \"lebensversicherung\": 87000, \"pensionskasse\": 0.0, \"totalVermoegen\": 237839.5366, \"lohn\": 13000, \"lohnJahr\": 156000, \"bonus\": 4712.131704, \"zulagen\": 0, \"totalLohn\": 160712.1317, \"schaetzungObjekt\": 1045528.534, \"anzahlung\": 80, \"tragbarkeit\": 50, \"score\": 65}, {\"barvermoegen\": 49442.59754, \"aktienvermoegen\": 3916.628802, \"saeule3a\": 20000, \"lebensversicherung\": 33000, \"pensionskasse\": 11076.1107, \"totalVermoegen\": 117435.337, \"lohn\": 5600, \"lohnJahr\": 67200, \"bonus\": 0.0, \"zulagen\": 0, \"totalLohn\": 67200.0, \"schaetzungObjekt\": 1971786.257, \"anzahlung\": 60, \"tragbarkeit\": 10, \"score\": 35}, {\"barvermoegen\": 73643.85405, \"aktienvermoegen\": 1469.184204, \"saeule3a\": 130000, \"lebensversicherung\": 0, \"pensionskasse\": 0.0, \"totalVermoegen\": 205113.0383, \"lohn\": 13000, \"lohnJahr\": 156000, \"bonus\": 22747.57427, \"zulagen\": 0, \"totalLohn\": 178747.5743, \"schaetzungObjekt\": 1726142.892, \"anzahlung\": 0, \"tragbarkeit\": 40, \"score\": 20}, {\"barvermoegen\": 71656.48137, \"aktienvermoegen\": 1651.550567, \"saeule3a\": 40000, \"lebensversicherung\": 43000, \"pensionskasse\": 44085.99352, \"totalVermoegen\": 200394.0255, \"lohn\": 9100, \"lohnJahr\": 109200, \"bonus\": 0.0, \"zulagen\": 0, \"totalLohn\": 109200.0, \"schaetzungObjekt\": 1322898.553, \"anzahlung\": 0, \"tragbarkeit\": 20, \"score\": 10}, {\"barvermoegen\": 53113.65344, \"aktienvermoegen\": 3504.469119, \"saeule3a\": 100000, \"lebensversicherung\": 66000, \"pensionskasse\": 0.0, \"totalVermoegen\": 222618.1226, \"lohn\": 13000, \"lohnJahr\": 156000, \"bonus\": 1028.041107, \"zulagen\": 0, \"totalLohn\": 157028.0411, \"schaetzungObjekt\": 254620.3627, \"anzahlung\": 100, \"tragbarkeit\": 100, \"score\": 100}, {\"barvermoegen\": 39764.86177, \"aktienvermoegen\": 4802.547856, \"saeule3a\": 20000, \"lebensversicherung\": 0, \"pensionskasse\": 10973.79254, \"totalVermoegen\": 75541.20216, \"lohn\": 5600, \"lohnJahr\": 67200, \"bonus\": 0.0, \"zulagen\": 0, \"totalLohn\": 67200.0, \"schaetzungObjekt\": 652613.8175, \"anzahlung\": 0, \"tragbarkeit\": 40, \"score\": 20}, {\"barvermoegen\": 67656.65861, \"aktienvermoegen\": 1949.453432, \"saeule3a\": 80000, \"lebensversicherung\": 0, \"pensionskasse\": 174302.3859, \"totalVermoegen\": 323908.4979, \"lohn\": 9100, \"lohnJahr\": 109200, \"bonus\": 0.0, \"zulagen\": 0, \"totalLohn\": 109200.0, \"schaetzungObjekt\": 663275.1745, \"anzahlung\": 100, \"tragbarkeit\": 70, \"score\": 85}, {\"barvermoegen\": 16000.32927, \"aktienvermoegen\": 7086.573707, \"saeule3a\": 80000, \"lebensversicherung\": 0, \"pensionskasse\": 21716.51659, \"totalVermoegen\": 124803.4196, \"lohn\": 5600, \"lohnJahr\": 67200, \"bonus\": 0.0, \"zulagen\": 840, \"totalLohn\": 68040.0, \"schaetzungObjekt\": 1871103.195, \"anzahlung\": 60, \"tragbarkeit\": 10, \"score\": 35}, {\"barvermoegen\": 47877.12684, \"aktienvermoegen\": 3827.066606, \"saeule3a\": 100000, \"lebensversicherung\": 61000, \"pensionskasse\": 258443.3787, \"totalVermoegen\": 471147.5721, \"lohn\": 9100, \"lohnJahr\": 109200, \"bonus\": 0.0, \"zulagen\": 0, \"totalLohn\": 109200.0, \"schaetzungObjekt\": 86145.88763, \"anzahlung\": 100, \"tragbarkeit\": 100, \"score\": 100}, {\"barvermoegen\": 54704.69509, \"aktienvermoegen\": 3049.767807, \"saeule3a\": 130000, \"lebensversicherung\": 77000, \"pensionskasse\": 0.0, \"totalVermoegen\": 264754.4629, \"lohn\": 13000, \"lohnJahr\": 156000, \"bonus\": 11066.10991, \"zulagen\": 0, \"totalLohn\": 167066.1099, \"schaetzungObjekt\": 304569.3609, \"anzahlung\": 100, \"tragbarkeit\": 100, \"score\": 100}, {\"barvermoegen\": 46439.55016, \"aktienvermoegen\": 3868.182113, \"saeule3a\": 130000, \"lebensversicherung\": 0, \"pensionskasse\": 0.0, \"totalVermoegen\": 180307.7323, \"lohn\": 5600, \"lohnJahr\": 67200, \"bonus\": 0.0, \"zulagen\": 840, \"totalLohn\": 68040.0, \"schaetzungObjekt\": 1371810.427, \"anzahlung\": 0, \"tragbarkeit\": 10, \"score\": 5}, {\"barvermoegen\": 42601.73168, \"aktienvermoegen\": 4155.085721, \"saeule3a\": 130000, \"lebensversicherung\": 0, \"pensionskasse\": 0.0, \"totalVermoegen\": 176756.8174, \"lohn\": 9100, \"lohnJahr\": 109200, \"bonus\": 0.0, \"zulagen\": 0, \"totalLohn\": 109200.0, \"schaetzungObjekt\": 948381.6216, \"anzahlung\": 0, \"tragbarkeit\": 40, \"score\": 20}, {\"barvermoegen\": 56344.90252, \"aktienvermoegen\": 2779.438502, \"saeule3a\": 130000, \"lebensversicherung\": 0, \"pensionskasse\": 0.0, \"totalVermoegen\": 189124.341, \"lohn\": 9100, \"lohnJahr\": 109200, \"bonus\": 0.0, \"zulagen\": 0, \"totalLohn\": 109200.0, \"schaetzungObjekt\": 102650.5519, \"anzahlung\": 100, \"tragbarkeit\": 100, \"score\": 100}, {\"barvermoegen\": 18780.81774, \"aktienvermoegen\": 6385.848566, \"saeule3a\": 40000, \"lebensversicherung\": 0, \"pensionskasse\": 41319.6517, \"totalVermoegen\": 106486.318, \"lohn\": 9100, \"lohnJahr\": 109200, \"bonus\": 0.0, \"zulagen\": 0, \"totalLohn\": 109200.0, \"schaetzungObjekt\": 1746672.339, \"anzahlung\": 60, \"tragbarkeit\": 20, \"score\": 40}, {\"barvermoegen\": 6105.685041, \"aktienvermoegen\": 7653.361836, \"saeule3a\": 130000, \"lebensversicherung\": 0, \"pensionskasse\": 0.0, \"totalVermoegen\": 143759.0469, \"lohn\": 5600, \"lohnJahr\": 67200, \"bonus\": 0.0, \"zulagen\": 840, \"totalLohn\": 68040.0, \"schaetzungObjekt\": 314782.7143, \"anzahlung\": 100, \"tragbarkeit\": 100, \"score\": 100}, {\"barvermoegen\": 33048.50176, \"aktienvermoegen\": 4897.706324, \"saeule3a\": 130000, \"lebensversicherung\": 0, \"pensionskasse\": 0.0, \"totalVermoegen\": 167946.2081, \"lohn\": 5600, \"lohnJahr\": 67200, \"bonus\": 0.0, \"zulagen\": 840, \"totalLohn\": 68040.0, \"schaetzungObjekt\": 965719.7259, \"anzahlung\": 0, \"tragbarkeit\": 20, \"score\": 10}, {\"barvermoegen\": 67828.88606, \"aktienvermoegen\": 1358.43048, \"saeule3a\": 130000, \"lebensversicherung\": 77000, \"pensionskasse\": 0.0, \"totalVermoegen\": 276187.3165, \"lohn\": 9100, \"lohnJahr\": 109200, \"bonus\": 0.0, \"zulagen\": 0, \"totalLohn\": 109200.0, \"schaetzungObjekt\": 1893283.987, \"anzahlung\": 0, \"tragbarkeit\": 10, \"score\": 5}, {\"barvermoegen\": 51216.44164, \"aktienvermoegen\": 3002.41726, \"saeule3a\": 20000, \"lebensversicherung\": 31000, \"pensionskasse\": 10155.07678, \"totalVermoegen\": 115373.9357, \"lohn\": 5600, \"lohnJahr\": 67200, \"bonus\": 0.0, \"zulagen\": 0, \"totalLohn\": 67200.0, \"schaetzungObjekt\": 551299.2877, \"anzahlung\": 80, \"tragbarkeit\": 50, \"score\": 65}, {\"barvermoegen\": 12736.61577, \"aktienvermoegen\": 6781.369199, \"saeule3a\": 40000, \"lebensversicherung\": 42000, \"pensionskasse\": 40275.15388, \"totalVermoegen\": 141793.1388, \"lohn\": 9100, \"lohnJahr\": 109200, \"bonus\": 0.0, \"zulagen\": 0, \"totalLohn\": 109200.0, \"schaetzungObjekt\": 1534812.319, \"anzahlung\": 60, \"tragbarkeit\": 20, \"score\": 40}, {\"barvermoegen\": 12555.45584, \"aktienvermoegen\": 6775.645062, \"saeule3a\": 80000, \"lebensversicherung\": 0, \"pensionskasse\": 160623.8129, \"totalVermoegen\": 259954.9138, \"lohn\": 9100, \"lohnJahr\": 109200, \"bonus\": 0.0, \"zulagen\": 0, \"totalLohn\": 109200.0, \"schaetzungObjekt\": 528061.7935, \"anzahlung\": 100, \"tragbarkeit\": 80, \"score\": 90}, {\"barvermoegen\": 4922.217277, \"aktienvermoegen\": 7527.065906, \"saeule3a\": 20000, \"lebensversicherung\": 0, \"pensionskasse\": 13365.47939, \"totalVermoegen\": 45814.76257, \"lohn\": 3200, \"lohnJahr\": 38400, \"bonus\": 0.0, \"zulagen\": 480, \"totalLohn\": 38880.0, \"schaetzungObjekt\": 504825.3739, \"anzahlung\": 60, \"tragbarkeit\": 20, \"score\": 40}, {\"barvermoegen\": 54900.18565, \"aktienvermoegen\": 2472.397228, \"saeule3a\": 100000, \"lebensversicherung\": 68000, \"pensionskasse\": 0.0, \"totalVermoegen\": 225372.5829, \"lohn\": 9100, \"lohnJahr\": 109200, \"bonus\": 0.0, \"zulagen\": 0, \"totalLohn\": 109200.0, \"schaetzungObjekt\": 338800.1423, \"anzahlung\": 100, \"tragbarkeit\": 100, \"score\": 100}, {\"barvermoegen\": 74701.04912, \"aktienvermoegen\": 490.997798, \"saeule3a\": 80000, \"lebensversicherung\": 0, \"pensionskasse\": 19902.75678, \"totalVermoegen\": 175094.8037, \"lohn\": 5600, \"lohnJahr\": 67200, \"bonus\": 0.0, \"zulagen\": 840, \"totalLohn\": 68040.0, \"schaetzungObjekt\": 728536.5996, \"anzahlung\": 80, \"tragbarkeit\": 40, \"score\": 60}, {\"barvermoegen\": 68478.2184, \"aktienvermoegen\": 1020.95579, \"saeule3a\": 100000, \"lebensversicherung\": 0, \"pensionskasse\": 236063.3289, \"totalVermoegen\": 405562.5031, \"lohn\": 13000, \"lohnJahr\": 156000, \"bonus\": 18185.25001, \"zulagen\": 0, \"totalLohn\": 174185.25, \"schaetzungObjekt\": 1170168.597, \"anzahlung\": 90, \"tragbarkeit\": 50, \"score\": 70}, {\"barvermoegen\": 57259.56062, \"aktienvermoegen\": 2113.86553, \"saeule3a\": 40000, \"lebensversicherung\": 0, \"pensionskasse\": 39199.10796, \"totalVermoegen\": 138572.5341, \"lohn\": 9100, \"lohnJahr\": 109200, \"bonus\": 0.0, \"zulagen\": 0, \"totalLohn\": 109200.0, \"schaetzungObjekt\": 119787.6725, \"anzahlung\": 100, \"tragbarkeit\": 100, \"score\": 100}, {\"barvermoegen\": 40128.62567, \"aktienvermoegen\": 3808.541758, \"saeule3a\": 20000, \"lebensversicherung\": 0, \"pensionskasse\": 13035.67387, \"totalVermoegen\": 76972.8413, \"lohn\": 3200, \"lohnJahr\": 38400, \"bonus\": 0.0, \"zulagen\": 480, \"totalLohn\": 38880.0, \"schaetzungObjekt\": 228699.356, \"anzahlung\": 90, \"tragbarkeit\": 70, \"score\": 80}, {\"barvermoegen\": 54896.2525, \"aktienvermoegen\": 2174.464912, \"saeule3a\": 20000, \"lebensversicherung\": 34000, \"pensionskasse\": 9580.112703, \"totalVermoegen\": 120650.8301, \"lohn\": 5600, \"lohnJahr\": 67200, \"bonus\": 0.0, \"zulagen\": 0, \"totalLohn\": 67200.0, \"schaetzungObjekt\": 1468017.343, \"anzahlung\": 60, \"tragbarkeit\": 10, \"score\": 35}, {\"barvermoegen\": 48682.75674, \"aktienvermoegen\": 2767.063087, \"saeule3a\": 100000, \"lebensversicherung\": 0, \"pensionskasse\": 0.0, \"totalVermoegen\": 151449.8198, \"lohn\": 9100, \"lohnJahr\": 109200, \"bonus\": 0.0, \"zulagen\": 0, \"totalLohn\": 109200.0, \"schaetzungObjekt\": 606156.8555, \"anzahlung\": 80, \"tragbarkeit\": 80, \"score\": 80}, {\"barvermoegen\": 18368.05485, \"aktienvermoegen\": 5792.001967, \"saeule3a\": 20000, \"lebensversicherung\": 0, \"pensionskasse\": 12714.67909, \"totalVermoegen\": 56874.73591, \"lohn\": 3200, \"lohnJahr\": 38400, \"bonus\": 0.0, \"zulagen\": 480, \"totalLohn\": 38880.0, \"schaetzungObjekt\": 1271669.579, \"anzahlung\": 60, \"tragbarkeit\": 10, \"score\": 35}, {\"barvermoegen\": 51562.30429, \"aktienvermoegen\": 2450.373984, \"saeule3a\": 130000, \"lebensversicherung\": 0, \"pensionskasse\": 0.0, \"totalVermoegen\": 184012.6783, \"lohn\": 5600, \"lohnJahr\": 67200, \"bonus\": 0.0, \"zulagen\": 840, \"totalLohn\": 68040.0, \"schaetzungObjekt\": 1076166.755, \"anzahlung\": 0, \"tragbarkeit\": 20, \"score\": 10}, {\"barvermoegen\": 33271.74134, \"aktienvermoegen\": 4253.356202, \"saeule3a\": 80000, \"lebensversicherung\": 0, \"pensionskasse\": 151610.6067, \"totalVermoegen\": 269135.7043, \"lohn\": 9100, \"lohnJahr\": 109200, \"bonus\": 0.0, \"zulagen\": 0, \"totalLohn\": 109200.0, \"schaetzungObjekt\": 1494894.25, \"anzahlung\": 0, \"tragbarkeit\": 20, \"score\": 10}, {\"barvermoegen\": 59012.0619, \"aktienvermoegen\": 1675.419004, \"saeule3a\": 80000, \"lebensversicherung\": 0, \"pensionskasse\": 18941.56298, \"totalVermoegen\": 159629.0439, \"lohn\": 5600, \"lohnJahr\": 67200, \"bonus\": 0.0, \"zulagen\": 840, \"totalLohn\": 68040.0, \"schaetzungObjekt\": 1074519.354, \"anzahlung\": 0, \"tragbarkeit\": 20, \"score\": 10}, {\"barvermoegen\": 36269.38042, \"aktienvermoegen\": 3945.764956, \"saeule3a\": 20000, \"lebensversicherung\": 0, \"pensionskasse\": 12621.17166, \"totalVermoegen\": 72836.31704, \"lohn\": 3200, \"lohnJahr\": 38400, \"bonus\": 0.0, \"zulagen\": 480, \"totalLohn\": 38880.0, \"schaetzungObjekt\": 1632735.817, \"anzahlung\": 60, \"tragbarkeit\": 0, \"score\": 30}, {\"barvermoegen\": 64036.75933, \"aktienvermoegen\": 1146.892238, \"saeule3a\": 130000, \"lebensversicherung\": 0, \"pensionskasse\": 0.0, \"totalVermoegen\": 195183.6516, \"lohn\": 9100, \"lohnJahr\": 109200, \"bonus\": 0.0, \"zulagen\": 0, \"totalLohn\": 109200.0, \"schaetzungObjekt\": 1699912.748, \"anzahlung\": 0, \"tragbarkeit\": 20, \"score\": 10}, {\"barvermoegen\": 38137.12297, \"aktienvermoegen\": 3731.637648, \"saeule3a\": 80000, \"lebensversicherung\": 56000, \"pensionskasse\": 150906.9989, \"totalVermoegen\": 328775.7595, \"lohn\": 13000, \"lohnJahr\": 156000, \"bonus\": 25352.5347, \"zulagen\": 0, \"totalLohn\": 181352.5347, \"schaetzungObjekt\": 896317.094, \"anzahlung\": 90, \"tragbarkeit\": 70, \"score\": 80}, {\"barvermoegen\": 48941.61392, \"aktienvermoegen\": 2577.041997, \"saeule3a\": 40000, \"lebensversicherung\": 0, \"pensionskasse\": 14942.40678, \"totalVermoegen\": 106461.0627, \"lohn\": 5600, \"lohnJahr\": 67200, \"bonus\": 0.0, \"zulagen\": 840, \"totalLohn\": 68040.0, \"schaetzungObjekt\": 315433.1255, \"anzahlung\": 90, \"tragbarkeit\": 100, \"score\": 95}, {\"barvermoegen\": 73602.14713, \"aktienvermoegen\": 96.71529386, \"saeule3a\": 130000, \"lebensversicherung\": 0, \"pensionskasse\": 0.0, \"totalVermoegen\": 203698.8624, \"lohn\": 13000, \"lohnJahr\": 156000, \"bonus\": 18336.16575, \"zulagen\": 0, \"totalLohn\": 174336.1657, \"schaetzungObjekt\": 1157180.031, \"anzahlung\": 0, \"tragbarkeit\": 50, \"score\": 25}, {\"barvermoegen\": 18523.92913, \"aktienvermoegen\": 5429.760634, \"saeule3a\": 100000, \"lebensversicherung\": 0, \"pensionskasse\": 36410.76773, \"totalVermoegen\": 160364.4575, \"lohn\": 5600, \"lohnJahr\": 67200, \"bonus\": 0.0, \"zulagen\": 840, \"totalLohn\": 68040.0, \"schaetzungObjekt\": 947090.9286, \"anzahlung\": 0, \"tragbarkeit\": 20, \"score\": 10}, {\"barvermoegen\": 58656.20009, \"aktienvermoegen\": 1382.973183, \"saeule3a\": 100000, \"lebensversicherung\": 60000, \"pensionskasse\": 217457.7958, \"totalVermoegen\": 437496.969, \"lohn\": 9100, \"lohnJahr\": 109200, \"bonus\": 0.0, \"zulagen\": 0, \"totalLohn\": 109200.0, \"schaetzungObjekt\": 1339016.024, \"anzahlung\": 90, \"tragbarkeit\": 20, \"score\": 55}, {\"barvermoegen\": 2277.814248, \"aktienvermoegen\": 6980.873581, \"saeule3a\": 20000, \"lebensversicherung\": 0, \"pensionskasse\": 12014.42501, \"totalVermoegen\": 41273.11284, \"lohn\": 3200, \"lohnJahr\": 38400, \"bonus\": 0.0, \"zulagen\": 480, \"totalLohn\": 38880.0, \"schaetzungObjekt\": 845249.6267, \"anzahlung\": 60, \"tragbarkeit\": 10, \"score\": 35}, {\"barvermoegen\": 11471.06197, \"aktienvermoegen\": 6049.952752, \"saeule3a\": 80000, \"lebensversicherung\": 0, \"pensionskasse\": 17992.64737, \"totalVermoegen\": 115513.6621, \"lohn\": 5600, \"lohnJahr\": 67200, \"bonus\": 0.0, \"zulagen\": 840, \"totalLohn\": 68040.0, \"schaetzungObjekt\": 511028.6585, \"anzahlung\": 80, \"tragbarkeit\": 50, \"score\": 65}, {\"barvermoegen\": 7049.456586, \"aktienvermoegen\": 6468.955281, \"saeule3a\": 130000, \"lebensversicherung\": 0, \"pensionskasse\": 0.0, \"totalVermoegen\": 143518.4119, \"lohn\": 9100, \"lohnJahr\": 109200, \"bonus\": 0.0, \"zulagen\": 0, \"totalLohn\": 109200.0, \"schaetzungObjekt\": 498461.4526, \"anzahlung\": 80, \"tragbarkeit\": 100, \"score\": 90}, {\"barvermoegen\": 47296.60769, \"aktienvermoegen\": 2410.799188, \"saeule3a\": 130000, \"lebensversicherung\": 0, \"pensionskasse\": 0.0, \"totalVermoegen\": 179707.4069, \"lohn\": 5600, \"lohnJahr\": 67200, \"bonus\": 0.0, \"zulagen\": 840, \"totalLohn\": 68040.0, \"schaetzungObjekt\": 382514.2824, \"anzahlung\": 100, \"tragbarkeit\": 70, \"score\": 85}, {\"barvermoegen\": 4798.827292, \"aktienvermoegen\": 6625.908426, \"saeule3a\": 80000, \"lebensversicherung\": 0, \"pensionskasse\": 142115.8231, \"totalVermoegen\": 233540.5588, \"lohn\": 9100, \"lohnJahr\": 109200, \"bonus\": 0.0, \"zulagen\": 0, \"totalLohn\": 109200.0, \"schaetzungObjekt\": 406100.1848, \"anzahlung\": 100, \"tragbarkeit\": 100, \"score\": 100}, {\"barvermoegen\": 41399.82048, \"aktienvermoegen\": 2963.234101, \"saeule3a\": 100000, \"lebensversicherung\": 0, \"pensionskasse\": 213096.4845, \"totalVermoegen\": 357459.539, \"lohn\": 9100, \"lohnJahr\": 109200, \"bonus\": 0.0, \"zulagen\": 0, \"totalLohn\": 109200.0, \"schaetzungObjekt\": 1278152.579, \"anzahlung\": 80, \"tragbarkeit\": 20, \"score\": 50}, {\"barvermoegen\": 17738.03996, \"aktienvermoegen\": 5272.98369, \"saeule3a\": 0, \"lebensversicherung\": 0, \"pensionskasse\": 7046.787687, \"totalVermoegen\": 30057.81134, \"lohn\": 5600, \"lohnJahr\": 67200, \"bonus\": 0.0, \"zulagen\": 0, \"totalLohn\": 67200.0, \"schaetzungObjekt\": 1022716.091, \"anzahlung\": 60, \"tragbarkeit\": 20, \"score\": 40}, {\"barvermoegen\": 26496.43399, \"aktienvermoegen\": 4388.174396, \"saeule3a\": 20000, \"lebensversicherung\": 0, \"pensionskasse\": 11729.69633, \"totalVermoegen\": 62614.30472, \"lohn\": 3200, \"lohnJahr\": 38400, \"bonus\": 0.0, \"zulagen\": 480, \"totalLohn\": 38880.0, \"schaetzungObjekt\": 25057.70157, \"anzahlung\": 100, \"tragbarkeit\": 100, \"score\": 100}, {\"barvermoegen\": 49510.84558, \"aktienvermoegen\": 2059.840616, \"saeule3a\": 0, \"lebensversicherung\": 0, \"pensionskasse\": 8763.656467, \"totalVermoegen\": 60334.34266, \"lohn\": 3200, \"lohnJahr\": 38400, \"bonus\": 0.0, \"zulagen\": 480, \"totalLohn\": 38880.0, \"schaetzungObjekt\": 40241.03065, \"anzahlung\": 100, \"tragbarkeit\": 100, \"score\": 100}, {\"barvermoegen\": 64177.17441, \"aktienvermoegen\": 357.2791226, \"saeule3a\": 20000, \"lebensversicherung\": 38000, \"pensionskasse\": 8468.745705, \"totalVermoegen\": 131003.1992, \"lohn\": 5600, \"lohnJahr\": 67200, \"bonus\": 0.0, \"zulagen\": 0, \"totalLohn\": 67200.0, \"schaetzungObjekt\": 1348608.926, \"anzahlung\": 60, \"tragbarkeit\": 10, \"score\": 35}, {\"barvermoegen\": 53445.34386, \"aktienvermoegen\": 1416.49575, \"saeule3a\": 40000, \"lebensversicherung\": 49000, \"pensionskasse\": 33805.15068, \"totalVermoegen\": 177666.9903, \"lohn\": 13000, \"lohnJahr\": 156000, \"bonus\": 13769.49914, \"zulagen\": 0, \"totalLohn\": 169769.4991, \"schaetzungObjekt\": 1230966.097, \"anzahlung\": 0, \"tragbarkeit\": 50, \"score\": 25}, {\"barvermoegen\": 30582.13802, \"aktienvermoegen\": 3673.6045, \"saeule3a\": 20000, \"lebensversicherung\": 0, \"pensionskasse\": 11219.69717, \"totalVermoegen\": 65475.4397, \"lohn\": 3200, \"lohnJahr\": 38400, \"bonus\": 0.0, \"zulagen\": 480, \"totalLohn\": 38880.0, \"schaetzungObjekt\": 1515243.579, \"anzahlung\": 60, \"tragbarkeit\": 0, \"score\": 30}, {\"barvermoegen\": 31682.6309, \"aktienvermoegen\": 3540.738264, \"saeule3a\": 130000, \"lebensversicherung\": 88000, \"pensionskasse\": 0.0, \"totalVermoegen\": 253223.3692, \"lohn\": 9100, \"lohnJahr\": 109200, \"bonus\": 0.0, \"zulagen\": 0, \"totalLohn\": 109200.0, \"schaetzungObjekt\": 1811222.894, \"anzahlung\": 0, \"tragbarkeit\": 20, \"score\": 10}, {\"barvermoegen\": 45271.11392, \"aktienvermoegen\": 2179.332009, \"saeule3a\": 40000, \"lebensversicherung\": 0, \"pensionskasse\": 13412.8868, \"totalVermoegen\": 100863.3327, \"lohn\": 5600, \"lohnJahr\": 67200, \"bonus\": 0.0, \"zulagen\": 840, \"totalLohn\": 68040.0, \"schaetzungObjekt\": 389114.062, \"anzahlung\": 80, \"tragbarkeit\": 70, \"score\": 75}, {\"barvermoegen\": 7070.254949, \"aktienvermoegen\": 5999.417906, \"saeule3a\": 130000, \"lebensversicherung\": 0, \"pensionskasse\": 0.0, \"totalVermoegen\": 143069.6729, \"lohn\": 9100, \"lohnJahr\": 109200, \"bonus\": 0.0, \"zulagen\": 0, \"totalLohn\": 109200.0, \"schaetzungObjekt\": 160855.9433, \"anzahlung\": 100, \"tragbarkeit\": 100, \"score\": 100}, {\"barvermoegen\": 36747.51675, \"aktienvermoegen\": 3026.626977, \"saeule3a\": 130000, \"lebensversicherung\": 71000, \"pensionskasse\": 0.0, \"totalVermoegen\": 240774.1437, \"lohn\": 9100, \"lohnJahr\": 109200, \"bonus\": 0.0, \"zulagen\": 0, \"totalLohn\": 109200.0, \"schaetzungObjekt\": 1761845.237, \"anzahlung\": 0, \"tragbarkeit\": 20, \"score\": 10}, {\"barvermoegen\": 62402.48892, \"aktienvermoegen\": 431.9861387, \"saeule3a\": 80000, \"lebensversicherung\": 0, \"pensionskasse\": 16680.58758, \"totalVermoegen\": 159515.0626, \"lohn\": 5600, \"lohnJahr\": 67200, \"bonus\": 0.0, \"zulagen\": 840, \"totalLohn\": 68040.0, \"schaetzungObjekt\": 1580748.242, \"anzahlung\": 0, \"tragbarkeit\": 10, \"score\": 5}, {\"barvermoegen\": 31150.44495, \"aktienvermoegen\": 3457.259805, \"saeule3a\": 80000, \"lebensversicherung\": 0, \"pensionskasse\": 16430.76075, \"totalVermoegen\": 131038.4655, \"lohn\": 5600, \"lohnJahr\": 67200, \"bonus\": 0.0, \"zulagen\": 840, \"totalLohn\": 68040.0, \"schaetzungObjekt\": 1594673.32, \"anzahlung\": 60, \"tragbarkeit\": 10, \"score\": 35}, {\"barvermoegen\": 46385.32032, \"aktienvermoegen\": 1861.842606, \"saeule3a\": 100000, \"lebensversicherung\": 0, \"pensionskasse\": 0.0, \"totalVermoegen\": 148247.1629, \"lohn\": 5600, \"lohnJahr\": 67200, \"bonus\": 0.0, \"zulagen\": 840, \"totalLohn\": 68040.0, \"schaetzungObjekt\": 1640036.277, \"anzahlung\": 60, \"tragbarkeit\": 10, \"score\": 35}, {\"barvermoegen\": 52553.65972, \"aktienvermoegen\": 1226.113914, \"saeule3a\": 80000, \"lebensversicherung\": 0, \"pensionskasse\": 129629.5977, \"totalVermoegen\": 263409.3714, \"lohn\": 9100, \"lohnJahr\": 109200, \"bonus\": 0.0, \"zulagen\": 0, \"totalLohn\": 109200.0, \"schaetzungObjekt\": 1430644.572, \"anzahlung\": 0, \"tragbarkeit\": 20, \"score\": 10}, {\"barvermoegen\": 10232.20818, \"aktienvermoegen\": 5450.704578, \"saeule3a\": 0, \"lebensversicherung\": 0, \"pensionskasse\": 6473.925396, \"totalVermoegen\": 22156.83815, \"lohn\": 5600, \"lohnJahr\": 67200, \"bonus\": 0.0, \"zulagen\": 0, \"totalLohn\": 67200.0, \"schaetzungObjekt\": 458271.5544, \"anzahlung\": 60, \"tragbarkeit\": 50, \"score\": 55}, {\"barvermoegen\": 5713.729888, \"aktienvermoegen\": 5902.552407, \"saeule3a\": 20000, \"lebensversicherung\": 0, \"pensionskasse\": 10789.87566, \"totalVermoegen\": 42406.15795, \"lohn\": 3200, \"lohnJahr\": 38400, \"bonus\": 0.0, \"zulagen\": 480, \"totalLohn\": 38880.0, \"schaetzungObjekt\": 689945.9728, \"anzahlung\": 60, \"tragbarkeit\": 10, \"score\": 35}, {\"barvermoegen\": 15031.13369, \"aktienvermoegen\": 4963.257537, \"saeule3a\": 80000, \"lebensversicherung\": 0, \"pensionskasse\": 16165.92726, \"totalVermoegen\": 116160.3185, \"lohn\": 5600, \"lohnJahr\": 67200, \"bonus\": 0.0, \"zulagen\": 840, \"totalLohn\": 68040.0, \"schaetzungObjekt\": 293731.5888, \"anzahlung\": 90, \"tragbarkeit\": 100, \"score\": 95}, {\"barvermoegen\": 19349.96806, \"aktienvermoegen\": 4492.356777, \"saeule3a\": 100000, \"lebensversicherung\": 0, \"pensionskasse\": 192820.6075, \"totalVermoegen\": 316662.9323, \"lohn\": 9100, \"lohnJahr\": 109200, \"bonus\": 0.0, \"zulagen\": 0, \"totalLohn\": 109200.0, \"schaetzungObjekt\": 690715.7956, \"anzahlung\": 100, \"tragbarkeit\": 70, \"score\": 85}, {\"barvermoegen\": 13409.95503, \"aktienvermoegen\": 5075.03487, \"saeule3a\": 130000, \"lebensversicherung\": 72000, \"pensionskasse\": 0.0, \"totalVermoegen\": 220484.9899, \"lohn\": 9100, \"lohnJahr\": 109200, \"bonus\": 0.0, \"zulagen\": 0, \"totalLohn\": 109200.0, \"schaetzungObjekt\": 1305078.225, \"anzahlung\": 0, \"tragbarkeit\": 20, \"score\": 10}, {\"barvermoegen\": 48480.96006, \"aktienvermoegen\": 1561.658854, \"saeule3a\": 130000, \"lebensversicherung\": 0, \"pensionskasse\": 0.0, \"totalVermoegen\": 180042.6189, \"lohn\": 13000, \"lohnJahr\": 156000, \"bonus\": 6911.018355, \"zulagen\": 0, \"totalLohn\": 162911.0184, \"schaetzungObjekt\": 642751.4961, \"anzahlung\": 80, \"tragbarkeit\": 100, \"score\": 90}, {\"barvermoegen\": 52317.74246, \"aktienvermoegen\": 1107.653937, \"saeule3a\": 130000, \"lebensversicherung\": 0, \"pensionskasse\": 0.0, \"totalVermoegen\": 183425.3964, \"lohn\": 5600, \"lohnJahr\": 67200, \"bonus\": 0.0, \"zulagen\": 840, \"totalLohn\": 68040.0, \"schaetzungObjekt\": 1058602.562, \"anzahlung\": 0, \"tragbarkeit\": 20, \"score\": 10}, {\"barvermoegen\": 35826.0705, \"aktienvermoegen\": 2755.559209, \"saeule3a\": 40000, \"lebensversicherung\": 41000, \"pensionskasse\": 31690.83129, \"totalVermoegen\": 151272.461, \"lohn\": 9100, \"lohnJahr\": 109200, \"bonus\": 0.0, \"zulagen\": 0, \"totalLohn\": 109200.0, \"schaetzungObjekt\": 1765646.622, \"anzahlung\": 60, \"tragbarkeit\": 20, \"score\": 40}, {\"barvermoegen\": 5358.896658, \"aktienvermoegen\": 5789.725566, \"saeule3a\": 130000, \"lebensversicherung\": 0, \"pensionskasse\": 0.0, \"totalVermoegen\": 141148.6222, \"lohn\": 9100, \"lohnJahr\": 109200, \"bonus\": 0.0, \"zulagen\": 0, \"totalLohn\": 109200.0, \"schaetzungObjekt\": 1610743.199, \"anzahlung\": 60, \"tragbarkeit\": 20, \"score\": 40}, {\"barvermoegen\": 48617.01188, \"aktienvermoegen\": 1387.482383, \"saeule3a\": 80000, \"lebensversicherung\": 0, \"pensionskasse\": 124983.6714, \"totalVermoegen\": 254988.1657, \"lohn\": 13000, \"lohnJahr\": 156000, \"bonus\": 29407.57959, \"zulagen\": 0, \"totalLohn\": 185407.5796, \"schaetzungObjekt\": 323373.7219, \"anzahlung\": 100, \"tragbarkeit\": 100, \"score\": 100}, {\"barvermoegen\": 51458.60881, \"aktienvermoegen\": 1098.326153, \"saeule3a\": 130000, \"lebensversicherung\": 0, \"pensionskasse\": 0.0, \"totalVermoegen\": 182556.935, \"lohn\": 5600, \"lohnJahr\": 67200, \"bonus\": 0.0, \"zulagen\": 840, \"totalLohn\": 68040.0, \"schaetzungObjekt\": 1044450.905, \"anzahlung\": 0, \"tragbarkeit\": 20, \"score\": 10}, {\"barvermoegen\": 11699.12233, \"aktienvermoegen\": 5060.513009, \"saeule3a\": 130000, \"lebensversicherung\": 0, \"pensionskasse\": 0.0, \"totalVermoegen\": 146759.6353, \"lohn\": 13000, \"lohnJahr\": 156000, \"bonus\": 8885.651526, \"zulagen\": 0, \"totalLohn\": 164885.6515, \"schaetzungObjekt\": 535123.0089, \"anzahlung\": 80, \"tragbarkeit\": 100, \"score\": 90}, {\"barvermoegen\": 19747.14998, \"aktienvermoegen\": 4209.462439, \"saeule3a\": 130000, \"lebensversicherung\": 0, \"pensionskasse\": 0.0, \"totalVermoegen\": 153956.6124, \"lohn\": 5600, \"lohnJahr\": 67200, \"bonus\": 0.0, \"zulagen\": 840, \"totalLohn\": 68040.0, \"schaetzungObjekt\": 1631228.484, \"anzahlung\": 60, \"tragbarkeit\": 10, \"score\": 35}, {\"barvermoegen\": 9236.604822, \"aktienvermoegen\": 5219.316845, \"saeule3a\": 130000, \"lebensversicherung\": 0, \"pensionskasse\": 0.0, \"totalVermoegen\": 144455.9217, \"lohn\": 5600, \"lohnJahr\": 67200, \"bonus\": 0.0, \"zulagen\": 840, \"totalLohn\": 68040.0, \"schaetzungObjekt\": 825918.7606, \"anzahlung\": 0, \"tragbarkeit\": 20, \"score\": 10}, {\"barvermoegen\": 6441.798164, \"aktienvermoegen\": 5488.804437, \"saeule3a\": 40000, \"lebensversicherung\": 0, \"pensionskasse\": 30664.92127, \"totalVermoegen\": 82595.52387, \"lohn\": 9100, \"lohnJahr\": 109200, \"bonus\": 0.0, \"zulagen\": 0, \"totalLohn\": 109200.0, \"schaetzungObjekt\": 1280096.251, \"anzahlung\": 60, \"tragbarkeit\": 20, \"score\": 40}, {\"barvermoegen\": 7000.616917, \"aktienvermoegen\": 5394.280406, \"saeule3a\": 20000, \"lebensversicherung\": 0, \"pensionskasse\": 7617.927622, \"totalVermoegen\": 40012.82494, \"lohn\": 5600, \"lohnJahr\": 67200, \"bonus\": 0.0, \"zulagen\": 0, \"totalLohn\": 67200.0, \"schaetzungObjekt\": 1929257.392, \"anzahlung\": 60, \"tragbarkeit\": 10, \"score\": 35}, {\"barvermoegen\": 48741.56109, \"aktienvermoegen\": 1199.00613, \"saeule3a\": 130000, \"lebensversicherung\": 0, \"pensionskasse\": 0.0, \"totalVermoegen\": 179940.5672, \"lohn\": 9100, \"lohnJahr\": 109200, \"bonus\": 0.0, \"zulagen\": 0, \"totalLohn\": 109200.0, \"schaetzungObjekt\": 857378.034, \"anzahlung\": 80, \"tragbarkeit\": 50, \"score\": 65}, {\"barvermoegen\": 26439.52874, \"aktienvermoegen\": 3312.310875, \"saeule3a\": 100000, \"lebensversicherung\": 66000, \"pensionskasse\": 0.0, \"totalVermoegen\": 195751.8396, \"lohn\": 9100, \"lohnJahr\": 109200, \"bonus\": 0.0, \"zulagen\": 0, \"totalLohn\": 109200.0, \"schaetzungObjekt\": 1500363.732, \"anzahlung\": 0, \"tragbarkeit\": 20, \"score\": 10}, {\"barvermoegen\": 32982.83185, \"aktienvermoegen\": 2655.507875, \"saeule3a\": 130000, \"lebensversicherung\": 0, \"pensionskasse\": 0.0, \"totalVermoegen\": 165638.3397, \"lohn\": 9100, \"lohnJahr\": 109200, \"bonus\": 0.0, \"zulagen\": 0, \"totalLohn\": 109200.0, \"schaetzungObjekt\": 1580657.426, \"anzahlung\": 0, \"tragbarkeit\": 20, \"score\": 10}, {\"barvermoegen\": 32360.57157, \"aktienvermoegen\": 2696.622257, \"saeule3a\": 40000, \"lebensversicherung\": 0, \"pensionskasse\": 11865.35883, \"totalVermoegen\": 86922.55266, \"lohn\": 5600, \"lohnJahr\": 67200, \"bonus\": 0.0, \"zulagen\": 840, \"totalLohn\": 68040.0, \"schaetzungObjekt\": 884449.4865, \"anzahlung\": 60, \"tragbarkeit\": 20, \"score\": 40}, {\"barvermoegen\": 54762.13157, \"aktienvermoegen\": 444.0687078, \"saeule3a\": 100000, \"lebensversicherung\": 0, \"pensionskasse\": 29601.40932, \"totalVermoegen\": 184807.6096, \"lohn\": 5600, \"lohnJahr\": 67200, \"bonus\": 0.0, \"zulagen\": 840, \"totalLohn\": 68040.0, \"schaetzungObjekt\": 1749474.594, \"anzahlung\": 0, \"tragbarkeit\": 10, \"score\": 5}, {\"barvermoegen\": 6898.824037, \"aktienvermoegen\": 5203.11462, \"saeule3a\": 100000, \"lebensversicherung\": 63000, \"pensionskasse\": 176789.9107, \"totalVermoegen\": 351891.8494, \"lohn\": 9100, \"lohnJahr\": 109200, \"bonus\": 0.0, \"zulagen\": 0, \"totalLohn\": 109200.0, \"schaetzungObjekt\": 289624.9161, \"anzahlung\": 100, \"tragbarkeit\": 100, \"score\": 100}, {\"barvermoegen\": 40642.74642, \"aktienvermoegen\": 1800.226776, \"saeule3a\": 20000, \"lebensversicherung\": 0, \"pensionskasse\": 9774.16903, \"totalVermoegen\": 72217.14222, \"lohn\": 3200, \"lohnJahr\": 38400, \"bonus\": 0.0, \"zulagen\": 480, \"totalLohn\": 38880.0, \"schaetzungObjekt\": 515748.0543, \"anzahlung\": 0, \"tragbarkeit\": 20, \"score\": 10}, {\"barvermoegen\": 46292.61421, \"aktienvermoegen\": 1174.599437, \"saeule3a\": 130000, \"lebensversicherung\": 0, \"pensionskasse\": 0.0, \"totalVermoegen\": 177467.2136, \"lohn\": 13000, \"lohnJahr\": 156000, \"bonus\": 8097.440544, \"zulagen\": 0, \"totalLohn\": 164097.4405, \"schaetzungObjekt\": 386389.8927, \"anzahlung\": 100, \"tragbarkeit\": 100, \"score\": 100}, {\"barvermoegen\": 48361.33466, \"aktienvermoegen\": 945.4561409, \"saeule3a\": 80000, \"lebensversicherung\": 55000, \"pensionskasse\": 115631.7921, \"totalVermoegen\": 299938.5829, \"lohn\": 9100, \"lohnJahr\": 109200, \"bonus\": 0.0, \"zulagen\": 0, \"totalLohn\": 109200.0, \"schaetzungObjekt\": 878161.5308, \"anzahlung\": 90, \"tragbarkeit\": 50, \"score\": 70}, {\"barvermoegen\": 17734.52164, \"aktienvermoegen\": 3982.199791, \"saeule3a\": 80000, \"lebensversicherung\": 53000, \"pensionskasse\": 115113.0391, \"totalVermoegen\": 269829.7605, \"lohn\": 9100, \"lohnJahr\": 109200, \"bonus\": 0.0, \"zulagen\": 0, \"totalLohn\": 109200.0, \"schaetzungObjekt\": 1526838.617, \"anzahlung\": 0, \"tragbarkeit\": 20, \"score\": 10}, {\"barvermoegen\": 46737.16515, \"aktienvermoegen\": 991.8784112, \"saeule3a\": 100000, \"lebensversicherung\": 0, \"pensionskasse\": 0.0, \"totalVermoegen\": 147729.0436, \"lohn\": 5600, \"lohnJahr\": 67200, \"bonus\": 0.0, \"zulagen\": 840, \"totalLohn\": 68040.0, \"schaetzungObjekt\": 449291.7939, \"anzahlung\": 90, \"tragbarkeit\": 50, \"score\": 70}, {\"barvermoegen\": 37468.62542, \"aktienvermoegen\": 1826.407303, \"saeule3a\": 130000, \"lebensversicherung\": 0, \"pensionskasse\": 0.0, \"totalVermoegen\": 169295.0327, \"lohn\": 9100, \"lohnJahr\": 109200, \"bonus\": 0.0, \"zulagen\": 0, \"totalLohn\": 109200.0, \"schaetzungObjekt\": 761138.1262, \"anzahlung\": 80, \"tragbarkeit\": 50, \"score\": 65}, {\"barvermoegen\": 52952.48787, \"aktienvermoegen\": 215.3682419, \"saeule3a\": 100000, \"lebensversicherung\": 0, \"pensionskasse\": 27553.08515, \"totalVermoegen\": 180720.9413, \"lohn\": 5600, \"lohnJahr\": 67200, \"bonus\": 0.0, \"zulagen\": 840, \"totalLohn\": 68040.0, \"schaetzungObjekt\": 1412115.134, \"anzahlung\": 0, \"tragbarkeit\": 10, \"score\": 5}, {\"barvermoegen\": 25451.76033, \"aktienvermoegen\": 2940.901693, \"saeule3a\": 0, \"lebensversicherung\": 28000, \"pensionskasse\": 5486.077725, \"totalVermoegen\": 61878.73975, \"lohn\": 5600, \"lohnJahr\": 67200, \"bonus\": 0.0, \"zulagen\": 0, \"totalLohn\": 67200.0, \"schaetzungObjekt\": 38715.19338, \"anzahlung\": 100, \"tragbarkeit\": 100, \"score\": 100}, {\"barvermoegen\": 18161.07894, \"aktienvermoegen\": 3620.925329, \"saeule3a\": 130000, \"lebensversicherung\": 0, \"pensionskasse\": 0.0, \"totalVermoegen\": 151782.0043, \"lohn\": 9100, \"lohnJahr\": 109200, \"bonus\": 0.0, \"zulagen\": 0, \"totalLohn\": 109200.0, \"schaetzungObjekt\": 412600.6861, \"anzahlung\": 90, \"tragbarkeit\": 100, \"score\": 95}, {\"barvermoegen\": 44874.21962, \"aktienvermoegen\": 892.0573005, \"saeule3a\": 100000, \"lebensversicherung\": 60000, \"pensionskasse\": 161384.3779, \"totalVermoegen\": 367150.6548, \"lohn\": 9100, \"lohnJahr\": 109200, \"bonus\": 0.0, \"zulagen\": 0, \"totalLohn\": 109200.0, \"schaetzungObjekt\": 1288250.734, \"anzahlung\": 80, \"tragbarkeit\": 20, \"score\": 50}, {\"barvermoegen\": 49046.55917, \"aktienvermoegen\": 467.4905437, \"saeule3a\": 40000, \"lebensversicherung\": 0, \"pensionskasse\": 10744.29292, \"totalVermoegen\": 100258.3426, \"lohn\": 5600, \"lohnJahr\": 67200, \"bonus\": 0.0, \"zulagen\": 840, \"totalLohn\": 68040.0, \"schaetzungObjekt\": 1537592.579, \"anzahlung\": 60, \"tragbarkeit\": 10, \"score\": 35}, {\"barvermoegen\": 16357.50883, \"aktienvermoegen\": 3733.939943, \"saeule3a\": 130000, \"lebensversicherung\": 0, \"pensionskasse\": 0.0, \"totalVermoegen\": 150091.4488, \"lohn\": 5600, \"lohnJahr\": 67200, \"bonus\": 0.0, \"zulagen\": 840, \"totalLohn\": 68040.0, \"schaetzungObjekt\": 235652.1516, \"anzahlung\": 100, \"tragbarkeit\": 100, \"score\": 100}, {\"barvermoegen\": 25402.52283, \"aktienvermoegen\": 2785.40763, \"saeule3a\": 40000, \"lebensversicherung\": 0, \"pensionskasse\": 10651.31983, \"totalVermoegen\": 78839.25029, \"lohn\": 5600, \"lohnJahr\": 67200, \"bonus\": 0.0, \"zulagen\": 840, \"totalLohn\": 68040.0, \"schaetzungObjekt\": 1977893.401, \"anzahlung\": 60, \"tragbarkeit\": 10, \"score\": 35}, {\"barvermoegen\": 11772.3933, \"aktienvermoegen\": 4148.420583, \"saeule3a\": 0, \"lebensversicherung\": 0, \"pensionskasse\": 5325.659913, \"totalVermoegen\": 21246.4738, \"lohn\": 5600, \"lohnJahr\": 67200, \"bonus\": 0.0, \"zulagen\": 0, \"totalLohn\": 67200.0, \"schaetzungObjekt\": 1394792.893, \"anzahlung\": 60, \"tragbarkeit\": 10, \"score\": 35}, {\"barvermoegen\": 39947.34518, \"aktienvermoegen\": 1304.049827, \"saeule3a\": 20000, \"lebensversicherung\": 0, \"pensionskasse\": 8831.307241, \"totalVermoegen\": 70082.70225, \"lohn\": 3200, \"lohnJahr\": 38400, \"bonus\": 0.0, \"zulagen\": 480, \"totalLohn\": 38880.0, \"schaetzungObjekt\": 909381.3076, \"anzahlung\": 60, \"tragbarkeit\": 10, \"score\": 35}, {\"barvermoegen\": 5381.236724, \"aktienvermoegen\": 4748.450706, \"saeule3a\": 130000, \"lebensversicherung\": 0, \"pensionskasse\": 0.0, \"totalVermoegen\": 140129.6874, \"lohn\": 5600, \"lohnJahr\": 67200, \"bonus\": 0.0, \"zulagen\": 840, \"totalLohn\": 68040.0, \"schaetzungObjekt\": 1116223.393, \"anzahlung\": 0, \"tragbarkeit\": 20, \"score\": 10}, {\"barvermoegen\": 22094.59361, \"aktienvermoegen\": 3066.132869, \"saeule3a\": 130000, \"lebensversicherung\": 76000, \"pensionskasse\": 0.0, \"totalVermoegen\": 231160.7265, \"lohn\": 9100, \"lohnJahr\": 109200, \"bonus\": 0.0, \"zulagen\": 0, \"totalLohn\": 109200.0, \"schaetzungObjekt\": 890735.4526, \"anzahlung\": 80, \"tragbarkeit\": 50, \"score\": 65}, {\"barvermoegen\": 1801.197558, \"aktienvermoegen\": 5074.735995, \"saeule3a\": 0, \"lebensversicherung\": 0, \"pensionskasse\": 5254.855751, \"totalVermoegen\": 12130.7893, \"lohn\": 5600, \"lohnJahr\": 67200, \"bonus\": 0.0, \"zulagen\": 0, \"totalLohn\": 67200.0, \"schaetzungObjekt\": 1257841.896, \"anzahlung\": 60, \"tragbarkeit\": 10, \"score\": 35}, {\"barvermoegen\": 29197.75176, \"aktienvermoegen\": 2288.730451, \"saeule3a\": 40000, \"lebensversicherung\": 0, \"pensionskasse\": 10417.01125, \"totalVermoegen\": 81903.49346, \"lohn\": 5600, \"lohnJahr\": 67200, \"bonus\": 0.0, \"zulagen\": 840, \"totalLohn\": 68040.0, \"schaetzungObjekt\": 1864492.582, \"anzahlung\": 60, \"tragbarkeit\": 10, \"score\": 35}, {\"barvermoegen\": 39680.0345, \"aktienvermoegen\": 1211.273291, \"saeule3a\": 130000, \"lebensversicherung\": 0, \"pensionskasse\": 0.0, \"totalVermoegen\": 170891.3078, \"lohn\": 5600, \"lohnJahr\": 67200, \"bonus\": 0.0, \"zulagen\": 840, \"totalLohn\": 68040.0, \"schaetzungObjekt\": 1919626.204, \"anzahlung\": 60, \"tragbarkeit\": 10, \"score\": 35}, {\"barvermoegen\": 28152.07506, \"aktienvermoegen\": 2343.366861, \"saeule3a\": 100000, \"lebensversicherung\": 0, \"pensionskasse\": 0.0, \"totalVermoegen\": 130495.4419, \"lohn\": 13000, \"lohnJahr\": 156000, \"bonus\": 4978.593884, \"zulagen\": 0, \"totalLohn\": 160978.5939, \"schaetzungObjekt\": 667637.3512, \"anzahlung\": 0, \"tragbarkeit\": 100, \"score\": 50}, {\"barvermoegen\": 17230.7572, \"aktienvermoegen\": 3366.161046, \"saeule3a\": 100000, \"lebensversicherung\": 0, \"pensionskasse\": 0.0, \"totalVermoegen\": 120596.9182, \"lohn\": 9100, \"lohnJahr\": 109200, \"bonus\": 0.0, \"zulagen\": 0, \"totalLohn\": 109200.0, \"schaetzungObjekt\": 496768.5332, \"anzahlung\": 80, \"tragbarkeit\": 100, \"score\": 90}, {\"barvermoegen\": 22291.31801, \"aktienvermoegen\": 2824.873414, \"saeule3a\": 40000, \"lebensversicherung\": 0, \"pensionskasse\": 25270.02607, \"totalVermoegen\": 90386.21749, \"lohn\": 9100, \"lohnJahr\": 109200, \"bonus\": 0.0, \"zulagen\": 0, \"totalLohn\": 109200.0, \"schaetzungObjekt\": 1556863.269, \"anzahlung\": 60, \"tragbarkeit\": 20, \"score\": 40}, {\"barvermoegen\": 2441.446553, \"aktienvermoegen\": 4758.872012, \"saeule3a\": 0, \"lebensversicherung\": 0, \"pensionskasse\": 5003.016668, \"totalVermoegen\": 12203.33523, \"lohn\": 5600, \"lohnJahr\": 67200, \"bonus\": 0.0, \"zulagen\": 0, \"totalLohn\": 67200.0, \"schaetzungObjekt\": 904702.9673, \"anzahlung\": 60, \"tragbarkeit\": 20, \"score\": 40}, {\"barvermoegen\": 32847.31745, \"aktienvermoegen\": 1660.099999, \"saeule3a\": 40000, \"lebensversicherung\": 40000, \"pensionskasse\": 24724.15872, \"totalVermoegen\": 139231.5762, \"lohn\": 9100, \"lohnJahr\": 109200, \"bonus\": 0.0, \"zulagen\": 0, \"totalLohn\": 109200.0, \"schaetzungObjekt\": 222325.1762, \"anzahlung\": 100, \"tragbarkeit\": 100, \"score\": 100}, {\"barvermoegen\": 17658.82331, \"aktienvermoegen\": 3170.457006, \"saeule3a\": 130000, \"lebensversicherung\": 0, \"pensionskasse\": 0.0, \"totalVermoegen\": 150829.2803, \"lohn\": 9100, \"lohnJahr\": 109200, \"bonus\": 0.0, \"zulagen\": 0, \"totalLohn\": 109200.0, \"schaetzungObjekt\": 367412.9036, \"anzahlung\": 100, \"tragbarkeit\": 100, \"score\": 100}, {\"barvermoegen\": 852.6933192, \"aktienvermoegen\": 4851.070005, \"saeule3a\": 80000, \"lebensversicherung\": 0, \"pensionskasse\": 98726.78675, \"totalVermoegen\": 184430.5501, \"lohn\": 13000, \"lohnJahr\": 156000, \"bonus\": 11322.74026, \"zulagen\": 0, \"totalLohn\": 167322.7403, \"schaetzungObjekt\": 1328914.712, \"anzahlung\": 0, \"tragbarkeit\": 40, \"score\": 20}, {\"barvermoegen\": 19153.26508, \"aktienvermoegen\": 3004.062122, \"saeule3a\": 0, \"lebensversicherung\": 28000, \"pensionskasse\": 4919.38863, \"totalVermoegen\": 55076.71583, \"lohn\": 8000, \"lohnJahr\": 96000, \"bonus\": 5637.282018, \"zulagen\": 0, \"totalLohn\": 101637.282, \"schaetzungObjekt\": 22181.87385, \"anzahlung\": 100, \"tragbarkeit\": 100, \"score\": 100}, {\"barvermoegen\": 23319.92135, \"aktienvermoegen\": 2559.565957, \"saeule3a\": 20000, \"lebensversicherung\": 0, \"pensionskasse\": 6114.447615, \"totalVermoegen\": 51993.93492, \"lohn\": 5600, \"lohnJahr\": 67200, \"bonus\": 0.0, \"zulagen\": 0, \"totalLohn\": 67200.0, \"schaetzungObjekt\": 1462437.264, \"anzahlung\": 60, \"tragbarkeit\": 10, \"score\": 35}, {\"barvermoegen\": 45560.85613, \"aktienvermoegen\": 328.2078899, \"saeule3a\": 130000, \"lebensversicherung\": 0, \"pensionskasse\": 0.0, \"totalVermoegen\": 175889.064, \"lohn\": 5600, \"lohnJahr\": 67200, \"bonus\": 0.0, \"zulagen\": 840, \"totalLohn\": 68040.0, \"schaetzungObjekt\": 1997396.654, \"anzahlung\": 60, \"tragbarkeit\": 10, \"score\": 35}, {\"barvermoegen\": 19817.50289, \"aktienvermoegen\": 2848.109956, \"saeule3a\": 40000, \"lebensversicherung\": 0, \"pensionskasse\": 24149.30123, \"totalVermoegen\": 86814.91408, \"lohn\": 13000, \"lohnJahr\": 156000, \"bonus\": 21118.8736, \"zulagen\": 0, \"totalLohn\": 177118.8736, \"schaetzungObjekt\": 599461.3696, \"anzahlung\": 0, \"tragbarkeit\": 100, \"score\": 50}, {\"barvermoegen\": 25036.44755, \"aktienvermoegen\": 2217.587717, \"saeule3a\": 80000, \"lebensversicherung\": 0, \"pensionskasse\": 94424.64943, \"totalVermoegen\": 201678.6847, \"lohn\": 13000, \"lohnJahr\": 156000, \"bonus\": 14014.7009, \"zulagen\": 0, \"totalLohn\": 170014.7009, \"schaetzungObjekt\": 1570385.885, \"anzahlung\": 0, \"tragbarkeit\": 40, \"score\": 20}, {\"barvermoegen\": 6553.548542, \"aktienvermoegen\": 4027.303673, \"saeule3a\": 130000, \"lebensversicherung\": 90000, \"pensionskasse\": 0.0, \"totalVermoegen\": 230580.8522, \"lohn\": 13000, \"lohnJahr\": 156000, \"bonus\": 2758.061814, \"zulagen\": 0, \"totalLohn\": 158758.0618, \"schaetzungObjekt\": 1841043.805, \"anzahlung\": 0, \"tragbarkeit\": 20, \"score\": 10}, {\"barvermoegen\": 25336.06513, \"aktienvermoegen\": 2134.591049, \"saeule3a\": 0, \"lebensversicherung\": 0, \"pensionskasse\": 4668.197562, \"totalVermoegen\": 32138.85374, \"lohn\": 5600, \"lohnJahr\": 67200, \"bonus\": 0.0, \"zulagen\": 0, \"totalLohn\": 67200.0, \"schaetzungObjekt\": 1161918.104, \"anzahlung\": 60, \"tragbarkeit\": 10, \"score\": 35}, {\"barvermoegen\": 10680.16225, \"aktienvermoegen\": 3483.504535, \"saeule3a\": 20000, \"lebensversicherung\": 0, \"pensionskasse\": 7585.867934, \"totalVermoegen\": 41749.53472, \"lohn\": 3200, \"lohnJahr\": 38400, \"bonus\": 0.0, \"zulagen\": 480, \"totalLohn\": 38880.0, \"schaetzungObjekt\": 527685.6888, \"anzahlung\": 60, \"tragbarkeit\": 20, \"score\": 40}, {\"barvermoegen\": 21127.59756, \"aktienvermoegen\": 2276.80842, \"saeule3a\": 80000, \"lebensversicherung\": 0, \"pensionskasse\": 10973.92044, \"totalVermoegen\": 114378.3264, \"lohn\": 5600, \"lohnJahr\": 67200, \"bonus\": 0.0, \"zulagen\": 840, \"totalLohn\": 68040.0, \"schaetzungObjekt\": 2831.958338, \"anzahlung\": 100, \"tragbarkeit\": 100, \"score\": 100}, {\"barvermoegen\": 2461.186232, \"aktienvermoegen\": 4089.579044, \"saeule3a\": 40000, \"lebensversicherung\": 0, \"pensionskasse\": 21678.48834, \"totalVermoegen\": 68229.25361, \"lohn\": 13000, \"lohnJahr\": 156000, \"bonus\": 26183.46108, \"zulagen\": 0, \"totalLohn\": 182183.4611, \"schaetzungObjekt\": 1129918.578, \"anzahlung\": 60, \"tragbarkeit\": 50, \"score\": 55}, {\"barvermoegen\": 37521.27492, \"aktienvermoegen\": 582.3764638, \"saeule3a\": 80000, \"lebensversicherung\": 51000, \"pensionskasse\": 86690.07912, \"totalVermoegen\": 255793.7305, \"lohn\": 9100, \"lohnJahr\": 109200, \"bonus\": 0.0, \"zulagen\": 0, \"totalLohn\": 109200.0, \"schaetzungObjekt\": 1093686.582, \"anzahlung\": 80, \"tragbarkeit\": 40, \"score\": 60}, {\"barvermoegen\": 40894.22527, \"aktienvermoegen\": 196.0539802, \"saeule3a\": 40000, \"lebensversicherung\": 0, \"pensionskasse\": 21427.38253, \"totalVermoegen\": 102517.6618, \"lohn\": 9100, \"lohnJahr\": 109200, \"bonus\": 0.0, \"zulagen\": 0, \"totalLohn\": 109200.0, \"schaetzungObjekt\": 351965.5104, \"anzahlung\": 80, \"tragbarkeit\": 100, \"score\": 90}, {\"barvermoegen\": 20753.70596, \"aktienvermoegen\": 2206.524775, \"saeule3a\": 80000, \"lebensversicherung\": 0, \"pensionskasse\": 85637.90743, \"totalVermoegen\": 188598.1382, \"lohn\": 9100, \"lohnJahr\": 109200, \"bonus\": 0.0, \"zulagen\": 0, \"totalLohn\": 109200.0, \"schaetzungObjekt\": 1653654.687, \"anzahlung\": 0, \"tragbarkeit\": 20, \"score\": 10}, {\"barvermoegen\": 29526.93145, \"aktienvermoegen\": 1325.604038, \"saeule3a\": 80000, \"lebensversicherung\": 55000, \"pensionskasse\": 85565.94366, \"totalVermoegen\": 251418.4792, \"lohn\": 13000, \"lohnJahr\": 156000, \"bonus\": 29132.44306, \"zulagen\": 0, \"totalLohn\": 185132.4431, \"schaetzungObjekt\": 860816.1892, \"anzahlung\": 80, \"tragbarkeit\": 80, \"score\": 80}, {\"barvermoegen\": 26272.2292, \"aktienvermoegen\": 1637.943433, \"saeule3a\": 20000, \"lebensversicherung\": 34000, \"pensionskasse\": 5331.457942, \"totalVermoegen\": 87241.63058, \"lohn\": 8000, \"lohnJahr\": 96000, \"bonus\": 5989.957638, \"zulagen\": 0, \"totalLohn\": 101989.9576, \"schaetzungObjekt\": 1404993.028, \"anzahlung\": 60, \"tragbarkeit\": 20, \"score\": 40}, {\"barvermoegen\": 10969.46594, \"aktienvermoegen\": 3010.735067, \"saeule3a\": 130000, \"lebensversicherung\": 0, \"pensionskasse\": 0.0, \"totalVermoegen\": 143980.201, \"lohn\": 5600, \"lohnJahr\": 67200, \"bonus\": 0.0, \"zulagen\": 840, \"totalLohn\": 68040.0, \"schaetzungObjekt\": 1740703.936, \"anzahlung\": 60, \"tragbarkeit\": 10, \"score\": 35}, {\"barvermoegen\": 11832.0554, \"aktienvermoegen\": 2919.718327, \"saeule3a\": 80000, \"lebensversicherung\": 0, \"pensionskasse\": 10257.30967, \"totalVermoegen\": 105009.0834, \"lohn\": 5600, \"lohnJahr\": 67200, \"bonus\": 0.0, \"zulagen\": 840, \"totalLohn\": 68040.0, \"schaetzungObjekt\": 73721.14351, \"anzahlung\": 100, \"tragbarkeit\": 100, \"score\": 100}, {\"barvermoegen\": 13636.51797, \"aktienvermoegen\": 2610.760469, \"saeule3a\": 80000, \"lebensversicherung\": 0, \"pensionskasse\": 9936.030665, \"totalVermoegen\": 106183.3091, \"lohn\": 5600, \"lohnJahr\": 67200, \"bonus\": 0.0, \"zulagen\": 840, \"totalLohn\": 68040.0, \"schaetzungObjekt\": 510702.8345, \"anzahlung\": 80, \"tragbarkeit\": 50, \"score\": 65}, {\"barvermoegen\": 38141.36581, \"aktienvermoegen\": 154.3412321, \"saeule3a\": 20000, \"lebensversicherung\": 0, \"pensionskasse\": 4960.597266, \"totalVermoegen\": 63256.30431, \"lohn\": 5600, \"lohnJahr\": 67200, \"bonus\": 0.0, \"zulagen\": 0, \"totalLohn\": 67200.0, \"schaetzungObjekt\": 422389.9255, \"anzahlung\": 0, \"tragbarkeit\": 70, \"score\": 35}, {\"barvermoegen\": 31070.41774, \"aktienvermoegen\": 860.2423275, \"saeule3a\": 20000, \"lebensversicherung\": 0, \"pensionskasse\": 4959.105127, \"totalVermoegen\": 56889.76519, \"lohn\": 5600, \"lohnJahr\": 67200, \"bonus\": 0.0, \"zulagen\": 0, \"totalLohn\": 67200.0, \"schaetzungObjekt\": 1323341.117, \"anzahlung\": 60, \"tragbarkeit\": 10, \"score\": 35}, {\"barvermoegen\": 14833.75801, \"aktienvermoegen\": 2479.150506, \"saeule3a\": 20000, \"lebensversicherung\": 0, \"pensionskasse\": 4953.157884, \"totalVermoegen\": 42266.0664, \"lohn\": 5600, \"lohnJahr\": 67200, \"bonus\": 0.0, \"zulagen\": 0, \"totalLohn\": 67200.0, \"schaetzungObjekt\": 215361.5687, \"anzahlung\": 0, \"tragbarkeit\": 100, \"score\": 50}, {\"barvermoegen\": 1834.389726, \"aktienvermoegen\": 3654.463823, \"saeule3a\": 130000, \"lebensversicherung\": 0, \"pensionskasse\": 0.0, \"totalVermoegen\": 135488.8535, \"lohn\": 5600, \"lohnJahr\": 67200, \"bonus\": 0.0, \"zulagen\": 840, \"totalLohn\": 68040.0, \"schaetzungObjekt\": 453541.9279, \"anzahlung\": 80, \"tragbarkeit\": 50, \"score\": 65}, {\"barvermoegen\": 21350.74307, \"aktienvermoegen\": 1689.782924, \"saeule3a\": 0, \"lebensversicherung\": 0, \"pensionskasse\": 3824.857231, \"totalVermoegen\": 26865.38322, \"lohn\": 8000, \"lohnJahr\": 96000, \"bonus\": 12002.87788, \"zulagen\": 0, \"totalLohn\": 108002.8779, \"schaetzungObjekt\": 8108.333814, \"anzahlung\": 100, \"tragbarkeit\": 100, \"score\": 100}, {\"barvermoegen\": 6593.891031, \"aktienvermoegen\": 3155.986646, \"saeule3a\": 100000, \"lebensversicherung\": 0, \"pensionskasse\": 0.0, \"totalVermoegen\": 109749.8777, \"lohn\": 5600, \"lohnJahr\": 67200, \"bonus\": 0.0, \"zulagen\": 840, \"totalLohn\": 68040.0, \"schaetzungObjekt\": 844368.9009, \"anzahlung\": 0, \"tragbarkeit\": 20, \"score\": 10}, {\"barvermoegen\": 26007.89155, \"aktienvermoegen\": 1175.484006, \"saeule3a\": 80000, \"lebensversicherung\": 0, \"pensionskasse\": 9440.682902, \"totalVermoegen\": 116624.0585, \"lohn\": 5600, \"lohnJahr\": 67200, \"bonus\": 0.0, \"zulagen\": 840, \"totalLohn\": 68040.0, \"schaetzungObjekt\": 1981393.315, \"anzahlung\": 60, \"tragbarkeit\": 10, \"score\": 35}, {\"barvermoegen\": 19155.38286, \"aktienvermoegen\": 1747.144671, \"saeule3a\": 40000, \"lebensversicherung\": 46000, \"pensionskasse\": 18313.41478, \"totalVermoegen\": 125215.9423, \"lohn\": 9100, \"lohnJahr\": 109200, \"bonus\": 0.0, \"zulagen\": 0, \"totalLohn\": 109200.0, \"schaetzungObjekt\": 1701022.031, \"anzahlung\": 60, \"tragbarkeit\": 20, \"score\": 40}, {\"barvermoegen\": 17031.8617, \"aktienvermoegen\": 1929.943894, \"saeule3a\": 80000, \"lebensversicherung\": 0, \"pensionskasse\": 72662.60127, \"totalVermoegen\": 171624.4069, \"lohn\": 9100, \"lohnJahr\": 109200, \"bonus\": 0.0, \"zulagen\": 0, \"totalLohn\": 109200.0, \"schaetzungObjekt\": 45394.22766, \"anzahlung\": 100, \"tragbarkeit\": 100, \"score\": 100}, {\"barvermoegen\": 31291.39196, \"aktienvermoegen\": 473.278368, \"saeule3a\": 20000, \"lebensversicherung\": 0, \"pensionskasse\": 6004.029274, \"totalVermoegen\": 57768.6996, \"lohn\": 3200, \"lohnJahr\": 38400, \"bonus\": 0.0, \"zulagen\": 480, \"totalLohn\": 38880.0, \"schaetzungObjekt\": 1115114.263, \"anzahlung\": 60, \"tragbarkeit\": 10, \"score\": 35}, {\"barvermoegen\": 28346.39381, \"aktienvermoegen\": 765.424866, \"saeule3a\": 130000, \"lebensversicherung\": 90000, \"pensionskasse\": 0.0, \"totalVermoegen\": 249111.8187, \"lohn\": 9100, \"lohnJahr\": 109200, \"bonus\": 0.0, \"zulagen\": 0, \"totalLohn\": 109200.0, \"schaetzungObjekt\": 657792.8453, \"anzahlung\": 90, \"tragbarkeit\": 70, \"score\": 80}, {\"barvermoegen\": 29051.69828, \"aktienvermoegen\": 681.9000131, \"saeule3a\": 40000, \"lebensversicherung\": 0, \"pensionskasse\": 17935.34921, \"totalVermoegen\": 87668.9475, \"lohn\": 13000, \"lohnJahr\": 156000, \"bonus\": 24920.48767, \"zulagen\": 0, \"totalLohn\": 180920.4877, \"schaetzungObjekt\": 799839.6795, \"anzahlung\": 0, \"tragbarkeit\": 80, \"score\": 40}, {\"barvermoegen\": 30181.14029, \"aktienvermoegen\": 540.6136833, \"saeule3a\": 0, \"lebensversicherung\": 0, \"pensionskasse\": 4448.409641, \"totalVermoegen\": 35170.16362, \"lohn\": 3200, \"lohnJahr\": 38400, \"bonus\": 0.0, \"zulagen\": 480, \"totalLohn\": 38880.0, \"schaetzungObjekt\": 1890510.857, \"anzahlung\": 60, \"tragbarkeit\": 0, \"score\": 30}, {\"barvermoegen\": 12389.65192, \"aktienvermoegen\": 2265.499793, \"saeule3a\": 130000, \"lebensversicherung\": 76000, \"pensionskasse\": 0.0, \"totalVermoegen\": 220655.1517, \"lohn\": 9100, \"lohnJahr\": 109200, \"bonus\": 0.0, \"zulagen\": 0, \"totalLohn\": 109200.0, \"schaetzungObjekt\": 1375976.298, \"anzahlung\": 0, \"tragbarkeit\": 20, \"score\": 10}, {\"barvermoegen\": 3966.273127, \"aktienvermoegen\": 3060.686056, \"saeule3a\": 100000, \"lebensversicherung\": 68000, \"pensionskasse\": 0.0, \"totalVermoegen\": 175026.9592, \"lohn\": 9100, \"lohnJahr\": 109200, \"bonus\": 0.0, \"zulagen\": 0, \"totalLohn\": 109200.0, \"schaetzungObjekt\": 606545.3236, \"anzahlung\": 80, \"tragbarkeit\": 80, \"score\": 80}, {\"barvermoegen\": 19154.61844, \"aktienvermoegen\": 1540.674866, \"saeule3a\": 130000, \"lebensversicherung\": 0, \"pensionskasse\": 0.0, \"totalVermoegen\": 150695.2933, \"lohn\": 9100, \"lohnJahr\": 109200, \"bonus\": 0.0, \"zulagen\": 0, \"totalLohn\": 109200.0, \"schaetzungObjekt\": 1586016.335, \"anzahlung\": 60, \"tragbarkeit\": 20, \"score\": 40}, {\"barvermoegen\": 3171.182646, \"aktienvermoegen\": 3121.351511, \"saeule3a\": 100000, \"lebensversicherung\": 0, \"pensionskasse\": 0.0, \"totalVermoegen\": 106292.5342, \"lohn\": 13000, \"lohnJahr\": 156000, \"bonus\": 9140.612201, \"zulagen\": 0, \"totalLohn\": 165140.6122, \"schaetzungObjekt\": 1967428.293, \"anzahlung\": 60, \"tragbarkeit\": 20, \"score\": 40}, {\"barvermoegen\": 1938.874942, \"aktienvermoegen\": 3221.015, \"saeule3a\": 130000, \"lebensversicherung\": 0, \"pensionskasse\": 0.0, \"totalVermoegen\": 135159.8899, \"lohn\": 5600, \"lohnJahr\": 67200, \"bonus\": 0.0, \"zulagen\": 840, \"totalLohn\": 68040.0, \"schaetzungObjekt\": 869284.3942, \"anzahlung\": 0, \"tragbarkeit\": 20, \"score\": 10}, {\"barvermoegen\": 9022.529417, \"aktienvermoegen\": 2485.569348, \"saeule3a\": 100000, \"lebensversicherung\": 0, \"pensionskasse\": 16939.11145, \"totalVermoegen\": 128447.2102, \"lohn\": 5600, \"lohnJahr\": 67200, \"bonus\": 0.0, \"zulagen\": 840, \"totalLohn\": 68040.0, \"schaetzungObjekt\": 1735619.577, \"anzahlung\": 60, \"tragbarkeit\": 10, \"score\": 35}, {\"barvermoegen\": 21528.30578, \"aktienvermoegen\": 1135.026875, \"saeule3a\": 130000, \"lebensversicherung\": 0, \"pensionskasse\": 0.0, \"totalVermoegen\": 152663.3327, \"lohn\": 9100, \"lohnJahr\": 109200, \"bonus\": 0.0, \"zulagen\": 0, \"totalLohn\": 109200.0, \"schaetzungObjekt\": 1294164.087, \"anzahlung\": 0, \"tragbarkeit\": 20, \"score\": 10}, {\"barvermoegen\": 3047.226576, \"aktienvermoegen\": 2946.69248, \"saeule3a\": 80000, \"lebensversicherung\": 0, \"pensionskasse\": 65028.30274, \"totalVermoegen\": 151022.2218, \"lohn\": 13000, \"lohnJahr\": 156000, \"bonus\": 7595.625692, \"zulagen\": 0, \"totalLohn\": 163595.6257, \"schaetzungObjekt\": 1896798.785, \"anzahlung\": 60, \"tragbarkeit\": 20, \"score\": 40}, {\"barvermoegen\": 30737.81924, \"aktienvermoegen\": 175.2969483, \"saeule3a\": 20000, \"lebensversicherung\": 30000, \"pensionskasse\": 4061.348591, \"totalVermoegen\": 84974.46478, \"lohn\": 5600, \"lohnJahr\": 67200, \"bonus\": 0.0, \"zulagen\": 0, \"totalLohn\": 67200.0, \"schaetzungObjekt\": 1538513.77, \"anzahlung\": 60, \"tragbarkeit\": 10, \"score\": 35}, {\"barvermoegen\": 875.3783813, \"aktienvermoegen\": 3069.966287, \"saeule3a\": 130000, \"lebensversicherung\": 0, \"pensionskasse\": 0.0, \"totalVermoegen\": 133945.3447, \"lohn\": 5600, \"lohnJahr\": 67200, \"bonus\": 0.0, \"zulagen\": 840, \"totalLohn\": 68040.0, \"schaetzungObjekt\": 63657.20733, \"anzahlung\": 100, \"tragbarkeit\": 100, \"score\": 100}, {\"barvermoegen\": 24057.35534, \"aktienvermoegen\": 749.4152731, \"saeule3a\": 130000, \"lebensversicherung\": 73000, \"pensionskasse\": 0.0, \"totalVermoegen\": 227806.7706, \"lohn\": 9100, \"lohnJahr\": 109200, \"bonus\": 0.0, \"zulagen\": 0, \"totalLohn\": 109200.0, \"schaetzungObjekt\": 1935287.576, \"anzahlung\": 0, \"tragbarkeit\": 10, \"score\": 5}, {\"barvermoegen\": 21846.52783, \"aktienvermoegen\": 957.6059365, \"saeule3a\": 130000, \"lebensversicherung\": 89000, \"pensionskasse\": 0.0, \"totalVermoegen\": 241804.1338, \"lohn\": 9100, \"lohnJahr\": 109200, \"bonus\": 0.0, \"zulagen\": 0, \"totalLohn\": 109200.0, \"schaetzungObjekt\": 1575273.661, \"anzahlung\": 0, \"tragbarkeit\": 20, \"score\": 10}, {\"barvermoegen\": 3658.525736, \"aktienvermoegen\": 2730.669931, \"saeule3a\": 100000, \"lebensversicherung\": 0, \"pensionskasse\": 15482.61253, \"totalVermoegen\": 121871.8082, \"lohn\": 5600, \"lohnJahr\": 67200, \"bonus\": 0.0, \"zulagen\": 840, \"totalLohn\": 68040.0, \"schaetzungObjekt\": 1095025.06, \"anzahlung\": 0, \"tragbarkeit\": 20, \"score\": 10}, {\"barvermoegen\": 27915.83268, \"aktienvermoegen\": 273.2888214, \"saeule3a\": 40000, \"lebensversicherung\": 0, \"pensionskasse\": 15324.36045, \"totalVermoegen\": 83513.48195, \"lohn\": 13000, \"lohnJahr\": 156000, \"bonus\": 514.5526677, \"zulagen\": 0, \"totalLohn\": 156514.5527, \"schaetzungObjekt\": 1593222.63, \"anzahlung\": 60, \"tragbarkeit\": 40, \"score\": 50}, {\"barvermoegen\": 8973.686025, \"aktienvermoegen\": 2159.318035, \"saeule3a\": 130000, \"lebensversicherung\": 0, \"pensionskasse\": 0.0, \"totalVermoegen\": 141133.0041, \"lohn\": 5600, \"lohnJahr\": 67200, \"bonus\": 0.0, \"zulagen\": 840, \"totalLohn\": 68040.0, \"schaetzungObjekt\": 1969811.022, \"anzahlung\": 60, \"tragbarkeit\": 10, \"score\": 35}, {\"barvermoegen\": 27713.21513, \"aktienvermoegen\": 230.317957, \"saeule3a\": 100000, \"lebensversicherung\": 0, \"pensionskasse\": 0.0, \"totalVermoegen\": 127943.5331, \"lohn\": 9100, \"lohnJahr\": 109200, \"bonus\": 0.0, \"zulagen\": 0, \"totalLohn\": 109200.0, \"schaetzungObjekt\": 65699.38383, \"anzahlung\": 100, \"tragbarkeit\": 100, \"score\": 100}, {\"barvermoegen\": 14030.03662, \"aktienvermoegen\": 1560.010706, \"saeule3a\": 20000, \"lebensversicherung\": 0, \"pensionskasse\": 3703.767959, \"totalVermoegen\": 39293.81528, \"lohn\": 8000, \"lohnJahr\": 96000, \"bonus\": 4196.804306, \"zulagen\": 0, \"totalLohn\": 100196.8043, \"schaetzungObjekt\": 1509576.441, \"anzahlung\": 60, \"tragbarkeit\": 20, \"score\": 40}, {\"barvermoegen\": 13799.95062, \"aktienvermoegen\": 1571.320929, \"saeule3a\": 130000, \"lebensversicherung\": 0, \"pensionskasse\": 0.0, \"totalVermoegen\": 145371.2716, \"lohn\": 13000, \"lohnJahr\": 156000, \"bonus\": 26865.58941, \"zulagen\": 0, \"totalLohn\": 182865.5894, \"schaetzungObjekt\": 173842.9617, \"anzahlung\": 100, \"tragbarkeit\": 100, \"score\": 100}, {\"barvermoegen\": 19351.08694, \"aktienvermoegen\": 996.3234693, \"saeule3a\": 80000, \"lebensversicherung\": 0, \"pensionskasse\": 58628.64327, \"totalVermoegen\": 158976.0537, \"lohn\": 13000, \"lohnJahr\": 156000, \"bonus\": 28924.18789, \"zulagen\": 0, \"totalLohn\": 184924.1879, \"schaetzungObjekt\": 160629.1633, \"anzahlung\": 100, \"tragbarkeit\": 100, \"score\": 100}, {\"barvermoegen\": 3112.123255, \"aktienvermoegen\": 2575.779653, \"saeule3a\": 40000, \"lebensversicherung\": 0, \"pensionskasse\": 5773.983958, \"totalVermoegen\": 51461.88687, \"lohn\": 5600, \"lohnJahr\": 67200, \"bonus\": 0.0, \"zulagen\": 840, \"totalLohn\": 68040.0, \"schaetzungObjekt\": 955841.7454, \"anzahlung\": 60, \"tragbarkeit\": 20, \"score\": 40}, {\"barvermoegen\": 27043.91602, \"aktienvermoegen\": 159.2206788, \"saeule3a\": 130000, \"lebensversicherung\": 0, \"pensionskasse\": 0.0, \"totalVermoegen\": 157203.1367, \"lohn\": 9100, \"lohnJahr\": 109200, \"bonus\": 0.0, \"zulagen\": 0, \"totalLohn\": 109200.0, \"schaetzungObjekt\": 1408863.841, \"anzahlung\": 0, \"tragbarkeit\": 20, \"score\": 10}, {\"barvermoegen\": 19838.91429, \"aktienvermoegen\": 822.4908976, \"saeule3a\": 40000, \"lebensversicherung\": 0, \"pensionskasse\": 14031.91163, \"totalVermoegen\": 74693.31682, \"lohn\": 9100, \"lohnJahr\": 109200, \"bonus\": 0.0, \"zulagen\": 0, \"totalLohn\": 109200.0, \"schaetzungObjekt\": 1200972.313, \"anzahlung\": 60, \"tragbarkeit\": 40, \"score\": 50}, {\"barvermoegen\": 26204.81395, \"aktienvermoegen\": 161.3786807, \"saeule3a\": 80000, \"lebensversicherung\": 0, \"pensionskasse\": 55637.20151, \"totalVermoegen\": 162003.3941, \"lohn\": 9100, \"lohnJahr\": 109200, \"bonus\": 0.0, \"zulagen\": 0, \"totalLohn\": 109200.0, \"schaetzungObjekt\": 1840973.052, \"anzahlung\": 60, \"tragbarkeit\": 10, \"score\": 35}, {\"barvermoegen\": 16646.74775, \"aktienvermoegen\": 1061.183164, \"saeule3a\": 80000, \"lebensversicherung\": 51000, \"pensionskasse\": 54517.15879, \"totalVermoegen\": 203225.0897, \"lohn\": 9100, \"lohnJahr\": 109200, \"bonus\": 0.0, \"zulagen\": 0, \"totalLohn\": 109200.0, \"schaetzungObjekt\": 1211537.008, \"anzahlung\": 0, \"tragbarkeit\": 40, \"score\": 20}, {\"barvermoegen\": 20237.15936, \"aktienvermoegen\": 689.3010749, \"saeule3a\": 100000, \"lebensversicherung\": 0, \"pensionskasse\": 0.0, \"totalVermoegen\": 120926.4604, \"lohn\": 13000, \"lohnJahr\": 156000, \"bonus\": 28862.63414, \"zulagen\": 0, \"totalLohn\": 184862.6341, \"schaetzungObjekt\": 610602.183, \"anzahlung\": 0, \"tragbarkeit\": 100, \"score\": 50}, {\"barvermoegen\": 13320.98444, \"aktienvermoegen\": 1337.774412, \"saeule3a\": 130000, \"lebensversicherung\": 0, \"pensionskasse\": 0.0, \"totalVermoegen\": 144658.7589, \"lohn\": 9100, \"lohnJahr\": 109200, \"bonus\": 0.0, \"zulagen\": 0, \"totalLohn\": 109200.0, \"schaetzungObjekt\": 1343503.92, \"anzahlung\": 0, \"tragbarkeit\": 20, \"score\": 10}, {\"barvermoegen\": 14227.16354, \"aktienvermoegen\": 1208.684876, \"saeule3a\": 0, \"lebensversicherung\": 0, \"pensionskasse\": 2631.40123, \"totalVermoegen\": 18067.24964, \"lohn\": 5600, \"lohnJahr\": 67200, \"bonus\": 0.0, \"zulagen\": 0, \"totalLohn\": 67200.0, \"schaetzungObjekt\": 157498.3705, \"anzahlung\": 0, \"tragbarkeit\": 100, \"score\": 50}, {\"barvermoegen\": 2842.031041, \"aktienvermoegen\": 2336.710515, \"saeule3a\": 80000, \"lebensversicherung\": 54000, \"pensionskasse\": 52418.27239, \"totalVermoegen\": 191597.0139, \"lohn\": 9100, \"lohnJahr\": 109200, \"bonus\": 0.0, \"zulagen\": 0, \"totalLohn\": 109200.0, \"schaetzungObjekt\": 236999.3832, \"anzahlung\": 100, \"tragbarkeit\": 100, \"score\": 100}, {\"barvermoegen\": 1146.002333, \"aktienvermoegen\": 2500.498304, \"saeule3a\": 130000, \"lebensversicherung\": 78000, \"pensionskasse\": 0.0, \"totalVermoegen\": 211646.5006, \"lohn\": 9100, \"lohnJahr\": 109200, \"bonus\": 0.0, \"zulagen\": 0, \"totalLohn\": 109200.0, \"schaetzungObjekt\": 724142.9335, \"anzahlung\": 80, \"tragbarkeit\": 70, \"score\": 75}, {\"barvermoegen\": 9158.292446, \"aktienvermoegen\": 1687.622077, \"saeule3a\": 100000, \"lebensversicherung\": 0, \"pensionskasse\": 0.0, \"totalVermoegen\": 110845.9145, \"lohn\": 9100, \"lohnJahr\": 109200, \"bonus\": 0.0, \"zulagen\": 0, \"totalLohn\": 109200.0, \"schaetzungObjekt\": 383115.398, \"anzahlung\": 80, \"tragbarkeit\": 100, \"score\": 90}, {\"barvermoegen\": 12245.05406, \"aktienvermoegen\": 1285.802289, \"saeule3a\": 20000, \"lebensversicherung\": 0, \"pensionskasse\": 3137.884619, \"totalVermoegen\": 36668.74097, \"lohn\": 5600, \"lohnJahr\": 67200, \"bonus\": 0.0, \"zulagen\": 0, \"totalLohn\": 67200.0, \"schaetzungObjekt\": 1999123.687, \"anzahlung\": 60, \"tragbarkeit\": 10, \"score\": 35}, {\"barvermoegen\": 21479.51186, \"aktienvermoegen\": 300.6927683, \"saeule3a\": 40000, \"lebensversicherung\": 0, \"pensionskasse\": 12243.21977, \"totalVermoegen\": 74023.4244, \"lohn\": 9100, \"lohnJahr\": 109200, \"bonus\": 0.0, \"zulagen\": 0, \"totalLohn\": 109200.0, \"schaetzungObjekt\": 445216.7604, \"anzahlung\": 0, \"tragbarkeit\": 100, \"score\": 50}, {\"barvermoegen\": 3597.743475, \"aktienvermoegen\": 2066.785939, \"saeule3a\": 40000, \"lebensversicherung\": 46000, \"pensionskasse\": 12132.80143, \"totalVermoegen\": 103797.3308, \"lohn\": 9100, \"lohnJahr\": 109200, \"bonus\": 0.0, \"zulagen\": 0, \"totalLohn\": 109200.0, \"schaetzungObjekt\": 954671.2183, \"anzahlung\": 0, \"tragbarkeit\": 40, \"score\": 20}, {\"barvermoegen\": 23135.09115, \"aktienvermoegen\": 106.0764838, \"saeule3a\": 130000, \"lebensversicherung\": 89000, \"pensionskasse\": 0.0, \"totalVermoegen\": 242241.1676, \"lohn\": 13000, \"lohnJahr\": 156000, \"bonus\": 18216.64058, \"zulagen\": 0, \"totalLohn\": 174216.6406, \"schaetzungObjekt\": 48033.34955, \"anzahlung\": 100, \"tragbarkeit\": 100, \"score\": 100}, {\"barvermoegen\": 2550.623434, \"aktienvermoegen\": 2111.06202, \"saeule3a\": 130000, \"lebensversicherung\": 0, \"pensionskasse\": 0.0, \"totalVermoegen\": 134661.6855, \"lohn\": 13000, \"lohnJahr\": 156000, \"bonus\": 18371.3405, \"zulagen\": 0, \"totalLohn\": 174371.3405, \"schaetzungObjekt\": 1645858.584, \"anzahlung\": 60, \"tragbarkeit\": 40, \"score\": 50}, {\"barvermoegen\": 9871.987651, \"aktienvermoegen\": 1326.658074, \"saeule3a\": 130000, \"lebensversicherung\": 0, \"pensionskasse\": 0.0, \"totalVermoegen\": 141198.6457, \"lohn\": 13000, \"lohnJahr\": 156000, \"bonus\": 10745.47816, \"zulagen\": 0, \"totalLohn\": 166745.4782, \"schaetzungObjekt\": 827127.3212, \"anzahlung\": 0, \"tragbarkeit\": 80, \"score\": 40}, {\"barvermoegen\": 4348.16323, \"aktienvermoegen\": 1868.587012, \"saeule3a\": 40000, \"lebensversicherung\": 0, \"pensionskasse\": 4606.806669, \"totalVermoegen\": 50823.55691, \"lohn\": 5600, \"lohnJahr\": 67200, \"bonus\": 0.0, \"zulagen\": 840, \"totalLohn\": 68040.0, \"schaetzungObjekt\": 1125132.123, \"anzahlung\": 60, \"tragbarkeit\": 10, \"score\": 35}, {\"barvermoegen\": 8673.230906, \"aktienvermoegen\": 1347.881995, \"saeule3a\": 100000, \"lebensversicherung\": 0, \"pensionskasse\": 66456.15258, \"totalVermoegen\": 176477.2655, \"lohn\": 9100, \"lohnJahr\": 109200, \"bonus\": 0.0, \"zulagen\": 0, \"totalLohn\": 109200.0, \"schaetzungObjekt\": 430672.6839, \"anzahlung\": 100, \"tragbarkeit\": 100, \"score\": 100}, {\"barvermoegen\": 6604.131192, \"aktienvermoegen\": 1508.390684, \"saeule3a\": 130000, \"lebensversicherung\": 0, \"pensionskasse\": 0.0, \"totalVermoegen\": 138112.5219, \"lohn\": 5600, \"lohnJahr\": 67200, \"bonus\": 0.0, \"zulagen\": 840, \"totalLohn\": 68040.0, \"schaetzungObjekt\": 899917.443, \"anzahlung\": 0, \"tragbarkeit\": 20, \"score\": 10}, {\"barvermoegen\": 19569.64991, \"aktienvermoegen\": 153.8926306, \"saeule3a\": 100000, \"lebensversicherung\": 66000, \"pensionskasse\": 0.0, \"totalVermoegen\": 185723.5425, \"lohn\": 9100, \"lohnJahr\": 109200, \"bonus\": 0.0, \"zulagen\": 0, \"totalLohn\": 109200.0, \"schaetzungObjekt\": 3056.731691, \"anzahlung\": 100, \"tragbarkeit\": 100, \"score\": 100}, {\"barvermoegen\": 18880.09906, \"aktienvermoegen\": 189.2362025, \"saeule3a\": 20000, \"lebensversicherung\": 0, \"pensionskasse\": 3462.076847, \"totalVermoegen\": 42531.41211, \"lohn\": 3200, \"lohnJahr\": 38400, \"bonus\": 0.0, \"zulagen\": 480, \"totalLohn\": 38880.0, \"schaetzungObjekt\": 133377.8418, \"anzahlung\": 90, \"tragbarkeit\": 100, \"score\": 95}, {\"barvermoegen\": 13313.62258, \"aktienvermoegen\": 734.3048457, \"saeule3a\": 80000, \"lebensversicherung\": 0, \"pensionskasse\": 41313.34208, \"totalVermoegen\": 135361.2695, \"lohn\": 9100, \"lohnJahr\": 109200, \"bonus\": 0.0, \"zulagen\": 0, \"totalLohn\": 109200.0, \"schaetzungObjekt\": 137352.1297, \"anzahlung\": 100, \"tragbarkeit\": 100, \"score\": 100}, {\"barvermoegen\": 2741.832999, \"aktienvermoegen\": 1740.51231, \"saeule3a\": 0, \"lebensversicherung\": 0, \"pensionskasse\": 2014.69561, \"totalVermoegen\": 6497.04092, \"lohn\": 8000, \"lohnJahr\": 96000, \"bonus\": 25701.6004, \"zulagen\": 0, \"totalLohn\": 121701.6004, \"schaetzungObjekt\": 916878.0527, \"anzahlung\": 60, \"tragbarkeit\": 40, \"score\": 50}, {\"barvermoegen\": 8693.997248, \"aktienvermoegen\": 1131.39767, \"saeule3a\": 40000, \"lebensversicherung\": 0, \"pensionskasse\": 4001.594789, \"totalVermoegen\": 53826.98971, \"lohn\": 5600, \"lohnJahr\": 67200, \"bonus\": 0.0, \"zulagen\": 840, \"totalLohn\": 68040.0, \"schaetzungObjekt\": 563876.5705, \"anzahlung\": 60, \"tragbarkeit\": 40, \"score\": 50}, {\"barvermoegen\": 7313.418363, \"aktienvermoegen\": 1200.015638, \"saeule3a\": 20000, \"lebensversicherung\": 0, \"pensionskasse\": 2414.196842, \"totalVermoegen\": 30927.63084, \"lohn\": 5600, \"lohnJahr\": 67200, \"bonus\": 0.0, \"zulagen\": 0, \"totalLohn\": 67200.0, \"schaetzungObjekt\": 877112.7394, \"anzahlung\": 60, \"tragbarkeit\": 20, \"score\": 40}, {\"barvermoegen\": 7893.70424, \"aktienvermoegen\": 1121.165306, \"saeule3a\": 20000, \"lebensversicherung\": 34000, \"pensionskasse\": 2388.169662, \"totalVermoegen\": 65403.03921, \"lohn\": 5600, \"lohnJahr\": 67200, \"bonus\": 0.0, \"zulagen\": 0, \"totalLohn\": 67200.0, \"schaetzungObjekt\": 701093.2748, \"anzahlung\": 60, \"tragbarkeit\": 40, \"score\": 50}, {\"barvermoegen\": 18527.18214, \"aktienvermoegen\": 32.3744011, \"saeule3a\": 130000, \"lebensversicherung\": 0, \"pensionskasse\": 0.0, \"totalVermoegen\": 148559.5565, \"lohn\": 9100, \"lohnJahr\": 109200, \"bonus\": 0.0, \"zulagen\": 0, \"totalLohn\": 109200.0, \"schaetzungObjekt\": 76025.89439, \"anzahlung\": 100, \"tragbarkeit\": 100, \"score\": 100}, {\"barvermoegen\": 13639.87924, \"aktienvermoegen\": 481.7974673, \"saeule3a\": 80000, \"lebensversicherung\": 0, \"pensionskasse\": 36915.70782, \"totalVermoegen\": 131037.3845, \"lohn\": 9100, \"lohnJahr\": 109200, \"bonus\": 0.0, \"zulagen\": 0, \"totalLohn\": 109200.0, \"schaetzungObjekt\": 1342284.886, \"anzahlung\": 60, \"tragbarkeit\": 20, \"score\": 40}, {\"barvermoegen\": 6928.746047, \"aktienvermoegen\": 1148.272364, \"saeule3a\": 100000, \"lebensversicherung\": 0, \"pensionskasse\": 0.0, \"totalVermoegen\": 108077.0184, \"lohn\": 9100, \"lohnJahr\": 109200, \"bonus\": 0.0, \"zulagen\": 0, \"totalLohn\": 109200.0, \"schaetzungObjekt\": 925931.7155, \"anzahlung\": 0, \"tragbarkeit\": 40, \"score\": 20}, {\"barvermoegen\": 6661.371751, \"aktienvermoegen\": 1061.76065, \"saeule3a\": 130000, \"lebensversicherung\": 0, \"pensionskasse\": 0.0, \"totalVermoegen\": 137723.1324, \"lohn\": 13000, \"lohnJahr\": 156000, \"bonus\": 27999.26672, \"zulagen\": 0, \"totalLohn\": 183999.2667, \"schaetzungObjekt\": 1805711.897, \"anzahlung\": 60, \"tragbarkeit\": 20, \"score\": 40}, {\"barvermoegen\": 1102.186719, \"aktienvermoegen\": 1447.984495, \"saeule3a\": 130000, \"lebensversicherung\": 0, \"pensionskasse\": 0.0, \"totalVermoegen\": 132550.1712, \"lohn\": 5600, \"lohnJahr\": 67200, \"bonus\": 0.0, \"zulagen\": 840, \"totalLohn\": 68040.0, \"schaetzungObjekt\": 1209749.817, \"anzahlung\": 0, \"tragbarkeit\": 10, \"score\": 5}, {\"barvermoegen\": 9043.041038, \"aktienvermoegen\": 619.2814206, \"saeule3a\": 80000, \"lebensversicherung\": 0, \"pensionskasse\": 30471.71049, \"totalVermoegen\": 120134.0329, \"lohn\": 9100, \"lohnJahr\": 109200, \"bonus\": 0.0, \"zulagen\": 0, \"totalLohn\": 109200.0, \"schaetzungObjekt\": 1780535.906, \"anzahlung\": 60, \"tragbarkeit\": 20, \"score\": 40}, {\"barvermoegen\": 4073.147003, \"aktienvermoegen\": 1109.364349, \"saeule3a\": 100000, \"lebensversicherung\": 0, \"pensionskasse\": 0.0, \"totalVermoegen\": 105182.5114, \"lohn\": 9100, \"lohnJahr\": 109200, \"bonus\": 0.0, \"zulagen\": 0, \"totalLohn\": 109200.0, \"schaetzungObjekt\": 1396230.098, \"anzahlung\": 60, \"tragbarkeit\": 20, \"score\": 40}, {\"barvermoegen\": 667.2942172, \"aktienvermoegen\": 1403.821193, \"saeule3a\": 40000, \"lebensversicherung\": 48000, \"pensionskasse\": 7352.753073, \"totalVermoegen\": 97423.86848, \"lohn\": 13000, \"lohnJahr\": 156000, \"bonus\": 26412.70828, \"zulagen\": 0, \"totalLohn\": 182412.7083, \"schaetzungObjekt\": 254795.3183, \"anzahlung\": 90, \"tragbarkeit\": 100, \"score\": 95}, {\"barvermoegen\": 4246.614694, \"aktienvermoegen\": 979.0242316, \"saeule3a\": 80000, \"lebensversicherung\": 0, \"pensionskasse\": 28073.71402, \"totalVermoegen\": 113299.3529, \"lohn\": 9100, \"lohnJahr\": 109200, \"bonus\": 0.0, \"zulagen\": 0, \"totalLohn\": 109200.0, \"schaetzungObjekt\": 1471602.401, \"anzahlung\": 60, \"tragbarkeit\": 20, \"score\": 40}, {\"barvermoegen\": 4743.547283, \"aktienvermoegen\": 895.9240954, \"saeule3a\": 20000, \"lebensversicherung\": 0, \"pensionskasse\": 2283.79804, \"totalVermoegen\": 27923.26942, \"lohn\": 3200, \"lohnJahr\": 38400, \"bonus\": 0.0, \"zulagen\": 480, \"totalLohn\": 38880.0, \"schaetzungObjekt\": 1846611.795, \"anzahlung\": 60, \"tragbarkeit\": 0, \"score\": 30}, {\"barvermoegen\": 13268.00216, \"aktienvermoegen\": 0.846043119, \"saeule3a\": 80000, \"lebensversicherung\": 53000, \"pensionskasse\": 26552.92519, \"totalVermoegen\": 172821.7734, \"lohn\": 9100, \"lohnJahr\": 109200, \"bonus\": 0.0, \"zulagen\": 0, \"totalLohn\": 109200.0, \"schaetzungObjekt\": 602637.6101, \"anzahlung\": 80, \"tragbarkeit\": 80, \"score\": 80}, {\"barvermoegen\": 6414.809497, \"aktienvermoegen\": 682.7035457, \"saeule3a\": 0, \"lebensversicherung\": 0, \"pensionskasse\": 1324.184495, \"totalVermoegen\": 8421.697538, \"lohn\": 5600, \"lohnJahr\": 67200, \"bonus\": 0.0, \"zulagen\": 0, \"totalLohn\": 67200.0, \"schaetzungObjekt\": 1231467.04, \"anzahlung\": 60, \"tragbarkeit\": 10, \"score\": 35}, {\"barvermoegen\": 859.2805662, \"aktienvermoegen\": 1199.085639, \"saeule3a\": 130000, \"lebensversicherung\": 0, \"pensionskasse\": 0.0, \"totalVermoegen\": 132058.3662, \"lohn\": 5600, \"lohnJahr\": 67200, \"bonus\": 0.0, \"zulagen\": 840, \"totalLohn\": 68040.0, \"schaetzungObjekt\": 202518.6526, \"anzahlung\": 100, \"tragbarkeit\": 100, \"score\": 100}, {\"barvermoegen\": 6078.646716, \"aktienvermoegen\": 664.4956788, \"saeule3a\": 130000, \"lebensversicherung\": 0, \"pensionskasse\": 0.0, \"totalVermoegen\": 136743.1424, \"lohn\": 13000, \"lohnJahr\": 156000, \"bonus\": 5477.457647, \"zulagen\": 0, \"totalLohn\": 161477.4576, \"schaetzungObjekt\": 82602.73319, \"anzahlung\": 100, \"tragbarkeit\": 100, \"score\": 100}, {\"barvermoegen\": 12122.03398, \"aktienvermoegen\": 45.18439627, \"saeule3a\": 100000, \"lebensversicherung\": 0, \"pensionskasse\": 37721.63382, \"totalVermoegen\": 149888.8522, \"lohn\": 13000, \"lohnJahr\": 156000, \"bonus\": 3806.530405, \"zulagen\": 0, \"totalLohn\": 159806.5304, \"schaetzungObjekt\": 1589554.608, \"anzahlung\": 60, \"tragbarkeit\": 40, \"score\": 50}, {\"barvermoegen\": 3567.869803, \"aktienvermoegen\": 772.8224924, \"saeule3a\": 80000, \"lebensversicherung\": 59000, \"pensionskasse\": 22592.18945, \"totalVermoegen\": 165932.8817, \"lohn\": 9100, \"lohnJahr\": 109200, \"bonus\": 0.0, \"zulagen\": 0, \"totalLohn\": 109200.0, \"schaetzungObjekt\": 1746482.531, \"anzahlung\": 60, \"tragbarkeit\": 20, \"score\": 40}, {\"barvermoegen\": 5245.213083, \"aktienvermoegen\": 597.0220832, \"saeule3a\": 130000, \"lebensversicherung\": 0, \"pensionskasse\": 0.0, \"totalVermoegen\": 135842.2352, \"lohn\": 5600, \"lohnJahr\": 67200, \"bonus\": 0.0, \"zulagen\": 840, \"totalLohn\": 68040.0, \"schaetzungObjekt\": 1995836.917, \"anzahlung\": 60, \"tragbarkeit\": 10, \"score\": 35}, {\"barvermoegen\": 6984.02194, \"aktienvermoegen\": 405.8835356, \"saeule3a\": 130000, \"lebensversicherung\": 0, \"pensionskasse\": 0.0, \"totalVermoegen\": 137389.9055, \"lohn\": 9100, \"lohnJahr\": 109200, \"bonus\": 0.0, \"zulagen\": 0, \"totalLohn\": 109200.0, \"schaetzungObjekt\": 644699.3766, \"anzahlung\": 80, \"tragbarkeit\": 70, \"score\": 75}, {\"barvermoegen\": 8656.379548, \"aktienvermoegen\": 173.0788911, \"saeule3a\": 130000, \"lebensversicherung\": 78000, \"pensionskasse\": 0.0, \"totalVermoegen\": 216829.4584, \"lohn\": 9100, \"lohnJahr\": 109200, \"bonus\": 0.0, \"zulagen\": 0, \"totalLohn\": 109200.0, \"schaetzungObjekt\": 1599167.4, \"anzahlung\": 0, \"tragbarkeit\": 20, \"score\": 10}, {\"barvermoegen\": 5524.955744, \"aktienvermoegen\": 460.9316344, \"saeule3a\": 100000, \"lebensversicherung\": 0, \"pensionskasse\": 0.0, \"totalVermoegen\": 105985.8874, \"lohn\": 5600, \"lohnJahr\": 67200, \"bonus\": 0.0, \"zulagen\": 840, \"totalLohn\": 68040.0, \"schaetzungObjekt\": 1485856.026, \"anzahlung\": 60, \"tragbarkeit\": 10, \"score\": 35}, {\"barvermoegen\": 42.91761987, \"aktienvermoegen\": 904.4980814, \"saeule3a\": 20000, \"lebensversicherung\": 38000, \"pensionskasse\": 1135.987304, \"totalVermoegen\": 60083.40301, \"lohn\": 8000, \"lohnJahr\": 96000, \"bonus\": 15492.24379, \"zulagen\": 0, \"totalLohn\": 111492.2438, \"schaetzungObjekt\": 1747749.729, \"anzahlung\": 60, \"tragbarkeit\": 10, \"score\": 35}, {\"barvermoegen\": 8468.057157, \"aktienvermoegen\": 52.77549382, \"saeule3a\": 0, \"lebensversicherung\": 0, \"pensionskasse\": 1124.476512, \"totalVermoegen\": 9645.309163, \"lohn\": 3200, \"lohnJahr\": 38400, \"bonus\": 0.0, \"zulagen\": 480, \"totalLohn\": 38880.0, \"schaetzungObjekt\": 507666.9424, \"anzahlung\": 60, \"tragbarkeit\": 20, \"score\": 40}, {\"barvermoegen\": 5516.560395, \"aktienvermoegen\": 341.0357477, \"saeule3a\": 20000, \"lebensversicherung\": 33000, \"pensionskasse\": 1115.864734, \"totalVermoegen\": 59973.46088, \"lohn\": 5600, \"lohnJahr\": 67200, \"bonus\": 0.0, \"zulagen\": 0, \"totalLohn\": 67200.0, \"schaetzungObjekt\": 558260.5233, \"anzahlung\": 0, \"tragbarkeit\": 50, \"score\": 25}, {\"barvermoegen\": 5770.923574, \"aktienvermoegen\": 269.6244726, \"saeule3a\": 80000, \"lebensversicherung\": 0, \"pensionskasse\": 2116.792075, \"totalVermoegen\": 88157.34012, \"lohn\": 5600, \"lohnJahr\": 67200, \"bonus\": 0.0, \"zulagen\": 840, \"totalLohn\": 68040.0, \"schaetzungObjekt\": 785068.407, \"anzahlung\": 0, \"tragbarkeit\": 20, \"score\": 10}, {\"barvermoegen\": 5495.528396, \"aktienvermoegen\": 266.1274836, \"saeule3a\": 130000, \"lebensversicherung\": 71000, \"pensionskasse\": 0.0, \"totalVermoegen\": 206761.6559, \"lohn\": 9100, \"lohnJahr\": 109200, \"bonus\": 0.0, \"zulagen\": 0, \"totalLohn\": 109200.0, \"schaetzungObjekt\": 446178.6027, \"anzahlung\": 100, \"tragbarkeit\": 100, \"score\": 100}, {\"barvermoegen\": 4062.461703, \"aktienvermoegen\": 392.2105971, \"saeule3a\": 130000, \"lebensversicherung\": 0, \"pensionskasse\": 0.0, \"totalVermoegen\": 134454.6723, \"lohn\": 9100, \"lohnJahr\": 109200, \"bonus\": 0.0, \"zulagen\": 0, \"totalLohn\": 109200.0, \"schaetzungObjekt\": 1968529.428, \"anzahlung\": 60, \"tragbarkeit\": 10, \"score\": 35}, {\"barvermoegen\": 1993.81179, \"aktienvermoegen\": 580.6753737, \"saeule3a\": 20000, \"lebensversicherung\": 31000, \"pensionskasse\": 975.0706909, \"totalVermoegen\": 54549.55785, \"lohn\": 5600, \"lohnJahr\": 67200, \"bonus\": 0.0, \"zulagen\": 0, \"totalLohn\": 67200.0, \"schaetzungObjekt\": 1693594.76, \"anzahlung\": 60, \"tragbarkeit\": 10, \"score\": 35}, {\"barvermoegen\": 2878.036632, \"aktienvermoegen\": 435.9608517, \"saeule3a\": 130000, \"lebensversicherung\": 0, \"pensionskasse\": 0.0, \"totalVermoegen\": 133313.9975, \"lohn\": 9100, \"lohnJahr\": 109200, \"bonus\": 0.0, \"zulagen\": 0, \"totalLohn\": 109200.0, \"schaetzungObjekt\": 511962.1315, \"anzahlung\": 80, \"tragbarkeit\": 100, \"score\": 90}, {\"barvermoegen\": 775.5358228, \"aktienvermoegen\": 639.3215103, \"saeule3a\": 20000, \"lebensversicherung\": 0, \"pensionskasse\": 1194.791821, \"totalVermoegen\": 22609.64915, \"lohn\": 3200, \"lohnJahr\": 38400, \"bonus\": 0.0, \"zulagen\": 480, \"totalLohn\": 38880.0, \"schaetzungObjekt\": 291125.4399, \"anzahlung\": 60, \"tragbarkeit\": 50, \"score\": 55}, {\"barvermoegen\": 5091.209824, \"aktienvermoegen\": 172.1473927, \"saeule3a\": 100000, \"lebensversicherung\": 0, \"pensionskasse\": 3406.341875, \"totalVermoegen\": 108669.6991, \"lohn\": 5600, \"lohnJahr\": 67200, \"bonus\": 0.0, \"zulagen\": 840, \"totalLohn\": 68040.0, \"schaetzungObjekt\": 1104304.647, \"anzahlung\": 60, \"tragbarkeit\": 20, \"score\": 40}, {\"barvermoegen\": 697.1601409, \"aktienvermoegen\": 542.6240312, \"saeule3a\": 80000, \"lebensversicherung\": 0, \"pensionskasse\": 12246.80091, \"totalVermoegen\": 93486.58508, \"lohn\": 13000, \"lohnJahr\": 156000, \"bonus\": 27341.29859, \"zulagen\": 0, \"totalLohn\": 183341.2986, \"schaetzungObjekt\": 1692936.847, \"anzahlung\": 60, \"tragbarkeit\": 40, \"score\": 50}, {\"barvermoegen\": 542.4503729, \"aktienvermoegen\": 508.7264988, \"saeule3a\": 20000, \"lebensversicherung\": 0, \"pensionskasse\": 938.2858934, \"totalVermoegen\": 21989.46277, \"lohn\": 3200, \"lohnJahr\": 38400, \"bonus\": 0.0, \"zulagen\": 480, \"totalLohn\": 38880.0, \"schaetzungObjekt\": 180961.3113, \"anzahlung\": 0, \"tragbarkeit\": 100, \"score\": 50}, {\"barvermoegen\": 3.944353786, \"aktienvermoegen\": 553.3855198, \"saeule3a\": 130000, \"lebensversicherung\": 89000, \"pensionskasse\": 0.0, \"totalVermoegen\": 219557.3299, \"lohn\": 9100, \"lohnJahr\": 109200, \"bonus\": 0.0, \"zulagen\": 0, \"totalLohn\": 109200.0, \"schaetzungObjekt\": 840383.4162, \"anzahlung\": 80, \"tragbarkeit\": 50, \"score\": 65}, {\"barvermoegen\": 321.9837115, \"aktienvermoegen\": 510.1048978, \"saeule3a\": 40000, \"lebensversicherung\": 0, \"pensionskasse\": 2711.516345, \"totalVermoegen\": 43543.60495, \"lohn\": 9100, \"lohnJahr\": 109200, \"bonus\": 0.0, \"zulagen\": 0, \"totalLohn\": 109200.0, \"schaetzungObjekt\": 1392995.303, \"anzahlung\": 60, \"tragbarkeit\": 20, \"score\": 40}, {\"barvermoegen\": 4027.872984, \"aktienvermoegen\": 16.66597367, \"saeule3a\": 40000, \"lebensversicherung\": 0, \"pensionskasse\": 2097.266361, \"totalVermoegen\": 46141.80532, \"lohn\": 9100, \"lohnJahr\": 109200, \"bonus\": 0.0, \"zulagen\": 0, \"totalLohn\": 109200.0, \"schaetzungObjekt\": 629411.9478, \"anzahlung\": 60, \"tragbarkeit\": 70, \"score\": 65}, {\"barvermoegen\": 2990.12873, \"aktienvermoegen\": 73.39110137, \"saeule3a\": 40000, \"lebensversicherung\": 0, \"pensionskasse\": 1862.019872, \"totalVermoegen\": 44925.5397, \"lohn\": 9100, \"lohnJahr\": 109200, \"bonus\": 0.0, \"zulagen\": 0, \"totalLohn\": 109200.0, \"schaetzungObjekt\": 236419.0282, \"anzahlung\": 0, \"tragbarkeit\": 100, \"score\": 50}, {\"barvermoegen\": 1658.05484, \"aktienvermoegen\": 47.0503823, \"saeule3a\": 20000, \"lebensversicherung\": 0, \"pensionskasse\": 266.0698328, \"totalVermoegen\": 21971.17505, \"lohn\": 8000, \"lohnJahr\": 96000, \"bonus\": 283.5656979, \"zulagen\": 0, \"totalLohn\": 96283.5657, \"schaetzungObjekt\": 395154.2075, \"anzahlung\": 60, \"tragbarkeit\": 100, \"score\": 80}, {\"barvermoegen\": 644.6170837, \"aktienvermoegen\": 91.02777958, \"saeule3a\": 20000, \"lebensversicherung\": 31000, \"pensionskasse\": 194.3618599, \"totalVermoegen\": 51930.00672, \"lohn\": 5600, \"lohnJahr\": 67200, \"bonus\": 0.0, \"zulagen\": 0, \"totalLohn\": 67200.0, \"schaetzungObjekt\": 1434745.248, \"anzahlung\": 60, \"tragbarkeit\": 10, \"score\": 35}, {\"barvermoegen\": 290.6587601, \"aktienvermoegen\": 34.61012179, \"saeule3a\": 80000, \"lebensversicherung\": 0, \"pensionskasse\": 1273.519956, \"totalVermoegen\": 81598.78884, \"lohn\": 9100, \"lohnJahr\": 109200, \"bonus\": 0.0, \"zulagen\": 0, \"totalLohn\": 109200.0, \"schaetzungObjekt\": 1334798.401, \"anzahlung\": 60, \"tragbarkeit\": 20, \"score\": 40}, {\"barvermoegen\": 240.3576753, \"aktienvermoegen\": 32.76786094, \"saeule3a\": 80000, \"lebensversicherung\": 0, \"pensionskasse\": 142.0090712, \"totalVermoegen\": 80415.13461, \"lohn\": 5600, \"lohnJahr\": 67200, \"bonus\": 0.0, \"zulagen\": 840, \"totalLohn\": 68040.0, \"schaetzungObjekt\": 942997.5839, \"anzahlung\": 60, \"tragbarkeit\": 20, \"score\": 40}, {\"barvermoegen\": 432.2621197, \"aktienvermoegen\": 0.941124487, \"saeule3a\": 100000, \"lebensversicherung\": 0, \"pensionskasse\": 1325.020094, \"totalVermoegen\": 101758.2233, \"lohn\": 9100, \"lohnJahr\": 109200, \"bonus\": 0.0, \"zulagen\": 0, \"totalLohn\": 109200.0, \"schaetzungObjekt\": 966324.3766, \"anzahlung\": 0, \"tragbarkeit\": 40, \"score\": 20}, {\"barvermoegen\": 131.4918981, \"aktienvermoegen\": 8.081827139, \"saeule3a\": 40000, \"lebensversicherung\": 42000, \"pensionskasse\": 106.1550847, \"totalVermoegen\": 82245.72881, \"lohn\": 9100, \"lohnJahr\": 109200, \"bonus\": 0.0, \"zulagen\": 0, \"totalLohn\": 109200.0, \"schaetzungObjekt\": 1394837.731, \"anzahlung\": 60, \"tragbarkeit\": 20, \"score\": 40}, {\"barvermoegen\": 13.85816727, \"aktienvermoegen\": 6.083408511, \"saeule3a\": 40000, \"lebensversicherung\": 0, \"pensionskasse\": 37.34612619, \"totalVermoegen\": 40057.2877, \"lohn\": 13000, \"lohnJahr\": 156000, \"bonus\": 15596.68335, \"zulagen\": 0, \"totalLohn\": 171596.6833, \"schaetzungObjekt\": 234348.1852, \"anzahlung\": 0, \"tragbarkeit\": 100, \"score\": 50}, {\"barvermoegen\": 229.096741, \"aktienvermoegen\": 9.798029108, \"saeule3a\": 100000, \"lebensversicherung\": 0, \"pensionskasse\": 0.0, \"totalVermoegen\": 100238.8948, \"lohn\": 5600, \"lohnJahr\": 67200, \"bonus\": 0.0, \"zulagen\": 840, \"totalLohn\": 68040.0, \"schaetzungObjekt\": 1597633.65, \"anzahlung\": 60, \"tragbarkeit\": 10, \"score\": 35}, {\"barvermoegen\": 397.589598, \"aktienvermoegen\": 31.96606611, \"saeule3a\": 100000, \"lebensversicherung\": 67000, \"pensionskasse\": 0.0, \"totalVermoegen\": 167429.5557, \"lohn\": 9100, \"lohnJahr\": 109200, \"bonus\": 0.0, \"zulagen\": 0, \"totalLohn\": 109200.0, \"schaetzungObjekt\": 355903.2496, \"anzahlung\": 100, \"tragbarkeit\": 100, \"score\": 100}, {\"barvermoegen\": 26.92196494, \"aktienvermoegen\": 128.6843132, \"saeule3a\": 130000, \"lebensversicherung\": 0, \"pensionskasse\": 0.0, \"totalVermoegen\": 130155.6063, \"lohn\": 5600, \"lohnJahr\": 67200, \"bonus\": 0.0, \"zulagen\": 840, \"totalLohn\": 68040.0, \"schaetzungObjekt\": 756366.5437, \"anzahlung\": 0, \"tragbarkeit\": 20, \"score\": 10}, {\"barvermoegen\": 722.8993313, \"aktienvermoegen\": 65.97599891, \"saeule3a\": 130000, \"lebensversicherung\": 84000, \"pensionskasse\": 0.0, \"totalVermoegen\": 214788.8753, \"lohn\": 9100, \"lohnJahr\": 109200, \"bonus\": 0.0, \"zulagen\": 0, \"totalLohn\": 109200.0, \"schaetzungObjekt\": 1725571.662, \"anzahlung\": 0, \"tragbarkeit\": 20, \"score\": 10}, {\"barvermoegen\": 1234.579078, \"aktienvermoegen\": 35.47629138, \"saeule3a\": 0, \"lebensversicherung\": 26000, \"pensionskasse\": 158.9341991, \"totalVermoegen\": 27428.98957, \"lohn\": 5600, \"lohnJahr\": 67200, \"bonus\": 0.0, \"zulagen\": 0, \"totalLohn\": 67200.0, \"schaetzungObjekt\": 629470.9066, \"anzahlung\": 60, \"tragbarkeit\": 40, \"score\": 50}, {\"barvermoegen\": 693.339271, \"aktienvermoegen\": 114.83875, \"saeule3a\": 130000, \"lebensversicherung\": 90000, \"pensionskasse\": 0.0, \"totalVermoegen\": 220808.178, \"lohn\": 9100, \"lohnJahr\": 109200, \"bonus\": 0.0, \"zulagen\": 0, \"totalLohn\": 109200.0, \"schaetzungObjekt\": 483288.2232, \"anzahlung\": 100, \"tragbarkeit\": 100, \"score\": 100}, {\"barvermoegen\": 678.9572304, \"aktienvermoegen\": 154.1517241, \"saeule3a\": 40000, \"lebensversicherung\": 40000, \"pensionskasse\": 1110.237235, \"totalVermoegen\": 81943.34619, \"lohn\": 9100, \"lohnJahr\": 109200, \"bonus\": 0.0, \"zulagen\": 0, \"totalLohn\": 109200.0, \"schaetzungObjekt\": 1836754.857, \"anzahlung\": 60, \"tragbarkeit\": 10, \"score\": 35}, {\"barvermoegen\": 2446.649478, \"aktienvermoegen\": 42.79790574, \"saeule3a\": 130000, \"lebensversicherung\": 0, \"pensionskasse\": 0.0, \"totalVermoegen\": 132489.4474, \"lohn\": 9100, \"lohnJahr\": 109200, \"bonus\": 0.0, \"zulagen\": 0, \"totalLohn\": 109200.0, \"schaetzungObjekt\": 285164.5931, \"anzahlung\": 100, \"tragbarkeit\": 100, \"score\": 100}, {\"barvermoegen\": 641.8680004, \"aktienvermoegen\": 255.4039538, \"saeule3a\": 130000, \"lebensversicherung\": 85000, \"pensionskasse\": 0.0, \"totalVermoegen\": 215897.272, \"lohn\": 9100, \"lohnJahr\": 109200, \"bonus\": 0.0, \"zulagen\": 0, \"totalLohn\": 109200.0, \"schaetzungObjekt\": 1304367.028, \"anzahlung\": 0, \"tragbarkeit\": 20, \"score\": 10}, {\"barvermoegen\": 1946.291601, \"aktienvermoegen\": 126.1041465, \"saeule3a\": 20000, \"lebensversicherung\": 0, \"pensionskasse\": 400.9166332, \"totalVermoegen\": 22473.31238, \"lohn\": 5600, \"lohnJahr\": 67200, \"bonus\": 0.0, \"zulagen\": 0, \"totalLohn\": 67200.0, \"schaetzungObjekt\": 884379.5012, \"anzahlung\": 60, \"tragbarkeit\": 20, \"score\": 40}, {\"barvermoegen\": 2484.906214, \"aktienvermoegen\": 123.9133529, \"saeule3a\": 100000, \"lebensversicherung\": 0, \"pensionskasse\": 11172.11923, \"totalVermoegen\": 113780.9388, \"lohn\": 9100, \"lohnJahr\": 109200, \"bonus\": 0.0, \"zulagen\": 0, \"totalLohn\": 109200.0, \"schaetzungObjekt\": 745518.2662, \"anzahlung\": 0, \"tragbarkeit\": 50, \"score\": 25}, {\"barvermoegen\": 925.8497404, \"aktienvermoegen\": 307.3596367, \"saeule3a\": 20000, \"lebensversicherung\": 39000, \"pensionskasse\": 499.9307635, \"totalVermoegen\": 60733.14014, \"lohn\": 5600, \"lohnJahr\": 67200, \"bonus\": 0.0, \"zulagen\": 0, \"totalLohn\": 67200.0, \"schaetzungObjekt\": 214502.4775, \"anzahlung\": 80, \"tragbarkeit\": 100, \"score\": 90}, {\"barvermoegen\": 1997.448232, \"aktienvermoegen\": 253.0130081, \"saeule3a\": 20000, \"lebensversicherung\": 0, \"pensionskasse\": 565.947289, \"totalVermoegen\": 22816.40853, \"lohn\": 8000, \"lohnJahr\": 96000, \"bonus\": 26754.77245, \"zulagen\": 0, \"totalLohn\": 122754.7724, \"schaetzungObjekt\": 1086704.329, \"anzahlung\": 60, \"tragbarkeit\": 20, \"score\": 40}, {\"barvermoegen\": 2871.847919, \"aktienvermoegen\": 256.2610297, \"saeule3a\": 20000, \"lebensversicherung\": 0, \"pensionskasse\": 905.7430361, \"totalVermoegen\": 24033.85199, \"lohn\": 3200, \"lohnJahr\": 38400, \"bonus\": 0.0, \"zulagen\": 480, \"totalLohn\": 38880.0, \"schaetzungObjekt\": 852736.0771, \"anzahlung\": 60, \"tragbarkeit\": 10, \"score\": 35}, {\"barvermoegen\": 3045.457832, \"aktienvermoegen\": 244.6469081, \"saeule3a\": 40000, \"lebensversicherung\": 0, \"pensionskasse\": 2745.963457, \"totalVermoegen\": 46036.0682, \"lohn\": 9100, \"lohnJahr\": 109200, \"bonus\": 0.0, \"zulagen\": 0, \"totalLohn\": 109200.0, \"schaetzungObjekt\": 1076915.95, \"anzahlung\": 60, \"tragbarkeit\": 40, \"score\": 50}, {\"barvermoegen\": 2002.308354, \"aktienvermoegen\": 456.9075083, \"saeule3a\": 130000, \"lebensversicherung\": 0, \"pensionskasse\": 0.0, \"totalVermoegen\": 132459.2159, \"lohn\": 5600, \"lohnJahr\": 67200, \"bonus\": 0.0, \"zulagen\": 840, \"totalLohn\": 68040.0, \"schaetzungObjekt\": 1404589.76, \"anzahlung\": 60, \"tragbarkeit\": 10, \"score\": 35}, {\"barvermoegen\": 4653.926648, \"aktienvermoegen\": 217.018263, \"saeule3a\": 130000, \"lebensversicherung\": 0, \"pensionskasse\": 0.0, \"totalVermoegen\": 134870.9449, \"lohn\": 9100, \"lohnJahr\": 109200, \"bonus\": 0.0, \"zulagen\": 0, \"totalLohn\": 109200.0, \"schaetzungObjekt\": 1705123.045, \"anzahlung\": 60, \"tragbarkeit\": 20, \"score\": 40}, {\"barvermoegen\": 253.9701132, \"aktienvermoegen\": 662.7607861, \"saeule3a\": 100000, \"lebensversicherung\": 0, \"pensionskasse\": 0.0, \"totalVermoegen\": 100916.7309, \"lohn\": 9100, \"lohnJahr\": 109200, \"bonus\": 0.0, \"zulagen\": 0, \"totalLohn\": 109200.0, \"schaetzungObjekt\": 5459.617456, \"anzahlung\": 100, \"tragbarkeit\": 100, \"score\": 100}, {\"barvermoegen\": 5545.194723, \"aktienvermoegen\": 155.466198, \"saeule3a\": 100000, \"lebensversicherung\": 67000, \"pensionskasse\": 0.0, \"totalVermoegen\": 172700.6609, \"lohn\": 9100, \"lohnJahr\": 109200, \"bonus\": 0.0, \"zulagen\": 0, \"totalLohn\": 109200.0, \"schaetzungObjekt\": 1382614.603, \"anzahlung\": 0, \"tragbarkeit\": 20, \"score\": 10}, {\"barvermoegen\": 3612.737057, \"aktienvermoegen\": 441.7703255, \"saeule3a\": 130000, \"lebensversicherung\": 0, \"pensionskasse\": 0.0, \"totalVermoegen\": 134054.5074, \"lohn\": 5600, \"lohnJahr\": 67200, \"bonus\": 0.0, \"zulagen\": 840, \"totalLohn\": 68040.0, \"schaetzungObjekt\": 1664877.668, \"anzahlung\": 60, \"tragbarkeit\": 10, \"score\": 35}, {\"barvermoegen\": 7580.62113, \"aktienvermoegen\": 61.06292147, \"saeule3a\": 20000, \"lebensversicherung\": 0, \"pensionskasse\": 1023.906293, \"totalVermoegen\": 28665.59034, \"lohn\": 5600, \"lohnJahr\": 67200, \"bonus\": 0.0, \"zulagen\": 0, \"totalLohn\": 67200.0, \"schaetzungObjekt\": 446843.8264, \"anzahlung\": 60, \"tragbarkeit\": 70, \"score\": 65}, {\"barvermoegen\": 5611.573747, \"aktienvermoegen\": 274.065716, \"saeule3a\": 40000, \"lebensversicherung\": 0, \"pensionskasse\": 4176.115453, \"totalVermoegen\": 50061.75492, \"lohn\": 9100, \"lohnJahr\": 109200, \"bonus\": 0.0, \"zulagen\": 0, \"totalLohn\": 109200.0, \"schaetzungObjekt\": 1084573.762, \"anzahlung\": 60, \"tragbarkeit\": 40, \"score\": 50}, {\"barvermoegen\": 7431.684422, \"aktienvermoegen\": 121.9315494, \"saeule3a\": 0, \"lebensversicherung\": 26000, \"pensionskasse\": 865.0999916, \"totalVermoegen\": 34418.71596, \"lohn\": 5600, \"lohnJahr\": 67200, \"bonus\": 0.0, \"zulagen\": 0, \"totalLohn\": 67200.0, \"schaetzungObjekt\": 323297.4141, \"anzahlung\": 0, \"tragbarkeit\": 80, \"score\": 40}, {\"barvermoegen\": 5819.522831, \"aktienvermoegen\": 321.0736376, \"saeule3a\": 130000, \"lebensversicherung\": 82000, \"pensionskasse\": 0.0, \"totalVermoegen\": 218140.5965, \"lohn\": 9100, \"lohnJahr\": 109200, \"bonus\": 0.0, \"zulagen\": 0, \"totalLohn\": 109200.0, \"schaetzungObjekt\": 524434.2715, \"anzahlung\": 100, \"tragbarkeit\": 80, \"score\": 90}, {\"barvermoegen\": 8823.366663, \"aktienvermoegen\": 27.59572983, \"saeule3a\": 80000, \"lebensversicherung\": 0, \"pensionskasse\": 18198.64792, \"totalVermoegen\": 107049.6103, \"lohn\": 9100, \"lohnJahr\": 109200, \"bonus\": 0.0, \"zulagen\": 0, \"totalLohn\": 109200.0, \"schaetzungObjekt\": 930606.1606, \"anzahlung\": 0, \"tragbarkeit\": 40, \"score\": 20}, {\"barvermoegen\": 7934.15037, \"aktienvermoegen\": 119.9620703, \"saeule3a\": 100000, \"lebensversicherung\": 0, \"pensionskasse\": 27401.31322, \"totalVermoegen\": 135455.4257, \"lohn\": 9100, \"lohnJahr\": 109200, \"bonus\": 0.0, \"zulagen\": 0, \"totalLohn\": 109200.0, \"schaetzungObjekt\": 1254318.338, \"anzahlung\": 0, \"tragbarkeit\": 20, \"score\": 10}, {\"barvermoegen\": 1415.131765, \"aktienvermoegen\": 807.5047544, \"saeule3a\": 80000, \"lebensversicherung\": 0, \"pensionskasse\": 2372.544827, \"totalVermoegen\": 84595.18135, \"lohn\": 5600, \"lohnJahr\": 67200, \"bonus\": 0.0, \"zulagen\": 840, \"totalLohn\": 68040.0, \"schaetzungObjekt\": 761152.6274, \"anzahlung\": 0, \"tragbarkeit\": 20, \"score\": 10}, {\"barvermoegen\": 5213.693334, \"aktienvermoegen\": 465.5915796, \"saeule3a\": 130000, \"lebensversicherung\": 0, \"pensionskasse\": 0.0, \"totalVermoegen\": 135679.2849, \"lohn\": 9100, \"lohnJahr\": 109200, \"bonus\": 0.0, \"zulagen\": 0, \"totalLohn\": 109200.0, \"schaetzungObjekt\": 686205.286, \"anzahlung\": 0, \"tragbarkeit\": 70, \"score\": 35}, {\"barvermoegen\": 3221.938448, \"aktienvermoegen\": 711.9357372, \"saeule3a\": 40000, \"lebensversicherung\": 0, \"pensionskasse\": 2068.259164, \"totalVermoegen\": 46002.13335, \"lohn\": 5600, \"lohnJahr\": 67200, \"bonus\": 0.0, \"zulagen\": 840, \"totalLohn\": 68040.0, \"schaetzungObjekt\": 1946880.398, \"anzahlung\": 60, \"tragbarkeit\": 10, \"score\": 35}, {\"barvermoegen\": 7641.511872, \"aktienvermoegen\": 286.076451, \"saeule3a\": 0, \"lebensversicherung\": 0, \"pensionskasse\": 1312.784548, \"totalVermoegen\": 9240.372871, \"lohn\": 3200, \"lohnJahr\": 38400, \"bonus\": 0.0, \"zulagen\": 480, \"totalLohn\": 38880.0, \"schaetzungObjekt\": 1957885.833, \"anzahlung\": 60, \"tragbarkeit\": 0, \"score\": 30}, {\"barvermoegen\": 4824.73323, \"aktienvermoegen\": 574.6437375, \"saeule3a\": 80000, \"lebensversicherung\": 0, \"pensionskasse\": 2642.792651, \"totalVermoegen\": 88042.16962, \"lohn\": 5600, \"lohnJahr\": 67200, \"bonus\": 0.0, \"zulagen\": 840, \"totalLohn\": 68040.0, \"schaetzungObjekt\": 1636257.373, \"anzahlung\": 60, \"tragbarkeit\": 10, \"score\": 35}, {\"barvermoegen\": 1156.084997, \"aktienvermoegen\": 989.8368355, \"saeule3a\": 80000, \"lebensversicherung\": 0, \"pensionskasse\": 2763.613338, \"totalVermoegen\": 84909.53517, \"lohn\": 5600, \"lohnJahr\": 67200, \"bonus\": 0.0, \"zulagen\": 840, \"totalLohn\": 68040.0, \"schaetzungObjekt\": 1934062.18, \"anzahlung\": 60, \"tragbarkeit\": 10, \"score\": 35}, {\"barvermoegen\": 1194.577313, \"aktienvermoegen\": 1023.964692, \"saeule3a\": 40000, \"lebensversicherung\": 0, \"pensionskasse\": 2286.844847, \"totalVermoegen\": 44505.38685, \"lohn\": 5600, \"lohnJahr\": 67200, \"bonus\": 0.0, \"zulagen\": 840, \"totalLohn\": 68040.0, \"schaetzungObjekt\": 1660734.429, \"anzahlung\": 60, \"tragbarkeit\": 10, \"score\": 35}, {\"barvermoegen\": 11184.84808, \"aktienvermoegen\": 44.49743595, \"saeule3a\": 40000, \"lebensversicherung\": 0, \"pensionskasse\": 2325.964488, \"totalVermoegen\": 53555.31, \"lohn\": 5600, \"lohnJahr\": 67200, \"bonus\": 0.0, \"zulagen\": 840, \"totalLohn\": 68040.0, \"schaetzungObjekt\": 714738.209, \"anzahlung\": 60, \"tragbarkeit\": 40, \"score\": 50}, {\"barvermoegen\": 390.8509638, \"aktienvermoegen\": 1129.66107, \"saeule3a\": 0, \"lebensversicherung\": 0, \"pensionskasse\": 1460.932708, \"totalVermoegen\": 2981.444742, \"lohn\": 3200, \"lohnJahr\": 38400, \"bonus\": 0.0, \"zulagen\": 480, \"totalLohn\": 38880.0, \"schaetzungObjekt\": 849118.6183, \"anzahlung\": 60, \"tragbarkeit\": 10, \"score\": 35}, {\"barvermoegen\": 3889.073439, \"aktienvermoegen\": 785.5856923, \"saeule3a\": 130000, \"lebensversicherung\": 85000, \"pensionskasse\": 0.0, \"totalVermoegen\": 219674.6591, \"lohn\": 9100, \"lohnJahr\": 109200, \"bonus\": 0.0, \"zulagen\": 0, \"totalLohn\": 109200.0, \"schaetzungObjekt\": 152757.0146, \"anzahlung\": 100, \"tragbarkeit\": 100, \"score\": 100}, {\"barvermoegen\": 4534.448536, \"aktienvermoegen\": 741.7676088, \"saeule3a\": 80000, \"lebensversicherung\": 0, \"pensionskasse\": 23904.24925, \"totalVermoegen\": 109180.4654, \"lohn\": 9100, \"lohnJahr\": 109200, \"bonus\": 0.0, \"zulagen\": 0, \"totalLohn\": 109200.0, \"schaetzungObjekt\": 400512.0416, \"anzahlung\": 80, \"tragbarkeit\": 100, \"score\": 90}, {\"barvermoegen\": 635.156806, \"aktienvermoegen\": 1158.163078, \"saeule3a\": 80000, \"lebensversicherung\": 0, \"pensionskasse\": 3054.196895, \"totalVermoegen\": 84847.51678, \"lohn\": 5600, \"lohnJahr\": 67200, \"bonus\": 0.0, \"zulagen\": 840, \"totalLohn\": 68040.0, \"schaetzungObjekt\": 139052.7889, \"anzahlung\": 100, \"tragbarkeit\": 100, \"score\": 100}, {\"barvermoegen\": 1693.609421, \"aktienvermoegen\": 1062.686056, \"saeule3a\": 130000, \"lebensversicherung\": 89000, \"pensionskasse\": 0.0, \"totalVermoegen\": 221756.2955, \"lohn\": 13000, \"lohnJahr\": 156000, \"bonus\": 29109.27712, \"zulagen\": 0, \"totalLohn\": 185109.2771, \"schaetzungObjekt\": 647514.1099, \"anzahlung\": 90, \"tragbarkeit\": 100, \"score\": 95}, {\"barvermoegen\": 2179.997596, \"aktienvermoegen\": 1016.349397, \"saeule3a\": 130000, \"lebensversicherung\": 0, \"pensionskasse\": 0.0, \"totalVermoegen\": 133196.347, \"lohn\": 5600, \"lohnJahr\": 67200, \"bonus\": 0.0, \"zulagen\": 840, \"totalLohn\": 68040.0, \"schaetzungObjekt\": 1689974.168, \"anzahlung\": 60, \"tragbarkeit\": 10, \"score\": 35}, {\"barvermoegen\": 7749.495533, \"aktienvermoegen\": 483.5807933, \"saeule3a\": 130000, \"lebensversicherung\": 0, \"pensionskasse\": 0.0, \"totalVermoegen\": 138233.0763, \"lohn\": 5600, \"lohnJahr\": 67200, \"bonus\": 0.0, \"zulagen\": 840, \"totalLohn\": 68040.0, \"schaetzungObjekt\": 1543795.28, \"anzahlung\": 60, \"tragbarkeit\": 10, \"score\": 35}, {\"barvermoegen\": 8297.618339, \"aktienvermoegen\": 484.0544219, \"saeule3a\": 100000, \"lebensversicherung\": 61000, \"pensionskasse\": 39414.48767, \"totalVermoegen\": 209196.1604, \"lohn\": 9100, \"lohnJahr\": 109200, \"bonus\": 0.0, \"zulagen\": 0, \"totalLohn\": 109200.0, \"schaetzungObjekt\": 612643.2108, \"anzahlung\": 90, \"tragbarkeit\": 70, \"score\": 80}, {\"barvermoegen\": 428.3852725, \"aktienvermoegen\": 1291.714208, \"saeule3a\": 100000, \"lebensversicherung\": 0, \"pensionskasse\": 0.0, \"totalVermoegen\": 101720.0995, \"lohn\": 5600, \"lohnJahr\": 67200, \"bonus\": 0.0, \"zulagen\": 840, \"totalLohn\": 68040.0, \"schaetzungObjekt\": 218064.3053, \"anzahlung\": 100, \"tragbarkeit\": 100, \"score\": 100}, {\"barvermoegen\": 795.6790645, \"aktienvermoegen\": 1311.447396, \"saeule3a\": 80000, \"lebensversicherung\": 0, \"pensionskasse\": 27820.30606, \"totalVermoegen\": 109927.4325, \"lohn\": 9100, \"lohnJahr\": 109200, \"bonus\": 0.0, \"zulagen\": 0, \"totalLohn\": 109200.0, \"schaetzungObjekt\": 1353012.677, \"anzahlung\": 60, \"tragbarkeit\": 20, \"score\": 40}, {\"barvermoegen\": 817.0228199, \"aktienvermoegen\": 1315.076944, \"saeule3a\": 130000, \"lebensversicherung\": 0, \"pensionskasse\": 0.0, \"totalVermoegen\": 132132.0998, \"lohn\": 9100, \"lohnJahr\": 109200, \"bonus\": 0.0, \"zulagen\": 0, \"totalLohn\": 109200.0, \"schaetzungObjekt\": 1347806.772, \"anzahlung\": 60, \"tragbarkeit\": 20, \"score\": 40}, {\"barvermoegen\": 6383.462401, \"aktienvermoegen\": 759.5755382, \"saeule3a\": 100000, \"lebensversicherung\": 68000, \"pensionskasse\": 0.0, \"totalVermoegen\": 175143.0379, \"lohn\": 9100, \"lohnJahr\": 109200, \"bonus\": 0.0, \"zulagen\": 0, \"totalLohn\": 109200.0, \"schaetzungObjekt\": 1424015.0, \"anzahlung\": 0, \"tragbarkeit\": 20, \"score\": 10}, {\"barvermoegen\": 6514.19332, \"aktienvermoegen\": 789.1520635, \"saeule3a\": 100000, \"lebensversicherung\": 61000, \"pensionskasse\": 43217.14187, \"totalVermoegen\": 211520.4872, \"lohn\": 9100, \"lohnJahr\": 109200, \"bonus\": 0.0, \"zulagen\": 0, \"totalLohn\": 109200.0, \"schaetzungObjekt\": 1616271.831, \"anzahlung\": 0, \"tragbarkeit\": 20, \"score\": 10}, {\"barvermoegen\": 9573.6587, \"aktienvermoegen\": 545.4661222, \"saeule3a\": 80000, \"lebensversicherung\": 0, \"pensionskasse\": 3757.07998, \"totalVermoegen\": 93876.2048, \"lohn\": 5600, \"lohnJahr\": 67200, \"bonus\": 0.0, \"zulagen\": 840, \"totalLohn\": 68040.0, \"schaetzungObjekt\": 1881378.874, \"anzahlung\": 60, \"tragbarkeit\": 10, \"score\": 35}, {\"barvermoegen\": 5652.429205, \"aktienvermoegen\": 949.1339701, \"saeule3a\": 130000, \"lebensversicherung\": 0, \"pensionskasse\": 0.0, \"totalVermoegen\": 136601.5632, \"lohn\": 9100, \"lohnJahr\": 109200, \"bonus\": 0.0, \"zulagen\": 0, \"totalLohn\": 109200.0, \"schaetzungObjekt\": 234097.6871, \"anzahlung\": 100, \"tragbarkeit\": 100, \"score\": 100}, {\"barvermoegen\": 13583.97968, \"aktienvermoegen\": 174.4302959, \"saeule3a\": 40000, \"lebensversicherung\": 0, \"pensionskasse\": 7664.141322, \"totalVermoegen\": 61422.5513, \"lohn\": 13000, \"lohnJahr\": 156000, \"bonus\": 14268.66317, \"zulagen\": 0, \"totalLohn\": 170268.6632, \"schaetzungObjekt\": 463544.5675, \"anzahlung\": 0, \"tragbarkeit\": 100, \"score\": 50}, {\"barvermoegen\": 3487.18903, \"aktienvermoegen\": 1200.258577, \"saeule3a\": 0, \"lebensversicherung\": 25000, \"pensionskasse\": 1548.97748, \"totalVermoegen\": 31236.42509, \"lohn\": 5600, \"lohnJahr\": 67200, \"bonus\": 0.0, \"zulagen\": 0, \"totalLohn\": 67200.0, \"schaetzungObjekt\": 1114741.4, \"anzahlung\": 60, \"tragbarkeit\": 20, \"score\": 40}, {\"barvermoegen\": 6461.973983, \"aktienvermoegen\": 929.3145893, \"saeule3a\": 40000, \"lebensversicherung\": 47000, \"pensionskasse\": 7877.559938, \"totalVermoegen\": 102268.8485, \"lohn\": 9100, \"lohnJahr\": 109200, \"bonus\": 0.0, \"zulagen\": 0, \"totalLohn\": 109200.0, \"schaetzungObjekt\": 790724.6385, \"anzahlung\": 0, \"tragbarkeit\": 50, \"score\": 25}, {\"barvermoegen\": 9839.199869, \"aktienvermoegen\": 610.0604275, \"saeule3a\": 80000, \"lebensversicherung\": 52000, \"pensionskasse\": 31879.60829, \"totalVermoegen\": 174328.8686, \"lohn\": 9100, \"lohnJahr\": 109200, \"bonus\": 0.0, \"zulagen\": 0, \"totalLohn\": 109200.0, \"schaetzungObjekt\": 483533.567, \"anzahlung\": 90, \"tragbarkeit\": 100, \"score\": 95}, {\"barvermoegen\": 886.836143, \"aktienvermoegen\": 1544.518759, \"saeule3a\": 20000, \"lebensversicherung\": 39000, \"pensionskasse\": 2041.502967, \"totalVermoegen\": 63472.85787, \"lohn\": 5600, \"lohnJahr\": 67200, \"bonus\": 0.0, \"zulagen\": 0, \"totalLohn\": 67200.0, \"schaetzungObjekt\": 1316676.33, \"anzahlung\": 60, \"tragbarkeit\": 10, \"score\": 35}, {\"barvermoegen\": 1353.006517, \"aktienvermoegen\": 1532.55347, \"saeule3a\": 130000, \"lebensversicherung\": 0, \"pensionskasse\": 0.0, \"totalVermoegen\": 132885.56, \"lohn\": 13000, \"lohnJahr\": 156000, \"bonus\": 8045.878661, \"zulagen\": 0, \"totalLohn\": 164045.8787, \"schaetzungObjekt\": 256749.2795, \"anzahlung\": 100, \"tragbarkeit\": 100, \"score\": 100}, {\"barvermoegen\": 9141.573136, \"aktienvermoegen\": 820.6810927, \"saeule3a\": 0, \"lebensversicherung\": 0, \"pensionskasse\": 2168.548008, \"totalVermoegen\": 12130.80224, \"lohn\": 3200, \"lohnJahr\": 38400, \"bonus\": 0.0, \"zulagen\": 480, \"totalLohn\": 38880.0, \"schaetzungObjekt\": 1349119.761, \"anzahlung\": 60, \"tragbarkeit\": 0, \"score\": 30}, {\"barvermoegen\": 13327.18628, \"aktienvermoegen\": 428.6883925, \"saeule3a\": 130000, \"lebensversicherung\": 0, \"pensionskasse\": 0.0, \"totalVermoegen\": 143755.8747, \"lohn\": 5600, \"lohnJahr\": 67200, \"bonus\": 0.0, \"zulagen\": 840, \"totalLohn\": 68040.0, \"schaetzungObjekt\": 1954661.869, \"anzahlung\": 60, \"tragbarkeit\": 10, \"score\": 35}, {\"barvermoegen\": 3283.120595, \"aktienvermoegen\": 1460.823181, \"saeule3a\": 130000, \"lebensversicherung\": 77000, \"pensionskasse\": 0.0, \"totalVermoegen\": 211743.9438, \"lohn\": 9100, \"lohnJahr\": 109200, \"bonus\": 0.0, \"zulagen\": 0, \"totalLohn\": 109200.0, \"schaetzungObjekt\": 261279.4008, \"anzahlung\": 100, \"tragbarkeit\": 100, \"score\": 100}, {\"barvermoegen\": 4568.51367, \"aktienvermoegen\": 1444.42457, \"saeule3a\": 100000, \"lebensversicherung\": 0, \"pensionskasse\": 9506.379683, \"totalVermoegen\": 115519.3179, \"lohn\": 5600, \"lohnJahr\": 67200, \"bonus\": 0.0, \"zulagen\": 840, \"totalLohn\": 68040.0, \"schaetzungObjekt\": 1482057.879, \"anzahlung\": 60, \"tragbarkeit\": 10, \"score\": 35}, {\"barvermoegen\": 11388.91604, \"aktienvermoegen\": 815.6238788, \"saeule3a\": 80000, \"lebensversicherung\": 0, \"pensionskasse\": 39090.30966, \"totalVermoegen\": 131294.8496, \"lohn\": 9100, \"lohnJahr\": 109200, \"bonus\": 0.0, \"zulagen\": 0, \"totalLohn\": 109200.0, \"schaetzungObjekt\": 717002.8996, \"anzahlung\": 0, \"tragbarkeit\": 70, \"score\": 35}, {\"barvermoegen\": 1361.089889, \"aktienvermoegen\": 1831.128051, \"saeule3a\": 130000, \"lebensversicherung\": 0, \"pensionskasse\": 0.0, \"totalVermoegen\": 133192.2179, \"lohn\": 13000, \"lohnJahr\": 156000, \"bonus\": 23079.33664, \"zulagen\": 0, \"totalLohn\": 179079.3366, \"schaetzungObjekt\": 779810.3598, \"anzahlung\": 0, \"tragbarkeit\": 80, \"score\": 40}, {\"barvermoegen\": 5037.76273, \"aktienvermoegen\": 1505.138362, \"saeule3a\": 100000, \"lebensversicherung\": 0, \"pensionskasse\": 10044.57317, \"totalVermoegen\": 116587.4743, \"lohn\": 5600, \"lohnJahr\": 67200, \"bonus\": 0.0, \"zulagen\": 840, \"totalLohn\": 68040.0, \"schaetzungObjekt\": 85200.85727, \"anzahlung\": 100, \"tragbarkeit\": 100, \"score\": 100}, {\"barvermoegen\": 11197.34517, \"aktienvermoegen\": 889.1801175, \"saeule3a\": 40000, \"lebensversicherung\": 42000, \"pensionskasse\": 10044.57317, \"totalVermoegen\": 104131.0985, \"lohn\": 13000, \"lohnJahr\": 156000, \"bonus\": 17758.38621, \"zulagen\": 0, \"totalLohn\": 173758.3862, \"schaetzungObjekt\": 1103240.905, \"anzahlung\": 60, \"tragbarkeit\": 50, \"score\": 55}, {\"barvermoegen\": 14158.93365, \"aktienvermoegen\": 638.1776814, \"saeule3a\": 130000, \"lebensversicherung\": 0, \"pensionskasse\": 0.0, \"totalVermoegen\": 144797.1113, \"lohn\": 5600, \"lohnJahr\": 67200, \"bonus\": 0.0, \"zulagen\": 840, \"totalLohn\": 68040.0, \"schaetzungObjekt\": 1904592.441, \"anzahlung\": 60, \"tragbarkeit\": 10, \"score\": 35}, {\"barvermoegen\": 12048.34071, \"aktienvermoegen\": 877.0334078, \"saeule3a\": 20000, \"lebensversicherung\": 0, \"pensionskasse\": 3469.779131, \"totalVermoegen\": 36395.15324, \"lohn\": 3200, \"lohnJahr\": 38400, \"bonus\": 0.0, \"zulagen\": 480, \"totalLohn\": 38880.0, \"schaetzungObjekt\": 190647.728, \"anzahlung\": 0, \"tragbarkeit\": 80, \"score\": 40}, {\"barvermoegen\": 15456.59373, \"aktienvermoegen\": 562.8790379, \"saeule3a\": 130000, \"lebensversicherung\": 0, \"pensionskasse\": 0.0, \"totalVermoegen\": 146019.4728, \"lohn\": 9100, \"lohnJahr\": 109200, \"bonus\": 0.0, \"zulagen\": 0, \"totalLohn\": 109200.0, \"schaetzungObjekt\": 32862.2612, \"anzahlung\": 100, \"tragbarkeit\": 100, \"score\": 100}, {\"barvermoegen\": 3829.768769, \"aktienvermoegen\": 1739.45975, \"saeule3a\": 130000, \"lebensversicherung\": 0, \"pensionskasse\": 0.0, \"totalVermoegen\": 135569.2285, \"lohn\": 5600, \"lohnJahr\": 67200, \"bonus\": 0.0, \"zulagen\": 840, \"totalLohn\": 68040.0, \"schaetzungObjekt\": 1384644.655, \"anzahlung\": 60, \"tragbarkeit\": 10, \"score\": 35}, {\"barvermoegen\": 2768.174033, \"aktienvermoegen\": 1862.996256, \"saeule3a\": 20000, \"lebensversicherung\": 0, \"pensionskasse\": 2674.767074, \"totalVermoegen\": 27305.93736, \"lohn\": 5600, \"lohnJahr\": 67200, \"bonus\": 0.0, \"zulagen\": 0, \"totalLohn\": 67200.0, \"schaetzungObjekt\": 1145504.153, \"anzahlung\": 60, \"tragbarkeit\": 10, \"score\": 35}, {\"barvermoegen\": 19143.81064, \"aktienvermoegen\": 253.2631334, \"saeule3a\": 100000, \"lebensversicherung\": 0, \"pensionskasse\": 0.0, \"totalVermoegen\": 119397.0738, \"lohn\": 13000, \"lohnJahr\": 156000, \"bonus\": 2277.611586, \"zulagen\": 0, \"totalLohn\": 158277.6116, \"schaetzungObjekt\": 1197621.987, \"anzahlung\": 60, \"tragbarkeit\": 50, \"score\": 55}, {\"barvermoegen\": 9196.565087, \"aktienvermoegen\": 1266.541381, \"saeule3a\": 100000, \"lebensversicherung\": 0, \"pensionskasse\": 0.0, \"totalVermoegen\": 110463.1065, \"lohn\": 13000, \"lohnJahr\": 156000, \"bonus\": 20684.71547, \"zulagen\": 0, \"totalLohn\": 176684.7155, \"schaetzungObjekt\": 1626015.53, \"anzahlung\": 60, \"tragbarkeit\": 40, \"score\": 50}, {\"barvermoegen\": 6969.28456, \"aktienvermoegen\": 1531.032293, \"saeule3a\": 100000, \"lebensversicherung\": 0, \"pensionskasse\": 66838.82248, \"totalVermoegen\": 175339.1393, \"lohn\": 9100, \"lohnJahr\": 109200, \"bonus\": 0.0, \"zulagen\": 0, \"totalLohn\": 109200.0, \"schaetzungObjekt\": 1280066.992, \"anzahlung\": 0, \"tragbarkeit\": 20, \"score\": 10}, {\"barvermoegen\": 14491.2176, \"aktienvermoegen\": 864.7350793, \"saeule3a\": 80000, \"lebensversicherung\": 55000, \"pensionskasse\": 46277.13679, \"totalVermoegen\": 196633.0895, \"lohn\": 13000, \"lohnJahr\": 156000, \"bonus\": 6370.096352, \"zulagen\": 0, \"totalLohn\": 162370.0964, \"schaetzungObjekt\": 69240.6295, \"anzahlung\": 100, \"tragbarkeit\": 100, \"score\": 100}, {\"barvermoegen\": 18026.61891, \"aktienvermoegen\": 547.193886, \"saeule3a\": 100000, \"lebensversicherung\": 66000, \"pensionskasse\": 0.0, \"totalVermoegen\": 184573.8128, \"lohn\": 13000, \"lohnJahr\": 156000, \"bonus\": 9315.558179, \"zulagen\": 0, \"totalLohn\": 165315.5582, \"schaetzungObjekt\": 126020.4146, \"anzahlung\": 100, \"tragbarkeit\": 100, \"score\": 100}, {\"barvermoegen\": 19787.98044, \"aktienvermoegen\": 371.0577327, \"saeule3a\": 40000, \"lebensversicherung\": 0, \"pensionskasse\": 11749.27888, \"totalVermoegen\": 71908.31706, \"lohn\": 13000, \"lohnJahr\": 156000, \"bonus\": 16132.5419, \"zulagen\": 0, \"totalLohn\": 172132.5419, \"schaetzungObjekt\": 838088.7177, \"anzahlung\": 60, \"tragbarkeit\": 80, \"score\": 70}, {\"barvermoegen\": 1602.12773, \"aktienvermoegen\": 2239.608369, \"saeule3a\": 40000, \"lebensversicherung\": 0, \"pensionskasse\": 4799.642284, \"totalVermoegen\": 48641.37838, \"lohn\": 5600, \"lohnJahr\": 67200, \"bonus\": 0.0, \"zulagen\": 840, \"totalLohn\": 68040.0, \"schaetzungObjekt\": 1083392.291, \"anzahlung\": 60, \"tragbarkeit\": 20, \"score\": 40}, {\"barvermoegen\": 15366.87895, \"aktienvermoegen\": 873.5867513, \"saeule3a\": 130000, \"lebensversicherung\": 0, \"pensionskasse\": 0.0, \"totalVermoegen\": 146240.4657, \"lohn\": 5600, \"lohnJahr\": 67200, \"bonus\": 0.0, \"zulagen\": 840, \"totalLohn\": 68040.0, \"schaetzungObjekt\": 108672.8191, \"anzahlung\": 100, \"tragbarkeit\": 100, \"score\": 100}, {\"barvermoegen\": 10811.24578, \"aktienvermoegen\": 1479.233748, \"saeule3a\": 20000, \"lebensversicherung\": 0, \"pensionskasse\": 4267.263876, \"totalVermoegen\": 36557.7434, \"lohn\": 3200, \"lohnJahr\": 38400, \"bonus\": 0.0, \"zulagen\": 480, \"totalLohn\": 38880.0, \"schaetzungObjekt\": 286937.2676, \"anzahlung\": 0, \"tragbarkeit\": 50, \"score\": 25}, {\"barvermoegen\": 7159.413479, \"aktienvermoegen\": 1880.518233, \"saeule3a\": 100000, \"lebensversicherung\": 0, \"pensionskasse\": 77893.78742, \"totalVermoegen\": 186933.7191, \"lohn\": 9100, \"lohnJahr\": 109200, \"bonus\": 0.0, \"zulagen\": 0, \"totalLohn\": 109200.0, \"schaetzungObjekt\": 837963.4326, \"anzahlung\": 80, \"tragbarkeit\": 50, \"score\": 65}, {\"barvermoegen\": 4379.444755, \"aktienvermoegen\": 2249.407732, \"saeule3a\": 20000, \"lebensversicherung\": 0, \"pensionskasse\": 4478.920346, \"totalVermoegen\": 31107.77283, \"lohn\": 3200, \"lohnJahr\": 38400, \"bonus\": 0.0, \"zulagen\": 480, \"totalLohn\": 38880.0, \"schaetzungObjekt\": 1850890.902, \"anzahlung\": 60, \"tragbarkeit\": 0, \"score\": 30}, {\"barvermoegen\": 12980.32758, \"aktienvermoegen\": 1391.655714, \"saeule3a\": 40000, \"lebensversicherung\": 45000, \"pensionskasse\": 13448.44236, \"totalVermoegen\": 112820.4257, \"lohn\": 9100, \"lohnJahr\": 109200, \"bonus\": 0.0, \"zulagen\": 0, \"totalLohn\": 109200.0, \"schaetzungObjekt\": 753282.6965, \"anzahlung\": 0, \"tragbarkeit\": 50, \"score\": 25}, {\"barvermoegen\": 14135.66953, \"aktienvermoegen\": 1439.540663, \"saeule3a\": 20000, \"lebensversicherung\": 34000, \"pensionskasse\": 3566.384521, \"totalVermoegen\": 73141.59472, \"lohn\": 5600, \"lohnJahr\": 67200, \"bonus\": 0.0, \"zulagen\": 0, \"totalLohn\": 67200.0, \"schaetzungObjekt\": 1043502.769, \"anzahlung\": 60, \"tragbarkeit\": 20, \"score\": 40}, {\"barvermoegen\": 5638.704507, \"aktienvermoegen\": 2351.173755, \"saeule3a\": 130000, \"lebensversicherung\": 0, \"pensionskasse\": 0.0, \"totalVermoegen\": 137989.8783, \"lohn\": 9100, \"lohnJahr\": 109200, \"bonus\": 0.0, \"zulagen\": 0, \"totalLohn\": 109200.0, \"schaetzungObjekt\": 1617397.022, \"anzahlung\": 60, \"tragbarkeit\": 20, \"score\": 40}, {\"barvermoegen\": 17324.54543, \"aktienvermoegen\": 1241.081541, \"saeule3a\": 20000, \"lebensversicherung\": 0, \"pensionskasse\": 4955.893473, \"totalVermoegen\": 43521.52044, \"lohn\": 3200, \"lohnJahr\": 38400, \"bonus\": 0.0, \"zulagen\": 480, \"totalLohn\": 38880.0, \"schaetzungObjekt\": 689406.1368, \"anzahlung\": 60, \"tragbarkeit\": 10, \"score\": 35}, {\"barvermoegen\": 30107.32422, \"aktienvermoegen\": 4.958741711, \"saeule3a\": 130000, \"lebensversicherung\": 0, \"pensionskasse\": 0.0, \"totalVermoegen\": 160112.283, \"lohn\": 9100, \"lohnJahr\": 109200, \"bonus\": 0.0, \"zulagen\": 0, \"totalLohn\": 109200.0, \"schaetzungObjekt\": 528675.5983, \"anzahlung\": 90, \"tragbarkeit\": 80, \"score\": 85}, {\"barvermoegen\": 19233.95434, \"aktienvermoegen\": 1259.926972, \"saeule3a\": 100000, \"lebensversicherung\": 0, \"pensionskasse\": 15916.61203, \"totalVermoegen\": 136410.4933, \"lohn\": 5600, \"lohnJahr\": 67200, \"bonus\": 0.0, \"zulagen\": 840, \"totalLohn\": 68040.0, \"schaetzungObjekt\": 430613.8478, \"anzahlung\": 90, \"tragbarkeit\": 70, \"score\": 80}, {\"barvermoegen\": 18869.0441, \"aktienvermoegen\": 1299.930919, \"saeule3a\": 130000, \"lebensversicherung\": 90000, \"pensionskasse\": 0.0, \"totalVermoegen\": 240168.975, \"lohn\": 9100, \"lohnJahr\": 109200, \"bonus\": 0.0, \"zulagen\": 0, \"totalLohn\": 109200.0, \"schaetzungObjekt\": 416352.7729, \"anzahlung\": 100, \"tragbarkeit\": 100, \"score\": 100}, {\"barvermoegen\": 4322.290728, \"aktienvermoegen\": 2778.088273, \"saeule3a\": 100000, \"lebensversicherung\": 0, \"pensionskasse\": 16051.58673, \"totalVermoegen\": 123151.9657, \"lohn\": 5600, \"lohnJahr\": 67200, \"bonus\": 0.0, \"zulagen\": 840, \"totalLohn\": 68040.0, \"schaetzungObjekt\": 1438684.98, \"anzahlung\": 60, \"tragbarkeit\": 10, \"score\": 35}, {\"barvermoegen\": 14509.80599, \"aktienvermoegen\": 1776.952522, \"saeule3a\": 130000, \"lebensversicherung\": 0, \"pensionskasse\": 0.0, \"totalVermoegen\": 146286.7585, \"lohn\": 13000, \"lohnJahr\": 156000, \"bonus\": 9710.120996, \"zulagen\": 0, \"totalLohn\": 165710.121, \"schaetzungObjekt\": 1567540.65, \"anzahlung\": 60, \"tragbarkeit\": 40, \"score\": 50}, {\"barvermoegen\": 22795.21344, \"aktienvermoegen\": 963.6742351, \"saeule3a\": 80000, \"lebensversicherung\": 0, \"pensionskasse\": 8107.988947, \"totalVermoegen\": 111866.8766, \"lohn\": 5600, \"lohnJahr\": 67200, \"bonus\": 0.0, \"zulagen\": 840, \"totalLohn\": 68040.0, \"schaetzungObjekt\": 1758589.547, \"anzahlung\": 60, \"tragbarkeit\": 10, \"score\": 35}, {\"barvermoegen\": 9899.470224, \"aktienvermoegen\": 2309.659965, \"saeule3a\": 130000, \"lebensversicherung\": 0, \"pensionskasse\": 0.0, \"totalVermoegen\": 142209.1302, \"lohn\": 5600, \"lohnJahr\": 67200, \"bonus\": 0.0, \"zulagen\": 840, \"totalLohn\": 68040.0, \"schaetzungObjekt\": 422424.0872, \"anzahlung\": 90, \"tragbarkeit\": 70, \"score\": 80}, {\"barvermoegen\": 22254.02856, \"aktienvermoegen\": 1134.179623, \"saeule3a\": 80000, \"lebensversicherung\": 0, \"pensionskasse\": 67191.64958, \"totalVermoegen\": 170579.8578, \"lohn\": 13000, \"lohnJahr\": 156000, \"bonus\": 25426.33969, \"zulagen\": 0, \"totalLohn\": 181426.3397, \"schaetzungObjekt\": 1443311.367, \"anzahlung\": 0, \"tragbarkeit\": 40, \"score\": 20}, {\"barvermoegen\": 10947.14412, \"aktienvermoegen\": 2269.574702, \"saeule3a\": 40000, \"lebensversicherung\": 0, \"pensionskasse\": 16821.44557, \"totalVermoegen\": 70038.16439, \"lohn\": 9100, \"lohnJahr\": 109200, \"bonus\": 0.0, \"zulagen\": 0, \"totalLohn\": 109200.0, \"schaetzungObjekt\": 1789265.449, \"anzahlung\": 60, \"tragbarkeit\": 20, \"score\": 40}, {\"barvermoegen\": 25018.24326, \"aktienvermoegen\": 874.2313754, \"saeule3a\": 20000, \"lebensversicherung\": 30000, \"pensionskasse\": 4220.069627, \"totalVermoegen\": 80112.54426, \"lohn\": 8000, \"lohnJahr\": 96000, \"bonus\": 2353.246995, \"zulagen\": 0, \"totalLohn\": 98353.247, \"schaetzungObjekt\": 1803864.8, \"anzahlung\": 60, \"tragbarkeit\": 10, \"score\": 35}, {\"barvermoegen\": 3165.19382, \"aktienvermoegen\": 3094.853136, \"saeule3a\": 100000, \"lebensversicherung\": 0, \"pensionskasse\": 0.0, \"totalVermoegen\": 106260.047, \"lohn\": 5600, \"lohnJahr\": 67200, \"bonus\": 0.0, \"zulagen\": 840, \"totalLohn\": 68040.0, \"schaetzungObjekt\": 794020.4344, \"anzahlung\": 0, \"tragbarkeit\": 20, \"score\": 10}, {\"barvermoegen\": 30814.97472, \"aktienvermoegen\": 340.4649743, \"saeule3a\": 0, \"lebensversicherung\": 0, \"pensionskasse\": 3421.962447, \"totalVermoegen\": 34577.40215, \"lohn\": 8000, \"lohnJahr\": 96000, \"bonus\": 4130.782317, \"zulagen\": 0, \"totalLohn\": 100130.7823, \"schaetzungObjekt\": 1047881.042, \"anzahlung\": 60, \"tragbarkeit\": 40, \"score\": 50}, {\"barvermoegen\": 30259.59968, \"aktienvermoegen\": 413.6864665, \"saeule3a\": 100000, \"lebensversicherung\": 61000, \"pensionskasse\": 103189.393, \"totalVermoegen\": 294862.6792, \"lohn\": 9100, \"lohnJahr\": 109200, \"bonus\": 0.0, \"zulagen\": 0, \"totalLohn\": 109200.0, \"schaetzungObjekt\": 1735551.313, \"anzahlung\": 0, \"tragbarkeit\": 20, \"score\": 10}, {\"barvermoegen\": 18678.41232, \"aktienvermoegen\": 1576.511837, \"saeule3a\": 20000, \"lebensversicherung\": 0, \"pensionskasse\": 4305.441337, \"totalVermoegen\": 44560.3655, \"lohn\": 5600, \"lohnJahr\": 67200, \"bonus\": 0.0, \"zulagen\": 0, \"totalLohn\": 67200.0, \"schaetzungObjekt\": 854223.6557, \"anzahlung\": 60, \"tragbarkeit\": 20, \"score\": 40}, {\"barvermoegen\": 26503.65009, \"aktienvermoegen\": 832.8860117, \"saeule3a\": 20000, \"lebensversicherung\": 0, \"pensionskasse\": 4354.063776, \"totalVermoegen\": 51690.59988, \"lohn\": 5600, \"lohnJahr\": 67200, \"bonus\": 0.0, \"zulagen\": 0, \"totalLohn\": 67200.0, \"schaetzungObjekt\": 681649.9602, \"anzahlung\": 60, \"tragbarkeit\": 40, \"score\": 50}, {\"barvermoegen\": 19296.32455, \"aktienvermoegen\": 1578.379559, \"saeule3a\": 80000, \"lebensversicherung\": 52000, \"pensionskasse\": 70160.24028, \"totalVermoegen\": 223034.9444, \"lohn\": 9100, \"lohnJahr\": 109200, \"bonus\": 0.0, \"zulagen\": 0, \"totalLohn\": 109200.0, \"schaetzungObjekt\": 1593342.06, \"anzahlung\": 0, \"tragbarkeit\": 20, \"score\": 10}, {\"barvermoegen\": 29298.01346, \"aktienvermoegen\": 601.7950031, \"saeule3a\": 20000, \"lebensversicherung\": 0, \"pensionskasse\": 4414.495436, \"totalVermoegen\": 54314.30389, \"lohn\": 5600, \"lohnJahr\": 67200, \"bonus\": 0.0, \"zulagen\": 0, \"totalLohn\": 67200.0, \"schaetzungObjekt\": 1607073.404, \"anzahlung\": 60, \"tragbarkeit\": 10, \"score\": 35}, {\"barvermoegen\": 18367.86491, \"aktienvermoegen\": 1731.388598, \"saeule3a\": 80000, \"lebensversicherung\": 0, \"pensionskasse\": 8920.437722, \"totalVermoegen\": 109019.6912, \"lohn\": 5600, \"lohnJahr\": 67200, \"bonus\": 0.0, \"zulagen\": 840, \"totalLohn\": 68040.0, \"schaetzungObjekt\": 1870914.597, \"anzahlung\": 60, \"tragbarkeit\": 10, \"score\": 35}, {\"barvermoegen\": 5569.213596, \"aktienvermoegen\": 3023.054423, \"saeule3a\": 40000, \"lebensversicherung\": 47000, \"pensionskasse\": 17899.87891, \"totalVermoegen\": 113492.1469, \"lohn\": 13000, \"lohnJahr\": 156000, \"bonus\": 15039.67246, \"zulagen\": 0, \"totalLohn\": 171039.6725, \"schaetzungObjekt\": 1366905.066, \"anzahlung\": 60, \"tragbarkeit\": 40, \"score\": 50}, {\"barvermoegen\": 12094.81918, \"aktienvermoegen\": 2370.493865, \"saeule3a\": 130000, \"lebensversicherung\": 0, \"pensionskasse\": 0.0, \"totalVermoegen\": 144465.313, \"lohn\": 9100, \"lohnJahr\": 109200, \"bonus\": 0.0, \"zulagen\": 0, \"totalLohn\": 109200.0, \"schaetzungObjekt\": 540515.2611, \"anzahlung\": 80, \"tragbarkeit\": 80, \"score\": 80}, {\"barvermoegen\": 13021.48083, \"aktienvermoegen\": 2322.711263, \"saeule3a\": 130000, \"lebensversicherung\": 71000, \"pensionskasse\": 0.0, \"totalVermoegen\": 216344.1921, \"lohn\": 9100, \"lohnJahr\": 109200, \"bonus\": 0.0, \"zulagen\": 0, \"totalLohn\": 109200.0, \"schaetzungObjekt\": 990647.1904, \"anzahlung\": 80, \"tragbarkeit\": 40, \"score\": 60}, {\"barvermoegen\": 31957.03278, \"aktienvermoegen\": 463.4326495, \"saeule3a\": 100000, \"lebensversicherung\": 0, \"pensionskasse\": 109774.0778, \"totalVermoegen\": 242194.5433, \"lohn\": 9100, \"lohnJahr\": 109200, \"bonus\": 0.0, \"zulagen\": 0, \"totalLohn\": 109200.0, \"schaetzungObjekt\": 798793.0789, \"anzahlung\": 90, \"tragbarkeit\": 50, \"score\": 70}, {\"barvermoegen\": 13427.09878, \"aktienvermoegen\": 2396.865172, \"saeule3a\": 80000, \"lebensversicherung\": 0, \"pensionskasse\": 9348.937624, \"totalVermoegen\": 105172.9016, \"lohn\": 5600, \"lohnJahr\": 67200, \"bonus\": 0.0, \"zulagen\": 840, \"totalLohn\": 68040.0, \"schaetzungObjekt\": 138504.0654, \"anzahlung\": 100, \"tragbarkeit\": 100, \"score\": 100}, {\"barvermoegen\": 3781.415103, \"aktienvermoegen\": 3418.271274, \"saeule3a\": 0, \"lebensversicherung\": 0, \"pensionskasse\": 4745.51598, \"totalVermoegen\": 11945.20236, \"lohn\": 3200, \"lohnJahr\": 38400, \"bonus\": 0.0, \"zulagen\": 480, \"totalLohn\": 38880.0, \"schaetzungObjekt\": 837430.5016, \"anzahlung\": 60, \"tragbarkeit\": 10, \"score\": 35}, {\"barvermoegen\": 10222.56817, \"aktienvermoegen\": 2823.950802, \"saeule3a\": 130000, \"lebensversicherung\": 0, \"pensionskasse\": 0.0, \"totalVermoegen\": 143046.519, \"lohn\": 9100, \"lohnJahr\": 109200, \"bonus\": 0.0, \"zulagen\": 0, \"totalLohn\": 109200.0, \"schaetzungObjekt\": 1989496.596, \"anzahlung\": 60, \"tragbarkeit\": 10, \"score\": 35}, {\"barvermoegen\": 30980.30147, \"aktienvermoegen\": 763.5934071, \"saeule3a\": 40000, \"lebensversicherung\": 0, \"pensionskasse\": 7723.247109, \"totalVermoegen\": 79467.14199, \"lohn\": 5600, \"lohnJahr\": 67200, \"bonus\": 0.0, \"zulagen\": 840, \"totalLohn\": 68040.0, \"schaetzungObjekt\": 983821.8723, \"anzahlung\": 60, \"tragbarkeit\": 20, \"score\": 40}, {\"barvermoegen\": 27400.02763, \"aktienvermoegen\": 1126.361532, \"saeule3a\": 80000, \"lebensversicherung\": 54000, \"pensionskasse\": 77327.28591, \"totalVermoegen\": 239853.6751, \"lohn\": 9100, \"lohnJahr\": 109200, \"bonus\": 0.0, \"zulagen\": 0, \"totalLohn\": 109200.0, \"schaetzungObjekt\": 1580244.087, \"anzahlung\": 0, \"tragbarkeit\": 20, \"score\": 10}, {\"barvermoegen\": 8844.065698, \"aktienvermoegen\": 3002.131455, \"saeule3a\": 20000, \"lebensversicherung\": 0, \"pensionskasse\": 4858.172531, \"totalVermoegen\": 36704.36968, \"lohn\": 5600, \"lohnJahr\": 67200, \"bonus\": 0.0, \"zulagen\": 0, \"totalLohn\": 67200.0, \"schaetzungObjekt\": 1103856.514, \"anzahlung\": 60, \"tragbarkeit\": 20, \"score\": 40}, {\"barvermoegen\": 30421.23852, \"aktienvermoegen\": 874.0864378, \"saeule3a\": 130000, \"lebensversicherung\": 0, \"pensionskasse\": 0.0, \"totalVermoegen\": 161295.325, \"lohn\": 9100, \"lohnJahr\": 109200, \"bonus\": 0.0, \"zulagen\": 0, \"totalLohn\": 109200.0, \"schaetzungObjekt\": 1867381.64, \"anzahlung\": 60, \"tragbarkeit\": 10, \"score\": 35}, {\"barvermoegen\": 12543.28903, \"aktienvermoegen\": 2774.789469, \"saeule3a\": 40000, \"lebensversicherung\": 0, \"pensionskasse\": 8058.236745, \"totalVermoegen\": 63376.31525, \"lohn\": 5600, \"lohnJahr\": 67200, \"bonus\": 0.0, \"zulagen\": 840, \"totalLohn\": 68040.0, \"schaetzungObjekt\": 1531131.372, \"anzahlung\": 60, \"tragbarkeit\": 10, \"score\": 35}, {\"barvermoegen\": 36248.5861, \"aktienvermoegen\": 486.3871336, \"saeule3a\": 80000, \"lebensversicherung\": 0, \"pensionskasse\": 10278.11436, \"totalVermoegen\": 127013.0876, \"lohn\": 5600, \"lohnJahr\": 67200, \"bonus\": 0.0, \"zulagen\": 840, \"totalLohn\": 68040.0, \"schaetzungObjekt\": 297943.5672, \"anzahlung\": 100, \"tragbarkeit\": 100, \"score\": 100}, {\"barvermoegen\": 19128.71331, \"aktienvermoegen\": 2300.931309, \"saeule3a\": 40000, \"lebensversicherung\": 0, \"pensionskasse\": 8427.60528, \"totalVermoegen\": 69857.2499, \"lohn\": 5600, \"lohnJahr\": 67200, \"bonus\": 0.0, \"zulagen\": 840, \"totalLohn\": 68040.0, \"schaetzungObjekt\": 816775.2801, \"anzahlung\": 60, \"tragbarkeit\": 20, \"score\": 40}, {\"barvermoegen\": 29512.68971, \"aktienvermoegen\": 1281.633058, \"saeule3a\": 130000, \"lebensversicherung\": 0, \"pensionskasse\": 0.0, \"totalVermoegen\": 160794.3228, \"lohn\": 13000, \"lohnJahr\": 156000, \"bonus\": 19138.99639, \"zulagen\": 0, \"totalLohn\": 175138.9964, \"schaetzungObjekt\": 1810886.07, \"anzahlung\": 60, \"tragbarkeit\": 20, \"score\": 40}, {\"barvermoegen\": 1491.577413, \"aktienvermoegen\": 4088.536188, \"saeule3a\": 80000, \"lebensversicherung\": 57000, \"pensionskasse\": 84753.87858, \"totalVermoegen\": 227333.9922, \"lohn\": 13000, \"lohnJahr\": 156000, \"bonus\": 1277.366671, \"zulagen\": 0, \"totalLohn\": 157277.3667, \"schaetzungObjekt\": 1263846.645, \"anzahlung\": 0, \"tragbarkeit\": 50, \"score\": 25}, {\"barvermoegen\": 30234.65058, \"aktienvermoegen\": 1235.732737, \"saeule3a\": 100000, \"lebensversicherung\": 64000, \"pensionskasse\": 127775.9338, \"totalVermoegen\": 323246.3171, \"lohn\": 9100, \"lohnJahr\": 109200, \"bonus\": 0.0, \"zulagen\": 0, \"totalLohn\": 109200.0, \"schaetzungObjekt\": 278065.148, \"anzahlung\": 100, \"tragbarkeit\": 100, \"score\": 100}, {\"barvermoegen\": 17836.78295, \"aktienvermoegen\": 2625.057482, \"saeule3a\": 130000, \"lebensversicherung\": 0, \"pensionskasse\": 0.0, \"totalVermoegen\": 150461.8404, \"lohn\": 5600, \"lohnJahr\": 67200, \"bonus\": 0.0, \"zulagen\": 840, \"totalLohn\": 68040.0, \"schaetzungObjekt\": 1731719.562, \"anzahlung\": 60, \"tragbarkeit\": 10, \"score\": 35}, {\"barvermoegen\": 22575.76239, \"aktienvermoegen\": 2169.133427, \"saeule3a\": 130000, \"lebensversicherung\": 0, \"pensionskasse\": 0.0, \"totalVermoegen\": 154744.8958, \"lohn\": 9100, \"lohnJahr\": 109200, \"bonus\": 0.0, \"zulagen\": 0, \"totalLohn\": 109200.0, \"schaetzungObjekt\": 536407.3657, \"anzahlung\": 80, \"tragbarkeit\": 80, \"score\": 80}, {\"barvermoegen\": 43659.38251, \"aktienvermoegen\": 94.3488219, \"saeule3a\": 130000, \"lebensversicherung\": 73000, \"pensionskasse\": 0.0, \"totalVermoegen\": 246753.7313, \"lohn\": 9100, \"lohnJahr\": 109200, \"bonus\": 0.0, \"zulagen\": 0, \"totalLohn\": 109200.0, \"schaetzungObjekt\": 1550081.098, \"anzahlung\": 0, \"tragbarkeit\": 20, \"score\": 10}, {\"barvermoegen\": 3681.689739, \"aktienvermoegen\": 4134.102648, \"saeule3a\": 40000, \"lebensversicherung\": 0, \"pensionskasse\": 22511.35811, \"totalVermoegen\": 70327.1505, \"lohn\": 9100, \"lohnJahr\": 109200, \"bonus\": 0.0, \"zulagen\": 0, \"totalLohn\": 109200.0, \"schaetzungObjekt\": 1314400.613, \"anzahlung\": 60, \"tragbarkeit\": 20, \"score\": 40}, {\"barvermoegen\": 7233.587048, \"aktienvermoegen\": 3822.15939, \"saeule3a\": 100000, \"lebensversicherung\": 61000, \"pensionskasse\": 136365.5429, \"totalVermoegen\": 308421.2893, \"lohn\": 9100, \"lohnJahr\": 109200, \"bonus\": 0.0, \"zulagen\": 0, \"totalLohn\": 109200.0, \"schaetzungObjekt\": 1929671.571, \"anzahlung\": 0, \"tragbarkeit\": 10, \"score\": 5}, {\"barvermoegen\": 7410.595606, \"aktienvermoegen\": 3804.458535, \"saeule3a\": 130000, \"lebensversicherung\": 0, \"pensionskasse\": 0.0, \"totalVermoegen\": 141215.0541, \"lohn\": 5600, \"lohnJahr\": 67200, \"bonus\": 0.0, \"zulagen\": 840, \"totalLohn\": 68040.0, \"schaetzungObjekt\": 1461422.076, \"anzahlung\": 60, \"tragbarkeit\": 10, \"score\": 35}, {\"barvermoegen\": 6702.498488, \"aktienvermoegen\": 3899.29596, \"saeule3a\": 20000, \"lebensversicherung\": 0, \"pensionskasse\": 7615.909681, \"totalVermoegen\": 38217.70413, \"lohn\": 3200, \"lohnJahr\": 38400, \"bonus\": 0.0, \"zulagen\": 480, \"totalLohn\": 38880.0, \"schaetzungObjekt\": 1138344.518, \"anzahlung\": 60, \"tragbarkeit\": 10, \"score\": 35}, {\"barvermoegen\": 14954.36327, \"aktienvermoegen\": 3107.772154, \"saeule3a\": 80000, \"lebensversicherung\": 0, \"pensionskasse\": 92064.16962, \"totalVermoegen\": 190126.305, \"lohn\": 9100, \"lohnJahr\": 109200, \"bonus\": 0.0, \"zulagen\": 0, \"totalLohn\": 109200.0, \"schaetzungObjekt\": 1711467.506, \"anzahlung\": 0, \"tragbarkeit\": 20, \"score\": 10}, {\"barvermoegen\": 13596.91432, \"aktienvermoegen\": 3249.536767, \"saeule3a\": 130000, \"lebensversicherung\": 0, \"pensionskasse\": 0.0, \"totalVermoegen\": 146846.4511, \"lohn\": 5600, \"lohnJahr\": 67200, \"bonus\": 0.0, \"zulagen\": 840, \"totalLohn\": 68040.0, \"schaetzungObjekt\": 1083949.454, \"anzahlung\": 0, \"tragbarkeit\": 20, \"score\": 10}, {\"barvermoegen\": 30989.49293, \"aktienvermoegen\": 1521.107577, \"saeule3a\": 130000, \"lebensversicherung\": 0, \"pensionskasse\": 0.0, \"totalVermoegen\": 162510.6005, \"lohn\": 5600, \"lohnJahr\": 67200, \"bonus\": 0.0, \"zulagen\": 840, \"totalLohn\": 68040.0, \"schaetzungObjekt\": 1177774.873, \"anzahlung\": 0, \"tragbarkeit\": 10, \"score\": 5}, {\"barvermoegen\": 43783.64703, \"aktienvermoegen\": 274.1781815, \"saeule3a\": 40000, \"lebensversicherung\": 45000, \"pensionskasse\": 23262.71442, \"totalVermoegen\": 152320.5396, \"lohn\": 9100, \"lohnJahr\": 109200, \"bonus\": 0.0, \"zulagen\": 0, \"totalLohn\": 109200.0, \"schaetzungObjekt\": 1772256.94, \"anzahlung\": 60, \"tragbarkeit\": 20, \"score\": 40}, {\"barvermoegen\": 24333.66789, \"aktienvermoegen\": 2238.446014, \"saeule3a\": 100000, \"lebensversicherung\": 0, \"pensionskasse\": 0.0, \"totalVermoegen\": 126572.1139, \"lohn\": 5600, \"lohnJahr\": 67200, \"bonus\": 0.0, \"zulagen\": 840, \"totalLohn\": 68040.0, \"schaetzungObjekt\": 1199899.595, \"anzahlung\": 0, \"tragbarkeit\": 10, \"score\": 5}, {\"barvermoegen\": 29514.38166, \"aktienvermoegen\": 1762.563823, \"saeule3a\": 100000, \"lebensversicherung\": 61000, \"pensionskasse\": 141420.0597, \"totalVermoegen\": 333697.0051, \"lohn\": 13000, \"lohnJahr\": 156000, \"bonus\": 9015.102776, \"zulagen\": 0, \"totalLohn\": 165015.1028, \"schaetzungObjekt\": 458008.9905, \"anzahlung\": 100, \"tragbarkeit\": 100, \"score\": 100}, {\"barvermoegen\": 11791.38202, \"aktienvermoegen\": 3543.287982, \"saeule3a\": 130000, \"lebensversicherung\": 0, \"pensionskasse\": 0.0, \"totalVermoegen\": 145334.67, \"lohn\": 5600, \"lohnJahr\": 67200, \"bonus\": 0.0, \"zulagen\": 840, \"totalLohn\": 68040.0, \"schaetzungObjekt\": 1635603.758, \"anzahlung\": 60, \"tragbarkeit\": 10, \"score\": 35}, {\"barvermoegen\": 19784.54427, \"aktienvermoegen\": 2799.479355, \"saeule3a\": 40000, \"lebensversicherung\": 47000, \"pensionskasse\": 23889.66891, \"totalVermoegen\": 133473.6925, \"lohn\": 9100, \"lohnJahr\": 109200, \"bonus\": 0.0, \"zulagen\": 0, \"totalLohn\": 109200.0, \"schaetzungObjekt\": 1661921.721, \"anzahlung\": 60, \"tragbarkeit\": 20, \"score\": 40}, {\"barvermoegen\": 15134.58769, \"aktienvermoegen\": 3283.796092, \"saeule3a\": 20000, \"lebensversicherung\": 0, \"pensionskasse\": 7995.424767, \"totalVermoegen\": 46413.80854, \"lohn\": 3200, \"lohnJahr\": 38400, \"bonus\": 0.0, \"zulagen\": 480, \"totalLohn\": 38880.0, \"schaetzungObjekt\": 1854366.331, \"anzahlung\": 60, \"tragbarkeit\": 0, \"score\": 30}, {\"barvermoegen\": 6340.373275, \"aktienvermoegen\": 4182.538611, \"saeule3a\": 100000, \"lebensversicherung\": 65000, \"pensionskasse\": 0.0, \"totalVermoegen\": 175522.9119, \"lohn\": 9100, \"lohnJahr\": 109200, \"bonus\": 0.0, \"zulagen\": 0, \"totalLohn\": 109200.0, \"schaetzungObjekt\": 730562.4268, \"anzahlung\": 80, \"tragbarkeit\": 50, \"score\": 65}, {\"barvermoegen\": 12891.72012, \"aktienvermoegen\": 3541.916051, \"saeule3a\": 40000, \"lebensversicherung\": 46000, \"pensionskasse\": 24155.44031, \"totalVermoegen\": 126589.0765, \"lohn\": 13000, \"lohnJahr\": 156000, \"bonus\": 17595.67659, \"zulagen\": 0, \"totalLohn\": 173595.6766, \"schaetzungObjekt\": 1024519.425, \"anzahlung\": 0, \"tragbarkeit\": 70, \"score\": 35}, {\"barvermoegen\": 33973.64969, \"aktienvermoegen\": 1469.977827, \"saeule3a\": 20000, \"lebensversicherung\": 0, \"pensionskasse\": 6084.178494, \"totalVermoegen\": 61527.80601, \"lohn\": 5600, \"lohnJahr\": 67200, \"bonus\": 0.0, \"zulagen\": 0, \"totalLohn\": 67200.0, \"schaetzungObjekt\": 924674.6748, \"anzahlung\": 60, \"tragbarkeit\": 20, \"score\": 40}, {\"barvermoegen\": 20292.65768, \"aktienvermoegen\": 2865.907565, \"saeule3a\": 80000, \"lebensversicherung\": 0, \"pensionskasse\": 97903.46667, \"totalVermoegen\": 201062.0319, \"lohn\": 9100, \"lohnJahr\": 109200, \"bonus\": 0.0, \"zulagen\": 0, \"totalLohn\": 109200.0, \"schaetzungObjekt\": 1786252.945, \"anzahlung\": 0, \"tragbarkeit\": 20, \"score\": 10}, {\"barvermoegen\": 45265.0426, \"aktienvermoegen\": 437.6997207, \"saeule3a\": 100000, \"lebensversicherung\": 0, \"pensionskasse\": 148926.1194, \"totalVermoegen\": 294628.8618, \"lohn\": 9100, \"lohnJahr\": 109200, \"bonus\": 0.0, \"zulagen\": 0, \"totalLohn\": 109200.0, \"schaetzungObjekt\": 888878.8236, \"anzahlung\": 90, \"tragbarkeit\": 50, \"score\": 70}, {\"barvermoegen\": 37283.33681, \"aktienvermoegen\": 1255.276643, \"saeule3a\": 80000, \"lebensversicherung\": 54000, \"pensionskasse\": 99672.20649, \"totalVermoegen\": 272210.8199, \"lohn\": 13000, \"lohnJahr\": 156000, \"bonus\": 7773.272645, \"zulagen\": 0, \"totalLohn\": 163773.2726, \"schaetzungObjekt\": 837420.6936, \"anzahlung\": 90, \"tragbarkeit\": 80, \"score\": 85}, {\"barvermoegen\": 41894.93304, \"aktienvermoegen\": 795.3277853, \"saeule3a\": 130000, \"lebensversicherung\": 0, \"pensionskasse\": 0.0, \"totalVermoegen\": 172690.2608, \"lohn\": 9100, \"lohnJahr\": 109200, \"bonus\": 0.0, \"zulagen\": 0, \"totalLohn\": 109200.0, \"schaetzungObjekt\": 237137.6426, \"anzahlung\": 100, \"tragbarkeit\": 100, \"score\": 100}, {\"barvermoegen\": 25615.65487, \"aktienvermoegen\": 2440.240416, \"saeule3a\": 130000, \"lebensversicherung\": 0, \"pensionskasse\": 0.0, \"totalVermoegen\": 158055.8953, \"lohn\": 5600, \"lohnJahr\": 67200, \"bonus\": 0.0, \"zulagen\": 840, \"totalLohn\": 68040.0, \"schaetzungObjekt\": 678593.2565, \"anzahlung\": 80, \"tragbarkeit\": 40, \"score\": 60}, {\"barvermoegen\": 690.3144899, \"aktienvermoegen\": 5056.681738, \"saeule3a\": 40000, \"lebensversicherung\": 0, \"pensionskasse\": 25628.56594, \"totalVermoegen\": 71375.56216, \"lohn\": 9100, \"lohnJahr\": 109200, \"bonus\": 0.0, \"zulagen\": 0, \"totalLohn\": 109200.0, \"schaetzungObjekt\": 1142363.045, \"anzahlung\": 60, \"tragbarkeit\": 40, \"score\": 50}, {\"barvermoegen\": 14489.46284, \"aktienvermoegen\": 3693.802875, \"saeule3a\": 20000, \"lebensversicherung\": 39000, \"pensionskasse\": 6428.43645, \"totalVermoegen\": 83611.70217, \"lohn\": 8000, \"lohnJahr\": 96000, \"bonus\": 5691.442677, \"zulagen\": 0, \"totalLohn\": 101691.4427, \"schaetzungObjekt\": 1750794.526, \"anzahlung\": 60, \"tragbarkeit\": 10, \"score\": 35}, {\"barvermoegen\": 46976.76752, \"aktienvermoegen\": 468.1963109, \"saeule3a\": 20000, \"lebensversicherung\": 0, \"pensionskasse\": 8609.788438, \"totalVermoegen\": 76054.75227, \"lohn\": 3200, \"lohnJahr\": 38400, \"bonus\": 0.0, \"zulagen\": 480, \"totalLohn\": 38880.0, \"schaetzungObjekt\": 794362.2888, \"anzahlung\": 60, \"tragbarkeit\": 10, \"score\": 35}, {\"barvermoegen\": 1407.241412, \"aktienvermoegen\": 5037.324782, \"saeule3a\": 40000, \"lebensversicherung\": 0, \"pensionskasse\": 10356.09785, \"totalVermoegen\": 56800.66404, \"lohn\": 5600, \"lohnJahr\": 67200, \"bonus\": 0.0, \"zulagen\": 840, \"totalLohn\": 68040.0, \"schaetzungObjekt\": 1478737.883, \"anzahlung\": 60, \"tragbarkeit\": 10, \"score\": 35}, {\"barvermoegen\": 27722.45268, \"aktienvermoegen\": 2519.223328, \"saeule3a\": 20000, \"lebensversicherung\": 0, \"pensionskasse\": 8819.114328, \"totalVermoegen\": 59060.79034, \"lohn\": 3200, \"lohnJahr\": 38400, \"bonus\": 0.0, \"zulagen\": 480, \"totalLohn\": 38880.0, \"schaetzungObjekt\": 1735114.793, \"anzahlung\": 60, \"tragbarkeit\": 0, \"score\": 30}, {\"barvermoegen\": 16395.9935, \"aktienvermoegen\": 3686.060563, \"saeule3a\": 130000, \"lebensversicherung\": 0, \"pensionskasse\": 0.0, \"totalVermoegen\": 150082.0541, \"lohn\": 13000, \"lohnJahr\": 156000, \"bonus\": 26115.28231, \"zulagen\": 0, \"totalLohn\": 182115.2823, \"schaetzungObjekt\": 836037.7741, \"anzahlung\": 0, \"tragbarkeit\": 80, \"score\": 40}, {\"barvermoegen\": 27686.22846, \"aktienvermoegen\": 2602.295798, \"saeule3a\": 40000, \"lebensversicherung\": 0, \"pensionskasse\": 26854.59322, \"totalVermoegen\": 97143.11747, \"lohn\": 9100, \"lohnJahr\": 109200, \"bonus\": 0.0, \"zulagen\": 0, \"totalLohn\": 109200.0, \"schaetzungObjekt\": 515765.7848, \"anzahlung\": 0, \"tragbarkeit\": 100, \"score\": 50}, {\"barvermoegen\": 17291.10927, \"aktienvermoegen\": 3699.344625, \"saeule3a\": 80000, \"lebensversicherung\": 0, \"pensionskasse\": 108569.111, \"totalVermoegen\": 209559.5649, \"lohn\": 9100, \"lohnJahr\": 109200, \"bonus\": 0.0, \"zulagen\": 0, \"totalLohn\": 109200.0, \"schaetzungObjekt\": 605861.2817, \"anzahlung\": 90, \"tragbarkeit\": 80, \"score\": 85}, {\"barvermoegen\": 15115.46182, \"aktienvermoegen\": 3936.52035, \"saeule3a\": 100000, \"lebensversicherung\": 0, \"pensionskasse\": 0.0, \"totalVermoegen\": 119051.9822, \"lohn\": 5600, \"lohnJahr\": 67200, \"bonus\": 0.0, \"zulagen\": 840, \"totalLohn\": 68040.0, \"schaetzungObjekt\": 391194.1961, \"anzahlung\": 90, \"tragbarkeit\": 70, \"score\": 80}, {\"barvermoegen\": 38144.38192, \"aktienvermoegen\": 1644.644594, \"saeule3a\": 40000, \"lebensversicherung\": 0, \"pensionskasse\": 10918.16557, \"totalVermoegen\": 90707.19209, \"lohn\": 5600, \"lohnJahr\": 67200, \"bonus\": 0.0, \"zulagen\": 840, \"totalLohn\": 68040.0, \"schaetzungObjekt\": 1344718.402, \"anzahlung\": 60, \"tragbarkeit\": 10, \"score\": 35}, {\"barvermoegen\": 7558.917309, \"aktienvermoegen\": 4724.046905, \"saeule3a\": 130000, \"lebensversicherung\": 90000, \"pensionskasse\": 0.0, \"totalVermoegen\": 232282.9642, \"lohn\": 9100, \"lohnJahr\": 109200, \"bonus\": 0.0, \"zulagen\": 0, \"totalLohn\": 109200.0, \"schaetzungObjekt\": 24059.82152, \"anzahlung\": 100, \"tragbarkeit\": 100, \"score\": 100}, {\"barvermoegen\": 6770.111386, \"aktienvermoegen\": 4815.188623, \"saeule3a\": 130000, \"lebensversicherung\": 72000, \"pensionskasse\": 0.0, \"totalVermoegen\": 213585.3, \"lohn\": 9100, \"lohnJahr\": 109200, \"bonus\": 0.0, \"zulagen\": 0, \"totalLohn\": 109200.0, \"schaetzungObjekt\": 1611905.441, \"anzahlung\": 0, \"tragbarkeit\": 20, \"score\": 10}, {\"barvermoegen\": 24229.13526, \"aktienvermoegen\": 3127.010727, \"saeule3a\": 0, \"lebensversicherung\": 0, \"pensionskasse\": 5549.924254, \"totalVermoegen\": 32906.07024, \"lohn\": 5600, \"lohnJahr\": 67200, \"bonus\": 0.0, \"zulagen\": 0, \"totalLohn\": 67200.0, \"schaetzungObjekt\": 1915107.504, \"anzahlung\": 60, \"tragbarkeit\": 10, \"score\": 35}, {\"barvermoegen\": 3052.918706, \"aktienvermoegen\": 5368.931887, \"saeule3a\": 130000, \"lebensversicherung\": 90000, \"pensionskasse\": 0.0, \"totalVermoegen\": 228421.8506, \"lohn\": 9100, \"lohnJahr\": 109200, \"bonus\": 0.0, \"zulagen\": 0, \"totalLohn\": 109200.0, \"schaetzungObjekt\": 1065861.873, \"anzahlung\": 80, \"tragbarkeit\": 40, \"score\": 60}, {\"barvermoegen\": 13764.68293, \"aktienvermoegen\": 4305.156478, \"saeule3a\": 40000, \"lebensversicherung\": 0, \"pensionskasse\": 28408.12385, \"totalVermoegen\": 86477.96326, \"lohn\": 13000, \"lohnJahr\": 156000, \"bonus\": 4239.986542, \"zulagen\": 0, \"totalLohn\": 160239.9865, \"schaetzungObjekt\": 395343.2193, \"anzahlung\": 80, \"tragbarkeit\": 100, \"score\": 90}, {\"barvermoegen\": 47060.06832, \"aktienvermoegen\": 1005.204938, \"saeule3a\": 0, \"lebensversicherung\": 0, \"pensionskasse\": 7139.014713, \"totalVermoegen\": 55204.28797, \"lohn\": 3200, \"lohnJahr\": 38400, \"bonus\": 0.0, \"zulagen\": 480, \"totalLohn\": 38880.0, \"schaetzungObjekt\": 596757.7937, \"anzahlung\": 60, \"tragbarkeit\": 20, \"score\": 40}, {\"barvermoegen\": 55160.63267, \"aktienvermoegen\": 197.6211923, \"saeule3a\": 80000, \"lebensversicherung\": 52000, \"pensionskasse\": 114273.6892, \"totalVermoegen\": 301631.943, \"lohn\": 9100, \"lohnJahr\": 109200, \"bonus\": 0.0, \"zulagen\": 0, \"totalLohn\": 109200.0, \"schaetzungObjekt\": 1637115.459, \"anzahlung\": 0, \"tragbarkeit\": 20, \"score\": 10}, {\"barvermoegen\": 24564.75694, \"aktienvermoegen\": 3322.658278, \"saeule3a\": 100000, \"lebensversicherung\": 0, \"pensionskasse\": 28895.66986, \"totalVermoegen\": 156783.0851, \"lohn\": 5600, \"lohnJahr\": 67200, \"bonus\": 0.0, \"zulagen\": 840, \"totalLohn\": 68040.0, \"schaetzungObjekt\": 1285865.443, \"anzahlung\": 0, \"tragbarkeit\": 10, \"score\": 5}, {\"barvermoegen\": 3293.855255, \"aktienvermoegen\": 5474.475333, \"saeule3a\": 100000, \"lebensversicherung\": 0, \"pensionskasse\": 0.0, \"totalVermoegen\": 108768.3306, \"lohn\": 5600, \"lohnJahr\": 67200, \"bonus\": 0.0, \"zulagen\": 840, \"totalLohn\": 68040.0, \"schaetzungObjekt\": 1652041.357, \"anzahlung\": 60, \"tragbarkeit\": 10, \"score\": 35}, {\"barvermoegen\": 10987.12649, \"aktienvermoegen\": 4798.001934, \"saeule3a\": 100000, \"lebensversicherung\": 0, \"pensionskasse\": 29483.57292, \"totalVermoegen\": 145268.7013, \"lohn\": 5600, \"lohnJahr\": 67200, \"bonus\": 0.0, \"zulagen\": 840, \"totalLohn\": 68040.0, \"schaetzungObjekt\": 1839450.406, \"anzahlung\": 60, \"tragbarkeit\": 10, \"score\": 35}, {\"barvermoegen\": 33501.59223, \"aktienvermoegen\": 2638.402956, \"saeule3a\": 80000, \"lebensversicherung\": 57000, \"pensionskasse\": 119771.2436, \"totalVermoegen\": 292911.2388, \"lohn\": 13000, \"lohnJahr\": 156000, \"bonus\": 13217.47314, \"zulagen\": 0, \"totalLohn\": 169217.4731, \"schaetzungObjekt\": 726713.8262, \"anzahlung\": 100, \"tragbarkeit\": 100, \"score\": 100}, {\"barvermoegen\": 33841.12537, \"aktienvermoegen\": 2615.636428, \"saeule3a\": 130000, \"lebensversicherung\": 0, \"pensionskasse\": 0.0, \"totalVermoegen\": 166456.7618, \"lohn\": 9100, \"lohnJahr\": 109200, \"bonus\": 0.0, \"zulagen\": 0, \"totalLohn\": 109200.0, \"schaetzungObjekt\": 1111267.585, \"anzahlung\": 0, \"tragbarkeit\": 40, \"score\": 20}, {\"barvermoegen\": 54000.1875, \"aktienvermoegen\": 661.9225985, \"saeule3a\": 40000, \"lebensversicherung\": 0, \"pensionskasse\": 30309.70674, \"totalVermoegen\": 124971.8168, \"lohn\": 9100, \"lohnJahr\": 109200, \"bonus\": 0.0, \"zulagen\": 0, \"totalLohn\": 109200.0, \"schaetzungObjekt\": 56484.43767, \"anzahlung\": 100, \"tragbarkeit\": 100, \"score\": 100}, {\"barvermoegen\": 40055.65102, \"aktienvermoegen\": 2096.24622, \"saeule3a\": 130000, \"lebensversicherung\": 82000, \"pensionskasse\": 0.0, \"totalVermoegen\": 254151.8972, \"lohn\": 9100, \"lohnJahr\": 109200, \"bonus\": 0.0, \"zulagen\": 0, \"totalLohn\": 109200.0, \"schaetzungObjekt\": 59845.39419, \"anzahlung\": 100, \"tragbarkeit\": 100, \"score\": 100}, {\"barvermoegen\": 26374.49691, \"aktienvermoegen\": 3491.79995, \"saeule3a\": 100000, \"lebensversicherung\": 0, \"pensionskasse\": 30646.24821, \"totalVermoegen\": 160512.5451, \"lohn\": 5600, \"lohnJahr\": 67200, \"bonus\": 0.0, \"zulagen\": 840, \"totalLohn\": 68040.0, \"schaetzungObjekt\": 1320203.024, \"anzahlung\": 0, \"tragbarkeit\": 10, \"score\": 5}, {\"barvermoegen\": 58457.64895, \"aktienvermoegen\": 292.2158952, \"saeule3a\": 130000, \"lebensversicherung\": 84000, \"pensionskasse\": 0.0, \"totalVermoegen\": 272749.8648, \"lohn\": 13000, \"lohnJahr\": 156000, \"bonus\": 12534.8837, \"zulagen\": 0, \"totalLohn\": 168534.8837, \"schaetzungObjekt\": 862155.6293, \"anzahlung\": 90, \"tragbarkeit\": 80, \"score\": 85}, {\"barvermoegen\": 14680.24354, \"aktienvermoegen\": 4732.387563, \"saeule3a\": 20000, \"lebensversicherung\": 0, \"pensionskasse\": 10334.01986, \"totalVermoegen\": 49746.65096, \"lohn\": 3200, \"lohnJahr\": 38400, \"bonus\": 0.0, \"zulagen\": 480, \"totalLohn\": 38880.0, \"schaetzungObjekt\": 151113.8482, \"anzahlung\": 90, \"tragbarkeit\": 100, \"score\": 95}, {\"barvermoegen\": 56466.45497, \"aktienvermoegen\": 563.7765464, \"saeule3a\": 130000, \"lebensversicherung\": 0, \"pensionskasse\": 0.0, \"totalVermoegen\": 187030.2315, \"lohn\": 9100, \"lohnJahr\": 109200, \"bonus\": 0.0, \"zulagen\": 0, \"totalLohn\": 109200.0, \"schaetzungObjekt\": 322859.4303, \"anzahlung\": 100, \"tragbarkeit\": 100, \"score\": 100}, {\"barvermoegen\": 30351.18047, \"aktienvermoegen\": 3191.55553, \"saeule3a\": 20000, \"lebensversicherung\": 36000, \"pensionskasse\": 7783.341971, \"totalVermoegen\": 97326.07797, \"lohn\": 5600, \"lohnJahr\": 67200, \"bonus\": 0.0, \"zulagen\": 0, \"totalLohn\": 67200.0, \"schaetzungObjekt\": 1658190.407, \"anzahlung\": 60, \"tragbarkeit\": 10, \"score\": 35}, {\"barvermoegen\": 25219.90912, \"aktienvermoegen\": 3707.18946, \"saeule3a\": 100000, \"lebensversicherung\": 0, \"pensionskasse\": 31145.90186, \"totalVermoegen\": 160073.0004, \"lohn\": 5600, \"lohnJahr\": 67200, \"bonus\": 0.0, \"zulagen\": 840, \"totalLohn\": 68040.0, \"schaetzungObjekt\": 1396560.516, \"anzahlung\": 0, \"tragbarkeit\": 10, \"score\": 5}, {\"barvermoegen\": 17468.24365, \"aktienvermoegen\": 4558.736508, \"saeule3a\": 100000, \"lebensversicherung\": 63000, \"pensionskasse\": 189166.8262, \"totalVermoegen\": 374193.8064, \"lohn\": 9100, \"lohnJahr\": 109200, \"bonus\": 0.0, \"zulagen\": 0, \"totalLohn\": 109200.0, \"schaetzungObjekt\": 1460679.798, \"anzahlung\": 80, \"tragbarkeit\": 20, \"score\": 50}, {\"barvermoegen\": 24345.8808, \"aktienvermoegen\": 4024.228335, \"saeule3a\": 130000, \"lebensversicherung\": 80000, \"pensionskasse\": 0.0, \"totalVermoegen\": 238370.1091, \"lohn\": 9100, \"lohnJahr\": 109200, \"bonus\": 0.0, \"zulagen\": 0, \"totalLohn\": 109200.0, \"schaetzungObjekt\": 329427.0864, \"anzahlung\": 100, \"tragbarkeit\": 100, \"score\": 100}, {\"barvermoegen\": 23031.2497, \"aktienvermoegen\": 4156.936316, \"saeule3a\": 0, \"lebensversicherung\": 0, \"pensionskasse\": 6460.061286, \"totalVermoegen\": 33648.2473, \"lohn\": 5600, \"lohnJahr\": 67200, \"bonus\": 0.0, \"zulagen\": 0, \"totalLohn\": 67200.0, \"schaetzungObjekt\": 150659.1421, \"anzahlung\": 80, \"tragbarkeit\": 100, \"score\": 90}, {\"barvermoegen\": 48515.12877, \"aktienvermoegen\": 1631.228933, \"saeule3a\": 0, \"lebensversicherung\": 0, \"pensionskasse\": 8103.427263, \"totalVermoegen\": 58249.78496, \"lohn\": 3200, \"lohnJahr\": 38400, \"bonus\": 0.0, \"zulagen\": 480, \"totalLohn\": 38880.0, \"schaetzungObjekt\": 1856372.67, \"anzahlung\": 60, \"tragbarkeit\": 0, \"score\": 30}, {\"barvermoegen\": 40186.88309, \"aktienvermoegen\": 2607.981038, \"saeule3a\": 130000, \"lebensversicherung\": 80000, \"pensionskasse\": 0.0, \"totalVermoegen\": 252794.8641, \"lohn\": 13000, \"lohnJahr\": 156000, \"bonus\": 27114.30361, \"zulagen\": 0, \"totalLohn\": 183114.3036, \"schaetzungObjekt\": 1216688.332, \"anzahlung\": 80, \"tragbarkeit\": 50, \"score\": 65}, {\"barvermoegen\": 60312.25141, \"aktienvermoegen\": 616.9480708, \"saeule3a\": 40000, \"lebensversicherung\": 0, \"pensionskasse\": 13296.34642, \"totalVermoegen\": 114225.5459, \"lohn\": 5600, \"lohnJahr\": 67200, \"bonus\": 0.0, \"zulagen\": 840, \"totalLohn\": 68040.0, \"schaetzungObjekt\": 1523319.26, \"anzahlung\": 60, \"tragbarkeit\": 10, \"score\": 35}, {\"barvermoegen\": 44167.51706, \"aktienvermoegen\": 2254.221401, \"saeule3a\": 40000, \"lebensversicherung\": 0, \"pensionskasse\": 13341.94621, \"totalVermoegen\": 99763.68467, \"lohn\": 5600, \"lohnJahr\": 67200, \"bonus\": 0.0, \"zulagen\": 840, \"totalLohn\": 68040.0, \"schaetzungObjekt\": 1876746.635, \"anzahlung\": 60, \"tragbarkeit\": 10, \"score\": 35}, {\"barvermoegen\": 5768.008122, \"aktienvermoegen\": 6147.411841, \"saeule3a\": 40000, \"lebensversicherung\": 0, \"pensionskasse\": 13448.42531, \"totalVermoegen\": 65363.84527, \"lohn\": 5600, \"lohnJahr\": 67200, \"bonus\": 0.0, \"zulagen\": 840, \"totalLohn\": 68040.0, \"schaetzungObjekt\": 260437.0351, \"anzahlung\": 80, \"tragbarkeit\": 100, \"score\": 90}, {\"barvermoegen\": 25600.71409, \"aktienvermoegen\": 4188.254222, \"saeule3a\": 20000, \"lebensversicherung\": 32000, \"pensionskasse\": 8435.40704, \"totalVermoegen\": 90224.37536, \"lohn\": 5600, \"lohnJahr\": 67200, \"bonus\": 0.0, \"zulagen\": 0, \"totalLohn\": 67200.0, \"schaetzungObjekt\": 896037.8748, \"anzahlung\": 0, \"tragbarkeit\": 20, \"score\": 10}, {\"barvermoegen\": 38418.40673, \"aktienvermoegen\": 2915.386638, \"saeule3a\": 80000, \"lebensversicherung\": 0, \"pensionskasse\": 135144.5462, \"totalVermoegen\": 256478.3396, \"lohn\": 9100, \"lohnJahr\": 109200, \"bonus\": 0.0, \"zulagen\": 0, \"totalLohn\": 109200.0, \"schaetzungObjekt\": 840965.9071, \"anzahlung\": 90, \"tragbarkeit\": 50, \"score\": 70}, {\"barvermoegen\": 8622.178322, \"aktienvermoegen\": 5948.385449, \"saeule3a\": 40000, \"lebensversicherung\": 46000, \"pensionskasse\": 34053.01641, \"totalVermoegen\": 134623.5802, \"lohn\": 13000, \"lohnJahr\": 156000, \"bonus\": 16546.89696, \"zulagen\": 0, \"totalLohn\": 172546.897, \"schaetzungObjekt\": 622969.2715, \"anzahlung\": 80, \"tragbarkeit\": 100, \"score\": 90}, {\"barvermoegen\": 30816.90055, \"aktienvermoegen\": 3742.896707, \"saeule3a\": 130000, \"lebensversicherung\": 73000, \"pensionskasse\": 0.0, \"totalVermoegen\": 237559.7973, \"lohn\": 9100, \"lohnJahr\": 109200, \"bonus\": 0.0, \"zulagen\": 0, \"totalLohn\": 109200.0, \"schaetzungObjekt\": 1432312.029, \"anzahlung\": 0, \"tragbarkeit\": 20, \"score\": 10}, {\"barvermoegen\": 23567.75501, \"aktienvermoegen\": 4478.008971, \"saeule3a\": 130000, \"lebensversicherung\": 0, \"pensionskasse\": 0.0, \"totalVermoegen\": 158045.764, \"lohn\": 13000, \"lohnJahr\": 156000, \"bonus\": 5555.201806, \"zulagen\": 0, \"totalLohn\": 161555.2018, \"schaetzungObjekt\": 378672.473, \"anzahlung\": 100, \"tragbarkeit\": 100, \"score\": 100}, {\"barvermoegen\": 29329.62607, \"aktienvermoegen\": 3927.282032, \"saeule3a\": 100000, \"lebensversicherung\": 0, \"pensionskasse\": 0.0, \"totalVermoegen\": 133256.9081, \"lohn\": 5600, \"lohnJahr\": 67200, \"bonus\": 0.0, \"zulagen\": 840, \"totalLohn\": 68040.0, \"schaetzungObjekt\": 844436.5828, \"anzahlung\": 0, \"tragbarkeit\": 20, \"score\": 10}, {\"barvermoegen\": 51349.54891, \"aktienvermoegen\": 1730.388603, \"saeule3a\": 130000, \"lebensversicherung\": 0, \"pensionskasse\": 0.0, \"totalVermoegen\": 183079.9375, \"lohn\": 5600, \"lohnJahr\": 67200, \"bonus\": 0.0, \"zulagen\": 840, \"totalLohn\": 68040.0, \"schaetzungObjekt\": 1816564.661, \"anzahlung\": 0, \"tragbarkeit\": 10, \"score\": 5}, {\"barvermoegen\": 12139.54582, \"aktienvermoegen\": 5711.330297, \"saeule3a\": 80000, \"lebensversicherung\": 0, \"pensionskasse\": 138505.6976, \"totalVermoegen\": 236356.5737, \"lohn\": 9100, \"lohnJahr\": 109200, \"bonus\": 0.0, \"zulagen\": 0, \"totalLohn\": 109200.0, \"schaetzungObjekt\": 1076891.977, \"anzahlung\": 80, \"tragbarkeit\": 40, \"score\": 60}, {\"barvermoegen\": 1783.604904, \"aktienvermoegen\": 6773.748798, \"saeule3a\": 130000, \"lebensversicherung\": 0, \"pensionskasse\": 0.0, \"totalVermoegen\": 138557.3537, \"lohn\": 9100, \"lohnJahr\": 109200, \"bonus\": 0.0, \"zulagen\": 0, \"totalLohn\": 109200.0, \"schaetzungObjekt\": 1895935.341, \"anzahlung\": 60, \"tragbarkeit\": 10, \"score\": 35}, {\"barvermoegen\": 26001.2995, \"aktienvermoegen\": 4454.331598, \"saeule3a\": 130000, \"lebensversicherung\": 0, \"pensionskasse\": 0.0, \"totalVermoegen\": 160455.6311, \"lohn\": 9100, \"lohnJahr\": 109200, \"bonus\": 0.0, \"zulagen\": 0, \"totalLohn\": 109200.0, \"schaetzungObjekt\": 1506467.915, \"anzahlung\": 0, \"tragbarkeit\": 20, \"score\": 10}, {\"barvermoegen\": 55762.96241, \"aktienvermoegen\": 1542.31879, \"saeule3a\": 100000, \"lebensversicherung\": 69000, \"pensionskasse\": 0.0, \"totalVermoegen\": 226305.2812, \"lohn\": 9100, \"lohnJahr\": 109200, \"bonus\": 0.0, \"zulagen\": 0, \"totalLohn\": 109200.0, \"schaetzungObjekt\": 1854072.334, \"anzahlung\": 0, \"tragbarkeit\": 10, \"score\": 5}, {\"barvermoegen\": 54247.06995, \"aktienvermoegen\": 1701.616004, \"saeule3a\": 100000, \"lebensversicherung\": 0, \"pensionskasse\": 0.0, \"totalVermoegen\": 155948.6859, \"lohn\": 9100, \"lohnJahr\": 109200, \"bonus\": 0.0, \"zulagen\": 0, \"totalLohn\": 109200.0, \"schaetzungObjekt\": 636124.8969, \"anzahlung\": 80, \"tragbarkeit\": 70, \"score\": 75}, {\"barvermoegen\": 31449.40078, \"aktienvermoegen\": 4129.471396, \"saeule3a\": 20000, \"lebensversicherung\": 0, \"pensionskasse\": 9093.014341, \"totalVermoegen\": 64671.88651, \"lohn\": 8000, \"lohnJahr\": 96000, \"bonus\": 4752.140354, \"zulagen\": 0, \"totalLohn\": 100752.1404, \"schaetzungObjekt\": 1194095.056, \"anzahlung\": 60, \"tragbarkeit\": 20, \"score\": 40}, {\"barvermoegen\": 40900.34591, \"aktienvermoegen\": 3298.154669, \"saeule3a\": 130000, \"lebensversicherung\": 0, \"pensionskasse\": 0.0, \"totalVermoegen\": 174198.5006, \"lohn\": 9100, \"lohnJahr\": 109200, \"bonus\": 0.0, \"zulagen\": 0, \"totalLohn\": 109200.0, \"schaetzungObjekt\": 528287.7314, \"anzahlung\": 90, \"tragbarkeit\": 80, \"score\": 85}, {\"barvermoegen\": 39637.69939, \"aktienvermoegen\": 3434.787561, \"saeule3a\": 80000, \"lebensversicherung\": 0, \"pensionskasse\": 147971.15, \"totalVermoegen\": 271043.637, \"lohn\": 9100, \"lohnJahr\": 109200, \"bonus\": 0.0, \"zulagen\": 0, \"totalLohn\": 109200.0, \"schaetzungObjekt\": 791925.2044, \"anzahlung\": 90, \"tragbarkeit\": 50, \"score\": 70}, {\"barvermoegen\": 1275.887663, \"aktienvermoegen\": 7380.00578, \"saeule3a\": 100000, \"lebensversicherung\": 0, \"pensionskasse\": 0.0, \"totalVermoegen\": 108655.8934, \"lohn\": 5600, \"lohnJahr\": 67200, \"bonus\": 0.0, \"zulagen\": 840, \"totalLohn\": 68040.0, \"schaetzungObjekt\": 289912.7737, \"anzahlung\": 90, \"tragbarkeit\": 100, \"score\": 95}, {\"barvermoegen\": 28480.01032, \"aktienvermoegen\": 4670.012913, \"saeule3a\": 80000, \"lebensversicherung\": 53000, \"pensionskasse\": 150360.2789, \"totalVermoegen\": 316510.3021, \"lohn\": 9100, \"lohnJahr\": 109200, \"bonus\": 0.0, \"zulagen\": 0, \"totalLohn\": 109200.0, \"schaetzungObjekt\": 60478.48833, \"anzahlung\": 100, \"tragbarkeit\": 100, \"score\": 100}, {\"barvermoegen\": 34103.87493, \"aktienvermoegen\": 4161.019476, \"saeule3a\": 40000, \"lebensversicherung\": 43000, \"pensionskasse\": 37857.03484, \"totalVermoegen\": 159121.9292, \"lohn\": 9100, \"lohnJahr\": 109200, \"bonus\": 0.0, \"zulagen\": 0, \"totalLohn\": 109200.0, \"schaetzungObjekt\": 896214.6394, \"anzahlung\": 0, \"tragbarkeit\": 50, \"score\": 25}, {\"barvermoegen\": 4851.686448, \"aktienvermoegen\": 7100.562865, \"saeule3a\": 40000, \"lebensversicherung\": 0, \"pensionskasse\": 15171.46302, \"totalVermoegen\": 67123.71233, \"lohn\": 5600, \"lohnJahr\": 67200, \"bonus\": 0.0, \"zulagen\": 840, \"totalLohn\": 68040.0, \"schaetzungObjekt\": 413531.0084, \"anzahlung\": 0, \"tragbarkeit\": 70, \"score\": 35}, {\"barvermoegen\": 19594.92287, \"aktienvermoegen\": 5644.520066, \"saeule3a\": 100000, \"lebensversicherung\": 65000, \"pensionskasse\": 0.0, \"totalVermoegen\": 190239.4429, \"lohn\": 13000, \"lohnJahr\": 156000, \"bonus\": 24017.38288, \"zulagen\": 0, \"totalLohn\": 180017.3829, \"schaetzungObjekt\": 339399.3527, \"anzahlung\": 100, \"tragbarkeit\": 100, \"score\": 100}, {\"barvermoegen\": 35825.90611, \"aktienvermoegen\": 4035.78039, \"saeule3a\": 100000, \"lebensversicherung\": 0, \"pensionskasse\": 38091.855, \"totalVermoegen\": 177953.5415, \"lohn\": 5600, \"lohnJahr\": 67200, \"bonus\": 0.0, \"zulagen\": 840, \"totalLohn\": 68040.0, \"schaetzungObjekt\": 1304828.727, \"anzahlung\": 0, \"tragbarkeit\": 10, \"score\": 5}, {\"barvermoegen\": 24606.713, \"aktienvermoegen\": 5272.807624, \"saeule3a\": 130000, \"lebensversicherung\": 0, \"pensionskasse\": 0.0, \"totalVermoegen\": 159879.5206, \"lohn\": 5600, \"lohnJahr\": 67200, \"bonus\": 0.0, \"zulagen\": 840, \"totalLohn\": 68040.0, \"schaetzungObjekt\": 1729833.439, \"anzahlung\": 60, \"tragbarkeit\": 10, \"score\": 35}, {\"barvermoegen\": 43217.52341, \"aktienvermoegen\": 3432.701804, \"saeule3a\": 100000, \"lebensversicherung\": 0, \"pensionskasse\": 0.0, \"totalVermoegen\": 146650.2252, \"lohn\": 9100, \"lohnJahr\": 109200, \"bonus\": 0.0, \"zulagen\": 0, \"totalLohn\": 109200.0, \"schaetzungObjekt\": 1939409.481, \"anzahlung\": 60, \"tragbarkeit\": 10, \"score\": 35}, {\"barvermoegen\": 49006.58161, \"aktienvermoegen\": 2856.405097, \"saeule3a\": 130000, \"lebensversicherung\": 0, \"pensionskasse\": 0.0, \"totalVermoegen\": 181862.9867, \"lohn\": 9100, \"lohnJahr\": 109200, \"bonus\": 0.0, \"zulagen\": 0, \"totalLohn\": 109200.0, \"schaetzungObjekt\": 297314.076, \"anzahlung\": 100, \"tragbarkeit\": 100, \"score\": 100}, {\"barvermoegen\": 46289.90834, \"aktienvermoegen\": 3162.195529, \"saeule3a\": 40000, \"lebensversicherung\": 0, \"pensionskasse\": 38955.93181, \"totalVermoegen\": 128408.0357, \"lohn\": 9100, \"lohnJahr\": 109200, \"bonus\": 0.0, \"zulagen\": 0, \"totalLohn\": 109200.0, \"schaetzungObjekt\": 372540.4399, \"anzahlung\": 90, \"tragbarkeit\": 100, \"score\": 95}, {\"barvermoegen\": 39561.51434, \"aktienvermoegen\": 3941.616339, \"saeule3a\": 100000, \"lebensversicherung\": 0, \"pensionskasse\": 0.0, \"totalVermoegen\": 143503.1307, \"lohn\": 13000, \"lohnJahr\": 156000, \"bonus\": 3846.425627, \"zulagen\": 0, \"totalLohn\": 159846.4256, \"schaetzungObjekt\": 241360.0862, \"anzahlung\": 100, \"tragbarkeit\": 100, \"score\": 100}, {\"barvermoegen\": 43436.08198, \"aktienvermoegen\": 3610.877939, \"saeule3a\": 130000, \"lebensversicherung\": 0, \"pensionskasse\": 0.0, \"totalVermoegen\": 177046.9599, \"lohn\": 5600, \"lohnJahr\": 67200, \"bonus\": 0.0, \"zulagen\": 840, \"totalLohn\": 68040.0, \"schaetzungObjekt\": 225950.4066, \"anzahlung\": 100, \"tragbarkeit\": 100, \"score\": 100}, {\"barvermoegen\": 58266.7204, \"aktienvermoegen\": 2172.765872, \"saeule3a\": 80000, \"lebensversicherung\": 0, \"pensionskasse\": 159988.7582, \"totalVermoegen\": 300428.2445, \"lohn\": 9100, \"lohnJahr\": 109200, \"bonus\": 0.0, \"zulagen\": 0, \"totalLohn\": 109200.0, \"schaetzungObjekt\": 441782.6699, \"anzahlung\": 100, \"tragbarkeit\": 100, \"score\": 100}, {\"barvermoegen\": 75068.18364, \"aktienvermoegen\": 605.2718354, \"saeule3a\": 130000, \"lebensversicherung\": 0, \"pensionskasse\": 0.0, \"totalVermoegen\": 205673.4555, \"lohn\": 13000, \"lohnJahr\": 156000, \"bonus\": 12737.08063, \"zulagen\": 0, \"totalLohn\": 168737.0806, \"schaetzungObjekt\": 745694.3424, \"anzahlung\": 80, \"tragbarkeit\": 80, \"score\": 80}, {\"barvermoegen\": 39228.47084, \"aktienvermoegen\": 4221.132273, \"saeule3a\": 130000, \"lebensversicherung\": 0, \"pensionskasse\": 0.0, \"totalVermoegen\": 173449.6031, \"lohn\": 9100, \"lohnJahr\": 109200, \"bonus\": 0.0, \"zulagen\": 0, \"totalLohn\": 109200.0, \"schaetzungObjekt\": 1438617.279, \"anzahlung\": 0, \"tragbarkeit\": 20, \"score\": 10}, {\"barvermoegen\": 80644.64497, \"aktienvermoegen\": 148.7501447, \"saeule3a\": 40000, \"lebensversicherung\": 0, \"pensionskasse\": 16426.42928, \"totalVermoegen\": 137219.8244, \"lohn\": 5600, \"lohnJahr\": 67200, \"bonus\": 0.0, \"zulagen\": 840, \"totalLohn\": 68040.0, \"schaetzungObjekt\": 1321684.616, \"anzahlung\": 0, \"tragbarkeit\": 10, \"score\": 5}, {\"barvermoegen\": 48252.07185, \"aktienvermoegen\": 3418.702903, \"saeule3a\": 100000, \"lebensversicherung\": 0, \"pensionskasse\": 0.0, \"totalVermoegen\": 151670.7748, \"lohn\": 9100, \"lohnJahr\": 109200, \"bonus\": 0.0, \"zulagen\": 0, \"totalLohn\": 109200.0, \"schaetzungObjekt\": 1927022.959, \"anzahlung\": 60, \"tragbarkeit\": 10, \"score\": 35}, {\"barvermoegen\": 69537.49408, \"aktienvermoegen\": 1314.171341, \"saeule3a\": 130000, \"lebensversicherung\": 0, \"pensionskasse\": 0.0, \"totalVermoegen\": 200851.6654, \"lohn\": 9100, \"lohnJahr\": 109200, \"bonus\": 0.0, \"zulagen\": 0, \"totalLohn\": 109200.0, \"schaetzungObjekt\": 1191586.574, \"anzahlung\": 0, \"tragbarkeit\": 40, \"score\": 20}, {\"barvermoegen\": 48150.8564, \"aktienvermoegen\": 3495.621149, \"saeule3a\": 130000, \"lebensversicherung\": 0, \"pensionskasse\": 0.0, \"totalVermoegen\": 181646.4776, \"lohn\": 9100, \"lohnJahr\": 109200, \"bonus\": 0.0, \"zulagen\": 0, \"totalLohn\": 109200.0, \"schaetzungObjekt\": 395664.8955, \"anzahlung\": 100, \"tragbarkeit\": 100, \"score\": 100}, {\"barvermoegen\": 82776.22819, \"aktienvermoegen\": 61.20440929, \"saeule3a\": 20000, \"lebensversicherung\": 0, \"pensionskasse\": 10423.53404, \"totalVermoegen\": 113260.9666, \"lohn\": 5600, \"lohnJahr\": 67200, \"bonus\": 0.0, \"zulagen\": 0, \"totalLohn\": 67200.0, \"schaetzungObjekt\": 1544984.051, \"anzahlung\": 60, \"tragbarkeit\": 10, \"score\": 35}, {\"barvermoegen\": 59356.74179, \"aktienvermoegen\": 2416.539675, \"saeule3a\": 130000, \"lebensversicherung\": 0, \"pensionskasse\": 0.0, \"totalVermoegen\": 191773.2815, \"lohn\": 5600, \"lohnJahr\": 67200, \"bonus\": 0.0, \"zulagen\": 840, \"totalLohn\": 68040.0, \"schaetzungObjekt\": 1461723.763, \"anzahlung\": 0, \"tragbarkeit\": 10, \"score\": 5}, {\"barvermoegen\": 63652.78972, \"aktienvermoegen\": 2070.136594, \"saeule3a\": 130000, \"lebensversicherung\": 0, \"pensionskasse\": 0.0, \"totalVermoegen\": 195722.9263, \"lohn\": 9100, \"lohnJahr\": 109200, \"bonus\": 0.0, \"zulagen\": 0, \"totalLohn\": 109200.0, \"schaetzungObjekt\": 960553.5298, \"anzahlung\": 80, \"tragbarkeit\": 40, \"score\": 60}, {\"barvermoegen\": 56018.02889, \"aktienvermoegen\": 2841.678758, \"saeule3a\": 130000, \"lebensversicherung\": 0, \"pensionskasse\": 0.0, \"totalVermoegen\": 188859.7076, \"lohn\": 9100, \"lohnJahr\": 109200, \"bonus\": 0.0, \"zulagen\": 0, \"totalLohn\": 109200.0, \"schaetzungObjekt\": 683248.2508, \"anzahlung\": 80, \"tragbarkeit\": 70, \"score\": 75}, {\"barvermoegen\": 45417.44455, \"aktienvermoegen\": 3951.514974, \"saeule3a\": 80000, \"lebensversicherung\": 0, \"pensionskasse\": 169865.1886, \"totalVermoegen\": 299234.1481, \"lohn\": 9100, \"lohnJahr\": 109200, \"bonus\": 0.0, \"zulagen\": 0, \"totalLohn\": 109200.0, \"schaetzungObjekt\": 3527.856449, \"anzahlung\": 100, \"tragbarkeit\": 100, \"score\": 100}, {\"barvermoegen\": 3091.730822, \"aktienvermoegen\": 8233.9835, \"saeule3a\": 40000, \"lebensversicherung\": 0, \"pensionskasse\": 42715.78291, \"totalVermoegen\": 94041.49723, \"lohn\": 13000, \"lohnJahr\": 156000, \"bonus\": 23393.47337, \"zulagen\": 0, \"totalLohn\": 179393.4734, \"schaetzungObjekt\": 1191720.286, \"anzahlung\": 60, \"tragbarkeit\": 50, \"score\": 55}, {\"barvermoegen\": 83175.18686, \"aktienvermoegen\": 276.9675037, \"saeule3a\": 20000, \"lebensversicherung\": 0, \"pensionskasse\": 10743.10774, \"totalVermoegen\": 114195.2621, \"lohn\": 5600, \"lohnJahr\": 67200, \"bonus\": 0.0, \"zulagen\": 0, \"totalLohn\": 67200.0, \"schaetzungObjekt\": 847124.5031, \"anzahlung\": 0, \"tragbarkeit\": 20, \"score\": 10}, {\"barvermoegen\": 75113.84699, \"aktienvermoegen\": 1168.434831, \"saeule3a\": 0, \"lebensversicherung\": 0, \"pensionskasse\": 10849.77441, \"totalVermoegen\": 87132.05623, \"lohn\": 3200, \"lohnJahr\": 38400, \"bonus\": 0.0, \"zulagen\": 480, \"totalLohn\": 38880.0, \"schaetzungObjekt\": 63293.89937, \"anzahlung\": 100, \"tragbarkeit\": 100, \"score\": 100}, {\"barvermoegen\": 82939.05468, \"aktienvermoegen\": 467.4275247, \"saeule3a\": 130000, \"lebensversicherung\": 0, \"pensionskasse\": 0.0, \"totalVermoegen\": 213406.4822, \"lohn\": 9100, \"lohnJahr\": 109200, \"bonus\": 0.0, \"zulagen\": 0, \"totalLohn\": 109200.0, \"schaetzungObjekt\": 473474.9506, \"anzahlung\": 100, \"tragbarkeit\": 100, \"score\": 100}, {\"barvermoegen\": 12098.97446, \"aktienvermoegen\": 7618.215195, \"saeule3a\": 20000, \"lebensversicherung\": 0, \"pensionskasse\": 11035.1408, \"totalVermoegen\": 50752.33045, \"lohn\": 5600, \"lohnJahr\": 67200, \"bonus\": 0.0, \"zulagen\": 0, \"totalLohn\": 67200.0, \"schaetzungObjekt\": 1168802.954, \"anzahlung\": 60, \"tragbarkeit\": 10, \"score\": 35}, {\"barvermoegen\": 77021.59876, \"aktienvermoegen\": 1247.677262, \"saeule3a\": 20000, \"lebensversicherung\": 0, \"pensionskasse\": 11187.29642, \"totalVermoegen\": 109456.5724, \"lohn\": 5600, \"lohnJahr\": 67200, \"bonus\": 0.0, \"zulagen\": 0, \"totalLohn\": 67200.0, \"schaetzungObjekt\": 1830602.591, \"anzahlung\": 60, \"tragbarkeit\": 10, \"score\": 35}, {\"barvermoegen\": 54851.40608, \"aktienvermoegen\": 3682.259032, \"saeule3a\": 100000, \"lebensversicherung\": 0, \"pensionskasse\": 0.0, \"totalVermoegen\": 158533.6651, \"lohn\": 9100, \"lohnJahr\": 109200, \"bonus\": 0.0, \"zulagen\": 0, \"totalLohn\": 109200.0, \"schaetzungObjekt\": 1149768.143, \"anzahlung\": 0, \"tragbarkeit\": 40, \"score\": 20}, {\"barvermoegen\": 16817.37204, \"aktienvermoegen\": 7518.88173, \"saeule3a\": 40000, \"lebensversicherung\": 44000, \"pensionskasse\": 46003.09467, \"totalVermoegen\": 154339.3484, \"lohn\": 13000, \"lohnJahr\": 156000, \"bonus\": 29469.37939, \"zulagen\": 0, \"totalLohn\": 185469.3794, \"schaetzungObjekt\": 1332449.682, \"anzahlung\": 0, \"tragbarkeit\": 40, \"score\": 20}, {\"barvermoegen\": 2594.51849, \"aktienvermoegen\": 9066.131656, \"saeule3a\": 130000, \"lebensversicherung\": 70000, \"pensionskasse\": 0.0, \"totalVermoegen\": 211660.6501, \"lohn\": 9100, \"lohnJahr\": 109200, \"bonus\": 0.0, \"zulagen\": 0, \"totalLohn\": 109200.0, \"schaetzungObjekt\": 1038029.071, \"anzahlung\": 80, \"tragbarkeit\": 40, \"score\": 60}, {\"barvermoegen\": 4485.404362, \"aktienvermoegen\": 8892.373739, \"saeule3a\": 80000, \"lebensversicherung\": 0, \"pensionskasse\": 23352.28544, \"totalVermoegen\": 116730.0635, \"lohn\": 5600, \"lohnJahr\": 67200, \"bonus\": 0.0, \"zulagen\": 840, \"totalLohn\": 68040.0, \"schaetzungObjekt\": 756783.1677, \"anzahlung\": 0, \"tragbarkeit\": 20, \"score\": 10}, {\"barvermoegen\": 27335.06438, \"aktienvermoegen\": 6664.586533, \"saeule3a\": 100000, \"lebensversicherung\": 69000, \"pensionskasse\": 0.0, \"totalVermoegen\": 202999.6509, \"lohn\": 9100, \"lohnJahr\": 109200, \"bonus\": 0.0, \"zulagen\": 0, \"totalLohn\": 109200.0, \"schaetzungObjekt\": 1057721.27, \"anzahlung\": 0, \"tragbarkeit\": 40, \"score\": 20}, {\"barvermoegen\": 76919.68329, \"aktienvermoegen\": 1707.522989, \"saeule3a\": 100000, \"lebensversicherung\": 69000, \"pensionskasse\": 0.0, \"totalVermoegen\": 247627.2063, \"lohn\": 9100, \"lohnJahr\": 109200, \"bonus\": 0.0, \"zulagen\": 0, \"totalLohn\": 109200.0, \"schaetzungObjekt\": 1149646.471, \"anzahlung\": 80, \"tragbarkeit\": 40, \"score\": 60}, {\"barvermoegen\": 29652.15189, \"aktienvermoegen\": 6513.999024, \"saeule3a\": 40000, \"lebensversicherung\": 0, \"pensionskasse\": 47396.07107, \"totalVermoegen\": 123562.222, \"lohn\": 9100, \"lohnJahr\": 109200, \"bonus\": 0.0, \"zulagen\": 0, \"totalLohn\": 109200.0, \"schaetzungObjekt\": 1201521.631, \"anzahlung\": 0, \"tragbarkeit\": 40, \"score\": 20}, {\"barvermoegen\": 75778.19829, \"aktienvermoegen\": 1939.269154, \"saeule3a\": 130000, \"lebensversicherung\": 0, \"pensionskasse\": 0.0, \"totalVermoegen\": 207717.4674, \"lohn\": 5600, \"lohnJahr\": 67200, \"bonus\": 0.0, \"zulagen\": 840, \"totalLohn\": 68040.0, \"schaetzungObjekt\": 979401.4582, \"anzahlung\": 80, \"tragbarkeit\": 20, \"score\": 50}, {\"barvermoegen\": 3840.353776, \"aktienvermoegen\": 9154.09704, \"saeule3a\": 80000, \"lebensversicherung\": 0, \"pensionskasse\": 190762.6483, \"totalVermoegen\": 283757.0992, \"lohn\": 9100, \"lohnJahr\": 109200, \"bonus\": 0.0, \"zulagen\": 0, \"totalLohn\": 109200.0, \"schaetzungObjekt\": 936306.6908, \"anzahlung\": 90, \"tragbarkeit\": 40, \"score\": 65}, {\"barvermoegen\": 44051.03953, \"aktienvermoegen\": 5199.125992, \"saeule3a\": 80000, \"lebensversicherung\": 0, \"pensionskasse\": 24010.57486, \"totalVermoegen\": 153260.7404, \"lohn\": 5600, \"lohnJahr\": 67200, \"bonus\": 0.0, \"zulagen\": 840, \"totalLohn\": 68040.0, \"schaetzungObjekt\": 1805611.256, \"anzahlung\": 60, \"tragbarkeit\": 10, \"score\": 35}, {\"barvermoegen\": 62749.07563, \"aktienvermoegen\": 3371.630938, \"saeule3a\": 20000, \"lebensversicherung\": 0, \"pensionskasse\": 12058.17313, \"totalVermoegen\": 98178.8797, \"lohn\": 5600, \"lohnJahr\": 67200, \"bonus\": 0.0, \"zulagen\": 0, \"totalLohn\": 67200.0, \"schaetzungObjekt\": 77628.82046, \"anzahlung\": 100, \"tragbarkeit\": 100, \"score\": 100}, {\"barvermoegen\": 31264.26077, \"aktienvermoegen\": 6548.352235, \"saeule3a\": 130000, \"lebensversicherung\": 0, \"pensionskasse\": 0.0, \"totalVermoegen\": 167812.613, \"lohn\": 5600, \"lohnJahr\": 67200, \"bonus\": 0.0, \"zulagen\": 840, \"totalLohn\": 68040.0, \"schaetzungObjekt\": 203996.5472, \"anzahlung\": 100, \"tragbarkeit\": 100, \"score\": 100}, {\"barvermoegen\": 69557.6835, \"aktienvermoegen\": 2731.714466, \"saeule3a\": 130000, \"lebensversicherung\": 0, \"pensionskasse\": 0.0, \"totalVermoegen\": 202289.398, \"lohn\": 9100, \"lohnJahr\": 109200, \"bonus\": 0.0, \"zulagen\": 0, \"totalLohn\": 109200.0, \"schaetzungObjekt\": 109214.9908, \"anzahlung\": 100, \"tragbarkeit\": 100, \"score\": 100}, {\"barvermoegen\": 21556.70341, \"aktienvermoegen\": 7686.415205, \"saeule3a\": 130000, \"lebensversicherung\": 0, \"pensionskasse\": 0.0, \"totalVermoegen\": 159243.1186, \"lohn\": 9100, \"lohnJahr\": 109200, \"bonus\": 0.0, \"zulagen\": 0, \"totalLohn\": 109200.0, \"schaetzungObjekt\": 1854860.879, \"anzahlung\": 60, \"tragbarkeit\": 10, \"score\": 35}, {\"barvermoegen\": 17107.36042, \"aktienvermoegen\": 8166.956223, \"saeule3a\": 130000, \"lebensversicherung\": 74000, \"pensionskasse\": 0.0, \"totalVermoegen\": 229274.3166, \"lohn\": 9100, \"lohnJahr\": 109200, \"bonus\": 0.0, \"zulagen\": 0, \"totalLohn\": 109200.0, \"schaetzungObjekt\": 290068.3874, \"anzahlung\": 100, \"tragbarkeit\": 100, \"score\": 100}, {\"barvermoegen\": 67854.54107, \"aktienvermoegen\": 3135.041252, \"saeule3a\": 130000, \"lebensversicherung\": 0, \"pensionskasse\": 0.0, \"totalVermoegen\": 200989.5823, \"lohn\": 13000, \"lohnJahr\": 156000, \"bonus\": 5628.938652, \"zulagen\": 0, \"totalLohn\": 161628.9387, \"schaetzungObjekt\": 1929800.152, \"anzahlung\": 0, \"tragbarkeit\": 20, \"score\": 10}, {\"barvermoegen\": 88773.50828, \"aktienvermoegen\": 1068.860493, \"saeule3a\": 80000, \"lebensversicherung\": 0, \"pensionskasse\": 24865.5283, \"totalVermoegen\": 194707.8971, \"lohn\": 5600, \"lohnJahr\": 67200, \"bonus\": 0.0, \"zulagen\": 840, \"totalLohn\": 68040.0, \"schaetzungObjekt\": 233241.996, \"anzahlung\": 100, \"tragbarkeit\": 100, \"score\": 100}, {\"barvermoegen\": 95332.83547, \"aktienvermoegen\": 494.5776611, \"saeule3a\": 0, \"lebensversicherung\": 0, \"pensionskasse\": 10027.86121, \"totalVermoegen\": 105855.2743, \"lohn\": 5600, \"lohnJahr\": 67200, \"bonus\": 0.0, \"zulagen\": 0, \"totalLohn\": 67200.0, \"schaetzungObjekt\": 1858590.092, \"anzahlung\": 60, \"tragbarkeit\": 10, \"score\": 35}, {\"barvermoegen\": 92011.88721, \"aktienvermoegen\": 833.8347582, \"saeule3a\": 80000, \"lebensversicherung\": 0, \"pensionskasse\": 200700.4696, \"totalVermoegen\": 373546.1915, \"lohn\": 13000, \"lohnJahr\": 156000, \"bonus\": 10029.39771, \"zulagen\": 0, \"totalLohn\": 166029.3977, \"schaetzungObjekt\": 828924.9128, \"anzahlung\": 100, \"tragbarkeit\": 80, \"score\": 90}, {\"barvermoegen\": 20213.50796, \"aktienvermoegen\": 8033.761147, \"saeule3a\": 130000, \"lebensversicherung\": 85000, \"pensionskasse\": 0.0, \"totalVermoegen\": 243247.2691, \"lohn\": 9100, \"lohnJahr\": 109200, \"bonus\": 0.0, \"zulagen\": 0, \"totalLohn\": 109200.0, \"schaetzungObjekt\": 213201.0489, \"anzahlung\": 100, \"tragbarkeit\": 100, \"score\": 100}, {\"barvermoegen\": 54698.57311, \"aktienvermoegen\": 4591.018554, \"saeule3a\": 40000, \"lebensversicherung\": 0, \"pensionskasse\": 20121.75173, \"totalVermoegen\": 119411.3434, \"lohn\": 5600, \"lohnJahr\": 67200, \"bonus\": 0.0, \"zulagen\": 840, \"totalLohn\": 68040.0, \"schaetzungObjekt\": 1056282.425, \"anzahlung\": 0, \"tragbarkeit\": 20, \"score\": 10}, {\"barvermoegen\": 16038.67718, \"aktienvermoegen\": 8589.595422, \"saeule3a\": 40000, \"lebensversicherung\": 0, \"pensionskasse\": 20386.92628, \"totalVermoegen\": 85015.19888, \"lohn\": 5600, \"lohnJahr\": 67200, \"bonus\": 0.0, \"zulagen\": 840, \"totalLohn\": 68040.0, \"schaetzungObjekt\": 423168.2721, \"anzahlung\": 80, \"tragbarkeit\": 70, \"score\": 75}, {\"barvermoegen\": 55696.17905, \"aktienvermoegen\": 4732.524167, \"saeule3a\": 20000, \"lebensversicherung\": 0, \"pensionskasse\": 17170.23679, \"totalVermoegen\": 97598.94001, \"lohn\": 3200, \"lohnJahr\": 38400, \"bonus\": 0.0, \"zulagen\": 480, \"totalLohn\": 38880.0, \"schaetzungObjekt\": 1544633.295, \"anzahlung\": 60, \"tragbarkeit\": 0, \"score\": 30}, {\"barvermoegen\": 7041.813417, \"aktienvermoegen\": 9605.22532, \"saeule3a\": 0, \"lebensversicherung\": 26000, \"pensionskasse\": 10309.40666, \"totalVermoegen\": 52956.4454, \"lohn\": 5600, \"lohnJahr\": 67200, \"bonus\": 0.0, \"zulagen\": 0, \"totalLohn\": 67200.0, \"schaetzungObjekt\": 883317.2146, \"anzahlung\": 60, \"tragbarkeit\": 20, \"score\": 40}, {\"barvermoegen\": 16112.39859, \"aktienvermoegen\": 8747.620578, \"saeule3a\": 20000, \"lebensversicherung\": 0, \"pensionskasse\": 12948.57555, \"totalVermoegen\": 57808.59471, \"lohn\": 5600, \"lohnJahr\": 67200, \"bonus\": 0.0, \"zulagen\": 0, \"totalLohn\": 67200.0, \"schaetzungObjekt\": 1629931.056, \"anzahlung\": 60, \"tragbarkeit\": 10, \"score\": 35}, {\"barvermoegen\": 100855.1612, \"aktienvermoegen\": 292.3072822, \"saeule3a\": 100000, \"lebensversicherung\": 69000, \"pensionskasse\": 0.0, \"totalVermoegen\": 270147.4685, \"lohn\": 9100, \"lohnJahr\": 109200, \"bonus\": 0.0, \"zulagen\": 0, \"totalLohn\": 109200.0, \"schaetzungObjekt\": 716704.4294, \"anzahlung\": 90, \"tragbarkeit\": 70, \"score\": 80}, {\"barvermoegen\": 45210.87905, \"aktienvermoegen\": 5890.29585, \"saeule3a\": 40000, \"lebensversicherung\": 0, \"pensionskasse\": 20822.76751, \"totalVermoegen\": 111923.9424, \"lohn\": 5600, \"lohnJahr\": 67200, \"bonus\": 0.0, \"zulagen\": 840, \"totalLohn\": 68040.0, \"schaetzungObjekt\": 650090.7245, \"anzahlung\": 0, \"tragbarkeit\": 40, \"score\": 20}, {\"barvermoegen\": 8020.966259, \"aktienvermoegen\": 9625.351079, \"saeule3a\": 20000, \"lebensversicherung\": 0, \"pensionskasse\": 17379.07951, \"totalVermoegen\": 55025.39685, \"lohn\": 3200, \"lohnJahr\": 38400, \"bonus\": 0.0, \"zulagen\": 480, \"totalLohn\": 38880.0, \"schaetzungObjekt\": 9148.911728, \"anzahlung\": 100, \"tragbarkeit\": 100, \"score\": 100}, {\"barvermoegen\": 89439.95386, \"aktienvermoegen\": 1566.875721, \"saeule3a\": 130000, \"lebensversicherung\": 0, \"pensionskasse\": 0.0, \"totalVermoegen\": 221006.8296, \"lohn\": 9100, \"lohnJahr\": 109200, \"bonus\": 0.0, \"zulagen\": 0, \"totalLohn\": 109200.0, \"schaetzungObjekt\": 147512.8567, \"anzahlung\": 100, \"tragbarkeit\": 100, \"score\": 100}, {\"barvermoegen\": 42914.75407, \"aktienvermoegen\": 6319.394642, \"saeule3a\": 40000, \"lebensversicherung\": 0, \"pensionskasse\": 53054.35025, \"totalVermoegen\": 142288.499, \"lohn\": 9100, \"lohnJahr\": 109200, \"bonus\": 0.0, \"zulagen\": 0, \"totalLohn\": 109200.0, \"schaetzungObjekt\": 216020.7194, \"anzahlung\": 100, \"tragbarkeit\": 100, \"score\": 100}, {\"barvermoegen\": 70340.96184, \"aktienvermoegen\": 3584.140772, \"saeule3a\": 20000, \"lebensversicherung\": 0, \"pensionskasse\": 13272.7962, \"totalVermoegen\": 107197.8988, \"lohn\": 5600, \"lohnJahr\": 67200, \"bonus\": 0.0, \"zulagen\": 0, \"totalLohn\": 67200.0, \"schaetzungObjekt\": 1635652.781, \"anzahlung\": 60, \"tragbarkeit\": 10, \"score\": 35}, {\"barvermoegen\": 83526.28316, \"aktienvermoegen\": 2272.975548, \"saeule3a\": 100000, \"lebensversicherung\": 0, \"pensionskasse\": 318768.1159, \"totalVermoegen\": 504567.3746, \"lohn\": 9100, \"lohnJahr\": 109200, \"bonus\": 0.0, \"zulagen\": 0, \"totalLohn\": 109200.0, \"schaetzungObjekt\": 1790772.888, \"anzahlung\": 80, \"tragbarkeit\": 20, \"score\": 50}, {\"barvermoegen\": 80712.96941, \"aktienvermoegen\": 2589.726057, \"saeule3a\": 130000, \"lebensversicherung\": 80000, \"pensionskasse\": 0.0, \"totalVermoegen\": 293302.6955, \"lohn\": 13000, \"lohnJahr\": 156000, \"bonus\": 5098.872901, \"zulagen\": 0, \"totalLohn\": 161098.8729, \"schaetzungObjekt\": 184161.3, \"anzahlung\": 100, \"tragbarkeit\": 100, \"score\": 100}, {\"barvermoegen\": 25777.55678, \"aktienvermoegen\": 8112.820214, \"saeule3a\": 40000, \"lebensversicherung\": 0, \"pensionskasse\": 53452.87946, \"totalVermoegen\": 127343.2564, \"lohn\": 9100, \"lohnJahr\": 109200, \"bonus\": 0.0, \"zulagen\": 0, \"totalLohn\": 109200.0, \"schaetzungObjekt\": 148911.3939, \"anzahlung\": 100, \"tragbarkeit\": 100, \"score\": 100}, {\"barvermoegen\": 2642.733672, \"aktienvermoegen\": 10432.23698, \"saeule3a\": 20000, \"lebensversicherung\": 0, \"pensionskasse\": 13370.63793, \"totalVermoegen\": 46445.60858, \"lohn\": 5600, \"lohnJahr\": 67200, \"bonus\": 0.0, \"zulagen\": 0, \"totalLohn\": 67200.0, \"schaetzungObjekt\": 666893.8268, \"anzahlung\": 60, \"tragbarkeit\": 40, \"score\": 50}, {\"barvermoegen\": 89547.04269, \"aktienvermoegen\": 1807.016845, \"saeule3a\": 100000, \"lebensversicherung\": 0, \"pensionskasse\": 0.0, \"totalVermoegen\": 191354.0595, \"lohn\": 5600, \"lohnJahr\": 67200, \"bonus\": 0.0, \"zulagen\": 840, \"totalLohn\": 68040.0, \"schaetzungObjekt\": 1455544.56, \"anzahlung\": 0, \"tragbarkeit\": 10, \"score\": 5}, {\"barvermoegen\": 18800.05753, \"aktienvermoegen\": 8930.74281, \"saeule3a\": 130000, \"lebensversicherung\": 85000, \"pensionskasse\": 0.0, \"totalVermoegen\": 242730.8003, \"lohn\": 9100, \"lohnJahr\": 109200, \"bonus\": 0.0, \"zulagen\": 0, \"totalLohn\": 109200.0, \"schaetzungObjekt\": 1624865.66, \"anzahlung\": 0, \"tragbarkeit\": 20, \"score\": 10}, {\"barvermoegen\": 96500.80604, \"aktienvermoegen\": 1185.974649, \"saeule3a\": 40000, \"lebensversicherung\": 45000, \"pensionskasse\": 54180.27627, \"totalVermoegen\": 236867.057, \"lohn\": 9100, \"lohnJahr\": 109200, \"bonus\": 0.0, \"zulagen\": 0, \"totalLohn\": 109200.0, \"schaetzungObjekt\": 887044.3112, \"anzahlung\": 80, \"tragbarkeit\": 50, \"score\": 65}, {\"barvermoegen\": 48383.55678, \"aktienvermoegen\": 6012.603919, \"saeule3a\": 40000, \"lebensversicherung\": 0, \"pensionskasse\": 21701.9192, \"totalVermoegen\": 116098.0799, \"lohn\": 5600, \"lohnJahr\": 67200, \"bonus\": 0.0, \"zulagen\": 840, \"totalLohn\": 68040.0, \"schaetzungObjekt\": 564616.6644, \"anzahlung\": 80, \"tragbarkeit\": 40, \"score\": 60}, {\"barvermoegen\": 62632.27433, \"aktienvermoegen\": 4605.620789, \"saeule3a\": 130000, \"lebensversicherung\": 0, \"pensionskasse\": 0.0, \"totalVermoegen\": 197237.8951, \"lohn\": 5600, \"lohnJahr\": 67200, \"bonus\": 0.0, \"zulagen\": 840, \"totalLohn\": 68040.0, \"schaetzungObjekt\": 506495.6454, \"anzahlung\": 90, \"tragbarkeit\": 50, \"score\": 70}, {\"barvermoegen\": 62840.07817, \"aktienvermoegen\": 4593.810296, \"saeule3a\": 20000, \"lebensversicherung\": 39000, \"pensionskasse\": 13597.27264, \"totalVermoegen\": 140031.1611, \"lohn\": 5600, \"lohnJahr\": 67200, \"bonus\": 0.0, \"zulagen\": 0, \"totalLohn\": 67200.0, \"schaetzungObjekt\": 1789176.025, \"anzahlung\": 60, \"tragbarkeit\": 10, \"score\": 35}, {\"barvermoegen\": 42865.00541, \"aktienvermoegen\": 6621.194473, \"saeule3a\": 80000, \"lebensversicherung\": 0, \"pensionskasse\": 27269.23753, \"totalVermoegen\": 156755.4374, \"lohn\": 5600, \"lohnJahr\": 67200, \"bonus\": 0.0, \"zulagen\": 840, \"totalLohn\": 68040.0, \"schaetzungObjekt\": 1689546.972, \"anzahlung\": 60, \"tragbarkeit\": 10, \"score\": 35}, {\"barvermoegen\": 47704.41077, \"aktienvermoegen\": 6152.192388, \"saeule3a\": 100000, \"lebensversicherung\": 0, \"pensionskasse\": 327679.0039, \"totalVermoegen\": 481535.6071, \"lohn\": 9100, \"lohnJahr\": 109200, \"bonus\": 0.0, \"zulagen\": 0, \"totalLohn\": 109200.0, \"schaetzungObjekt\": 532523.8474, \"anzahlung\": 100, \"tragbarkeit\": 80, \"score\": 90}, {\"barvermoegen\": 14632.82194, \"aktienvermoegen\": 9531.280933, \"saeule3a\": 20000, \"lebensversicherung\": 0, \"pensionskasse\": 13743.20391, \"totalVermoegen\": 57907.30678, \"lohn\": 5600, \"lohnJahr\": 67200, \"bonus\": 0.0, \"zulagen\": 0, \"totalLohn\": 67200.0, \"schaetzungObjekt\": 565543.5367, \"anzahlung\": 0, \"tragbarkeit\": 40, \"score\": 20}, {\"barvermoegen\": 20628.45471, \"aktienvermoegen\": 8939.220987, \"saeule3a\": 130000, \"lebensversicherung\": 0, \"pensionskasse\": 0.0, \"totalVermoegen\": 159567.6757, \"lohn\": 9100, \"lohnJahr\": 109200, \"bonus\": 0.0, \"zulagen\": 0, \"totalLohn\": 109200.0, \"schaetzungObjekt\": 1525482.618, \"anzahlung\": 0, \"tragbarkeit\": 20, \"score\": 10}, {\"barvermoegen\": 33428.28484, \"aktienvermoegen\": 7714.864943, \"saeule3a\": 20000, \"lebensversicherung\": 34000, \"pensionskasse\": 13822.11678, \"totalVermoegen\": 108965.2666, \"lohn\": 5600, \"lohnJahr\": 67200, \"bonus\": 0.0, \"zulagen\": 0, \"totalLohn\": 67200.0, \"schaetzungObjekt\": 641516.6523, \"anzahlung\": 0, \"tragbarkeit\": 40, \"score\": 20}, {\"barvermoegen\": 33678.66501, \"aktienvermoegen\": 7753.178917, \"saeule3a\": 130000, \"lebensversicherung\": 79000, \"pensionskasse\": 0.0, \"totalVermoegen\": 250431.8439, \"lohn\": 9100, \"lohnJahr\": 109200, \"bonus\": 0.0, \"zulagen\": 0, \"totalLohn\": 109200.0, \"schaetzungObjekt\": 1901771.284, \"anzahlung\": 0, \"tragbarkeit\": 10, \"score\": 5}, {\"barvermoegen\": 79718.53167, \"aktienvermoegen\": 3179.427265, \"saeule3a\": 130000, \"lebensversicherung\": 0, \"pensionskasse\": 0.0, \"totalVermoegen\": 212897.9589, \"lohn\": 9100, \"lohnJahr\": 109200, \"bonus\": 0.0, \"zulagen\": 0, \"totalLohn\": 109200.0, \"schaetzungObjekt\": 1927264.683, \"anzahlung\": 0, \"tragbarkeit\": 10, \"score\": 5}, {\"barvermoegen\": 83722.34629, \"aktienvermoegen\": 2786.617347, \"saeule3a\": 130000, \"lebensversicherung\": 0, \"pensionskasse\": 0.0, \"totalVermoegen\": 216508.9636, \"lohn\": 5600, \"lohnJahr\": 67200, \"bonus\": 0.0, \"zulagen\": 840, \"totalLohn\": 68040.0, \"schaetzungObjekt\": 546176.5336, \"anzahlung\": 90, \"tragbarkeit\": 50, \"score\": 70}, {\"barvermoegen\": 44484.24672, \"aktienvermoegen\": 6740.713477, \"saeule3a\": 20000, \"lebensversicherung\": 0, \"pensionskasse\": 18648.56358, \"totalVermoegen\": 89873.52378, \"lohn\": 3200, \"lohnJahr\": 38400, \"bonus\": 0.0, \"zulagen\": 480, \"totalLohn\": 38880.0, \"schaetzungObjekt\": 1543541.267, \"anzahlung\": 60, \"tragbarkeit\": 0, \"score\": 30}, {\"barvermoegen\": 60156.61203, \"aktienvermoegen\": 5263.073543, \"saeule3a\": 80000, \"lebensversicherung\": 0, \"pensionskasse\": 28196.83687, \"totalVermoegen\": 173616.5224, \"lohn\": 5600, \"lohnJahr\": 67200, \"bonus\": 0.0, \"zulagen\": 840, \"totalLohn\": 68040.0, \"schaetzungObjekt\": 511831.0045, \"anzahlung\": 90, \"tragbarkeit\": 50, \"score\": 70}, {\"barvermoegen\": 59630.34239, \"aktienvermoegen\": 5427.159083, \"saeule3a\": 20000, \"lebensversicherung\": 34000, \"pensionskasse\": 14237.74165, \"totalVermoegen\": 133295.2431, \"lohn\": 5600, \"lohnJahr\": 67200, \"bonus\": 0.0, \"zulagen\": 0, \"totalLohn\": 67200.0, \"schaetzungObjekt\": 125269.9505, \"anzahlung\": 100, \"tragbarkeit\": 100, \"score\": 100}, {\"barvermoegen\": 89231.67555, \"aktienvermoegen\": 2629.98448, \"saeule3a\": 40000, \"lebensversicherung\": 0, \"pensionskasse\": 57765.76018, \"totalVermoegen\": 189627.4202, \"lohn\": 9100, \"lohnJahr\": 109200, \"bonus\": 0.0, \"zulagen\": 0, \"totalLohn\": 109200.0, \"schaetzungObjekt\": 832344.4981, \"anzahlung\": 80, \"tragbarkeit\": 50, \"score\": 65}, {\"barvermoegen\": 31785.55296, \"aktienvermoegen\": 8385.408357, \"saeule3a\": 20000, \"lebensversicherung\": 0, \"pensionskasse\": 19273.27276, \"totalVermoegen\": 79444.23407, \"lohn\": 3200, \"lohnJahr\": 38400, \"bonus\": 0.0, \"zulagen\": 480, \"totalLohn\": 38880.0, \"schaetzungObjekt\": 1514019.527, \"anzahlung\": 60, \"tragbarkeit\": 0, \"score\": 30}, {\"barvermoegen\": 63568.87241, \"aktienvermoegen\": 5214.78438, \"saeule3a\": 130000, \"lebensversicherung\": 0, \"pensionskasse\": 0.0, \"totalVermoegen\": 198783.6568, \"lohn\": 13000, \"lohnJahr\": 156000, \"bonus\": 24659.82389, \"zulagen\": 0, \"totalLohn\": 180659.8239, \"schaetzungObjekt\": 368893.1922, \"anzahlung\": 100, \"tragbarkeit\": 100, \"score\": 100}, {\"barvermoegen\": 76853.83685, \"aktienvermoegen\": 4013.401189, \"saeule3a\": 20000, \"lebensversicherung\": 0, \"pensionskasse\": 19497.97479, \"totalVermoegen\": 120365.2128, \"lohn\": 3200, \"lohnJahr\": 38400, \"bonus\": 0.0, \"zulagen\": 480, \"totalLohn\": 38880.0, \"schaetzungObjekt\": 1490588.484, \"anzahlung\": 60, \"tragbarkeit\": 0, \"score\": 30}, {\"barvermoegen\": 25663.50867, \"aktienvermoegen\": 9200.98717, \"saeule3a\": 20000, \"lebensversicherung\": 30000, \"pensionskasse\": 14709.17255, \"totalVermoegen\": 99573.66839, \"lohn\": 5600, \"lohnJahr\": 67200, \"bonus\": 0.0, \"zulagen\": 0, \"totalLohn\": 67200.0, \"schaetzungObjekt\": 1020392.145, \"anzahlung\": 60, \"tragbarkeit\": 20, \"score\": 40}, {\"barvermoegen\": 18778.75248, \"aktienvermoegen\": 9895.721249, \"saeule3a\": 130000, \"lebensversicherung\": 0, \"pensionskasse\": 0.0, \"totalVermoegen\": 158674.4737, \"lohn\": 9100, \"lohnJahr\": 109200, \"bonus\": 0.0, \"zulagen\": 0, \"totalLohn\": 109200.0, \"schaetzungObjekt\": 632417.7921, \"anzahlung\": 80, \"tragbarkeit\": 70, \"score\": 75}, {\"barvermoegen\": 40816.41453, \"aktienvermoegen\": 7696.644627, \"saeule3a\": 40000, \"lebensversicherung\": 0, \"pensionskasse\": 58891.4304, \"totalVermoegen\": 147404.4896, \"lohn\": 13000, \"lohnJahr\": 156000, \"bonus\": 23712.77347, \"zulagen\": 0, \"totalLohn\": 179712.7735, \"schaetzungObjekt\": 804760.1761, \"anzahlung\": 0, \"tragbarkeit\": 80, \"score\": 40}, {\"barvermoegen\": 77550.30401, \"aktienvermoegen\": 4084.271404, \"saeule3a\": 40000, \"lebensversicherung\": 42000, \"pensionskasse\": 59196.50903, \"totalVermoegen\": 222831.0844, \"lohn\": 9100, \"lohnJahr\": 109200, \"bonus\": 0.0, \"zulagen\": 0, \"totalLohn\": 109200.0, \"schaetzungObjekt\": 1751082.148, \"anzahlung\": 0, \"tragbarkeit\": 20, \"score\": 10}, {\"barvermoegen\": 94650.65472, \"aktienvermoegen\": 2380.477741, \"saeule3a\": 0, \"lebensversicherung\": 0, \"pensionskasse\": 11845.54321, \"totalVermoegen\": 108876.6757, \"lohn\": 5600, \"lohnJahr\": 67200, \"bonus\": 0.0, \"zulagen\": 0, \"totalLohn\": 67200.0, \"schaetzungObjekt\": 623522.8555, \"anzahlung\": 0, \"tragbarkeit\": 40, \"score\": 20}, {\"barvermoegen\": 60709.07881, \"aktienvermoegen\": 5821.735789, \"saeule3a\": 80000, \"lebensversicherung\": 55000, \"pensionskasse\": 237852.8734, \"totalVermoegen\": 439383.688, \"lohn\": 13000, \"lohnJahr\": 156000, \"bonus\": 28756.70781, \"zulagen\": 0, \"totalLohn\": 184756.7078, \"schaetzungObjekt\": 1244016.142, \"anzahlung\": 90, \"tragbarkeit\": 50, \"score\": 70}, {\"barvermoegen\": 87284.07816, \"aktienvermoegen\": 3254.00298, \"saeule3a\": 40000, \"lebensversicherung\": 0, \"pensionskasse\": 23964.82159, \"totalVermoegen\": 154502.9027, \"lohn\": 5600, \"lohnJahr\": 67200, \"bonus\": 0.0, \"zulagen\": 840, \"totalLohn\": 68040.0, \"schaetzungObjekt\": 1199835.027, \"anzahlung\": 0, \"tragbarkeit\": 10, \"score\": 5}, {\"barvermoegen\": 113509.0157, \"aktienvermoegen\": 655.2129289, \"saeule3a\": 0, \"lebensversicherung\": 0, \"pensionskasse\": 15007.64313, \"totalVermoegen\": 129171.8718, \"lohn\": 3200, \"lohnJahr\": 38400, \"bonus\": 0.0, \"zulagen\": 480, \"totalLohn\": 38880.0, \"schaetzungObjekt\": 841416.9898, \"anzahlung\": 0, \"tragbarkeit\": 10, \"score\": 5}, {\"barvermoegen\": 29048.55138, \"aktienvermoegen\": 9101.259365, \"saeule3a\": 0, \"lebensversicherung\": 0, \"pensionskasse\": 15007.64313, \"totalVermoegen\": 53157.45387, \"lohn\": 3200, \"lohnJahr\": 38400, \"bonus\": 0.0, \"zulagen\": 480, \"totalLohn\": 38880.0, \"schaetzungObjekt\": 315092.4965, \"anzahlung\": 0, \"tragbarkeit\": 50, \"score\": 25}, {\"barvermoegen\": 85838.13322, \"aktienvermoegen\": 3465.036063, \"saeule3a\": 40000, \"lebensversicherung\": 0, \"pensionskasse\": 60244.24692, \"totalVermoegen\": 189547.4162, \"lohn\": 13000, \"lohnJahr\": 156000, \"bonus\": 23729.07078, \"zulagen\": 0, \"totalLohn\": 179729.0708, \"schaetzungObjekt\": 1707206.529, \"anzahlung\": 0, \"tragbarkeit\": 40, \"score\": 20}, {\"barvermoegen\": 37532.54435, \"aktienvermoegen\": 8314.59202, \"saeule3a\": 40000, \"lebensversicherung\": 0, \"pensionskasse\": 60339.23228, \"totalVermoegen\": 146186.3687, \"lohn\": 9100, \"lohnJahr\": 109200, \"bonus\": 0.0, \"zulagen\": 0, \"totalLohn\": 109200.0, \"schaetzungObjekt\": 1406206.702, \"anzahlung\": 0, \"tragbarkeit\": 20, \"score\": 10}, {\"barvermoegen\": 12483.69424, \"aktienvermoegen\": 10819.47703, \"saeule3a\": 20000, \"lebensversicherung\": 0, \"pensionskasse\": 15084.80807, \"totalVermoegen\": 58387.97934, \"lohn\": 5600, \"lohnJahr\": 67200, \"bonus\": 0.0, \"zulagen\": 0, \"totalLohn\": 67200.0, \"schaetzungObjekt\": 918558.3147, \"anzahlung\": 60, \"tragbarkeit\": 20, \"score\": 40}, {\"barvermoegen\": 111471.795, \"aktienvermoegen\": 946.0759609, \"saeule3a\": 130000, \"lebensversicherung\": 0, \"pensionskasse\": 0.0, \"totalVermoegen\": 242417.871, \"lohn\": 5600, \"lohnJahr\": 67200, \"bonus\": 0.0, \"zulagen\": 840, \"totalLohn\": 68040.0, \"schaetzungObjekt\": 1539988.703, \"anzahlung\": 0, \"tragbarkeit\": 10, \"score\": 5}, {\"barvermoegen\": 5010.928727, \"aktienvermoegen\": 11636.67099, \"saeule3a\": 130000, \"lebensversicherung\": 84000, \"pensionskasse\": 0.0, \"totalVermoegen\": 230647.5997, \"lohn\": 13000, \"lohnJahr\": 156000, \"bonus\": 6490.980053, \"zulagen\": 0, \"totalLohn\": 162490.9801, \"schaetzungObjekt\": 1653300.017, \"anzahlung\": 0, \"tragbarkeit\": 40, \"score\": 20}, {\"barvermoegen\": 33141.44886, \"aktienvermoegen\": 8863.454843, \"saeule3a\": 20000, \"lebensversicherung\": 35000, \"pensionskasse\": 15221.99966, \"totalVermoegen\": 112226.9034, \"lohn\": 5600, \"lohnJahr\": 67200, \"bonus\": 0.0, \"zulagen\": 0, \"totalLohn\": 67200.0, \"schaetzungObjekt\": 595373.9312, \"anzahlung\": 0, \"tragbarkeit\": 40, \"score\": 20}, {\"barvermoegen\": 100852.8493, \"aktienvermoegen\": 2097.123748, \"saeule3a\": 130000, \"lebensversicherung\": 0, \"pensionskasse\": 0.0, \"totalVermoegen\": 232949.9731, \"lohn\": 13000, \"lohnJahr\": 156000, \"bonus\": 1247.972058, \"zulagen\": 0, \"totalLohn\": 157247.9721, \"schaetzungObjekt\": 924739.8897, \"anzahlung\": 80, \"tragbarkeit\": 70, \"score\": 75}, {\"barvermoegen\": 50911.51629, \"aktienvermoegen\": 7176.010591, \"saeule3a\": 40000, \"lebensversicherung\": 43000, \"pensionskasse\": 61335.8111, \"totalVermoegen\": 202423.338, \"lohn\": 13000, \"lohnJahr\": 156000, \"bonus\": 6756.68443, \"zulagen\": 0, \"totalLohn\": 162756.6844, \"schaetzungObjekt\": 365435.2289, \"anzahlung\": 100, \"tragbarkeit\": 100, \"score\": 100}, {\"barvermoegen\": 53885.17427, \"aktienvermoegen\": 6925.199552, \"saeule3a\": 40000, \"lebensversicherung\": 45000, \"pensionskasse\": 61568.5849, \"totalVermoegen\": 207378.9587, \"lohn\": 9100, \"lohnJahr\": 109200, \"bonus\": 0.0, \"zulagen\": 0, \"totalLohn\": 109200.0, \"schaetzungObjekt\": 460343.4206, \"anzahlung\": 100, \"tragbarkeit\": 100, \"score\": 100}, {\"barvermoegen\": 92341.07398, \"aktienvermoegen\": 3092.467563, \"saeule3a\": 20000, \"lebensversicherung\": 36000, \"pensionskasse\": 15408.2187, \"totalVermoegen\": 166841.7602, \"lohn\": 8000, \"lohnJahr\": 96000, \"bonus\": 25855.32782, \"zulagen\": 0, \"totalLohn\": 121855.3278, \"schaetzungObjekt\": 1947698.368, \"anzahlung\": 60, \"tragbarkeit\": 10, \"score\": 35}, {\"barvermoegen\": 93955.16658, \"aktienvermoegen\": 2931.058302, \"saeule3a\": 40000, \"lebensversicherung\": 0, \"pensionskasse\": 61632.8748, \"totalVermoegen\": 198519.0997, \"lohn\": 9100, \"lohnJahr\": 109200, \"bonus\": 0.0, \"zulagen\": 0, \"totalLohn\": 109200.0, \"schaetzungObjekt\": 209512.9112, \"anzahlung\": 100, \"tragbarkeit\": 100, \"score\": 100}, {\"barvermoegen\": 40988.50033, \"aktienvermoegen\": 8240.617015, \"saeule3a\": 100000, \"lebensversicherung\": 0, \"pensionskasse\": 0.0, \"totalVermoegen\": 149229.1173, \"lohn\": 13000, \"lohnJahr\": 156000, \"bonus\": 27236.69381, \"zulagen\": 0, \"totalLohn\": 183236.6938, \"schaetzungObjekt\": 88576.8838, \"anzahlung\": 100, \"tragbarkeit\": 100, \"score\": 100}, {\"barvermoegen\": 71491.52448, \"aktienvermoegen\": 5209.618625, \"saeule3a\": 130000, \"lebensversicherung\": 0, \"pensionskasse\": 0.0, \"totalVermoegen\": 206701.1431, \"lohn\": 13000, \"lohnJahr\": 156000, \"bonus\": 11430.1808, \"zulagen\": 0, \"totalLohn\": 167430.1808, \"schaetzungObjekt\": 1796528.759, \"anzahlung\": 0, \"tragbarkeit\": 20, \"score\": 10}, {\"barvermoegen\": 22847.43548, \"aktienvermoegen\": 10128.90416, \"saeule3a\": 40000, \"lebensversicherung\": 43000, \"pensionskasse\": 62068.23855, \"totalVermoegen\": 178044.5782, \"lohn\": 9100, \"lohnJahr\": 109200, \"bonus\": 0.0, \"zulagen\": 0, \"totalLohn\": 109200.0, \"schaetzungObjekt\": 1468989.582, \"anzahlung\": 0, \"tragbarkeit\": 20, \"score\": 10}, {\"barvermoegen\": 24631.04768, \"aktienvermoegen\": 9987.752644, \"saeule3a\": 130000, \"lebensversicherung\": 0, \"pensionskasse\": 0.0, \"totalVermoegen\": 164618.8003, \"lohn\": 5600, \"lohnJahr\": 67200, \"bonus\": 0.0, \"zulagen\": 840, \"totalLohn\": 68040.0, \"schaetzungObjekt\": 1154362.377, \"anzahlung\": 0, \"tragbarkeit\": 10, \"score\": 5}, {\"barvermoegen\": 13336.08778, \"aktienvermoegen\": 11213.05253, \"saeule3a\": 40000, \"lebensversicherung\": 0, \"pensionskasse\": 25093.32262, \"totalVermoegen\": 89642.46293, \"lohn\": 5600, \"lohnJahr\": 67200, \"bonus\": 0.0, \"zulagen\": 840, \"totalLohn\": 68040.0, \"schaetzungObjekt\": 1968392.942, \"anzahlung\": 60, \"tragbarkeit\": 10, \"score\": 35}, {\"barvermoegen\": 91750.39846, \"aktienvermoegen\": 3387.89005, \"saeule3a\": 80000, \"lebensversicherung\": 0, \"pensionskasse\": 31407.32474, \"totalVermoegen\": 206545.6133, \"lohn\": 5600, \"lohnJahr\": 67200, \"bonus\": 0.0, \"zulagen\": 840, \"totalLohn\": 68040.0, \"schaetzungObjekt\": 567941.5461, \"anzahlung\": 90, \"tragbarkeit\": 40, \"score\": 65}, {\"barvermoegen\": 89765.97366, \"aktienvermoegen\": 3597.758057, \"saeule3a\": 20000, \"lebensversicherung\": 0, \"pensionskasse\": 20957.25904, \"totalVermoegen\": 134320.9908, \"lohn\": 3200, \"lohnJahr\": 38400, \"bonus\": 0.0, \"zulagen\": 480, \"totalLohn\": 38880.0, \"schaetzungObjekt\": 1206213.541, \"anzahlung\": 0, \"tragbarkeit\": 10, \"score\": 5}, {\"barvermoegen\": 77139.88686, \"aktienvermoegen\": 4896.28041, \"saeule3a\": 130000, \"lebensversicherung\": 0, \"pensionskasse\": 0.0, \"totalVermoegen\": 212036.1673, \"lohn\": 9100, \"lohnJahr\": 109200, \"bonus\": 0.0, \"zulagen\": 0, \"totalLohn\": 109200.0, \"schaetzungObjekt\": 1945109.37, \"anzahlung\": 0, \"tragbarkeit\": 10, \"score\": 5}, {\"barvermoegen\": 81818.91312, \"aktienvermoegen\": 4576.02288, \"saeule3a\": 80000, \"lebensversicherung\": 50000, \"pensionskasse\": 255158.2838, \"totalVermoegen\": 471553.2198, \"lohn\": 9100, \"lohnJahr\": 109200, \"bonus\": 0.0, \"zulagen\": 0, \"totalLohn\": 109200.0, \"schaetzungObjekt\": 1941649.515, \"anzahlung\": 80, \"tragbarkeit\": 10, \"score\": 45}, {\"barvermoegen\": 119573.3344, \"aktienvermoegen\": 874.863732, \"saeule3a\": 0, \"lebensversicherung\": 0, \"pensionskasse\": 12832.19717, \"totalVermoegen\": 133280.3953, \"lohn\": 5600, \"lohnJahr\": 67200, \"bonus\": 0.0, \"zulagen\": 0, \"totalLohn\": 67200.0, \"schaetzungObjekt\": 394326.63, \"anzahlung\": 90, \"tragbarkeit\": 70, \"score\": 80}, {\"barvermoegen\": 39751.02893, \"aktienvermoegen\": 8891.882451, \"saeule3a\": 80000, \"lebensversicherung\": 0, \"pensionskasse\": 257339.7069, \"totalVermoegen\": 385982.6183, \"lohn\": 9100, \"lohnJahr\": 109200, \"bonus\": 0.0, \"zulagen\": 0, \"totalLohn\": 109200.0, \"schaetzungObjekt\": 77625.8277, \"anzahlung\": 100, \"tragbarkeit\": 100, \"score\": 100}, {\"barvermoegen\": 90344.19787, \"aktienvermoegen\": 3837.545041, \"saeule3a\": 80000, \"lebensversicherung\": 0, \"pensionskasse\": 32179.91207, \"totalVermoegen\": 206361.655, \"lohn\": 5600, \"lohnJahr\": 67200, \"bonus\": 0.0, \"zulagen\": 840, \"totalLohn\": 68040.0, \"schaetzungObjekt\": 144510.0211, \"anzahlung\": 100, \"tragbarkeit\": 100, \"score\": 100}, {\"barvermoegen\": 109151.3154, \"aktienvermoegen\": 1996.669159, \"saeule3a\": 80000, \"lebensversicherung\": 0, \"pensionskasse\": 258236.0139, \"totalVermoegen\": 449383.9984, \"lohn\": 9100, \"lohnJahr\": 109200, \"bonus\": 0.0, \"zulagen\": 0, \"totalLohn\": 109200.0, \"schaetzungObjekt\": 874374.3514, \"anzahlung\": 100, \"tragbarkeit\": 50, \"score\": 75}, {\"barvermoegen\": 128874.5274, \"aktienvermoegen\": 85.9605379, \"saeule3a\": 80000, \"lebensversicherung\": 55000, \"pensionskasse\": 259468.2655, \"totalVermoegen\": 523428.7535, \"lohn\": 13000, \"lohnJahr\": 156000, \"bonus\": 5028.238647, \"zulagen\": 0, \"totalLohn\": 161028.2386, \"schaetzungObjekt\": 1806663.296, \"anzahlung\": 80, \"tragbarkeit\": 20, \"score\": 50}, {\"barvermoegen\": 57801.08622, \"aktienvermoegen\": 7253.450677, \"saeule3a\": 20000, \"lebensversicherung\": 0, \"pensionskasse\": 21722.59883, \"totalVermoegen\": 106777.1357, \"lohn\": 3200, \"lohnJahr\": 38400, \"bonus\": 0.0, \"zulagen\": 480, \"totalLohn\": 38880.0, \"schaetzungObjekt\": 477534.4983, \"anzahlung\": 80, \"tragbarkeit\": 20, \"score\": 50}, {\"barvermoegen\": 15203.84201, \"aktienvermoegen\": 11513.1751, \"saeule3a\": 130000, \"lebensversicherung\": 0, \"pensionskasse\": 0.0, \"totalVermoegen\": 156717.0171, \"lohn\": 9100, \"lohnJahr\": 109200, \"bonus\": 0.0, \"zulagen\": 0, \"totalLohn\": 109200.0, \"schaetzungObjekt\": 1302977.134, \"anzahlung\": 0, \"tragbarkeit\": 20, \"score\": 10}, {\"barvermoegen\": 107012.9642, \"aktienvermoegen\": 2434.683354, \"saeule3a\": 80000, \"lebensversicherung\": 0, \"pensionskasse\": 262719.5954, \"totalVermoegen\": 452167.2429, \"lohn\": 9100, \"lohnJahr\": 109200, \"bonus\": 0.0, \"zulagen\": 0, \"totalLohn\": 109200.0, \"schaetzungObjekt\": 1255857.797, \"anzahlung\": 90, \"tragbarkeit\": 20, \"score\": 55}, {\"barvermoegen\": 38567.85681, \"aktienvermoegen\": 9279.19409, \"saeule3a\": 130000, \"lebensversicherung\": 0, \"pensionskasse\": 0.0, \"totalVermoegen\": 177847.0509, \"lohn\": 9100, \"lohnJahr\": 109200, \"bonus\": 0.0, \"zulagen\": 0, \"totalLohn\": 109200.0, \"schaetzungObjekt\": 668528.4454, \"anzahlung\": 80, \"tragbarkeit\": 70, \"score\": 75}, {\"barvermoegen\": 79472.2739, \"aktienvermoegen\": 5256.21415, \"saeule3a\": 20000, \"lebensversicherung\": 35000, \"pensionskasse\": 16504.30193, \"totalVermoegen\": 156232.79, \"lohn\": 8000, \"lohnJahr\": 96000, \"bonus\": 4233.768281, \"zulagen\": 0, \"totalLohn\": 100233.7683, \"schaetzungObjekt\": 988939.6943, \"anzahlung\": 0, \"tragbarkeit\": 40, \"score\": 20}, {\"barvermoegen\": 78458.11228, \"aktienvermoegen\": 5399.955922, \"saeule3a\": 130000, \"lebensversicherung\": 0, \"pensionskasse\": 0.0, \"totalVermoegen\": 213858.0682, \"lohn\": 5600, \"lohnJahr\": 67200, \"bonus\": 0.0, \"zulagen\": 840, \"totalLohn\": 68040.0, \"schaetzungObjekt\": 1403754.698, \"anzahlung\": 0, \"tragbarkeit\": 10, \"score\": 5}, {\"barvermoegen\": 96912.6433, \"aktienvermoegen\": 3639.426887, \"saeule3a\": 130000, \"lebensversicherung\": 0, \"pensionskasse\": 0.0, \"totalVermoegen\": 230552.0702, \"lohn\": 5600, \"lohnJahr\": 67200, \"bonus\": 0.0, \"zulagen\": 840, \"totalLohn\": 68040.0, \"schaetzungObjekt\": 623879.3952, \"anzahlung\": 90, \"tragbarkeit\": 40, \"score\": 65}, {\"barvermoegen\": 59693.90111, \"aktienvermoegen\": 7373.238224, \"saeule3a\": 130000, \"lebensversicherung\": 0, \"pensionskasse\": 0.0, \"totalVermoegen\": 197067.1393, \"lohn\": 5600, \"lohnJahr\": 67200, \"bonus\": 0.0, \"zulagen\": 840, \"totalLohn\": 68040.0, \"schaetzungObjekt\": 1148451.985, \"anzahlung\": 0, \"tragbarkeit\": 10, \"score\": 5}, {\"barvermoegen\": 18006.68919, \"aktienvermoegen\": 11543.66472, \"saeule3a\": 130000, \"lebensversicherung\": 0, \"pensionskasse\": 0.0, \"totalVermoegen\": 159550.3539, \"lohn\": 9100, \"lohnJahr\": 109200, \"bonus\": 0.0, \"zulagen\": 0, \"totalLohn\": 109200.0, \"schaetzungObjekt\": 406512.8512, \"anzahlung\": 90, \"tragbarkeit\": 100, \"score\": 95}, {\"barvermoegen\": 9111.291301, \"aktienvermoegen\": 12440.02572, \"saeule3a\": 130000, \"lebensversicherung\": 0, \"pensionskasse\": 0.0, \"totalVermoegen\": 151551.317, \"lohn\": 9100, \"lohnJahr\": 109200, \"bonus\": 0.0, \"zulagen\": 0, \"totalLohn\": 109200.0, \"schaetzungObjekt\": 959519.3644, \"anzahlung\": 0, \"tragbarkeit\": 40, \"score\": 20}, {\"barvermoegen\": 29392.67367, \"aktienvermoegen\": 10557.45211, \"saeule3a\": 130000, \"lebensversicherung\": 74000, \"pensionskasse\": 0.0, \"totalVermoegen\": 243950.1258, \"lohn\": 13000, \"lohnJahr\": 156000, \"bonus\": 19657.73273, \"zulagen\": 0, \"totalLohn\": 175657.7327, \"schaetzungObjekt\": 556255.145, \"anzahlung\": 100, \"tragbarkeit\": 100, \"score\": 100}, {\"barvermoegen\": 49265.27029, \"aktienvermoegen\": 8656.412544, \"saeule3a\": 40000, \"lebensversicherung\": 0, \"pensionskasse\": 67914.69787, \"totalVermoegen\": 165836.3807, \"lohn\": 13000, \"lohnJahr\": 156000, \"bonus\": 14437.10086, \"zulagen\": 0, \"totalLohn\": 170437.1009, \"schaetzungObjekt\": 1656614.592, \"anzahlung\": 0, \"tragbarkeit\": 40, \"score\": 20}, {\"barvermoegen\": 32415.36587, \"aktienvermoegen\": 10372.57592, \"saeule3a\": 130000, \"lebensversicherung\": 0, \"pensionskasse\": 0.0, \"totalVermoegen\": 172787.9418, \"lohn\": 5600, \"lohnJahr\": 67200, \"bonus\": 0.0, \"zulagen\": 840, \"totalLohn\": 68040.0, \"schaetzungObjekt\": 1077682.482, \"anzahlung\": 0, \"tragbarkeit\": 20, \"score\": 10}, {\"barvermoegen\": 92967.5243, \"aktienvermoegen\": 4320.804786, \"saeule3a\": 130000, \"lebensversicherung\": 79000, \"pensionskasse\": 0.0, \"totalVermoegen\": 306288.3291, \"lohn\": 13000, \"lohnJahr\": 156000, \"bonus\": 1040.513487, \"zulagen\": 0, \"totalLohn\": 157040.5135, \"schaetzungObjekt\": 593334.8192, \"anzahlung\": 100, \"tragbarkeit\": 100, \"score\": 100}, {\"barvermoegen\": 57183.38517, \"aktienvermoegen\": 7906.176332, \"saeule3a\": 130000, \"lebensversicherung\": 72000, \"pensionskasse\": 0.0, \"totalVermoegen\": 267089.5615, \"lohn\": 9100, \"lohnJahr\": 109200, \"bonus\": 0.0, \"zulagen\": 0, \"totalLohn\": 109200.0, \"schaetzungObjekt\": 1806122.673, \"anzahlung\": 0, \"tragbarkeit\": 20, \"score\": 10}, {\"barvermoegen\": 56132.3334, \"aktienvermoegen\": 8108.62018, \"saeule3a\": 130000, \"lebensversicherung\": 0, \"pensionskasse\": 0.0, \"totalVermoegen\": 194240.9536, \"lohn\": 5600, \"lohnJahr\": 67200, \"bonus\": 0.0, \"zulagen\": 840, \"totalLohn\": 68040.0, \"schaetzungObjekt\": 1706186.015, \"anzahlung\": 0, \"tragbarkeit\": 10, \"score\": 5}, {\"barvermoegen\": 25887.05535, \"aktienvermoegen\": 11141.87913, \"saeule3a\": 80000, \"lebensversicherung\": 0, \"pensionskasse\": 34326.46167, \"totalVermoegen\": 151355.3962, \"lohn\": 5600, \"lohnJahr\": 67200, \"bonus\": 0.0, \"zulagen\": 840, \"totalLohn\": 68040.0, \"schaetzungObjekt\": 183718.9346, \"anzahlung\": 100, \"tragbarkeit\": 100, \"score\": 100}, {\"barvermoegen\": 57092.31764, \"aktienvermoegen\": 8024.831723, \"saeule3a\": 130000, \"lebensversicherung\": 0, \"pensionskasse\": 0.0, \"totalVermoegen\": 195117.1494, \"lohn\": 13000, \"lohnJahr\": 156000, \"bonus\": 3781.872943, \"zulagen\": 0, \"totalLohn\": 159781.8729, \"schaetzungObjekt\": 684415.4673, \"anzahlung\": 80, \"tragbarkeit\": 100, \"score\": 90}, {\"barvermoegen\": 17337.52974, \"aktienvermoegen\": 12068.52261, \"saeule3a\": 20000, \"lebensversicherung\": 30000, \"pensionskasse\": 17252.84449, \"totalVermoegen\": 96658.89685, \"lohn\": 5600, \"lohnJahr\": 67200, \"bonus\": 0.0, \"zulagen\": 0, \"totalLohn\": 67200.0, \"schaetzungObjekt\": 1634313.031, \"anzahlung\": 60, \"tragbarkeit\": 10, \"score\": 35}, {\"barvermoegen\": 71897.19321, \"aktienvermoegen\": 6753.346048, \"saeule3a\": 130000, \"lebensversicherung\": 0, \"pensionskasse\": 0.0, \"totalVermoegen\": 208650.5393, \"lohn\": 9100, \"lohnJahr\": 109200, \"bonus\": 0.0, \"zulagen\": 0, \"totalLohn\": 109200.0, \"schaetzungObjekt\": 778814.8417, \"anzahlung\": 80, \"tragbarkeit\": 50, \"score\": 65}, {\"barvermoegen\": 100871.1898, \"aktienvermoegen\": 3870.066294, \"saeule3a\": 100000, \"lebensversicherung\": 0, \"pensionskasse\": 69785.92637, \"totalVermoegen\": 274527.1825, \"lohn\": 5600, \"lohnJahr\": 67200, \"bonus\": 0.0, \"zulagen\": 840, \"totalLohn\": 68040.0, \"schaetzungObjekt\": 697212.0212, \"anzahlung\": 90, \"tragbarkeit\": 40, \"score\": 65}, {\"barvermoegen\": 11250.53566, \"aktienvermoegen\": 12835.67874, \"saeule3a\": 100000, \"lebensversicherung\": 0, \"pensionskasse\": 69803.66152, \"totalVermoegen\": 193889.8759, \"lohn\": 5600, \"lohnJahr\": 67200, \"bonus\": 0.0, \"zulagen\": 840, \"totalLohn\": 68040.0, \"schaetzungObjekt\": 16308.03045, \"anzahlung\": 100, \"tragbarkeit\": 100, \"score\": 100}, {\"barvermoegen\": 130443.3547, \"aktienvermoegen\": 927.0379167, \"saeule3a\": 130000, \"lebensversicherung\": 0, \"pensionskasse\": 0.0, \"totalVermoegen\": 261370.3927, \"lohn\": 5600, \"lohnJahr\": 67200, \"bonus\": 0.0, \"zulagen\": 840, \"totalLohn\": 68040.0, \"schaetzungObjekt\": 499670.8045, \"anzahlung\": 100, \"tragbarkeit\": 50, \"score\": 75}, {\"barvermoegen\": 3002.0382, \"aktienvermoegen\": 13710.15279, \"saeule3a\": 40000, \"lebensversicherung\": 42000, \"pensionskasse\": 70051.78304, \"totalVermoegen\": 168763.974, \"lohn\": 13000, \"lohnJahr\": 156000, \"bonus\": 15901.33881, \"zulagen\": 0, \"totalLohn\": 171901.3388, \"schaetzungObjekt\": 197580.5118, \"anzahlung\": 100, \"tragbarkeit\": 100, \"score\": 100}, {\"barvermoegen\": 56769.91569, \"aktienvermoegen\": 8377.805224, \"saeule3a\": 100000, \"lebensversicherung\": 63000, \"pensionskasse\": 421643.9038, \"totalVermoegen\": 649791.6247, \"lohn\": 9100, \"lohnJahr\": 109200, \"bonus\": 0.0, \"zulagen\": 0, \"totalLohn\": 109200.0, \"schaetzungObjekt\": 1920021.819, \"anzahlung\": 90, \"tragbarkeit\": 10, \"score\": 50}, {\"barvermoegen\": 44177.44456, \"aktienvermoegen\": 9701.239925, \"saeule3a\": 40000, \"lebensversicherung\": 0, \"pensionskasse\": 28237.96876, \"totalVermoegen\": 122116.6533, \"lohn\": 5600, \"lohnJahr\": 67200, \"bonus\": 0.0, \"zulagen\": 840, \"totalLohn\": 68040.0, \"schaetzungObjekt\": 1466601.498, \"anzahlung\": 60, \"tragbarkeit\": 10, \"score\": 35}, {\"barvermoegen\": 56647.61075, \"aktienvermoegen\": 8497.196931, \"saeule3a\": 130000, \"lebensversicherung\": 0, \"pensionskasse\": 0.0, \"totalVermoegen\": 195144.8077, \"lohn\": 13000, \"lohnJahr\": 156000, \"bonus\": 26103.49661, \"zulagen\": 0, \"totalLohn\": 182103.4966, \"schaetzungObjekt\": 1304198.528, \"anzahlung\": 0, \"tragbarkeit\": 40, \"score\": 20}, {\"barvermoegen\": 131041.4634, \"aktienvermoegen\": 1196.384556, \"saeule3a\": 100000, \"lebensversicherung\": 0, \"pensionskasse\": 0.0, \"totalVermoegen\": 232237.8479, \"lohn\": 5600, \"lohnJahr\": 67200, \"bonus\": 0.0, \"zulagen\": 840, \"totalLohn\": 68040.0, \"schaetzungObjekt\": 560687.4793, \"anzahlung\": 100, \"tragbarkeit\": 40, \"score\": 70}, {\"barvermoegen\": 30064.44384, \"aktienvermoegen\": 11457.62502, \"saeule3a\": 130000, \"lebensversicherung\": 0, \"pensionskasse\": 0.0, \"totalVermoegen\": 171522.0689, \"lohn\": 13000, \"lohnJahr\": 156000, \"bonus\": 5068.854629, \"zulagen\": 0, \"totalLohn\": 161068.8546, \"schaetzungObjekt\": 1384128.486, \"anzahlung\": 0, \"tragbarkeit\": 40, \"score\": 20}, {\"barvermoegen\": 143939.0395, \"aktienvermoegen\": 75.65653624, \"saeule3a\": 80000, \"lebensversicherung\": 0, \"pensionskasse\": 289391.2097, \"totalVermoegen\": 513405.9057, \"lohn\": 9100, \"lohnJahr\": 109200, \"bonus\": 0.0, \"zulagen\": 0, \"totalLohn\": 109200.0, \"schaetzungObjekt\": 1445464.811, \"anzahlung\": 90, \"tragbarkeit\": 20, \"score\": 55}, {\"barvermoegen\": 86404.99179, \"aktienvermoegen\": 5929.878791, \"saeule3a\": 20000, \"lebensversicherung\": 0, \"pensionskasse\": 18212.97246, \"totalVermoegen\": 130547.843, \"lohn\": 5600, \"lohnJahr\": 67200, \"bonus\": 0.0, \"zulagen\": 0, \"totalLohn\": 67200.0, \"schaetzungObjekt\": 1414932.519, \"anzahlung\": 60, \"tragbarkeit\": 10, \"score\": 35}, {\"barvermoegen\": 88322.33433, \"aktienvermoegen\": 5773.137347, \"saeule3a\": 40000, \"lebensversicherung\": 0, \"pensionskasse\": 29210.74156, \"totalVermoegen\": 163306.2132, \"lohn\": 5600, \"lohnJahr\": 67200, \"bonus\": 0.0, \"zulagen\": 840, \"totalLohn\": 68040.0, \"schaetzungObjekt\": 1270735.876, \"anzahlung\": 0, \"tragbarkeit\": 10, \"score\": 5}, {\"barvermoegen\": 107485.8268, \"aktienvermoegen\": 3869.680188, \"saeule3a\": 130000, \"lebensversicherung\": 0, \"pensionskasse\": 0.0, \"totalVermoegen\": 241355.507, \"lohn\": 13000, \"lohnJahr\": 156000, \"bonus\": 14024.54074, \"zulagen\": 0, \"totalLohn\": 170024.5407, \"schaetzungObjekt\": 748123.8114, \"anzahlung\": 90, \"tragbarkeit\": 80, \"score\": 85}, {\"barvermoegen\": 84397.30391, \"aktienvermoegen\": 6269.18636, \"saeule3a\": 0, \"lebensversicherung\": 0, \"pensionskasse\": 18386.14594, \"totalVermoegen\": 109052.6362, \"lohn\": 3200, \"lohnJahr\": 38400, \"bonus\": 0.0, \"zulagen\": 480, \"totalLohn\": 38880.0, \"schaetzungObjekt\": 700999.1829, \"anzahlung\": 0, \"tragbarkeit\": 10, \"score\": 5}, {\"barvermoegen\": 129730.5685, \"aktienvermoegen\": 1881.322215, \"saeule3a\": 130000, \"lebensversicherung\": 0, \"pensionskasse\": 0.0, \"totalVermoegen\": 261611.8907, \"lohn\": 13000, \"lohnJahr\": 156000, \"bonus\": 27500.21994, \"zulagen\": 0, \"totalLohn\": 183500.2199, \"schaetzungObjekt\": 1359315.406, \"anzahlung\": 0, \"tragbarkeit\": 40, \"score\": 20}, {\"barvermoegen\": 32025.59362, \"aktienvermoegen\": 11693.08802, \"saeule3a\": 100000, \"lebensversicherung\": 0, \"pensionskasse\": 446869.4215, \"totalVermoegen\": 590588.1031, \"lohn\": 9100, \"lohnJahr\": 109200, \"bonus\": 0.0, \"zulagen\": 0, \"totalLohn\": 109200.0, \"schaetzungObjekt\": 1744404.928, \"anzahlung\": 90, \"tragbarkeit\": 20, \"score\": 55}, {\"barvermoegen\": 10814.49368, \"aktienvermoegen\": 13865.01603, \"saeule3a\": 130000, \"lebensversicherung\": 0, \"pensionskasse\": 0.0, \"totalVermoegen\": 154679.5097, \"lohn\": 9100, \"lohnJahr\": 109200, \"bonus\": 0.0, \"zulagen\": 0, \"totalLohn\": 109200.0, \"schaetzungObjekt\": 995017.044, \"anzahlung\": 0, \"tragbarkeit\": 40, \"score\": 20}, {\"barvermoegen\": 26932.23812, \"aktienvermoegen\": 12479.26239, \"saeule3a\": 130000, \"lebensversicherung\": 0, \"pensionskasse\": 0.0, \"totalVermoegen\": 169411.5005, \"lohn\": 9100, \"lohnJahr\": 109200, \"bonus\": 0.0, \"zulagen\": 0, \"totalLohn\": 109200.0, \"schaetzungObjekt\": 721073.4069, \"anzahlung\": 80, \"tragbarkeit\": 70, \"score\": 75}, {\"barvermoegen\": 144397.2655, \"aktienvermoegen\": 753.8371872, \"saeule3a\": 130000, \"lebensversicherung\": 0, \"pensionskasse\": 0.0, \"totalVermoegen\": 275151.1027, \"lohn\": 5600, \"lohnJahr\": 67200, \"bonus\": 0.0, \"zulagen\": 840, \"totalLohn\": 68040.0, \"schaetzungObjekt\": 672103.9005, \"anzahlung\": 100, \"tragbarkeit\": 40, \"score\": 70}, {\"barvermoegen\": 133809.9047, \"aktienvermoegen\": 1937.674271, \"saeule3a\": 20000, \"lebensversicherung\": 0, \"pensionskasse\": 25531.10789, \"totalVermoegen\": 181278.6868, \"lohn\": 3200, \"lohnJahr\": 38400, \"bonus\": 0.0, \"zulagen\": 480, \"totalLohn\": 38880.0, \"schaetzungObjekt\": 1989512.329, \"anzahlung\": 60, \"tragbarkeit\": 0, \"score\": 30}, {\"barvermoegen\": 100076.5006, \"aktienvermoegen\": 5324.554774, \"saeule3a\": 100000, \"lebensversicherung\": 0, \"pensionskasse\": 0.0, \"totalVermoegen\": 205401.0554, \"lohn\": 13000, \"lohnJahr\": 156000, \"bonus\": 28992.98065, \"zulagen\": 0, \"totalLohn\": 184992.9807, \"schaetzungObjekt\": 874538.0845, \"anzahlung\": 80, \"tragbarkeit\": 70, \"score\": 75}, {\"barvermoegen\": 27157.07581, \"aktienvermoegen\": 12738.90388, \"saeule3a\": 80000, \"lebensversicherung\": 0, \"pensionskasse\": 309092.2291, \"totalVermoegen\": 428988.2088, \"lohn\": 13000, \"lohnJahr\": 156000, \"bonus\": 5976.803497, \"zulagen\": 0, \"totalLohn\": 161976.8035, \"schaetzungObjekt\": 345706.1272, \"anzahlung\": 100, \"tragbarkeit\": 100, \"score\": 100}, {\"barvermoegen\": 135939.6529, \"aktienvermoegen\": 1915.386379, \"saeule3a\": 20000, \"lebensversicherung\": 0, \"pensionskasse\": 19386.68959, \"totalVermoegen\": 177241.7289, \"lohn\": 5600, \"lohnJahr\": 67200, \"bonus\": 0.0, \"zulagen\": 0, \"totalLohn\": 67200.0, \"schaetzungObjekt\": 1533880.06, \"anzahlung\": 0, \"tragbarkeit\": 10, \"score\": 5}, {\"barvermoegen\": 135276.2598, \"aktienvermoegen\": 1995.436318, \"saeule3a\": 0, \"lebensversicherung\": 0, \"pensionskasse\": 15523.0623, \"totalVermoegen\": 152794.7585, \"lohn\": 8000, \"lohnJahr\": 96000, \"bonus\": 7880.262345, \"zulagen\": 0, \"totalLohn\": 103880.2623, \"schaetzungObjekt\": 852799.7158, \"anzahlung\": 0, \"tragbarkeit\": 40, \"score\": 20}, {\"barvermoegen\": 48938.08237, \"aktienvermoegen\": 10719.70331, \"saeule3a\": 40000, \"lebensversicherung\": 0, \"pensionskasse\": 78067.55775, \"totalVermoegen\": 177725.3434, \"lohn\": 9100, \"lohnJahr\": 109200, \"bonus\": 0.0, \"zulagen\": 0, \"totalLohn\": 109200.0, \"schaetzungObjekt\": 657386.5679, \"anzahlung\": 80, \"tragbarkeit\": 70, \"score\": 75}, {\"barvermoegen\": 89595.1426, \"aktienvermoegen\": 7041.885412, \"saeule3a\": 130000, \"lebensversicherung\": 0, \"pensionskasse\": 0.0, \"totalVermoegen\": 226637.028, \"lohn\": 5600, \"lohnJahr\": 67200, \"bonus\": 0.0, \"zulagen\": 840, \"totalLohn\": 68040.0, \"schaetzungObjekt\": 1101465.116, \"anzahlung\": 80, \"tragbarkeit\": 20, \"score\": 50}, {\"barvermoegen\": 101732.4815, \"aktienvermoegen\": 5838.281021, \"saeule3a\": 130000, \"lebensversicherung\": 79000, \"pensionskasse\": 0.0, \"totalVermoegen\": 316570.7625, \"lohn\": 9100, \"lohnJahr\": 109200, \"bonus\": 0.0, \"zulagen\": 0, \"totalLohn\": 109200.0, \"schaetzungObjekt\": 1231526.202, \"anzahlung\": 80, \"tragbarkeit\": 20, \"score\": 50}, {\"barvermoegen\": 103391.7929, \"aktienvermoegen\": 5715.016547, \"saeule3a\": 40000, \"lebensversicherung\": 42000, \"pensionskasse\": 80270.9792, \"totalVermoegen\": 271377.7887, \"lohn\": 13000, \"lohnJahr\": 156000, \"bonus\": 9129.322188, \"zulagen\": 0, \"totalLohn\": 165129.3222, \"schaetzungObjekt\": 1711600.52, \"anzahlung\": 0, \"tragbarkeit\": 40, \"score\": 20}, {\"barvermoegen\": 145302.3267, \"aktienvermoegen\": 1528.021793, \"saeule3a\": 130000, \"lebensversicherung\": 77000, \"pensionskasse\": 0.0, \"totalVermoegen\": 353830.3485, \"lohn\": 9100, \"lohnJahr\": 109200, \"bonus\": 0.0, \"zulagen\": 0, \"totalLohn\": 109200.0, \"schaetzungObjekt\": 1658670.825, \"anzahlung\": 80, \"tragbarkeit\": 20, \"score\": 50}, {\"barvermoegen\": 71723.41239, \"aktienvermoegen\": 8926.669951, \"saeule3a\": 130000, \"lebensversicherung\": 0, \"pensionskasse\": 0.0, \"totalVermoegen\": 210650.0823, \"lohn\": 9100, \"lohnJahr\": 109200, \"bonus\": 0.0, \"zulagen\": 0, \"totalLohn\": 109200.0, \"schaetzungObjekt\": 1200905.036, \"anzahlung\": 0, \"tragbarkeit\": 40, \"score\": 20}, {\"barvermoegen\": 160815.211, \"aktienvermoegen\": 87.06643105, \"saeule3a\": 20000, \"lebensversicherung\": 0, \"pensionskasse\": 20210.73442, \"totalVermoegen\": 201113.0119, \"lohn\": 5600, \"lohnJahr\": 67200, \"bonus\": 0.0, \"zulagen\": 0, \"totalLohn\": 67200.0, \"schaetzungObjekt\": 562001.2808, \"anzahlung\": 90, \"tragbarkeit\": 40, \"score\": 65}, {\"barvermoegen\": 34955.79127, \"aktienvermoegen\": 12767.68681, \"saeule3a\": 100000, \"lebensversicherung\": 67000, \"pensionskasse\": 0.0, \"totalVermoegen\": 214723.4781, \"lohn\": 9100, \"lohnJahr\": 109200, \"bonus\": 0.0, \"zulagen\": 0, \"totalLohn\": 109200.0, \"schaetzungObjekt\": 939463.5633, \"anzahlung\": 80, \"tragbarkeit\": 40, \"score\": 60}, {\"barvermoegen\": 104120.0082, \"aktienvermoegen\": 5876.094324, \"saeule3a\": 40000, \"lebensversicherung\": 44000, \"pensionskasse\": 81440.4757, \"totalVermoegen\": 275436.5782, \"lohn\": 9100, \"lohnJahr\": 109200, \"bonus\": 0.0, \"zulagen\": 0, \"totalLohn\": 109200.0, \"schaetzungObjekt\": 1241566.078, \"anzahlung\": 80, \"tragbarkeit\": 20, \"score\": 50}, {\"barvermoegen\": 89824.078, \"aktienvermoegen\": 7309.814171, \"saeule3a\": 100000, \"lebensversicherung\": 68000, \"pensionskasse\": 0.0, \"totalVermoegen\": 265133.8922, \"lohn\": 9100, \"lohnJahr\": 109200, \"bonus\": 0.0, \"zulagen\": 0, \"totalLohn\": 109200.0, \"schaetzungObjekt\": 584194.5496, \"anzahlung\": 100, \"tragbarkeit\": 80, \"score\": 90}, {\"barvermoegen\": 55537.47425, \"aktienvermoegen\": 11001.77326, \"saeule3a\": 0, \"lebensversicherung\": 0, \"pensionskasse\": 20694.40086, \"totalVermoegen\": 87233.64838, \"lohn\": 3200, \"lohnJahr\": 38400, \"bonus\": 0.0, \"zulagen\": 480, \"totalLohn\": 38880.0, \"schaetzungObjekt\": 676451.4554, \"anzahlung\": 0, \"tragbarkeit\": 10, \"score\": 5}, {\"barvermoegen\": 107314.2741, \"aktienvermoegen\": 5961.949937, \"saeule3a\": 20000, \"lebensversicherung\": 32000, \"pensionskasse\": 20866.72168, \"totalVermoegen\": 186142.9457, \"lohn\": 5600, \"lohnJahr\": 67200, \"bonus\": 0.0, \"zulagen\": 0, \"totalLohn\": 67200.0, \"schaetzungObjekt\": 1216174.043, \"anzahlung\": 0, \"tragbarkeit\": 10, \"score\": 5}, {\"barvermoegen\": 88353.10796, \"aktienvermoegen\": 7917.854459, \"saeule3a\": 20000, \"lebensversicherung\": 0, \"pensionskasse\": 27921.94209, \"totalVermoegen\": 144192.9045, \"lohn\": 3200, \"lohnJahr\": 38400, \"bonus\": 0.0, \"zulagen\": 480, \"totalLohn\": 38880.0, \"schaetzungObjekt\": 920866.0352, \"anzahlung\": 0, \"tragbarkeit\": 10, \"score\": 5}, {\"barvermoegen\": 153208.6107, \"aktienvermoegen\": 1858.698034, \"saeule3a\": 80000, \"lebensversicherung\": 0, \"pensionskasse\": 343591.1822, \"totalVermoegen\": 578658.491, \"lohn\": 9100, \"lohnJahr\": 109200, \"bonus\": 0.0, \"zulagen\": 0, \"totalLohn\": 109200.0, \"schaetzungObjekt\": 737268.4521, \"anzahlung\": 100, \"tragbarkeit\": 50, \"score\": 75}, {\"barvermoegen\": 9269.614172, \"aktienvermoegen\": 16453.14127, \"saeule3a\": 20000, \"lebensversicherung\": 35000, \"pensionskasse\": 21725.12836, \"totalVermoegen\": 102447.8838, \"lohn\": 8000, \"lohnJahr\": 96000, \"bonus\": 20081.12949, \"zulagen\": 0, \"totalLohn\": 116081.1295, \"schaetzungObjekt\": 1837636.207, \"anzahlung\": 60, \"tragbarkeit\": 10, \"score\": 35}, {\"barvermoegen\": 62283.80753, \"aktienvermoegen\": 11298.48028, \"saeule3a\": 40000, \"lebensversicherung\": 43000, \"pensionskasse\": 87634.30515, \"totalVermoegen\": 244216.593, \"lohn\": 9100, \"lohnJahr\": 109200, \"bonus\": 0.0, \"zulagen\": 0, \"totalLohn\": 109200.0, \"schaetzungObjekt\": 38333.98881, \"anzahlung\": 100, \"tragbarkeit\": 100, \"score\": 100}, {\"barvermoegen\": 46758.5489, \"aktienvermoegen\": 12933.03119, \"saeule3a\": 20000, \"lebensversicherung\": 0, \"pensionskasse\": 22011.1076, \"totalVermoegen\": 101702.6877, \"lohn\": 5600, \"lohnJahr\": 67200, \"bonus\": 0.0, \"zulagen\": 0, \"totalLohn\": 67200.0, \"schaetzungObjekt\": 1373384.731, \"anzahlung\": 60, \"tragbarkeit\": 10, \"score\": 35}, {\"barvermoegen\": 25192.23603, \"aktienvermoegen\": 15117.11785, \"saeule3a\": 100000, \"lebensversicherung\": 0, \"pensionskasse\": 0.0, \"totalVermoegen\": 140309.3539, \"lohn\": 5600, \"lohnJahr\": 67200, \"bonus\": 0.0, \"zulagen\": 840, \"totalLohn\": 68040.0, \"schaetzungObjekt\": 213025.0921, \"anzahlung\": 100, \"tragbarkeit\": 100, \"score\": 100}, {\"barvermoegen\": 23039.26667, \"aktienvermoegen\": 15350.76384, \"saeule3a\": 0, \"lebensversicherung\": 0, \"pensionskasse\": 17654.69051, \"totalVermoegen\": 56044.72103, \"lohn\": 5600, \"lohnJahr\": 67200, \"bonus\": 0.0, \"zulagen\": 0, \"totalLohn\": 67200.0, \"schaetzungObjekt\": 569731.2087, \"anzahlung\": 60, \"tragbarkeit\": 40, \"score\": 50}, {\"barvermoegen\": 121746.4009, \"aktienvermoegen\": 5620.737886, \"saeule3a\": 20000, \"lebensversicherung\": 0, \"pensionskasse\": 22244.22246, \"totalVermoegen\": 169611.3612, \"lohn\": 5600, \"lohnJahr\": 67200, \"bonus\": 0.0, \"zulagen\": 0, \"totalLohn\": 67200.0, \"schaetzungObjekt\": 1608750.611, \"anzahlung\": 0, \"tragbarkeit\": 10, \"score\": 5}, {\"barvermoegen\": 15841.83487, \"aktienvermoegen\": 16402.83639, \"saeule3a\": 100000, \"lebensversicherung\": 0, \"pensionskasse\": 89935.09937, \"totalVermoegen\": 222179.7706, \"lohn\": 5600, \"lohnJahr\": 67200, \"bonus\": 0.0, \"zulagen\": 840, \"totalLohn\": 68040.0, \"schaetzungObjekt\": 1528252.796, \"anzahlung\": 0, \"tragbarkeit\": 10, \"score\": 5}, {\"barvermoegen\": 77629.55441, \"aktienvermoegen\": 10328.122, \"saeule3a\": 80000, \"lebensversicherung\": 59000, \"pensionskasse\": 361821.5487, \"totalVermoegen\": 588779.2251, \"lohn\": 9100, \"lohnJahr\": 109200, \"bonus\": 0.0, \"zulagen\": 0, \"totalLohn\": 109200.0, \"schaetzungObjekt\": 161620.5622, \"anzahlung\": 100, \"tragbarkeit\": 100, \"score\": 100}, {\"barvermoegen\": 73783.90549, \"aktienvermoegen\": 10717.42763, \"saeule3a\": 80000, \"lebensversicherung\": 0, \"pensionskasse\": 361916.3635, \"totalVermoegen\": 526417.6967, \"lohn\": 9100, \"lohnJahr\": 109200, \"bonus\": 0.0, \"zulagen\": 0, \"totalLohn\": 109200.0, \"schaetzungObjekt\": 518634.4831, \"anzahlung\": 100, \"tragbarkeit\": 100, \"score\": 100}, {\"barvermoegen\": 176458.1521, \"aktienvermoegen\": 461.9059796, \"saeule3a\": 100000, \"lebensversicherung\": 0, \"pensionskasse\": 543231.6357, \"totalVermoegen\": 820151.6937, \"lohn\": 13000, \"lohnJahr\": 156000, \"bonus\": 10450.15084, \"zulagen\": 0, \"totalLohn\": 166450.1508, \"schaetzungObjekt\": 703326.1448, \"anzahlung\": 100, \"tragbarkeit\": 100, \"score\": 100}, {\"barvermoegen\": 8840.843171, \"aktienvermoegen\": 17287.99499, \"saeule3a\": 40000, \"lebensversicherung\": 42000, \"pensionskasse\": 90860.39654, \"totalVermoegen\": 198989.2347, \"lohn\": 13000, \"lohnJahr\": 156000, \"bonus\": 19941.46554, \"zulagen\": 0, \"totalLohn\": 175941.4655, \"schaetzungObjekt\": 602263.4725, \"anzahlung\": 90, \"tragbarkeit\": 100, \"score\": 95}, {\"barvermoegen\": 42119.1768, \"aktienvermoegen\": 14087.47952, \"saeule3a\": 20000, \"lebensversicherung\": 0, \"pensionskasse\": 22874.2465, \"totalVermoegen\": 99080.90281, \"lohn\": 8000, \"lohnJahr\": 96000, \"bonus\": 12167.67066, \"zulagen\": 0, \"totalLohn\": 108167.6707, \"schaetzungObjekt\": 1382384.725, \"anzahlung\": 60, \"tragbarkeit\": 20, \"score\": 40}, {\"barvermoegen\": 21020.4108, \"aktienvermoegen\": 16326.03825, \"saeule3a\": 0, \"lebensversicherung\": 0, \"pensionskasse\": 23035.09916, \"totalVermoegen\": 60381.54821, \"lohn\": 3200, \"lohnJahr\": 38400, \"bonus\": 0.0, \"zulagen\": 480, \"totalLohn\": 38880.0, \"schaetzungObjekt\": 906353.0395, \"anzahlung\": 60, \"tragbarkeit\": 10, \"score\": 35}, {\"barvermoegen\": 83116.71651, \"aktienvermoegen\": 10118.82921, \"saeule3a\": 20000, \"lebensversicherung\": 0, \"pensionskasse\": 30717.50143, \"totalVermoegen\": 143953.0472, \"lohn\": 3200, \"lohnJahr\": 38400, \"bonus\": 0.0, \"zulagen\": 480, \"totalLohn\": 38880.0, \"schaetzungObjekt\": 141991.7745, \"anzahlung\": 100, \"tragbarkeit\": 100, \"score\": 100}, {\"barvermoegen\": 48239.53816, \"aktienvermoegen\": 13670.18893, \"saeule3a\": 100000, \"lebensversicherung\": 0, \"pensionskasse\": 0.0, \"totalVermoegen\": 161909.7271, \"lohn\": 9100, \"lohnJahr\": 109200, \"bonus\": 0.0, \"zulagen\": 0, \"totalLohn\": 109200.0, \"schaetzungObjekt\": 434342.9227, \"anzahlung\": 90, \"tragbarkeit\": 100, \"score\": 95}, {\"barvermoegen\": 18489.6981, \"aktienvermoegen\": 16674.64057, \"saeule3a\": 130000, \"lebensversicherung\": 0, \"pensionskasse\": 0.0, \"totalVermoegen\": 165164.3387, \"lohn\": 5600, \"lohnJahr\": 67200, \"bonus\": 0.0, \"zulagen\": 840, \"totalLohn\": 68040.0, \"schaetzungObjekt\": 1055985.902, \"anzahlung\": 0, \"tragbarkeit\": 20, \"score\": 10}, {\"barvermoegen\": 3971.045545, \"aktienvermoegen\": 18267.56845, \"saeule3a\": 130000, \"lebensversicherung\": 0, \"pensionskasse\": 0.0, \"totalVermoegen\": 152238.614, \"lohn\": 5600, \"lohnJahr\": 67200, \"bonus\": 0.0, \"zulagen\": 840, \"totalLohn\": 68040.0, \"schaetzungObjekt\": 1407410.068, \"anzahlung\": 0, \"tragbarkeit\": 10, \"score\": 5}, {\"barvermoegen\": 170509.4779, \"aktienvermoegen\": 1774.023663, \"saeule3a\": 100000, \"lebensversicherung\": 60000, \"pensionskasse\": 564749.1435, \"totalVermoegen\": 897032.645, \"lohn\": 13000, \"lohnJahr\": 156000, \"bonus\": 4635.792039, \"zulagen\": 0, \"totalLohn\": 160635.792, \"schaetzungObjekt\": 1230177.116, \"anzahlung\": 100, \"tragbarkeit\": 50, \"score\": 75}, {\"barvermoegen\": 142533.8226, \"aktienvermoegen\": 4777.65795, \"saeule3a\": 20000, \"lebensversicherung\": 0, \"pensionskasse\": 23788.80026, \"totalVermoegen\": 191100.2808, \"lohn\": 8000, \"lohnJahr\": 96000, \"bonus\": 2266.211902, \"zulagen\": 0, \"totalLohn\": 98266.2119, \"schaetzungObjekt\": 1617539.318, \"anzahlung\": 0, \"tragbarkeit\": 10, \"score\": 5}, {\"barvermoegen\": 19319.2404, \"aktienvermoegen\": 17392.73517, \"saeule3a\": 130000, \"lebensversicherung\": 0, \"pensionskasse\": 0.0, \"totalVermoegen\": 166711.9756, \"lohn\": 5600, \"lohnJahr\": 67200, \"bonus\": 0.0, \"zulagen\": 840, \"totalLohn\": 68040.0, \"schaetzungObjekt\": 300277.8619, \"anzahlung\": 100, \"tragbarkeit\": 100, \"score\": 100}, {\"barvermoegen\": 178900.4054, \"aktienvermoegen\": 1458.322374, \"saeule3a\": 130000, \"lebensversicherung\": 0, \"pensionskasse\": 0.0, \"totalVermoegen\": 310358.7277, \"lohn\": 5600, \"lohnJahr\": 67200, \"bonus\": 0.0, \"zulagen\": 840, \"totalLohn\": 68040.0, \"schaetzungObjekt\": 915246.6908, \"anzahlung\": 90, \"tragbarkeit\": 20, \"score\": 55}, {\"barvermoegen\": 78653.27712, \"aktienvermoegen\": 11496.23424, \"saeule3a\": 40000, \"lebensversicherung\": 45000, \"pensionskasse\": 96807.80977, \"totalVermoegen\": 271957.3211, \"lohn\": 9100, \"lohnJahr\": 109200, \"bonus\": 0.0, \"zulagen\": 0, \"totalLohn\": 109200.0, \"schaetzungObjekt\": 1020612.175, \"anzahlung\": 80, \"tragbarkeit\": 40, \"score\": 60}, {\"barvermoegen\": 152025.2035, \"aktienvermoegen\": 4166.954203, \"saeule3a\": 40000, \"lebensversicherung\": 0, \"pensionskasse\": 96847.37279, \"totalVermoegen\": 293039.5305, \"lohn\": 9100, \"lohnJahr\": 109200, \"bonus\": 0.0, \"zulagen\": 0, \"totalLohn\": 109200.0, \"schaetzungObjekt\": 1471942.247, \"anzahlung\": 0, \"tragbarkeit\": 20, \"score\": 10}, {\"barvermoegen\": 92969.48388, \"aktienvermoegen\": 10080.47288, \"saeule3a\": 130000, \"lebensversicherung\": 0, \"pensionskasse\": 0.0, \"totalVermoegen\": 233049.9568, \"lohn\": 9100, \"lohnJahr\": 109200, \"bonus\": 0.0, \"zulagen\": 0, \"totalLohn\": 109200.0, \"schaetzungObjekt\": 313213.5099, \"anzahlung\": 100, \"tragbarkeit\": 100, \"score\": 100}, {\"barvermoegen\": 168967.8615, \"aktienvermoegen\": 2485.887447, \"saeule3a\": 40000, \"lebensversicherung\": 0, \"pensionskasse\": 96913.368, \"totalVermoegen\": 308367.117, \"lohn\": 9100, \"lohnJahr\": 109200, \"bonus\": 0.0, \"zulagen\": 0, \"totalLohn\": 109200.0, \"schaetzungObjekt\": 592196.2108, \"anzahlung\": 100, \"tragbarkeit\": 80, \"score\": 90}, {\"barvermoegen\": 160484.4295, \"aktienvermoegen\": 3395.212268, \"saeule3a\": 40000, \"lebensversicherung\": 46000, \"pensionskasse\": 97218.2761, \"totalVermoegen\": 347097.9179, \"lohn\": 13000, \"lohnJahr\": 156000, \"bonus\": 13534.86741, \"zulagen\": 0, \"totalLohn\": 169534.8674, \"schaetzungObjekt\": 1718443.261, \"anzahlung\": 80, \"tragbarkeit\": 40, \"score\": 60}, {\"barvermoegen\": 59492.4069, \"aktienvermoegen\": 13497.0748, \"saeule3a\": 40000, \"lebensversicherung\": 46000, \"pensionskasse\": 97231.57746, \"totalVermoegen\": 256221.0592, \"lohn\": 9100, \"lohnJahr\": 109200, \"bonus\": 0.0, \"zulagen\": 0, \"totalLohn\": 109200.0, \"schaetzungObjekt\": 405402.2913, \"anzahlung\": 100, \"tragbarkeit\": 100, \"score\": 100}, {\"barvermoegen\": 19126.11624, \"aktienvermoegen\": 17767.39853, \"saeule3a\": 130000, \"lebensversicherung\": 0, \"pensionskasse\": 0.0, \"totalVermoegen\": 166893.5148, \"lohn\": 5600, \"lohnJahr\": 67200, \"bonus\": 0.0, \"zulagen\": 840, \"totalLohn\": 68040.0, \"schaetzungObjekt\": 852652.2548, \"anzahlung\": 0, \"tragbarkeit\": 20, \"score\": 10}, {\"barvermoegen\": 104797.4832, \"aktienvermoegen\": 9411.139545, \"saeule3a\": 80000, \"lebensversicherung\": 0, \"pensionskasse\": 49727.21968, \"totalVermoegen\": 243935.8425, \"lohn\": 5600, \"lohnJahr\": 67200, \"bonus\": 0.0, \"zulagen\": 840, \"totalLohn\": 68040.0, \"schaetzungObjekt\": 1829418.099, \"anzahlung\": 0, \"tragbarkeit\": 10, \"score\": 5}, {\"barvermoegen\": 148464.5461, \"aktienvermoegen\": 5147.194789, \"saeule3a\": 20000, \"lebensversicherung\": 37000, \"pensionskasse\": 24992.06175, \"totalVermoegen\": 235603.8027, \"lohn\": 8000, \"lohnJahr\": 96000, \"bonus\": 18477.10976, \"zulagen\": 0, \"totalLohn\": 114477.1098, \"schaetzungObjekt\": 498408.8537, \"anzahlung\": 100, \"tragbarkeit\": 80, \"score\": 90}, {\"barvermoegen\": 7134.447788, \"aktienvermoegen\": 19299.71329, \"saeule3a\": 100000, \"lebensversicherung\": 0, \"pensionskasse\": 0.0, \"totalVermoegen\": 126434.1611, \"lohn\": 5600, \"lohnJahr\": 67200, \"bonus\": 0.0, \"zulagen\": 840, \"totalLohn\": 68040.0, \"schaetzungObjekt\": 1362508.588, \"anzahlung\": 60, \"tragbarkeit\": 10, \"score\": 35}, {\"barvermoegen\": 198260.4385, \"aktienvermoegen\": 470.1262264, \"saeule3a\": 20000, \"lebensversicherung\": 0, \"pensionskasse\": 33826.95013, \"totalVermoegen\": 252557.5149, \"lohn\": 3200, \"lohnJahr\": 38400, \"bonus\": 0.0, \"zulagen\": 480, \"totalLohn\": 38880.0, \"schaetzungObjekt\": 1093755.725, \"anzahlung\": 80, \"tragbarkeit\": 10, \"score\": 45}, {\"barvermoegen\": 154179.3091, \"aktienvermoegen\": 4993.483519, \"saeule3a\": 20000, \"lebensversicherung\": 35000, \"pensionskasse\": 25514.26803, \"totalVermoegen\": 239687.0606, \"lohn\": 5600, \"lohnJahr\": 67200, \"bonus\": 0.0, \"zulagen\": 0, \"totalLohn\": 67200.0, \"schaetzungObjekt\": 683942.0051, \"anzahlung\": 90, \"tragbarkeit\": 40, \"score\": 65}, {\"barvermoegen\": 86031.51354, \"aktienvermoegen\": 11816.96011, \"saeule3a\": 100000, \"lebensversicherung\": 0, \"pensionskasse\": 0.0, \"totalVermoegen\": 197848.4737, \"lohn\": 5600, \"lohnJahr\": 67200, \"bonus\": 0.0, \"zulagen\": 840, \"totalLohn\": 68040.0, \"schaetzungObjekt\": 263104.756, \"anzahlung\": 100, \"tragbarkeit\": 100, \"score\": 100}, {\"barvermoegen\": 110799.3744, \"aktienvermoegen\": 9354.703207, \"saeule3a\": 130000, \"lebensversicherung\": 0, \"pensionskasse\": 0.0, \"totalVermoegen\": 250154.0776, \"lohn\": 9100, \"lohnJahr\": 109200, \"bonus\": 0.0, \"zulagen\": 0, \"totalLohn\": 109200.0, \"schaetzungObjekt\": 1287698.081, \"anzahlung\": 0, \"tragbarkeit\": 20, \"score\": 10}, {\"barvermoegen\": 170688.1523, \"aktienvermoegen\": 3497.201929, \"saeule3a\": 100000, \"lebensversicherung\": 0, \"pensionskasse\": 0.0, \"totalVermoegen\": 274185.3542, \"lohn\": 9100, \"lohnJahr\": 109200, \"bonus\": 0.0, \"zulagen\": 0, \"totalLohn\": 109200.0, \"schaetzungObjekt\": 1643192.209, \"anzahlung\": 0, \"tragbarkeit\": 20, \"score\": 10}, {\"barvermoegen\": 35186.94334, \"aktienvermoegen\": 17290.84003, \"saeule3a\": 40000, \"lebensversicherung\": 0, \"pensionskasse\": 104047.6718, \"totalVermoegen\": 196525.4552, \"lohn\": 13000, \"lohnJahr\": 156000, \"bonus\": 16710.95108, \"zulagen\": 0, \"totalLohn\": 172710.9511, \"schaetzungObjekt\": 428614.9857, \"anzahlung\": 100, \"tragbarkeit\": 100, \"score\": 100}, {\"barvermoegen\": 159997.572, \"aktienvermoegen\": 4833.85603, \"saeule3a\": 40000, \"lebensversicherung\": 0, \"pensionskasse\": 41667.22647, \"totalVermoegen\": 246498.6545, \"lohn\": 5600, \"lohnJahr\": 67200, \"bonus\": 0.0, \"zulagen\": 840, \"totalLohn\": 68040.0, \"schaetzungObjekt\": 340494.2458, \"anzahlung\": 100, \"tragbarkeit\": 80, \"score\": 90}, {\"barvermoegen\": 176690.1868, \"aktienvermoegen\": 3331.441355, \"saeule3a\": 40000, \"lebensversicherung\": 45000, \"pensionskasse\": 105002.3002, \"totalVermoegen\": 370023.9284, \"lohn\": 9100, \"lohnJahr\": 109200, \"bonus\": 0.0, \"zulagen\": 0, \"totalLohn\": 109200.0, \"schaetzungObjekt\": 1357934.668, \"anzahlung\": 80, \"tragbarkeit\": 20, \"score\": 50}, {\"barvermoegen\": 155393.1903, \"aktienvermoegen\": 5705.47676, \"saeule3a\": 80000, \"lebensversicherung\": 0, \"pensionskasse\": 53111.98947, \"totalVermoegen\": 294210.6565, \"lohn\": 5600, \"lohnJahr\": 67200, \"bonus\": 0.0, \"zulagen\": 840, \"totalLohn\": 68040.0, \"schaetzungObjekt\": 1223652.961, \"anzahlung\": 80, \"tragbarkeit\": 10, \"score\": 45}, {\"barvermoegen\": 47274.26023, \"aktienvermoegen\": 16542.40361, \"saeule3a\": 130000, \"lebensversicherung\": 87000, \"pensionskasse\": 0.0, \"totalVermoegen\": 280816.6638, \"lohn\": 9100, \"lohnJahr\": 109200, \"bonus\": 0.0, \"zulagen\": 0, \"totalLohn\": 109200.0, \"schaetzungObjekt\": 530997.2178, \"anzahlung\": 100, \"tragbarkeit\": 80, \"score\": 90}, {\"barvermoegen\": 57656.7669, \"aktienvermoegen\": 15748.42048, \"saeule3a\": 20000, \"lebensversicherung\": 0, \"pensionskasse\": 35856.82862, \"totalVermoegen\": 129262.016, \"lohn\": 3200, \"lohnJahr\": 38400, \"bonus\": 0.0, \"zulagen\": 480, \"totalLohn\": 38880.0, \"schaetzungObjekt\": 375915.7502, \"anzahlung\": 90, \"tragbarkeit\": 40, \"score\": 65}, {\"barvermoegen\": 67436.05992, \"aktienvermoegen\": 14909.43923, \"saeule3a\": 80000, \"lebensversicherung\": 54000, \"pensionskasse\": 433060.9045, \"totalVermoegen\": 649406.4036, \"lohn\": 9100, \"lohnJahr\": 109200, \"bonus\": 0.0, \"zulagen\": 0, \"totalLohn\": 109200.0, \"schaetzungObjekt\": 333505.3782, \"anzahlung\": 100, \"tragbarkeit\": 100, \"score\": 100}, {\"barvermoegen\": 120618.6595, \"aktienvermoegen\": 9594.453459, \"saeule3a\": 130000, \"lebensversicherung\": 0, \"pensionskasse\": 0.0, \"totalVermoegen\": 260213.1129, \"lohn\": 9100, \"lohnJahr\": 109200, \"bonus\": 0.0, \"zulagen\": 0, \"totalLohn\": 109200.0, \"schaetzungObjekt\": 723943.6092, \"anzahlung\": 90, \"tragbarkeit\": 70, \"score\": 80}, {\"barvermoegen\": 19080.2169, \"aktienvermoegen\": 20231.17119, \"saeule3a\": 80000, \"lebensversicherung\": 0, \"pensionskasse\": 55347.9822, \"totalVermoegen\": 174659.3703, \"lohn\": 5600, \"lohnJahr\": 67200, \"bonus\": 0.0, \"zulagen\": 840, \"totalLohn\": 68040.0, \"schaetzungObjekt\": 1855926.472, \"anzahlung\": 60, \"tragbarkeit\": 10, \"score\": 35}, {\"barvermoegen\": 34801.87428, \"aktienvermoegen\": 18710.30095, \"saeule3a\": 100000, \"lebensversicherung\": 0, \"pensionskasse\": 0.0, \"totalVermoegen\": 153512.1752, \"lohn\": 9100, \"lohnJahr\": 109200, \"bonus\": 0.0, \"zulagen\": 0, \"totalLohn\": 109200.0, \"schaetzungObjekt\": 195531.9057, \"anzahlung\": 100, \"tragbarkeit\": 100, \"score\": 100}, {\"barvermoegen\": 5384.211872, \"aktienvermoegen\": 21772.7344, \"saeule3a\": 20000, \"lebensversicherung\": 0, \"pensionskasse\": 37185.25932, \"totalVermoegen\": 84342.20559, \"lohn\": 3200, \"lohnJahr\": 38400, \"bonus\": 0.0, \"zulagen\": 480, \"totalLohn\": 38880.0, \"schaetzungObjekt\": 339947.0081, \"anzahlung\": 80, \"tragbarkeit\": 40, \"score\": 60}, {\"barvermoegen\": 180067.3125, \"aktienvermoegen\": 4391.531195, \"saeule3a\": 40000, \"lebensversicherung\": 0, \"pensionskasse\": 111991.3122, \"totalVermoegen\": 336450.1559, \"lohn\": 9100, \"lohnJahr\": 109200, \"bonus\": 0.0, \"zulagen\": 0, \"totalLohn\": 109200.0, \"schaetzungObjekt\": 948574.9253, \"anzahlung\": 90, \"tragbarkeit\": 40, \"score\": 65}, {\"barvermoegen\": 64932.58176, \"aktienvermoegen\": 16399.95129, \"saeule3a\": 100000, \"lebensversicherung\": 0, \"pensionskasse\": 686796.2838, \"totalVermoegen\": 868128.8169, \"lohn\": 9100, \"lohnJahr\": 109200, \"bonus\": 0.0, \"zulagen\": 0, \"totalLohn\": 109200.0, \"schaetzungObjekt\": 624221.4535, \"anzahlung\": 100, \"tragbarkeit\": 70, \"score\": 85}, {\"barvermoegen\": 73343.29429, \"aktienvermoegen\": 15562.56349, \"saeule3a\": 100000, \"lebensversicherung\": 0, \"pensionskasse\": 0.0, \"totalVermoegen\": 188905.8578, \"lohn\": 9100, \"lohnJahr\": 109200, \"bonus\": 0.0, \"zulagen\": 0, \"totalLohn\": 109200.0, \"schaetzungObjekt\": 1313683.994, \"anzahlung\": 0, \"tragbarkeit\": 20, \"score\": 10}, {\"barvermoegen\": 102356.9466, \"aktienvermoegen\": 12690.66589, \"saeule3a\": 130000, \"lebensversicherung\": 0, \"pensionskasse\": 0.0, \"totalVermoegen\": 245047.6124, \"lohn\": 9100, \"lohnJahr\": 109200, \"bonus\": 0.0, \"zulagen\": 0, \"totalLohn\": 109200.0, \"schaetzungObjekt\": 510888.7009, \"anzahlung\": 100, \"tragbarkeit\": 100, \"score\": 100}, {\"barvermoegen\": 120354.2607, \"aktienvermoegen\": 10976.13139, \"saeule3a\": 100000, \"lebensversicherung\": 0, \"pensionskasse\": 0.0, \"totalVermoegen\": 231330.3921, \"lohn\": 9100, \"lohnJahr\": 109200, \"bonus\": 0.0, \"zulagen\": 0, \"totalLohn\": 109200.0, \"schaetzungObjekt\": 9633.796691, \"anzahlung\": 100, \"tragbarkeit\": 100, \"score\": 100}, {\"barvermoegen\": 118505.1677, \"aktienvermoegen\": 11217.04282, \"saeule3a\": 130000, \"lebensversicherung\": 0, \"pensionskasse\": 0.0, \"totalVermoegen\": 259722.2106, \"lohn\": 5600, \"lohnJahr\": 67200, \"bonus\": 0.0, \"zulagen\": 840, \"totalLohn\": 68040.0, \"schaetzungObjekt\": 333138.8021, \"anzahlung\": 100, \"tragbarkeit\": 80, \"score\": 90}, {\"barvermoegen\": 110583.53, \"aktienvermoegen\": 12099.45121, \"saeule3a\": 130000, \"lebensversicherung\": 74000, \"pensionskasse\": 0.0, \"totalVermoegen\": 326682.9812, \"lohn\": 9100, \"lohnJahr\": 109200, \"bonus\": 0.0, \"zulagen\": 0, \"totalLohn\": 109200.0, \"schaetzungObjekt\": 1811082.331, \"anzahlung\": 0, \"tragbarkeit\": 20, \"score\": 10}, {\"barvermoegen\": 132027.7668, \"aktienvermoegen\": 10092.06564, \"saeule3a\": 100000, \"lebensversicherung\": 0, \"pensionskasse\": 698845.2697, \"totalVermoegen\": 940965.1021, \"lohn\": 9100, \"lohnJahr\": 109200, \"bonus\": 0.0, \"zulagen\": 0, \"totalLohn\": 109200.0, \"schaetzungObjekt\": 971075.027, \"anzahlung\": 100, \"tragbarkeit\": 40, \"score\": 70}, {\"barvermoegen\": 167081.9362, \"aktienvermoegen\": 6827.232789, \"saeule3a\": 40000, \"lebensversicherung\": 0, \"pensionskasse\": 117677.132, \"totalVermoegen\": 331586.301, \"lohn\": 9100, \"lohnJahr\": 109200, \"bonus\": 0.0, \"zulagen\": 0, \"totalLohn\": 109200.0, \"schaetzungObjekt\": 1255336.834, \"anzahlung\": 80, \"tragbarkeit\": 20, \"score\": 50}, {\"barvermoegen\": 29348.41756, \"aktienvermoegen\": 20628.07413, \"saeule3a\": 40000, \"lebensversicherung\": 0, \"pensionskasse\": 117814.5794, \"totalVermoegen\": 207791.0711, \"lohn\": 13000, \"lohnJahr\": 156000, \"bonus\": 9874.822017, \"zulagen\": 0, \"totalLohn\": 165874.822, \"schaetzungObjekt\": 890347.1845, \"anzahlung\": 80, \"tragbarkeit\": 70, \"score\": 75}, {\"barvermoegen\": 56219.18533, \"aktienvermoegen\": 17996.38558, \"saeule3a\": 80000, \"lebensversicherung\": 0, \"pensionskasse\": 472366.0822, \"totalVermoegen\": 626581.6532, \"lohn\": 13000, \"lohnJahr\": 156000, \"bonus\": 21316.17794, \"zulagen\": 0, \"totalLohn\": 177316.1779, \"schaetzungObjekt\": 42045.3902, \"anzahlung\": 100, \"tragbarkeit\": 100, \"score\": 100}, {\"barvermoegen\": 66519.48789, \"aktienvermoegen\": 17090.02387, \"saeule3a\": 100000, \"lebensversicherung\": 0, \"pensionskasse\": 0.0, \"totalVermoegen\": 183609.5118, \"lohn\": 9100, \"lohnJahr\": 109200, \"bonus\": 0.0, \"zulagen\": 0, \"totalLohn\": 109200.0, \"schaetzungObjekt\": 1523217.802, \"anzahlung\": 0, \"tragbarkeit\": 20, \"score\": 10}, {\"barvermoegen\": 209319.2147, \"aktienvermoegen\": 3058.206809, \"saeule3a\": 40000, \"lebensversicherung\": 0, \"pensionskasse\": 119950.6414, \"totalVermoegen\": 372328.063, \"lohn\": 13000, \"lohnJahr\": 156000, \"bonus\": 22024.14455, \"zulagen\": 0, \"totalLohn\": 178024.1446, \"schaetzungObjekt\": 1739280.755, \"anzahlung\": 80, \"tragbarkeit\": 20, \"score\": 50}, {\"barvermoegen\": 175631.514, \"aktienvermoegen\": 6580.79518, \"saeule3a\": 40000, \"lebensversicherung\": 0, \"pensionskasse\": 120719.7329, \"totalVermoegen\": 342932.042, \"lohn\": 9100, \"lohnJahr\": 109200, \"bonus\": 0.0, \"zulagen\": 0, \"totalLohn\": 109200.0, \"schaetzungObjekt\": 553982.0909, \"anzahlung\": 100, \"tragbarkeit\": 80, \"score\": 90}, {\"barvermoegen\": 102359.1987, \"aktienvermoegen\": 13962.6646, \"saeule3a\": 130000, \"lebensversicherung\": 84000, \"pensionskasse\": 0.0, \"totalVermoegen\": 330321.8633, \"lohn\": 9100, \"lohnJahr\": 109200, \"bonus\": 0.0, \"zulagen\": 0, \"totalLohn\": 109200.0, \"schaetzungObjekt\": 1393183.011, \"anzahlung\": 80, \"tragbarkeit\": 20, \"score\": 50}, {\"barvermoegen\": 80714.52366, \"aktienvermoegen\": 16366.28374, \"saeule3a\": 80000, \"lebensversicherung\": 51000, \"pensionskasse\": 488754.722, \"totalVermoegen\": 716835.5294, \"lohn\": 13000, \"lohnJahr\": 156000, \"bonus\": 1843.495946, \"zulagen\": 0, \"totalLohn\": 157843.4959, \"schaetzungObjekt\": 964642.7348, \"anzahlung\": 100, \"tragbarkeit\": 70, \"score\": 85}, {\"barvermoegen\": 34371.60509, \"aktienvermoegen\": 21056.987, \"saeule3a\": 130000, \"lebensversicherung\": 87000, \"pensionskasse\": 0.0, \"totalVermoegen\": 272428.5921, \"lohn\": 9100, \"lohnJahr\": 109200, \"bonus\": 0.0, \"zulagen\": 0, \"totalLohn\": 109200.0, \"schaetzungObjekt\": 940930.3165, \"anzahlung\": 80, \"tragbarkeit\": 40, \"score\": 60}, {\"barvermoegen\": 148277.488, \"aktienvermoegen\": 10135.2887, \"saeule3a\": 130000, \"lebensversicherung\": 0, \"pensionskasse\": 0.0, \"totalVermoegen\": 288412.7767, \"lohn\": 5600, \"lohnJahr\": 67200, \"bonus\": 0.0, \"zulagen\": 840, \"totalLohn\": 68040.0, \"schaetzungObjekt\": 134631.1606, \"anzahlung\": 100, \"tragbarkeit\": 100, \"score\": 100}, {\"barvermoegen\": 67479.59333, \"aktienvermoegen\": 18233.35901, \"saeule3a\": 20000, \"lebensversicherung\": 0, \"pensionskasse\": 31226.64793, \"totalVermoegen\": 136939.6003, \"lohn\": 5600, \"lohnJahr\": 67200, \"bonus\": 0.0, \"zulagen\": 0, \"totalLohn\": 67200.0, \"schaetzungObjekt\": 1317127.629, \"anzahlung\": 0, \"tragbarkeit\": 10, \"score\": 5}, {\"barvermoegen\": 95744.33735, \"aktienvermoegen\": 15434.51051, \"saeule3a\": 130000, \"lebensversicherung\": 0, \"pensionskasse\": 0.0, \"totalVermoegen\": 241178.8479, \"lohn\": 13000, \"lohnJahr\": 156000, \"bonus\": 12458.87137, \"zulagen\": 0, \"totalLohn\": 168458.8714, \"schaetzungObjekt\": 1330641.253, \"anzahlung\": 0, \"tragbarkeit\": 40, \"score\": 20}, {\"barvermoegen\": 210731.1573, \"aktienvermoegen\": 4089.169322, \"saeule3a\": 40000, \"lebensversicherung\": 0, \"pensionskasse\": 125811.4253, \"totalVermoegen\": 380631.7519, \"lohn\": 9100, \"lohnJahr\": 109200, \"bonus\": 0.0, \"zulagen\": 0, \"totalLohn\": 109200.0, \"schaetzungObjekt\": 1252128.162, \"anzahlung\": 90, \"tragbarkeit\": 20, \"score\": 55}, {\"barvermoegen\": 114805.7814, \"aktienvermoegen\": 13705.17187, \"saeule3a\": 130000, \"lebensversicherung\": 72000, \"pensionskasse\": 0.0, \"totalVermoegen\": 330510.9533, \"lohn\": 9100, \"lohnJahr\": 109200, \"bonus\": 0.0, \"zulagen\": 0, \"totalLohn\": 109200.0, \"schaetzungObjekt\": 1630547.927, \"anzahlung\": 80, \"tragbarkeit\": 20, \"score\": 50}, {\"barvermoegen\": 47021.19284, \"aktienvermoegen\": 20502.38906, \"saeule3a\": 40000, \"lebensversicherung\": 0, \"pensionskasse\": 50409.01669, \"totalVermoegen\": 157932.5986, \"lohn\": 5600, \"lohnJahr\": 67200, \"bonus\": 0.0, \"zulagen\": 840, \"totalLohn\": 68040.0, \"schaetzungObjekt\": 177418.4478, \"anzahlung\": 100, \"tragbarkeit\": 100, \"score\": 100}, {\"barvermoegen\": 25383.91891, \"aktienvermoegen\": 22670.8913, \"saeule3a\": 130000, \"lebensversicherung\": 0, \"pensionskasse\": 0.0, \"totalVermoegen\": 178054.8102, \"lohn\": 13000, \"lohnJahr\": 156000, \"bonus\": 27682.25446, \"zulagen\": 0, \"totalLohn\": 183682.2545, \"schaetzungObjekt\": 1330278.821, \"anzahlung\": 0, \"tragbarkeit\": 40, \"score\": 20}, {\"barvermoegen\": 83760.59127, \"aktienvermoegen\": 17013.98614, \"saeule3a\": 80000, \"lebensversicherung\": 0, \"pensionskasse\": 507800.9053, \"totalVermoegen\": 688575.4827, \"lohn\": 9100, \"lohnJahr\": 109200, \"bonus\": 0.0, \"zulagen\": 0, \"totalLohn\": 109200.0, \"schaetzungObjekt\": 966002.2385, \"anzahlung\": 100, \"tragbarkeit\": 40, \"score\": 70}, {\"barvermoegen\": 73083.89653, \"aktienvermoegen\": 18105.8027, \"saeule3a\": 40000, \"lebensversicherung\": 48000, \"pensionskasse\": 127070.9618, \"totalVermoegen\": 306260.661, \"lohn\": 9100, \"lohnJahr\": 109200, \"bonus\": 0.0, \"zulagen\": 0, \"totalLohn\": 109200.0, \"schaetzungObjekt\": 1340424.976, \"anzahlung\": 80, \"tragbarkeit\": 20, \"score\": 50}, {\"barvermoegen\": 71620.29098, \"aktienvermoegen\": 18506.38976, \"saeule3a\": 100000, \"lebensversicherung\": 0, \"pensionskasse\": 128342.0943, \"totalVermoegen\": 318468.775, \"lohn\": 5600, \"lohnJahr\": 67200, \"bonus\": 0.0, \"zulagen\": 840, \"totalLohn\": 68040.0, \"schaetzungObjekt\": 226197.6491, \"anzahlung\": 100, \"tragbarkeit\": 100, \"score\": 100}, {\"barvermoegen\": 148050.0259, \"aktienvermoegen\": 10913.14289, \"saeule3a\": 100000, \"lebensversicherung\": 0, \"pensionskasse\": 771544.3644, \"totalVermoegen\": 1030507.533, \"lohn\": 9100, \"lohnJahr\": 109200, \"bonus\": 0.0, \"zulagen\": 0, \"totalLohn\": 109200.0, \"schaetzungObjekt\": 1141340.552, \"anzahlung\": 100, \"tragbarkeit\": 40, \"score\": 70}, {\"barvermoegen\": 207715.386, \"aktienvermoegen\": 4996.674559, \"saeule3a\": 130000, \"lebensversicherung\": 80000, \"pensionskasse\": 0.0, \"totalVermoegen\": 422712.0606, \"lohn\": 13000, \"lohnJahr\": 156000, \"bonus\": 2679.965479, \"zulagen\": 0, \"totalLohn\": 158679.9655, \"schaetzungObjekt\": 940366.0322, \"anzahlung\": 100, \"tragbarkeit\": 70, \"score\": 85}, {\"barvermoegen\": 161549.1422, \"aktienvermoegen\": 9806.134557, \"saeule3a\": 80000, \"lebensversicherung\": 0, \"pensionskasse\": 64902.62194, \"totalVermoegen\": 316257.8987, \"lohn\": 5600, \"lohnJahr\": 67200, \"bonus\": 0.0, \"zulagen\": 840, \"totalLohn\": 68040.0, \"schaetzungObjekt\": 1162244.858, \"anzahlung\": 80, \"tragbarkeit\": 10, \"score\": 45}, {\"barvermoegen\": 149700.6811, \"aktienvermoegen\": 11109.80615, \"saeule3a\": 100000, \"lebensversicherung\": 0, \"pensionskasse\": 0.0, \"totalVermoegen\": 260810.4873, \"lohn\": 5600, \"lohnJahr\": 67200, \"bonus\": 0.0, \"zulagen\": 840, \"totalLohn\": 68040.0, \"schaetzungObjekt\": 1275642.338, \"anzahlung\": 80, \"tragbarkeit\": 10, \"score\": 45}, {\"barvermoegen\": 121318.9106, \"aktienvermoegen\": 14105.48495, \"saeule3a\": 130000, \"lebensversicherung\": 0, \"pensionskasse\": 0.0, \"totalVermoegen\": 265424.3955, \"lohn\": 9100, \"lohnJahr\": 109200, \"bonus\": 0.0, \"zulagen\": 0, \"totalLohn\": 109200.0, \"schaetzungObjekt\": 409356.965, \"anzahlung\": 100, \"tragbarkeit\": 100, \"score\": 100}, {\"barvermoegen\": 221654.9427, \"aktienvermoegen\": 4264.785558, \"saeule3a\": 130000, \"lebensversicherung\": 83000, \"pensionskasse\": 0.0, \"totalVermoegen\": 438919.7283, \"lohn\": 13000, \"lohnJahr\": 156000, \"bonus\": 16946.82732, \"zulagen\": 0, \"totalLohn\": 172946.8273, \"schaetzungObjekt\": 364410.1871, \"anzahlung\": 100, \"tragbarkeit\": 100, \"score\": 100}, {\"barvermoegen\": 192878.3774, \"aktienvermoegen\": 7164.133539, \"saeule3a\": 100000, \"lebensversicherung\": 0, \"pensionskasse\": 0.0, \"totalVermoegen\": 300042.511, \"lohn\": 5600, \"lohnJahr\": 67200, \"bonus\": 0.0, \"zulagen\": 840, \"totalLohn\": 68040.0, \"schaetzungObjekt\": 1581792.885, \"anzahlung\": 0, \"tragbarkeit\": 10, \"score\": 5}, {\"barvermoegen\": 50179.76953, \"aktienvermoegen\": 21477.51365, \"saeule3a\": 130000, \"lebensversicherung\": 0, \"pensionskasse\": 0.0, \"totalVermoegen\": 201657.2832, \"lohn\": 9100, \"lohnJahr\": 109200, \"bonus\": 0.0, \"zulagen\": 0, \"totalLohn\": 109200.0, \"schaetzungObjekt\": 1719279.331, \"anzahlung\": 0, \"tragbarkeit\": 20, \"score\": 10}, {\"barvermoegen\": 138696.9704, \"aktienvermoegen\": 13155.39233, \"saeule3a\": 0, \"lebensversicherung\": 29000, \"pensionskasse\": 27025.08937, \"totalVermoegen\": 207877.4521, \"lohn\": 5600, \"lohnJahr\": 67200, \"bonus\": 0.0, \"zulagen\": 0, \"totalLohn\": 67200.0, \"schaetzungObjekt\": 912016.1735, \"anzahlung\": 80, \"tragbarkeit\": 20, \"score\": 50}, {\"barvermoegen\": 107728.0799, \"aktienvermoegen\": 16404.94006, \"saeule3a\": 40000, \"lebensversicherung\": 0, \"pensionskasse\": 54355.4961, \"totalVermoegen\": 218488.5161, \"lohn\": 5600, \"lohnJahr\": 67200, \"bonus\": 0.0, \"zulagen\": 840, \"totalLohn\": 68040.0, \"schaetzungObjekt\": 825198.4526, \"anzahlung\": 80, \"tragbarkeit\": 20, \"score\": 50}, {\"barvermoegen\": 226273.1616, \"aktienvermoegen\": 4574.1697, \"saeule3a\": 40000, \"lebensversicherung\": 0, \"pensionskasse\": 136007.4293, \"totalVermoegen\": 406854.7607, \"lohn\": 9100, \"lohnJahr\": 109200, \"bonus\": 0.0, \"zulagen\": 0, \"totalLohn\": 109200.0, \"schaetzungObjekt\": 1174818.99, \"anzahlung\": 90, \"tragbarkeit\": 40, \"score\": 65}, {\"barvermoegen\": 182497.5705, \"aktienvermoegen\": 9334.739767, \"saeule3a\": 130000, \"lebensversicherung\": 0, \"pensionskasse\": 0.0, \"totalVermoegen\": 321832.3103, \"lohn\": 5600, \"lohnJahr\": 67200, \"bonus\": 0.0, \"zulagen\": 840, \"totalLohn\": 68040.0, \"schaetzungObjekt\": 1543279.51, \"anzahlung\": 80, \"tragbarkeit\": 10, \"score\": 45}, {\"barvermoegen\": 256667.3661, \"aktienvermoegen\": 2222.190828, \"saeule3a\": 20000, \"lebensversicherung\": 0, \"pensionskasse\": 46481.54572, \"totalVermoegen\": 325371.1026, \"lohn\": 3200, \"lohnJahr\": 38400, \"bonus\": 0.0, \"zulagen\": 480, \"totalLohn\": 38880.0, \"schaetzungObjekt\": 164528.8741, \"anzahlung\": 100, \"tragbarkeit\": 100, \"score\": 100}, {\"barvermoegen\": 207329.1429, \"aktienvermoegen\": 7319.176494, \"saeule3a\": 40000, \"lebensversicherung\": 0, \"pensionskasse\": 140260.4539, \"totalVermoegen\": 394908.7733, \"lohn\": 9100, \"lohnJahr\": 109200, \"bonus\": 0.0, \"zulagen\": 0, \"totalLohn\": 109200.0, \"schaetzungObjekt\": 1753784.858, \"anzahlung\": 80, \"tragbarkeit\": 20, \"score\": 50}, {\"barvermoegen\": 160612.6441, \"aktienvermoegen\": 12010.60788, \"saeule3a\": 100000, \"lebensversicherung\": 64000, \"pensionskasse\": 842156.1688, \"totalVermoegen\": 1178779.421, \"lohn\": 13000, \"lohnJahr\": 156000, \"bonus\": 19204.68987, \"zulagen\": 0, \"totalLohn\": 175204.6899, \"schaetzungObjekt\": 397817.9512, \"anzahlung\": 100, \"tragbarkeit\": 100, \"score\": 100}, {\"barvermoegen\": 69248.92446, \"aktienvermoegen\": 21180.13093, \"saeule3a\": 130000, \"lebensversicherung\": 0, \"pensionskasse\": 0.0, \"totalVermoegen\": 220429.0554, \"lohn\": 9100, \"lohnJahr\": 109200, \"bonus\": 0.0, \"zulagen\": 0, \"totalLohn\": 109200.0, \"schaetzungObjekt\": 1655451.43, \"anzahlung\": 0, \"tragbarkeit\": 20, \"score\": 10}, {\"barvermoegen\": 162636.7641, \"aktienvermoegen\": 11928.11276, \"saeule3a\": 80000, \"lebensversicherung\": 55000, \"pensionskasse\": 563835.7834, \"totalVermoegen\": 873400.6602, \"lohn\": 9100, \"lohnJahr\": 109200, \"bonus\": 0.0, \"zulagen\": 0, \"totalLohn\": 109200.0, \"schaetzungObjekt\": 871066.3216, \"anzahlung\": 100, \"tragbarkeit\": 50, \"score\": 75}, {\"barvermoegen\": 85021.4055, \"aktienvermoegen\": 19797.69659, \"saeule3a\": 40000, \"lebensversicherung\": 0, \"pensionskasse\": 141499.1857, \"totalVermoegen\": 286318.2878, \"lohn\": 9100, \"lohnJahr\": 109200, \"bonus\": 0.0, \"zulagen\": 0, \"totalLohn\": 109200.0, \"schaetzungObjekt\": 842705.4767, \"anzahlung\": 90, \"tragbarkeit\": 50, \"score\": 70}, {\"barvermoegen\": 66223.74104, \"aktienvermoegen\": 21898.1974, \"saeule3a\": 130000, \"lebensversicherung\": 0, \"pensionskasse\": 0.0, \"totalVermoegen\": 218121.9384, \"lohn\": 9100, \"lohnJahr\": 109200, \"bonus\": 0.0, \"zulagen\": 0, \"totalLohn\": 109200.0, \"schaetzungObjekt\": 1279526.017, \"anzahlung\": 0, \"tragbarkeit\": 20, \"score\": 10}, {\"barvermoegen\": 224647.8427, \"aktienvermoegen\": 6140.233818, \"saeule3a\": 130000, \"lebensversicherung\": 0, \"pensionskasse\": 0.0, \"totalVermoegen\": 360788.0765, \"lohn\": 9100, \"lohnJahr\": 109200, \"bonus\": 0.0, \"zulagen\": 0, \"totalLohn\": 109200.0, \"schaetzungObjekt\": 736511.9096, \"anzahlung\": 100, \"tragbarkeit\": 50, \"score\": 75}, {\"barvermoegen\": 122111.2522, \"aktienvermoegen\": 16594.43645, \"saeule3a\": 100000, \"lebensversicherung\": 0, \"pensionskasse\": 0.0, \"totalVermoegen\": 238705.6887, \"lohn\": 13000, \"lohnJahr\": 156000, \"bonus\": 18150.5824, \"zulagen\": 0, \"totalLohn\": 174150.5824, \"schaetzungObjekt\": 712751.0618, \"anzahlung\": 90, \"tragbarkeit\": 100, \"score\": 95}, {\"barvermoegen\": 153254.7482, \"aktienvermoegen\": 13523.7426, \"saeule3a\": 130000, \"lebensversicherung\": 0, \"pensionskasse\": 0.0, \"totalVermoegen\": 296778.4908, \"lohn\": 5600, \"lohnJahr\": 67200, \"bonus\": 0.0, \"zulagen\": 840, \"totalLohn\": 68040.0, \"schaetzungObjekt\": 1123273.304, \"anzahlung\": 80, \"tragbarkeit\": 10, \"score\": 45}, {\"barvermoegen\": 185013.4032, \"aktienvermoegen\": 10391.66927, \"saeule3a\": 130000, \"lebensversicherung\": 0, \"pensionskasse\": 0.0, \"totalVermoegen\": 325405.0725, \"lohn\": 5600, \"lohnJahr\": 67200, \"bonus\": 0.0, \"zulagen\": 840, \"totalLohn\": 68040.0, \"schaetzungObjekt\": 1825260.255, \"anzahlung\": 0, \"tragbarkeit\": 10, \"score\": 5}, {\"barvermoegen\": 151506.6489, \"aktienvermoegen\": 13801.27995, \"saeule3a\": 130000, \"lebensversicherung\": 0, \"pensionskasse\": 0.0, \"totalVermoegen\": 295307.9289, \"lohn\": 5600, \"lohnJahr\": 67200, \"bonus\": 0.0, \"zulagen\": 840, \"totalLohn\": 68040.0, \"schaetzungObjekt\": 1350894.689, \"anzahlung\": 80, \"tragbarkeit\": 10, \"score\": 45}, {\"barvermoegen\": 140383.1645, \"aktienvermoegen\": 14935.86554, \"saeule3a\": 100000, \"lebensversicherung\": 0, \"pensionskasse\": 0.0, \"totalVermoegen\": 255319.03, \"lohn\": 5600, \"lohnJahr\": 67200, \"bonus\": 0.0, \"zulagen\": 840, \"totalLohn\": 68040.0, \"schaetzungObjekt\": 1350485.545, \"anzahlung\": 0, \"tragbarkeit\": 10, \"score\": 5}, {\"barvermoegen\": 78406.16716, \"aktienvermoegen\": 21443.52107, \"saeule3a\": 130000, \"lebensversicherung\": 0, \"pensionskasse\": 0.0, \"totalVermoegen\": 229849.6882, \"lohn\": 5600, \"lohnJahr\": 67200, \"bonus\": 0.0, \"zulagen\": 840, \"totalLohn\": 68040.0, \"schaetzungObjekt\": 1131937.733, \"anzahlung\": 80, \"tragbarkeit\": 10, \"score\": 45}, {\"barvermoegen\": 152002.9568, \"aktienvermoegen\": 14130.36276, \"saeule3a\": 130000, \"lebensversicherung\": 0, \"pensionskasse\": 0.0, \"totalVermoegen\": 296133.3195, \"lohn\": 5600, \"lohnJahr\": 67200, \"bonus\": 0.0, \"zulagen\": 840, \"totalLohn\": 68040.0, \"schaetzungObjekt\": 315413.9846, \"anzahlung\": 100, \"tragbarkeit\": 100, \"score\": 100}, {\"barvermoegen\": 291472.2756, \"aktienvermoegen\": 348.231315, \"saeule3a\": 100000, \"lebensversicherung\": 69000, \"pensionskasse\": 0.0, \"totalVermoegen\": 460820.5069, \"lohn\": 9100, \"lohnJahr\": 109200, \"bonus\": 0.0, \"zulagen\": 0, \"totalLohn\": 109200.0, \"schaetzungObjekt\": 1788314.234, \"anzahlung\": 80, \"tragbarkeit\": 20, \"score\": 50}, {\"barvermoegen\": 164640.0983, \"aktienvermoegen\": 13159.41495, \"saeule3a\": 130000, \"lebensversicherung\": 0, \"pensionskasse\": 0.0, \"totalVermoegen\": 307799.5132, \"lohn\": 9100, \"lohnJahr\": 109200, \"bonus\": 0.0, \"zulagen\": 0, \"totalLohn\": 109200.0, \"schaetzungObjekt\": 758884.8291, \"anzahlung\": 100, \"tragbarkeit\": 50, \"score\": 75}, {\"barvermoegen\": 293931.7672, \"aktienvermoegen\": 409.7823124, \"saeule3a\": 40000, \"lebensversicherung\": 0, \"pensionskasse\": 149014.7952, \"totalVermoegen\": 483356.3447, \"lohn\": 9100, \"lohnJahr\": 109200, \"bonus\": 0.0, \"zulagen\": 0, \"totalLohn\": 109200.0, \"schaetzungObjekt\": 404266.879, \"anzahlung\": 100, \"tragbarkeit\": 100, \"score\": 100}, {\"barvermoegen\": 15995.94262, \"aktienvermoegen\": 28724.91451, \"saeule3a\": 100000, \"lebensversicherung\": 0, \"pensionskasse\": 0.0, \"totalVermoegen\": 144720.8571, \"lohn\": 5600, \"lohnJahr\": 67200, \"bonus\": 0.0, \"zulagen\": 840, \"totalLohn\": 68040.0, \"schaetzungObjekt\": 793313.296, \"anzahlung\": 0, \"tragbarkeit\": 20, \"score\": 10}, {\"barvermoegen\": 142911.2267, \"aktienvermoegen\": 16033.3861, \"saeule3a\": 80000, \"lebensversicherung\": 58000, \"pensionskasse\": 606490.1754, \"totalVermoegen\": 903434.7882, \"lohn\": 9100, \"lohnJahr\": 109200, \"bonus\": 0.0, \"zulagen\": 0, \"totalLohn\": 109200.0, \"schaetzungObjekt\": 398882.3796, \"anzahlung\": 100, \"tragbarkeit\": 100, \"score\": 100}, {\"barvermoegen\": 199967.7243, \"aktienvermoegen\": 10488.85333, \"saeule3a\": 130000, \"lebensversicherung\": 0, \"pensionskasse\": 0.0, \"totalVermoegen\": 340456.5776, \"lohn\": 5600, \"lohnJahr\": 67200, \"bonus\": 0.0, \"zulagen\": 840, \"totalLohn\": 68040.0, \"schaetzungObjekt\": 1499978.708, \"anzahlung\": 80, \"tragbarkeit\": 10, \"score\": 45}, {\"barvermoegen\": 129236.9708, \"aktienvermoegen\": 17580.0731, \"saeule3a\": 20000, \"lebensversicherung\": 0, \"pensionskasse\": 38129.71272, \"totalVermoegen\": 204946.7566, \"lohn\": 8000, \"lohnJahr\": 96000, \"bonus\": 19245.42187, \"zulagen\": 0, \"totalLohn\": 115245.4219, \"schaetzungObjekt\": 630955.088, \"anzahlung\": 90, \"tragbarkeit\": 70, \"score\": 80}, {\"barvermoegen\": 122382.7803, \"aktienvermoegen\": 18919.91906, \"saeule3a\": 130000, \"lebensversicherung\": 0, \"pensionskasse\": 0.0, \"totalVermoegen\": 271302.6993, \"lohn\": 5600, \"lohnJahr\": 67200, \"bonus\": 0.0, \"zulagen\": 840, \"totalLohn\": 68040.0, \"schaetzungObjekt\": 1022802.663, \"anzahlung\": 80, \"tragbarkeit\": 20, \"score\": 50}, {\"barvermoegen\": 96204.2742, \"aktienvermoegen\": 21800.52269, \"saeule3a\": 130000, \"lebensversicherung\": 0, \"pensionskasse\": 0.0, \"totalVermoegen\": 248004.7969, \"lohn\": 5600, \"lohnJahr\": 67200, \"bonus\": 0.0, \"zulagen\": 840, \"totalLohn\": 68040.0, \"schaetzungObjekt\": 1542479.774, \"anzahlung\": 0, \"tragbarkeit\": 10, \"score\": 5}, {\"barvermoegen\": 65528.56341, \"aktienvermoegen\": 24940.3986, \"saeule3a\": 40000, \"lebensversicherung\": 0, \"pensionskasse\": 157466.2747, \"totalVermoegen\": 287935.2367, \"lohn\": 13000, \"lohnJahr\": 156000, \"bonus\": 17317.02452, \"zulagen\": 0, \"totalLohn\": 173317.0245, \"schaetzungObjekt\": 1901460.213, \"anzahlung\": 0, \"tragbarkeit\": 20, \"score\": 10}, {\"barvermoegen\": 219040.7645, \"aktienvermoegen\": 9778.944561, \"saeule3a\": 130000, \"lebensversicherung\": 88000, \"pensionskasse\": 0.0, \"totalVermoegen\": 446819.709, \"lohn\": 9100, \"lohnJahr\": 109200, \"bonus\": 0.0, \"zulagen\": 0, \"totalLohn\": 109200.0, \"schaetzungObjekt\": 1753962.498, \"anzahlung\": 80, \"tragbarkeit\": 20, \"score\": 50}, {\"barvermoegen\": 295517.2176, \"aktienvermoegen\": 2838.385906, \"saeule3a\": 0, \"lebensversicherung\": 0, \"pensionskasse\": 40487.63458, \"totalVermoegen\": 338843.2381, \"lohn\": 3200, \"lohnJahr\": 38400, \"bonus\": 0.0, \"zulagen\": 480, \"totalLohn\": 38880.0, \"schaetzungObjekt\": 664337.0176, \"anzahlung\": 100, \"tragbarkeit\": 10, \"score\": 55}, {\"barvermoegen\": 7046.836973, \"aktienvermoegen\": 31768.64273, \"saeule3a\": 100000, \"lebensversicherung\": 0, \"pensionskasse\": 974199.7928, \"totalVermoegen\": 1113015.273, \"lohn\": 9100, \"lohnJahr\": 109200, \"bonus\": 0.0, \"zulagen\": 0, \"totalLohn\": 109200.0, \"schaetzungObjekt\": 530903.0208, \"anzahlung\": 100, \"tragbarkeit\": 80, \"score\": 90}, {\"barvermoegen\": 314427.4803, \"aktienvermoegen\": 1163.182722, \"saeule3a\": 130000, \"lebensversicherung\": 90000, \"pensionskasse\": 0.0, \"totalVermoegen\": 535590.6631, \"lohn\": 9100, \"lohnJahr\": 109200, \"bonus\": 0.0, \"zulagen\": 0, \"totalLohn\": 109200.0, \"schaetzungObjekt\": 1892088.052, \"anzahlung\": 80, \"tragbarkeit\": 10, \"score\": 45}, {\"barvermoegen\": 251546.2132, \"aktienvermoegen\": 7561.813044, \"saeule3a\": 130000, \"lebensversicherung\": 0, \"pensionskasse\": 0.0, \"totalVermoegen\": 389108.0262, \"lohn\": 5600, \"lohnJahr\": 67200, \"bonus\": 0.0, \"zulagen\": 840, \"totalLohn\": 68040.0, \"schaetzungObjekt\": 294563.7983, \"anzahlung\": 100, \"tragbarkeit\": 100, \"score\": 100}, {\"barvermoegen\": 33371.64324, \"aktienvermoegen\": 29529.60951, \"saeule3a\": 0, \"lebensversicherung\": 0, \"pensionskasse\": 32866.77384, \"totalVermoegen\": 95768.02659, \"lohn\": 5600, \"lohnJahr\": 67200, \"bonus\": 0.0, \"zulagen\": 0, \"totalLohn\": 67200.0, \"schaetzungObjekt\": 378511.2062, \"anzahlung\": 80, \"tragbarkeit\": 70, \"score\": 75}, {\"barvermoegen\": 68416.88994, \"aktienvermoegen\": 26063.01077, \"saeule3a\": 80000, \"lebensversicherung\": 0, \"pensionskasse\": 82261.74941, \"totalVermoegen\": 256741.6501, \"lohn\": 5600, \"lohnJahr\": 67200, \"bonus\": 0.0, \"zulagen\": 840, \"totalLohn\": 68040.0, \"schaetzungObjekt\": 461772.3125, \"anzahlung\": 100, \"tragbarkeit\": 50, \"score\": 75}, {\"barvermoegen\": 255701.6543, \"aktienvermoegen\": 8393.186172, \"saeule3a\": 130000, \"lebensversicherung\": 0, \"pensionskasse\": 0.0, \"totalVermoegen\": 394094.8404, \"lohn\": 9100, \"lohnJahr\": 109200, \"bonus\": 0.0, \"zulagen\": 0, \"totalLohn\": 109200.0, \"schaetzungObjekt\": 1715487.256, \"anzahlung\": 80, \"tragbarkeit\": 20, \"score\": 50}, {\"barvermoegen\": 42178.285, \"aktienvermoegen\": 29850.56974, \"saeule3a\": 80000, \"lebensversicherung\": 0, \"pensionskasse\": 85170.99559, \"totalVermoegen\": 237199.8503, \"lohn\": 5600, \"lohnJahr\": 67200, \"bonus\": 0.0, \"zulagen\": 840, \"totalLohn\": 68040.0, \"schaetzungObjekt\": 422760.3619, \"anzahlung\": 100, \"tragbarkeit\": 70, \"score\": 85}, {\"barvermoegen\": 201815.3325, \"aktienvermoegen\": 14133.51995, \"saeule3a\": 40000, \"lebensversicherung\": 0, \"pensionskasse\": 68630.1064, \"totalVermoegen\": 324578.9589, \"lohn\": 5600, \"lohnJahr\": 67200, \"bonus\": 0.0, \"zulagen\": 840, \"totalLohn\": 68040.0, \"schaetzungObjekt\": 1109459.68, \"anzahlung\": 80, \"tragbarkeit\": 20, \"score\": 50}, {\"barvermoegen\": 253425.7594, \"aktienvermoegen\": 9019.952884, \"saeule3a\": 20000, \"lebensversicherung\": 0, \"pensionskasse\": 42953.16103, \"totalVermoegen\": 325398.8733, \"lohn\": 8000, \"lohnJahr\": 96000, \"bonus\": 8035.292666, \"zulagen\": 0, \"totalLohn\": 104035.2927, \"schaetzungObjekt\": 88528.99741, \"anzahlung\": 100, \"tragbarkeit\": 100, \"score\": 100}, {\"barvermoegen\": 19693.00344, \"aktienvermoegen\": 33236.87576, \"saeule3a\": 130000, \"lebensversicherung\": 0, \"pensionskasse\": 0.0, \"totalVermoegen\": 182929.8792, \"lohn\": 13000, \"lohnJahr\": 156000, \"bonus\": 17965.59768, \"zulagen\": 0, \"totalLohn\": 173965.5977, \"schaetzungObjekt\": 1007879.421, \"anzahlung\": 0, \"tragbarkeit\": 70, \"score\": 35}, {\"barvermoegen\": 58288.9326, \"aktienvermoegen\": 29729.2573, \"saeule3a\": 20000, \"lebensversicherung\": 0, \"pensionskasse\": 44447.6882, \"totalVermoegen\": 152465.8781, \"lohn\": 5600, \"lohnJahr\": 67200, \"bonus\": 0.0, \"zulagen\": 0, \"totalLohn\": 67200.0, \"schaetzungObjekt\": 1950916.358, \"anzahlung\": 60, \"tragbarkeit\": 10, \"score\": 35}, {\"barvermoegen\": 191295.7331, \"aktienvermoegen\": 16485.87541, \"saeule3a\": 100000, \"lebensversicherung\": 63000, \"pensionskasse\": 1068463.462, \"totalVermoegen\": 1439245.07, \"lohn\": 13000, \"lohnJahr\": 156000, \"bonus\": 28929.95077, \"zulagen\": 0, \"totalLohn\": 184929.9508, \"schaetzungObjekt\": 862010.4343, \"anzahlung\": 100, \"tragbarkeit\": 80, \"score\": 90}, {\"barvermoegen\": 309287.3084, \"aktienvermoegen\": 5845.505086, \"saeule3a\": 40000, \"lebensversicherung\": 0, \"pensionskasse\": 183871.1796, \"totalVermoegen\": 539003.9931, \"lohn\": 9100, \"lohnJahr\": 109200, \"bonus\": 0.0, \"zulagen\": 0, \"totalLohn\": 109200.0, \"schaetzungObjekt\": 414131.046, \"anzahlung\": 100, \"tragbarkeit\": 100, \"score\": 100}, {\"barvermoegen\": 363225.4857, \"aktienvermoegen\": 1060.412158, \"saeule3a\": 40000, \"lebensversicherung\": 47000, \"pensionskasse\": 186914.8036, \"totalVermoegen\": 638200.7015, \"lohn\": 13000, \"lohnJahr\": 156000, \"bonus\": 16933.07029, \"zulagen\": 0, \"totalLohn\": 172933.0703, \"schaetzungObjekt\": 742694.7657, \"anzahlung\": 100, \"tragbarkeit\": 100, \"score\": 100}, {\"barvermoegen\": 299925.4716, \"aktienvermoegen\": 8483.4443, \"saeule3a\": 20000, \"lebensversicherung\": 34000, \"pensionskasse\": 48094.98932, \"totalVermoegen\": 410503.9052, \"lohn\": 5600, \"lohnJahr\": 67200, \"bonus\": 0.0, \"zulagen\": 0, \"totalLohn\": 67200.0, \"schaetzungObjekt\": 686009.2211, \"anzahlung\": 100, \"tragbarkeit\": 40, \"score\": 70}, {\"barvermoegen\": 332764.5573, \"aktienvermoegen\": 5748.50673, \"saeule3a\": 80000, \"lebensversicherung\": 57000, \"pensionskasse\": 780499.2492, \"totalVermoegen\": 1256012.313, \"lohn\": 13000, \"lohnJahr\": 156000, \"bonus\": 11409.0143, \"zulagen\": 0, \"totalLohn\": 167409.0143, \"schaetzungObjekt\": 1615349.44, \"anzahlung\": 100, \"tragbarkeit\": 40, \"score\": 70}, {\"barvermoegen\": 15102.60435, \"aktienvermoegen\": 37514.70203, \"saeule3a\": 80000, \"lebensversicherung\": 59000, \"pensionskasse\": 780499.2492, \"totalVermoegen\": 972116.5556, \"lohn\": 13000, \"lohnJahr\": 156000, \"bonus\": 15758.88708, \"zulagen\": 0, \"totalLohn\": 171758.8871, \"schaetzungObjekt\": 1844291.406, \"anzahlung\": 100, \"tragbarkeit\": 20, \"score\": 60}, {\"barvermoegen\": 238250.2316, \"aktienvermoegen\": 16400.4723, \"saeule3a\": 40000, \"lebensversicherung\": 46000, \"pensionskasse\": 201127.4773, \"totalVermoegen\": 541778.1813, \"lohn\": 13000, \"lohnJahr\": 156000, \"bonus\": 23004.53872, \"zulagen\": 0, \"totalLohn\": 179004.5387, \"schaetzungObjekt\": 310448.6865, \"anzahlung\": 100, \"tragbarkeit\": 100, \"score\": 100}, {\"barvermoegen\": 284680.3975, \"aktienvermoegen\": 12058.68037, \"saeule3a\": 130000, \"lebensversicherung\": 90000, \"pensionskasse\": 0.0, \"totalVermoegen\": 516739.0778, \"lohn\": 9100, \"lohnJahr\": 109200, \"bonus\": 0.0, \"zulagen\": 0, \"totalLohn\": 109200.0, \"schaetzungObjekt\": 161888.0517, \"anzahlung\": 100, \"tragbarkeit\": 100, \"score\": 100}, {\"barvermoegen\": 216612.5278, \"aktienvermoegen\": 19229.99281, \"saeule3a\": 20000, \"lebensversicherung\": 0, \"pensionskasse\": 51114.05699, \"totalVermoegen\": 306956.5776, \"lohn\": 5600, \"lohnJahr\": 67200, \"bonus\": 0.0, \"zulagen\": 0, \"totalLohn\": 67200.0, \"schaetzungObjekt\": 231512.1668, \"anzahlung\": 100, \"tragbarkeit\": 100, \"score\": 100}, {\"barvermoegen\": 334148.999, \"aktienvermoegen\": 7524.367007, \"saeule3a\": 80000, \"lebensversicherung\": 52000, \"pensionskasse\": 818785.3382, \"totalVermoegen\": 1292458.704, \"lohn\": 9100, \"lohnJahr\": 109200, \"bonus\": 0.0, \"zulagen\": 0, \"totalLohn\": 109200.0, \"schaetzungObjekt\": 50032.47847, \"anzahlung\": 100, \"tragbarkeit\": 100, \"score\": 100}, {\"barvermoegen\": 360670.3273, \"aktienvermoegen\": 5746.440486, \"saeule3a\": 40000, \"lebensversicherung\": 0, \"pensionskasse\": 83626.94643, \"totalVermoegen\": 490043.7142, \"lohn\": 5600, \"lohnJahr\": 67200, \"bonus\": 0.0, \"zulagen\": 840, \"totalLohn\": 68040.0, \"schaetzungObjekt\": 458750.2425, \"anzahlung\": 100, \"tragbarkeit\": 50, \"score\": 75}, {\"barvermoegen\": 9678.416234, \"aktienvermoegen\": 53200.20762, \"saeule3a\": 40000, \"lebensversicherung\": 0, \"pensionskasse\": 108336.0985, \"totalVermoegen\": 211214.7223, \"lohn\": 5600, \"lohnJahr\": 67200, \"bonus\": 0.0, \"zulagen\": 840, \"totalLohn\": 68040.0, \"schaetzungObjekt\": 1042591.288, \"anzahlung\": 80, \"tragbarkeit\": 20, \"score\": 50}]}}, {\"actions\": false, \"mode\": \"vega-lite\"});\n</script>",
      "text/plain": "alt.Chart(...)"
     },
     "metadata": {}
    }
   ],
   "source": "_deepnote_run_altair(modelWithScore, \"\"\"{\"$schema\":\"https://vega.github.io/schema/vega-lite/v4.json\",\"mark\":{\"type\":\"line\",\"tooltip\":true},\"height\":220,\"autosize\":{\"type\":\"fit\"},\"data\":{\"name\":\"placeholder\"},\"encoding\":{\"x\":{\"field\":\"saeule3a\",\"type\":\"nominal\",\"sort\":null,\"scale\":{\"type\":\"linear\",\"zero\":false},\"bin\":false},\"y\":{\"field\":\"saeule3a\",\"type\":\"quantitative\",\"sort\":null,\"scale\":{\"type\":\"linear\",\"zero\":false}},\"color\":{\"field\":\"\",\"type\":\"nominal\",\"sort\":null,\"scale\":{\"type\":\"linear\",\"zero\":false}}}}\"\"\")",
   "execution_count": null
  },
  {
   "cell_type": "code",
   "source": "np.random.seed(42)\nmodelWithScore['age'] = np.random.beta(2, 4, modelWithScore.shape[0]) * (90-25) + 25\nmodelWithScore['usCitizen'] = np.random.rand(modelWithScore.shape[0]) > 0.9\nmodelWithScore['propertyType'] = np.random.choice([\"investment\", \"owner-occupied\"], modelWithScore.shape[0])\nmodelWithScore['age'].hist()",
   "metadata": {
    "cell_id": "7abe1def88f84e1ab86c9c4d6ee6e6a8",
    "tags": [],
    "deepnote_to_be_reexecuted": false,
    "source_hash": "d342f419",
    "execution_start": 1664628793435,
    "execution_millis": 1823,
    "deepnote_cell_type": "code",
    "deepnote_cell_height": 634,
    "deepnote_output_heights": [
     20,
     414
    ]
   },
   "outputs": [
    {
     "output_type": "execute_result",
     "execution_count": 6,
     "data": {
      "text/plain": "<AxesSubplot:>"
     },
     "metadata": {}
    },
    {
     "data": {
      "text/plain": "<Figure size 640x480 with 1 Axes>",
      "image/png": "[encoded data removed]"
     },
     "metadata": {
      "image/png": {
       "width": 552,
       "height": 413
      }
     },
     "output_type": "display_data"
    }
   ],
   "execution_count": null
  },
  {
   "cell_type": "markdown",
   "source": "",
   "metadata": {
    "is_collapsed": false,
    "cell_id": "5ba84d99151d4b949f1679c568ab36c8",
    "tags": [],
    "formattedRanges": [],
    "deepnote_cell_type": "text-cell-p"
   }
  },
  {
   "cell_type": "code",
   "source": "def pre_knowledge_engineering(df):\n    df['ownerOccupied'] = df['propertyType'] == 'owner-occupied'\n    df['investment']    = df['propertyType'] == 'investment'\n    df['maxLoanSize'] = df['schaetzungObjekt'] * 0.80 * df['ownerOccupied'] + \\\n                        df['schaetzungObjekt'] * 0.75 * df['investment']\n    df['minAnzahlung'] = df['schaetzungObjekt'] - df['maxLoanSize']\n    df['liquidAssets'] = df['barvermoegen'] + df['aktienvermoegen'] + df['saeule3a'] + df['lebensversicherung']\n\n    df['eligibleMinAnzahlungFactor'] = (((df['liquidAssets'] / (df['minAnzahlung']/2)) * df['ownerOccupied']) + \\\n                                        ((df['liquidAssets'] / df['minAnzahlung']  ) * df['investment']))\n    df['eligibleMinAnzahlung'] = df['eligibleMinAnzahlungFactor'] >= 1.0\n\n    df['eligibleAmortisationFactor'] = df['maxLoanSize'] / ((df['totalLohn'] * (2/3) * (df['age'] >= 60) + \\\n                                   df['totalLohn'] * 0.30  * (df['age'] <  60)) * \\\n                                 (df['ownerOccupied']*10 + \\\n                                  df['investment']*15))\n    df['eligibleAmortisation'] =  df['eligibleAmortisationFactor'] >= 1.0\n\n    df['eligibleMinAnzahlungScore'] = df['eligibleMinAnzahlungFactor'] * (df['eligibleMinAnzahlungFactor'] <= 1) + (df['eligibleMinAnzahlungFactor'] > 1)\n    df['eligibleAmortisationScore'] = df['eligibleAmortisationFactor'] * (df['eligibleAmortisationFactor'] <= 1) + (df['eligibleAmortisationFactor'] > 1)\n\n    df['eligibleUsCitizen'] = ~df['usCitizen']\n    df['eligible'] = df['eligibleUsCitizen'] & df['eligibleAmortisation'] & df['eligibleMinAnzahlung']\n    df['eligibleRegulatoryScore'] = 20*df['eligibleUsCitizen'] + 40*df['eligibleMinAnzahlungScore'] + 40*df['eligibleAmortisationScore']\n    \n    df.drop(['eligibleAmortisationFactor', 'eligibleMinAnzahlungFactor', 'liquidAssets', 'minAnzahlung', 'maxLoanSize', 'investment', 'ownerOccupied'], axis=1, inplace=True)\n\n    return df\n\n\n# tests\nmodelWithScore = pre_knowledge_engineering(modelWithScore)\nmodelWithScore['eligibleRegulatoryScore'].hist()\n",
   "metadata": {
    "cell_id": "56d2043af6294e9eb9d49c1996afbe94",
    "tags": [],
    "deepnote_to_be_reexecuted": false,
    "source_hash": "7ea1f00c",
    "execution_start": 1664632660769,
    "execution_millis": 407,
    "deepnote_table_state": {
     "pageSize": 10,
     "pageIndex": 99,
     "filters": [],
     "sortBy": []
    },
    "deepnote_table_loading": false,
    "deepnote_cell_type": "code",
    "deepnote_cell_height": 1156
   },
   "outputs": [
    {
     "output_type": "execute_result",
     "execution_count": 36,
     "data": {
      "text/plain": "<AxesSubplot:>"
     },
     "metadata": {}
    },
    {
     "data": {
      "text/plain": "<Figure size 640x480 with 1 Axes>",
      "image/png": "[encoded data removed]"
     },
     "metadata": {
      "image/png": {
       "width": 552,
       "height": 413
      }
     },
     "output_type": "display_data"
    }
   ],
   "execution_count": null
  },
  {
   "cell_type": "code",
   "source": "modelWithScore[modelWithScore['eligible']]",
   "metadata": {
    "cell_id": "2b0da6b3a45a4611a8ac182507247b19",
    "tags": [],
    "deepnote_to_be_reexecuted": false,
    "source_hash": "f3b4a48b",
    "execution_start": 1664632664166,
    "execution_millis": 186,
    "deepnote_cell_type": "code"
   },
   "outputs": [
    {
     "output_type": "execute_result",
     "execution_count": 37,
     "data": {
      "application/vnd.deepnote.dataframe.v3+json": {
       "column_count": 26,
       "row_count": 255,
       "columns": [
        {
         "name": "barvermoegen",
         "dtype": "float64",
         "stats": {
          "unique_count": 255,
          "nan_count": 0,
          "min": "3.944353786",
          "max": "395285.7517",
          "histogram": [
           {
            "bin_start": 3.944353786,
            "bin_end": 39532.1250884074,
            "count": 90
           },
           {
            "bin_start": 39532.1250884074,
            "bin_end": 79060.30582302882,
            "count": 49
           },
           {
            "bin_start": 79060.30582302882,
            "bin_end": 118588.48655765022,
            "count": 39
           },
           {
            "bin_start": 118588.48655765022,
            "bin_end": 158116.66729227162,
            "count": 31
           },
           {
            "bin_start": 158116.66729227162,
            "bin_end": 197644.84802689304,
            "count": 25
           },
           {
            "bin_start": 197644.84802689304,
            "bin_end": 237173.02876151443,
            "count": 7
           },
           {
            "bin_start": 237173.02876151443,
            "bin_end": 276701.2094961358,
            "count": 6
           },
           {
            "bin_start": 276701.2094961358,
            "bin_end": 316229.39023075724,
            "count": 4
           },
           {
            "bin_start": 316229.39023075724,
            "bin_end": 355757.57096537866,
            "count": 2
           },
           {
            "bin_start": 355757.57096537866,
            "bin_end": 395285.7517,
            "count": 2
           }
          ]
         }
        },
        {
         "name": "aktienvermoegen",
         "dtype": "float64",
         "stats": {
          "unique_count": 255,
          "nan_count": 0,
          "min": "0.846043119",
          "max": "37514.70203",
          "histogram": [
           {
            "bin_start": 0.846043119,
            "bin_end": 3752.2316418071,
            "count": 105
           },
           {
            "bin_start": 3752.2316418071,
            "bin_end": 7503.617240495199,
            "count": 57
           },
           {
            "bin_start": 7503.617240495199,
            "bin_end": 11255.0028391833,
            "count": 40
           },
           {
            "bin_start": 11255.0028391833,
            "bin_end": 15006.3884378714,
            "count": 22
           },
           {
            "bin_start": 15006.3884378714,
            "bin_end": 18757.7740365595,
            "count": 15
           },
           {
            "bin_start": 18757.7740365595,
            "bin_end": 22509.1596352476,
            "count": 5
           },
           {
            "bin_start": 22509.1596352476,
            "bin_end": 26260.5452339357,
            "count": 5
           },
           {
            "bin_start": 26260.5452339357,
            "bin_end": 30011.9308326238,
            "count": 4
           },
           {
            "bin_start": 30011.9308326238,
            "bin_end": 33763.316431311905,
            "count": 1
           },
           {
            "bin_start": 33763.316431311905,
            "bin_end": 37514.70203,
            "count": 1
           }
          ]
         }
        },
        {
         "name": "saeule3a",
         "dtype": "int64",
         "stats": {
          "unique_count": 6,
          "nan_count": 0,
          "min": "0",
          "max": "130000",
          "histogram": [
           {
            "bin_start": 0,
            "bin_end": 13000,
            "count": 10
           },
           {
            "bin_start": 13000,
            "bin_end": 26000,
            "count": 21
           },
           {
            "bin_start": 26000,
            "bin_end": 39000,
            "count": 0
           },
           {
            "bin_start": 39000,
            "bin_end": 52000,
            "count": 35
           },
           {
            "bin_start": 52000,
            "bin_end": 65000,
            "count": 0
           },
           {
            "bin_start": 65000,
            "bin_end": 78000,
            "count": 0
           },
           {
            "bin_start": 78000,
            "bin_end": 91000,
            "count": 42
           },
           {
            "bin_start": 91000,
            "bin_end": 104000,
            "count": 44
           },
           {
            "bin_start": 104000,
            "bin_end": 117000,
            "count": 0
           },
           {
            "bin_start": 117000,
            "bin_end": 130000,
            "count": 103
           }
          ]
         }
        },
        {
         "name": "lebensversicherung",
         "dtype": "int64",
         "stats": {
          "unique_count": 52,
          "nan_count": 0,
          "min": "0",
          "max": "90000",
          "histogram": [
           {
            "bin_start": 0,
            "bin_end": 9000,
            "count": 165
           },
           {
            "bin_start": 9000,
            "bin_end": 18000,
            "count": 0
           },
           {
            "bin_start": 18000,
            "bin_end": 27000,
            "count": 1
           },
           {
            "bin_start": 27000,
            "bin_end": 36000,
            "count": 9
           },
           {
            "bin_start": 36000,
            "bin_end": 45000,
            "count": 12
           },
           {
            "bin_start": 45000,
            "bin_end": 54000,
            "count": 16
           },
           {
            "bin_start": 54000,
            "bin_end": 63000,
            "count": 9
           },
           {
            "bin_start": 63000,
            "bin_end": 72000,
            "count": 13
           },
           {
            "bin_start": 72000,
            "bin_end": 81000,
            "count": 11
           },
           {
            "bin_start": 81000,
            "bin_end": 90000,
            "count": 19
           }
          ]
         }
        },
        {
         "name": "pensionskasse",
         "dtype": "float64",
         "stats": {
          "unique_count": 130,
          "nan_count": 0,
          "min": "0.0",
          "max": "974199.7928",
          "histogram": [
           {
            "bin_start": 0,
            "bin_end": 97419.97928,
            "count": 204
           },
           {
            "bin_start": 97419.97928,
            "bin_end": 194839.95856,
            "count": 26
           },
           {
            "bin_start": 194839.95856,
            "bin_end": 292259.93784,
            "count": 8
           },
           {
            "bin_start": 292259.93784,
            "bin_end": 389679.91712,
            "count": 4
           },
           {
            "bin_start": 389679.91712,
            "bin_end": 487099.89639999997,
            "count": 3
           },
           {
            "bin_start": 487099.89639999997,
            "bin_end": 584519.87568,
            "count": 3
           },
           {
            "bin_start": 584519.87568,
            "bin_end": 681939.85496,
            "count": 1
           },
           {
            "bin_start": 681939.85496,
            "bin_end": 779359.83424,
            "count": 1
           },
           {
            "bin_start": 779359.83424,
            "bin_end": 876779.81352,
            "count": 3
           },
           {
            "bin_start": 876779.81352,
            "bin_end": 974199.7928,
            "count": 2
           }
          ]
         }
        },
        {
         "name": "totalVermoegen",
         "dtype": "float64",
         "stats": {
          "unique_count": 255,
          "nan_count": 0,
          "min": "49746.65096",
          "max": "1290459.959",
          "histogram": [
           {
            "bin_start": 49746.65096,
            "bin_end": 173817.981764,
            "count": 68
           },
           {
            "bin_start": 173817.981764,
            "bin_end": 297889.312568,
            "count": 107
           },
           {
            "bin_start": 297889.312568,
            "bin_end": 421960.64337199996,
            "count": 50
           },
           {
            "bin_start": 421960.64337199996,
            "bin_end": 546031.974176,
            "count": 14
           },
           {
            "bin_start": 546031.974176,
            "bin_end": 670103.30498,
            "count": 5
           },
           {
            "bin_start": 670103.30498,
            "bin_end": 794174.6357839999,
            "count": 1
           },
           {
            "bin_start": 794174.6357839999,
            "bin_end": 918245.966588,
            "count": 3
           },
           {
            "bin_start": 918245.966588,
            "bin_end": 1042317.297392,
            "count": 4
           },
           {
            "bin_start": 1042317.297392,
            "bin_end": 1166388.628196,
            "count": 1
           },
           {
            "bin_start": 1166388.628196,
            "bin_end": 1290459.959,
            "count": 2
           }
          ]
         }
        },
        {
         "name": "lohn",
         "dtype": "int64",
         "stats": {
          "unique_count": 5,
          "nan_count": 0,
          "min": "3200",
          "max": "13000",
          "histogram": [
           {
            "bin_start": 3200,
            "bin_end": 4180,
            "count": 8
           },
           {
            "bin_start": 4180,
            "bin_end": 5160,
            "count": 0
           },
           {
            "bin_start": 5160,
            "bin_end": 6140,
            "count": 94
           },
           {
            "bin_start": 6140,
            "bin_end": 7120,
            "count": 0
           },
           {
            "bin_start": 7120,
            "bin_end": 8100,
            "count": 5
           },
           {
            "bin_start": 8100,
            "bin_end": 9080,
            "count": 0
           },
           {
            "bin_start": 9080,
            "bin_end": 10060,
            "count": 113
           },
           {
            "bin_start": 10060,
            "bin_end": 11040,
            "count": 0
           },
           {
            "bin_start": 11040,
            "bin_end": 12020,
            "count": 0
           },
           {
            "bin_start": 12020,
            "bin_end": 13000,
            "count": 35
           }
          ]
         }
        },
        {
         "name": "lohnJahr",
         "dtype": "int64",
         "stats": {
          "unique_count": 5,
          "nan_count": 0,
          "min": "38400",
          "max": "156000",
          "histogram": [
           {
            "bin_start": 38400,
            "bin_end": 50160,
            "count": 8
           },
           {
            "bin_start": 50160,
            "bin_end": 61920,
            "count": 0
           },
           {
            "bin_start": 61920,
            "bin_end": 73680,
            "count": 94
           },
           {
            "bin_start": 73680,
            "bin_end": 85440,
            "count": 0
           },
           {
            "bin_start": 85440,
            "bin_end": 97200,
            "count": 5
           },
           {
            "bin_start": 97200,
            "bin_end": 108960,
            "count": 0
           },
           {
            "bin_start": 108960,
            "bin_end": 120720,
            "count": 113
           },
           {
            "bin_start": 120720,
            "bin_end": 132480,
            "count": 0
           },
           {
            "bin_start": 132480,
            "bin_end": 144240,
            "count": 0
           },
           {
            "bin_start": 144240,
            "bin_end": 156000,
            "count": 35
           }
          ]
         }
        },
        {
         "name": "bonus",
         "dtype": "float64",
         "stats": {
          "unique_count": 41,
          "nan_count": 0,
          "min": "0.0",
          "max": "28992.98065",
          "histogram": [
           {
            "bin_start": 0,
            "bin_end": 2899.298065,
            "count": 221
           },
           {
            "bin_start": 2899.298065,
            "bin_end": 5798.59613,
            "count": 7
           },
           {
            "bin_start": 5798.59613,
            "bin_end": 8697.894195,
            "count": 1
           },
           {
            "bin_start": 8697.894195,
            "bin_end": 11597.19226,
            "count": 3
           },
           {
            "bin_start": 11597.19226,
            "bin_end": 14496.490324999999,
            "count": 7
           },
           {
            "bin_start": 14496.490324999999,
            "bin_end": 17395.78839,
            "count": 3
           },
           {
            "bin_start": 17395.78839,
            "bin_end": 20295.086455,
            "count": 5
           },
           {
            "bin_start": 20295.086455,
            "bin_end": 23194.38452,
            "count": 1
           },
           {
            "bin_start": 23194.38452,
            "bin_end": 26093.682585,
            "count": 1
           },
           {
            "bin_start": 26093.682585,
            "bin_end": 28992.98065,
            "count": 6
           }
          ]
         }
        },
        {
         "name": "zulagen",
         "dtype": "int64",
         "stats": {
          "unique_count": 3,
          "nan_count": 0,
          "min": "0",
          "max": "840",
          "histogram": [
           {
            "bin_start": 0,
            "bin_end": 84,
            "count": 171
           },
           {
            "bin_start": 84,
            "bin_end": 168,
            "count": 0
           },
           {
            "bin_start": 168,
            "bin_end": 252,
            "count": 0
           },
           {
            "bin_start": 252,
            "bin_end": 336,
            "count": 0
           },
           {
            "bin_start": 336,
            "bin_end": 420,
            "count": 0
           },
           {
            "bin_start": 420,
            "bin_end": 504,
            "count": 8
           },
           {
            "bin_start": 504,
            "bin_end": 588,
            "count": 0
           },
           {
            "bin_start": 588,
            "bin_end": 672,
            "count": 0
           },
           {
            "bin_start": 672,
            "bin_end": 756,
            "count": 0
           },
           {
            "bin_start": 756,
            "bin_end": 840,
            "count": 76
           }
          ]
         }
        },
        {
         "name": "totalLohn",
         "dtype": "float64",
         "stats": {
          "unique_count": 44,
          "nan_count": 0,
          "min": "38880.0",
          "max": "184992.9807",
          "histogram": [
           {
            "bin_start": 38880,
            "bin_end": 53491.29807,
            "count": 8
           },
           {
            "bin_start": 53491.29807,
            "bin_end": 68102.59614,
            "count": 94
           },
           {
            "bin_start": 68102.59614,
            "bin_end": 82713.89421,
            "count": 0
           },
           {
            "bin_start": 82713.89421,
            "bin_end": 97325.19227999999,
            "count": 0
           },
           {
            "bin_start": 97325.19227999999,
            "bin_end": 111936.49035,
            "count": 116
           },
           {
            "bin_start": 111936.49035,
            "bin_end": 126547.78842,
            "count": 2
           },
           {
            "bin_start": 126547.78842,
            "bin_end": 141159.08649,
            "count": 0
           },
           {
            "bin_start": 141159.08649,
            "bin_end": 155770.38455999998,
            "count": 0
           },
           {
            "bin_start": 155770.38455999998,
            "bin_end": 170381.68263,
            "count": 21
           },
           {
            "bin_start": 170381.68263,
            "bin_end": 184992.9807,
            "count": 14
           }
          ]
         }
        },
        {
         "name": "schaetzungObjekt",
         "dtype": "float64",
         "stats": {
          "unique_count": 255,
          "nan_count": 0,
          "min": "151113.8482",
          "max": "1999139.412",
          "histogram": [
           {
            "bin_start": 151113.8482,
            "bin_end": 335916.40458000003,
            "count": 9
           },
           {
            "bin_start": 335916.40458000003,
            "bin_end": 520718.96096000005,
            "count": 32
           },
           {
            "bin_start": 520718.96096000005,
            "bin_end": 705521.5173400001,
            "count": 40
           },
           {
            "bin_start": 705521.5173400001,
            "bin_end": 890324.0737200001,
            "count": 41
           },
           {
            "bin_start": 890324.0737200001,
            "bin_end": 1075126.6301000002,
            "count": 25
           },
           {
            "bin_start": 1075126.6301000002,
            "bin_end": 1259929.1864800001,
            "count": 31
           },
           {
            "bin_start": 1259929.1864800001,
            "bin_end": 1444731.74286,
            "count": 23
           },
           {
            "bin_start": 1444731.74286,
            "bin_end": 1629534.29924,
            "count": 22
           },
           {
            "bin_start": 1629534.29924,
            "bin_end": 1814336.85562,
            "count": 15
           },
           {
            "bin_start": 1814336.85562,
            "bin_end": 1999139.412,
            "count": 17
           }
          ]
         }
        },
        {
         "name": "anzahlung",
         "dtype": "int64",
         "stats": {
          "unique_count": 4,
          "nan_count": 0,
          "min": "0",
          "max": "100",
          "histogram": [
           {
            "bin_start": 0,
            "bin_end": 10,
            "count": 90
           },
           {
            "bin_start": 10,
            "bin_end": 20,
            "count": 0
           },
           {
            "bin_start": 20,
            "bin_end": 30,
            "count": 0
           },
           {
            "bin_start": 30,
            "bin_end": 40,
            "count": 0
           },
           {
            "bin_start": 40,
            "bin_end": 50,
            "count": 0
           },
           {
            "bin_start": 50,
            "bin_end": 60,
            "count": 0
           },
           {
            "bin_start": 60,
            "bin_end": 70,
            "count": 0
           },
           {
            "bin_start": 70,
            "bin_end": 80,
            "count": 0
           },
           {
            "bin_start": 80,
            "bin_end": 90,
            "count": 69
           },
           {
            "bin_start": 90,
            "bin_end": 100,
            "count": 96
           }
          ]
         }
        },
        {
         "name": "tragbarkeit",
         "dtype": "int64",
         "stats": {
          "unique_count": 7,
          "nan_count": 0,
          "min": "10",
          "max": "100",
          "histogram": [
           {
            "bin_start": 10,
            "bin_end": 19,
            "count": 41
           },
           {
            "bin_start": 19,
            "bin_end": 28,
            "count": 68
           },
           {
            "bin_start": 28,
            "bin_end": 37,
            "count": 0
           },
           {
            "bin_start": 37,
            "bin_end": 46,
            "count": 42
           },
           {
            "bin_start": 46,
            "bin_end": 55,
            "count": 40
           },
           {
            "bin_start": 55,
            "bin_end": 64,
            "count": 0
           },
           {
            "bin_start": 64,
            "bin_end": 73,
            "count": 21
           },
           {
            "bin_start": 73,
            "bin_end": 82,
            "count": 21
           },
           {
            "bin_start": 82,
            "bin_end": 91,
            "count": 0
           },
           {
            "bin_start": 91,
            "bin_end": 100,
            "count": 22
           }
          ]
         }
        },
        {
         "name": "score",
         "dtype": "int64",
         "stats": {
          "unique_count": 18,
          "nan_count": 0,
          "min": "5",
          "max": "100",
          "histogram": [
           {
            "bin_start": 5,
            "bin_end": 14.5,
            "count": 61
           },
           {
            "bin_start": 14.5,
            "bin_end": 24,
            "count": 14
           },
           {
            "bin_start": 24,
            "bin_end": 33.5,
            "count": 8
           },
           {
            "bin_start": 33.5,
            "bin_end": 43,
            "count": 5
           },
           {
            "bin_start": 43,
            "bin_end": 52.5,
            "count": 35
           },
           {
            "bin_start": 52.5,
            "bin_end": 62,
            "count": 29
           },
           {
            "bin_start": 62,
            "bin_end": 71.5,
            "count": 37
           },
           {
            "bin_start": 71.5,
            "bin_end": 81,
            "count": 26
           },
           {
            "bin_start": 81,
            "bin_end": 90.5,
            "count": 22
           },
           {
            "bin_start": 90.5,
            "bin_end": 100,
            "count": 18
           }
          ]
         }
        },
        {
         "name": "age",
         "dtype": "float64",
         "stats": {
          "unique_count": 255,
          "nan_count": 0,
          "min": "25.57733858439427",
          "max": "75.45470670917122",
          "histogram": [
           {
            "bin_start": 25.57733858439427,
            "bin_end": 30.565075396871965,
            "count": 23
           },
           {
            "bin_start": 30.565075396871965,
            "bin_end": 35.55281220934966,
            "count": 27
           },
           {
            "bin_start": 35.55281220934966,
            "bin_end": 40.54054902182735,
            "count": 43
           },
           {
            "bin_start": 40.54054902182735,
            "bin_end": 45.52828583430505,
            "count": 52
           },
           {
            "bin_start": 45.52828583430505,
            "bin_end": 50.516022646782744,
            "count": 41
           },
           {
            "bin_start": 50.516022646782744,
            "bin_end": 55.503759459260436,
            "count": 33
           },
           {
            "bin_start": 55.503759459260436,
            "bin_end": 60.491496271738136,
            "count": 18
           },
           {
            "bin_start": 60.491496271738136,
            "bin_end": 65.47923308421582,
            "count": 10
           },
           {
            "bin_start": 65.47923308421582,
            "bin_end": 70.46696989669351,
            "count": 5
           },
           {
            "bin_start": 70.46696989669351,
            "bin_end": 75.45470670917122,
            "count": 3
           }
          ]
         }
        },
        {
         "name": "usCitizen",
         "dtype": "bool",
         "stats": {
          "unique_count": 1,
          "nan_count": 0,
          "categories": [
           {
            "name": "False",
            "count": 255
           }
          ]
         }
        },
        {
         "name": "propertyType",
         "dtype": "object",
         "stats": {
          "unique_count": 2,
          "nan_count": 0,
          "categories": [
           {
            "name": "owner-occupied",
            "count": 215
           },
           {
            "name": "investment",
            "count": 40
           }
          ]
         }
        },
        {
         "name": "eligibleMinAnzahlung",
         "dtype": "bool",
         "stats": {
          "unique_count": 1,
          "nan_count": 0,
          "categories": [
           {
            "name": "True",
            "count": 255
           }
          ]
         }
        },
        {
         "name": "eligibleAmortisation",
         "dtype": "bool",
         "stats": {
          "unique_count": 1,
          "nan_count": 0,
          "categories": [
           {
            "name": "True",
            "count": 255
           }
          ]
         }
        },
        {
         "name": "eligibleUsCitizen",
         "dtype": "bool",
         "stats": {
          "unique_count": 1,
          "nan_count": 0,
          "categories": [
           {
            "name": "True",
            "count": 255
           }
          ]
         }
        },
        {
         "name": "eligible",
         "dtype": "bool",
         "stats": {
          "unique_count": 1,
          "nan_count": 0,
          "categories": [
           {
            "name": "True",
            "count": 255
           }
          ]
         }
        },
        {
         "name": "eligibleRegulatoryScore",
         "dtype": "float64",
         "stats": {
          "unique_count": 1,
          "nan_count": 0,
          "min": "100.0",
          "max": "100.0",
          "histogram": [
           {
            "bin_start": 99.5,
            "bin_end": 99.6,
            "count": 0
           },
           {
            "bin_start": 99.6,
            "bin_end": 99.7,
            "count": 0
           },
           {
            "bin_start": 99.7,
            "bin_end": 99.8,
            "count": 0
           },
           {
            "bin_start": 99.8,
            "bin_end": 99.9,
            "count": 0
           },
           {
            "bin_start": 99.9,
            "bin_end": 100,
            "count": 0
           },
           {
            "bin_start": 100,
            "bin_end": 100.1,
            "count": 255
           },
           {
            "bin_start": 100.1,
            "bin_end": 100.2,
            "count": 0
           },
           {
            "bin_start": 100.2,
            "bin_end": 100.3,
            "count": 0
           },
           {
            "bin_start": 100.3,
            "bin_end": 100.4,
            "count": 0
           },
           {
            "bin_start": 100.4,
            "bin_end": 100.5,
            "count": 0
           }
          ]
         }
        },
        {
         "name": "eligibleAmortisationFactorCapped",
         "dtype": "float64",
         "stats": {
          "unique_count": 1,
          "nan_count": 0,
          "min": "1.0",
          "max": "1.0",
          "histogram": [
           {
            "bin_start": 0.5,
            "bin_end": 0.6,
            "count": 0
           },
           {
            "bin_start": 0.6,
            "bin_end": 0.7,
            "count": 0
           },
           {
            "bin_start": 0.7,
            "bin_end": 0.8,
            "count": 0
           },
           {
            "bin_start": 0.8,
            "bin_end": 0.9,
            "count": 0
           },
           {
            "bin_start": 0.9,
            "bin_end": 1,
            "count": 0
           },
           {
            "bin_start": 1,
            "bin_end": 1.1,
            "count": 255
           },
           {
            "bin_start": 1.1,
            "bin_end": 1.2000000000000002,
            "count": 0
           },
           {
            "bin_start": 1.2000000000000002,
            "bin_end": 1.3,
            "count": 0
           },
           {
            "bin_start": 1.3,
            "bin_end": 1.4,
            "count": 0
           },
           {
            "bin_start": 1.4,
            "bin_end": 1.5,
            "count": 0
           }
          ]
         }
        },
        {
         "name": "eligibleMinAnzahlungScore",
         "dtype": "float64",
         "stats": {
          "unique_count": 1,
          "nan_count": 0,
          "min": "1.0",
          "max": "1.0",
          "histogram": [
           {
            "bin_start": 0.5,
            "bin_end": 0.6,
            "count": 0
           },
           {
            "bin_start": 0.6,
            "bin_end": 0.7,
            "count": 0
           },
           {
            "bin_start": 0.7,
            "bin_end": 0.8,
            "count": 0
           },
           {
            "bin_start": 0.8,
            "bin_end": 0.9,
            "count": 0
           },
           {
            "bin_start": 0.9,
            "bin_end": 1,
            "count": 0
           },
           {
            "bin_start": 1,
            "bin_end": 1.1,
            "count": 255
           },
           {
            "bin_start": 1.1,
            "bin_end": 1.2000000000000002,
            "count": 0
           },
           {
            "bin_start": 1.2000000000000002,
            "bin_end": 1.3,
            "count": 0
           },
           {
            "bin_start": 1.3,
            "bin_end": 1.4,
            "count": 0
           },
           {
            "bin_start": 1.4,
            "bin_end": 1.5,
            "count": 0
           }
          ]
         }
        },
        {
         "name": "eligibleAmortisationScore",
         "dtype": "float64",
         "stats": {
          "unique_count": 1,
          "nan_count": 0,
          "min": "1.0",
          "max": "1.0",
          "histogram": [
           {
            "bin_start": 0.5,
            "bin_end": 0.6,
            "count": 0
           },
           {
            "bin_start": 0.6,
            "bin_end": 0.7,
            "count": 0
           },
           {
            "bin_start": 0.7,
            "bin_end": 0.8,
            "count": 0
           },
           {
            "bin_start": 0.8,
            "bin_end": 0.9,
            "count": 0
           },
           {
            "bin_start": 0.9,
            "bin_end": 1,
            "count": 0
           },
           {
            "bin_start": 1,
            "bin_end": 1.1,
            "count": 255
           },
           {
            "bin_start": 1.1,
            "bin_end": 1.2000000000000002,
            "count": 0
           },
           {
            "bin_start": 1.2000000000000002,
            "bin_end": 1.3,
            "count": 0
           },
           {
            "bin_start": 1.3,
            "bin_end": 1.4,
            "count": 0
           },
           {
            "bin_start": 1.4,
            "bin_end": 1.5,
            "count": 0
           }
          ]
         }
        },
        {
         "name": "_deepnote_index_column",
         "dtype": "int64"
        }
       ],
       "rows": [
        {
         "barvermoegen": "68416.88994",
         "aktienvermoegen": "26063.01077",
         "saeule3a": "80000",
         "lebensversicherung": "0",
         "pensionskasse": "82261.74941",
         "totalVermoegen": "256741.6501",
         "lohn": "5600",
         "lohnJahr": "67200",
         "bonus": "0.0",
         "zulagen": "840",
         "totalLohn": "68040.0",
         "schaetzungObjekt": "461772.3125",
         "anzahlung": "100",
         "tragbarkeit": "50",
         "score": "75",
         "age": "49.87287659092796",
         "usCitizen": "False",
         "propertyType": "investment",
         "eligibleMinAnzahlung": "True",
         "eligibleAmortisation": "True",
         "eligibleUsCitizen": "True",
         "eligible": "True",
         "eligibleRegulatoryScore": "100.0",
         "eligibleAmortisationFactorCapped": "1.0",
         "eligibleMinAnzahlungScore": "1.0",
         "eligibleAmortisationScore": "1.0",
         "_deepnote_index_column": "981"
        },
        {
         "barvermoegen": "42178.285",
         "aktienvermoegen": "29850.56974",
         "saeule3a": "80000",
         "lebensversicherung": "0",
         "pensionskasse": "85170.99559",
         "totalVermoegen": "237199.8503",
         "lohn": "5600",
         "lohnJahr": "67200",
         "bonus": "0.0",
         "zulagen": "840",
         "totalLohn": "68040.0",
         "schaetzungObjekt": "422760.3619",
         "anzahlung": "100",
         "tragbarkeit": "70",
         "score": "85",
         "age": "42.581738700333446",
         "usCitizen": "False",
         "propertyType": "owner-occupied",
         "eligibleMinAnzahlung": "True",
         "eligibleAmortisation": "True",
         "eligibleUsCitizen": "True",
         "eligible": "True",
         "eligibleRegulatoryScore": "100.0",
         "eligibleAmortisationFactorCapped": "1.0",
         "eligibleMinAnzahlungScore": "1.0",
         "eligibleAmortisationScore": "1.0",
         "_deepnote_index_column": "983"
        },
        {
         "barvermoegen": "332764.5573",
         "aktienvermoegen": "5748.50673",
         "saeule3a": "80000",
         "lebensversicherung": "57000",
         "pensionskasse": "780499.2492",
         "totalVermoegen": "1256012.313",
         "lohn": "13000",
         "lohnJahr": "156000",
         "bonus": "11409.0143",
         "zulagen": "0",
         "totalLohn": "167409.0143",
         "schaetzungObjekt": "1615349.44",
         "anzahlung": "100",
         "tragbarkeit": "40",
         "score": "70",
         "age": "29.412457461972632",
         "usCitizen": "False",
         "propertyType": "owner-occupied",
         "eligibleMinAnzahlung": "True",
         "eligibleAmortisation": "True",
         "eligibleUsCitizen": "True",
         "eligible": "True",
         "eligibleRegulatoryScore": "100.0",
         "eligibleAmortisationFactorCapped": "1.0",
         "eligibleMinAnzahlungScore": "1.0",
         "eligibleAmortisationScore": "1.0",
         "_deepnote_index_column": "992"
        },
        {
         "barvermoegen": "15102.60435",
         "aktienvermoegen": "37514.70203",
         "saeule3a": "80000",
         "lebensversicherung": "59000",
         "pensionskasse": "780499.2492",
         "totalVermoegen": "972116.5556",
         "lohn": "13000",
         "lohnJahr": "156000",
         "bonus": "15758.88708",
         "zulagen": "0",
         "totalLohn": "171758.8871",
         "schaetzungObjekt": "1844291.406",
         "anzahlung": "100",
         "tragbarkeit": "20",
         "score": "60",
         "age": "32.999114728619105",
         "usCitizen": "False",
         "propertyType": "owner-occupied",
         "eligibleMinAnzahlung": "True",
         "eligibleAmortisation": "True",
         "eligibleUsCitizen": "True",
         "eligible": "True",
         "eligibleRegulatoryScore": "100.0",
         "eligibleAmortisationFactorCapped": "1.0",
         "eligibleMinAnzahlungScore": "1.0",
         "eligibleAmortisationScore": "1.0",
         "_deepnote_index_column": "993"
        },
        {
         "barvermoegen": "360670.3273",
         "aktienvermoegen": "5746.440486",
         "saeule3a": "40000",
         "lebensversicherung": "0",
         "pensionskasse": "83626.94643",
         "totalVermoegen": "490043.7142",
         "lohn": "5600",
         "lohnJahr": "67200",
         "bonus": "0.0",
         "zulagen": "840",
         "totalLohn": "68040.0",
         "schaetzungObjekt": "458750.2425",
         "anzahlung": "100",
         "tragbarkeit": "50",
         "score": "75",
         "age": "53.208760931776155",
         "usCitizen": "False",
         "propertyType": "owner-occupied",
         "eligibleMinAnzahlung": "True",
         "eligibleAmortisation": "True",
         "eligibleUsCitizen": "True",
         "eligible": "True",
         "eligibleRegulatoryScore": "100.0",
         "eligibleAmortisationFactorCapped": "1.0",
         "eligibleMinAnzahlungScore": "1.0",
         "eligibleAmortisationScore": "1.0",
         "_deepnote_index_column": "998"
        }
       ]
      },
      "text/plain": "     barvermoegen  aktienvermoegen  saeule3a  lebensversicherung  \\\n0    154557.91760     28291.630990     80000                   0   \n1    338303.87560      7606.009156     40000               45000   \n2    395285.75170       910.833454     40000                   0   \n3    308723.73680      9147.939781     40000                   0   \n8    185792.00790     15878.824980    100000                   0   \n..            ...              ...       ...                 ...   \n981   68416.88994     26063.010770     80000                   0   \n983   42178.28500     29850.569740     80000                   0   \n992  332764.55730      5748.506730     80000               57000   \n993   15102.60435     37514.702030     80000               59000   \n998  360670.32730      5746.440486     40000                   0   \n\n     pensionskasse  totalVermoegen   lohn  lohnJahr        bonus  zulagen  \\\n0     109368.55690    3.722181e+05   5600     67200      0.00000      840   \n1     207181.98360    6.380919e+05   9100    109200      0.00000        0   \n2      80878.81724    5.170754e+05   5600     67200      0.00000      840   \n3     200101.56730    5.579732e+05  13000    156000  15759.38929        0   \n8          0.00000    3.016708e+05   5600     67200      0.00000      840   \n..             ...             ...    ...       ...          ...      ...   \n981    82261.74941    2.567417e+05   5600     67200      0.00000      840   \n983    85170.99559    2.371999e+05   5600     67200      0.00000      840   \n992   780499.24920    1.256012e+06  13000    156000  11409.01430        0   \n993   780499.24920    9.721166e+05  13000    156000  15758.88708        0   \n998    83626.94643    4.900437e+05   5600     67200      0.00000      840   \n\n     ...  usCitizen    propertyType  eligibleMinAnzahlung  \\\n0    ...      False  owner-occupied                  True   \n1    ...      False      investment                  True   \n2    ...      False      investment                  True   \n3    ...      False      investment                  True   \n8    ...      False      investment                  True   \n..   ...        ...             ...                   ...   \n981  ...      False      investment                  True   \n983  ...      False  owner-occupied                  True   \n992  ...      False  owner-occupied                  True   \n993  ...      False  owner-occupied                  True   \n998  ...      False  owner-occupied                  True   \n\n     eligibleAmortisation  eligibleUsCitizen  eligible  \\\n0                    True               True      True   \n1                    True               True      True   \n2                    True               True      True   \n3                    True               True      True   \n8                    True               True      True   \n..                    ...                ...       ...   \n981                  True               True      True   \n983                  True               True      True   \n992                  True               True      True   \n993                  True               True      True   \n998                  True               True      True   \n\n     eligibleRegulatoryScore eligibleAmortisationFactorCapped  \\\n0                      100.0                              1.0   \n1                      100.0                              1.0   \n2                      100.0                              1.0   \n3                      100.0                              1.0   \n8                      100.0                              1.0   \n..                       ...                              ...   \n981                    100.0                              1.0   \n983                    100.0                              1.0   \n992                    100.0                              1.0   \n993                    100.0                              1.0   \n998                    100.0                              1.0   \n\n     eligibleMinAnzahlungScore  eligibleAmortisationScore  \n0                          1.0                        1.0  \n1                          1.0                        1.0  \n2                          1.0                        1.0  \n3                          1.0                        1.0  \n8                          1.0                        1.0  \n..                         ...                        ...  \n981                        1.0                        1.0  \n983                        1.0                        1.0  \n992                        1.0                        1.0  \n993                        1.0                        1.0  \n998                        1.0                        1.0  \n\n[255 rows x 26 columns]",
      "text/html": "<div>\n<style scoped>\n    .dataframe tbody tr th:only-of-type {\n        vertical-align: middle;\n    }\n\n    .dataframe tbody tr th {\n        vertical-align: top;\n    }\n\n    .dataframe thead th {\n        text-align: right;\n    }\n</style>\n<table border=\"1\" class=\"dataframe\">\n  <thead>\n    <tr style=\"text-align: right;\">\n      <th></th>\n      <th>barvermoegen</th>\n      <th>aktienvermoegen</th>\n      <th>saeule3a</th>\n      <th>lebensversicherung</th>\n      <th>pensionskasse</th>\n      <th>totalVermoegen</th>\n      <th>lohn</th>\n      <th>lohnJahr</th>\n      <th>bonus</th>\n      <th>zulagen</th>\n      <th>...</th>\n      <th>usCitizen</th>\n      <th>propertyType</th>\n      <th>eligibleMinAnzahlung</th>\n      <th>eligibleAmortisation</th>\n      <th>eligibleUsCitizen</th>\n      <th>eligible</th>\n      <th>eligibleRegulatoryScore</th>\n      <th>eligibleAmortisationFactorCapped</th>\n      <th>eligibleMinAnzahlungScore</th>\n      <th>eligibleAmortisationScore</th>\n    </tr>\n  </thead>\n  <tbody>\n    <tr>\n      <th>0</th>\n      <td>154557.91760</td>\n      <td>28291.630990</td>\n      <td>80000</td>\n      <td>0</td>\n      <td>109368.55690</td>\n      <td>3.722181e+05</td>\n      <td>5600</td>\n      <td>67200</td>\n      <td>0.00000</td>\n      <td>840</td>\n      <td>...</td>\n      <td>False</td>\n      <td>owner-occupied</td>\n      <td>True</td>\n      <td>True</td>\n      <td>True</td>\n      <td>True</td>\n      <td>100.0</td>\n      <td>1.0</td>\n      <td>1.0</td>\n      <td>1.0</td>\n    </tr>\n    <tr>\n      <th>1</th>\n      <td>338303.87560</td>\n      <td>7606.009156</td>\n      <td>40000</td>\n      <td>45000</td>\n      <td>207181.98360</td>\n      <td>6.380919e+05</td>\n      <td>9100</td>\n      <td>109200</td>\n      <td>0.00000</td>\n      <td>0</td>\n      <td>...</td>\n      <td>False</td>\n      <td>investment</td>\n      <td>True</td>\n      <td>True</td>\n      <td>True</td>\n      <td>True</td>\n      <td>100.0</td>\n      <td>1.0</td>\n      <td>1.0</td>\n      <td>1.0</td>\n    </tr>\n    <tr>\n      <th>2</th>\n      <td>395285.75170</td>\n      <td>910.833454</td>\n      <td>40000</td>\n      <td>0</td>\n      <td>80878.81724</td>\n      <td>5.170754e+05</td>\n      <td>5600</td>\n      <td>67200</td>\n      <td>0.00000</td>\n      <td>840</td>\n      <td>...</td>\n      <td>False</td>\n      <td>investment</td>\n      <td>True</td>\n      <td>True</td>\n      <td>True</td>\n      <td>True</td>\n      <td>100.0</td>\n      <td>1.0</td>\n      <td>1.0</td>\n      <td>1.0</td>\n    </tr>\n    <tr>\n      <th>3</th>\n      <td>308723.73680</td>\n      <td>9147.939781</td>\n      <td>40000</td>\n      <td>0</td>\n      <td>200101.56730</td>\n      <td>5.579732e+05</td>\n      <td>13000</td>\n      <td>156000</td>\n      <td>15759.38929</td>\n      <td>0</td>\n      <td>...</td>\n      <td>False</td>\n      <td>investment</td>\n      <td>True</td>\n      <td>True</td>\n      <td>True</td>\n      <td>True</td>\n      <td>100.0</td>\n      <td>1.0</td>\n      <td>1.0</td>\n      <td>1.0</td>\n    </tr>\n    <tr>\n      <th>8</th>\n      <td>185792.00790</td>\n      <td>15878.824980</td>\n      <td>100000</td>\n      <td>0</td>\n      <td>0.00000</td>\n      <td>3.016708e+05</td>\n      <td>5600</td>\n      <td>67200</td>\n      <td>0.00000</td>\n      <td>840</td>\n      <td>...</td>\n      <td>False</td>\n      <td>investment</td>\n      <td>True</td>\n      <td>True</td>\n      <td>True</td>\n      <td>True</td>\n      <td>100.0</td>\n      <td>1.0</td>\n      <td>1.0</td>\n      <td>1.0</td>\n    </tr>\n    <tr>\n      <th>...</th>\n      <td>...</td>\n      <td>...</td>\n      <td>...</td>\n      <td>...</td>\n      <td>...</td>\n      <td>...</td>\n      <td>...</td>\n      <td>...</td>\n      <td>...</td>\n      <td>...</td>\n      <td>...</td>\n      <td>...</td>\n      <td>...</td>\n      <td>...</td>\n      <td>...</td>\n      <td>...</td>\n      <td>...</td>\n      <td>...</td>\n      <td>...</td>\n      <td>...</td>\n      <td>...</td>\n    </tr>\n    <tr>\n      <th>981</th>\n      <td>68416.88994</td>\n      <td>26063.010770</td>\n      <td>80000</td>\n      <td>0</td>\n      <td>82261.74941</td>\n      <td>2.567417e+05</td>\n      <td>5600</td>\n      <td>67200</td>\n      <td>0.00000</td>\n      <td>840</td>\n      <td>...</td>\n      <td>False</td>\n      <td>investment</td>\n      <td>True</td>\n      <td>True</td>\n      <td>True</td>\n      <td>True</td>\n      <td>100.0</td>\n      <td>1.0</td>\n      <td>1.0</td>\n      <td>1.0</td>\n    </tr>\n    <tr>\n      <th>983</th>\n      <td>42178.28500</td>\n      <td>29850.569740</td>\n      <td>80000</td>\n      <td>0</td>\n      <td>85170.99559</td>\n      <td>2.371999e+05</td>\n      <td>5600</td>\n      <td>67200</td>\n      <td>0.00000</td>\n      <td>840</td>\n      <td>...</td>\n      <td>False</td>\n      <td>owner-occupied</td>\n      <td>True</td>\n      <td>True</td>\n      <td>True</td>\n      <td>True</td>\n      <td>100.0</td>\n      <td>1.0</td>\n      <td>1.0</td>\n      <td>1.0</td>\n    </tr>\n    <tr>\n      <th>992</th>\n      <td>332764.55730</td>\n      <td>5748.506730</td>\n      <td>80000</td>\n      <td>57000</td>\n      <td>780499.24920</td>\n      <td>1.256012e+06</td>\n      <td>13000</td>\n      <td>156000</td>\n      <td>11409.01430</td>\n      <td>0</td>\n      <td>...</td>\n      <td>False</td>\n      <td>owner-occupied</td>\n      <td>True</td>\n      <td>True</td>\n      <td>True</td>\n      <td>True</td>\n      <td>100.0</td>\n      <td>1.0</td>\n      <td>1.0</td>\n      <td>1.0</td>\n    </tr>\n    <tr>\n      <th>993</th>\n      <td>15102.60435</td>\n      <td>37514.702030</td>\n      <td>80000</td>\n      <td>59000</td>\n      <td>780499.24920</td>\n      <td>9.721166e+05</td>\n      <td>13000</td>\n      <td>156000</td>\n      <td>15758.88708</td>\n      <td>0</td>\n      <td>...</td>\n      <td>False</td>\n      <td>owner-occupied</td>\n      <td>True</td>\n      <td>True</td>\n      <td>True</td>\n      <td>True</td>\n      <td>100.0</td>\n      <td>1.0</td>\n      <td>1.0</td>\n      <td>1.0</td>\n    </tr>\n    <tr>\n      <th>998</th>\n      <td>360670.32730</td>\n      <td>5746.440486</td>\n      <td>40000</td>\n      <td>0</td>\n      <td>83626.94643</td>\n      <td>4.900437e+05</td>\n      <td>5600</td>\n      <td>67200</td>\n      <td>0.00000</td>\n      <td>840</td>\n      <td>...</td>\n      <td>False</td>\n      <td>owner-occupied</td>\n      <td>True</td>\n      <td>True</td>\n      <td>True</td>\n      <td>True</td>\n      <td>100.0</td>\n      <td>1.0</td>\n      <td>1.0</td>\n      <td>1.0</td>\n    </tr>\n  </tbody>\n</table>\n<p>255 rows × 26 columns</p>\n</div>"
     },
     "metadata": {}
    }
   ],
   "execution_count": null
  },
  {
   "cell_type": "markdown",
   "source": "<a style='text-decoration:none;line-height:16px;display:flex;color:#5B5B62;padding:10px;justify-content:end;' href='https://deepnote.com?utm_source=created-in-deepnote-cell&projectId=03c1f381-4bef-44c8-9167-00386ebceba9' target=\"_blank\">\n<img alt='Created in deepnote.com' style='display:inline;max-height:16px;margin:0px;margin-right:7.5px;' src='data:image/svg+xml;base64,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' > </img>\nCreated in <span style='font-weight:600;margin-left:4px;'>Deepnote</span></a>",
   "metadata": {
    "tags": [],
    "created_in_deepnote_cell": true,
    "deepnote_cell_type": "markdown"
   }
  }
 ],
 "nbformat": 4,
 "nbformat_minor": 2,
 "metadata": {
  "orig_nbformat": 2,
  "deepnote": {},
  "deepnote_notebook_id": "7c1f07f1-1b0a-451f-8c1a-8550fd4001f0",
  "deepnote_persisted_session": {
   "createdAt": "2022-10-01T14:31:45.661Z"
  },
  "deepnote_execution_queue": []
 }
}