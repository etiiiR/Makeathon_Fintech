{
 "cells": [
  {
   "cell_type": "code",
   "metadata": {
    "tags": [],
    "deepnote_to_be_reexecuted": false,
    "source_hash": "81f16034",
    "execution_start": 1664631336379,
    "execution_millis": 1708,
    "cell_id": "bdf56b3d-0a7a-4832-84c1-a04b8fa0477a",
    "deepnote_cell_type": "code",
    "deepnote_cell_height": 166
   },
   "source": "import numpy as np\nimport pandas as pd\nimport matplotlib.pyplot as plt\nfrom sklearn import tree\nfrom sklearn import metrics\nfrom sklearn.model_selection import train_test_split",
   "outputs": [],
   "execution_count": null
  },
  {
   "cell_type": "markdown",
   "source": "### Beschreibung der Tabelle\n| Spalte | Beschreibung |\n| :------ | ------: |\n| barvermoegen | Vermögen in Bar in CHF |\n| aktienvermoegen | Vermögen in Aktien in CHF |\n| saeule3a | Kontostand 3a Säule in CHF |\n| lebensversicherung | Kontostand Lebensversicherung in CHF |\n| pensionskasse | Kontostand Pensionskasse in CHF |\n| totalVermoegen | Summierung des Guthabens |\n| lohn | Monatslohn in CHF |\n| lohnJahr | Jahreslohn in CHF |\n| bonus | Jahresbonus in CHF |\n| zulagen | Monatszulagen in CHF |\n| totalLohn | Totaler Jahreslohn in CHF |\n| schaetzungObjekt | Objektkosten in CHF |\n| anzahlung | Score der Anzahlung in % |\n| tragbarkeit | Score der Tragbarkeit in % |\n| score | Totaler Score in % |\n| age | Alter der Person in Jahren |\n| usCitizen | Bedingung: US Bürger |\n| propertyType | Objekttyp |",
   "metadata": {
    "tags": [],
    "cell_id": "00002-c4c6b537-1bd6-439a-8b72-ae5bcdf55ea9",
    "deepnote_cell_type": "markdown",
    "deepnote_cell_height": 534
   }
  },
  {
   "cell_type": "code",
   "source": "import tensorflow as tf\n\nnumeric_feature_names = [\"totalVermoegen\", \"totalLohn\", \"schaetzungObjekt\"]\nnumeric_features = data[numeric_feature_names]\nnumeric_features.head()\n\ntfdata = tf.convert_to_tensor(numeric_features)\n\n\n# Learning rate\nlearning_rate = 0.01\n\n# Number of loops for training through all your data to update the parameters\ntraining_epochs = 100\n\n# the training dataset\nx_train = tfdata\ny_train = \n\n# plot of data\nplt.scatter(x_train, y_train)\n\n# declare weights\nweight = tf.Variable(0.)\nbias = tf.Variable(0.)\n\n# Define linear regression expression y\ndef linreg(x):\n    y = weight*x + bias\n    return y\n\n# Define loss function (MSE)\ndef squared_error(y_pred, y_true):\n    return tf.reduce_mean(tf.square(y_pred - y_true))\n\n# train model\nfor epoch in range(training_epochs):\n    # Compute loss within Gradient Tape context\n    with tf.GradientTape() as tape:\n        y_predicted = linreg(x_train)\n        loss = squared_error(y_predicted, y_train)\n\n# Get gradients\ngradients = tape.gradient(loss, [weight,bias])\n\n# Adjust weights\nweight.assign_sub(gradients[0]*learning_rate)\nbias.assign_sub(gradients[1]*learning_rate)\n\n\nprint(f\"Epoch count {epoch}: Loss value: {loss.numpy()}\")\nprint(weight.numpy())\nprint(bias.numpy())",
   "metadata": {
    "tags": [],
    "deepnote_to_be_reexecuted": false,
    "source_hash": "a3a1f2a2",
    "execution_start": 1664631405025,
    "execution_millis": 2952,
    "cell_id": "00007-434611a1-d023-4a7f-9e75-4c10b3b1be0c",
    "deepnote_cell_type": "code",
    "deepnote_cell_height": 1094
   },
   "outputs": [
    {
     "output_type": "error",
     "ename": "InvalidArgumentError",
     "evalue": "{{function_node __wrapped__AddV2_device_/job:localhost/replica:0/task:0/device:CPU:0}} Incompatible shapes: [1000,3] vs. [100] [Op:AddV2]",
     "traceback": [
      "\u001b[0;31m---------------------------------------------------------------------------\u001b[0m",
      "\u001b[0;31mInvalidArgumentError\u001b[0m                      Traceback (most recent call last)",
      "Cell \u001b[0;32mIn [8], line 18\u001b[0m\n\u001b[1;32m     16\u001b[0m \u001b[38;5;66;03m# the training dataset\u001b[39;00m\n\u001b[1;32m     17\u001b[0m x_train \u001b[38;5;241m=\u001b[39m tfdata\n\u001b[0;32m---> 18\u001b[0m y_train \u001b[38;5;241m=\u001b[39m \u001b[43mx_train\u001b[49m\u001b[43m \u001b[49m\u001b[38;5;241;43m+\u001b[39;49m\u001b[43m \u001b[49m\u001b[43mnp\u001b[49m\u001b[38;5;241;43m.\u001b[39;49m\u001b[43mrandom\u001b[49m\u001b[38;5;241;43m.\u001b[39;49m\u001b[43mnormal\u001b[49m\u001b[43m(\u001b[49m\u001b[38;5;241;43m0\u001b[39;49m\u001b[43m,\u001b[49m\u001b[38;5;241;43m1\u001b[39;49m\u001b[43m,\u001b[49m\u001b[38;5;241;43m100\u001b[39;49m\u001b[43m)\u001b[49m\n\u001b[1;32m     20\u001b[0m \u001b[38;5;66;03m# plot of data\u001b[39;00m\n\u001b[1;32m     21\u001b[0m plt\u001b[38;5;241m.\u001b[39mscatter(x_train, y_train)\n",
      "File \u001b[0;32m/shared-libs/python3.9/py/lib/python3.9/site-packages/tensorflow/python/util/traceback_utils.py:153\u001b[0m, in \u001b[0;36mfilter_traceback.<locals>.error_handler\u001b[0;34m(*args, **kwargs)\u001b[0m\n\u001b[1;32m    151\u001b[0m \u001b[38;5;28;01mexcept\u001b[39;00m \u001b[38;5;167;01mException\u001b[39;00m \u001b[38;5;28;01mas\u001b[39;00m e:\n\u001b[1;32m    152\u001b[0m   filtered_tb \u001b[38;5;241m=\u001b[39m _process_traceback_frames(e\u001b[38;5;241m.\u001b[39m__traceback__)\n\u001b[0;32m--> 153\u001b[0m   \u001b[38;5;28;01mraise\u001b[39;00m e\u001b[38;5;241m.\u001b[39mwith_traceback(filtered_tb) \u001b[38;5;28;01mfrom\u001b[39;00m \u001b[38;5;28mNone\u001b[39m\n\u001b[1;32m    154\u001b[0m \u001b[38;5;28;01mfinally\u001b[39;00m:\n\u001b[1;32m    155\u001b[0m   \u001b[38;5;28;01mdel\u001b[39;00m filtered_tb\n",
      "File \u001b[0;32m/shared-libs/python3.9/py/lib/python3.9/site-packages/tensorflow/python/framework/ops.py:7209\u001b[0m, in \u001b[0;36mraise_from_not_ok_status\u001b[0;34m(e, name)\u001b[0m\n\u001b[1;32m   7207\u001b[0m \u001b[38;5;28;01mdef\u001b[39;00m \u001b[38;5;21mraise_from_not_ok_status\u001b[39m(e, name):\n\u001b[1;32m   7208\u001b[0m   e\u001b[38;5;241m.\u001b[39mmessage \u001b[38;5;241m+\u001b[39m\u001b[38;5;241m=\u001b[39m (\u001b[38;5;124m\"\u001b[39m\u001b[38;5;124m name: \u001b[39m\u001b[38;5;124m\"\u001b[39m \u001b[38;5;241m+\u001b[39m name \u001b[38;5;28;01mif\u001b[39;00m name \u001b[38;5;129;01mis\u001b[39;00m \u001b[38;5;129;01mnot\u001b[39;00m \u001b[38;5;28;01mNone\u001b[39;00m \u001b[38;5;28;01melse\u001b[39;00m \u001b[38;5;124m\"\u001b[39m\u001b[38;5;124m\"\u001b[39m)\n\u001b[0;32m-> 7209\u001b[0m   \u001b[38;5;28;01mraise\u001b[39;00m core\u001b[38;5;241m.\u001b[39m_status_to_exception(e) \u001b[38;5;28;01mfrom\u001b[39;00m \u001b[38;5;28mNone\u001b[39m\n",
      "\u001b[0;31mInvalidArgumentError\u001b[0m: {{function_node __wrapped__AddV2_device_/job:localhost/replica:0/task:0/device:CPU:0}} Incompatible shapes: [1000,3] vs. [100] [Op:AddV2]"
     ]
    }
   ],
   "execution_count": null
  },
  {
   "cell_type": "code",
   "metadata": {
    "tags": [],
    "deepnote_to_be_reexecuted": false,
    "source_hash": "ee65302",
    "execution_start": 1664631345809,
    "execution_millis": 15,
    "cell_id": "00008-0d7f298f-f7cf-4089-badf-5295535d3dc0",
    "deepnote_cell_type": "code",
    "deepnote_cell_height": 413,
    "deepnote_output_heights": [
     267
    ]
   },
   "source": "import tensorflow as tf\n\ndatatf = tf.convert_to_tensor(data)\ndatatf",
   "outputs": [
    {
     "output_type": "execute_result",
     "execution_count": 7,
     "data": {
      "text/plain": "<tf.Tensor: shape=(1000, 15), dtype=float64, numpy=\narray([[1.54557918e+05, 2.82916310e+04, 8.00000000e+04, ...,\n        1.00000000e+02, 5.00000000e+01, 7.50000000e+01],\n       [3.38303876e+05, 7.60600916e+03, 4.00000000e+04, ...,\n        1.00000000e+02, 7.00000000e+01, 8.50000000e+01],\n       [3.95285752e+05, 9.10833454e+02, 4.00000000e+04, ...,\n        9.00000000e+01, 1.00000000e+01, 5.00000000e+01],\n       ...,\n       [3.34148999e+05, 7.52436701e+03, 8.00000000e+04, ...,\n        1.00000000e+02, 1.00000000e+02, 1.00000000e+02],\n       [3.60670327e+05, 5.74644049e+03, 4.00000000e+04, ...,\n        1.00000000e+02, 5.00000000e+01, 7.50000000e+01],\n       [9.67841623e+03, 5.32002076e+04, 4.00000000e+04, ...,\n        8.00000000e+01, 2.00000000e+01, 5.00000000e+01]])>"
     },
     "metadata": {}
    }
   ],
   "execution_count": null
  },
  {
   "cell_type": "markdown",
   "source": "<a style='text-decoration:none;line-height:16px;display:flex;color:#5B5B62;padding:10px;justify-content:end;' href='https://deepnote.com?utm_source=created-in-deepnote-cell&projectId=03c1f381-4bef-44c8-9167-00386ebceba9' target=\"_blank\">\n<img alt='Created in deepnote.com' style='display:inline;max-height:16px;margin:0px;margin-right:7.5px;' src='data:image/svg+xml;base64,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' > </img>\nCreated in <span style='font-weight:600;margin-left:4px;'>Deepnote</span></a>",
   "metadata": {
    "tags": [],
    "created_in_deepnote_cell": true,
    "deepnote_cell_type": "markdown"
   }
  }
 ],
 "nbformat": 4,
 "nbformat_minor": 2,
 "metadata": {
  "orig_nbformat": 2,
  "deepnote": {},
  "deepnote_notebook_id": "714e795e-2632-4c05-a622-eef85ce4f8a7",
  "deepnote_persisted_session": {
   "createdAt": "2022-10-01T14:31:44.251Z"
  },
  "deepnote_execution_queue": []
 }
}