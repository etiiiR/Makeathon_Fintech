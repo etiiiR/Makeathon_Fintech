{
 "cells": [
  {
   "cell_type": "code",
   "source": "import pandas as pd\nimport numpy as np\nfrom sklearn import metrics\nimport sklearn.linear_model as lm\nfrom sklearn.model_selection import train_test_split",
   "metadata": {
    "tags": [],
    "cell_id": "bc5cc132-4b91-4ec4-b75a-df0f33e899fe",
    "deepnote_to_be_reexecuted": false,
    "source_hash": "4b7ac5d3",
    "execution_start": 1664632658302,
    "execution_millis": 777,
    "deepnote_cell_type": "code",
    "deepnote_cell_height": 148
   },
   "outputs": [],
   "execution_count": null
  },
  {
   "cell_type": "code",
   "source": "data = pd.read_csv('modellMitScore.csv')\ndata.head(200)",
   "metadata": {
    "cell_id": "84d7ee22fddd4459bc4663b07677d49b",
    "tags": [],
    "deepnote_to_be_reexecuted": false,
    "source_hash": "3d9fb645",
    "execution_start": 1664632659139,
    "execution_millis": 975,
    "deepnote_table_state": {
     "pageSize": 10,
     "pageIndex": 19,
     "filters": [],
     "sortBy": []
    },
    "deepnote_table_loading": false,
    "deepnote_cell_type": "code",
    "deepnote_cell_height": 613
   },
   "outputs": [
    {
     "output_type": "execute_result",
     "execution_count": 2,
     "data": {
      "application/vnd.deepnote.dataframe.v3+json": {
       "column_count": 15,
       "row_count": 200,
       "columns": [
        {
         "name": "barvermoegen",
         "dtype": "float64",
         "stats": {
          "unique_count": 200,
          "nan_count": 0,
          "min": "593.181542",
          "max": "395285.7517",
          "histogram": [
           {
            "bin_start": 593.181542,
            "bin_end": 40062.4385578,
            "count": 33
           },
           {
            "bin_start": 40062.4385578,
            "bin_end": 79531.69557360001,
            "count": 31
           },
           {
            "bin_start": 79531.69557360001,
            "bin_end": 119000.95258940001,
            "count": 50
           },
           {
            "bin_start": 119000.95258940001,
            "bin_end": 158470.2096052,
            "count": 41
           },
           {
            "bin_start": 158470.2096052,
            "bin_end": 197939.466621,
            "count": 23
           },
           {
            "bin_start": 197939.466621,
            "bin_end": 237408.72363680002,
            "count": 7
           },
           {
            "bin_start": 237408.72363680002,
            "bin_end": 276877.9806526,
            "count": 9
           },
           {
            "bin_start": 276877.9806526,
            "bin_end": 316347.2376684,
            "count": 4
           },
           {
            "bin_start": 316347.2376684,
            "bin_end": 355816.4946842,
            "count": 1
           },
           {
            "bin_start": 355816.4946842,
            "bin_end": 395285.7517,
            "count": 1
           }
          ]
         }
        },
        {
         "name": "aktienvermoegen",
         "dtype": "float64",
         "stats": {
          "unique_count": 200,
          "nan_count": 0,
          "min": "1.225990667",
          "max": "33874.79373",
          "histogram": [
           {
            "bin_start": 1.225990667,
            "bin_end": 3388.5827646003,
            "count": 30
           },
           {
            "bin_start": 3388.5827646003,
            "bin_end": 6775.939538533599,
            "count": 45
           },
           {
            "bin_start": 6775.939538533599,
            "bin_end": 10163.2963124669,
            "count": 46
           },
           {
            "bin_start": 10163.2963124669,
            "bin_end": 13550.6530864002,
            "count": 26
           },
           {
            "bin_start": 13550.6530864002,
            "bin_end": 16938.0098603335,
            "count": 23
           },
           {
            "bin_start": 16938.0098603335,
            "bin_end": 20325.3666342668,
            "count": 11
           },
           {
            "bin_start": 20325.3666342668,
            "bin_end": 23712.723408200098,
            "count": 9
           },
           {
            "bin_start": 23712.723408200098,
            "bin_end": 27100.0801821334,
            "count": 5
           },
           {
            "bin_start": 27100.0801821334,
            "bin_end": 30487.4369560667,
            "count": 3
           },
           {
            "bin_start": 30487.4369560667,
            "bin_end": 33874.79373,
            "count": 2
           }
          ]
         }
        },
        {
         "name": "saeule3a",
         "dtype": "int64",
         "stats": {
          "unique_count": 6,
          "nan_count": 0,
          "min": "0",
          "max": "130000",
          "histogram": [
           {
            "bin_start": 0,
            "bin_end": 13000,
            "count": 15
           },
           {
            "bin_start": 13000,
            "bin_end": 26000,
            "count": 24
           },
           {
            "bin_start": 26000,
            "bin_end": 39000,
            "count": 0
           },
           {
            "bin_start": 39000,
            "bin_end": 52000,
            "count": 31
           },
           {
            "bin_start": 52000,
            "bin_end": 65000,
            "count": 0
           },
           {
            "bin_start": 65000,
            "bin_end": 78000,
            "count": 0
           },
           {
            "bin_start": 78000,
            "bin_end": 91000,
            "count": 34
           },
           {
            "bin_start": 91000,
            "bin_end": 104000,
            "count": 39
           },
           {
            "bin_start": 104000,
            "bin_end": 117000,
            "count": 0
           },
           {
            "bin_start": 117000,
            "bin_end": 130000,
            "count": 57
           }
          ]
         }
        },
        {
         "name": "lebensversicherung",
         "dtype": "int64",
         "stats": {
          "unique_count": 44,
          "nan_count": 0,
          "min": "0",
          "max": "88000",
          "histogram": [
           {
            "bin_start": 0,
            "bin_end": 8800,
            "count": 135
           },
           {
            "bin_start": 8800,
            "bin_end": 17600,
            "count": 0
           },
           {
            "bin_start": 17600,
            "bin_end": 26400,
            "count": 4
           },
           {
            "bin_start": 26400,
            "bin_end": 35200,
            "count": 8
           },
           {
            "bin_start": 35200,
            "bin_end": 44000,
            "count": 9
           },
           {
            "bin_start": 44000,
            "bin_end": 52800,
            "count": 9
           },
           {
            "bin_start": 52800,
            "bin_end": 61600,
            "count": 7
           },
           {
            "bin_start": 61600,
            "bin_end": 70400,
            "count": 15
           },
           {
            "bin_start": 70400,
            "bin_end": 79200,
            "count": 6
           },
           {
            "bin_start": 79200,
            "bin_end": 88000,
            "count": 7
           }
          ]
         }
        },
        {
         "name": "pensionskasse",
         "dtype": "float64",
         "stats": {
          "unique_count": 123,
          "nan_count": 0,
          "min": "0.0",
          "max": "944486.6009",
          "histogram": [
           {
            "bin_start": 0,
            "bin_end": 94448.66008999999,
            "count": 150
           },
           {
            "bin_start": 94448.66008999999,
            "bin_end": 188897.32017999998,
            "count": 13
           },
           {
            "bin_start": 188897.32017999998,
            "bin_end": 283345.98026999994,
            "count": 6
           },
           {
            "bin_start": 283345.98026999994,
            "bin_end": 377794.64035999996,
            "count": 6
           },
           {
            "bin_start": 377794.64035999996,
            "bin_end": 472243.30045,
            "count": 5
           },
           {
            "bin_start": 472243.30045,
            "bin_end": 566691.9605399999,
            "count": 12
           },
           {
            "bin_start": 566691.9605399999,
            "bin_end": 661140.6206299999,
            "count": 6
           },
           {
            "bin_start": 661140.6206299999,
            "bin_end": 755589.2807199999,
            "count": 0
           },
           {
            "bin_start": 755589.2807199999,
            "bin_end": 850037.94081,
            "count": 1
           },
           {
            "bin_start": 850037.94081,
            "bin_end": 944486.6009,
            "count": 1
           }
          ]
         }
        },
        {
         "name": "totalVermoegen",
         "dtype": "float64",
         "stats": {
          "unique_count": 200,
          "nan_count": 0,
          "min": "56383.48578",
          "max": "1290459.959",
          "histogram": [
           {
            "bin_start": 56383.48578,
            "bin_end": 179791.133102,
            "count": 40
           },
           {
            "bin_start": 179791.133102,
            "bin_end": 303198.780424,
            "count": 79
           },
           {
            "bin_start": 303198.780424,
            "bin_end": 426606.427746,
            "count": 39
           },
           {
            "bin_start": 426606.427746,
            "bin_end": 550014.075068,
            "count": 13
           },
           {
            "bin_start": 550014.075068,
            "bin_end": 673421.72239,
            "count": 11
           },
           {
            "bin_start": 673421.72239,
            "bin_end": 796829.369712,
            "count": 9
           },
           {
            "bin_start": 796829.369712,
            "bin_end": 920237.017034,
            "count": 5
           },
           {
            "bin_start": 920237.017034,
            "bin_end": 1043644.664356,
            "count": 3
           },
           {
            "bin_start": 1043644.664356,
            "bin_end": 1167052.311678,
            "count": 0
           },
           {
            "bin_start": 1167052.311678,
            "bin_end": 1290459.959,
            "count": 1
           }
          ]
         }
        },
        {
         "name": "lohn",
         "dtype": "int64",
         "stats": {
          "unique_count": 5,
          "nan_count": 0,
          "min": "3200",
          "max": "13000",
          "histogram": [
           {
            "bin_start": 3200,
            "bin_end": 4180,
            "count": 10
           },
           {
            "bin_start": 4180,
            "bin_end": 5160,
            "count": 0
           },
           {
            "bin_start": 5160,
            "bin_end": 6140,
            "count": 76
           },
           {
            "bin_start": 6140,
            "bin_end": 7120,
            "count": 0
           },
           {
            "bin_start": 7120,
            "bin_end": 8100,
            "count": 7
           },
           {
            "bin_start": 8100,
            "bin_end": 9080,
            "count": 0
           },
           {
            "bin_start": 9080,
            "bin_end": 10060,
            "count": 77
           },
           {
            "bin_start": 10060,
            "bin_end": 11040,
            "count": 0
           },
           {
            "bin_start": 11040,
            "bin_end": 12020,
            "count": 0
           },
           {
            "bin_start": 12020,
            "bin_end": 13000,
            "count": 30
           }
          ]
         }
        },
        {
         "name": "lohnJahr",
         "dtype": "int64",
         "stats": {
          "unique_count": 5,
          "nan_count": 0,
          "min": "38400",
          "max": "156000",
          "histogram": [
           {
            "bin_start": 38400,
            "bin_end": 50160,
            "count": 10
           },
           {
            "bin_start": 50160,
            "bin_end": 61920,
            "count": 0
           },
           {
            "bin_start": 61920,
            "bin_end": 73680,
            "count": 76
           },
           {
            "bin_start": 73680,
            "bin_end": 85440,
            "count": 0
           },
           {
            "bin_start": 85440,
            "bin_end": 97200,
            "count": 7
           },
           {
            "bin_start": 97200,
            "bin_end": 108960,
            "count": 0
           },
           {
            "bin_start": 108960,
            "bin_end": 120720,
            "count": 77
           },
           {
            "bin_start": 120720,
            "bin_end": 132480,
            "count": 0
           },
           {
            "bin_start": 132480,
            "bin_end": 144240,
            "count": 0
           },
           {
            "bin_start": 144240,
            "bin_end": 156000,
            "count": 30
           }
          ]
         }
        },
        {
         "name": "bonus",
         "dtype": "float64",
         "stats": {
          "unique_count": 38,
          "nan_count": 0,
          "min": "0.0",
          "max": "27782.28304",
          "histogram": [
           {
            "bin_start": 0,
            "bin_end": 2778.2283039999998,
            "count": 167
           },
           {
            "bin_start": 2778.2283039999998,
            "bin_end": 5556.4566079999995,
            "count": 2
           },
           {
            "bin_start": 5556.4566079999995,
            "bin_end": 8334.684911999999,
            "count": 1
           },
           {
            "bin_start": 8334.684911999999,
            "bin_end": 11112.913215999999,
            "count": 3
           },
           {
            "bin_start": 11112.913215999999,
            "bin_end": 13891.14152,
            "count": 4
           },
           {
            "bin_start": 13891.14152,
            "bin_end": 16669.369823999998,
            "count": 4
           },
           {
            "bin_start": 16669.369823999998,
            "bin_end": 19447.598127999998,
            "count": 8
           },
           {
            "bin_start": 19447.598127999998,
            "bin_end": 22225.826431999998,
            "count": 2
           },
           {
            "bin_start": 22225.826431999998,
            "bin_end": 25004.054736,
            "count": 2
           },
           {
            "bin_start": 25004.054736,
            "bin_end": 27782.28304,
            "count": 7
           }
          ]
         }
        },
        {
         "name": "zulagen",
         "dtype": "int64",
         "stats": {
          "unique_count": 3,
          "nan_count": 0,
          "min": "0",
          "max": "840",
          "histogram": [
           {
            "bin_start": 0,
            "bin_end": 84,
            "count": 136
           },
           {
            "bin_start": 84,
            "bin_end": 168,
            "count": 0
           },
           {
            "bin_start": 168,
            "bin_end": 252,
            "count": 0
           },
           {
            "bin_start": 252,
            "bin_end": 336,
            "count": 0
           },
           {
            "bin_start": 336,
            "bin_end": 420,
            "count": 0
           },
           {
            "bin_start": 420,
            "bin_end": 504,
            "count": 10
           },
           {
            "bin_start": 504,
            "bin_end": 588,
            "count": 0
           },
           {
            "bin_start": 588,
            "bin_end": 672,
            "count": 0
           },
           {
            "bin_start": 672,
            "bin_end": 756,
            "count": 0
           },
           {
            "bin_start": 756,
            "bin_end": 840,
            "count": 54
           }
          ]
         }
        },
        {
         "name": "totalLohn",
         "dtype": "float64",
         "stats": {
          "unique_count": 41,
          "nan_count": 0,
          "min": "38880.0",
          "max": "183682.2259",
          "histogram": [
           {
            "bin_start": 38880,
            "bin_end": 53360.22259,
            "count": 10
           },
           {
            "bin_start": 53360.22259,
            "bin_end": 67840.44518,
            "count": 22
           },
           {
            "bin_start": 67840.44518,
            "bin_end": 82320.66777,
            "count": 54
           },
           {
            "bin_start": 82320.66777,
            "bin_end": 96800.89035999999,
            "count": 0
           },
           {
            "bin_start": 96800.89035999999,
            "bin_end": 111281.11295,
            "count": 79
           },
           {
            "bin_start": 111281.11295,
            "bin_end": 125761.33554,
            "count": 5
           },
           {
            "bin_start": 125761.33554,
            "bin_end": 140241.55813,
            "count": 0
           },
           {
            "bin_start": 140241.55813,
            "bin_end": 154721.78071999998,
            "count": 0
           },
           {
            "bin_start": 154721.78071999998,
            "bin_end": 169202.00331,
            "count": 12
           },
           {
            "bin_start": 169202.00331,
            "bin_end": 183682.2259,
            "count": 18
           }
          ]
         }
        },
        {
         "name": "schaetzungObjekt",
         "dtype": "float64",
         "stats": {
          "unique_count": 200,
          "nan_count": 0,
          "min": "6962.208019",
          "max": "1999139.412",
          "histogram": [
           {
            "bin_start": 6962.208019,
            "bin_end": 206179.92841710002,
            "count": 15
           },
           {
            "bin_start": 206179.92841710002,
            "bin_end": 405397.6488152,
            "count": 22
           },
           {
            "bin_start": 405397.6488152,
            "bin_end": 604615.3692133001,
            "count": 24
           },
           {
            "bin_start": 604615.3692133001,
            "bin_end": 803833.0896114,
            "count": 15
           },
           {
            "bin_start": 803833.0896114,
            "bin_end": 1003050.8100095,
            "count": 18
           },
           {
            "bin_start": 1003050.8100095,
            "bin_end": 1202268.5304076,
            "count": 23
           },
           {
            "bin_start": 1202268.5304076,
            "bin_end": 1401486.2508057,
            "count": 20
           },
           {
            "bin_start": 1401486.2508057,
            "bin_end": 1600703.9712038,
            "count": 24
           },
           {
            "bin_start": 1600703.9712038,
            "bin_end": 1799921.6916019002,
            "count": 16
           },
           {
            "bin_start": 1799921.6916019002,
            "bin_end": 1999139.412,
            "count": 23
           }
          ]
         }
        },
        {
         "name": "anzahlung",
         "dtype": "int64",
         "stats": {
          "unique_count": 5,
          "nan_count": 0,
          "min": "0",
          "max": "100",
          "histogram": [
           {
            "bin_start": 0,
            "bin_end": 10,
            "count": 59
           },
           {
            "bin_start": 10,
            "bin_end": 20,
            "count": 0
           },
           {
            "bin_start": 20,
            "bin_end": 30,
            "count": 0
           },
           {
            "bin_start": 30,
            "bin_end": 40,
            "count": 0
           },
           {
            "bin_start": 40,
            "bin_end": 50,
            "count": 0
           },
           {
            "bin_start": 50,
            "bin_end": 60,
            "count": 0
           },
           {
            "bin_start": 60,
            "bin_end": 70,
            "count": 13
           },
           {
            "bin_start": 70,
            "bin_end": 80,
            "count": 0
           },
           {
            "bin_start": 80,
            "bin_end": 90,
            "count": 32
           },
           {
            "bin_start": 90,
            "bin_end": 100,
            "count": 96
           }
          ]
         }
        },
        {
         "name": "tragbarkeit",
         "dtype": "int64",
         "stats": {
          "unique_count": 8,
          "nan_count": 0,
          "min": "0",
          "max": "100",
          "histogram": [
           {
            "bin_start": 0,
            "bin_end": 10,
            "count": 6
           },
           {
            "bin_start": 10,
            "bin_end": 20,
            "count": 49
           },
           {
            "bin_start": 20,
            "bin_end": 30,
            "count": 43
           },
           {
            "bin_start": 30,
            "bin_end": 40,
            "count": 0
           },
           {
            "bin_start": 40,
            "bin_end": 50,
            "count": 22
           },
           {
            "bin_start": 50,
            "bin_end": 60,
            "count": 18
           },
           {
            "bin_start": 60,
            "bin_end": 70,
            "count": 0
           },
           {
            "bin_start": 70,
            "bin_end": 80,
            "count": 5
           },
           {
            "bin_start": 80,
            "bin_end": 90,
            "count": 10
           },
           {
            "bin_start": 90,
            "bin_end": 100,
            "count": 47
           }
          ]
         }
        },
        {
         "name": "score",
         "dtype": "int64",
         "stats": {
          "unique_count": 19,
          "nan_count": 0,
          "min": "0",
          "max": "100",
          "histogram": [
           {
            "bin_start": 0,
            "bin_end": 10,
            "count": 32
           },
           {
            "bin_start": 10,
            "bin_end": 20,
            "count": 14
           },
           {
            "bin_start": 20,
            "bin_end": 30,
            "count": 12
           },
           {
            "bin_start": 30,
            "bin_end": 40,
            "count": 11
           },
           {
            "bin_start": 40,
            "bin_end": 50,
            "count": 10
           },
           {
            "bin_start": 50,
            "bin_end": 60,
            "count": 25
           },
           {
            "bin_start": 60,
            "bin_end": 70,
            "count": 19
           },
           {
            "bin_start": 70,
            "bin_end": 80,
            "count": 17
           },
           {
            "bin_start": 80,
            "bin_end": 90,
            "count": 4
           },
           {
            "bin_start": 90,
            "bin_end": 100,
            "count": 56
           }
          ]
         }
        },
        {
         "name": "_deepnote_index_column",
         "dtype": "int64"
        }
       ],
       "rows": [
        {
         "barvermoegen": "86234.98986",
         "aktienvermoegen": "5096.615125",
         "saeule3a": "80000",
         "lebensversicherung": "0",
         "pensionskasse": "274402.2822",
         "totalVermoegen": "445733.8872",
         "lohn": "9100",
         "lohnJahr": "109200",
         "bonus": "0.0",
         "zulagen": "0",
         "totalLohn": "109200.0",
         "schaetzungObjekt": "1086484.86",
         "anzahlung": "100",
         "tragbarkeit": "40",
         "score": "70",
         "_deepnote_index_column": "190"
        },
        {
         "barvermoegen": "75580.69089",
         "aktienvermoegen": "6095.913389",
         "saeule3a": "40000",
         "lebensversicherung": "47000",
         "pensionskasse": "68269.91239",
         "totalVermoegen": "236946.5167",
         "lohn": "13000",
         "lohnJahr": "156000",
         "bonus": "22366.18899",
         "zulagen": "0",
         "totalLohn": "178366.189",
         "schaetzungObjekt": "1445259.357",
         "anzahlung": "0",
         "tragbarkeit": "40",
         "score": "20",
         "_deepnote_index_column": "191"
        },
        {
         "barvermoegen": "80379.35641",
         "aktienvermoegen": "5596.981554",
         "saeule3a": "130000",
         "lebensversicherung": "0",
         "pensionskasse": "0.0",
         "totalVermoegen": "215976.338",
         "lohn": "5600",
         "lohnJahr": "67200",
         "bonus": "0.0",
         "zulagen": "840",
         "totalLohn": "68040.0",
         "schaetzungObjekt": "680198.1863",
         "anzahlung": "90",
         "tragbarkeit": "40",
         "score": "65",
         "_deepnote_index_column": "192"
        },
        {
         "barvermoegen": "37229.01504",
         "aktienvermoegen": "9870.440415",
         "saeule3a": "40000",
         "lebensversicherung": "0",
         "pensionskasse": "27186.68384",
         "totalVermoegen": "114286.1393",
         "lohn": "5600",
         "lohnJahr": "67200",
         "bonus": "0.0",
         "zulagen": "840",
         "totalLohn": "68040.0",
         "schaetzungObjekt": "1676961.091",
         "anzahlung": "60",
         "tragbarkeit": "10",
         "score": "35",
         "_deepnote_index_column": "193"
        },
        {
         "barvermoegen": "97258.98807",
         "aktienvermoegen": "3702.165187",
         "saeule3a": "40000",
         "lebensversicherung": "0",
         "pensionskasse": "67140.31997",
         "totalVermoegen": "208101.4732",
         "lohn": "9100",
         "lohnJahr": "109200",
         "bonus": "0.0",
         "zulagen": "0",
         "totalLohn": "109200.0",
         "schaetzungObjekt": "1925867.643",
         "anzahlung": "0",
         "tragbarkeit": "10",
         "score": "5",
         "_deepnote_index_column": "194"
        },
        {
         "barvermoegen": "38914.7664",
         "aktienvermoegen": "9517.760814",
         "saeule3a": "20000",
         "lebensversicherung": "0",
         "pensionskasse": "16761.54682",
         "totalVermoegen": "85194.07403",
         "lohn": "5600",
         "lohnJahr": "67200",
         "bonus": "0.0",
         "zulagen": "0",
         "totalLohn": "67200.0",
         "schaetzungObjekt": "38863.54004",
         "anzahlung": "100",
         "tragbarkeit": "100",
         "score": "100",
         "_deepnote_index_column": "195"
        },
        {
         "barvermoegen": "83161.05179",
         "aktienvermoegen": "4941.530877",
         "saeule3a": "40000",
         "lebensversicherung": "0",
         "pensionskasse": "66288.18028",
         "totalVermoegen": "194390.7629",
         "lohn": "13000",
         "lohnJahr": "156000",
         "bonus": "11398.4951",
         "zulagen": "0",
         "totalLohn": "167398.4951",
         "schaetzungObjekt": "1974631.351",
         "anzahlung": "60",
         "tragbarkeit": "20",
         "score": "40",
         "_deepnote_index_column": "196"
        },
        {
         "barvermoegen": "94860.43043",
         "aktienvermoegen": "3700.516002",
         "saeule3a": "130000",
         "lebensversicherung": "0",
         "pensionskasse": "0.0",
         "totalVermoegen": "228560.9464",
         "lohn": "9100",
         "lohnJahr": "109200",
         "bonus": "0.0",
         "zulagen": "0",
         "totalLohn": "109200.0",
         "schaetzungObjekt": "1828931.515",
         "anzahlung": "0",
         "tragbarkeit": "10",
         "score": "5",
         "_deepnote_index_column": "197"
        },
        {
         "barvermoegen": "55936.83198",
         "aktienvermoegen": "7575.993352",
         "saeule3a": "130000",
         "lebensversicherung": "0",
         "pensionskasse": "0.0",
         "totalVermoegen": "193512.8253",
         "lohn": "9100",
         "lohnJahr": "109200",
         "bonus": "0.0",
         "zulagen": "0",
         "totalLohn": "109200.0",
         "schaetzungObjekt": "1022610.866",
         "anzahlung": "0",
         "tragbarkeit": "40",
         "score": "20",
         "_deepnote_index_column": "198"
        },
        {
         "barvermoegen": "44038.6013",
         "aktienvermoegen": "8733.790837",
         "saeule3a": "80000",
         "lebensversicherung": "59000",
         "pensionskasse": "262753.0193",
         "totalVermoegen": "454525.4115",
         "lohn": "13000",
         "lohnJahr": "156000",
         "bonus": "538.3532525",
         "zulagen": "0",
         "totalLohn": "156538.3533",
         "schaetzungObjekt": "606231.7066",
         "anzahlung": "100",
         "tragbarkeit": "100",
         "score": "100",
         "_deepnote_index_column": "199"
        }
       ]
      },
      "text/plain": "     barvermoegen  aktienvermoegen  saeule3a  lebensversicherung  \\\n0    154557.91760     28291.630990     80000                   0   \n1    338303.87560      7606.009156     40000               45000   \n2    395285.75170       910.833454     40000                   0   \n3    308723.73680      9147.939781     40000                   0   \n4    278315.53960     10403.239510    130000                   0   \n..            ...              ...       ...                 ...   \n195   38914.76640      9517.760814     20000                   0   \n196   83161.05179      4941.530877     40000                   0   \n197   94860.43043      3700.516002    130000                   0   \n198   55936.83198      7575.993352    130000                   0   \n199   44038.60130      8733.790837     80000               59000   \n\n     pensionskasse  totalVermoegen   lohn  lohnJahr         bonus  zulagen  \\\n0     109368.55690    372218.10550   5600     67200      0.000000      840   \n1     207181.98360    638091.86830   9100    109200      0.000000        0   \n2      80878.81724    517075.40240   5600     67200      0.000000      840   \n3     200101.56730    557973.24390  13000    156000  15759.389290        0   \n4          0.00000    418718.77910   9100    109200      0.000000        0   \n..             ...             ...    ...       ...           ...      ...   \n195    16761.54682     85194.07403   5600     67200      0.000000        0   \n196    66288.18028    194390.76290  13000    156000  11398.495100        0   \n197        0.00000    228560.94640   9100    109200      0.000000        0   \n198        0.00000    193512.82530   9100    109200      0.000000        0   \n199   262753.01930    454525.41150  13000    156000    538.353253        0   \n\n       totalLohn  schaetzungObjekt  anzahlung  tragbarkeit  score  \n0     68040.0000      5.079846e+05        100           50     75  \n1    109200.0000      7.126644e+05        100           70     85  \n2     68040.0000      1.593039e+06         90           10     50  \n3    171759.3893      1.088717e+06        100           50     75  \n4    109200.0000      5.413073e+05        100           80     90  \n..           ...               ...        ...          ...    ...  \n195   67200.0000      3.886354e+04        100          100    100  \n196  167398.4951      1.974631e+06         60           20     40  \n197  109200.0000      1.828932e+06          0           10      5  \n198  109200.0000      1.022611e+06          0           40     20  \n199  156538.3533      6.062317e+05        100          100    100  \n\n[200 rows x 15 columns]",
      "text/html": "<div>\n<style scoped>\n    .dataframe tbody tr th:only-of-type {\n        vertical-align: middle;\n    }\n\n    .dataframe tbody tr th {\n        vertical-align: top;\n    }\n\n    .dataframe thead th {\n        text-align: right;\n    }\n</style>\n<table border=\"1\" class=\"dataframe\">\n  <thead>\n    <tr style=\"text-align: right;\">\n      <th></th>\n      <th>barvermoegen</th>\n      <th>aktienvermoegen</th>\n      <th>saeule3a</th>\n      <th>lebensversicherung</th>\n      <th>pensionskasse</th>\n      <th>totalVermoegen</th>\n      <th>lohn</th>\n      <th>lohnJahr</th>\n      <th>bonus</th>\n      <th>zulagen</th>\n      <th>totalLohn</th>\n      <th>schaetzungObjekt</th>\n      <th>anzahlung</th>\n      <th>tragbarkeit</th>\n      <th>score</th>\n    </tr>\n  </thead>\n  <tbody>\n    <tr>\n      <th>0</th>\n      <td>154557.91760</td>\n      <td>28291.630990</td>\n      <td>80000</td>\n      <td>0</td>\n      <td>109368.55690</td>\n      <td>372218.10550</td>\n      <td>5600</td>\n      <td>67200</td>\n      <td>0.000000</td>\n      <td>840</td>\n      <td>68040.0000</td>\n      <td>5.079846e+05</td>\n      <td>100</td>\n      <td>50</td>\n      <td>75</td>\n    </tr>\n    <tr>\n      <th>1</th>\n      <td>338303.87560</td>\n      <td>7606.009156</td>\n      <td>40000</td>\n      <td>45000</td>\n      <td>207181.98360</td>\n      <td>638091.86830</td>\n      <td>9100</td>\n      <td>109200</td>\n      <td>0.000000</td>\n      <td>0</td>\n      <td>109200.0000</td>\n      <td>7.126644e+05</td>\n      <td>100</td>\n      <td>70</td>\n      <td>85</td>\n    </tr>\n    <tr>\n      <th>2</th>\n      <td>395285.75170</td>\n      <td>910.833454</td>\n      <td>40000</td>\n      <td>0</td>\n      <td>80878.81724</td>\n      <td>517075.40240</td>\n      <td>5600</td>\n      <td>67200</td>\n      <td>0.000000</td>\n      <td>840</td>\n      <td>68040.0000</td>\n      <td>1.593039e+06</td>\n      <td>90</td>\n      <td>10</td>\n      <td>50</td>\n    </tr>\n    <tr>\n      <th>3</th>\n      <td>308723.73680</td>\n      <td>9147.939781</td>\n      <td>40000</td>\n      <td>0</td>\n      <td>200101.56730</td>\n      <td>557973.24390</td>\n      <td>13000</td>\n      <td>156000</td>\n      <td>15759.389290</td>\n      <td>0</td>\n      <td>171759.3893</td>\n      <td>1.088717e+06</td>\n      <td>100</td>\n      <td>50</td>\n      <td>75</td>\n    </tr>\n    <tr>\n      <th>4</th>\n      <td>278315.53960</td>\n      <td>10403.239510</td>\n      <td>130000</td>\n      <td>0</td>\n      <td>0.00000</td>\n      <td>418718.77910</td>\n      <td>9100</td>\n      <td>109200</td>\n      <td>0.000000</td>\n      <td>0</td>\n      <td>109200.0000</td>\n      <td>5.413073e+05</td>\n      <td>100</td>\n      <td>80</td>\n      <td>90</td>\n    </tr>\n    <tr>\n      <th>...</th>\n      <td>...</td>\n      <td>...</td>\n      <td>...</td>\n      <td>...</td>\n      <td>...</td>\n      <td>...</td>\n      <td>...</td>\n      <td>...</td>\n      <td>...</td>\n      <td>...</td>\n      <td>...</td>\n      <td>...</td>\n      <td>...</td>\n      <td>...</td>\n      <td>...</td>\n    </tr>\n    <tr>\n      <th>195</th>\n      <td>38914.76640</td>\n      <td>9517.760814</td>\n      <td>20000</td>\n      <td>0</td>\n      <td>16761.54682</td>\n      <td>85194.07403</td>\n      <td>5600</td>\n      <td>67200</td>\n      <td>0.000000</td>\n      <td>0</td>\n      <td>67200.0000</td>\n      <td>3.886354e+04</td>\n      <td>100</td>\n      <td>100</td>\n      <td>100</td>\n    </tr>\n    <tr>\n      <th>196</th>\n      <td>83161.05179</td>\n      <td>4941.530877</td>\n      <td>40000</td>\n      <td>0</td>\n      <td>66288.18028</td>\n      <td>194390.76290</td>\n      <td>13000</td>\n      <td>156000</td>\n      <td>11398.495100</td>\n      <td>0</td>\n      <td>167398.4951</td>\n      <td>1.974631e+06</td>\n      <td>60</td>\n      <td>20</td>\n      <td>40</td>\n    </tr>\n    <tr>\n      <th>197</th>\n      <td>94860.43043</td>\n      <td>3700.516002</td>\n      <td>130000</td>\n      <td>0</td>\n      <td>0.00000</td>\n      <td>228560.94640</td>\n      <td>9100</td>\n      <td>109200</td>\n      <td>0.000000</td>\n      <td>0</td>\n      <td>109200.0000</td>\n      <td>1.828932e+06</td>\n      <td>0</td>\n      <td>10</td>\n      <td>5</td>\n    </tr>\n    <tr>\n      <th>198</th>\n      <td>55936.83198</td>\n      <td>7575.993352</td>\n      <td>130000</td>\n      <td>0</td>\n      <td>0.00000</td>\n      <td>193512.82530</td>\n      <td>9100</td>\n      <td>109200</td>\n      <td>0.000000</td>\n      <td>0</td>\n      <td>109200.0000</td>\n      <td>1.022611e+06</td>\n      <td>0</td>\n      <td>40</td>\n      <td>20</td>\n    </tr>\n    <tr>\n      <th>199</th>\n      <td>44038.60130</td>\n      <td>8733.790837</td>\n      <td>80000</td>\n      <td>59000</td>\n      <td>262753.01930</td>\n      <td>454525.41150</td>\n      <td>13000</td>\n      <td>156000</td>\n      <td>538.353253</td>\n      <td>0</td>\n      <td>156538.3533</td>\n      <td>6.062317e+05</td>\n      <td>100</td>\n      <td>100</td>\n      <td>100</td>\n    </tr>\n  </tbody>\n</table>\n<p>200 rows × 15 columns</p>\n</div>"
     },
     "metadata": {}
    }
   ],
   "execution_count": null
  },
  {
   "cell_type": "code",
   "source": "np.random.seed(42)\ndata['age'] = np.random.beta(2, 4, data.shape[0]) * (90-25) + 25\ndata['usCitizen'] = np.random.rand(data.shape[0]) > 0.9\ndata['propertyType'] = np.random.choice([\"investment\", \"owner-occupied\"], data.shape[0])",
   "metadata": {
    "cell_id": "ca8d08f1e3a84f1fa2cff0b935f522ab",
    "tags": [],
    "deepnote_to_be_reexecuted": false,
    "source_hash": "e62bc343",
    "execution_start": 1664632659248,
    "execution_millis": 2,
    "deepnote_cell_type": "code",
    "deepnote_cell_height": 130,
    "deepnote_output_heights": [
     229
    ]
   },
   "outputs": [],
   "execution_count": null
  },
  {
   "cell_type": "markdown",
   "source": "### Beschreibung der Tabelle\n| Spalte | Beschreibung |\n| :------ | ------: |\n| barvermoegen | Vermögen in Bar in CHF |\n| aktienvermoegen | Vermögen in Aktien in CHF |\n| saeule3a | Kontostand 3a Säule in CHF |\n| lebensversicherung | Kontostand Lebensversicherung in CHF |\n| pensionskasse | Kontostand Pensionskasse in CHF |\n| totalVermoegen | Summierung des Guthabens |\n| lohn | Monatslohn in CHF |\n| lohnJahr | Jahreslohn in CHF |\n| bonus | Jahresbonus in CHF |\n| zulagen | Monatszulagen in CHF |\n| totalLohn | Totaler Jahreslohn in CHF |\n| schaetzungObjekt | Objektkosten in CHF |\n| anzahlung | Score der Anzahlung in % |\n| tragbarkeit | Score der Tragbarkeit in % |\n| score | Totaler Score in % |\n| age | Alter der Person in Jahren |\n| usCitizen | Bedingung: US Bürger |\n| propertyType | Objekttyp |",
   "metadata": {
    "cell_id": "9086abff4089417690c42bcc0d6497ce",
    "tags": [],
    "deepnote_cell_type": "markdown",
    "deepnote_cell_height": 534
   }
  },
  {
   "cell_type": "code",
   "source": "col = [\"totalVermoegen\", \"totalLohn\", \"schaetzungObjekt\", \"usCitizen\", \"age\"]\nX = data[col]\n\ny = np.round(data[\"score\"] / 100)\nX_train, X_test, y_train, y_test = train_test_split(X, y, test_size=0.3)",
   "metadata": {
    "cell_id": "7ba182df3695436ea5cabe972b020019",
    "tags": [],
    "deepnote_to_be_reexecuted": false,
    "source_hash": "66911c5d",
    "execution_start": 1664632659293,
    "execution_millis": 1,
    "deepnote_cell_type": "code",
    "deepnote_cell_height": 148,
    "deepnote_output_heights": [
     229
    ]
   },
   "outputs": [],
   "execution_count": null
  },
  {
   "cell_type": "code",
   "source": "model = lm.LogisticRegression().fit(X_train, y_train)",
   "metadata": {
    "cell_id": "cfa1fbd1baf44a06a887516516ca59c2",
    "tags": [],
    "deepnote_to_be_reexecuted": false,
    "source_hash": "11682c9d",
    "execution_start": 1664632659294,
    "execution_millis": 0,
    "deepnote_cell_type": "code",
    "deepnote_cell_height": 76,
    "deepnote_output_heights": [
     606,
     59
    ]
   },
   "outputs": [],
   "execution_count": null
  },
  {
   "cell_type": "code",
   "source": "y_predict_score = model.predict(X_test)\n\nconfm = metrics.confusion_matrix(y_test, y_predict_score)\nprint(\"confusion matrix:\", \"\\n\", confm, \"\\n\")\n\nscore = (confm[0][0] + confm[1][1]) / np.sum(confm)\nprint(\"score:\", score)",
   "metadata": {
    "cell_id": "c03d63af326e4a95a7bcc97ed518875c",
    "tags": [],
    "deepnote_to_be_reexecuted": false,
    "source_hash": "188d1084",
    "execution_start": 1664632659295,
    "execution_millis": 864,
    "deepnote_cell_type": "code",
    "deepnote_cell_height": 295,
    "deepnote_output_heights": [
     229
    ]
   },
   "outputs": [
    {
     "name": "stdout",
     "text": "confusion matrix: \n [[159  11]\n [  4 126]] \n\nscore: 0.95\n",
     "output_type": "stream"
    }
   ],
   "execution_count": null
  },
  {
   "cell_type": "markdown",
   "source": "<a style='text-decoration:none;line-height:16px;display:flex;color:#5B5B62;padding:10px;justify-content:end;' href='https://deepnote.com?utm_source=created-in-deepnote-cell&projectId=03c1f381-4bef-44c8-9167-00386ebceba9' target=\"_blank\">\n<img alt='Created in deepnote.com' style='display:inline;max-height:16px;margin:0px;margin-right:7.5px;' src='data:image/svg+xml;base64,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' > </img>\nCreated in <span style='font-weight:600;margin-left:4px;'>Deepnote</span></a>",
   "metadata": {
    "tags": [],
    "created_in_deepnote_cell": true,
    "deepnote_cell_type": "markdown"
   }
  }
 ],
 "nbformat": 4,
 "nbformat_minor": 2,
 "metadata": {
  "orig_nbformat": 2,
  "deepnote": {},
  "deepnote_notebook_id": "9d121e79-ed4e-4fcc-bf44-500ba3f6ba3d",
  "deepnote_persisted_session": {
   "createdAt": "2022-10-01T14:31:44.252Z"
  },
  "deepnote_execution_queue": []
 }
}