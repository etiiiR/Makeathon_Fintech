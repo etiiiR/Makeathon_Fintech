{
 "cells": [
  {
   "cell_type": "code",
   "source": "import numpy as np\nimport pandas as pd\nimport matplotlib.pyplot as plt\n\nfrom sklearn.model_selection import train_test_split\nfrom sklearn.preprocessing import MinMaxScaler\nfrom sklearn.metrics import roc_curve\n\nfrom keras.models import Sequential\nfrom keras.layers import Dense\nfrom keras.metrics import BinaryAccuracy, AUC\nfrom keras.regularizers import l1_l2\n\nfrom tensorflow.keras.callbacks import EarlyStopping\n\n\nfrom imblearn.over_sampling import RandomOverSampler",
   "metadata": {
    "tags": [],
    "cell_id": "9b162119-2f66-40d2-978c-fa7139832624",
    "deepnote_to_be_reexecuted": false,
    "source_hash": "50fa5b05",
    "execution_start": 1664699808938,
    "execution_millis": 13439,
    "deepnote_cell_type": "code",
    "deepnote_cell_height": 559
   },
   "outputs": [
    {
     "name": "stderr",
     "text": "2022-10-02 08:36:53.355794: I tensorflow/core/platform/cpu_feature_guard.cc:193] This TensorFlow binary is optimized with oneAPI Deep Neural Network Library (oneDNN) to use the following CPU instructions in performance-critical operations:  AVX2 AVX512F AVX512_VNNI FMA\nTo enable them in other operations, rebuild TensorFlow with the appropriate compiler flags.\n2022-10-02 08:36:53.643759: I tensorflow/core/util/util.cc:169] oneDNN custom operations are on. You may see slightly different numerical results due to floating-point round-off errors from different computation orders. To turn them off, set the environment variable `TF_ENABLE_ONEDNN_OPTS=0`.\n2022-10-02 08:36:53.654231: W tensorflow/stream_executor/platform/default/dso_loader.cc:64] Could not load dynamic library 'libcudart.so.11.0'; dlerror: libcudart.so.11.0: cannot open shared object file: No such file or directory\n2022-10-02 08:36:53.654256: I tensorflow/stream_executor/cuda/cudart_stub.cc:29] Ignore above cudart dlerror if you do not have a GPU set up on your machine.\n2022-10-02 08:36:53.678609: E tensorflow/stream_executor/cuda/cuda_blas.cc:2981] Unable to register cuBLAS factory: Attempting to register factory for plugin cuBLAS when one has already been registered\n2022-10-02 08:36:56.559506: W tensorflow/stream_executor/platform/default/dso_loader.cc:64] Could not load dynamic library 'libnvinfer.so.7'; dlerror: libnvinfer.so.7: cannot open shared object file: No such file or directory\n2022-10-02 08:36:56.559587: W tensorflow/stream_executor/platform/default/dso_loader.cc:64] Could not load dynamic library 'libnvinfer_plugin.so.7'; dlerror: libnvinfer_plugin.so.7: cannot open shared object file: No such file or directory\n2022-10-02 08:36:56.559593: W tensorflow/compiler/tf2tensorrt/utils/py_utils.cc:38] TF-TRT Warning: Cannot dlopen some TensorRT libraries. If you would like to use Nvidia GPU with TensorRT, please make sure the missing libraries mentioned above are installed properly.\n",
     "output_type": "stream"
    }
   ],
   "execution_count": null
  },
  {
   "cell_type": "code",
   "source": "data = pd.read_csv('Washington_State_HDMA-2016.csv')",
   "metadata": {
    "cell_id": "77061bc67d494bdf8ecf46a8fba1d13a",
    "tags": [],
    "deepnote_to_be_reexecuted": false,
    "source_hash": "fa261cda",
    "execution_start": 1664700502924,
    "execution_millis": 5551,
    "deepnote_cell_type": "code",
    "deepnote_cell_height": 131
   },
   "outputs": [
    {
     "name": "stderr",
     "text": "/shared-libs/python3.9/py-core/lib/python3.9/site-packages/IPython/core/interactiveshell.py:3139: DtypeWarning: Columns (23,24,25,28,29,30,38,39,40) have mixed types.Specify dtype option on import or set low_memory=False.\n  has_raised = await self.run_ast_nodes(code_ast.body, cell_name,\n",
     "output_type": "stream"
    }
   ],
   "execution_count": null
  },
  {
   "cell_type": "code",
   "source": "# if a loan originated there is no denial_reason, we just wanted to check that\ndata[data[\"action_taken_name\"] == \"Loan originated\"][[\"denial_reason_name_1\", \"denial_reason_name_2\", \"denial_reason_name_3\"]].value_counts()",
   "metadata": {
    "cell_id": "4b2a0c5a33ba4af19474bad15afdbd8c",
    "tags": [],
    "deepnote_to_be_reexecuted": false,
    "source_hash": "8927d4c3",
    "execution_start": 1664699928035,
    "execution_millis": 612,
    "deepnote_cell_type": "code",
    "deepnote_cell_height": 135,
    "deepnote_output_heights": [
     20
    ]
   },
   "outputs": [
    {
     "output_type": "execute_result",
     "execution_count": 10,
     "data": {
      "text/plain": "Series([], dtype: int64)"
     },
     "metadata": {}
    }
   ],
   "execution_count": null
  },
  {
   "cell_type": "code",
   "source": "data[data[\"denial_reason_name_3\"] != \"\"][[\"denial_reason_name_1\", \"denial_reason_name_2\", \"denial_reason_name_3\"]].value_counts()",
   "metadata": {
    "cell_id": "59ed6a4ac7194ebf83712a5623ff66ed",
    "tags": [],
    "deepnote_to_be_reexecuted": false,
    "source_hash": "ed6bbd44",
    "execution_start": 1664700055549,
    "execution_millis": 426,
    "deepnote_cell_type": "code",
    "deepnote_cell_height": 345,
    "deepnote_output_heights": [
     248
    ]
   },
   "outputs": [
    {
     "output_type": "execute_result",
     "execution_count": 11,
     "data": {
      "text/plain": "denial_reason_name_1                            denial_reason_name_2           denial_reason_name_3                          \nDebt-to-income ratio                            Credit history                 Other                                             75\n                                                                               Credit application incomplete                     55\nCredit history                                  Credit application incomplete  Other                                             55\nDebt-to-income ratio                            Credit history                 Insufficient cash (downpayment, closing costs)    46\n                                                Collateral                     Other                                             32\n                                                                                                                                 ..\nCredit application incomplete                   Other                          Insufficient cash (downpayment, closing costs)     1\nInsufficient cash (downpayment, closing costs)  Debt-to-income ratio           Employment history                                 1\nCredit application incomplete                   Collateral                     Other                                              1\nInsufficient cash (downpayment, closing costs)  Debt-to-income ratio           Credit application incomplete                      1\nCredit history                                  Other                          Unverifiable information                           1\nLength: 209, dtype: int64"
     },
     "metadata": {}
    }
   ],
   "execution_count": null
  },
  {
   "cell_type": "code",
   "source": "# remove the unhelpful rows\n# - Application withdrawn by applicant\n# - Application approved but not accepted\n# - Preapproval request denied by financial institution\n# - Preapproval request approved but not accepted\n\ndata_clean = data.drop(data[(data.action_taken_name == \"Application withdrawn by applicant\") | \\\n                            (data.action_taken_name == \"Application approved but not accepted\") | \\\n                            (data.action_taken_name == \"Preapproval request denied by financial institution\") | \\\n                            (data.action_taken_name == \"Preapproval request approved but not accepted\")].index)\n\n# remove approved loans\ndata_clean = data_clean[data_clean[\"action_taken_name\"] == \"Loan originated\"]\n\n# remove unnecessary columns\ndata_clean = data_clean.drop(columns=[\"action_taken_name\", \\\n                         \"sequence_number\", \\\n                         \"respondent_id\", \\\n                         \"purchaser_type_name\"])\n\n# turn denial reasons into categorial variables\npd.get_dummies(data=data_clean, prefix=[\"denial_reason_name_1\"], columns=[\"denial_reason_name_1\"]).columns\n",
   "metadata": {
    "cell_id": "0459ebe18ac54141950f1bf8668942e3",
    "tags": [],
    "deepnote_to_be_reexecuted": false,
    "source_hash": "754afafe",
    "execution_start": 1664700532434,
    "execution_millis": 1132,
    "deepnote_cell_type": "code",
    "deepnote_cell_height": 836,
    "deepnote_output_heights": [
     343
    ]
   },
   "outputs": [
    {
     "output_type": "execute_result",
     "execution_count": 19,
     "data": {
      "text/plain": "Index(['tract_to_msamd_income', 'rate_spread', 'population',\n       'minority_population', 'number_of_owner_occupied_units',\n       'number_of_1_to_4_family_units', 'loan_amount_000s',\n       'hud_median_family_income', 'applicant_income_000s', 'state_name',\n       'state_abbr', 'property_type_name', 'preapproval_name',\n       'owner_occupancy_name', 'msamd_name', 'loan_type_name',\n       'loan_purpose_name', 'lien_status_name', 'hoepa_status_name',\n       'edit_status_name', 'denial_reason_name_3', 'denial_reason_name_2',\n       'county_name', 'co_applicant_sex_name', 'co_applicant_race_name_5',\n       'co_applicant_race_name_4', 'co_applicant_race_name_3',\n       'co_applicant_race_name_2', 'co_applicant_race_name_1',\n       'co_applicant_ethnicity_name', 'census_tract_number', 'as_of_year',\n       'application_date_indicator', 'applicant_sex_name',\n       'applicant_race_name_5', 'applicant_race_name_4',\n       'applicant_race_name_3', 'applicant_race_name_2',\n       'applicant_race_name_1', 'applicant_ethnicity_name', 'agency_name',\n       'agency_abbr'],\n      dtype='object')"
     },
     "metadata": {}
    }
   ],
   "execution_count": null
  },
  {
   "cell_type": "code",
   "source": "\n\"\"\"\n# replace nan with 0 in rate_spread\ndata_clean.fillna(0, inplace=True)\n\n# turn categorial into dummies\ncategorial_names = list(set(data_clean.columns) - set(data_clean._get_numeric_data().columns))\ndata_clean = pd.get_dummies(data=data_clean, columns=categorial_names, drop_first=True)\n\"\"\"",
   "metadata": {
    "cell_id": "b4014b21f1a6455ea60ea30a9783ad2c",
    "tags": [],
    "deepnote_cell_type": "code",
    "deepnote_cell_height": 205
   },
   "outputs": [],
   "execution_count": null
  },
  {
   "cell_type": "code",
   "source": "X = data_clean.drop('loan_approved', axis=1).values\ny = data_clean['loan_approved'].values\n\noversample = RandomOverSampler(sampling_strategy='minority')\nX, y = oversample.fit_resample(X, y)\n\nscaler = MinMaxScaler()\nX = scaler.fit_transform(X, y)\n\nprint(X.shape)\nprint(y.shape)\n",
   "metadata": {
    "cell_id": "66a6de0c84fa4dd78835fea990199e47",
    "tags": [],
    "deepnote_to_be_reexecuted": false,
    "source_hash": "294e8823",
    "execution_start": 1664699581741,
    "execution_millis": 3711,
    "deepnote_cell_type": "code",
    "deepnote_cell_height": 325
   },
   "outputs": [
    {
     "name": "stdout",
     "text": "(527424, 146)\n(527424,)\n",
     "output_type": "stream"
    }
   ],
   "execution_count": null
  },
  {
   "cell_type": "code",
   "source": "X_train, X_test, y_train, y_test = train_test_split(X, y, test_size=0.3)",
   "metadata": {
    "cell_id": "d1ef5e48d20343db94739694a7fc8a97",
    "tags": [],
    "deepnote_to_be_reexecuted": false,
    "source_hash": "f7de7aef",
    "execution_start": 1664699585481,
    "execution_millis": 552,
    "deepnote_cell_type": "code",
    "deepnote_cell_height": 76
   },
   "outputs": [],
   "execution_count": null
  },
  {
   "cell_type": "code",
   "source": "epochs = 100\n\nmodel = Sequential()\n\nmodel.add(\n        Dense(32, activation='relu', input_shape=(X_train.shape[1],))\n)\n\nmodel.add(\n        Dense(32, activation='relu',)\n)\n\n\nmodel.add(\n        Dense(1, activation='sigmoid')\n)\n\nmodel.compile(\n        optimizer='adam', \n        loss='binary_crossentropy', \n        metrics=['accuracy', 'AUC']\n)\n\nearly_stop = EarlyStopping(\n        monitor='val_loss', \n        mode='min', \n        verbose=1, \n        patience=25\n)\n\nhistory = model.fit(\n        X_train, \n        y_train, \n        epochs=epochs, \n        batch_size=32768, \n        validation_data=(X_test, y_test),\n        callbacks=[early_stop],\n        use_multiprocessing=True\n)",
   "metadata": {
    "cell_id": "70226ec93580410b95eb47ae7134c8a6",
    "tags": [],
    "deepnote_to_be_reexecuted": false,
    "source_hash": "6260b932",
    "execution_start": 1664699586039,
    "deepnote_cell_type": "code",
    "deepnote_cell_height": 1539
   },
   "outputs": [
    {
     "name": "stderr",
     "text": "2022-10-02 08:33:06.043302: W tensorflow/stream_executor/platform/default/dso_loader.cc:64] Could not load dynamic library 'libcuda.so.1'; dlerror: libcuda.so.1: cannot open shared object file: No such file or directory\n2022-10-02 08:33:06.043336: W tensorflow/stream_executor/cuda/cuda_driver.cc:263] failed call to cuInit: UNKNOWN ERROR (303)\n2022-10-02 08:33:06.043350: I tensorflow/stream_executor/cuda/cuda_diagnostics.cc:156] kernel driver does not appear to be running on this host (p-03c1f381-4bef-44c8-9167-00386ebceba9): /proc/driver/nvidia/version does not exist\n2022-10-02 08:33:06.043564: I tensorflow/core/platform/cpu_feature_guard.cc:193] This TensorFlow binary is optimized with oneAPI Deep Neural Network Library (oneDNN) to use the following CPU instructions in performance-critical operations:  AVX2 AVX512F AVX512_VNNI FMA\nTo enable them in other operations, rebuild TensorFlow with the appropriate compiler flags.\nEpoch 1/100\n12/12 [==============================] - 4s 171ms/step - loss: 0.6794 - accuracy: 0.5837 - auc: 0.6170 - val_loss: 0.6502 - val_accuracy: 0.6638 - val_auc: 0.7358\nEpoch 2/100\n12/12 [==============================] - 1s 91ms/step - loss: 0.6328 - accuracy: 0.6780 - auc: 0.7451 - val_loss: 0.6123 - val_accuracy: 0.6869 - val_auc: 0.7596\nEpoch 3/100\n12/12 [==============================] - 1s 99ms/step - loss: 0.5966 - accuracy: 0.6946 - auc: 0.7665 - val_loss: 0.5787 - val_accuracy: 0.7022 - val_auc: 0.7732\nEpoch 4/100\n12/12 [==============================] - 1s 91ms/step - loss: 0.5654 - accuracy: 0.7072 - auc: 0.7807 - val_loss: 0.5518 - val_accuracy: 0.7112 - val_auc: 0.7874\nEpoch 5/100\n12/12 [==============================] - 1s 83ms/step - loss: 0.5418 - accuracy: 0.7149 - auc: 0.7927 - val_loss: 0.5328 - val_accuracy: 0.7168 - val_auc: 0.7964\nEpoch 6/100\n12/12 [==============================] - 1s 93ms/step - loss: 0.5258 - accuracy: 0.7200 - auc: 0.7999 - val_loss: 0.5204 - val_accuracy: 0.7218 - val_auc: 0.8020\nEpoch 7/100\n12/12 [==============================] - 1s 99ms/step - loss: 0.5153 - accuracy: 0.7245 - auc: 0.8048 - val_loss: 0.5117 - val_accuracy: 0.7261 - val_auc: 0.8062\nEpoch 8/100\n12/12 [==============================] - 1s 91ms/step - loss: 0.5076 - accuracy: 0.7295 - auc: 0.8087 - val_loss: 0.5054 - val_accuracy: 0.7314 - val_auc: 0.8096\nEpoch 9/100\n12/12 [==============================] - 1s 93ms/step - loss: 0.5019 - accuracy: 0.7335 - auc: 0.8120 - val_loss: 0.5007 - val_accuracy: 0.7323 - val_auc: 0.8122\nEpoch 10/100\n12/12 [==============================] - 1s 101ms/step - loss: 0.4976 - accuracy: 0.7346 - auc: 0.8143 - val_loss: 0.4970 - val_accuracy: 0.7334 - val_auc: 0.8144\nEpoch 11/100\n12/12 [==============================] - 1s 91ms/step - loss: 0.4942 - accuracy: 0.7359 - auc: 0.8163 - val_loss: 0.4943 - val_accuracy: 0.7343 - val_auc: 0.8164\nEpoch 12/100\n12/12 [==============================] - 1s 92ms/step - loss: 0.4914 - accuracy: 0.7373 - auc: 0.8184 - val_loss: 0.4918 - val_accuracy: 0.7351 - val_auc: 0.8179\nEpoch 13/100\n12/12 [==============================] - 1s 91ms/step - loss: 0.4893 - accuracy: 0.7380 - auc: 0.8200 - val_loss: 0.4899 - val_accuracy: 0.7363 - val_auc: 0.8195\nEpoch 14/100\n12/12 [==============================] - 1s 92ms/step - loss: 0.4876 - accuracy: 0.7387 - auc: 0.8213 - val_loss: 0.4885 - val_accuracy: 0.7372 - val_auc: 0.8207\nEpoch 15/100\n12/12 [==============================] - 1s 100ms/step - loss: 0.4863 - accuracy: 0.7396 - auc: 0.8224 - val_loss: 0.4874 - val_accuracy: 0.7375 - val_auc: 0.8214\nEpoch 16/100\n12/12 [==============================] - 1s 100ms/step - loss: 0.4851 - accuracy: 0.7401 - auc: 0.8235 - val_loss: 0.4864 - val_accuracy: 0.7377 - val_auc: 0.8224\nEpoch 17/100\n12/12 [==============================] - 1s 100ms/step - loss: 0.4841 - accuracy: 0.7405 - auc: 0.8243 - val_loss: 0.4856 - val_accuracy: 0.7382 - val_auc: 0.8230\nEpoch 18/100\n12/12 [==============================] - 1s 91ms/step - loss: 0.4834 - accuracy: 0.7412 - auc: 0.8248 - val_loss: 0.4850 - val_accuracy: 0.7383 - val_auc: 0.8234\nEpoch 19/100\n12/12 [==============================] - 1s 99ms/step - loss: 0.4825 - accuracy: 0.7413 - auc: 0.8256 - val_loss: 0.4842 - val_accuracy: 0.7389 - val_auc: 0.8241\nEpoch 20/100\n12/12 [==============================] - 1s 100ms/step - loss: 0.4818 - accuracy: 0.7417 - auc: 0.8261 - val_loss: 0.4837 - val_accuracy: 0.7395 - val_auc: 0.8245\nEpoch 21/100\n12/12 [==============================] - 1s 99ms/step - loss: 0.4812 - accuracy: 0.7423 - auc: 0.8266 - val_loss: 0.4835 - val_accuracy: 0.7401 - val_auc: 0.8250\nEpoch 22/100\n12/12 [==============================] - 1s 92ms/step - loss: 0.4806 - accuracy: 0.7423 - auc: 0.8272 - val_loss: 0.4828 - val_accuracy: 0.7400 - val_auc: 0.8253\nEpoch 23/100\n12/12 [==============================] - 1s 99ms/step - loss: 0.4802 - accuracy: 0.7426 - auc: 0.8274 - val_loss: 0.4823 - val_accuracy: 0.7401 - val_auc: 0.8257\nEpoch 24/100\n12/12 [==============================] - 1s 92ms/step - loss: 0.4797 - accuracy: 0.7427 - auc: 0.8278 - val_loss: 0.4819 - val_accuracy: 0.7408 - val_auc: 0.8262\nEpoch 25/100\n12/12 [==============================] - 1s 99ms/step - loss: 0.4792 - accuracy: 0.7430 - auc: 0.8283 - val_loss: 0.4816 - val_accuracy: 0.7406 - val_auc: 0.8263\nEpoch 26/100\n12/12 [==============================] - 1s 99ms/step - loss: 0.4787 - accuracy: 0.7435 - auc: 0.8288 - val_loss: 0.4809 - val_accuracy: 0.7416 - val_auc: 0.8268\nEpoch 27/100\n12/12 [==============================] - 1s 92ms/step - loss: 0.4782 - accuracy: 0.7439 - auc: 0.8292 - val_loss: 0.4804 - val_accuracy: 0.7412 - val_auc: 0.8273\nEpoch 28/100\n12/12 [==============================] - 1s 92ms/step - loss: 0.4776 - accuracy: 0.7442 - auc: 0.8298 - val_loss: 0.4800 - val_accuracy: 0.7425 - val_auc: 0.8276\nEpoch 29/100\n12/12 [==============================] - 1s 91ms/step - loss: 0.4771 - accuracy: 0.7446 - auc: 0.8302 - val_loss: 0.4797 - val_accuracy: 0.7424 - val_auc: 0.8282\nEpoch 30/100\n12/12 [==============================] - 1s 91ms/step - loss: 0.4767 - accuracy: 0.7452 - auc: 0.8306 - val_loss: 0.4795 - val_accuracy: 0.7428 - val_auc: 0.8286\nEpoch 31/100\n12/12 [==============================] - 1s 99ms/step - loss: 0.4763 - accuracy: 0.7457 - auc: 0.8310 - val_loss: 0.4786 - val_accuracy: 0.7440 - val_auc: 0.8291\nEpoch 32/100\n12/12 [==============================] - 1s 91ms/step - loss: 0.4756 - accuracy: 0.7459 - auc: 0.8316 - val_loss: 0.4792 - val_accuracy: 0.7432 - val_auc: 0.8294\nEpoch 33/100\n12/12 [==============================] - 1s 92ms/step - loss: 0.4755 - accuracy: 0.7466 - auc: 0.8318 - val_loss: 0.4779 - val_accuracy: 0.7448 - val_auc: 0.8298\nEpoch 34/100\n12/12 [==============================] - 1s 100ms/step - loss: 0.4749 - accuracy: 0.7469 - auc: 0.8323 - val_loss: 0.4774 - val_accuracy: 0.7445 - val_auc: 0.8301\nEpoch 35/100\n12/12 [==============================] - 1s 92ms/step - loss: 0.4743 - accuracy: 0.7468 - auc: 0.8328 - val_loss: 0.4770 - val_accuracy: 0.7448 - val_auc: 0.8306\nEpoch 36/100\n12/12 [==============================] - 1s 99ms/step - loss: 0.4742 - accuracy: 0.7474 - auc: 0.8330 - val_loss: 0.4770 - val_accuracy: 0.7450 - val_auc: 0.8307\nEpoch 37/100\n12/12 [==============================] - 1s 92ms/step - loss: 0.4739 - accuracy: 0.7475 - auc: 0.8333 - val_loss: 0.4765 - val_accuracy: 0.7459 - val_auc: 0.8310\nEpoch 38/100\n12/12 [==============================] - 1s 92ms/step - loss: 0.4736 - accuracy: 0.7476 - auc: 0.8335 - val_loss: 0.4767 - val_accuracy: 0.7461 - val_auc: 0.8312\nEpoch 39/100\n12/12 [==============================] - ETA: 0s - loss: 0.4731 - accuracy: 0.7481 - auc: 0.8340",
     "output_type": "stream"
    },
    {
     "output_type": "error",
     "ename": "KernelInterrupted",
     "evalue": "Execution interrupted by the Jupyter kernel.",
     "traceback": [
      "\u001b[0;31m---------------------------------------------------------------------------\u001b[0m",
      "\u001b[0;31mKernelInterrupted\u001b[0m: Execution interrupted by the Jupyter kernel."
     ]
    }
   ],
   "execution_count": null
  },
  {
   "cell_type": "markdown",
   "source": "<a style='text-decoration:none;line-height:16px;display:flex;color:#5B5B62;padding:10px;justify-content:end;' href='https://deepnote.com?utm_source=created-in-deepnote-cell&projectId=03c1f381-4bef-44c8-9167-00386ebceba9' target=\"_blank\">\n<img alt='Created in deepnote.com' style='display:inline;max-height:16px;margin:0px;margin-right:7.5px;' src='data:image/svg+xml;base64,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' > </img>\nCreated in <span style='font-weight:600;margin-left:4px;'>Deepnote</span></a>",
   "metadata": {
    "tags": [],
    "created_in_deepnote_cell": true,
    "deepnote_cell_type": "markdown"
   }
  }
 ],
 "nbformat": 4,
 "nbformat_minor": 2,
 "metadata": {
  "orig_nbformat": 2,
  "deepnote": {},
  "deepnote_notebook_id": "0fe0cb54-7dd9-4e3a-9dc8-150ca878ef7a",
  "deepnote_execution_queue": []
 }
}