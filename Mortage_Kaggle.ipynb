{
 "cells": [
  {
   "cell_type": "code",
   "source": "!pip install imblearn\nimport numpy as np\nimport pandas as pd\nimport seaborn as sns\nimport matplotlib.pyplot as plt\n\nfrom sklearn.linear_model import LogisticRegression\nfrom sklearn.svm import SVC\nfrom sklearn.model_selection import train_test_split\nfrom sklearn.preprocessing import MinMaxScaler\nfrom sklearn.metrics import roc_curve\n\nfrom keras.models import Sequential\nfrom keras.layers import Dense\nfrom keras.metrics import BinaryAccuracy, AUC\nfrom keras.regularizers import l1_l2\n\nfrom tensorflow.keras.callbacks import EarlyStopping\n\n#from tensorflow_decision_forests.keras import RandomForestModel\n\nfrom imblearn.over_sampling import RandomOverSampler",
   "metadata": {
    "cell_id": "71740b262ec245b9ac39e0c6dba0df48",
    "tags": [],
    "deepnote_to_be_reexecuted": false,
    "source_hash": "913d8b85",
    "execution_start": 1664713517518,
    "execution_millis": 9632,
    "deepnote_cell_type": "code",
    "deepnote_cell_height": 829
   },
   "execution_count": 1,
   "outputs": [
    {
     "name": "stdout",
     "text": "Requirement already satisfied: imblearn in /root/venv/lib/python3.9/site-packages (0.0)\nRequirement already satisfied: imbalanced-learn in /root/venv/lib/python3.9/site-packages (from imblearn) (0.9.1)\nRequirement already satisfied: threadpoolctl>=2.0.0 in /shared-libs/python3.9/py/lib/python3.9/site-packages (from imbalanced-learn->imblearn) (3.1.0)\nRequirement already satisfied: scikit-learn>=1.1.0 in /shared-libs/python3.9/py/lib/python3.9/site-packages (from imbalanced-learn->imblearn) (1.1.2)\nRequirement already satisfied: scipy>=1.3.2 in /shared-libs/python3.9/py/lib/python3.9/site-packages (from imbalanced-learn->imblearn) (1.9.1)\nRequirement already satisfied: numpy>=1.17.3 in /shared-libs/python3.9/py/lib/python3.9/site-packages (from imbalanced-learn->imblearn) (1.23.3)\nRequirement already satisfied: joblib>=1.0.0 in /shared-libs/python3.9/py/lib/python3.9/site-packages (from imbalanced-learn->imblearn) (1.1.0)\n\u001b[33mWARNING: You are using pip version 22.0.4; however, version 22.2.2 is available.\nYou should consider upgrading via the '/root/venv/bin/python -m pip install --upgrade pip' command.\u001b[0m\u001b[33m\n\u001b[0m2022-10-02 12:25:21.506496: I tensorflow/core/platform/cpu_feature_guard.cc:193] This TensorFlow binary is optimized with oneAPI Deep Neural Network Library (oneDNN) to use the following CPU instructions in performance-critical operations:  AVX2 AVX512F AVX512_VNNI FMA\nTo enable them in other operations, rebuild TensorFlow with the appropriate compiler flags.\n2022-10-02 12:25:21.622737: I tensorflow/core/util/util.cc:169] oneDNN custom operations are on. You may see slightly different numerical results due to floating-point round-off errors from different computation orders. To turn them off, set the environment variable `TF_ENABLE_ONEDNN_OPTS=0`.\n2022-10-02 12:25:21.627503: W tensorflow/stream_executor/platform/default/dso_loader.cc:64] Could not load dynamic library 'libcudart.so.11.0'; dlerror: libcudart.so.11.0: cannot open shared object file: No such file or directory\n2022-10-02 12:25:21.627522: I tensorflow/stream_executor/cuda/cudart_stub.cc:29] Ignore above cudart dlerror if you do not have a GPU set up on your machine.\n2022-10-02 12:25:21.651225: E tensorflow/stream_executor/cuda/cuda_blas.cc:2981] Unable to register cuBLAS factory: Attempting to register factory for plugin cuBLAS when one has already been registered\n2022-10-02 12:25:23.526524: W tensorflow/stream_executor/platform/default/dso_loader.cc:64] Could not load dynamic library 'libnvinfer.so.7'; dlerror: libnvinfer.so.7: cannot open shared object file: No such file or directory\n2022-10-02 12:25:23.526599: W tensorflow/stream_executor/platform/default/dso_loader.cc:64] Could not load dynamic library 'libnvinfer_plugin.so.7'; dlerror: libnvinfer_plugin.so.7: cannot open shared object file: No such file or directory\n2022-10-02 12:25:23.526605: W tensorflow/compiler/tf2tensorrt/utils/py_utils.cc:38] TF-TRT Warning: Cannot dlopen some TensorRT libraries. If you would like to use Nvidia GPU with TensorRT, please make sure the missing libraries mentioned above are installed properly.\n",
     "output_type": "stream"
    }
   ]
  },
  {
   "cell_type": "code",
   "metadata": {
    "cell_id": "6739ff164c0d4e3188c4657bd82845f8",
    "tags": [],
    "deepnote_to_be_reexecuted": false,
    "source_hash": "d755737e",
    "execution_start": 1664713527197,
    "execution_millis": 2807,
    "deepnote_cell_type": "code",
    "deepnote_cell_height": 136
   },
   "source": "data = pd.read_csv('Washington_State_HDMA-2016.csv') # description: https://cfpb.github.io/hmda-platform/#data-browser-api",
   "execution_count": 2,
   "outputs": [
    {
     "name": "stderr",
     "text": "/shared-libs/python3.9/py-core/lib/python3.9/site-packages/IPython/core/interactiveshell.py:3139: DtypeWarning: Columns (23,24,25,28,29,30,38,39,40) have mixed types.Specify dtype option on import or set low_memory=False.\n  has_raised = await self.run_ast_nodes(code_ast.body, cell_name,\n",
     "output_type": "stream"
    }
   ]
  },
  {
   "cell_type": "code",
   "metadata": {
    "cell_id": "b314b7ab1f6848e68480e719e08ef794",
    "tags": [],
    "deepnote_to_be_reexecuted": false,
    "source_hash": "e6928a8f",
    "execution_start": 1664713529913,
    "execution_millis": 2084,
    "deepnote_cell_type": "code",
    "deepnote_cell_height": 595
   },
   "source": "data",
   "execution_count": 3,
   "outputs": [
    {
     "output_type": "execute_result",
     "execution_count": 3,
     "data": {
      "application/vnd.deepnote.dataframe.v3+json": {
       "column_count": 47,
       "row_count": 466566,
       "columns": [
        {
         "name": "tract_to_msamd_income",
         "dtype": "float64"
        },
        {
         "name": "rate_spread",
         "dtype": "float64"
        },
        {
         "name": "population",
         "dtype": "float64"
        },
        {
         "name": "minority_population",
         "dtype": "float64"
        },
        {
         "name": "number_of_owner_occupied_units",
         "dtype": "float64"
        },
        {
         "name": "number_of_1_to_4_family_units",
         "dtype": "float64"
        },
        {
         "name": "loan_amount_000s",
         "dtype": "int64"
        },
        {
         "name": "hud_median_family_income",
         "dtype": "float64"
        },
        {
         "name": "applicant_income_000s",
         "dtype": "float64"
        },
        {
         "name": "state_name",
         "dtype": "object"
        },
        {
         "name": "state_abbr",
         "dtype": "object"
        },
        {
         "name": "sequence_number",
         "dtype": "int64"
        },
        {
         "name": "respondent_id",
         "dtype": "object"
        },
        {
         "name": "purchaser_type_name",
         "dtype": "object"
        },
        {
         "name": "property_type_name",
         "dtype": "object"
        },
        {
         "name": "preapproval_name",
         "dtype": "object"
        },
        {
         "name": "owner_occupancy_name",
         "dtype": "object"
        },
        {
         "name": "msamd_name",
         "dtype": "object"
        },
        {
         "name": "loan_type_name",
         "dtype": "object"
        },
        {
         "name": "loan_purpose_name",
         "dtype": "object"
        },
        {
         "name": "lien_status_name",
         "dtype": "object"
        },
        {
         "name": "hoepa_status_name",
         "dtype": "object"
        },
        {
         "name": "edit_status_name",
         "dtype": "object"
        },
        {
         "name": "denial_reason_name_3",
         "dtype": "object"
        },
        {
         "name": "denial_reason_name_2",
         "dtype": "object"
        },
        {
         "name": "denial_reason_name_1",
         "dtype": "object"
        },
        {
         "name": "county_name",
         "dtype": "object"
        },
        {
         "name": "co_applicant_sex_name",
         "dtype": "object"
        },
        {
         "name": "co_applicant_race_name_5",
         "dtype": "object"
        },
        {
         "name": "co_applicant_race_name_4",
         "dtype": "object"
        },
        {
         "name": "co_applicant_race_name_3",
         "dtype": "object"
        },
        {
         "name": "co_applicant_race_name_2",
         "dtype": "object"
        },
        {
         "name": "co_applicant_race_name_1",
         "dtype": "object"
        },
        {
         "name": "co_applicant_ethnicity_name",
         "dtype": "object"
        },
        {
         "name": "census_tract_number",
         "dtype": "float64"
        },
        {
         "name": "as_of_year",
         "dtype": "int64"
        },
        {
         "name": "application_date_indicator",
         "dtype": "int64"
        },
        {
         "name": "applicant_sex_name",
         "dtype": "object"
        },
        {
         "name": "applicant_race_name_5",
         "dtype": "object"
        },
        {
         "name": "applicant_race_name_4",
         "dtype": "object"
        },
        {
         "name": "applicant_race_name_3",
         "dtype": "object"
        },
        {
         "name": "applicant_race_name_2",
         "dtype": "object"
        },
        {
         "name": "applicant_race_name_1",
         "dtype": "object"
        },
        {
         "name": "applicant_ethnicity_name",
         "dtype": "object"
        },
        {
         "name": "agency_name",
         "dtype": "object"
        },
        {
         "name": "agency_abbr",
         "dtype": "object"
        },
        {
         "name": "action_taken_name",
         "dtype": "object"
        },
        {
         "name": "_deepnote_index_column",
         "dtype": "int64"
        }
       ],
       "rows": [
        {
         "tract_to_msamd_income": "121.6900024",
         "rate_spread": "nan",
         "population": "8381.0",
         "minority_population": "23.79000092",
         "number_of_owner_occupied_units": "2175.0",
         "number_of_1_to_4_family_units": "2660.0",
         "loan_amount_000s": "227",
         "hud_median_family_income": "73300.0",
         "applicant_income_000s": "116.0",
         "state_name": "Washington",
         "state_abbr": "WA",
         "sequence_number": "119969",
         "respondent_id": "480228",
         "purchaser_type_name": "Freddie Mac (FHLMC)",
         "property_type_name": "One-to-four family dwelling (other than manufactured housing)",
         "preapproval_name": "Not applicable",
         "owner_occupancy_name": "Owner-occupied as a principal dwelling",
         "msamd_name": "Portland, Vancouver, Hillsboro - OR, WA",
         "loan_type_name": "Conventional",
         "loan_purpose_name": "Refinancing",
         "lien_status_name": "Secured by a first lien",
         "hoepa_status_name": "Not a HOEPA loan",
         "edit_status_name": "nan",
         "denial_reason_name_3": "nan",
         "denial_reason_name_2": "nan",
         "denial_reason_name_1": "nan",
         "county_name": "Clark County",
         "co_applicant_sex_name": "Male",
         "co_applicant_race_name_5": "nan",
         "co_applicant_race_name_4": "nan",
         "co_applicant_race_name_3": "nan",
         "co_applicant_race_name_2": "nan",
         "co_applicant_race_name_1": "Information not provided by applicant in mail, Internet, or telephone application",
         "co_applicant_ethnicity_name": "Not Hispanic or Latino",
         "census_tract_number": "413.27",
         "as_of_year": "2016",
         "application_date_indicator": "0",
         "applicant_sex_name": "Female",
         "applicant_race_name_5": "nan",
         "applicant_race_name_4": "nan",
         "applicant_race_name_3": "nan",
         "applicant_race_name_2": "nan",
         "applicant_race_name_1": "Information not provided by applicant in mail, Internet, or telephone application",
         "applicant_ethnicity_name": "Not Hispanic or Latino",
         "agency_name": "Consumer Financial Protection Bureau",
         "agency_abbr": "CFPB",
         "action_taken_name": "Loan originated",
         "_deepnote_index_column": "0"
        },
        {
         "tract_to_msamd_income": "83.37000275",
         "rate_spread": "nan",
         "population": "4915.0",
         "minority_population": "23.98999977",
         "number_of_owner_occupied_units": "1268.0",
         "number_of_1_to_4_family_units": "1777.0",
         "loan_amount_000s": "240",
         "hud_median_family_income": "57900.0",
         "applicant_income_000s": "42.0",
         "state_name": "Washington",
         "state_abbr": "WA",
         "sequence_number": "52605",
         "respondent_id": "7257500009",
         "purchaser_type_name": "Life insurance company, credit union, mortgage bank, or finance company",
         "property_type_name": "One-to-four family dwelling (other than manufactured housing)",
         "preapproval_name": "Not applicable",
         "owner_occupancy_name": "Owner-occupied as a principal dwelling",
         "msamd_name": "Walla Walla - WA",
         "loan_type_name": "FHA-insured",
         "loan_purpose_name": "Home purchase",
         "lien_status_name": "Secured by a first lien",
         "hoepa_status_name": "Not a HOEPA loan",
         "edit_status_name": "nan",
         "denial_reason_name_3": "nan",
         "denial_reason_name_2": "nan",
         "denial_reason_name_1": "nan",
         "county_name": "Walla Walla County",
         "co_applicant_sex_name": "No co-applicant",
         "co_applicant_race_name_5": "nan",
         "co_applicant_race_name_4": "nan",
         "co_applicant_race_name_3": "nan",
         "co_applicant_race_name_2": "nan",
         "co_applicant_race_name_1": "No co-applicant",
         "co_applicant_ethnicity_name": "No co-applicant",
         "census_tract_number": "9208.01",
         "as_of_year": "2016",
         "application_date_indicator": "0",
         "applicant_sex_name": "Male",
         "applicant_race_name_5": "nan",
         "applicant_race_name_4": "nan",
         "applicant_race_name_3": "nan",
         "applicant_race_name_2": "nan",
         "applicant_race_name_1": "White",
         "applicant_ethnicity_name": "Hispanic or Latino",
         "agency_name": "Department of Housing and Urban Development",
         "agency_abbr": "HUD",
         "action_taken_name": "Loan originated",
         "_deepnote_index_column": "1"
        },
        {
         "tract_to_msamd_income": "91.12999725",
         "rate_spread": "nan",
         "population": "5075.0",
         "minority_population": "11.81999969",
         "number_of_owner_occupied_units": "1136.0",
         "number_of_1_to_4_family_units": "1838.0",
         "loan_amount_000s": "241",
         "hud_median_family_income": "73300.0",
         "applicant_income_000s": "117.0",
         "state_name": "Washington",
         "state_abbr": "WA",
         "sequence_number": "6210",
         "respondent_id": "72-1545376",
         "purchaser_type_name": "Loan was not originated or was not sold in calendar year covered by register",
         "property_type_name": "One-to-four family dwelling (other than manufactured housing)",
         "preapproval_name": "Not applicable",
         "owner_occupancy_name": "Owner-occupied as a principal dwelling",
         "msamd_name": "Portland, Vancouver, Hillsboro - OR, WA",
         "loan_type_name": "Conventional",
         "loan_purpose_name": "Refinancing",
         "lien_status_name": "Secured by a first lien",
         "hoepa_status_name": "Not a HOEPA loan",
         "edit_status_name": "nan",
         "denial_reason_name_3": "nan",
         "denial_reason_name_2": "nan",
         "denial_reason_name_1": "nan",
         "county_name": "Clark County",
         "co_applicant_sex_name": "Female",
         "co_applicant_race_name_5": "nan",
         "co_applicant_race_name_4": "nan",
         "co_applicant_race_name_3": "nan",
         "co_applicant_race_name_2": "nan",
         "co_applicant_race_name_1": "White",
         "co_applicant_ethnicity_name": "Not Hispanic or Latino",
         "census_tract_number": "414.0",
         "as_of_year": "2016",
         "application_date_indicator": "0",
         "applicant_sex_name": "Male",
         "applicant_race_name_5": "nan",
         "applicant_race_name_4": "nan",
         "applicant_race_name_3": "nan",
         "applicant_race_name_2": "nan",
         "applicant_race_name_1": "White",
         "applicant_ethnicity_name": "Not Hispanic or Latino",
         "agency_name": "Department of Housing and Urban Development",
         "agency_abbr": "HUD",
         "action_taken_name": "Loan originated",
         "_deepnote_index_column": "2"
        },
        {
         "tract_to_msamd_income": "146.1699982",
         "rate_spread": "nan",
         "population": "5032.0",
         "minority_population": "8.590000153",
         "number_of_owner_occupied_units": "1525.0",
         "number_of_1_to_4_family_units": "1820.0",
         "loan_amount_000s": "351",
         "hud_median_family_income": "73300.0",
         "applicant_income_000s": "315.0",
         "state_name": "Washington",
         "state_abbr": "WA",
         "sequence_number": "197",
         "respondent_id": "4878",
         "purchaser_type_name": "Loan was not originated or was not sold in calendar year covered by register",
         "property_type_name": "One-to-four family dwelling (other than manufactured housing)",
         "preapproval_name": "Not applicable",
         "owner_occupancy_name": "Owner-occupied as a principal dwelling",
         "msamd_name": "Portland, Vancouver, Hillsboro - OR, WA",
         "loan_type_name": "Conventional",
         "loan_purpose_name": "Refinancing",
         "lien_status_name": "Secured by a first lien",
         "hoepa_status_name": "Not a HOEPA loan",
         "edit_status_name": "nan",
         "denial_reason_name_3": "nan",
         "denial_reason_name_2": "nan",
         "denial_reason_name_1": "nan",
         "county_name": "Clark County",
         "co_applicant_sex_name": "Female",
         "co_applicant_race_name_5": "nan",
         "co_applicant_race_name_4": "nan",
         "co_applicant_race_name_3": "nan",
         "co_applicant_race_name_2": "nan",
         "co_applicant_race_name_1": "Information not provided by applicant in mail, Internet, or telephone application",
         "co_applicant_ethnicity_name": "Information not provided by applicant in mail, Internet, or telephone application",
         "census_tract_number": "405.1",
         "as_of_year": "2016",
         "application_date_indicator": "0",
         "applicant_sex_name": "Male",
         "applicant_race_name_5": "nan",
         "applicant_race_name_4": "nan",
         "applicant_race_name_3": "nan",
         "applicant_race_name_2": "nan",
         "applicant_race_name_1": "Information not provided by applicant in mail, Internet, or telephone application",
         "applicant_ethnicity_name": "Information not provided by applicant in mail, Internet, or telephone application",
         "agency_name": "National Credit Union Administration",
         "agency_abbr": "NCUA",
         "action_taken_name": "Loan originated",
         "_deepnote_index_column": "3"
        },
        {
         "tract_to_msamd_income": "162.4700012",
         "rate_spread": "nan",
         "population": "5183.0",
         "minority_population": "10.5",
         "number_of_owner_occupied_units": "1705.0",
         "number_of_1_to_4_family_units": "2104.0",
         "loan_amount_000s": "417",
         "hud_median_family_income": "78100.0",
         "applicant_income_000s": "114.0",
         "state_name": "Washington",
         "state_abbr": "WA",
         "sequence_number": "32582",
         "respondent_id": "32489",
         "purchaser_type_name": "Freddie Mac (FHLMC)",
         "property_type_name": "One-to-four family dwelling (other than manufactured housing)",
         "preapproval_name": "Not applicable",
         "owner_occupancy_name": "Owner-occupied as a principal dwelling",
         "msamd_name": "Bremerton, Silverdale - WA",
         "loan_type_name": "Conventional",
         "loan_purpose_name": "Home improvement",
         "lien_status_name": "Secured by a first lien",
         "hoepa_status_name": "Not a HOEPA loan",
         "edit_status_name": "nan",
         "denial_reason_name_3": "nan",
         "denial_reason_name_2": "nan",
         "denial_reason_name_1": "nan",
         "county_name": "Kitsap County",
         "co_applicant_sex_name": "Male",
         "co_applicant_race_name_5": "nan",
         "co_applicant_race_name_4": "nan",
         "co_applicant_race_name_3": "nan",
         "co_applicant_race_name_2": "nan",
         "co_applicant_race_name_1": "White",
         "co_applicant_ethnicity_name": "Not Hispanic or Latino",
         "census_tract_number": "907.0",
         "as_of_year": "2016",
         "application_date_indicator": "0",
         "applicant_sex_name": "Female",
         "applicant_race_name_5": "nan",
         "applicant_race_name_4": "nan",
         "applicant_race_name_3": "nan",
         "applicant_race_name_2": "nan",
         "applicant_race_name_1": "White",
         "applicant_ethnicity_name": "Not Hispanic or Latino",
         "agency_name": "Federal Deposit Insurance Corporation",
         "agency_abbr": "FDIC",
         "action_taken_name": "Loan originated",
         "_deepnote_index_column": "4"
        },
        {
         "tract_to_msamd_income": "119.6299973",
         "rate_spread": "nan",
         "population": "4775.0",
         "minority_population": "18.88999939",
         "number_of_owner_occupied_units": "954.0",
         "number_of_1_to_4_family_units": "1332.0",
         "loan_amount_000s": "206",
         "hud_median_family_income": "72300.0",
         "applicant_income_000s": "nan",
         "state_name": "Washington",
         "state_abbr": "WA",
         "sequence_number": "6270",
         "respondent_id": "24671",
         "purchaser_type_name": "Life insurance company, credit union, mortgage bank, or finance company",
         "property_type_name": "One-to-four family dwelling (other than manufactured housing)",
         "preapproval_name": "Not applicable",
         "owner_occupancy_name": "Owner-occupied as a principal dwelling",
         "msamd_name": "Tacoma, Lakewood - WA",
         "loan_type_name": "VA-guaranteed",
         "loan_purpose_name": "Refinancing",
         "lien_status_name": "Secured by a first lien",
         "hoepa_status_name": "Not a HOEPA loan",
         "edit_status_name": "Quality edit failure only",
         "denial_reason_name_3": "nan",
         "denial_reason_name_2": "nan",
         "denial_reason_name_1": "nan",
         "county_name": "Pierce County",
         "co_applicant_sex_name": "No co-applicant",
         "co_applicant_race_name_5": "nan",
         "co_applicant_race_name_4": "nan",
         "co_applicant_race_name_3": "nan",
         "co_applicant_race_name_2": "nan",
         "co_applicant_race_name_1": "No co-applicant",
         "co_applicant_ethnicity_name": "No co-applicant",
         "census_tract_number": "734.06",
         "as_of_year": "2016",
         "application_date_indicator": "0",
         "applicant_sex_name": "Male",
         "applicant_race_name_5": "nan",
         "applicant_race_name_4": "nan",
         "applicant_race_name_3": "nan",
         "applicant_race_name_2": "nan",
         "applicant_race_name_1": "White",
         "applicant_ethnicity_name": "Not Hispanic or Latino",
         "agency_name": "Office of the Comptroller of the Currency",
         "agency_abbr": "OCC",
         "action_taken_name": "Loan originated",
         "_deepnote_index_column": "5"
        },
        {
         "tract_to_msamd_income": "103.2099991",
         "rate_spread": "nan",
         "population": "4745.0",
         "minority_population": "33.06999969",
         "number_of_owner_occupied_units": "1337.0",
         "number_of_1_to_4_family_units": "1442.0",
         "loan_amount_000s": "356",
         "hud_median_family_income": "90300.0",
         "applicant_income_000s": "nan",
         "state_name": "Washington",
         "state_abbr": "WA",
         "sequence_number": "10009",
         "respondent_id": "6443809990",
         "purchaser_type_name": "Ginnie Mae (GNMA)",
         "property_type_name": "One-to-four family dwelling (other than manufactured housing)",
         "preapproval_name": "Not applicable",
         "owner_occupancy_name": "Owner-occupied as a principal dwelling",
         "msamd_name": "Seattle, Bellevue, Everett - WA",
         "loan_type_name": "VA-guaranteed",
         "loan_purpose_name": "Refinancing",
         "lien_status_name": "Secured by a first lien",
         "hoepa_status_name": "Not a HOEPA loan",
         "edit_status_name": "Quality edit failure only",
         "denial_reason_name_3": "nan",
         "denial_reason_name_2": "nan",
         "denial_reason_name_1": "nan",
         "county_name": "Snohomish County",
         "co_applicant_sex_name": "No co-applicant",
         "co_applicant_race_name_5": "nan",
         "co_applicant_race_name_4": "nan",
         "co_applicant_race_name_3": "nan",
         "co_applicant_race_name_2": "nan",
         "co_applicant_race_name_1": "No co-applicant",
         "co_applicant_ethnicity_name": "No co-applicant",
         "census_tract_number": "519.23",
         "as_of_year": "2016",
         "application_date_indicator": "0",
         "applicant_sex_name": "Male",
         "applicant_race_name_5": "nan",
         "applicant_race_name_4": "nan",
         "applicant_race_name_3": "nan",
         "applicant_race_name_2": "nan",
         "applicant_race_name_1": "White",
         "applicant_ethnicity_name": "Not Hispanic or Latino",
         "agency_name": "Department of Housing and Urban Development",
         "agency_abbr": "HUD",
         "action_taken_name": "Loan originated",
         "_deepnote_index_column": "6"
        },
        {
         "tract_to_msamd_income": "93.76999664",
         "rate_spread": "nan",
         "population": "7451.0",
         "minority_population": "33.40000153",
         "number_of_owner_occupied_units": "1761.0",
         "number_of_1_to_4_family_units": "2478.0",
         "loan_amount_000s": "265",
         "hud_median_family_income": "72300.0",
         "applicant_income_000s": "nan",
         "state_name": "Washington",
         "state_abbr": "WA",
         "sequence_number": "192917",
         "respondent_id": "504713",
         "purchaser_type_name": "Ginnie Mae (GNMA)",
         "property_type_name": "One-to-four family dwelling (other than manufactured housing)",
         "preapproval_name": "Not applicable",
         "owner_occupancy_name": "Owner-occupied as a principal dwelling",
         "msamd_name": "Tacoma, Lakewood - WA",
         "loan_type_name": "VA-guaranteed",
         "loan_purpose_name": "Refinancing",
         "lien_status_name": "Secured by a first lien",
         "hoepa_status_name": "Not a HOEPA loan",
         "edit_status_name": "Quality edit failure only",
         "denial_reason_name_3": "nan",
         "denial_reason_name_2": "nan",
         "denial_reason_name_1": "nan",
         "county_name": "Pierce County",
         "co_applicant_sex_name": "Female",
         "co_applicant_race_name_5": "nan",
         "co_applicant_race_name_4": "nan",
         "co_applicant_race_name_3": "nan",
         "co_applicant_race_name_2": "nan",
         "co_applicant_race_name_1": "White",
         "co_applicant_ethnicity_name": "Not Hispanic or Latino",
         "census_tract_number": "731.08",
         "as_of_year": "2016",
         "application_date_indicator": "0",
         "applicant_sex_name": "Male",
         "applicant_race_name_5": "nan",
         "applicant_race_name_4": "nan",
         "applicant_race_name_3": "nan",
         "applicant_race_name_2": "nan",
         "applicant_race_name_1": "White",
         "applicant_ethnicity_name": "Not Hispanic or Latino",
         "agency_name": "Consumer Financial Protection Bureau",
         "agency_abbr": "CFPB",
         "action_taken_name": "Loan originated",
         "_deepnote_index_column": "7"
        },
        {
         "tract_to_msamd_income": "109.5800018",
         "rate_spread": "nan",
         "population": "6567.0",
         "minority_population": "21.70999908",
         "number_of_owner_occupied_units": "1130.0",
         "number_of_1_to_4_family_units": "1579.0",
         "loan_amount_000s": "131",
         "hud_median_family_income": "73600.0",
         "applicant_income_000s": "nan",
         "state_name": "Washington",
         "state_abbr": "WA",
         "sequence_number": "52027",
         "respondent_id": "20-8745846",
         "purchaser_type_name": "Ginnie Mae (GNMA)",
         "property_type_name": "One-to-four family dwelling (other than manufactured housing)",
         "preapproval_name": "Not applicable",
         "owner_occupancy_name": "Owner-occupied as a principal dwelling",
         "msamd_name": "Olympia, Tumwater - WA",
         "loan_type_name": "FHA-insured",
         "loan_purpose_name": "Refinancing",
         "lien_status_name": "Secured by a first lien",
         "hoepa_status_name": "Not a HOEPA loan",
         "edit_status_name": "Quality edit failure only",
         "denial_reason_name_3": "nan",
         "denial_reason_name_2": "nan",
         "denial_reason_name_1": "nan",
         "county_name": "Thurston County",
         "co_applicant_sex_name": "No co-applicant",
         "co_applicant_race_name_5": "nan",
         "co_applicant_race_name_4": "nan",
         "co_applicant_race_name_3": "nan",
         "co_applicant_race_name_2": "nan",
         "co_applicant_race_name_1": "No co-applicant",
         "co_applicant_ethnicity_name": "No co-applicant",
         "census_tract_number": "109.1",
         "as_of_year": "2016",
         "application_date_indicator": "0",
         "applicant_sex_name": "Male",
         "applicant_race_name_5": "nan",
         "applicant_race_name_4": "nan",
         "applicant_race_name_3": "nan",
         "applicant_race_name_2": "nan",
         "applicant_race_name_1": "White",
         "applicant_ethnicity_name": "Not Hispanic or Latino",
         "agency_name": "Department of Housing and Urban Development",
         "agency_abbr": "HUD",
         "action_taken_name": "Loan originated",
         "_deepnote_index_column": "8"
        },
        {
         "tract_to_msamd_income": "87.16000366",
         "rate_spread": "nan",
         "population": "9326.0",
         "minority_population": "19.39999962",
         "number_of_owner_occupied_units": "2449.0",
         "number_of_1_to_4_family_units": "3403.0",
         "loan_amount_000s": "199",
         "hud_median_family_income": "61400.0",
         "applicant_income_000s": "37.0",
         "state_name": "Washington",
         "state_abbr": "WA",
         "sequence_number": "490",
         "respondent_id": "6158",
         "purchaser_type_name": "Life insurance company, credit union, mortgage bank, or finance company",
         "property_type_name": "One-to-four family dwelling (other than manufactured housing)",
         "preapproval_name": "Preapproval was not requested",
         "owner_occupancy_name": "Owner-occupied as a principal dwelling",
         "msamd_name": "Mount Vernon, Anacortes - WA",
         "loan_type_name": "Conventional",
         "loan_purpose_name": "Home purchase",
         "lien_status_name": "Secured by a first lien",
         "hoepa_status_name": "Not a HOEPA loan",
         "edit_status_name": "nan",
         "denial_reason_name_3": "nan",
         "denial_reason_name_2": "nan",
         "denial_reason_name_1": "nan",
         "county_name": "Skagit County",
         "co_applicant_sex_name": "No co-applicant",
         "co_applicant_race_name_5": "nan",
         "co_applicant_race_name_4": "nan",
         "co_applicant_race_name_3": "nan",
         "co_applicant_race_name_2": "nan",
         "co_applicant_race_name_1": "No co-applicant",
         "co_applicant_ethnicity_name": "No co-applicant",
         "census_tract_number": "9515.0",
         "as_of_year": "2016",
         "application_date_indicator": "0",
         "applicant_sex_name": "Male",
         "applicant_race_name_5": "nan",
         "applicant_race_name_4": "nan",
         "applicant_race_name_3": "nan",
         "applicant_race_name_2": "nan",
         "applicant_race_name_1": "White",
         "applicant_ethnicity_name": "Not Hispanic or Latino",
         "agency_name": "Federal Deposit Insurance Corporation",
         "agency_abbr": "FDIC",
         "action_taken_name": "Loan originated",
         "_deepnote_index_column": "9"
        }
       ]
      },
      "text/plain": "        tract_to_msamd_income  rate_spread  population  minority_population  \\\n0                  121.690002          NaN      8381.0            23.790001   \n1                   83.370003          NaN      4915.0            23.990000   \n2                   91.129997          NaN      5075.0            11.820000   \n3                  146.169998          NaN      5032.0             8.590000   \n4                  162.470001          NaN      5183.0            10.500000   \n...                       ...          ...         ...                  ...   \n466561                    NaN          NaN         NaN                  NaN   \n466562                    NaN          NaN         NaN                  NaN   \n466563                    NaN          NaN         NaN                  NaN   \n466564              88.690002          NaN      4725.0            45.880001   \n466565             128.690002          NaN      3657.0            21.410000   \n\n        number_of_owner_occupied_units  number_of_1_to_4_family_units  \\\n0                               2175.0                         2660.0   \n1                               1268.0                         1777.0   \n2                               1136.0                         1838.0   \n3                               1525.0                         1820.0   \n4                               1705.0                         2104.0   \n...                                ...                            ...   \n466561                             NaN                            NaN   \n466562                             NaN                            NaN   \n466563                             NaN                            NaN   \n466564                          1188.0                         1686.0   \n466565                          1156.0                         1244.0   \n\n        loan_amount_000s  hud_median_family_income  applicant_income_000s  \\\n0                    227                   73300.0                  116.0   \n1                    240                   57900.0                   42.0   \n2                    241                   73300.0                  117.0   \n3                    351                   73300.0                  315.0   \n4                    417                   78100.0                  114.0   \n...                  ...                       ...                    ...   \n466561               178                       NaN                   97.0   \n466562               110                       NaN                   30.0   \n466563               420                       NaN                   71.0   \n466564               255                   72300.0                   77.0   \n466565               319                   90300.0                   78.0   \n\n        state_name  ... applicant_sex_name  applicant_race_name_5  \\\n0       Washington  ...             Female                    NaN   \n1       Washington  ...               Male                    NaN   \n2       Washington  ...               Male                    NaN   \n3       Washington  ...               Male                    NaN   \n4       Washington  ...             Female                    NaN   \n...            ...  ...                ...                    ...   \n466561  Washington  ...             Female                    NaN   \n466562  Washington  ...               Male                    NaN   \n466563  Washington  ...             Female                    NaN   \n466564  Washington  ...               Male                    NaN   \n466565  Washington  ...               Male                    NaN   \n\n       applicant_race_name_4 applicant_race_name_3 applicant_race_name_2  \\\n0                        NaN                   NaN                   NaN   \n1                        NaN                   NaN                   NaN   \n2                        NaN                   NaN                   NaN   \n3                        NaN                   NaN                   NaN   \n4                        NaN                   NaN                   NaN   \n...                      ...                   ...                   ...   \n466561                   NaN                   NaN                   NaN   \n466562                   NaN                   NaN                   NaN   \n466563                   NaN                   NaN                   NaN   \n466564                   NaN                   NaN                   NaN   \n466565                   NaN                   NaN                   NaN   \n\n                                    applicant_race_name_1  \\\n0       Information not provided by applicant in mail,...   \n1                                                   White   \n2                                                   White   \n3       Information not provided by applicant in mail,...   \n4                                                   White   \n...                                                   ...   \n466561                                              White   \n466562                                              White   \n466563  Information not provided by applicant in mail,...   \n466564                                              White   \n466565                          Black or African American   \n\n                                 applicant_ethnicity_name  \\\n0                                  Not Hispanic or Latino   \n1                                      Hispanic or Latino   \n2                                  Not Hispanic or Latino   \n3       Information not provided by applicant in mail,...   \n4                                  Not Hispanic or Latino   \n...                                                   ...   \n466561                             Not Hispanic or Latino   \n466562                             Not Hispanic or Latino   \n466563  Information not provided by applicant in mail,...   \n466564                             Not Hispanic or Latino   \n466565                             Not Hispanic or Latino   \n\n                                        agency_name agency_abbr  \\\n0              Consumer Financial Protection Bureau        CFPB   \n1       Department of Housing and Urban Development         HUD   \n2       Department of Housing and Urban Development         HUD   \n3              National Credit Union Administration        NCUA   \n4             Federal Deposit Insurance Corporation        FDIC   \n...                                             ...         ...   \n466561  Department of Housing and Urban Development         HUD   \n466562  Department of Housing and Urban Development         HUD   \n466563  Department of Housing and Urban Development         HUD   \n466564  Department of Housing and Urban Development         HUD   \n466565  Department of Housing and Urban Development         HUD   \n\n                                        action_taken_name  \n0                                         Loan originated  \n1                                         Loan originated  \n2                                         Loan originated  \n3                                         Loan originated  \n4                                         Loan originated  \n...                                                   ...  \n466561  Preapproval request denied by financial instit...  \n466562  Preapproval request denied by financial instit...  \n466563      Preapproval request approved but not accepted  \n466564      Preapproval request approved but not accepted  \n466565      Preapproval request approved but not accepted  \n\n[466566 rows x 47 columns]",
      "text/html": "<div>\n<style scoped>\n    .dataframe tbody tr th:only-of-type {\n        vertical-align: middle;\n    }\n\n    .dataframe tbody tr th {\n        vertical-align: top;\n    }\n\n    .dataframe thead th {\n        text-align: right;\n    }\n</style>\n<table border=\"1\" class=\"dataframe\">\n  <thead>\n    <tr style=\"text-align: right;\">\n      <th></th>\n      <th>tract_to_msamd_income</th>\n      <th>rate_spread</th>\n      <th>population</th>\n      <th>minority_population</th>\n      <th>number_of_owner_occupied_units</th>\n      <th>number_of_1_to_4_family_units</th>\n      <th>loan_amount_000s</th>\n      <th>hud_median_family_income</th>\n      <th>applicant_income_000s</th>\n      <th>state_name</th>\n      <th>...</th>\n      <th>applicant_sex_name</th>\n      <th>applicant_race_name_5</th>\n      <th>applicant_race_name_4</th>\n      <th>applicant_race_name_3</th>\n      <th>applicant_race_name_2</th>\n      <th>applicant_race_name_1</th>\n      <th>applicant_ethnicity_name</th>\n      <th>agency_name</th>\n      <th>agency_abbr</th>\n      <th>action_taken_name</th>\n    </tr>\n  </thead>\n  <tbody>\n    <tr>\n      <th>0</th>\n      <td>121.690002</td>\n      <td>NaN</td>\n      <td>8381.0</td>\n      <td>23.790001</td>\n      <td>2175.0</td>\n      <td>2660.0</td>\n      <td>227</td>\n      <td>73300.0</td>\n      <td>116.0</td>\n      <td>Washington</td>\n      <td>...</td>\n      <td>Female</td>\n      <td>NaN</td>\n      <td>NaN</td>\n      <td>NaN</td>\n      <td>NaN</td>\n      <td>Information not provided by applicant in mail,...</td>\n      <td>Not Hispanic or Latino</td>\n      <td>Consumer Financial Protection Bureau</td>\n      <td>CFPB</td>\n      <td>Loan originated</td>\n    </tr>\n    <tr>\n      <th>1</th>\n      <td>83.370003</td>\n      <td>NaN</td>\n      <td>4915.0</td>\n      <td>23.990000</td>\n      <td>1268.0</td>\n      <td>1777.0</td>\n      <td>240</td>\n      <td>57900.0</td>\n      <td>42.0</td>\n      <td>Washington</td>\n      <td>...</td>\n      <td>Male</td>\n      <td>NaN</td>\n      <td>NaN</td>\n      <td>NaN</td>\n      <td>NaN</td>\n      <td>White</td>\n      <td>Hispanic or Latino</td>\n      <td>Department of Housing and Urban Development</td>\n      <td>HUD</td>\n      <td>Loan originated</td>\n    </tr>\n    <tr>\n      <th>2</th>\n      <td>91.129997</td>\n      <td>NaN</td>\n      <td>5075.0</td>\n      <td>11.820000</td>\n      <td>1136.0</td>\n      <td>1838.0</td>\n      <td>241</td>\n      <td>73300.0</td>\n      <td>117.0</td>\n      <td>Washington</td>\n      <td>...</td>\n      <td>Male</td>\n      <td>NaN</td>\n      <td>NaN</td>\n      <td>NaN</td>\n      <td>NaN</td>\n      <td>White</td>\n      <td>Not Hispanic or Latino</td>\n      <td>Department of Housing and Urban Development</td>\n      <td>HUD</td>\n      <td>Loan originated</td>\n    </tr>\n    <tr>\n      <th>3</th>\n      <td>146.169998</td>\n      <td>NaN</td>\n      <td>5032.0</td>\n      <td>8.590000</td>\n      <td>1525.0</td>\n      <td>1820.0</td>\n      <td>351</td>\n      <td>73300.0</td>\n      <td>315.0</td>\n      <td>Washington</td>\n      <td>...</td>\n      <td>Male</td>\n      <td>NaN</td>\n      <td>NaN</td>\n      <td>NaN</td>\n      <td>NaN</td>\n      <td>Information not provided by applicant in mail,...</td>\n      <td>Information not provided by applicant in mail,...</td>\n      <td>National Credit Union Administration</td>\n      <td>NCUA</td>\n      <td>Loan originated</td>\n    </tr>\n    <tr>\n      <th>4</th>\n      <td>162.470001</td>\n      <td>NaN</td>\n      <td>5183.0</td>\n      <td>10.500000</td>\n      <td>1705.0</td>\n      <td>2104.0</td>\n      <td>417</td>\n      <td>78100.0</td>\n      <td>114.0</td>\n      <td>Washington</td>\n      <td>...</td>\n      <td>Female</td>\n      <td>NaN</td>\n      <td>NaN</td>\n      <td>NaN</td>\n      <td>NaN</td>\n      <td>White</td>\n      <td>Not Hispanic or Latino</td>\n      <td>Federal Deposit Insurance Corporation</td>\n      <td>FDIC</td>\n      <td>Loan originated</td>\n    </tr>\n    <tr>\n      <th>...</th>\n      <td>...</td>\n      <td>...</td>\n      <td>...</td>\n      <td>...</td>\n      <td>...</td>\n      <td>...</td>\n      <td>...</td>\n      <td>...</td>\n      <td>...</td>\n      <td>...</td>\n      <td>...</td>\n      <td>...</td>\n      <td>...</td>\n      <td>...</td>\n      <td>...</td>\n      <td>...</td>\n      <td>...</td>\n      <td>...</td>\n      <td>...</td>\n      <td>...</td>\n      <td>...</td>\n    </tr>\n    <tr>\n      <th>466561</th>\n      <td>NaN</td>\n      <td>NaN</td>\n      <td>NaN</td>\n      <td>NaN</td>\n      <td>NaN</td>\n      <td>NaN</td>\n      <td>178</td>\n      <td>NaN</td>\n      <td>97.0</td>\n      <td>Washington</td>\n      <td>...</td>\n      <td>Female</td>\n      <td>NaN</td>\n      <td>NaN</td>\n      <td>NaN</td>\n      <td>NaN</td>\n      <td>White</td>\n      <td>Not Hispanic or Latino</td>\n      <td>Department of Housing and Urban Development</td>\n      <td>HUD</td>\n      <td>Preapproval request denied by financial instit...</td>\n    </tr>\n    <tr>\n      <th>466562</th>\n      <td>NaN</td>\n      <td>NaN</td>\n      <td>NaN</td>\n      <td>NaN</td>\n      <td>NaN</td>\n      <td>NaN</td>\n      <td>110</td>\n      <td>NaN</td>\n      <td>30.0</td>\n      <td>Washington</td>\n      <td>...</td>\n      <td>Male</td>\n      <td>NaN</td>\n      <td>NaN</td>\n      <td>NaN</td>\n      <td>NaN</td>\n      <td>White</td>\n      <td>Not Hispanic or Latino</td>\n      <td>Department of Housing and Urban Development</td>\n      <td>HUD</td>\n      <td>Preapproval request denied by financial instit...</td>\n    </tr>\n    <tr>\n      <th>466563</th>\n      <td>NaN</td>\n      <td>NaN</td>\n      <td>NaN</td>\n      <td>NaN</td>\n      <td>NaN</td>\n      <td>NaN</td>\n      <td>420</td>\n      <td>NaN</td>\n      <td>71.0</td>\n      <td>Washington</td>\n      <td>...</td>\n      <td>Female</td>\n      <td>NaN</td>\n      <td>NaN</td>\n      <td>NaN</td>\n      <td>NaN</td>\n      <td>Information not provided by applicant in mail,...</td>\n      <td>Information not provided by applicant in mail,...</td>\n      <td>Department of Housing and Urban Development</td>\n      <td>HUD</td>\n      <td>Preapproval request approved but not accepted</td>\n    </tr>\n    <tr>\n      <th>466564</th>\n      <td>88.690002</td>\n      <td>NaN</td>\n      <td>4725.0</td>\n      <td>45.880001</td>\n      <td>1188.0</td>\n      <td>1686.0</td>\n      <td>255</td>\n      <td>72300.0</td>\n      <td>77.0</td>\n      <td>Washington</td>\n      <td>...</td>\n      <td>Male</td>\n      <td>NaN</td>\n      <td>NaN</td>\n      <td>NaN</td>\n      <td>NaN</td>\n      <td>White</td>\n      <td>Not Hispanic or Latino</td>\n      <td>Department of Housing and Urban Development</td>\n      <td>HUD</td>\n      <td>Preapproval request approved but not accepted</td>\n    </tr>\n    <tr>\n      <th>466565</th>\n      <td>128.690002</td>\n      <td>NaN</td>\n      <td>3657.0</td>\n      <td>21.410000</td>\n      <td>1156.0</td>\n      <td>1244.0</td>\n      <td>319</td>\n      <td>90300.0</td>\n      <td>78.0</td>\n      <td>Washington</td>\n      <td>...</td>\n      <td>Male</td>\n      <td>NaN</td>\n      <td>NaN</td>\n      <td>NaN</td>\n      <td>NaN</td>\n      <td>Black or African American</td>\n      <td>Not Hispanic or Latino</td>\n      <td>Department of Housing and Urban Development</td>\n      <td>HUD</td>\n      <td>Preapproval request approved but not accepted</td>\n    </tr>\n  </tbody>\n</table>\n<p>466566 rows × 47 columns</p>\n</div>"
     },
     "metadata": {}
    }
   ]
  },
  {
   "cell_type": "code",
   "source": "new_data = data.iloc[:1]\nnew_data.to_json()",
   "metadata": {
    "cell_id": "47cbf3fa36eb42d598167c3cadbc6003",
    "tags": [],
    "deepnote_to_be_reexecuted": false,
    "source_hash": "c877db3a",
    "execution_start": 1664713531032,
    "execution_millis": 965,
    "deepnote_cell_type": "code",
    "deepnote_cell_height": 130,
    "deepnote_output_heights": [
     20
    ]
   },
   "outputs": [
    {
     "output_type": "execute_result",
     "execution_count": 4,
     "data": {
      "text/plain": "'{\"tract_to_msamd_income\":{\"0\":121.6900024},\"rate_spread\":{\"0\":null},\"population\":{\"0\":8381.0},\"minority_population\":{\"0\":23.79000092},\"number_of_owner_occupied_units\":{\"0\":2175.0},\"number_of_1_to_4_family_units\":{\"0\":2660.0},\"loan_amount_000s\":{\"0\":227},\"hud_median_family_income\":{\"0\":73300.0},\"applicant_income_000s\":{\"0\":116.0},\"state_name\":{\"0\":\"Washington\"},\"state_abbr\":{\"0\":\"WA\"},\"sequence_number\":{\"0\":119969},\"respondent_id\":{\"0\":\"480228\"},\"purchaser_type_name\":{\"0\":\"Freddie Mac (FHLMC)\"},\"property_type_name\":{\"0\":\"One-to-four family dwelling (other than manufactured housing)\"},\"preapproval_name\":{\"0\":\"Not applicable\"},\"owner_occupancy_name\":{\"0\":\"Owner-occupied as a principal dwelling\"},\"msamd_name\":{\"0\":\"Portland, Vancouver, Hillsboro - OR, WA\"},\"loan_type_name\":{\"0\":\"Conventional\"},\"loan_purpose_name\":{\"0\":\"Refinancing\"},\"lien_status_name\":{\"0\":\"Secured by a first lien\"},\"hoepa_status_name\":{\"0\":\"Not a HOEPA loan\"},\"edit_status_name\":{\"0\":null},\"denial_reason_name_3\":{\"0\":null},\"denial_reason_name_2\":{\"0\":null},\"denial_reason_name_1\":{\"0\":null},\"county_name\":{\"0\":\"Clark County\"},\"co_applicant_sex_name\":{\"0\":\"Male\"},\"co_applicant_race_name_5\":{\"0\":null},\"co_applicant_race_name_4\":{\"0\":null},\"co_applicant_race_name_3\":{\"0\":null},\"co_applicant_race_name_2\":{\"0\":null},\"co_applicant_race_name_1\":{\"0\":\"Information not provided by applicant in mail, Internet, or telephone application\"},\"co_applicant_ethnicity_name\":{\"0\":\"Not Hispanic or Latino\"},\"census_tract_number\":{\"0\":413.27},\"as_of_year\":{\"0\":2016},\"application_date_indicator\":{\"0\":0},\"applicant_sex_name\":{\"0\":\"Female\"},\"applicant_race_name_5\":{\"0\":null},\"applicant_race_name_4\":{\"0\":null},\"applicant_race_name_3\":{\"0\":null},\"applicant_race_name_2\":{\"0\":null},\"applicant_race_name_1\":{\"0\":\"Information not provided by applicant in mail, Internet, or telephone application\"},\"applicant_ethnicity_name\":{\"0\":\"Not Hispanic or Latino\"},\"agency_name\":{\"0\":\"Consumer Financial Protection Bureau\"},\"agency_abbr\":{\"0\":\"CFPB\"},\"action_taken_name\":{\"0\":\"Loan originated\"}}'"
     },
     "metadata": {}
    }
   ],
   "execution_count": 4
  },
  {
   "cell_type": "code",
   "source": "data.iloc[300000:300001]",
   "metadata": {
    "cell_id": "a536f9973a7a468abbcc4eeed8feb61f",
    "tags": [],
    "deepnote_to_be_reexecuted": false,
    "source_hash": "4ca47298",
    "execution_start": 1664713531033,
    "execution_millis": 968,
    "deepnote_cell_type": "code",
    "deepnote_cell_height": 226
   },
   "outputs": [
    {
     "output_type": "execute_result",
     "execution_count": 5,
     "data": {
      "application/vnd.deepnote.dataframe.v3+json": {
       "column_count": 47,
       "row_count": 1,
       "columns": [
        {
         "name": "tract_to_msamd_income",
         "dtype": "float64",
         "stats": {
          "unique_count": 1,
          "nan_count": 0,
          "min": "187.9799957",
          "max": "187.9799957",
          "histogram": [
           {
            "bin_start": 187.4799957,
            "bin_end": 187.57999569999998,
            "count": 0
           },
           {
            "bin_start": 187.57999569999998,
            "bin_end": 187.67999569999998,
            "count": 0
           },
           {
            "bin_start": 187.67999569999998,
            "bin_end": 187.7799957,
            "count": 0
           },
           {
            "bin_start": 187.7799957,
            "bin_end": 187.8799957,
            "count": 0
           },
           {
            "bin_start": 187.8799957,
            "bin_end": 187.9799957,
            "count": 0
           },
           {
            "bin_start": 187.9799957,
            "bin_end": 188.07999569999998,
            "count": 1
           },
           {
            "bin_start": 188.07999569999998,
            "bin_end": 188.17999569999998,
            "count": 0
           },
           {
            "bin_start": 188.17999569999998,
            "bin_end": 188.2799957,
            "count": 0
           },
           {
            "bin_start": 188.2799957,
            "bin_end": 188.3799957,
            "count": 0
           },
           {
            "bin_start": 188.3799957,
            "bin_end": 188.4799957,
            "count": 0
           }
          ]
         }
        },
        {
         "name": "rate_spread",
         "dtype": "float64",
         "stats": {
          "unique_count": 0,
          "nan_count": 1,
          "min": null,
          "max": null,
          "histogram": [
           {
            "bin_start": 0,
            "bin_end": 0.1,
            "count": 0
           },
           {
            "bin_start": 0.1,
            "bin_end": 0.2,
            "count": 0
           },
           {
            "bin_start": 0.2,
            "bin_end": 0.30000000000000004,
            "count": 0
           },
           {
            "bin_start": 0.30000000000000004,
            "bin_end": 0.4,
            "count": 0
           },
           {
            "bin_start": 0.4,
            "bin_end": 0.5,
            "count": 0
           },
           {
            "bin_start": 0.5,
            "bin_end": 0.6000000000000001,
            "count": 0
           },
           {
            "bin_start": 0.6000000000000001,
            "bin_end": 0.7000000000000001,
            "count": 0
           },
           {
            "bin_start": 0.7000000000000001,
            "bin_end": 0.8,
            "count": 0
           },
           {
            "bin_start": 0.8,
            "bin_end": 0.9,
            "count": 0
           },
           {
            "bin_start": 0.9,
            "bin_end": 1,
            "count": 0
           }
          ]
         }
        },
        {
         "name": "population",
         "dtype": "float64",
         "stats": {
          "unique_count": 1,
          "nan_count": 0,
          "min": "5495.0",
          "max": "5495.0",
          "histogram": [
           {
            "bin_start": 5494.5,
            "bin_end": 5494.6,
            "count": 0
           },
           {
            "bin_start": 5494.6,
            "bin_end": 5494.7,
            "count": 0
           },
           {
            "bin_start": 5494.7,
            "bin_end": 5494.8,
            "count": 0
           },
           {
            "bin_start": 5494.8,
            "bin_end": 5494.9,
            "count": 0
           },
           {
            "bin_start": 5494.9,
            "bin_end": 5495,
            "count": 0
           },
           {
            "bin_start": 5495,
            "bin_end": 5495.1,
            "count": 1
           },
           {
            "bin_start": 5495.1,
            "bin_end": 5495.2,
            "count": 0
           },
           {
            "bin_start": 5495.2,
            "bin_end": 5495.3,
            "count": 0
           },
           {
            "bin_start": 5495.3,
            "bin_end": 5495.4,
            "count": 0
           },
           {
            "bin_start": 5495.4,
            "bin_end": 5495.5,
            "count": 0
           }
          ]
         }
        },
        {
         "name": "minority_population",
         "dtype": "float64",
         "stats": {
          "unique_count": 1,
          "nan_count": 0,
          "min": "26.14999962",
          "max": "26.14999962",
          "histogram": [
           {
            "bin_start": 25.64999962,
            "bin_end": 25.74999962,
            "count": 0
           },
           {
            "bin_start": 25.74999962,
            "bin_end": 25.84999962,
            "count": 0
           },
           {
            "bin_start": 25.84999962,
            "bin_end": 25.94999962,
            "count": 0
           },
           {
            "bin_start": 25.94999962,
            "bin_end": 26.049999619999998,
            "count": 0
           },
           {
            "bin_start": 26.049999619999998,
            "bin_end": 26.14999962,
            "count": 0
           },
           {
            "bin_start": 26.14999962,
            "bin_end": 26.24999962,
            "count": 1
           },
           {
            "bin_start": 26.24999962,
            "bin_end": 26.34999962,
            "count": 0
           },
           {
            "bin_start": 26.34999962,
            "bin_end": 26.44999962,
            "count": 0
           },
           {
            "bin_start": 26.44999962,
            "bin_end": 26.549999619999998,
            "count": 0
           },
           {
            "bin_start": 26.549999619999998,
            "bin_end": 26.64999962,
            "count": 0
           }
          ]
         }
        },
        {
         "name": "number_of_owner_occupied_units",
         "dtype": "float64",
         "stats": {
          "unique_count": 1,
          "nan_count": 0,
          "min": "1550.0",
          "max": "1550.0",
          "histogram": [
           {
            "bin_start": 1549.5,
            "bin_end": 1549.6,
            "count": 0
           },
           {
            "bin_start": 1549.6,
            "bin_end": 1549.7,
            "count": 0
           },
           {
            "bin_start": 1549.7,
            "bin_end": 1549.8,
            "count": 0
           },
           {
            "bin_start": 1549.8,
            "bin_end": 1549.9,
            "count": 0
           },
           {
            "bin_start": 1549.9,
            "bin_end": 1550,
            "count": 0
           },
           {
            "bin_start": 1550,
            "bin_end": 1550.1,
            "count": 1
           },
           {
            "bin_start": 1550.1,
            "bin_end": 1550.2,
            "count": 0
           },
           {
            "bin_start": 1550.2,
            "bin_end": 1550.3,
            "count": 0
           },
           {
            "bin_start": 1550.3,
            "bin_end": 1550.4,
            "count": 0
           },
           {
            "bin_start": 1550.4,
            "bin_end": 1550.5,
            "count": 0
           }
          ]
         }
        },
        {
         "name": "number_of_1_to_4_family_units",
         "dtype": "float64",
         "stats": {
          "unique_count": 1,
          "nan_count": 0,
          "min": "1787.0",
          "max": "1787.0",
          "histogram": [
           {
            "bin_start": 1786.5,
            "bin_end": 1786.6,
            "count": 0
           },
           {
            "bin_start": 1786.6,
            "bin_end": 1786.7,
            "count": 0
           },
           {
            "bin_start": 1786.7,
            "bin_end": 1786.8,
            "count": 0
           },
           {
            "bin_start": 1786.8,
            "bin_end": 1786.9,
            "count": 0
           },
           {
            "bin_start": 1786.9,
            "bin_end": 1787,
            "count": 0
           },
           {
            "bin_start": 1787,
            "bin_end": 1787.1,
            "count": 1
           },
           {
            "bin_start": 1787.1,
            "bin_end": 1787.2,
            "count": 0
           },
           {
            "bin_start": 1787.2,
            "bin_end": 1787.3,
            "count": 0
           },
           {
            "bin_start": 1787.3,
            "bin_end": 1787.4,
            "count": 0
           },
           {
            "bin_start": 1787.4,
            "bin_end": 1787.5,
            "count": 0
           }
          ]
         }
        },
        {
         "name": "loan_amount_000s",
         "dtype": "int64",
         "stats": {
          "unique_count": 1,
          "nan_count": 0,
          "min": "518",
          "max": "518",
          "histogram": [
           {
            "bin_start": 517.5,
            "bin_end": 517.6,
            "count": 0
           },
           {
            "bin_start": 517.6,
            "bin_end": 517.7,
            "count": 0
           },
           {
            "bin_start": 517.7,
            "bin_end": 517.8,
            "count": 0
           },
           {
            "bin_start": 517.8,
            "bin_end": 517.9,
            "count": 0
           },
           {
            "bin_start": 517.9,
            "bin_end": 518,
            "count": 0
           },
           {
            "bin_start": 518,
            "bin_end": 518.1,
            "count": 1
           },
           {
            "bin_start": 518.1,
            "bin_end": 518.2,
            "count": 0
           },
           {
            "bin_start": 518.2,
            "bin_end": 518.3,
            "count": 0
           },
           {
            "bin_start": 518.3,
            "bin_end": 518.4,
            "count": 0
           },
           {
            "bin_start": 518.4,
            "bin_end": 518.5,
            "count": 0
           }
          ]
         }
        },
        {
         "name": "hud_median_family_income",
         "dtype": "float64",
         "stats": {
          "unique_count": 1,
          "nan_count": 0,
          "min": "90300.0",
          "max": "90300.0",
          "histogram": [
           {
            "bin_start": 90299.5,
            "bin_end": 90299.6,
            "count": 0
           },
           {
            "bin_start": 90299.6,
            "bin_end": 90299.7,
            "count": 0
           },
           {
            "bin_start": 90299.7,
            "bin_end": 90299.8,
            "count": 0
           },
           {
            "bin_start": 90299.8,
            "bin_end": 90299.9,
            "count": 0
           },
           {
            "bin_start": 90299.9,
            "bin_end": 90300,
            "count": 0
           },
           {
            "bin_start": 90300,
            "bin_end": 90300.1,
            "count": 1
           },
           {
            "bin_start": 90300.1,
            "bin_end": 90300.2,
            "count": 0
           },
           {
            "bin_start": 90300.2,
            "bin_end": 90300.3,
            "count": 0
           },
           {
            "bin_start": 90300.3,
            "bin_end": 90300.4,
            "count": 0
           },
           {
            "bin_start": 90300.4,
            "bin_end": 90300.5,
            "count": 0
           }
          ]
         }
        },
        {
         "name": "applicant_income_000s",
         "dtype": "float64",
         "stats": {
          "unique_count": 1,
          "nan_count": 0,
          "min": "113.0",
          "max": "113.0",
          "histogram": [
           {
            "bin_start": 112.5,
            "bin_end": 112.6,
            "count": 0
           },
           {
            "bin_start": 112.6,
            "bin_end": 112.7,
            "count": 0
           },
           {
            "bin_start": 112.7,
            "bin_end": 112.8,
            "count": 0
           },
           {
            "bin_start": 112.8,
            "bin_end": 112.9,
            "count": 0
           },
           {
            "bin_start": 112.9,
            "bin_end": 113,
            "count": 0
           },
           {
            "bin_start": 113,
            "bin_end": 113.1,
            "count": 1
           },
           {
            "bin_start": 113.1,
            "bin_end": 113.2,
            "count": 0
           },
           {
            "bin_start": 113.2,
            "bin_end": 113.3,
            "count": 0
           },
           {
            "bin_start": 113.3,
            "bin_end": 113.4,
            "count": 0
           },
           {
            "bin_start": 113.4,
            "bin_end": 113.5,
            "count": 0
           }
          ]
         }
        },
        {
         "name": "state_name",
         "dtype": "object",
         "stats": {
          "unique_count": 1,
          "nan_count": 0,
          "categories": [
           {
            "name": "Washington",
            "count": 1
           }
          ]
         }
        },
        {
         "name": "state_abbr",
         "dtype": "object",
         "stats": {
          "unique_count": 1,
          "nan_count": 0,
          "categories": [
           {
            "name": "WA",
            "count": 1
           }
          ]
         }
        },
        {
         "name": "sequence_number",
         "dtype": "int64",
         "stats": {
          "unique_count": 1,
          "nan_count": 0,
          "min": "73508",
          "max": "73508",
          "histogram": [
           {
            "bin_start": 73507.5,
            "bin_end": 73507.6,
            "count": 0
           },
           {
            "bin_start": 73507.6,
            "bin_end": 73507.7,
            "count": 0
           },
           {
            "bin_start": 73507.7,
            "bin_end": 73507.8,
            "count": 0
           },
           {
            "bin_start": 73507.8,
            "bin_end": 73507.9,
            "count": 0
           },
           {
            "bin_start": 73507.9,
            "bin_end": 73508,
            "count": 0
           },
           {
            "bin_start": 73508,
            "bin_end": 73508.1,
            "count": 1
           },
           {
            "bin_start": 73508.1,
            "bin_end": 73508.2,
            "count": 0
           },
           {
            "bin_start": 73508.2,
            "bin_end": 73508.3,
            "count": 0
           },
           {
            "bin_start": 73508.3,
            "bin_end": 73508.4,
            "count": 0
           },
           {
            "bin_start": 73508.4,
            "bin_end": 73508.5,
            "count": 0
           }
          ]
         }
        },
        {
         "name": "respondent_id",
         "dtype": "object",
         "stats": {
          "unique_count": 1,
          "nan_count": 0,
          "categories": [
           {
            "name": "23-2769131",
            "count": 1
           }
          ]
         }
        },
        {
         "name": "purchaser_type_name",
         "dtype": "object",
         "stats": {
          "unique_count": 1,
          "nan_count": 0,
          "categories": [
           {
            "name": "Loan was not originated or was not sold in calendar year covered by register",
            "count": 1
           }
          ]
         }
        },
        {
         "name": "property_type_name",
         "dtype": "object",
         "stats": {
          "unique_count": 1,
          "nan_count": 0,
          "categories": [
           {
            "name": "One-to-four family dwelling (other than manufactured housing)",
            "count": 1
           }
          ]
         }
        },
        {
         "name": "preapproval_name",
         "dtype": "object",
         "stats": {
          "unique_count": 1,
          "nan_count": 0,
          "categories": [
           {
            "name": "Not applicable",
            "count": 1
           }
          ]
         }
        },
        {
         "name": "owner_occupancy_name",
         "dtype": "object",
         "stats": {
          "unique_count": 1,
          "nan_count": 0,
          "categories": [
           {
            "name": "Owner-occupied as a principal dwelling",
            "count": 1
           }
          ]
         }
        },
        {
         "name": "msamd_name",
         "dtype": "object",
         "stats": {
          "unique_count": 1,
          "nan_count": 0,
          "categories": [
           {
            "name": "Seattle, Bellevue, Everett - WA",
            "count": 1
           }
          ]
         }
        },
        {
         "name": "loan_type_name",
         "dtype": "object",
         "stats": {
          "unique_count": 1,
          "nan_count": 0,
          "categories": [
           {
            "name": "FHA-insured",
            "count": 1
           }
          ]
         }
        },
        {
         "name": "loan_purpose_name",
         "dtype": "object",
         "stats": {
          "unique_count": 1,
          "nan_count": 0,
          "categories": [
           {
            "name": "Refinancing",
            "count": 1
           }
          ]
         }
        },
        {
         "name": "lien_status_name",
         "dtype": "object",
         "stats": {
          "unique_count": 1,
          "nan_count": 0,
          "categories": [
           {
            "name": "Secured by a first lien",
            "count": 1
           }
          ]
         }
        },
        {
         "name": "hoepa_status_name",
         "dtype": "object",
         "stats": {
          "unique_count": 1,
          "nan_count": 0,
          "categories": [
           {
            "name": "Not a HOEPA loan",
            "count": 1
           }
          ]
         }
        },
        {
         "name": "edit_status_name",
         "dtype": "object",
         "stats": {
          "unique_count": 0,
          "nan_count": 1,
          "categories": [
           {
            "name": "Missing",
            "count": 1
           }
          ]
         }
        },
        {
         "name": "denial_reason_name_3",
         "dtype": "object",
         "stats": {
          "unique_count": 0,
          "nan_count": 1,
          "categories": [
           {
            "name": "Missing",
            "count": 1
           }
          ]
         }
        },
        {
         "name": "denial_reason_name_2",
         "dtype": "object",
         "stats": {
          "unique_count": 0,
          "nan_count": 1,
          "categories": [
           {
            "name": "Missing",
            "count": 1
           }
          ]
         }
        },
        {
         "name": "denial_reason_name_1",
         "dtype": "object",
         "stats": {
          "unique_count": 1,
          "nan_count": 0,
          "categories": [
           {
            "name": "Other",
            "count": 1
           }
          ]
         }
        },
        {
         "name": "county_name",
         "dtype": "object",
         "stats": {
          "unique_count": 1,
          "nan_count": 0,
          "categories": [
           {
            "name": "King County",
            "count": 1
           }
          ]
         }
        },
        {
         "name": "co_applicant_sex_name",
         "dtype": "object",
         "stats": {
          "unique_count": 1,
          "nan_count": 0,
          "categories": [
           {
            "name": "Female",
            "count": 1
           }
          ]
         }
        },
        {
         "name": "co_applicant_race_name_5",
         "dtype": "object",
         "stats": {
          "unique_count": 0,
          "nan_count": 1,
          "categories": [
           {
            "name": "Missing",
            "count": 1
           }
          ]
         }
        },
        {
         "name": "co_applicant_race_name_4",
         "dtype": "object",
         "stats": {
          "unique_count": 0,
          "nan_count": 1,
          "categories": [
           {
            "name": "Missing",
            "count": 1
           }
          ]
         }
        },
        {
         "name": "co_applicant_race_name_3",
         "dtype": "object",
         "stats": {
          "unique_count": 0,
          "nan_count": 1,
          "categories": [
           {
            "name": "Missing",
            "count": 1
           }
          ]
         }
        },
        {
         "name": "co_applicant_race_name_2",
         "dtype": "object",
         "stats": {
          "unique_count": 0,
          "nan_count": 1,
          "categories": [
           {
            "name": "Missing",
            "count": 1
           }
          ]
         }
        },
        {
         "name": "co_applicant_race_name_1",
         "dtype": "object",
         "stats": {
          "unique_count": 1,
          "nan_count": 0,
          "categories": [
           {
            "name": "White",
            "count": 1
           }
          ]
         }
        },
        {
         "name": "co_applicant_ethnicity_name",
         "dtype": "object",
         "stats": {
          "unique_count": 1,
          "nan_count": 0,
          "categories": [
           {
            "name": "Not Hispanic or Latino",
            "count": 1
           }
          ]
         }
        },
        {
         "name": "census_tract_number",
         "dtype": "float64",
         "stats": {
          "unique_count": 1,
          "nan_count": 0,
          "min": "323.16",
          "max": "323.16",
          "histogram": [
           {
            "bin_start": 322.66,
            "bin_end": 322.76000000000005,
            "count": 0
           },
           {
            "bin_start": 322.76000000000005,
            "bin_end": 322.86,
            "count": 0
           },
           {
            "bin_start": 322.86,
            "bin_end": 322.96000000000004,
            "count": 0
           },
           {
            "bin_start": 322.96000000000004,
            "bin_end": 323.06,
            "count": 0
           },
           {
            "bin_start": 323.06,
            "bin_end": 323.16,
            "count": 0
           },
           {
            "bin_start": 323.16,
            "bin_end": 323.26000000000005,
            "count": 1
           },
           {
            "bin_start": 323.26000000000005,
            "bin_end": 323.36,
            "count": 0
           },
           {
            "bin_start": 323.36,
            "bin_end": 323.46000000000004,
            "count": 0
           },
           {
            "bin_start": 323.46000000000004,
            "bin_end": 323.56,
            "count": 0
           },
           {
            "bin_start": 323.56,
            "bin_end": 323.66,
            "count": 0
           }
          ]
         }
        },
        {
         "name": "as_of_year",
         "dtype": "int64",
         "stats": {
          "unique_count": 1,
          "nan_count": 0,
          "min": "2016",
          "max": "2016",
          "histogram": [
           {
            "bin_start": 2015.5,
            "bin_end": 2015.6,
            "count": 0
           },
           {
            "bin_start": 2015.6,
            "bin_end": 2015.7,
            "count": 0
           },
           {
            "bin_start": 2015.7,
            "bin_end": 2015.8,
            "count": 0
           },
           {
            "bin_start": 2015.8,
            "bin_end": 2015.9,
            "count": 0
           },
           {
            "bin_start": 2015.9,
            "bin_end": 2016,
            "count": 0
           },
           {
            "bin_start": 2016,
            "bin_end": 2016.1,
            "count": 1
           },
           {
            "bin_start": 2016.1,
            "bin_end": 2016.2,
            "count": 0
           },
           {
            "bin_start": 2016.2,
            "bin_end": 2016.3,
            "count": 0
           },
           {
            "bin_start": 2016.3,
            "bin_end": 2016.4,
            "count": 0
           },
           {
            "bin_start": 2016.4,
            "bin_end": 2016.5,
            "count": 0
           }
          ]
         }
        },
        {
         "name": "application_date_indicator",
         "dtype": "int64",
         "stats": {
          "unique_count": 1,
          "nan_count": 0,
          "min": "0",
          "max": "0",
          "histogram": [
           {
            "bin_start": -0.5,
            "bin_end": -0.4,
            "count": 0
           },
           {
            "bin_start": -0.4,
            "bin_end": -0.3,
            "count": 0
           },
           {
            "bin_start": -0.3,
            "bin_end": -0.19999999999999996,
            "count": 0
           },
           {
            "bin_start": -0.19999999999999996,
            "bin_end": -0.09999999999999998,
            "count": 0
           },
           {
            "bin_start": -0.09999999999999998,
            "bin_end": 0,
            "count": 0
           },
           {
            "bin_start": 0,
            "bin_end": 0.10000000000000009,
            "count": 1
           },
           {
            "bin_start": 0.10000000000000009,
            "bin_end": 0.20000000000000007,
            "count": 0
           },
           {
            "bin_start": 0.20000000000000007,
            "bin_end": 0.30000000000000004,
            "count": 0
           },
           {
            "bin_start": 0.30000000000000004,
            "bin_end": 0.4,
            "count": 0
           },
           {
            "bin_start": 0.4,
            "bin_end": 0.5,
            "count": 0
           }
          ]
         }
        },
        {
         "name": "applicant_sex_name",
         "dtype": "object",
         "stats": {
          "unique_count": 1,
          "nan_count": 0,
          "categories": [
           {
            "name": "Male",
            "count": 1
           }
          ]
         }
        },
        {
         "name": "applicant_race_name_5",
         "dtype": "object",
         "stats": {
          "unique_count": 0,
          "nan_count": 1,
          "categories": [
           {
            "name": "Missing",
            "count": 1
           }
          ]
         }
        },
        {
         "name": "applicant_race_name_4",
         "dtype": "object",
         "stats": {
          "unique_count": 0,
          "nan_count": 1,
          "categories": [
           {
            "name": "Missing",
            "count": 1
           }
          ]
         }
        },
        {
         "name": "applicant_race_name_3",
         "dtype": "object",
         "stats": {
          "unique_count": 0,
          "nan_count": 1,
          "categories": [
           {
            "name": "Missing",
            "count": 1
           }
          ]
         }
        },
        {
         "name": "applicant_race_name_2",
         "dtype": "object",
         "stats": {
          "unique_count": 0,
          "nan_count": 1,
          "categories": [
           {
            "name": "Missing",
            "count": 1
           }
          ]
         }
        },
        {
         "name": "applicant_race_name_1",
         "dtype": "object",
         "stats": {
          "unique_count": 1,
          "nan_count": 0,
          "categories": [
           {
            "name": "White",
            "count": 1
           }
          ]
         }
        },
        {
         "name": "applicant_ethnicity_name",
         "dtype": "object",
         "stats": {
          "unique_count": 1,
          "nan_count": 0,
          "categories": [
           {
            "name": "Not Hispanic or Latino",
            "count": 1
           }
          ]
         }
        },
        {
         "name": "agency_name",
         "dtype": "object",
         "stats": {
          "unique_count": 1,
          "nan_count": 0,
          "categories": [
           {
            "name": "Department of Housing and Urban Development",
            "count": 1
           }
          ]
         }
        },
        {
         "name": "agency_abbr",
         "dtype": "object",
         "stats": {
          "unique_count": 1,
          "nan_count": 0,
          "categories": [
           {
            "name": "HUD",
            "count": 1
           }
          ]
         }
        },
        {
         "name": "action_taken_name",
         "dtype": "object",
         "stats": {
          "unique_count": 1,
          "nan_count": 0,
          "categories": [
           {
            "name": "Application denied by financial institution",
            "count": 1
           }
          ]
         }
        },
        {
         "name": "_deepnote_index_column",
         "dtype": "int64"
        }
       ],
       "rows": [
        {
         "tract_to_msamd_income": "187.9799957",
         "rate_spread": "nan",
         "population": "5495.0",
         "minority_population": "26.14999962",
         "number_of_owner_occupied_units": "1550.0",
         "number_of_1_to_4_family_units": "1787.0",
         "loan_amount_000s": "518",
         "hud_median_family_income": "90300.0",
         "applicant_income_000s": "113.0",
         "state_name": "Washington",
         "state_abbr": "WA",
         "sequence_number": "73508",
         "respondent_id": "23-2769131",
         "purchaser_type_name": "Loan was not originated or was not sold in calendar year covered by register",
         "property_type_name": "One-to-four family dwelling (other than manufactured housing)",
         "preapproval_name": "Not applicable",
         "owner_occupancy_name": "Owner-occupied as a principal dwelling",
         "msamd_name": "Seattle, Bellevue, Everett - WA",
         "loan_type_name": "FHA-insured",
         "loan_purpose_name": "Refinancing",
         "lien_status_name": "Secured by a first lien",
         "hoepa_status_name": "Not a HOEPA loan",
         "edit_status_name": "nan",
         "denial_reason_name_3": "nan",
         "denial_reason_name_2": "nan",
         "denial_reason_name_1": "Other",
         "county_name": "King County",
         "co_applicant_sex_name": "Female",
         "co_applicant_race_name_5": "nan",
         "co_applicant_race_name_4": "nan",
         "co_applicant_race_name_3": "nan",
         "co_applicant_race_name_2": "nan",
         "co_applicant_race_name_1": "White",
         "co_applicant_ethnicity_name": "Not Hispanic or Latino",
         "census_tract_number": "323.16",
         "as_of_year": "2016",
         "application_date_indicator": "0",
         "applicant_sex_name": "Male",
         "applicant_race_name_5": "nan",
         "applicant_race_name_4": "nan",
         "applicant_race_name_3": "nan",
         "applicant_race_name_2": "nan",
         "applicant_race_name_1": "White",
         "applicant_ethnicity_name": "Not Hispanic or Latino",
         "agency_name": "Department of Housing and Urban Development",
         "agency_abbr": "HUD",
         "action_taken_name": "Application denied by financial institution",
         "_deepnote_index_column": "300000"
        }
       ]
      },
      "text/plain": "        tract_to_msamd_income  rate_spread  population  minority_population  \\\n300000             187.979996          NaN      5495.0                26.15   \n\n        number_of_owner_occupied_units  number_of_1_to_4_family_units  \\\n300000                          1550.0                         1787.0   \n\n        loan_amount_000s  hud_median_family_income  applicant_income_000s  \\\n300000               518                   90300.0                  113.0   \n\n        state_name  ... applicant_sex_name  applicant_race_name_5  \\\n300000  Washington  ...               Male                    NaN   \n\n       applicant_race_name_4 applicant_race_name_3 applicant_race_name_2  \\\n300000                   NaN                   NaN                   NaN   \n\n       applicant_race_name_1 applicant_ethnicity_name  \\\n300000                 White   Not Hispanic or Latino   \n\n                                        agency_name agency_abbr  \\\n300000  Department of Housing and Urban Development         HUD   \n\n                                  action_taken_name  \n300000  Application denied by financial institution  \n\n[1 rows x 47 columns]",
      "text/html": "<div>\n<style scoped>\n    .dataframe tbody tr th:only-of-type {\n        vertical-align: middle;\n    }\n\n    .dataframe tbody tr th {\n        vertical-align: top;\n    }\n\n    .dataframe thead th {\n        text-align: right;\n    }\n</style>\n<table border=\"1\" class=\"dataframe\">\n  <thead>\n    <tr style=\"text-align: right;\">\n      <th></th>\n      <th>tract_to_msamd_income</th>\n      <th>rate_spread</th>\n      <th>population</th>\n      <th>minority_population</th>\n      <th>number_of_owner_occupied_units</th>\n      <th>number_of_1_to_4_family_units</th>\n      <th>loan_amount_000s</th>\n      <th>hud_median_family_income</th>\n      <th>applicant_income_000s</th>\n      <th>state_name</th>\n      <th>...</th>\n      <th>applicant_sex_name</th>\n      <th>applicant_race_name_5</th>\n      <th>applicant_race_name_4</th>\n      <th>applicant_race_name_3</th>\n      <th>applicant_race_name_2</th>\n      <th>applicant_race_name_1</th>\n      <th>applicant_ethnicity_name</th>\n      <th>agency_name</th>\n      <th>agency_abbr</th>\n      <th>action_taken_name</th>\n    </tr>\n  </thead>\n  <tbody>\n    <tr>\n      <th>300000</th>\n      <td>187.979996</td>\n      <td>NaN</td>\n      <td>5495.0</td>\n      <td>26.15</td>\n      <td>1550.0</td>\n      <td>1787.0</td>\n      <td>518</td>\n      <td>90300.0</td>\n      <td>113.0</td>\n      <td>Washington</td>\n      <td>...</td>\n      <td>Male</td>\n      <td>NaN</td>\n      <td>NaN</td>\n      <td>NaN</td>\n      <td>NaN</td>\n      <td>White</td>\n      <td>Not Hispanic or Latino</td>\n      <td>Department of Housing and Urban Development</td>\n      <td>HUD</td>\n      <td>Application denied by financial institution</td>\n    </tr>\n  </tbody>\n</table>\n<p>1 rows × 47 columns</p>\n</div>"
     },
     "metadata": {}
    }
   ],
   "execution_count": 5
  },
  {
   "cell_type": "markdown",
   "source": "### target variables\n - action_taken_name\n - denial_reason_name_1\n - denial_reason_name_2\n - denial_reason_name_3\n\n\n### variables we maybe need to leave out:\n - sequence_number\n - respondent_id\n - purchaser_type_name # will be fix for excelsis so leave this out.",
   "metadata": {
    "cell_id": "1e21f9f8a2d343c0b63aa77e897ab9df",
    "tags": [],
    "deepnote_cell_type": "markdown",
    "deepnote_cell_height": 329
   }
  },
  {
   "cell_type": "code",
   "metadata": {
    "tags": [],
    "cell_id": "1011a4ab-b803-4aeb-9b8a-6c4d278441e7",
    "deepnote_to_be_reexecuted": false,
    "source_hash": "c8a8c27a",
    "execution_start": 1664713531035,
    "execution_millis": 966,
    "deepnote_cell_type": "code",
    "deepnote_cell_height": 454,
    "deepnote_output_heights": [
     362
    ]
   },
   "source": "data.columns",
   "execution_count": 6,
   "outputs": [
    {
     "output_type": "execute_result",
     "execution_count": 6,
     "data": {
      "text/plain": "Index(['tract_to_msamd_income', 'rate_spread', 'population',\n       'minority_population', 'number_of_owner_occupied_units',\n       'number_of_1_to_4_family_units', 'loan_amount_000s',\n       'hud_median_family_income', 'applicant_income_000s', 'state_name',\n       'state_abbr', 'sequence_number', 'respondent_id', 'purchaser_type_name',\n       'property_type_name', 'preapproval_name', 'owner_occupancy_name',\n       'msamd_name', 'loan_type_name', 'loan_purpose_name', 'lien_status_name',\n       'hoepa_status_name', 'edit_status_name', 'denial_reason_name_3',\n       'denial_reason_name_2', 'denial_reason_name_1', 'county_name',\n       'co_applicant_sex_name', 'co_applicant_race_name_5',\n       'co_applicant_race_name_4', 'co_applicant_race_name_3',\n       'co_applicant_race_name_2', 'co_applicant_race_name_1',\n       'co_applicant_ethnicity_name', 'census_tract_number', 'as_of_year',\n       'application_date_indicator', 'applicant_sex_name',\n       'applicant_race_name_5', 'applicant_race_name_4',\n       'applicant_race_name_3', 'applicant_race_name_2',\n       'applicant_race_name_1', 'applicant_ethnicity_name', 'agency_name',\n       'agency_abbr', 'action_taken_name'],\n      dtype='object')"
     },
     "metadata": {}
    }
   ]
  },
  {
   "cell_type": "code",
   "metadata": {
    "cell_id": "6a2f96033c0d4527a27390ed58389471",
    "tags": [],
    "deepnote_to_be_reexecuted": false,
    "source_hash": "72b2a8d0",
    "execution_start": 1664713531036,
    "execution_millis": 965,
    "deepnote_cell_type": "code",
    "deepnote_cell_height": 283,
    "deepnote_output_heights": [
     191
    ]
   },
   "source": "data[~data['denial_reason_name_1'].isnull()]['denial_reason_name_1'].value_counts()",
   "execution_count": 7,
   "outputs": [
    {
     "output_type": "execute_result",
     "execution_count": 7,
     "data": {
      "text/plain": "Debt-to-income ratio                              8648\nCredit history                                    7671\nCollateral                                        5748\nCredit application incomplete                     5433\nOther                                             4058\nUnverifiable information                          1353\nInsufficient cash (downpayment, closing costs)    1036\nEmployment history                                 535\nMortgage insurance denied                           17\nName: denial_reason_name_1, dtype: int64"
     },
     "metadata": {}
    }
   ]
  },
  {
   "cell_type": "code",
   "metadata": {
    "cell_id": "28ba43ca69cc46e09b066a7dc178c6a4",
    "tags": [],
    "deepnote_to_be_reexecuted": false,
    "source_hash": "69e60733",
    "execution_start": 1664713531036,
    "execution_millis": 965,
    "deepnote_cell_type": "code",
    "deepnote_cell_height": 264,
    "deepnote_output_heights": [
     172
    ]
   },
   "source": "data['action_taken_name'].value_counts()",
   "execution_count": 8,
   "outputs": [
    {
     "output_type": "execute_result",
     "execution_count": 8,
     "data": {
      "text/plain": "Loan originated                                        263712\nApplication denied by financial institution             64177\nApplication withdrawn by applicant                      60358\nLoan purchased by the institution                       48356\nFile closed for incompleteness                          18176\nApplication approved but not accepted                   11735\nPreapproval request denied by financial institution        35\nPreapproval request approved but not accepted              17\nName: action_taken_name, dtype: int64"
     },
     "metadata": {}
    }
   ]
  },
  {
   "cell_type": "code",
   "metadata": {
    "cell_id": "70ac835582b942a887460614710f6dd6",
    "tags": [],
    "deepnote_to_be_reexecuted": false,
    "source_hash": "34dd219d",
    "execution_start": 1664713531037,
    "execution_millis": 964,
    "deepnote_cell_type": "code",
    "deepnote_cell_height": 169,
    "deepnote_output_heights": [
     77
    ]
   },
   "source": "data['preapproval_name'].value_counts()",
   "execution_count": 9,
   "outputs": [
    {
     "output_type": "execute_result",
     "execution_count": 9,
     "data": {
      "text/plain": "Not applicable                   397521\nPreapproval was not requested     57700\nPreapproval was requested         11345\nName: preapproval_name, dtype: int64"
     },
     "metadata": {}
    }
   ]
  },
  {
   "cell_type": "code",
   "metadata": {
    "cell_id": "116139d377874ae592128db6aed09e24",
    "tags": [],
    "deepnote_to_be_reexecuted": false,
    "source_hash": "6a6ee465",
    "execution_start": 1664713531037,
    "execution_millis": 964,
    "deepnote_cell_type": "code",
    "deepnote_cell_height": 245,
    "deepnote_output_heights": [
     153
    ]
   },
   "source": "data[data['preapproval_name'] == 'Preapproval was requested']['action_taken_name'].value_counts()",
   "execution_count": 10,
   "outputs": [
    {
     "output_type": "execute_result",
     "execution_count": 10,
     "data": {
      "text/plain": "Loan originated                                        8962\nApplication withdrawn by applicant                     1014\nApplication approved but not accepted                   626\nApplication denied by financial institution             591\nFile closed for incompleteness                          100\nPreapproval request denied by financial institution      35\nPreapproval request approved but not accepted            17\nName: action_taken_name, dtype: int64"
     },
     "metadata": {}
    }
   ]
  },
  {
   "cell_type": "markdown",
   "source": "### Remove the following data points\nWhere action_taken_name is one of the following value:\n - Application withdrawn by applicant\n - Application approved but not accepted\n - Preapproval request denied by financial institution\n - Preapproval request approved but not accepted",
   "metadata": {
    "cell_id": "2b11fb642bd44625a1f552307f1f05d2",
    "tags": [],
    "deepnote_cell_type": "markdown",
    "deepnote_cell_height": 225
   }
  },
  {
   "cell_type": "code",
   "metadata": {
    "cell_id": "0309a126aeaa4fc987ae4d52123231d4",
    "tags": [],
    "deepnote_to_be_reexecuted": false,
    "source_hash": "61094dfa",
    "execution_start": 1664713531038,
    "execution_millis": 963,
    "deepnote_cell_type": "code",
    "deepnote_cell_height": 378,
    "deepnote_output_heights": [
     286
    ]
   },
   "source": "data['msamd_name'].value_counts()",
   "execution_count": 11,
   "outputs": [
    {
     "output_type": "execute_result",
     "execution_count": 11,
     "data": {
      "text/plain": "Seattle, Bellevue, Everett - WA            196473\nTacoma, Lakewood - WA                       61552\nPortland, Vancouver, Hillsboro - OR, WA     38729\nSpokane, Spokane Valley - WA                32050\nBremerton, Silverdale - WA                  18146\nOlympia, Tumwater - WA                      17739\nKennewick, Richland - WA                    15949\nBellingham - WA                             12629\nYakima - WA                                  9731\nMount Vernon, Anacortes - WA                 7930\nLongview - WA                                6940\nWenatchee - WA                               6242\nWalla Walla - WA                             3099\nLewiston - ID, WA                            1083\nName: msamd_name, dtype: int64"
     },
     "metadata": {}
    }
   ]
  },
  {
   "cell_type": "code",
   "metadata": {
    "cell_id": "9610d1b017b6405cbb9285b70ec2cfe5",
    "tags": [],
    "deepnote_to_be_reexecuted": false,
    "source_hash": "7bebe55c",
    "execution_start": 1664713531039,
    "execution_millis": 962,
    "deepnote_cell_type": "code",
    "deepnote_cell_height": 302,
    "deepnote_output_heights": [
     210
    ]
   },
   "source": "data['purchaser_type_name'].value_counts()",
   "execution_count": 12,
   "outputs": [
    {
     "output_type": "execute_result",
     "execution_count": 12,
     "data": {
      "text/plain": "Loan was not originated or was not sold in calendar year covered by register    220297\nFannie Mae (FNMA)                                                                75990\nGinnie Mae (GNMA)                                                                60831\nFreddie Mac (FHLMC)                                                              51808\nLife insurance company, credit union, mortgage bank, or finance company          21510\nCommercial bank, savings bank or savings association                             18283\nOther type of purchaser                                                          11921\nAffiliate institution                                                             3994\nPrivate securitization                                                            1914\nFarmer Mac (FAMC)                                                                   18\nName: purchaser_type_name, dtype: int64"
     },
     "metadata": {}
    }
   ]
  },
  {
   "cell_type": "code",
   "metadata": {
    "cell_id": "7238d97af7354ce5afb8e846c6efbf5f",
    "tags": [],
    "deepnote_to_be_reexecuted": false,
    "source_hash": "a7ef0461",
    "execution_start": 1664713531039,
    "execution_millis": 963,
    "deepnote_cell_type": "code",
    "deepnote_cell_height": 169,
    "deepnote_output_heights": [
     77
    ]
   },
   "source": "data['property_type_name'].value_counts()",
   "execution_count": 13,
   "outputs": [
    {
     "output_type": "execute_result",
     "execution_count": 13,
     "data": {
      "text/plain": "One-to-four family dwelling (other than manufactured housing)    450406\nManufactured housing                                              14504\nMultifamily dwelling                                               1656\nName: property_type_name, dtype: int64"
     },
     "metadata": {}
    }
   ]
  },
  {
   "cell_type": "code",
   "metadata": {
    "cell_id": "0c546a8cf3524782ad64bcf068c891a3",
    "tags": [],
    "deepnote_to_be_reexecuted": false,
    "source_hash": "91b8c2f7",
    "execution_start": 1664713531040,
    "execution_millis": 962,
    "deepnote_cell_type": "code",
    "deepnote_cell_height": 539
   },
   "source": "print(data['loan_type_name'].value_counts())\nprint(data['loan_purpose_name'].value_counts())\nprint(data['lien_status_name'].value_counts())\nprint(data['hoepa_status_name'].value_counts())\nprint(data['edit_status_name'].value_counts())",
   "execution_count": 14,
   "outputs": [
    {
     "name": "stdout",
     "text": "Conventional          332433\nFHA-insured            66754\nVA-guaranteed          62915\nFSA/RHS-guaranteed      4464\nName: loan_type_name, dtype: int64\nRefinancing         250046\nHome purchase       192684\nHome improvement     23836\nName: loan_purpose_name, dtype: int64\nSecured by a first lien          403525\nNot applicable                    48356\nSecured by a subordinate lien      9298\nNot secured by a lien              5387\nName: lien_status_name, dtype: int64\nNot a HOEPA loan    466553\nHOEPA loan              13\nName: hoepa_status_name, dtype: int64\nQuality edit failure only    74505\nName: edit_status_name, dtype: int64\n",
     "output_type": "stream"
    }
   ]
  },
  {
   "cell_type": "code",
   "metadata": {
    "cell_id": "f95755c1628f42f2b2c678c82ed034df",
    "tags": [],
    "deepnote_to_be_reexecuted": false,
    "source_hash": "97d3e7b7",
    "execution_start": 1664713531044,
    "execution_millis": 958,
    "deepnote_cell_type": "code",
    "deepnote_cell_height": 321,
    "deepnote_output_heights": [
     229
    ]
   },
   "source": "data['census_tract_number'].value_counts()",
   "execution_count": 15,
   "outputs": [
    {
     "output_type": "execute_result",
     "execution_count": 15,
     "data": {
      "text/plain": "2.00       2698\n8.00       2059\n7.00       1914\n101.00     1849\n106.00     1841\n           ... \n729.07        2\n105.10        2\n9204.00       1\n808.00        1\n9901.00       1\nName: census_tract_number, Length: 1116, dtype: int64"
     },
     "metadata": {}
    }
   ]
  },
  {
   "cell_type": "code",
   "metadata": {
    "cell_id": "7ba66fe7876d4277be23f35998df42d9",
    "tags": [],
    "deepnote_to_be_reexecuted": false,
    "source_hash": "1c158705",
    "execution_start": 1664713531044,
    "execution_millis": 962,
    "deepnote_cell_type": "code",
    "deepnote_cell_height": 525,
    "deepnote_output_heights": [
     415
    ]
   },
   "source": "data['rate_spread'].hist(bins=100)\nplt.show()",
   "execution_count": 16,
   "outputs": [
    {
     "data": {
      "text/plain": "<Figure size 640x480 with 1 Axes>",
      "image/png": "[encoded data removed]"
     },
     "metadata": {
      "image/png": {
       "width": 560,
       "height": 414
      }
     },
     "output_type": "display_data"
    }
   ]
  },
  {
   "cell_type": "markdown",
   "source": "# Data preparation",
   "metadata": {
    "formattedRanges": [],
    "is_collapsed": false,
    "cell_id": "63542cad777b445e9e85434b32272937",
    "tags": [],
    "deepnote_cell_type": "text-cell-h1"
   }
  },
  {
   "cell_type": "code",
   "source": "# remove the unhelpful rows\n# - Application withdrawn by applicant\n# - Application approved but not accepted\n# - Preapproval request denied by financial institution\n# - Preapproval request approved but not accepted\n\ndata_clean = data.drop(data[(data.action_taken_name == \"Application withdrawn by applicant\") | \\\n                            (data.action_taken_name == \"Application approved but not accepted\") | \\\n                            (data.action_taken_name == \"Preapproval request denied by financial institution\") | \\\n                            (data.action_taken_name == \"Preapproval request approved but not accepted\")].index)\n\n# turn our target into binary\ndata_clean['loan_approved'] = data_clean['action_taken_name'] == \"Loan originated\"\n\n# remove unnecessary columns\ndata_clean = data_clean.drop(columns=[\"action_taken_name\", \\\n                         \"sequence_number\", \\\n                         \"respondent_id\", \\\n                         \"purchaser_type_name\", \\\n                         \"denial_reason_name_1\", \\\n                         \"denial_reason_name_2\", \\\n                         \"denial_reason_name_3\"])\n\n# replace nan with 0 in rate_spread\ndata_clean.fillna(0, inplace=True)\n\n\n# turn categorial into dummies\ncategorial_names = list(set(data_clean.columns) - set(data_clean._get_numeric_data().columns))\ndata_clean = pd.get_dummies(data=data_clean, columns=categorial_names)\n\ndata_clean",
   "metadata": {
    "cell_id": "1200b9c4e86b41b294fbf06a3bf78389",
    "tags": [],
    "deepnote_to_be_reexecuted": false,
    "source_hash": "f6f6569e",
    "execution_start": 1664713531305,
    "execution_millis": 1705,
    "deepnote_table_state": {
     "pageSize": 10,
     "pageIndex": 0,
     "filters": [],
     "sortBy": []
    },
    "deepnote_table_loading": false,
    "deepnote_cell_type": "code",
    "deepnote_cell_height": 1158
   },
   "execution_count": 17,
   "outputs": [
    {
     "output_type": "execute_result",
     "execution_count": 17,
     "data": {
      "application/vnd.deepnote.dataframe.v3+json": {
       "column_count": 175,
       "row_count": 394421,
       "columns": [
        {
         "name": "tract_to_msamd_income",
         "dtype": "float64"
        },
        {
         "name": "rate_spread",
         "dtype": "float64"
        },
        {
         "name": "population",
         "dtype": "float64"
        },
        {
         "name": "minority_population",
         "dtype": "float64"
        },
        {
         "name": "number_of_owner_occupied_units",
         "dtype": "float64"
        },
        {
         "name": "number_of_1_to_4_family_units",
         "dtype": "float64"
        },
        {
         "name": "loan_amount_000s",
         "dtype": "int64"
        },
        {
         "name": "hud_median_family_income",
         "dtype": "float64"
        },
        {
         "name": "applicant_income_000s",
         "dtype": "float64"
        },
        {
         "name": "census_tract_number",
         "dtype": "float64"
        },
        {
         "name": "as_of_year",
         "dtype": "int64"
        },
        {
         "name": "application_date_indicator",
         "dtype": "int64"
        },
        {
         "name": "loan_approved",
         "dtype": "bool"
        },
        {
         "name": "applicant_sex_name_Female",
         "dtype": "uint8"
        },
        {
         "name": "applicant_sex_name_Information not provided by applicant in mail, Internet, or telephone application",
         "dtype": "uint8"
        },
        {
         "name": "applicant_sex_name_Male",
         "dtype": "uint8"
        },
        {
         "name": "applicant_sex_name_Not applicable",
         "dtype": "uint8"
        },
        {
         "name": "co_applicant_race_name_3_0",
         "dtype": "uint8"
        },
        {
         "name": "co_applicant_race_name_3_Black or African American",
         "dtype": "uint8"
        },
        {
         "name": "co_applicant_race_name_3_Native Hawaiian or Other Pacific Islander",
         "dtype": "uint8"
        },
        {
         "name": "co_applicant_race_name_3_White",
         "dtype": "uint8"
        },
        {
         "name": "applicant_race_name_4_0",
         "dtype": "uint8"
        },
        {
         "name": "applicant_race_name_4_Asian",
         "dtype": "uint8"
        },
        {
         "name": "applicant_race_name_4_Black or African American",
         "dtype": "uint8"
        },
        {
         "name": "applicant_race_name_4_Native Hawaiian or Other Pacific Islander",
         "dtype": "uint8"
        },
        {
         "name": "applicant_race_name_4_White",
         "dtype": "uint8"
        },
        {
         "name": "agency_abbr_CFPB",
         "dtype": "uint8"
        },
        {
         "name": "agency_abbr_FDIC",
         "dtype": "uint8"
        },
        {
         "name": "agency_abbr_FRS",
         "dtype": "uint8"
        },
        {
         "name": "agency_abbr_HUD",
         "dtype": "uint8"
        },
        {
         "name": "agency_abbr_NCUA",
         "dtype": "uint8"
        },
        {
         "name": "agency_abbr_OCC",
         "dtype": "uint8"
        },
        {
         "name": "applicant_race_name_3_0",
         "dtype": "uint8"
        },
        {
         "name": "applicant_race_name_3_American Indian or Alaska Native",
         "dtype": "uint8"
        },
        {
         "name": "applicant_race_name_3_Asian",
         "dtype": "uint8"
        },
        {
         "name": "applicant_race_name_3_Black or African American",
         "dtype": "uint8"
        },
        {
         "name": "applicant_race_name_3_Native Hawaiian or Other Pacific Islander",
         "dtype": "uint8"
        },
        {
         "name": "applicant_race_name_3_White",
         "dtype": "uint8"
        },
        {
         "name": "co_applicant_race_name_4_0",
         "dtype": "uint8"
        },
        {
         "name": "co_applicant_race_name_4_Native Hawaiian or Other Pacific Islander",
         "dtype": "uint8"
        },
        {
         "name": "co_applicant_race_name_4_White",
         "dtype": "uint8"
        },
        {
         "name": "msamd_name_0",
         "dtype": "uint8"
        },
        {
         "name": "msamd_name_Bellingham - WA",
         "dtype": "uint8"
        },
        {
         "name": "msamd_name_Bremerton, Silverdale - WA",
         "dtype": "uint8"
        },
        {
         "name": "msamd_name_Kennewick, Richland - WA",
         "dtype": "uint8"
        },
        {
         "name": "msamd_name_Lewiston - ID, WA",
         "dtype": "uint8"
        },
        {
         "name": "msamd_name_Longview - WA",
         "dtype": "uint8"
        },
        {
         "name": "msamd_name_Mount Vernon, Anacortes - WA",
         "dtype": "uint8"
        },
        {
         "name": "msamd_name_Olympia, Tumwater - WA",
         "dtype": "uint8"
        },
        {
         "name": "msamd_name_Portland, Vancouver, Hillsboro - OR, WA",
         "dtype": "uint8"
        },
        {
         "name": "msamd_name_Seattle, Bellevue, Everett - WA",
         "dtype": "uint8"
        },
        {
         "name": "msamd_name_Spokane, Spokane Valley - WA",
         "dtype": "uint8"
        },
        {
         "name": "msamd_name_Tacoma, Lakewood - WA",
         "dtype": "uint8"
        },
        {
         "name": "msamd_name_Walla Walla - WA",
         "dtype": "uint8"
        },
        {
         "name": "msamd_name_Wenatchee - WA",
         "dtype": "uint8"
        },
        {
         "name": "msamd_name_Yakima - WA",
         "dtype": "uint8"
        },
        {
         "name": "loan_purpose_name_Home improvement",
         "dtype": "uint8"
        },
        {
         "name": "loan_purpose_name_Home purchase",
         "dtype": "uint8"
        },
        {
         "name": "loan_purpose_name_Refinancing",
         "dtype": "uint8"
        },
        {
         "name": "loan_type_name_Conventional",
         "dtype": "uint8"
        },
        {
         "name": "loan_type_name_FHA-insured",
         "dtype": "uint8"
        },
        {
         "name": "loan_type_name_FSA/RHS-guaranteed",
         "dtype": "uint8"
        },
        {
         "name": "loan_type_name_VA-guaranteed",
         "dtype": "uint8"
        },
        {
         "name": "agency_name_Consumer Financial Protection Bureau",
         "dtype": "uint8"
        },
        {
         "name": "agency_name_Department of Housing and Urban Development",
         "dtype": "uint8"
        },
        {
         "name": "agency_name_Federal Deposit Insurance Corporation",
         "dtype": "uint8"
        },
        {
         "name": "agency_name_Federal Reserve System",
         "dtype": "uint8"
        },
        {
         "name": "agency_name_National Credit Union Administration",
         "dtype": "uint8"
        },
        {
         "name": "agency_name_Office of the Comptroller of the Currency",
         "dtype": "uint8"
        },
        {
         "name": "applicant_ethnicity_name_Hispanic or Latino",
         "dtype": "uint8"
        },
        {
         "name": "applicant_ethnicity_name_Information not provided by applicant in mail, Internet, or telephone application",
         "dtype": "uint8"
        },
        {
         "name": "applicant_ethnicity_name_Not Hispanic or Latino",
         "dtype": "uint8"
        },
        {
         "name": "applicant_ethnicity_name_Not applicable",
         "dtype": "uint8"
        },
        {
         "name": "preapproval_name_Not applicable",
         "dtype": "uint8"
        },
        {
         "name": "preapproval_name_Preapproval was not requested",
         "dtype": "uint8"
        },
        {
         "name": "preapproval_name_Preapproval was requested",
         "dtype": "uint8"
        },
        {
         "name": "co_applicant_race_name_2_0",
         "dtype": "uint8"
        },
        {
         "name": "co_applicant_race_name_2_American Indian or Alaska Native",
         "dtype": "uint8"
        },
        {
         "name": "co_applicant_race_name_2_Asian",
         "dtype": "uint8"
        },
        {
         "name": "co_applicant_race_name_2_Black or African American",
         "dtype": "uint8"
        },
        {
         "name": "co_applicant_race_name_2_Native Hawaiian or Other Pacific Islander",
         "dtype": "uint8"
        },
        {
         "name": "co_applicant_race_name_2_White",
         "dtype": "uint8"
        },
        {
         "name": "applicant_race_name_1_American Indian or Alaska Native",
         "dtype": "uint8"
        },
        {
         "name": "applicant_race_name_1_Asian",
         "dtype": "uint8"
        },
        {
         "name": "applicant_race_name_1_Black or African American",
         "dtype": "uint8"
        },
        {
         "name": "applicant_race_name_1_Information not provided by applicant in mail, Internet, or telephone application",
         "dtype": "uint8"
        },
        {
         "name": "applicant_race_name_1_Native Hawaiian or Other Pacific Islander",
         "dtype": "uint8"
        },
        {
         "name": "applicant_race_name_1_Not applicable",
         "dtype": "uint8"
        },
        {
         "name": "applicant_race_name_1_White",
         "dtype": "uint8"
        },
        {
         "name": "co_applicant_race_name_1_American Indian or Alaska Native",
         "dtype": "uint8"
        },
        {
         "name": "co_applicant_race_name_1_Asian",
         "dtype": "uint8"
        },
        {
         "name": "co_applicant_race_name_1_Black or African American",
         "dtype": "uint8"
        },
        {
         "name": "co_applicant_race_name_1_Information not provided by applicant in mail, Internet, or telephone application",
         "dtype": "uint8"
        },
        {
         "name": "co_applicant_race_name_1_Native Hawaiian or Other Pacific Islander",
         "dtype": "uint8"
        },
        {
         "name": "co_applicant_race_name_1_No co-applicant",
         "dtype": "uint8"
        },
        {
         "name": "co_applicant_race_name_1_Not applicable",
         "dtype": "uint8"
        },
        {
         "name": "co_applicant_race_name_1_White",
         "dtype": "uint8"
        },
        {
         "name": "edit_status_name_0",
         "dtype": "uint8"
        },
        {
         "name": "edit_status_name_Quality edit failure only",
         "dtype": "uint8"
        },
        {
         "name": "owner_occupancy_name_Not applicable",
         "dtype": "uint8"
        },
        {
         "name": "owner_occupancy_name_Not owner-occupied as a principal dwelling",
         "dtype": "uint8"
        },
        {
         "name": "owner_occupancy_name_Owner-occupied as a principal dwelling",
         "dtype": "uint8"
        },
        {
         "name": "co_applicant_ethnicity_name_Hispanic or Latino",
         "dtype": "uint8"
        },
        {
         "name": "co_applicant_ethnicity_name_Information not provided by applicant in mail, Internet, or telephone application",
         "dtype": "uint8"
        },
        {
         "name": "co_applicant_ethnicity_name_No co-applicant",
         "dtype": "uint8"
        },
        {
         "name": "co_applicant_ethnicity_name_Not Hispanic or Latino",
         "dtype": "uint8"
        },
        {
         "name": "co_applicant_ethnicity_name_Not applicable",
         "dtype": "uint8"
        },
        {
         "name": "property_type_name_Manufactured housing",
         "dtype": "uint8"
        },
        {
         "name": "property_type_name_Multifamily dwelling",
         "dtype": "uint8"
        },
        {
         "name": "property_type_name_One-to-four family dwelling (other than manufactured housing)",
         "dtype": "uint8"
        },
        {
         "name": "state_abbr_WA",
         "dtype": "uint8"
        },
        {
         "name": "county_name_0",
         "dtype": "uint8"
        },
        {
         "name": "county_name_Adams County",
         "dtype": "uint8"
        },
        {
         "name": "county_name_Asotin County",
         "dtype": "uint8"
        },
        {
         "name": "county_name_Benton County",
         "dtype": "uint8"
        },
        {
         "name": "county_name_Chelan County",
         "dtype": "uint8"
        },
        {
         "name": "county_name_Clallam County",
         "dtype": "uint8"
        },
        {
         "name": "county_name_Clark County",
         "dtype": "uint8"
        },
        {
         "name": "county_name_Columbia County",
         "dtype": "uint8"
        },
        {
         "name": "county_name_Cowlitz County",
         "dtype": "uint8"
        },
        {
         "name": "county_name_Douglas County",
         "dtype": "uint8"
        },
        {
         "name": "county_name_Ferry County",
         "dtype": "uint8"
        },
        {
         "name": "county_name_Franklin County",
         "dtype": "uint8"
        },
        {
         "name": "county_name_Garfield County",
         "dtype": "uint8"
        },
        {
         "name": "county_name_Grant County",
         "dtype": "uint8"
        },
        {
         "name": "county_name_Grays Harbor County",
         "dtype": "uint8"
        },
        {
         "name": "county_name_Island County",
         "dtype": "uint8"
        },
        {
         "name": "county_name_Jefferson County",
         "dtype": "uint8"
        },
        {
         "name": "county_name_King County",
         "dtype": "uint8"
        },
        {
         "name": "county_name_Kitsap County",
         "dtype": "uint8"
        },
        {
         "name": "county_name_Kittitas County",
         "dtype": "uint8"
        },
        {
         "name": "county_name_Klickitat County",
         "dtype": "uint8"
        },
        {
         "name": "county_name_Lewis County",
         "dtype": "uint8"
        },
        {
         "name": "county_name_Lincoln County",
         "dtype": "uint8"
        },
        {
         "name": "county_name_Mason County",
         "dtype": "uint8"
        },
        {
         "name": "county_name_Okanogan County",
         "dtype": "uint8"
        },
        {
         "name": "county_name_Pacific County",
         "dtype": "uint8"
        },
        {
         "name": "county_name_Pend Oreille County",
         "dtype": "uint8"
        },
        {
         "name": "county_name_Pierce County",
         "dtype": "uint8"
        },
        {
         "name": "county_name_San Juan County",
         "dtype": "uint8"
        },
        {
         "name": "county_name_Skagit County",
         "dtype": "uint8"
        },
        {
         "name": "county_name_Skamania County",
         "dtype": "uint8"
        },
        {
         "name": "county_name_Snohomish County",
         "dtype": "uint8"
        },
        {
         "name": "county_name_Spokane County",
         "dtype": "uint8"
        },
        {
         "name": "county_name_Stevens County",
         "dtype": "uint8"
        },
        {
         "name": "county_name_Thurston County",
         "dtype": "uint8"
        },
        {
         "name": "county_name_Wahkiakum County",
         "dtype": "uint8"
        },
        {
         "name": "county_name_Walla Walla County",
         "dtype": "uint8"
        },
        {
         "name": "county_name_Whatcom County",
         "dtype": "uint8"
        },
        {
         "name": "county_name_Whitman County",
         "dtype": "uint8"
        },
        {
         "name": "county_name_Yakima County",
         "dtype": "uint8"
        },
        {
         "name": "lien_status_name_Not applicable",
         "dtype": "uint8"
        },
        {
         "name": "lien_status_name_Not secured by a lien",
         "dtype": "uint8"
        },
        {
         "name": "lien_status_name_Secured by a first lien",
         "dtype": "uint8"
        },
        {
         "name": "lien_status_name_Secured by a subordinate lien",
         "dtype": "uint8"
        },
        {
         "name": "state_name_Washington",
         "dtype": "uint8"
        },
        {
         "name": "applicant_race_name_5_0",
         "dtype": "uint8"
        },
        {
         "name": "applicant_race_name_5_Asian",
         "dtype": "uint8"
        },
        {
         "name": "applicant_race_name_5_Black or African American",
         "dtype": "uint8"
        },
        {
         "name": "applicant_race_name_5_White",
         "dtype": "uint8"
        },
        {
         "name": "co_applicant_race_name_5_0",
         "dtype": "uint8"
        },
        {
         "name": "co_applicant_race_name_5_White",
         "dtype": "uint8"
        },
        {
         "name": "applicant_race_name_2_0",
         "dtype": "uint8"
        },
        {
         "name": "applicant_race_name_2_American Indian or Alaska Native",
         "dtype": "uint8"
        },
        {
         "name": "applicant_race_name_2_Asian",
         "dtype": "uint8"
        },
        {
         "name": "applicant_race_name_2_Black or African American",
         "dtype": "uint8"
        },
        {
         "name": "applicant_race_name_2_Native Hawaiian or Other Pacific Islander",
         "dtype": "uint8"
        },
        {
         "name": "applicant_race_name_2_White",
         "dtype": "uint8"
        },
        {
         "name": "hoepa_status_name_HOEPA loan",
         "dtype": "uint8"
        },
        {
         "name": "hoepa_status_name_Not a HOEPA loan",
         "dtype": "uint8"
        },
        {
         "name": "co_applicant_sex_name_Female",
         "dtype": "uint8"
        },
        {
         "name": "co_applicant_sex_name_Information not provided by applicant in mail, Internet, or telephone application",
         "dtype": "uint8"
        },
        {
         "name": "co_applicant_sex_name_Male",
         "dtype": "uint8"
        },
        {
         "name": "co_applicant_sex_name_No co-applicant",
         "dtype": "uint8"
        },
        {
         "name": "co_applicant_sex_name_Not applicable",
         "dtype": "uint8"
        },
        {
         "name": "_deepnote_index_column",
         "dtype": "int64"
        }
       ],
       "rows": [
        {
         "tract_to_msamd_income": "121.6900024",
         "rate_spread": "0.0",
         "population": "8381.0",
         "minority_population": "23.79000092",
         "number_of_owner_occupied_units": "2175.0",
         "number_of_1_to_4_family_units": "2660.0",
         "loan_amount_000s": "227",
         "hud_median_family_income": "73300.0",
         "applicant_income_000s": "116.0",
         "census_tract_number": "413.27",
         "as_of_year": "2016",
         "application_date_indicator": "0",
         "loan_approved": "True",
         "applicant_sex_name_Female": "1",
         "applicant_sex_name_Information not provided by applicant in mail, Internet, or telephone application": "0",
         "applicant_sex_name_Male": "0",
         "applicant_sex_name_Not applicable": "0",
         "co_applicant_race_name_3_0": "1",
         "co_applicant_race_name_3_Black or African American": "0",
         "co_applicant_race_name_3_Native Hawaiian or Other Pacific Islander": "0",
         "co_applicant_race_name_3_White": "0",
         "applicant_race_name_4_0": "1",
         "applicant_race_name_4_Asian": "0",
         "applicant_race_name_4_Black or African American": "0",
         "applicant_race_name_4_Native Hawaiian or Other Pacific Islander": "0",
         "applicant_race_name_4_White": "0",
         "agency_abbr_CFPB": "1",
         "agency_abbr_FDIC": "0",
         "agency_abbr_FRS": "0",
         "agency_abbr_HUD": "0",
         "agency_abbr_NCUA": "0",
         "agency_abbr_OCC": "0",
         "applicant_race_name_3_0": "1",
         "applicant_race_name_3_American Indian or Alaska Native": "0",
         "applicant_race_name_3_Asian": "0",
         "applicant_race_name_3_Black or African American": "0",
         "applicant_race_name_3_Native Hawaiian or Other Pacific Islander": "0",
         "applicant_race_name_3_White": "0",
         "co_applicant_race_name_4_0": "1",
         "co_applicant_race_name_4_Native Hawaiian or Other Pacific Islander": "0",
         "co_applicant_race_name_4_White": "0",
         "msamd_name_0": "0",
         "msamd_name_Bellingham - WA": "0",
         "msamd_name_Bremerton, Silverdale - WA": "0",
         "msamd_name_Kennewick, Richland - WA": "0",
         "msamd_name_Lewiston - ID, WA": "0",
         "msamd_name_Longview - WA": "0",
         "msamd_name_Mount Vernon, Anacortes - WA": "0",
         "msamd_name_Olympia, Tumwater - WA": "0",
         "msamd_name_Portland, Vancouver, Hillsboro - OR, WA": "1",
         "msamd_name_Seattle, Bellevue, Everett - WA": "0",
         "msamd_name_Spokane, Spokane Valley - WA": "0",
         "msamd_name_Tacoma, Lakewood - WA": "0",
         "msamd_name_Walla Walla - WA": "0",
         "msamd_name_Wenatchee - WA": "0",
         "msamd_name_Yakima - WA": "0",
         "loan_purpose_name_Home improvement": "0",
         "loan_purpose_name_Home purchase": "0",
         "loan_purpose_name_Refinancing": "1",
         "loan_type_name_Conventional": "1",
         "loan_type_name_FHA-insured": "0",
         "loan_type_name_FSA/RHS-guaranteed": "0",
         "loan_type_name_VA-guaranteed": "0",
         "agency_name_Consumer Financial Protection Bureau": "1",
         "agency_name_Department of Housing and Urban Development": "0",
         "agency_name_Federal Deposit Insurance Corporation": "0",
         "agency_name_Federal Reserve System": "0",
         "agency_name_National Credit Union Administration": "0",
         "agency_name_Office of the Comptroller of the Currency": "0",
         "applicant_ethnicity_name_Hispanic or Latino": "0",
         "applicant_ethnicity_name_Information not provided by applicant in mail, Internet, or telephone application": "0",
         "applicant_ethnicity_name_Not Hispanic or Latino": "1",
         "applicant_ethnicity_name_Not applicable": "0",
         "preapproval_name_Not applicable": "1",
         "preapproval_name_Preapproval was not requested": "0",
         "preapproval_name_Preapproval was requested": "0",
         "co_applicant_race_name_2_0": "1",
         "co_applicant_race_name_2_American Indian or Alaska Native": "0",
         "co_applicant_race_name_2_Asian": "0",
         "co_applicant_race_name_2_Black or African American": "0",
         "co_applicant_race_name_2_Native Hawaiian or Other Pacific Islander": "0",
         "co_applicant_race_name_2_White": "0",
         "applicant_race_name_1_American Indian or Alaska Native": "0",
         "applicant_race_name_1_Asian": "0",
         "applicant_race_name_1_Black or African American": "0",
         "applicant_race_name_1_Information not provided by applicant in mail, Internet, or telephone application": "1",
         "applicant_race_name_1_Native Hawaiian or Other Pacific Islander": "0",
         "applicant_race_name_1_Not applicable": "0",
         "applicant_race_name_1_White": "0",
         "co_applicant_race_name_1_American Indian or Alaska Native": "0",
         "co_applicant_race_name_1_Asian": "0",
         "co_applicant_race_name_1_Black or African American": "0",
         "co_applicant_race_name_1_Information not provided by applicant in mail, Internet, or telephone application": "1",
         "co_applicant_race_name_1_Native Hawaiian or Other Pacific Islander": "0",
         "co_applicant_race_name_1_No co-applicant": "0",
         "co_applicant_race_name_1_Not applicable": "0",
         "co_applicant_race_name_1_White": "0",
         "edit_status_name_0": "1",
         "edit_status_name_Quality edit failure only": "0",
         "owner_occupancy_name_Not applicable": "0",
         "owner_occupancy_name_Not owner-occupied as a principal dwelling": "0",
         "owner_occupancy_name_Owner-occupied as a principal dwelling": "1",
         "co_applicant_ethnicity_name_Hispanic or Latino": "0",
         "co_applicant_ethnicity_name_Information not provided by applicant in mail, Internet, or telephone application": "0",
         "co_applicant_ethnicity_name_No co-applicant": "0",
         "co_applicant_ethnicity_name_Not Hispanic or Latino": "1",
         "co_applicant_ethnicity_name_Not applicable": "0",
         "property_type_name_Manufactured housing": "0",
         "property_type_name_Multifamily dwelling": "0",
         "property_type_name_One-to-four family dwelling (other than manufactured housing)": "1",
         "state_abbr_WA": "1",
         "county_name_0": "0",
         "county_name_Adams County": "0",
         "county_name_Asotin County": "0",
         "county_name_Benton County": "0",
         "county_name_Chelan County": "0",
         "county_name_Clallam County": "0",
         "county_name_Clark County": "1",
         "county_name_Columbia County": "0",
         "county_name_Cowlitz County": "0",
         "county_name_Douglas County": "0",
         "county_name_Ferry County": "0",
         "county_name_Franklin County": "0",
         "county_name_Garfield County": "0",
         "county_name_Grant County": "0",
         "county_name_Grays Harbor County": "0",
         "county_name_Island County": "0",
         "county_name_Jefferson County": "0",
         "county_name_King County": "0",
         "county_name_Kitsap County": "0",
         "county_name_Kittitas County": "0",
         "county_name_Klickitat County": "0",
         "county_name_Lewis County": "0",
         "county_name_Lincoln County": "0",
         "county_name_Mason County": "0",
         "county_name_Okanogan County": "0",
         "county_name_Pacific County": "0",
         "county_name_Pend Oreille County": "0",
         "county_name_Pierce County": "0",
         "county_name_San Juan County": "0",
         "county_name_Skagit County": "0",
         "county_name_Skamania County": "0",
         "county_name_Snohomish County": "0",
         "county_name_Spokane County": "0",
         "county_name_Stevens County": "0",
         "county_name_Thurston County": "0",
         "county_name_Wahkiakum County": "0",
         "county_name_Walla Walla County": "0",
         "county_name_Whatcom County": "0",
         "county_name_Whitman County": "0",
         "county_name_Yakima County": "0",
         "lien_status_name_Not applicable": "0",
         "lien_status_name_Not secured by a lien": "0",
         "lien_status_name_Secured by a first lien": "1",
         "lien_status_name_Secured by a subordinate lien": "0",
         "state_name_Washington": "1",
         "applicant_race_name_5_0": "1",
         "applicant_race_name_5_Asian": "0",
         "applicant_race_name_5_Black or African American": "0",
         "applicant_race_name_5_White": "0",
         "co_applicant_race_name_5_0": "1",
         "co_applicant_race_name_5_White": "0",
         "applicant_race_name_2_0": "1",
         "applicant_race_name_2_American Indian or Alaska Native": "0",
         "applicant_race_name_2_Asian": "0",
         "applicant_race_name_2_Black or African American": "0",
         "applicant_race_name_2_Native Hawaiian or Other Pacific Islander": "0",
         "applicant_race_name_2_White": "0",
         "hoepa_status_name_HOEPA loan": "0",
         "hoepa_status_name_Not a HOEPA loan": "1",
         "co_applicant_sex_name_Female": "0",
         "co_applicant_sex_name_Information not provided by applicant in mail, Internet, or telephone application": "0",
         "co_applicant_sex_name_Male": "1",
         "co_applicant_sex_name_No co-applicant": "0",
         "co_applicant_sex_name_Not applicable": "0",
         "_deepnote_index_column": "0"
        },
        {
         "tract_to_msamd_income": "83.37000275",
         "rate_spread": "0.0",
         "population": "4915.0",
         "minority_population": "23.98999977",
         "number_of_owner_occupied_units": "1268.0",
         "number_of_1_to_4_family_units": "1777.0",
         "loan_amount_000s": "240",
         "hud_median_family_income": "57900.0",
         "applicant_income_000s": "42.0",
         "census_tract_number": "9208.01",
         "as_of_year": "2016",
         "application_date_indicator": "0",
         "loan_approved": "True",
         "applicant_sex_name_Female": "0",
         "applicant_sex_name_Information not provided by applicant in mail, Internet, or telephone application": "0",
         "applicant_sex_name_Male": "1",
         "applicant_sex_name_Not applicable": "0",
         "co_applicant_race_name_3_0": "1",
         "co_applicant_race_name_3_Black or African American": "0",
         "co_applicant_race_name_3_Native Hawaiian or Other Pacific Islander": "0",
         "co_applicant_race_name_3_White": "0",
         "applicant_race_name_4_0": "1",
         "applicant_race_name_4_Asian": "0",
         "applicant_race_name_4_Black or African American": "0",
         "applicant_race_name_4_Native Hawaiian or Other Pacific Islander": "0",
         "applicant_race_name_4_White": "0",
         "agency_abbr_CFPB": "0",
         "agency_abbr_FDIC": "0",
         "agency_abbr_FRS": "0",
         "agency_abbr_HUD": "1",
         "agency_abbr_NCUA": "0",
         "agency_abbr_OCC": "0",
         "applicant_race_name_3_0": "1",
         "applicant_race_name_3_American Indian or Alaska Native": "0",
         "applicant_race_name_3_Asian": "0",
         "applicant_race_name_3_Black or African American": "0",
         "applicant_race_name_3_Native Hawaiian or Other Pacific Islander": "0",
         "applicant_race_name_3_White": "0",
         "co_applicant_race_name_4_0": "1",
         "co_applicant_race_name_4_Native Hawaiian or Other Pacific Islander": "0",
         "co_applicant_race_name_4_White": "0",
         "msamd_name_0": "0",
         "msamd_name_Bellingham - WA": "0",
         "msamd_name_Bremerton, Silverdale - WA": "0",
         "msamd_name_Kennewick, Richland - WA": "0",
         "msamd_name_Lewiston - ID, WA": "0",
         "msamd_name_Longview - WA": "0",
         "msamd_name_Mount Vernon, Anacortes - WA": "0",
         "msamd_name_Olympia, Tumwater - WA": "0",
         "msamd_name_Portland, Vancouver, Hillsboro - OR, WA": "0",
         "msamd_name_Seattle, Bellevue, Everett - WA": "0",
         "msamd_name_Spokane, Spokane Valley - WA": "0",
         "msamd_name_Tacoma, Lakewood - WA": "0",
         "msamd_name_Walla Walla - WA": "1",
         "msamd_name_Wenatchee - WA": "0",
         "msamd_name_Yakima - WA": "0",
         "loan_purpose_name_Home improvement": "0",
         "loan_purpose_name_Home purchase": "1",
         "loan_purpose_name_Refinancing": "0",
         "loan_type_name_Conventional": "0",
         "loan_type_name_FHA-insured": "1",
         "loan_type_name_FSA/RHS-guaranteed": "0",
         "loan_type_name_VA-guaranteed": "0",
         "agency_name_Consumer Financial Protection Bureau": "0",
         "agency_name_Department of Housing and Urban Development": "1",
         "agency_name_Federal Deposit Insurance Corporation": "0",
         "agency_name_Federal Reserve System": "0",
         "agency_name_National Credit Union Administration": "0",
         "agency_name_Office of the Comptroller of the Currency": "0",
         "applicant_ethnicity_name_Hispanic or Latino": "1",
         "applicant_ethnicity_name_Information not provided by applicant in mail, Internet, or telephone application": "0",
         "applicant_ethnicity_name_Not Hispanic or Latino": "0",
         "applicant_ethnicity_name_Not applicable": "0",
         "preapproval_name_Not applicable": "1",
         "preapproval_name_Preapproval was not requested": "0",
         "preapproval_name_Preapproval was requested": "0",
         "co_applicant_race_name_2_0": "1",
         "co_applicant_race_name_2_American Indian or Alaska Native": "0",
         "co_applicant_race_name_2_Asian": "0",
         "co_applicant_race_name_2_Black or African American": "0",
         "co_applicant_race_name_2_Native Hawaiian or Other Pacific Islander": "0",
         "co_applicant_race_name_2_White": "0",
         "applicant_race_name_1_American Indian or Alaska Native": "0",
         "applicant_race_name_1_Asian": "0",
         "applicant_race_name_1_Black or African American": "0",
         "applicant_race_name_1_Information not provided by applicant in mail, Internet, or telephone application": "0",
         "applicant_race_name_1_Native Hawaiian or Other Pacific Islander": "0",
         "applicant_race_name_1_Not applicable": "0",
         "applicant_race_name_1_White": "1",
         "co_applicant_race_name_1_American Indian or Alaska Native": "0",
         "co_applicant_race_name_1_Asian": "0",
         "co_applicant_race_name_1_Black or African American": "0",
         "co_applicant_race_name_1_Information not provided by applicant in mail, Internet, or telephone application": "0",
         "co_applicant_race_name_1_Native Hawaiian or Other Pacific Islander": "0",
         "co_applicant_race_name_1_No co-applicant": "1",
         "co_applicant_race_name_1_Not applicable": "0",
         "co_applicant_race_name_1_White": "0",
         "edit_status_name_0": "1",
         "edit_status_name_Quality edit failure only": "0",
         "owner_occupancy_name_Not applicable": "0",
         "owner_occupancy_name_Not owner-occupied as a principal dwelling": "0",
         "owner_occupancy_name_Owner-occupied as a principal dwelling": "1",
         "co_applicant_ethnicity_name_Hispanic or Latino": "0",
         "co_applicant_ethnicity_name_Information not provided by applicant in mail, Internet, or telephone application": "0",
         "co_applicant_ethnicity_name_No co-applicant": "1",
         "co_applicant_ethnicity_name_Not Hispanic or Latino": "0",
         "co_applicant_ethnicity_name_Not applicable": "0",
         "property_type_name_Manufactured housing": "0",
         "property_type_name_Multifamily dwelling": "0",
         "property_type_name_One-to-four family dwelling (other than manufactured housing)": "1",
         "state_abbr_WA": "1",
         "county_name_0": "0",
         "county_name_Adams County": "0",
         "county_name_Asotin County": "0",
         "county_name_Benton County": "0",
         "county_name_Chelan County": "0",
         "county_name_Clallam County": "0",
         "county_name_Clark County": "0",
         "county_name_Columbia County": "0",
         "county_name_Cowlitz County": "0",
         "county_name_Douglas County": "0",
         "county_name_Ferry County": "0",
         "county_name_Franklin County": "0",
         "county_name_Garfield County": "0",
         "county_name_Grant County": "0",
         "county_name_Grays Harbor County": "0",
         "county_name_Island County": "0",
         "county_name_Jefferson County": "0",
         "county_name_King County": "0",
         "county_name_Kitsap County": "0",
         "county_name_Kittitas County": "0",
         "county_name_Klickitat County": "0",
         "county_name_Lewis County": "0",
         "county_name_Lincoln County": "0",
         "county_name_Mason County": "0",
         "county_name_Okanogan County": "0",
         "county_name_Pacific County": "0",
         "county_name_Pend Oreille County": "0",
         "county_name_Pierce County": "0",
         "county_name_San Juan County": "0",
         "county_name_Skagit County": "0",
         "county_name_Skamania County": "0",
         "county_name_Snohomish County": "0",
         "county_name_Spokane County": "0",
         "county_name_Stevens County": "0",
         "county_name_Thurston County": "0",
         "county_name_Wahkiakum County": "0",
         "county_name_Walla Walla County": "1",
         "county_name_Whatcom County": "0",
         "county_name_Whitman County": "0",
         "county_name_Yakima County": "0",
         "lien_status_name_Not applicable": "0",
         "lien_status_name_Not secured by a lien": "0",
         "lien_status_name_Secured by a first lien": "1",
         "lien_status_name_Secured by a subordinate lien": "0",
         "state_name_Washington": "1",
         "applicant_race_name_5_0": "1",
         "applicant_race_name_5_Asian": "0",
         "applicant_race_name_5_Black or African American": "0",
         "applicant_race_name_5_White": "0",
         "co_applicant_race_name_5_0": "1",
         "co_applicant_race_name_5_White": "0",
         "applicant_race_name_2_0": "1",
         "applicant_race_name_2_American Indian or Alaska Native": "0",
         "applicant_race_name_2_Asian": "0",
         "applicant_race_name_2_Black or African American": "0",
         "applicant_race_name_2_Native Hawaiian or Other Pacific Islander": "0",
         "applicant_race_name_2_White": "0",
         "hoepa_status_name_HOEPA loan": "0",
         "hoepa_status_name_Not a HOEPA loan": "1",
         "co_applicant_sex_name_Female": "0",
         "co_applicant_sex_name_Information not provided by applicant in mail, Internet, or telephone application": "0",
         "co_applicant_sex_name_Male": "0",
         "co_applicant_sex_name_No co-applicant": "1",
         "co_applicant_sex_name_Not applicable": "0",
         "_deepnote_index_column": "1"
        },
        {
         "tract_to_msamd_income": "91.12999725",
         "rate_spread": "0.0",
         "population": "5075.0",
         "minority_population": "11.81999969",
         "number_of_owner_occupied_units": "1136.0",
         "number_of_1_to_4_family_units": "1838.0",
         "loan_amount_000s": "241",
         "hud_median_family_income": "73300.0",
         "applicant_income_000s": "117.0",
         "census_tract_number": "414.0",
         "as_of_year": "2016",
         "application_date_indicator": "0",
         "loan_approved": "True",
         "applicant_sex_name_Female": "0",
         "applicant_sex_name_Information not provided by applicant in mail, Internet, or telephone application": "0",
         "applicant_sex_name_Male": "1",
         "applicant_sex_name_Not applicable": "0",
         "co_applicant_race_name_3_0": "1",
         "co_applicant_race_name_3_Black or African American": "0",
         "co_applicant_race_name_3_Native Hawaiian or Other Pacific Islander": "0",
         "co_applicant_race_name_3_White": "0",
         "applicant_race_name_4_0": "1",
         "applicant_race_name_4_Asian": "0",
         "applicant_race_name_4_Black or African American": "0",
         "applicant_race_name_4_Native Hawaiian or Other Pacific Islander": "0",
         "applicant_race_name_4_White": "0",
         "agency_abbr_CFPB": "0",
         "agency_abbr_FDIC": "0",
         "agency_abbr_FRS": "0",
         "agency_abbr_HUD": "1",
         "agency_abbr_NCUA": "0",
         "agency_abbr_OCC": "0",
         "applicant_race_name_3_0": "1",
         "applicant_race_name_3_American Indian or Alaska Native": "0",
         "applicant_race_name_3_Asian": "0",
         "applicant_race_name_3_Black or African American": "0",
         "applicant_race_name_3_Native Hawaiian or Other Pacific Islander": "0",
         "applicant_race_name_3_White": "0",
         "co_applicant_race_name_4_0": "1",
         "co_applicant_race_name_4_Native Hawaiian or Other Pacific Islander": "0",
         "co_applicant_race_name_4_White": "0",
         "msamd_name_0": "0",
         "msamd_name_Bellingham - WA": "0",
         "msamd_name_Bremerton, Silverdale - WA": "0",
         "msamd_name_Kennewick, Richland - WA": "0",
         "msamd_name_Lewiston - ID, WA": "0",
         "msamd_name_Longview - WA": "0",
         "msamd_name_Mount Vernon, Anacortes - WA": "0",
         "msamd_name_Olympia, Tumwater - WA": "0",
         "msamd_name_Portland, Vancouver, Hillsboro - OR, WA": "1",
         "msamd_name_Seattle, Bellevue, Everett - WA": "0",
         "msamd_name_Spokane, Spokane Valley - WA": "0",
         "msamd_name_Tacoma, Lakewood - WA": "0",
         "msamd_name_Walla Walla - WA": "0",
         "msamd_name_Wenatchee - WA": "0",
         "msamd_name_Yakima - WA": "0",
         "loan_purpose_name_Home improvement": "0",
         "loan_purpose_name_Home purchase": "0",
         "loan_purpose_name_Refinancing": "1",
         "loan_type_name_Conventional": "1",
         "loan_type_name_FHA-insured": "0",
         "loan_type_name_FSA/RHS-guaranteed": "0",
         "loan_type_name_VA-guaranteed": "0",
         "agency_name_Consumer Financial Protection Bureau": "0",
         "agency_name_Department of Housing and Urban Development": "1",
         "agency_name_Federal Deposit Insurance Corporation": "0",
         "agency_name_Federal Reserve System": "0",
         "agency_name_National Credit Union Administration": "0",
         "agency_name_Office of the Comptroller of the Currency": "0",
         "applicant_ethnicity_name_Hispanic or Latino": "0",
         "applicant_ethnicity_name_Information not provided by applicant in mail, Internet, or telephone application": "0",
         "applicant_ethnicity_name_Not Hispanic or Latino": "1",
         "applicant_ethnicity_name_Not applicable": "0",
         "preapproval_name_Not applicable": "1",
         "preapproval_name_Preapproval was not requested": "0",
         "preapproval_name_Preapproval was requested": "0",
         "co_applicant_race_name_2_0": "1",
         "co_applicant_race_name_2_American Indian or Alaska Native": "0",
         "co_applicant_race_name_2_Asian": "0",
         "co_applicant_race_name_2_Black or African American": "0",
         "co_applicant_race_name_2_Native Hawaiian or Other Pacific Islander": "0",
         "co_applicant_race_name_2_White": "0",
         "applicant_race_name_1_American Indian or Alaska Native": "0",
         "applicant_race_name_1_Asian": "0",
         "applicant_race_name_1_Black or African American": "0",
         "applicant_race_name_1_Information not provided by applicant in mail, Internet, or telephone application": "0",
         "applicant_race_name_1_Native Hawaiian or Other Pacific Islander": "0",
         "applicant_race_name_1_Not applicable": "0",
         "applicant_race_name_1_White": "1",
         "co_applicant_race_name_1_American Indian or Alaska Native": "0",
         "co_applicant_race_name_1_Asian": "0",
         "co_applicant_race_name_1_Black or African American": "0",
         "co_applicant_race_name_1_Information not provided by applicant in mail, Internet, or telephone application": "0",
         "co_applicant_race_name_1_Native Hawaiian or Other Pacific Islander": "0",
         "co_applicant_race_name_1_No co-applicant": "0",
         "co_applicant_race_name_1_Not applicable": "0",
         "co_applicant_race_name_1_White": "1",
         "edit_status_name_0": "1",
         "edit_status_name_Quality edit failure only": "0",
         "owner_occupancy_name_Not applicable": "0",
         "owner_occupancy_name_Not owner-occupied as a principal dwelling": "0",
         "owner_occupancy_name_Owner-occupied as a principal dwelling": "1",
         "co_applicant_ethnicity_name_Hispanic or Latino": "0",
         "co_applicant_ethnicity_name_Information not provided by applicant in mail, Internet, or telephone application": "0",
         "co_applicant_ethnicity_name_No co-applicant": "0",
         "co_applicant_ethnicity_name_Not Hispanic or Latino": "1",
         "co_applicant_ethnicity_name_Not applicable": "0",
         "property_type_name_Manufactured housing": "0",
         "property_type_name_Multifamily dwelling": "0",
         "property_type_name_One-to-four family dwelling (other than manufactured housing)": "1",
         "state_abbr_WA": "1",
         "county_name_0": "0",
         "county_name_Adams County": "0",
         "county_name_Asotin County": "0",
         "county_name_Benton County": "0",
         "county_name_Chelan County": "0",
         "county_name_Clallam County": "0",
         "county_name_Clark County": "1",
         "county_name_Columbia County": "0",
         "county_name_Cowlitz County": "0",
         "county_name_Douglas County": "0",
         "county_name_Ferry County": "0",
         "county_name_Franklin County": "0",
         "county_name_Garfield County": "0",
         "county_name_Grant County": "0",
         "county_name_Grays Harbor County": "0",
         "county_name_Island County": "0",
         "county_name_Jefferson County": "0",
         "county_name_King County": "0",
         "county_name_Kitsap County": "0",
         "county_name_Kittitas County": "0",
         "county_name_Klickitat County": "0",
         "county_name_Lewis County": "0",
         "county_name_Lincoln County": "0",
         "county_name_Mason County": "0",
         "county_name_Okanogan County": "0",
         "county_name_Pacific County": "0",
         "county_name_Pend Oreille County": "0",
         "county_name_Pierce County": "0",
         "county_name_San Juan County": "0",
         "county_name_Skagit County": "0",
         "county_name_Skamania County": "0",
         "county_name_Snohomish County": "0",
         "county_name_Spokane County": "0",
         "county_name_Stevens County": "0",
         "county_name_Thurston County": "0",
         "county_name_Wahkiakum County": "0",
         "county_name_Walla Walla County": "0",
         "county_name_Whatcom County": "0",
         "county_name_Whitman County": "0",
         "county_name_Yakima County": "0",
         "lien_status_name_Not applicable": "0",
         "lien_status_name_Not secured by a lien": "0",
         "lien_status_name_Secured by a first lien": "1",
         "lien_status_name_Secured by a subordinate lien": "0",
         "state_name_Washington": "1",
         "applicant_race_name_5_0": "1",
         "applicant_race_name_5_Asian": "0",
         "applicant_race_name_5_Black or African American": "0",
         "applicant_race_name_5_White": "0",
         "co_applicant_race_name_5_0": "1",
         "co_applicant_race_name_5_White": "0",
         "applicant_race_name_2_0": "1",
         "applicant_race_name_2_American Indian or Alaska Native": "0",
         "applicant_race_name_2_Asian": "0",
         "applicant_race_name_2_Black or African American": "0",
         "applicant_race_name_2_Native Hawaiian or Other Pacific Islander": "0",
         "applicant_race_name_2_White": "0",
         "hoepa_status_name_HOEPA loan": "0",
         "hoepa_status_name_Not a HOEPA loan": "1",
         "co_applicant_sex_name_Female": "1",
         "co_applicant_sex_name_Information not provided by applicant in mail, Internet, or telephone application": "0",
         "co_applicant_sex_name_Male": "0",
         "co_applicant_sex_name_No co-applicant": "0",
         "co_applicant_sex_name_Not applicable": "0",
         "_deepnote_index_column": "2"
        },
        {
         "tract_to_msamd_income": "146.1699982",
         "rate_spread": "0.0",
         "population": "5032.0",
         "minority_population": "8.590000153",
         "number_of_owner_occupied_units": "1525.0",
         "number_of_1_to_4_family_units": "1820.0",
         "loan_amount_000s": "351",
         "hud_median_family_income": "73300.0",
         "applicant_income_000s": "315.0",
         "census_tract_number": "405.1",
         "as_of_year": "2016",
         "application_date_indicator": "0",
         "loan_approved": "True",
         "applicant_sex_name_Female": "0",
         "applicant_sex_name_Information not provided by applicant in mail, Internet, or telephone application": "0",
         "applicant_sex_name_Male": "1",
         "applicant_sex_name_Not applicable": "0",
         "co_applicant_race_name_3_0": "1",
         "co_applicant_race_name_3_Black or African American": "0",
         "co_applicant_race_name_3_Native Hawaiian or Other Pacific Islander": "0",
         "co_applicant_race_name_3_White": "0",
         "applicant_race_name_4_0": "1",
         "applicant_race_name_4_Asian": "0",
         "applicant_race_name_4_Black or African American": "0",
         "applicant_race_name_4_Native Hawaiian or Other Pacific Islander": "0",
         "applicant_race_name_4_White": "0",
         "agency_abbr_CFPB": "0",
         "agency_abbr_FDIC": "0",
         "agency_abbr_FRS": "0",
         "agency_abbr_HUD": "0",
         "agency_abbr_NCUA": "1",
         "agency_abbr_OCC": "0",
         "applicant_race_name_3_0": "1",
         "applicant_race_name_3_American Indian or Alaska Native": "0",
         "applicant_race_name_3_Asian": "0",
         "applicant_race_name_3_Black or African American": "0",
         "applicant_race_name_3_Native Hawaiian or Other Pacific Islander": "0",
         "applicant_race_name_3_White": "0",
         "co_applicant_race_name_4_0": "1",
         "co_applicant_race_name_4_Native Hawaiian or Other Pacific Islander": "0",
         "co_applicant_race_name_4_White": "0",
         "msamd_name_0": "0",
         "msamd_name_Bellingham - WA": "0",
         "msamd_name_Bremerton, Silverdale - WA": "0",
         "msamd_name_Kennewick, Richland - WA": "0",
         "msamd_name_Lewiston - ID, WA": "0",
         "msamd_name_Longview - WA": "0",
         "msamd_name_Mount Vernon, Anacortes - WA": "0",
         "msamd_name_Olympia, Tumwater - WA": "0",
         "msamd_name_Portland, Vancouver, Hillsboro - OR, WA": "1",
         "msamd_name_Seattle, Bellevue, Everett - WA": "0",
         "msamd_name_Spokane, Spokane Valley - WA": "0",
         "msamd_name_Tacoma, Lakewood - WA": "0",
         "msamd_name_Walla Walla - WA": "0",
         "msamd_name_Wenatchee - WA": "0",
         "msamd_name_Yakima - WA": "0",
         "loan_purpose_name_Home improvement": "0",
         "loan_purpose_name_Home purchase": "0",
         "loan_purpose_name_Refinancing": "1",
         "loan_type_name_Conventional": "1",
         "loan_type_name_FHA-insured": "0",
         "loan_type_name_FSA/RHS-guaranteed": "0",
         "loan_type_name_VA-guaranteed": "0",
         "agency_name_Consumer Financial Protection Bureau": "0",
         "agency_name_Department of Housing and Urban Development": "0",
         "agency_name_Federal Deposit Insurance Corporation": "0",
         "agency_name_Federal Reserve System": "0",
         "agency_name_National Credit Union Administration": "1",
         "agency_name_Office of the Comptroller of the Currency": "0",
         "applicant_ethnicity_name_Hispanic or Latino": "0",
         "applicant_ethnicity_name_Information not provided by applicant in mail, Internet, or telephone application": "1",
         "applicant_ethnicity_name_Not Hispanic or Latino": "0",
         "applicant_ethnicity_name_Not applicable": "0",
         "preapproval_name_Not applicable": "1",
         "preapproval_name_Preapproval was not requested": "0",
         "preapproval_name_Preapproval was requested": "0",
         "co_applicant_race_name_2_0": "1",
         "co_applicant_race_name_2_American Indian or Alaska Native": "0",
         "co_applicant_race_name_2_Asian": "0",
         "co_applicant_race_name_2_Black or African American": "0",
         "co_applicant_race_name_2_Native Hawaiian or Other Pacific Islander": "0",
         "co_applicant_race_name_2_White": "0",
         "applicant_race_name_1_American Indian or Alaska Native": "0",
         "applicant_race_name_1_Asian": "0",
         "applicant_race_name_1_Black or African American": "0",
         "applicant_race_name_1_Information not provided by applicant in mail, Internet, or telephone application": "1",
         "applicant_race_name_1_Native Hawaiian or Other Pacific Islander": "0",
         "applicant_race_name_1_Not applicable": "0",
         "applicant_race_name_1_White": "0",
         "co_applicant_race_name_1_American Indian or Alaska Native": "0",
         "co_applicant_race_name_1_Asian": "0",
         "co_applicant_race_name_1_Black or African American": "0",
         "co_applicant_race_name_1_Information not provided by applicant in mail, Internet, or telephone application": "1",
         "co_applicant_race_name_1_Native Hawaiian or Other Pacific Islander": "0",
         "co_applicant_race_name_1_No co-applicant": "0",
         "co_applicant_race_name_1_Not applicable": "0",
         "co_applicant_race_name_1_White": "0",
         "edit_status_name_0": "1",
         "edit_status_name_Quality edit failure only": "0",
         "owner_occupancy_name_Not applicable": "0",
         "owner_occupancy_name_Not owner-occupied as a principal dwelling": "0",
         "owner_occupancy_name_Owner-occupied as a principal dwelling": "1",
         "co_applicant_ethnicity_name_Hispanic or Latino": "0",
         "co_applicant_ethnicity_name_Information not provided by applicant in mail, Internet, or telephone application": "1",
         "co_applicant_ethnicity_name_No co-applicant": "0",
         "co_applicant_ethnicity_name_Not Hispanic or Latino": "0",
         "co_applicant_ethnicity_name_Not applicable": "0",
         "property_type_name_Manufactured housing": "0",
         "property_type_name_Multifamily dwelling": "0",
         "property_type_name_One-to-four family dwelling (other than manufactured housing)": "1",
         "state_abbr_WA": "1",
         "county_name_0": "0",
         "county_name_Adams County": "0",
         "county_name_Asotin County": "0",
         "county_name_Benton County": "0",
         "county_name_Chelan County": "0",
         "county_name_Clallam County": "0",
         "county_name_Clark County": "1",
         "county_name_Columbia County": "0",
         "county_name_Cowlitz County": "0",
         "county_name_Douglas County": "0",
         "county_name_Ferry County": "0",
         "county_name_Franklin County": "0",
         "county_name_Garfield County": "0",
         "county_name_Grant County": "0",
         "county_name_Grays Harbor County": "0",
         "county_name_Island County": "0",
         "county_name_Jefferson County": "0",
         "county_name_King County": "0",
         "county_name_Kitsap County": "0",
         "county_name_Kittitas County": "0",
         "county_name_Klickitat County": "0",
         "county_name_Lewis County": "0",
         "county_name_Lincoln County": "0",
         "county_name_Mason County": "0",
         "county_name_Okanogan County": "0",
         "county_name_Pacific County": "0",
         "county_name_Pend Oreille County": "0",
         "county_name_Pierce County": "0",
         "county_name_San Juan County": "0",
         "county_name_Skagit County": "0",
         "county_name_Skamania County": "0",
         "county_name_Snohomish County": "0",
         "county_name_Spokane County": "0",
         "county_name_Stevens County": "0",
         "county_name_Thurston County": "0",
         "county_name_Wahkiakum County": "0",
         "county_name_Walla Walla County": "0",
         "county_name_Whatcom County": "0",
         "county_name_Whitman County": "0",
         "county_name_Yakima County": "0",
         "lien_status_name_Not applicable": "0",
         "lien_status_name_Not secured by a lien": "0",
         "lien_status_name_Secured by a first lien": "1",
         "lien_status_name_Secured by a subordinate lien": "0",
         "state_name_Washington": "1",
         "applicant_race_name_5_0": "1",
         "applicant_race_name_5_Asian": "0",
         "applicant_race_name_5_Black or African American": "0",
         "applicant_race_name_5_White": "0",
         "co_applicant_race_name_5_0": "1",
         "co_applicant_race_name_5_White": "0",
         "applicant_race_name_2_0": "1",
         "applicant_race_name_2_American Indian or Alaska Native": "0",
         "applicant_race_name_2_Asian": "0",
         "applicant_race_name_2_Black or African American": "0",
         "applicant_race_name_2_Native Hawaiian or Other Pacific Islander": "0",
         "applicant_race_name_2_White": "0",
         "hoepa_status_name_HOEPA loan": "0",
         "hoepa_status_name_Not a HOEPA loan": "1",
         "co_applicant_sex_name_Female": "1",
         "co_applicant_sex_name_Information not provided by applicant in mail, Internet, or telephone application": "0",
         "co_applicant_sex_name_Male": "0",
         "co_applicant_sex_name_No co-applicant": "0",
         "co_applicant_sex_name_Not applicable": "0",
         "_deepnote_index_column": "3"
        },
        {
         "tract_to_msamd_income": "162.4700012",
         "rate_spread": "0.0",
         "population": "5183.0",
         "minority_population": "10.5",
         "number_of_owner_occupied_units": "1705.0",
         "number_of_1_to_4_family_units": "2104.0",
         "loan_amount_000s": "417",
         "hud_median_family_income": "78100.0",
         "applicant_income_000s": "114.0",
         "census_tract_number": "907.0",
         "as_of_year": "2016",
         "application_date_indicator": "0",
         "loan_approved": "True",
         "applicant_sex_name_Female": "1",
         "applicant_sex_name_Information not provided by applicant in mail, Internet, or telephone application": "0",
         "applicant_sex_name_Male": "0",
         "applicant_sex_name_Not applicable": "0",
         "co_applicant_race_name_3_0": "1",
         "co_applicant_race_name_3_Black or African American": "0",
         "co_applicant_race_name_3_Native Hawaiian or Other Pacific Islander": "0",
         "co_applicant_race_name_3_White": "0",
         "applicant_race_name_4_0": "1",
         "applicant_race_name_4_Asian": "0",
         "applicant_race_name_4_Black or African American": "0",
         "applicant_race_name_4_Native Hawaiian or Other Pacific Islander": "0",
         "applicant_race_name_4_White": "0",
         "agency_abbr_CFPB": "0",
         "agency_abbr_FDIC": "1",
         "agency_abbr_FRS": "0",
         "agency_abbr_HUD": "0",
         "agency_abbr_NCUA": "0",
         "agency_abbr_OCC": "0",
         "applicant_race_name_3_0": "1",
         "applicant_race_name_3_American Indian or Alaska Native": "0",
         "applicant_race_name_3_Asian": "0",
         "applicant_race_name_3_Black or African American": "0",
         "applicant_race_name_3_Native Hawaiian or Other Pacific Islander": "0",
         "applicant_race_name_3_White": "0",
         "co_applicant_race_name_4_0": "1",
         "co_applicant_race_name_4_Native Hawaiian or Other Pacific Islander": "0",
         "co_applicant_race_name_4_White": "0",
         "msamd_name_0": "0",
         "msamd_name_Bellingham - WA": "0",
         "msamd_name_Bremerton, Silverdale - WA": "1",
         "msamd_name_Kennewick, Richland - WA": "0",
         "msamd_name_Lewiston - ID, WA": "0",
         "msamd_name_Longview - WA": "0",
         "msamd_name_Mount Vernon, Anacortes - WA": "0",
         "msamd_name_Olympia, Tumwater - WA": "0",
         "msamd_name_Portland, Vancouver, Hillsboro - OR, WA": "0",
         "msamd_name_Seattle, Bellevue, Everett - WA": "0",
         "msamd_name_Spokane, Spokane Valley - WA": "0",
         "msamd_name_Tacoma, Lakewood - WA": "0",
         "msamd_name_Walla Walla - WA": "0",
         "msamd_name_Wenatchee - WA": "0",
         "msamd_name_Yakima - WA": "0",
         "loan_purpose_name_Home improvement": "1",
         "loan_purpose_name_Home purchase": "0",
         "loan_purpose_name_Refinancing": "0",
         "loan_type_name_Conventional": "1",
         "loan_type_name_FHA-insured": "0",
         "loan_type_name_FSA/RHS-guaranteed": "0",
         "loan_type_name_VA-guaranteed": "0",
         "agency_name_Consumer Financial Protection Bureau": "0",
         "agency_name_Department of Housing and Urban Development": "0",
         "agency_name_Federal Deposit Insurance Corporation": "1",
         "agency_name_Federal Reserve System": "0",
         "agency_name_National Credit Union Administration": "0",
         "agency_name_Office of the Comptroller of the Currency": "0",
         "applicant_ethnicity_name_Hispanic or Latino": "0",
         "applicant_ethnicity_name_Information not provided by applicant in mail, Internet, or telephone application": "0",
         "applicant_ethnicity_name_Not Hispanic or Latino": "1",
         "applicant_ethnicity_name_Not applicable": "0",
         "preapproval_name_Not applicable": "1",
         "preapproval_name_Preapproval was not requested": "0",
         "preapproval_name_Preapproval was requested": "0",
         "co_applicant_race_name_2_0": "1",
         "co_applicant_race_name_2_American Indian or Alaska Native": "0",
         "co_applicant_race_name_2_Asian": "0",
         "co_applicant_race_name_2_Black or African American": "0",
         "co_applicant_race_name_2_Native Hawaiian or Other Pacific Islander": "0",
         "co_applicant_race_name_2_White": "0",
         "applicant_race_name_1_American Indian or Alaska Native": "0",
         "applicant_race_name_1_Asian": "0",
         "applicant_race_name_1_Black or African American": "0",
         "applicant_race_name_1_Information not provided by applicant in mail, Internet, or telephone application": "0",
         "applicant_race_name_1_Native Hawaiian or Other Pacific Islander": "0",
         "applicant_race_name_1_Not applicable": "0",
         "applicant_race_name_1_White": "1",
         "co_applicant_race_name_1_American Indian or Alaska Native": "0",
         "co_applicant_race_name_1_Asian": "0",
         "co_applicant_race_name_1_Black or African American": "0",
         "co_applicant_race_name_1_Information not provided by applicant in mail, Internet, or telephone application": "0",
         "co_applicant_race_name_1_Native Hawaiian or Other Pacific Islander": "0",
         "co_applicant_race_name_1_No co-applicant": "0",
         "co_applicant_race_name_1_Not applicable": "0",
         "co_applicant_race_name_1_White": "1",
         "edit_status_name_0": "1",
         "edit_status_name_Quality edit failure only": "0",
         "owner_occupancy_name_Not applicable": "0",
         "owner_occupancy_name_Not owner-occupied as a principal dwelling": "0",
         "owner_occupancy_name_Owner-occupied as a principal dwelling": "1",
         "co_applicant_ethnicity_name_Hispanic or Latino": "0",
         "co_applicant_ethnicity_name_Information not provided by applicant in mail, Internet, or telephone application": "0",
         "co_applicant_ethnicity_name_No co-applicant": "0",
         "co_applicant_ethnicity_name_Not Hispanic or Latino": "1",
         "co_applicant_ethnicity_name_Not applicable": "0",
         "property_type_name_Manufactured housing": "0",
         "property_type_name_Multifamily dwelling": "0",
         "property_type_name_One-to-four family dwelling (other than manufactured housing)": "1",
         "state_abbr_WA": "1",
         "county_name_0": "0",
         "county_name_Adams County": "0",
         "county_name_Asotin County": "0",
         "county_name_Benton County": "0",
         "county_name_Chelan County": "0",
         "county_name_Clallam County": "0",
         "county_name_Clark County": "0",
         "county_name_Columbia County": "0",
         "county_name_Cowlitz County": "0",
         "county_name_Douglas County": "0",
         "county_name_Ferry County": "0",
         "county_name_Franklin County": "0",
         "county_name_Garfield County": "0",
         "county_name_Grant County": "0",
         "county_name_Grays Harbor County": "0",
         "county_name_Island County": "0",
         "county_name_Jefferson County": "0",
         "county_name_King County": "0",
         "county_name_Kitsap County": "1",
         "county_name_Kittitas County": "0",
         "county_name_Klickitat County": "0",
         "county_name_Lewis County": "0",
         "county_name_Lincoln County": "0",
         "county_name_Mason County": "0",
         "county_name_Okanogan County": "0",
         "county_name_Pacific County": "0",
         "county_name_Pend Oreille County": "0",
         "county_name_Pierce County": "0",
         "county_name_San Juan County": "0",
         "county_name_Skagit County": "0",
         "county_name_Skamania County": "0",
         "county_name_Snohomish County": "0",
         "county_name_Spokane County": "0",
         "county_name_Stevens County": "0",
         "county_name_Thurston County": "0",
         "county_name_Wahkiakum County": "0",
         "county_name_Walla Walla County": "0",
         "county_name_Whatcom County": "0",
         "county_name_Whitman County": "0",
         "county_name_Yakima County": "0",
         "lien_status_name_Not applicable": "0",
         "lien_status_name_Not secured by a lien": "0",
         "lien_status_name_Secured by a first lien": "1",
         "lien_status_name_Secured by a subordinate lien": "0",
         "state_name_Washington": "1",
         "applicant_race_name_5_0": "1",
         "applicant_race_name_5_Asian": "0",
         "applicant_race_name_5_Black or African American": "0",
         "applicant_race_name_5_White": "0",
         "co_applicant_race_name_5_0": "1",
         "co_applicant_race_name_5_White": "0",
         "applicant_race_name_2_0": "1",
         "applicant_race_name_2_American Indian or Alaska Native": "0",
         "applicant_race_name_2_Asian": "0",
         "applicant_race_name_2_Black or African American": "0",
         "applicant_race_name_2_Native Hawaiian or Other Pacific Islander": "0",
         "applicant_race_name_2_White": "0",
         "hoepa_status_name_HOEPA loan": "0",
         "hoepa_status_name_Not a HOEPA loan": "1",
         "co_applicant_sex_name_Female": "0",
         "co_applicant_sex_name_Information not provided by applicant in mail, Internet, or telephone application": "0",
         "co_applicant_sex_name_Male": "1",
         "co_applicant_sex_name_No co-applicant": "0",
         "co_applicant_sex_name_Not applicable": "0",
         "_deepnote_index_column": "4"
        },
        {
         "tract_to_msamd_income": "119.6299973",
         "rate_spread": "0.0",
         "population": "4775.0",
         "minority_population": "18.88999939",
         "number_of_owner_occupied_units": "954.0",
         "number_of_1_to_4_family_units": "1332.0",
         "loan_amount_000s": "206",
         "hud_median_family_income": "72300.0",
         "applicant_income_000s": "0.0",
         "census_tract_number": "734.06",
         "as_of_year": "2016",
         "application_date_indicator": "0",
         "loan_approved": "True",
         "applicant_sex_name_Female": "0",
         "applicant_sex_name_Information not provided by applicant in mail, Internet, or telephone application": "0",
         "applicant_sex_name_Male": "1",
         "applicant_sex_name_Not applicable": "0",
         "co_applicant_race_name_3_0": "1",
         "co_applicant_race_name_3_Black or African American": "0",
         "co_applicant_race_name_3_Native Hawaiian or Other Pacific Islander": "0",
         "co_applicant_race_name_3_White": "0",
         "applicant_race_name_4_0": "1",
         "applicant_race_name_4_Asian": "0",
         "applicant_race_name_4_Black or African American": "0",
         "applicant_race_name_4_Native Hawaiian or Other Pacific Islander": "0",
         "applicant_race_name_4_White": "0",
         "agency_abbr_CFPB": "0",
         "agency_abbr_FDIC": "0",
         "agency_abbr_FRS": "0",
         "agency_abbr_HUD": "0",
         "agency_abbr_NCUA": "0",
         "agency_abbr_OCC": "1",
         "applicant_race_name_3_0": "1",
         "applicant_race_name_3_American Indian or Alaska Native": "0",
         "applicant_race_name_3_Asian": "0",
         "applicant_race_name_3_Black or African American": "0",
         "applicant_race_name_3_Native Hawaiian or Other Pacific Islander": "0",
         "applicant_race_name_3_White": "0",
         "co_applicant_race_name_4_0": "1",
         "co_applicant_race_name_4_Native Hawaiian or Other Pacific Islander": "0",
         "co_applicant_race_name_4_White": "0",
         "msamd_name_0": "0",
         "msamd_name_Bellingham - WA": "0",
         "msamd_name_Bremerton, Silverdale - WA": "0",
         "msamd_name_Kennewick, Richland - WA": "0",
         "msamd_name_Lewiston - ID, WA": "0",
         "msamd_name_Longview - WA": "0",
         "msamd_name_Mount Vernon, Anacortes - WA": "0",
         "msamd_name_Olympia, Tumwater - WA": "0",
         "msamd_name_Portland, Vancouver, Hillsboro - OR, WA": "0",
         "msamd_name_Seattle, Bellevue, Everett - WA": "0",
         "msamd_name_Spokane, Spokane Valley - WA": "0",
         "msamd_name_Tacoma, Lakewood - WA": "1",
         "msamd_name_Walla Walla - WA": "0",
         "msamd_name_Wenatchee - WA": "0",
         "msamd_name_Yakima - WA": "0",
         "loan_purpose_name_Home improvement": "0",
         "loan_purpose_name_Home purchase": "0",
         "loan_purpose_name_Refinancing": "1",
         "loan_type_name_Conventional": "0",
         "loan_type_name_FHA-insured": "0",
         "loan_type_name_FSA/RHS-guaranteed": "0",
         "loan_type_name_VA-guaranteed": "1",
         "agency_name_Consumer Financial Protection Bureau": "0",
         "agency_name_Department of Housing and Urban Development": "0",
         "agency_name_Federal Deposit Insurance Corporation": "0",
         "agency_name_Federal Reserve System": "0",
         "agency_name_National Credit Union Administration": "0",
         "agency_name_Office of the Comptroller of the Currency": "1",
         "applicant_ethnicity_name_Hispanic or Latino": "0",
         "applicant_ethnicity_name_Information not provided by applicant in mail, Internet, or telephone application": "0",
         "applicant_ethnicity_name_Not Hispanic or Latino": "1",
         "applicant_ethnicity_name_Not applicable": "0",
         "preapproval_name_Not applicable": "1",
         "preapproval_name_Preapproval was not requested": "0",
         "preapproval_name_Preapproval was requested": "0",
         "co_applicant_race_name_2_0": "1",
         "co_applicant_race_name_2_American Indian or Alaska Native": "0",
         "co_applicant_race_name_2_Asian": "0",
         "co_applicant_race_name_2_Black or African American": "0",
         "co_applicant_race_name_2_Native Hawaiian or Other Pacific Islander": "0",
         "co_applicant_race_name_2_White": "0",
         "applicant_race_name_1_American Indian or Alaska Native": "0",
         "applicant_race_name_1_Asian": "0",
         "applicant_race_name_1_Black or African American": "0",
         "applicant_race_name_1_Information not provided by applicant in mail, Internet, or telephone application": "0",
         "applicant_race_name_1_Native Hawaiian or Other Pacific Islander": "0",
         "applicant_race_name_1_Not applicable": "0",
         "applicant_race_name_1_White": "1",
         "co_applicant_race_name_1_American Indian or Alaska Native": "0",
         "co_applicant_race_name_1_Asian": "0",
         "co_applicant_race_name_1_Black or African American": "0",
         "co_applicant_race_name_1_Information not provided by applicant in mail, Internet, or telephone application": "0",
         "co_applicant_race_name_1_Native Hawaiian or Other Pacific Islander": "0",
         "co_applicant_race_name_1_No co-applicant": "1",
         "co_applicant_race_name_1_Not applicable": "0",
         "co_applicant_race_name_1_White": "0",
         "edit_status_name_0": "0",
         "edit_status_name_Quality edit failure only": "1",
         "owner_occupancy_name_Not applicable": "0",
         "owner_occupancy_name_Not owner-occupied as a principal dwelling": "0",
         "owner_occupancy_name_Owner-occupied as a principal dwelling": "1",
         "co_applicant_ethnicity_name_Hispanic or Latino": "0",
         "co_applicant_ethnicity_name_Information not provided by applicant in mail, Internet, or telephone application": "0",
         "co_applicant_ethnicity_name_No co-applicant": "1",
         "co_applicant_ethnicity_name_Not Hispanic or Latino": "0",
         "co_applicant_ethnicity_name_Not applicable": "0",
         "property_type_name_Manufactured housing": "0",
         "property_type_name_Multifamily dwelling": "0",
         "property_type_name_One-to-four family dwelling (other than manufactured housing)": "1",
         "state_abbr_WA": "1",
         "county_name_0": "0",
         "county_name_Adams County": "0",
         "county_name_Asotin County": "0",
         "county_name_Benton County": "0",
         "county_name_Chelan County": "0",
         "county_name_Clallam County": "0",
         "county_name_Clark County": "0",
         "county_name_Columbia County": "0",
         "county_name_Cowlitz County": "0",
         "county_name_Douglas County": "0",
         "county_name_Ferry County": "0",
         "county_name_Franklin County": "0",
         "county_name_Garfield County": "0",
         "county_name_Grant County": "0",
         "county_name_Grays Harbor County": "0",
         "county_name_Island County": "0",
         "county_name_Jefferson County": "0",
         "county_name_King County": "0",
         "county_name_Kitsap County": "0",
         "county_name_Kittitas County": "0",
         "county_name_Klickitat County": "0",
         "county_name_Lewis County": "0",
         "county_name_Lincoln County": "0",
         "county_name_Mason County": "0",
         "county_name_Okanogan County": "0",
         "county_name_Pacific County": "0",
         "county_name_Pend Oreille County": "0",
         "county_name_Pierce County": "1",
         "county_name_San Juan County": "0",
         "county_name_Skagit County": "0",
         "county_name_Skamania County": "0",
         "county_name_Snohomish County": "0",
         "county_name_Spokane County": "0",
         "county_name_Stevens County": "0",
         "county_name_Thurston County": "0",
         "county_name_Wahkiakum County": "0",
         "county_name_Walla Walla County": "0",
         "county_name_Whatcom County": "0",
         "county_name_Whitman County": "0",
         "county_name_Yakima County": "0",
         "lien_status_name_Not applicable": "0",
         "lien_status_name_Not secured by a lien": "0",
         "lien_status_name_Secured by a first lien": "1",
         "lien_status_name_Secured by a subordinate lien": "0",
         "state_name_Washington": "1",
         "applicant_race_name_5_0": "1",
         "applicant_race_name_5_Asian": "0",
         "applicant_race_name_5_Black or African American": "0",
         "applicant_race_name_5_White": "0",
         "co_applicant_race_name_5_0": "1",
         "co_applicant_race_name_5_White": "0",
         "applicant_race_name_2_0": "1",
         "applicant_race_name_2_American Indian or Alaska Native": "0",
         "applicant_race_name_2_Asian": "0",
         "applicant_race_name_2_Black or African American": "0",
         "applicant_race_name_2_Native Hawaiian or Other Pacific Islander": "0",
         "applicant_race_name_2_White": "0",
         "hoepa_status_name_HOEPA loan": "0",
         "hoepa_status_name_Not a HOEPA loan": "1",
         "co_applicant_sex_name_Female": "0",
         "co_applicant_sex_name_Information not provided by applicant in mail, Internet, or telephone application": "0",
         "co_applicant_sex_name_Male": "0",
         "co_applicant_sex_name_No co-applicant": "1",
         "co_applicant_sex_name_Not applicable": "0",
         "_deepnote_index_column": "5"
        },
        {
         "tract_to_msamd_income": "103.2099991",
         "rate_spread": "0.0",
         "population": "4745.0",
         "minority_population": "33.06999969",
         "number_of_owner_occupied_units": "1337.0",
         "number_of_1_to_4_family_units": "1442.0",
         "loan_amount_000s": "356",
         "hud_median_family_income": "90300.0",
         "applicant_income_000s": "0.0",
         "census_tract_number": "519.23",
         "as_of_year": "2016",
         "application_date_indicator": "0",
         "loan_approved": "True",
         "applicant_sex_name_Female": "0",
         "applicant_sex_name_Information not provided by applicant in mail, Internet, or telephone application": "0",
         "applicant_sex_name_Male": "1",
         "applicant_sex_name_Not applicable": "0",
         "co_applicant_race_name_3_0": "1",
         "co_applicant_race_name_3_Black or African American": "0",
         "co_applicant_race_name_3_Native Hawaiian or Other Pacific Islander": "0",
         "co_applicant_race_name_3_White": "0",
         "applicant_race_name_4_0": "1",
         "applicant_race_name_4_Asian": "0",
         "applicant_race_name_4_Black or African American": "0",
         "applicant_race_name_4_Native Hawaiian or Other Pacific Islander": "0",
         "applicant_race_name_4_White": "0",
         "agency_abbr_CFPB": "0",
         "agency_abbr_FDIC": "0",
         "agency_abbr_FRS": "0",
         "agency_abbr_HUD": "1",
         "agency_abbr_NCUA": "0",
         "agency_abbr_OCC": "0",
         "applicant_race_name_3_0": "1",
         "applicant_race_name_3_American Indian or Alaska Native": "0",
         "applicant_race_name_3_Asian": "0",
         "applicant_race_name_3_Black or African American": "0",
         "applicant_race_name_3_Native Hawaiian or Other Pacific Islander": "0",
         "applicant_race_name_3_White": "0",
         "co_applicant_race_name_4_0": "1",
         "co_applicant_race_name_4_Native Hawaiian or Other Pacific Islander": "0",
         "co_applicant_race_name_4_White": "0",
         "msamd_name_0": "0",
         "msamd_name_Bellingham - WA": "0",
         "msamd_name_Bremerton, Silverdale - WA": "0",
         "msamd_name_Kennewick, Richland - WA": "0",
         "msamd_name_Lewiston - ID, WA": "0",
         "msamd_name_Longview - WA": "0",
         "msamd_name_Mount Vernon, Anacortes - WA": "0",
         "msamd_name_Olympia, Tumwater - WA": "0",
         "msamd_name_Portland, Vancouver, Hillsboro - OR, WA": "0",
         "msamd_name_Seattle, Bellevue, Everett - WA": "1",
         "msamd_name_Spokane, Spokane Valley - WA": "0",
         "msamd_name_Tacoma, Lakewood - WA": "0",
         "msamd_name_Walla Walla - WA": "0",
         "msamd_name_Wenatchee - WA": "0",
         "msamd_name_Yakima - WA": "0",
         "loan_purpose_name_Home improvement": "0",
         "loan_purpose_name_Home purchase": "0",
         "loan_purpose_name_Refinancing": "1",
         "loan_type_name_Conventional": "0",
         "loan_type_name_FHA-insured": "0",
         "loan_type_name_FSA/RHS-guaranteed": "0",
         "loan_type_name_VA-guaranteed": "1",
         "agency_name_Consumer Financial Protection Bureau": "0",
         "agency_name_Department of Housing and Urban Development": "1",
         "agency_name_Federal Deposit Insurance Corporation": "0",
         "agency_name_Federal Reserve System": "0",
         "agency_name_National Credit Union Administration": "0",
         "agency_name_Office of the Comptroller of the Currency": "0",
         "applicant_ethnicity_name_Hispanic or Latino": "0",
         "applicant_ethnicity_name_Information not provided by applicant in mail, Internet, or telephone application": "0",
         "applicant_ethnicity_name_Not Hispanic or Latino": "1",
         "applicant_ethnicity_name_Not applicable": "0",
         "preapproval_name_Not applicable": "1",
         "preapproval_name_Preapproval was not requested": "0",
         "preapproval_name_Preapproval was requested": "0",
         "co_applicant_race_name_2_0": "1",
         "co_applicant_race_name_2_American Indian or Alaska Native": "0",
         "co_applicant_race_name_2_Asian": "0",
         "co_applicant_race_name_2_Black or African American": "0",
         "co_applicant_race_name_2_Native Hawaiian or Other Pacific Islander": "0",
         "co_applicant_race_name_2_White": "0",
         "applicant_race_name_1_American Indian or Alaska Native": "0",
         "applicant_race_name_1_Asian": "0",
         "applicant_race_name_1_Black or African American": "0",
         "applicant_race_name_1_Information not provided by applicant in mail, Internet, or telephone application": "0",
         "applicant_race_name_1_Native Hawaiian or Other Pacific Islander": "0",
         "applicant_race_name_1_Not applicable": "0",
         "applicant_race_name_1_White": "1",
         "co_applicant_race_name_1_American Indian or Alaska Native": "0",
         "co_applicant_race_name_1_Asian": "0",
         "co_applicant_race_name_1_Black or African American": "0",
         "co_applicant_race_name_1_Information not provided by applicant in mail, Internet, or telephone application": "0",
         "co_applicant_race_name_1_Native Hawaiian or Other Pacific Islander": "0",
         "co_applicant_race_name_1_No co-applicant": "1",
         "co_applicant_race_name_1_Not applicable": "0",
         "co_applicant_race_name_1_White": "0",
         "edit_status_name_0": "0",
         "edit_status_name_Quality edit failure only": "1",
         "owner_occupancy_name_Not applicable": "0",
         "owner_occupancy_name_Not owner-occupied as a principal dwelling": "0",
         "owner_occupancy_name_Owner-occupied as a principal dwelling": "1",
         "co_applicant_ethnicity_name_Hispanic or Latino": "0",
         "co_applicant_ethnicity_name_Information not provided by applicant in mail, Internet, or telephone application": "0",
         "co_applicant_ethnicity_name_No co-applicant": "1",
         "co_applicant_ethnicity_name_Not Hispanic or Latino": "0",
         "co_applicant_ethnicity_name_Not applicable": "0",
         "property_type_name_Manufactured housing": "0",
         "property_type_name_Multifamily dwelling": "0",
         "property_type_name_One-to-four family dwelling (other than manufactured housing)": "1",
         "state_abbr_WA": "1",
         "county_name_0": "0",
         "county_name_Adams County": "0",
         "county_name_Asotin County": "0",
         "county_name_Benton County": "0",
         "county_name_Chelan County": "0",
         "county_name_Clallam County": "0",
         "county_name_Clark County": "0",
         "county_name_Columbia County": "0",
         "county_name_Cowlitz County": "0",
         "county_name_Douglas County": "0",
         "county_name_Ferry County": "0",
         "county_name_Franklin County": "0",
         "county_name_Garfield County": "0",
         "county_name_Grant County": "0",
         "county_name_Grays Harbor County": "0",
         "county_name_Island County": "0",
         "county_name_Jefferson County": "0",
         "county_name_King County": "0",
         "county_name_Kitsap County": "0",
         "county_name_Kittitas County": "0",
         "county_name_Klickitat County": "0",
         "county_name_Lewis County": "0",
         "county_name_Lincoln County": "0",
         "county_name_Mason County": "0",
         "county_name_Okanogan County": "0",
         "county_name_Pacific County": "0",
         "county_name_Pend Oreille County": "0",
         "county_name_Pierce County": "0",
         "county_name_San Juan County": "0",
         "county_name_Skagit County": "0",
         "county_name_Skamania County": "0",
         "county_name_Snohomish County": "1",
         "county_name_Spokane County": "0",
         "county_name_Stevens County": "0",
         "county_name_Thurston County": "0",
         "county_name_Wahkiakum County": "0",
         "county_name_Walla Walla County": "0",
         "county_name_Whatcom County": "0",
         "county_name_Whitman County": "0",
         "county_name_Yakima County": "0",
         "lien_status_name_Not applicable": "0",
         "lien_status_name_Not secured by a lien": "0",
         "lien_status_name_Secured by a first lien": "1",
         "lien_status_name_Secured by a subordinate lien": "0",
         "state_name_Washington": "1",
         "applicant_race_name_5_0": "1",
         "applicant_race_name_5_Asian": "0",
         "applicant_race_name_5_Black or African American": "0",
         "applicant_race_name_5_White": "0",
         "co_applicant_race_name_5_0": "1",
         "co_applicant_race_name_5_White": "0",
         "applicant_race_name_2_0": "1",
         "applicant_race_name_2_American Indian or Alaska Native": "0",
         "applicant_race_name_2_Asian": "0",
         "applicant_race_name_2_Black or African American": "0",
         "applicant_race_name_2_Native Hawaiian or Other Pacific Islander": "0",
         "applicant_race_name_2_White": "0",
         "hoepa_status_name_HOEPA loan": "0",
         "hoepa_status_name_Not a HOEPA loan": "1",
         "co_applicant_sex_name_Female": "0",
         "co_applicant_sex_name_Information not provided by applicant in mail, Internet, or telephone application": "0",
         "co_applicant_sex_name_Male": "0",
         "co_applicant_sex_name_No co-applicant": "1",
         "co_applicant_sex_name_Not applicable": "0",
         "_deepnote_index_column": "6"
        },
        {
         "tract_to_msamd_income": "93.76999664",
         "rate_spread": "0.0",
         "population": "7451.0",
         "minority_population": "33.40000153",
         "number_of_owner_occupied_units": "1761.0",
         "number_of_1_to_4_family_units": "2478.0",
         "loan_amount_000s": "265",
         "hud_median_family_income": "72300.0",
         "applicant_income_000s": "0.0",
         "census_tract_number": "731.08",
         "as_of_year": "2016",
         "application_date_indicator": "0",
         "loan_approved": "True",
         "applicant_sex_name_Female": "0",
         "applicant_sex_name_Information not provided by applicant in mail, Internet, or telephone application": "0",
         "applicant_sex_name_Male": "1",
         "applicant_sex_name_Not applicable": "0",
         "co_applicant_race_name_3_0": "1",
         "co_applicant_race_name_3_Black or African American": "0",
         "co_applicant_race_name_3_Native Hawaiian or Other Pacific Islander": "0",
         "co_applicant_race_name_3_White": "0",
         "applicant_race_name_4_0": "1",
         "applicant_race_name_4_Asian": "0",
         "applicant_race_name_4_Black or African American": "0",
         "applicant_race_name_4_Native Hawaiian or Other Pacific Islander": "0",
         "applicant_race_name_4_White": "0",
         "agency_abbr_CFPB": "1",
         "agency_abbr_FDIC": "0",
         "agency_abbr_FRS": "0",
         "agency_abbr_HUD": "0",
         "agency_abbr_NCUA": "0",
         "agency_abbr_OCC": "0",
         "applicant_race_name_3_0": "1",
         "applicant_race_name_3_American Indian or Alaska Native": "0",
         "applicant_race_name_3_Asian": "0",
         "applicant_race_name_3_Black or African American": "0",
         "applicant_race_name_3_Native Hawaiian or Other Pacific Islander": "0",
         "applicant_race_name_3_White": "0",
         "co_applicant_race_name_4_0": "1",
         "co_applicant_race_name_4_Native Hawaiian or Other Pacific Islander": "0",
         "co_applicant_race_name_4_White": "0",
         "msamd_name_0": "0",
         "msamd_name_Bellingham - WA": "0",
         "msamd_name_Bremerton, Silverdale - WA": "0",
         "msamd_name_Kennewick, Richland - WA": "0",
         "msamd_name_Lewiston - ID, WA": "0",
         "msamd_name_Longview - WA": "0",
         "msamd_name_Mount Vernon, Anacortes - WA": "0",
         "msamd_name_Olympia, Tumwater - WA": "0",
         "msamd_name_Portland, Vancouver, Hillsboro - OR, WA": "0",
         "msamd_name_Seattle, Bellevue, Everett - WA": "0",
         "msamd_name_Spokane, Spokane Valley - WA": "0",
         "msamd_name_Tacoma, Lakewood - WA": "1",
         "msamd_name_Walla Walla - WA": "0",
         "msamd_name_Wenatchee - WA": "0",
         "msamd_name_Yakima - WA": "0",
         "loan_purpose_name_Home improvement": "0",
         "loan_purpose_name_Home purchase": "0",
         "loan_purpose_name_Refinancing": "1",
         "loan_type_name_Conventional": "0",
         "loan_type_name_FHA-insured": "0",
         "loan_type_name_FSA/RHS-guaranteed": "0",
         "loan_type_name_VA-guaranteed": "1",
         "agency_name_Consumer Financial Protection Bureau": "1",
         "agency_name_Department of Housing and Urban Development": "0",
         "agency_name_Federal Deposit Insurance Corporation": "0",
         "agency_name_Federal Reserve System": "0",
         "agency_name_National Credit Union Administration": "0",
         "agency_name_Office of the Comptroller of the Currency": "0",
         "applicant_ethnicity_name_Hispanic or Latino": "0",
         "applicant_ethnicity_name_Information not provided by applicant in mail, Internet, or telephone application": "0",
         "applicant_ethnicity_name_Not Hispanic or Latino": "1",
         "applicant_ethnicity_name_Not applicable": "0",
         "preapproval_name_Not applicable": "1",
         "preapproval_name_Preapproval was not requested": "0",
         "preapproval_name_Preapproval was requested": "0",
         "co_applicant_race_name_2_0": "1",
         "co_applicant_race_name_2_American Indian or Alaska Native": "0",
         "co_applicant_race_name_2_Asian": "0",
         "co_applicant_race_name_2_Black or African American": "0",
         "co_applicant_race_name_2_Native Hawaiian or Other Pacific Islander": "0",
         "co_applicant_race_name_2_White": "0",
         "applicant_race_name_1_American Indian or Alaska Native": "0",
         "applicant_race_name_1_Asian": "0",
         "applicant_race_name_1_Black or African American": "0",
         "applicant_race_name_1_Information not provided by applicant in mail, Internet, or telephone application": "0",
         "applicant_race_name_1_Native Hawaiian or Other Pacific Islander": "0",
         "applicant_race_name_1_Not applicable": "0",
         "applicant_race_name_1_White": "1",
         "co_applicant_race_name_1_American Indian or Alaska Native": "0",
         "co_applicant_race_name_1_Asian": "0",
         "co_applicant_race_name_1_Black or African American": "0",
         "co_applicant_race_name_1_Information not provided by applicant in mail, Internet, or telephone application": "0",
         "co_applicant_race_name_1_Native Hawaiian or Other Pacific Islander": "0",
         "co_applicant_race_name_1_No co-applicant": "0",
         "co_applicant_race_name_1_Not applicable": "0",
         "co_applicant_race_name_1_White": "1",
         "edit_status_name_0": "0",
         "edit_status_name_Quality edit failure only": "1",
         "owner_occupancy_name_Not applicable": "0",
         "owner_occupancy_name_Not owner-occupied as a principal dwelling": "0",
         "owner_occupancy_name_Owner-occupied as a principal dwelling": "1",
         "co_applicant_ethnicity_name_Hispanic or Latino": "0",
         "co_applicant_ethnicity_name_Information not provided by applicant in mail, Internet, or telephone application": "0",
         "co_applicant_ethnicity_name_No co-applicant": "0",
         "co_applicant_ethnicity_name_Not Hispanic or Latino": "1",
         "co_applicant_ethnicity_name_Not applicable": "0",
         "property_type_name_Manufactured housing": "0",
         "property_type_name_Multifamily dwelling": "0",
         "property_type_name_One-to-four family dwelling (other than manufactured housing)": "1",
         "state_abbr_WA": "1",
         "county_name_0": "0",
         "county_name_Adams County": "0",
         "county_name_Asotin County": "0",
         "county_name_Benton County": "0",
         "county_name_Chelan County": "0",
         "county_name_Clallam County": "0",
         "county_name_Clark County": "0",
         "county_name_Columbia County": "0",
         "county_name_Cowlitz County": "0",
         "county_name_Douglas County": "0",
         "county_name_Ferry County": "0",
         "county_name_Franklin County": "0",
         "county_name_Garfield County": "0",
         "county_name_Grant County": "0",
         "county_name_Grays Harbor County": "0",
         "county_name_Island County": "0",
         "county_name_Jefferson County": "0",
         "county_name_King County": "0",
         "county_name_Kitsap County": "0",
         "county_name_Kittitas County": "0",
         "county_name_Klickitat County": "0",
         "county_name_Lewis County": "0",
         "county_name_Lincoln County": "0",
         "county_name_Mason County": "0",
         "county_name_Okanogan County": "0",
         "county_name_Pacific County": "0",
         "county_name_Pend Oreille County": "0",
         "county_name_Pierce County": "1",
         "county_name_San Juan County": "0",
         "county_name_Skagit County": "0",
         "county_name_Skamania County": "0",
         "county_name_Snohomish County": "0",
         "county_name_Spokane County": "0",
         "county_name_Stevens County": "0",
         "county_name_Thurston County": "0",
         "county_name_Wahkiakum County": "0",
         "county_name_Walla Walla County": "0",
         "county_name_Whatcom County": "0",
         "county_name_Whitman County": "0",
         "county_name_Yakima County": "0",
         "lien_status_name_Not applicable": "0",
         "lien_status_name_Not secured by a lien": "0",
         "lien_status_name_Secured by a first lien": "1",
         "lien_status_name_Secured by a subordinate lien": "0",
         "state_name_Washington": "1",
         "applicant_race_name_5_0": "1",
         "applicant_race_name_5_Asian": "0",
         "applicant_race_name_5_Black or African American": "0",
         "applicant_race_name_5_White": "0",
         "co_applicant_race_name_5_0": "1",
         "co_applicant_race_name_5_White": "0",
         "applicant_race_name_2_0": "1",
         "applicant_race_name_2_American Indian or Alaska Native": "0",
         "applicant_race_name_2_Asian": "0",
         "applicant_race_name_2_Black or African American": "0",
         "applicant_race_name_2_Native Hawaiian or Other Pacific Islander": "0",
         "applicant_race_name_2_White": "0",
         "hoepa_status_name_HOEPA loan": "0",
         "hoepa_status_name_Not a HOEPA loan": "1",
         "co_applicant_sex_name_Female": "1",
         "co_applicant_sex_name_Information not provided by applicant in mail, Internet, or telephone application": "0",
         "co_applicant_sex_name_Male": "0",
         "co_applicant_sex_name_No co-applicant": "0",
         "co_applicant_sex_name_Not applicable": "0",
         "_deepnote_index_column": "7"
        },
        {
         "tract_to_msamd_income": "109.5800018",
         "rate_spread": "0.0",
         "population": "6567.0",
         "minority_population": "21.70999908",
         "number_of_owner_occupied_units": "1130.0",
         "number_of_1_to_4_family_units": "1579.0",
         "loan_amount_000s": "131",
         "hud_median_family_income": "73600.0",
         "applicant_income_000s": "0.0",
         "census_tract_number": "109.1",
         "as_of_year": "2016",
         "application_date_indicator": "0",
         "loan_approved": "True",
         "applicant_sex_name_Female": "0",
         "applicant_sex_name_Information not provided by applicant in mail, Internet, or telephone application": "0",
         "applicant_sex_name_Male": "1",
         "applicant_sex_name_Not applicable": "0",
         "co_applicant_race_name_3_0": "1",
         "co_applicant_race_name_3_Black or African American": "0",
         "co_applicant_race_name_3_Native Hawaiian or Other Pacific Islander": "0",
         "co_applicant_race_name_3_White": "0",
         "applicant_race_name_4_0": "1",
         "applicant_race_name_4_Asian": "0",
         "applicant_race_name_4_Black or African American": "0",
         "applicant_race_name_4_Native Hawaiian or Other Pacific Islander": "0",
         "applicant_race_name_4_White": "0",
         "agency_abbr_CFPB": "0",
         "agency_abbr_FDIC": "0",
         "agency_abbr_FRS": "0",
         "agency_abbr_HUD": "1",
         "agency_abbr_NCUA": "0",
         "agency_abbr_OCC": "0",
         "applicant_race_name_3_0": "1",
         "applicant_race_name_3_American Indian or Alaska Native": "0",
         "applicant_race_name_3_Asian": "0",
         "applicant_race_name_3_Black or African American": "0",
         "applicant_race_name_3_Native Hawaiian or Other Pacific Islander": "0",
         "applicant_race_name_3_White": "0",
         "co_applicant_race_name_4_0": "1",
         "co_applicant_race_name_4_Native Hawaiian or Other Pacific Islander": "0",
         "co_applicant_race_name_4_White": "0",
         "msamd_name_0": "0",
         "msamd_name_Bellingham - WA": "0",
         "msamd_name_Bremerton, Silverdale - WA": "0",
         "msamd_name_Kennewick, Richland - WA": "0",
         "msamd_name_Lewiston - ID, WA": "0",
         "msamd_name_Longview - WA": "0",
         "msamd_name_Mount Vernon, Anacortes - WA": "0",
         "msamd_name_Olympia, Tumwater - WA": "1",
         "msamd_name_Portland, Vancouver, Hillsboro - OR, WA": "0",
         "msamd_name_Seattle, Bellevue, Everett - WA": "0",
         "msamd_name_Spokane, Spokane Valley - WA": "0",
         "msamd_name_Tacoma, Lakewood - WA": "0",
         "msamd_name_Walla Walla - WA": "0",
         "msamd_name_Wenatchee - WA": "0",
         "msamd_name_Yakima - WA": "0",
         "loan_purpose_name_Home improvement": "0",
         "loan_purpose_name_Home purchase": "0",
         "loan_purpose_name_Refinancing": "1",
         "loan_type_name_Conventional": "0",
         "loan_type_name_FHA-insured": "1",
         "loan_type_name_FSA/RHS-guaranteed": "0",
         "loan_type_name_VA-guaranteed": "0",
         "agency_name_Consumer Financial Protection Bureau": "0",
         "agency_name_Department of Housing and Urban Development": "1",
         "agency_name_Federal Deposit Insurance Corporation": "0",
         "agency_name_Federal Reserve System": "0",
         "agency_name_National Credit Union Administration": "0",
         "agency_name_Office of the Comptroller of the Currency": "0",
         "applicant_ethnicity_name_Hispanic or Latino": "0",
         "applicant_ethnicity_name_Information not provided by applicant in mail, Internet, or telephone application": "0",
         "applicant_ethnicity_name_Not Hispanic or Latino": "1",
         "applicant_ethnicity_name_Not applicable": "0",
         "preapproval_name_Not applicable": "1",
         "preapproval_name_Preapproval was not requested": "0",
         "preapproval_name_Preapproval was requested": "0",
         "co_applicant_race_name_2_0": "1",
         "co_applicant_race_name_2_American Indian or Alaska Native": "0",
         "co_applicant_race_name_2_Asian": "0",
         "co_applicant_race_name_2_Black or African American": "0",
         "co_applicant_race_name_2_Native Hawaiian or Other Pacific Islander": "0",
         "co_applicant_race_name_2_White": "0",
         "applicant_race_name_1_American Indian or Alaska Native": "0",
         "applicant_race_name_1_Asian": "0",
         "applicant_race_name_1_Black or African American": "0",
         "applicant_race_name_1_Information not provided by applicant in mail, Internet, or telephone application": "0",
         "applicant_race_name_1_Native Hawaiian or Other Pacific Islander": "0",
         "applicant_race_name_1_Not applicable": "0",
         "applicant_race_name_1_White": "1",
         "co_applicant_race_name_1_American Indian or Alaska Native": "0",
         "co_applicant_race_name_1_Asian": "0",
         "co_applicant_race_name_1_Black or African American": "0",
         "co_applicant_race_name_1_Information not provided by applicant in mail, Internet, or telephone application": "0",
         "co_applicant_race_name_1_Native Hawaiian or Other Pacific Islander": "0",
         "co_applicant_race_name_1_No co-applicant": "1",
         "co_applicant_race_name_1_Not applicable": "0",
         "co_applicant_race_name_1_White": "0",
         "edit_status_name_0": "0",
         "edit_status_name_Quality edit failure only": "1",
         "owner_occupancy_name_Not applicable": "0",
         "owner_occupancy_name_Not owner-occupied as a principal dwelling": "0",
         "owner_occupancy_name_Owner-occupied as a principal dwelling": "1",
         "co_applicant_ethnicity_name_Hispanic or Latino": "0",
         "co_applicant_ethnicity_name_Information not provided by applicant in mail, Internet, or telephone application": "0",
         "co_applicant_ethnicity_name_No co-applicant": "1",
         "co_applicant_ethnicity_name_Not Hispanic or Latino": "0",
         "co_applicant_ethnicity_name_Not applicable": "0",
         "property_type_name_Manufactured housing": "0",
         "property_type_name_Multifamily dwelling": "0",
         "property_type_name_One-to-four family dwelling (other than manufactured housing)": "1",
         "state_abbr_WA": "1",
         "county_name_0": "0",
         "county_name_Adams County": "0",
         "county_name_Asotin County": "0",
         "county_name_Benton County": "0",
         "county_name_Chelan County": "0",
         "county_name_Clallam County": "0",
         "county_name_Clark County": "0",
         "county_name_Columbia County": "0",
         "county_name_Cowlitz County": "0",
         "county_name_Douglas County": "0",
         "county_name_Ferry County": "0",
         "county_name_Franklin County": "0",
         "county_name_Garfield County": "0",
         "county_name_Grant County": "0",
         "county_name_Grays Harbor County": "0",
         "county_name_Island County": "0",
         "county_name_Jefferson County": "0",
         "county_name_King County": "0",
         "county_name_Kitsap County": "0",
         "county_name_Kittitas County": "0",
         "county_name_Klickitat County": "0",
         "county_name_Lewis County": "0",
         "county_name_Lincoln County": "0",
         "county_name_Mason County": "0",
         "county_name_Okanogan County": "0",
         "county_name_Pacific County": "0",
         "county_name_Pend Oreille County": "0",
         "county_name_Pierce County": "0",
         "county_name_San Juan County": "0",
         "county_name_Skagit County": "0",
         "county_name_Skamania County": "0",
         "county_name_Snohomish County": "0",
         "county_name_Spokane County": "0",
         "county_name_Stevens County": "0",
         "county_name_Thurston County": "1",
         "county_name_Wahkiakum County": "0",
         "county_name_Walla Walla County": "0",
         "county_name_Whatcom County": "0",
         "county_name_Whitman County": "0",
         "county_name_Yakima County": "0",
         "lien_status_name_Not applicable": "0",
         "lien_status_name_Not secured by a lien": "0",
         "lien_status_name_Secured by a first lien": "1",
         "lien_status_name_Secured by a subordinate lien": "0",
         "state_name_Washington": "1",
         "applicant_race_name_5_0": "1",
         "applicant_race_name_5_Asian": "0",
         "applicant_race_name_5_Black or African American": "0",
         "applicant_race_name_5_White": "0",
         "co_applicant_race_name_5_0": "1",
         "co_applicant_race_name_5_White": "0",
         "applicant_race_name_2_0": "1",
         "applicant_race_name_2_American Indian or Alaska Native": "0",
         "applicant_race_name_2_Asian": "0",
         "applicant_race_name_2_Black or African American": "0",
         "applicant_race_name_2_Native Hawaiian or Other Pacific Islander": "0",
         "applicant_race_name_2_White": "0",
         "hoepa_status_name_HOEPA loan": "0",
         "hoepa_status_name_Not a HOEPA loan": "1",
         "co_applicant_sex_name_Female": "0",
         "co_applicant_sex_name_Information not provided by applicant in mail, Internet, or telephone application": "0",
         "co_applicant_sex_name_Male": "0",
         "co_applicant_sex_name_No co-applicant": "1",
         "co_applicant_sex_name_Not applicable": "0",
         "_deepnote_index_column": "8"
        },
        {
         "tract_to_msamd_income": "87.16000366",
         "rate_spread": "0.0",
         "population": "9326.0",
         "minority_population": "19.39999962",
         "number_of_owner_occupied_units": "2449.0",
         "number_of_1_to_4_family_units": "3403.0",
         "loan_amount_000s": "199",
         "hud_median_family_income": "61400.0",
         "applicant_income_000s": "37.0",
         "census_tract_number": "9515.0",
         "as_of_year": "2016",
         "application_date_indicator": "0",
         "loan_approved": "True",
         "applicant_sex_name_Female": "0",
         "applicant_sex_name_Information not provided by applicant in mail, Internet, or telephone application": "0",
         "applicant_sex_name_Male": "1",
         "applicant_sex_name_Not applicable": "0",
         "co_applicant_race_name_3_0": "1",
         "co_applicant_race_name_3_Black or African American": "0",
         "co_applicant_race_name_3_Native Hawaiian or Other Pacific Islander": "0",
         "co_applicant_race_name_3_White": "0",
         "applicant_race_name_4_0": "1",
         "applicant_race_name_4_Asian": "0",
         "applicant_race_name_4_Black or African American": "0",
         "applicant_race_name_4_Native Hawaiian or Other Pacific Islander": "0",
         "applicant_race_name_4_White": "0",
         "agency_abbr_CFPB": "0",
         "agency_abbr_FDIC": "1",
         "agency_abbr_FRS": "0",
         "agency_abbr_HUD": "0",
         "agency_abbr_NCUA": "0",
         "agency_abbr_OCC": "0",
         "applicant_race_name_3_0": "1",
         "applicant_race_name_3_American Indian or Alaska Native": "0",
         "applicant_race_name_3_Asian": "0",
         "applicant_race_name_3_Black or African American": "0",
         "applicant_race_name_3_Native Hawaiian or Other Pacific Islander": "0",
         "applicant_race_name_3_White": "0",
         "co_applicant_race_name_4_0": "1",
         "co_applicant_race_name_4_Native Hawaiian or Other Pacific Islander": "0",
         "co_applicant_race_name_4_White": "0",
         "msamd_name_0": "0",
         "msamd_name_Bellingham - WA": "0",
         "msamd_name_Bremerton, Silverdale - WA": "0",
         "msamd_name_Kennewick, Richland - WA": "0",
         "msamd_name_Lewiston - ID, WA": "0",
         "msamd_name_Longview - WA": "0",
         "msamd_name_Mount Vernon, Anacortes - WA": "1",
         "msamd_name_Olympia, Tumwater - WA": "0",
         "msamd_name_Portland, Vancouver, Hillsboro - OR, WA": "0",
         "msamd_name_Seattle, Bellevue, Everett - WA": "0",
         "msamd_name_Spokane, Spokane Valley - WA": "0",
         "msamd_name_Tacoma, Lakewood - WA": "0",
         "msamd_name_Walla Walla - WA": "0",
         "msamd_name_Wenatchee - WA": "0",
         "msamd_name_Yakima - WA": "0",
         "loan_purpose_name_Home improvement": "0",
         "loan_purpose_name_Home purchase": "1",
         "loan_purpose_name_Refinancing": "0",
         "loan_type_name_Conventional": "1",
         "loan_type_name_FHA-insured": "0",
         "loan_type_name_FSA/RHS-guaranteed": "0",
         "loan_type_name_VA-guaranteed": "0",
         "agency_name_Consumer Financial Protection Bureau": "0",
         "agency_name_Department of Housing and Urban Development": "0",
         "agency_name_Federal Deposit Insurance Corporation": "1",
         "agency_name_Federal Reserve System": "0",
         "agency_name_National Credit Union Administration": "0",
         "agency_name_Office of the Comptroller of the Currency": "0",
         "applicant_ethnicity_name_Hispanic or Latino": "0",
         "applicant_ethnicity_name_Information not provided by applicant in mail, Internet, or telephone application": "0",
         "applicant_ethnicity_name_Not Hispanic or Latino": "1",
         "applicant_ethnicity_name_Not applicable": "0",
         "preapproval_name_Not applicable": "0",
         "preapproval_name_Preapproval was not requested": "1",
         "preapproval_name_Preapproval was requested": "0",
         "co_applicant_race_name_2_0": "1",
         "co_applicant_race_name_2_American Indian or Alaska Native": "0",
         "co_applicant_race_name_2_Asian": "0",
         "co_applicant_race_name_2_Black or African American": "0",
         "co_applicant_race_name_2_Native Hawaiian or Other Pacific Islander": "0",
         "co_applicant_race_name_2_White": "0",
         "applicant_race_name_1_American Indian or Alaska Native": "0",
         "applicant_race_name_1_Asian": "0",
         "applicant_race_name_1_Black or African American": "0",
         "applicant_race_name_1_Information not provided by applicant in mail, Internet, or telephone application": "0",
         "applicant_race_name_1_Native Hawaiian or Other Pacific Islander": "0",
         "applicant_race_name_1_Not applicable": "0",
         "applicant_race_name_1_White": "1",
         "co_applicant_race_name_1_American Indian or Alaska Native": "0",
         "co_applicant_race_name_1_Asian": "0",
         "co_applicant_race_name_1_Black or African American": "0",
         "co_applicant_race_name_1_Information not provided by applicant in mail, Internet, or telephone application": "0",
         "co_applicant_race_name_1_Native Hawaiian or Other Pacific Islander": "0",
         "co_applicant_race_name_1_No co-applicant": "1",
         "co_applicant_race_name_1_Not applicable": "0",
         "co_applicant_race_name_1_White": "0",
         "edit_status_name_0": "1",
         "edit_status_name_Quality edit failure only": "0",
         "owner_occupancy_name_Not applicable": "0",
         "owner_occupancy_name_Not owner-occupied as a principal dwelling": "0",
         "owner_occupancy_name_Owner-occupied as a principal dwelling": "1",
         "co_applicant_ethnicity_name_Hispanic or Latino": "0",
         "co_applicant_ethnicity_name_Information not provided by applicant in mail, Internet, or telephone application": "0",
         "co_applicant_ethnicity_name_No co-applicant": "1",
         "co_applicant_ethnicity_name_Not Hispanic or Latino": "0",
         "co_applicant_ethnicity_name_Not applicable": "0",
         "property_type_name_Manufactured housing": "0",
         "property_type_name_Multifamily dwelling": "0",
         "property_type_name_One-to-four family dwelling (other than manufactured housing)": "1",
         "state_abbr_WA": "1",
         "county_name_0": "0",
         "county_name_Adams County": "0",
         "county_name_Asotin County": "0",
         "county_name_Benton County": "0",
         "county_name_Chelan County": "0",
         "county_name_Clallam County": "0",
         "county_name_Clark County": "0",
         "county_name_Columbia County": "0",
         "county_name_Cowlitz County": "0",
         "county_name_Douglas County": "0",
         "county_name_Ferry County": "0",
         "county_name_Franklin County": "0",
         "county_name_Garfield County": "0",
         "county_name_Grant County": "0",
         "county_name_Grays Harbor County": "0",
         "county_name_Island County": "0",
         "county_name_Jefferson County": "0",
         "county_name_King County": "0",
         "county_name_Kitsap County": "0",
         "county_name_Kittitas County": "0",
         "county_name_Klickitat County": "0",
         "county_name_Lewis County": "0",
         "county_name_Lincoln County": "0",
         "county_name_Mason County": "0",
         "county_name_Okanogan County": "0",
         "county_name_Pacific County": "0",
         "county_name_Pend Oreille County": "0",
         "county_name_Pierce County": "0",
         "county_name_San Juan County": "0",
         "county_name_Skagit County": "1",
         "county_name_Skamania County": "0",
         "county_name_Snohomish County": "0",
         "county_name_Spokane County": "0",
         "county_name_Stevens County": "0",
         "county_name_Thurston County": "0",
         "county_name_Wahkiakum County": "0",
         "county_name_Walla Walla County": "0",
         "county_name_Whatcom County": "0",
         "county_name_Whitman County": "0",
         "county_name_Yakima County": "0",
         "lien_status_name_Not applicable": "0",
         "lien_status_name_Not secured by a lien": "0",
         "lien_status_name_Secured by a first lien": "1",
         "lien_status_name_Secured by a subordinate lien": "0",
         "state_name_Washington": "1",
         "applicant_race_name_5_0": "1",
         "applicant_race_name_5_Asian": "0",
         "applicant_race_name_5_Black or African American": "0",
         "applicant_race_name_5_White": "0",
         "co_applicant_race_name_5_0": "1",
         "co_applicant_race_name_5_White": "0",
         "applicant_race_name_2_0": "1",
         "applicant_race_name_2_American Indian or Alaska Native": "0",
         "applicant_race_name_2_Asian": "0",
         "applicant_race_name_2_Black or African American": "0",
         "applicant_race_name_2_Native Hawaiian or Other Pacific Islander": "0",
         "applicant_race_name_2_White": "0",
         "hoepa_status_name_HOEPA loan": "0",
         "hoepa_status_name_Not a HOEPA loan": "1",
         "co_applicant_sex_name_Female": "0",
         "co_applicant_sex_name_Information not provided by applicant in mail, Internet, or telephone application": "0",
         "co_applicant_sex_name_Male": "0",
         "co_applicant_sex_name_No co-applicant": "1",
         "co_applicant_sex_name_Not applicable": "0",
         "_deepnote_index_column": "9"
        }
       ]
      },
      "text/plain": "        tract_to_msamd_income  rate_spread  population  minority_population  \\\n0                  121.690002          0.0      8381.0            23.790001   \n1                   83.370003          0.0      4915.0            23.990000   \n2                   91.129997          0.0      5075.0            11.820000   \n3                  146.169998          0.0      5032.0             8.590000   \n4                  162.470001          0.0      5183.0            10.500000   \n...                       ...          ...         ...                  ...   \n466553              91.070000          0.0      6792.0            16.889999   \n466554             128.800003          0.0      4966.0            11.500000   \n466555              99.669998          0.0      4950.0            29.639999   \n466556              88.889999          0.0      3233.0            16.610001   \n466557             110.230003          0.0      7206.0            22.059999   \n\n        number_of_owner_occupied_units  number_of_1_to_4_family_units  \\\n0                               2175.0                         2660.0   \n1                               1268.0                         1777.0   \n2                               1136.0                         1838.0   \n3                               1525.0                         1820.0   \n4                               1705.0                         2104.0   \n...                                ...                            ...   \n466553                          1763.0                         2280.0   \n466554                          1561.0                         1870.0   \n466555                          1594.0                         1742.0   \n466556                          1055.0                         1278.0   \n466557                          1804.0                         2261.0   \n\n        loan_amount_000s  hud_median_family_income  applicant_income_000s  \\\n0                    227                   73300.0                  116.0   \n1                    240                   57900.0                   42.0   \n2                    241                   73300.0                  117.0   \n3                    351                   73300.0                  315.0   \n4                    417                   78100.0                  114.0   \n...                  ...                       ...                    ...   \n466553               225                   69900.0                   54.0   \n466554               100                   69900.0                   21.0   \n466555               196                   90300.0                    0.0   \n466556               169                   73600.0                    0.0   \n466557                76                   90300.0                    0.0   \n\n        census_tract_number  ...  \\\n0                    413.27  ...   \n1                   9208.01  ...   \n2                    414.00  ...   \n3                    405.10  ...   \n4                    907.00  ...   \n...                     ...  ...   \n466553               103.01  ...   \n466554                 8.05  ...   \n466555               219.05  ...   \n466556               125.10  ...   \n466557               527.05  ...   \n\n        applicant_race_name_2_Black or African American  \\\n0                                                     0   \n1                                                     0   \n2                                                     0   \n3                                                     0   \n4                                                     0   \n...                                                 ...   \n466553                                                0   \n466554                                                0   \n466555                                                0   \n466556                                                0   \n466557                                                0   \n\n        applicant_race_name_2_Native Hawaiian or Other Pacific Islander  \\\n0                                                       0                 \n1                                                       0                 \n2                                                       0                 \n3                                                       0                 \n4                                                       0                 \n...                                                   ...                 \n466553                                                  0                 \n466554                                                  0                 \n466555                                                  0                 \n466556                                                  0                 \n466557                                                  0                 \n\n        applicant_race_name_2_White  hoepa_status_name_HOEPA loan  \\\n0                                 0                             0   \n1                                 0                             0   \n2                                 0                             0   \n3                                 0                             0   \n4                                 0                             0   \n...                             ...                           ...   \n466553                            0                             0   \n466554                            0                             0   \n466555                            0                             0   \n466556                            0                             0   \n466557                            0                             0   \n\n        hoepa_status_name_Not a HOEPA loan  co_applicant_sex_name_Female  \\\n0                                        1                             0   \n1                                        1                             0   \n2                                        1                             1   \n3                                        1                             1   \n4                                        1                             0   \n...                                    ...                           ...   \n466553                                   1                             0   \n466554                                   1                             0   \n466555                                   1                             0   \n466556                                   1                             0   \n466557                                   1                             0   \n\n        co_applicant_sex_name_Information not provided by applicant in mail, Internet, or telephone application  \\\n0                                                       0                                                         \n1                                                       0                                                         \n2                                                       0                                                         \n3                                                       0                                                         \n4                                                       0                                                         \n...                                                   ...                                                         \n466553                                                  0                                                         \n466554                                                  0                                                         \n466555                                                  0                                                         \n466556                                                  0                                                         \n466557                                                  0                                                         \n\n        co_applicant_sex_name_Male  co_applicant_sex_name_No co-applicant  \\\n0                                1                                      0   \n1                                0                                      1   \n2                                0                                      0   \n3                                0                                      0   \n4                                1                                      0   \n...                            ...                                    ...   \n466553                           0                                      1   \n466554                           1                                      0   \n466555                           0                                      0   \n466556                           0                                      0   \n466557                           0                                      0   \n\n        co_applicant_sex_name_Not applicable  \n0                                          0  \n1                                          0  \n2                                          0  \n3                                          0  \n4                                          0  \n...                                      ...  \n466553                                     0  \n466554                                     0  \n466555                                     1  \n466556                                     1  \n466557                                     1  \n\n[394421 rows x 175 columns]",
      "text/html": "<div>\n<style scoped>\n    .dataframe tbody tr th:only-of-type {\n        vertical-align: middle;\n    }\n\n    .dataframe tbody tr th {\n        vertical-align: top;\n    }\n\n    .dataframe thead th {\n        text-align: right;\n    }\n</style>\n<table border=\"1\" class=\"dataframe\">\n  <thead>\n    <tr style=\"text-align: right;\">\n      <th></th>\n      <th>tract_to_msamd_income</th>\n      <th>rate_spread</th>\n      <th>population</th>\n      <th>minority_population</th>\n      <th>number_of_owner_occupied_units</th>\n      <th>number_of_1_to_4_family_units</th>\n      <th>loan_amount_000s</th>\n      <th>hud_median_family_income</th>\n      <th>applicant_income_000s</th>\n      <th>census_tract_number</th>\n      <th>...</th>\n      <th>applicant_race_name_2_Black or African American</th>\n      <th>applicant_race_name_2_Native Hawaiian or Other Pacific Islander</th>\n      <th>applicant_race_name_2_White</th>\n      <th>hoepa_status_name_HOEPA loan</th>\n      <th>hoepa_status_name_Not a HOEPA loan</th>\n      <th>co_applicant_sex_name_Female</th>\n      <th>co_applicant_sex_name_Information not provided by applicant in mail, Internet, or telephone application</th>\n      <th>co_applicant_sex_name_Male</th>\n      <th>co_applicant_sex_name_No co-applicant</th>\n      <th>co_applicant_sex_name_Not applicable</th>\n    </tr>\n  </thead>\n  <tbody>\n    <tr>\n      <th>0</th>\n      <td>121.690002</td>\n      <td>0.0</td>\n      <td>8381.0</td>\n      <td>23.790001</td>\n      <td>2175.0</td>\n      <td>2660.0</td>\n      <td>227</td>\n      <td>73300.0</td>\n      <td>116.0</td>\n      <td>413.27</td>\n      <td>...</td>\n      <td>0</td>\n      <td>0</td>\n      <td>0</td>\n      <td>0</td>\n      <td>1</td>\n      <td>0</td>\n      <td>0</td>\n      <td>1</td>\n      <td>0</td>\n      <td>0</td>\n    </tr>\n    <tr>\n      <th>1</th>\n      <td>83.370003</td>\n      <td>0.0</td>\n      <td>4915.0</td>\n      <td>23.990000</td>\n      <td>1268.0</td>\n      <td>1777.0</td>\n      <td>240</td>\n      <td>57900.0</td>\n      <td>42.0</td>\n      <td>9208.01</td>\n      <td>...</td>\n      <td>0</td>\n      <td>0</td>\n      <td>0</td>\n      <td>0</td>\n      <td>1</td>\n      <td>0</td>\n      <td>0</td>\n      <td>0</td>\n      <td>1</td>\n      <td>0</td>\n    </tr>\n    <tr>\n      <th>2</th>\n      <td>91.129997</td>\n      <td>0.0</td>\n      <td>5075.0</td>\n      <td>11.820000</td>\n      <td>1136.0</td>\n      <td>1838.0</td>\n      <td>241</td>\n      <td>73300.0</td>\n      <td>117.0</td>\n      <td>414.00</td>\n      <td>...</td>\n      <td>0</td>\n      <td>0</td>\n      <td>0</td>\n      <td>0</td>\n      <td>1</td>\n      <td>1</td>\n      <td>0</td>\n      <td>0</td>\n      <td>0</td>\n      <td>0</td>\n    </tr>\n    <tr>\n      <th>3</th>\n      <td>146.169998</td>\n      <td>0.0</td>\n      <td>5032.0</td>\n      <td>8.590000</td>\n      <td>1525.0</td>\n      <td>1820.0</td>\n      <td>351</td>\n      <td>73300.0</td>\n      <td>315.0</td>\n      <td>405.10</td>\n      <td>...</td>\n      <td>0</td>\n      <td>0</td>\n      <td>0</td>\n      <td>0</td>\n      <td>1</td>\n      <td>1</td>\n      <td>0</td>\n      <td>0</td>\n      <td>0</td>\n      <td>0</td>\n    </tr>\n    <tr>\n      <th>4</th>\n      <td>162.470001</td>\n      <td>0.0</td>\n      <td>5183.0</td>\n      <td>10.500000</td>\n      <td>1705.0</td>\n      <td>2104.0</td>\n      <td>417</td>\n      <td>78100.0</td>\n      <td>114.0</td>\n      <td>907.00</td>\n      <td>...</td>\n      <td>0</td>\n      <td>0</td>\n      <td>0</td>\n      <td>0</td>\n      <td>1</td>\n      <td>0</td>\n      <td>0</td>\n      <td>1</td>\n      <td>0</td>\n      <td>0</td>\n    </tr>\n    <tr>\n      <th>...</th>\n      <td>...</td>\n      <td>...</td>\n      <td>...</td>\n      <td>...</td>\n      <td>...</td>\n      <td>...</td>\n      <td>...</td>\n      <td>...</td>\n      <td>...</td>\n      <td>...</td>\n      <td>...</td>\n      <td>...</td>\n      <td>...</td>\n      <td>...</td>\n      <td>...</td>\n      <td>...</td>\n      <td>...</td>\n      <td>...</td>\n      <td>...</td>\n      <td>...</td>\n      <td>...</td>\n    </tr>\n    <tr>\n      <th>466553</th>\n      <td>91.070000</td>\n      <td>0.0</td>\n      <td>6792.0</td>\n      <td>16.889999</td>\n      <td>1763.0</td>\n      <td>2280.0</td>\n      <td>225</td>\n      <td>69900.0</td>\n      <td>54.0</td>\n      <td>103.01</td>\n      <td>...</td>\n      <td>0</td>\n      <td>0</td>\n      <td>0</td>\n      <td>0</td>\n      <td>1</td>\n      <td>0</td>\n      <td>0</td>\n      <td>0</td>\n      <td>1</td>\n      <td>0</td>\n    </tr>\n    <tr>\n      <th>466554</th>\n      <td>128.800003</td>\n      <td>0.0</td>\n      <td>4966.0</td>\n      <td>11.500000</td>\n      <td>1561.0</td>\n      <td>1870.0</td>\n      <td>100</td>\n      <td>69900.0</td>\n      <td>21.0</td>\n      <td>8.05</td>\n      <td>...</td>\n      <td>0</td>\n      <td>0</td>\n      <td>0</td>\n      <td>0</td>\n      <td>1</td>\n      <td>0</td>\n      <td>0</td>\n      <td>1</td>\n      <td>0</td>\n      <td>0</td>\n    </tr>\n    <tr>\n      <th>466555</th>\n      <td>99.669998</td>\n      <td>0.0</td>\n      <td>4950.0</td>\n      <td>29.639999</td>\n      <td>1594.0</td>\n      <td>1742.0</td>\n      <td>196</td>\n      <td>90300.0</td>\n      <td>0.0</td>\n      <td>219.05</td>\n      <td>...</td>\n      <td>0</td>\n      <td>0</td>\n      <td>0</td>\n      <td>0</td>\n      <td>1</td>\n      <td>0</td>\n      <td>0</td>\n      <td>0</td>\n      <td>0</td>\n      <td>1</td>\n    </tr>\n    <tr>\n      <th>466556</th>\n      <td>88.889999</td>\n      <td>0.0</td>\n      <td>3233.0</td>\n      <td>16.610001</td>\n      <td>1055.0</td>\n      <td>1278.0</td>\n      <td>169</td>\n      <td>73600.0</td>\n      <td>0.0</td>\n      <td>125.10</td>\n      <td>...</td>\n      <td>0</td>\n      <td>0</td>\n      <td>0</td>\n      <td>0</td>\n      <td>1</td>\n      <td>0</td>\n      <td>0</td>\n      <td>0</td>\n      <td>0</td>\n      <td>1</td>\n    </tr>\n    <tr>\n      <th>466557</th>\n      <td>110.230003</td>\n      <td>0.0</td>\n      <td>7206.0</td>\n      <td>22.059999</td>\n      <td>1804.0</td>\n      <td>2261.0</td>\n      <td>76</td>\n      <td>90300.0</td>\n      <td>0.0</td>\n      <td>527.05</td>\n      <td>...</td>\n      <td>0</td>\n      <td>0</td>\n      <td>0</td>\n      <td>0</td>\n      <td>1</td>\n      <td>0</td>\n      <td>0</td>\n      <td>0</td>\n      <td>0</td>\n      <td>1</td>\n    </tr>\n  </tbody>\n</table>\n<p>394421 rows × 175 columns</p>\n</div>"
     },
     "metadata": {}
    }
   ]
  },
  {
   "cell_type": "code",
   "source": "data_clean['loan_approved'].value_counts()",
   "metadata": {
    "cell_id": "783efb8215a342b3829cd582757a30c0",
    "tags": [],
    "deepnote_to_be_reexecuted": false,
    "source_hash": "86ab14e4",
    "execution_start": 1664713532979,
    "execution_millis": 31,
    "deepnote_cell_type": "code",
    "deepnote_cell_height": 150,
    "deepnote_output_heights": [
     58
    ]
   },
   "outputs": [
    {
     "output_type": "execute_result",
     "execution_count": 18,
     "data": {
      "text/plain": "True     263712\nFalse    130709\nName: loan_approved, dtype: int64"
     },
     "metadata": {}
    }
   ],
   "execution_count": 18
  },
  {
   "cell_type": "code",
   "source": "cols = [\"loan_amount_000s\", \"applicant_income_000s\", \"rate_spread\", \"applicant_race_name_1_White\", \"application_date_indicator\"]\n\nprint(data_clean[cols].columns)\nX = data_clean[cols].values\ny = data_clean['loan_approved'].values\n\noversample = RandomOverSampler(sampling_strategy='minority')\nX, y = oversample.fit_resample(X, y)\n\nscaler = MinMaxScaler()\nX = scaler.fit_transform(X, y)\n\nprint(X.shape)\nprint(y.shape)\n",
   "metadata": {
    "cell_id": "eb0051ad403145c78af67161b24477fe",
    "tags": [],
    "deepnote_to_be_reexecuted": false,
    "source_hash": "7f656f72",
    "execution_start": 1664713532979,
    "execution_millis": 175,
    "deepnote_cell_type": "code",
    "deepnote_cell_height": 444
   },
   "execution_count": 19,
   "outputs": [
    {
     "name": "stdout",
     "text": "Index(['loan_amount_000s', 'applicant_income_000s', 'rate_spread',\n       'applicant_race_name_1_White', 'application_date_indicator'],\n      dtype='object')\n(527424, 5)\n(527424,)\n",
     "output_type": "stream"
    }
   ]
  },
  {
   "cell_type": "code",
   "source": "for v in scaler.scale_:\n    print(f'{v:.70f}')",
   "metadata": {
    "cell_id": "4a4021afc1b24232a84d8e677105db99",
    "tags": [],
    "deepnote_to_be_reexecuted": false,
    "source_hash": "29a7d05b",
    "execution_start": 1664713533155,
    "execution_millis": 3,
    "deepnote_cell_type": "code",
    "deepnote_cell_height": 205,
    "deepnote_output_heights": [
     20,
     39
    ]
   },
   "outputs": [
    {
     "name": "stdout",
     "text": "0.0000100002000040000804686633403828288635395438177511096000671386718750\n0.0001000100010001000132688411814463336213520960882306098937988281250000\n0.0732064421669106901724433100753230974078178405761718750000000000000000\n1.0000000000000000000000000000000000000000000000000000000000000000000000\n0.5000000000000000000000000000000000000000000000000000000000000000000000\n",
     "output_type": "stream"
    }
   ],
   "execution_count": 20
  },
  {
   "cell_type": "code",
   "source": "X_train, X_test, y_train, y_test = train_test_split(X, y, test_size=0.3)",
   "metadata": {
    "cell_id": "39dfa19bf31949ddac5a7590a334937c",
    "tags": [],
    "deepnote_to_be_reexecuted": false,
    "source_hash": "f7de7aef",
    "execution_start": 1664713533159,
    "execution_millis": 40,
    "deepnote_cell_type": "code",
    "deepnote_cell_height": 76
   },
   "execution_count": 21,
   "outputs": []
  },
  {
   "cell_type": "code",
   "source": "epochs = 100\n\nmodel = Sequential()\n\nmodel.add(\n        Dense(32, activation='relu', input_shape=(X_train.shape[1],))\n)\n\nmodel.add(\n        Dense(32, activation='relu',)\n)\n\n\nmodel.add(\n        Dense(1, activation='sigmoid')\n)\n\nmodel.compile(\n        optimizer='adam', \n        loss='binary_crossentropy', \n        metrics=['accuracy', 'AUC']\n)\n\nearly_stop = EarlyStopping(\n        monitor='val_loss', \n        mode='min', \n        verbose=1, \n        patience=25\n)\n\nhistory = model.fit(\n        X_train, \n        y_train, \n        epochs=epochs, \n        batch_size=32768, \n        validation_data=(X_test, y_test),\n        callbacks=[early_stop],\n        use_multiprocessing=True\n)",
   "metadata": {
    "cell_id": "cc68cdcd07b3455da92691ad78d34a93",
    "tags": [],
    "deepnote_to_be_reexecuted": false,
    "source_hash": "6260b932",
    "execution_start": 1664713533241,
    "execution_millis": 36638,
    "deepnote_cell_type": "code",
    "deepnote_cell_height": 1380
   },
   "execution_count": 22,
   "outputs": [
    {
     "name": "stdout",
     "text": "Epoch 1/100\n2022-10-02 12:25:33.204541: W tensorflow/stream_executor/platform/default/dso_loader.cc:64] Could not load dynamic library 'libcuda.so.1'; dlerror: libcuda.so.1: cannot open shared object file: No such file or directory\n2022-10-02 12:25:33.204573: W tensorflow/stream_executor/cuda/cuda_driver.cc:263] failed call to cuInit: UNKNOWN ERROR (303)\n2022-10-02 12:25:33.204587: I tensorflow/stream_executor/cuda/cuda_diagnostics.cc:156] kernel driver does not appear to be running on this host (p-03c1f381-4bef-44c8-9167-00386ebceba9): /proc/driver/nvidia/version does not exist\n2022-10-02 12:25:33.204807: I tensorflow/core/platform/cpu_feature_guard.cc:193] This TensorFlow binary is optimized with oneAPI Deep Neural Network Library (oneDNN) to use the following CPU instructions in performance-critical operations:  AVX2 AVX512F AVX512_VNNI FMA\nTo enable them in other operations, rebuild TensorFlow with the appropriate compiler flags.\n12/12 [==============================] - 1s 49ms/step - loss: 0.6881 - accuracy: 0.5882 - auc: 0.6337 - val_loss: 0.6776 - val_accuracy: 0.6840 - val_auc: 0.7052\nEpoch 2/100\n12/12 [==============================] - 0s 30ms/step - loss: 0.6703 - accuracy: 0.6858 - auc: 0.7057 - val_loss: 0.6614 - val_accuracy: 0.6897 - val_auc: 0.7002\nEpoch 3/100\n12/12 [==============================] - 0s 28ms/step - loss: 0.6546 - accuracy: 0.6786 - auc: 0.7042 - val_loss: 0.6464 - val_accuracy: 0.6601 - val_auc: 0.7075\nEpoch 4/100\n12/12 [==============================] - 0s 34ms/step - loss: 0.6397 - accuracy: 0.6603 - auc: 0.7105 - val_loss: 0.6317 - val_accuracy: 0.6602 - val_auc: 0.7200\nEpoch 5/100\n12/12 [==============================] - 0s 29ms/step - loss: 0.6243 - accuracy: 0.6718 - auc: 0.7093 - val_loss: 0.6159 - val_accuracy: 0.6913 - val_auc: 0.7279\nEpoch 6/100\n12/12 [==============================] - 0s 34ms/step - loss: 0.6086 - accuracy: 0.6871 - auc: 0.7147 - val_loss: 0.6007 - val_accuracy: 0.6840 - val_auc: 0.7207\nEpoch 7/100\n12/12 [==============================] - 0s 29ms/step - loss: 0.5938 - accuracy: 0.6858 - auc: 0.7167 - val_loss: 0.5867 - val_accuracy: 0.6840 - val_auc: 0.7236\nEpoch 8/100\n12/12 [==============================] - 0s 30ms/step - loss: 0.5803 - accuracy: 0.6858 - auc: 0.7190 - val_loss: 0.5743 - val_accuracy: 0.6840 - val_auc: 0.7265\nEpoch 9/100\n12/12 [==============================] - 0s 34ms/step - loss: 0.5689 - accuracy: 0.6858 - auc: 0.7194 - val_loss: 0.5645 - val_accuracy: 0.6840 - val_auc: 0.7289\nEpoch 10/100\n12/12 [==============================] - 0s 29ms/step - loss: 0.5601 - accuracy: 0.6858 - auc: 0.7207 - val_loss: 0.5574 - val_accuracy: 0.6840 - val_auc: 0.7264\nEpoch 11/100\n12/12 [==============================] - 0s 28ms/step - loss: 0.5539 - accuracy: 0.6858 - auc: 0.7249 - val_loss: 0.5522 - val_accuracy: 0.6840 - val_auc: 0.7287\nEpoch 12/100\n12/12 [==============================] - 0s 35ms/step - loss: 0.5494 - accuracy: 0.6858 - auc: 0.7270 - val_loss: 0.5485 - val_accuracy: 0.6840 - val_auc: 0.7324\nEpoch 13/100\n12/12 [==============================] - 0s 29ms/step - loss: 0.5462 - accuracy: 0.6858 - auc: 0.7281 - val_loss: 0.5459 - val_accuracy: 0.6840 - val_auc: 0.7340\nEpoch 14/100\n12/12 [==============================] - 0s 34ms/step - loss: 0.5439 - accuracy: 0.6858 - auc: 0.7280 - val_loss: 0.5439 - val_accuracy: 0.6840 - val_auc: 0.7377\nEpoch 15/100\n12/12 [==============================] - 0s 29ms/step - loss: 0.5423 - accuracy: 0.6858 - auc: 0.7306 - val_loss: 0.5425 - val_accuracy: 0.6840 - val_auc: 0.7395\nEpoch 16/100\n12/12 [==============================] - 0s 30ms/step - loss: 0.5410 - accuracy: 0.6858 - auc: 0.7323 - val_loss: 0.5413 - val_accuracy: 0.6840 - val_auc: 0.7392\nEpoch 17/100\n12/12 [==============================] - 0s 33ms/step - loss: 0.5400 - accuracy: 0.6858 - auc: 0.7343 - val_loss: 0.5404 - val_accuracy: 0.6840 - val_auc: 0.7401\nEpoch 18/100\n12/12 [==============================] - 0s 35ms/step - loss: 0.5391 - accuracy: 0.6858 - auc: 0.7340 - val_loss: 0.5396 - val_accuracy: 0.6840 - val_auc: 0.7412\nEpoch 19/100\n12/12 [==============================] - 0s 30ms/step - loss: 0.5384 - accuracy: 0.6858 - auc: 0.7368 - val_loss: 0.5390 - val_accuracy: 0.6840 - val_auc: 0.7409\nEpoch 20/100\n12/12 [==============================] - 0s 28ms/step - loss: 0.5378 - accuracy: 0.6858 - auc: 0.7398 - val_loss: 0.5384 - val_accuracy: 0.6840 - val_auc: 0.7414\nEpoch 21/100\n12/12 [==============================] - 0s 31ms/step - loss: 0.5372 - accuracy: 0.6858 - auc: 0.7381 - val_loss: 0.5381 - val_accuracy: 0.6840 - val_auc: 0.7419\nEpoch 22/100\n12/12 [==============================] - 0s 30ms/step - loss: 0.5368 - accuracy: 0.6858 - auc: 0.7327 - val_loss: 0.5376 - val_accuracy: 0.6840 - val_auc: 0.7426\nEpoch 23/100\n12/12 [==============================] - 0s 33ms/step - loss: 0.5363 - accuracy: 0.6858 - auc: 0.7371 - val_loss: 0.5370 - val_accuracy: 0.6840 - val_auc: 0.7426\nEpoch 24/100\n12/12 [==============================] - 0s 29ms/step - loss: 0.5359 - accuracy: 0.6858 - auc: 0.7415 - val_loss: 0.5366 - val_accuracy: 0.6840 - val_auc: 0.7434\nEpoch 25/100\n12/12 [==============================] - 0s 29ms/step - loss: 0.5356 - accuracy: 0.6858 - auc: 0.7400 - val_loss: 0.5363 - val_accuracy: 0.6840 - val_auc: 0.7430\nEpoch 26/100\n12/12 [==============================] - 0s 29ms/step - loss: 0.5352 - accuracy: 0.6858 - auc: 0.7405 - val_loss: 0.5360 - val_accuracy: 0.6840 - val_auc: 0.7437\nEpoch 27/100\n12/12 [==============================] - 0s 32ms/step - loss: 0.5349 - accuracy: 0.6858 - auc: 0.7406 - val_loss: 0.5356 - val_accuracy: 0.6840 - val_auc: 0.7435\nEpoch 28/100\n12/12 [==============================] - 0s 28ms/step - loss: 0.5346 - accuracy: 0.6858 - auc: 0.7427 - val_loss: 0.5353 - val_accuracy: 0.6840 - val_auc: 0.7441\nEpoch 29/100\n12/12 [==============================] - 0s 29ms/step - loss: 0.5343 - accuracy: 0.6858 - auc: 0.7428 - val_loss: 0.5350 - val_accuracy: 0.6840 - val_auc: 0.7445\nEpoch 30/100\n12/12 [==============================] - 0s 29ms/step - loss: 0.5341 - accuracy: 0.6858 - auc: 0.7421 - val_loss: 0.5348 - val_accuracy: 0.6840 - val_auc: 0.7445\nEpoch 31/100\n12/12 [==============================] - 0s 35ms/step - loss: 0.5338 - accuracy: 0.6858 - auc: 0.7434 - val_loss: 0.5346 - val_accuracy: 0.6840 - val_auc: 0.7447\nEpoch 32/100\n12/12 [==============================] - 0s 32ms/step - loss: 0.5336 - accuracy: 0.6858 - auc: 0.7425 - val_loss: 0.5343 - val_accuracy: 0.6840 - val_auc: 0.7452\nEpoch 33/100\n12/12 [==============================] - 0s 28ms/step - loss: 0.5334 - accuracy: 0.6858 - auc: 0.7426 - val_loss: 0.5341 - val_accuracy: 0.6840 - val_auc: 0.7462\nEpoch 34/100\n12/12 [==============================] - 0s 34ms/step - loss: 0.5331 - accuracy: 0.6858 - auc: 0.7417 - val_loss: 0.5337 - val_accuracy: 0.6840 - val_auc: 0.7454\nEpoch 35/100\n12/12 [==============================] - 0s 29ms/step - loss: 0.5328 - accuracy: 0.6858 - auc: 0.7442 - val_loss: 0.5334 - val_accuracy: 0.6840 - val_auc: 0.7465\nEpoch 36/100\n12/12 [==============================] - 0s 34ms/step - loss: 0.5325 - accuracy: 0.6858 - auc: 0.7442 - val_loss: 0.5331 - val_accuracy: 0.6840 - val_auc: 0.7461\nEpoch 37/100\n12/12 [==============================] - 0s 30ms/step - loss: 0.5323 - accuracy: 0.6858 - auc: 0.7447 - val_loss: 0.5329 - val_accuracy: 0.6840 - val_auc: 0.7465\nEpoch 38/100\n12/12 [==============================] - 0s 28ms/step - loss: 0.5320 - accuracy: 0.6858 - auc: 0.7455 - val_loss: 0.5326 - val_accuracy: 0.6840 - val_auc: 0.7468\nEpoch 39/100\n12/12 [==============================] - 0s 30ms/step - loss: 0.5318 - accuracy: 0.6858 - auc: 0.7457 - val_loss: 0.5324 - val_accuracy: 0.6840 - val_auc: 0.7472\nEpoch 40/100\n12/12 [==============================] - 0s 29ms/step - loss: 0.5315 - accuracy: 0.6858 - auc: 0.7465 - val_loss: 0.5322 - val_accuracy: 0.6840 - val_auc: 0.7473\nEpoch 41/100\n12/12 [==============================] - 0s 36ms/step - loss: 0.5314 - accuracy: 0.6858 - auc: 0.7439 - val_loss: 0.5319 - val_accuracy: 0.6840 - val_auc: 0.7477\nEpoch 42/100\n12/12 [==============================] - 0s 28ms/step - loss: 0.5311 - accuracy: 0.6858 - auc: 0.7472 - val_loss: 0.5317 - val_accuracy: 0.6840 - val_auc: 0.7488\nEpoch 43/100\n12/12 [==============================] - 0s 29ms/step - loss: 0.5310 - accuracy: 0.6858 - auc: 0.7468 - val_loss: 0.5315 - val_accuracy: 0.6840 - val_auc: 0.7483\nEpoch 44/100\n12/12 [==============================] - 0s 34ms/step - loss: 0.5307 - accuracy: 0.6858 - auc: 0.7481 - val_loss: 0.5313 - val_accuracy: 0.6840 - val_auc: 0.7489\nEpoch 45/100\n12/12 [==============================] - 0s 29ms/step - loss: 0.5306 - accuracy: 0.6858 - auc: 0.7471 - val_loss: 0.5311 - val_accuracy: 0.6840 - val_auc: 0.7494\nEpoch 46/100\n12/12 [==============================] - 0s 29ms/step - loss: 0.5303 - accuracy: 0.6858 - auc: 0.7488 - val_loss: 0.5309 - val_accuracy: 0.6840 - val_auc: 0.7500\nEpoch 47/100\n12/12 [==============================] - 0s 30ms/step - loss: 0.5301 - accuracy: 0.6858 - auc: 0.7479 - val_loss: 0.5307 - val_accuracy: 0.6840 - val_auc: 0.7496\nEpoch 48/100\n12/12 [==============================] - 0s 28ms/step - loss: 0.5300 - accuracy: 0.6858 - auc: 0.7473 - val_loss: 0.5305 - val_accuracy: 0.6840 - val_auc: 0.7508\nEpoch 49/100\n12/12 [==============================] - 0s 29ms/step - loss: 0.5298 - accuracy: 0.6858 - auc: 0.7488 - val_loss: 0.5304 - val_accuracy: 0.6840 - val_auc: 0.7497\nEpoch 50/100\n12/12 [==============================] - 0s 28ms/step - loss: 0.5296 - accuracy: 0.6858 - auc: 0.7490 - val_loss: 0.5301 - val_accuracy: 0.6842 - val_auc: 0.7510\nEpoch 51/100\n12/12 [==============================] - 0s 29ms/step - loss: 0.5294 - accuracy: 0.6859 - auc: 0.7495 - val_loss: 0.5301 - val_accuracy: 0.6840 - val_auc: 0.7504\nEpoch 52/100\n12/12 [==============================] - 0s 28ms/step - loss: 0.5292 - accuracy: 0.6858 - auc: 0.7504 - val_loss: 0.5297 - val_accuracy: 0.6850 - val_auc: 0.7513\nEpoch 53/100\n12/12 [==============================] - 0s 37ms/step - loss: 0.5290 - accuracy: 0.6865 - auc: 0.7496 - val_loss: 0.5296 - val_accuracy: 0.6840 - val_auc: 0.7516\nEpoch 54/100\n12/12 [==============================] - 0s 26ms/step - loss: 0.5288 - accuracy: 0.6859 - auc: 0.7516 - val_loss: 0.5295 - val_accuracy: 0.6841 - val_auc: 0.7506\nEpoch 55/100\n12/12 [==============================] - 0s 34ms/step - loss: 0.5288 - accuracy: 0.6866 - auc: 0.7476 - val_loss: 0.5291 - val_accuracy: 0.6853 - val_auc: 0.7531\nEpoch 56/100\n12/12 [==============================] - 0s 28ms/step - loss: 0.5284 - accuracy: 0.6864 - auc: 0.7516 - val_loss: 0.5292 - val_accuracy: 0.6843 - val_auc: 0.7509\nEpoch 57/100\n12/12 [==============================] - 0s 29ms/step - loss: 0.5284 - accuracy: 0.6867 - auc: 0.7493 - val_loss: 0.5291 - val_accuracy: 0.6863 - val_auc: 0.7550\nEpoch 58/100\n12/12 [==============================] - 0s 28ms/step - loss: 0.5284 - accuracy: 0.6874 - auc: 0.7489 - val_loss: 0.5289 - val_accuracy: 0.6841 - val_auc: 0.7520\nEpoch 59/100\n12/12 [==============================] - 0s 30ms/step - loss: 0.5280 - accuracy: 0.6866 - auc: 0.7513 - val_loss: 0.5286 - val_accuracy: 0.6866 - val_auc: 0.7548\nEpoch 60/100\n12/12 [==============================] - 0s 30ms/step - loss: 0.5279 - accuracy: 0.6877 - auc: 0.7505 - val_loss: 0.5283 - val_accuracy: 0.6849 - val_auc: 0.7533\nEpoch 61/100\n12/12 [==============================] - 0s 33ms/step - loss: 0.5276 - accuracy: 0.6870 - auc: 0.7534 - val_loss: 0.5280 - val_accuracy: 0.6855 - val_auc: 0.7535\nEpoch 62/100\n12/12 [==============================] - 0s 28ms/step - loss: 0.5274 - accuracy: 0.6874 - auc: 0.7531 - val_loss: 0.5279 - val_accuracy: 0.6851 - val_auc: 0.7540\nEpoch 63/100\n12/12 [==============================] - 0s 33ms/step - loss: 0.5273 - accuracy: 0.6878 - auc: 0.7532 - val_loss: 0.5277 - val_accuracy: 0.6866 - val_auc: 0.7548\nEpoch 64/100\n12/12 [==============================] - 0s 29ms/step - loss: 0.5272 - accuracy: 0.6881 - auc: 0.7535 - val_loss: 0.5276 - val_accuracy: 0.6853 - val_auc: 0.7545\nEpoch 65/100\n12/12 [==============================] - 0s 34ms/step - loss: 0.5270 - accuracy: 0.6880 - auc: 0.7539 - val_loss: 0.5273 - val_accuracy: 0.6868 - val_auc: 0.7549\nEpoch 66/100\n12/12 [==============================] - 0s 29ms/step - loss: 0.5268 - accuracy: 0.6882 - auc: 0.7542 - val_loss: 0.5272 - val_accuracy: 0.6868 - val_auc: 0.7550\nEpoch 67/100\n12/12 [==============================] - 0s 28ms/step - loss: 0.5267 - accuracy: 0.6886 - auc: 0.7541 - val_loss: 0.5271 - val_accuracy: 0.6864 - val_auc: 0.7552\nEpoch 68/100\n12/12 [==============================] - 0s 29ms/step - loss: 0.5266 - accuracy: 0.6885 - auc: 0.7541 - val_loss: 0.5269 - val_accuracy: 0.6870 - val_auc: 0.7562\nEpoch 69/100\n12/12 [==============================] - 0s 28ms/step - loss: 0.5265 - accuracy: 0.6888 - auc: 0.7545 - val_loss: 0.5268 - val_accuracy: 0.6868 - val_auc: 0.7558\nEpoch 70/100\n12/12 [==============================] - 0s 30ms/step - loss: 0.5263 - accuracy: 0.6891 - auc: 0.7550 - val_loss: 0.5268 - val_accuracy: 0.6866 - val_auc: 0.7553\nEpoch 71/100\n12/12 [==============================] - 0s 28ms/step - loss: 0.5262 - accuracy: 0.6894 - auc: 0.7551 - val_loss: 0.5265 - val_accuracy: 0.6871 - val_auc: 0.7561\nEpoch 72/100\n12/12 [==============================] - 0s 35ms/step - loss: 0.5260 - accuracy: 0.6892 - auc: 0.7555 - val_loss: 0.5264 - val_accuracy: 0.6883 - val_auc: 0.7556\nEpoch 73/100\n12/12 [==============================] - 0s 29ms/step - loss: 0.5259 - accuracy: 0.6900 - auc: 0.7554 - val_loss: 0.5263 - val_accuracy: 0.6890 - val_auc: 0.7574\nEpoch 74/100\n12/12 [==============================] - 0s 33ms/step - loss: 0.5259 - accuracy: 0.6904 - auc: 0.7553 - val_loss: 0.5266 - val_accuracy: 0.6869 - val_auc: 0.7555\nEpoch 75/100\n12/12 [==============================] - 0s 29ms/step - loss: 0.5257 - accuracy: 0.6903 - auc: 0.7553 - val_loss: 0.5260 - val_accuracy: 0.6886 - val_auc: 0.7577\nEpoch 76/100\n12/12 [==============================] - 0s 33ms/step - loss: 0.5256 - accuracy: 0.6902 - auc: 0.7563 - val_loss: 0.5259 - val_accuracy: 0.6889 - val_auc: 0.7566\nEpoch 77/100\n12/12 [==============================] - 0s 32ms/step - loss: 0.5255 - accuracy: 0.6910 - auc: 0.7554 - val_loss: 0.5258 - val_accuracy: 0.6886 - val_auc: 0.7574\nEpoch 78/100\n12/12 [==============================] - 0s 28ms/step - loss: 0.5253 - accuracy: 0.6910 - auc: 0.7566 - val_loss: 0.5256 - val_accuracy: 0.6892 - val_auc: 0.7575\nEpoch 79/100\n12/12 [==============================] - 0s 29ms/step - loss: 0.5253 - accuracy: 0.6909 - auc: 0.7568 - val_loss: 0.5255 - val_accuracy: 0.6892 - val_auc: 0.7576\nEpoch 80/100\n12/12 [==============================] - 0s 28ms/step - loss: 0.5251 - accuracy: 0.6916 - auc: 0.7568 - val_loss: 0.5254 - val_accuracy: 0.6896 - val_auc: 0.7583\nEpoch 81/100\n12/12 [==============================] - 0s 28ms/step - loss: 0.5250 - accuracy: 0.6918 - auc: 0.7570 - val_loss: 0.5253 - val_accuracy: 0.6897 - val_auc: 0.7580\nEpoch 82/100\n12/12 [==============================] - 0s 28ms/step - loss: 0.5249 - accuracy: 0.6915 - auc: 0.7573 - val_loss: 0.5252 - val_accuracy: 0.6906 - val_auc: 0.7584\nEpoch 83/100\n12/12 [==============================] - 0s 29ms/step - loss: 0.5249 - accuracy: 0.6925 - auc: 0.7569 - val_loss: 0.5251 - val_accuracy: 0.6900 - val_auc: 0.7583\nEpoch 84/100\n12/12 [==============================] - 0s 31ms/step - loss: 0.5248 - accuracy: 0.6923 - auc: 0.7573 - val_loss: 0.5251 - val_accuracy: 0.6898 - val_auc: 0.7580\nEpoch 85/100\n12/12 [==============================] - 0s 28ms/step - loss: 0.5247 - accuracy: 0.6927 - auc: 0.7572 - val_loss: 0.5249 - val_accuracy: 0.6908 - val_auc: 0.7589\nEpoch 86/100\n12/12 [==============================] - 0s 31ms/step - loss: 0.5246 - accuracy: 0.6917 - auc: 0.7579 - val_loss: 0.5250 - val_accuracy: 0.6917 - val_auc: 0.7594\nEpoch 87/100\n12/12 [==============================] - 0s 31ms/step - loss: 0.5247 - accuracy: 0.6926 - auc: 0.7569 - val_loss: 0.5249 - val_accuracy: 0.6898 - val_auc: 0.7587\nEpoch 88/100\n12/12 [==============================] - 0s 30ms/step - loss: 0.5245 - accuracy: 0.6927 - auc: 0.7574 - val_loss: 0.5248 - val_accuracy: 0.6901 - val_auc: 0.7588\nEpoch 89/100\n12/12 [==============================] - 0s 30ms/step - loss: 0.5243 - accuracy: 0.6927 - auc: 0.7579 - val_loss: 0.5245 - val_accuracy: 0.6914 - val_auc: 0.7594\nEpoch 90/100\n12/12 [==============================] - 0s 33ms/step - loss: 0.5242 - accuracy: 0.6932 - auc: 0.7580 - val_loss: 0.5246 - val_accuracy: 0.6905 - val_auc: 0.7589\nEpoch 91/100\n12/12 [==============================] - 0s 29ms/step - loss: 0.5242 - accuracy: 0.6929 - auc: 0.7579 - val_loss: 0.5244 - val_accuracy: 0.6910 - val_auc: 0.7594\nEpoch 92/100\n12/12 [==============================] - 0s 34ms/step - loss: 0.5241 - accuracy: 0.6927 - auc: 0.7584 - val_loss: 0.5243 - val_accuracy: 0.6918 - val_auc: 0.7595\nEpoch 93/100\n12/12 [==============================] - 0s 29ms/step - loss: 0.5241 - accuracy: 0.6934 - auc: 0.7577 - val_loss: 0.5243 - val_accuracy: 0.6913 - val_auc: 0.7602\nEpoch 94/100\n12/12 [==============================] - 0s 34ms/step - loss: 0.5241 - accuracy: 0.6926 - auc: 0.7582 - val_loss: 0.5242 - val_accuracy: 0.6923 - val_auc: 0.7594\nEpoch 95/100\n12/12 [==============================] - 0s 29ms/step - loss: 0.5240 - accuracy: 0.6934 - auc: 0.7581 - val_loss: 0.5242 - val_accuracy: 0.6911 - val_auc: 0.7593\nEpoch 96/100\n12/12 [==============================] - 0s 28ms/step - loss: 0.5239 - accuracy: 0.6935 - auc: 0.7582 - val_loss: 0.5240 - val_accuracy: 0.6921 - val_auc: 0.7600\nEpoch 97/100\n12/12 [==============================] - 0s 35ms/step - loss: 0.5238 - accuracy: 0.6936 - auc: 0.7585 - val_loss: 0.5240 - val_accuracy: 0.6911 - val_auc: 0.7596\nEpoch 98/100\n12/12 [==============================] - 0s 31ms/step - loss: 0.5238 - accuracy: 0.6935 - auc: 0.7584 - val_loss: 0.5240 - val_accuracy: 0.6917 - val_auc: 0.7597\nEpoch 99/100\n12/12 [==============================] - 0s 31ms/step - loss: 0.5236 - accuracy: 0.6935 - auc: 0.7587 - val_loss: 0.5238 - val_accuracy: 0.6927 - val_auc: 0.7601\nEpoch 100/100\n12/12 [==============================] - 0s 29ms/step - loss: 0.5236 - accuracy: 0.6937 - auc: 0.7588 - val_loss: 0.5238 - val_accuracy: 0.6920 - val_auc: 0.7597\n",
     "output_type": "stream"
    }
   ]
  },
  {
   "cell_type": "code",
   "metadata": {
    "cell_id": "61b1d9ab922141fa9a520fd997b74e29",
    "tags": [],
    "deepnote_to_be_reexecuted": false,
    "source_hash": "f8921236",
    "execution_start": 1664713569921,
    "execution_millis": 498,
    "deepnote_cell_type": "code",
    "deepnote_cell_height": 758,
    "deepnote_output_heights": [
     null,
     456
    ]
   },
   "source": "loss, accuracy, auc = model.evaluate(X_test, y_test, batch_size=32768)\ny_pred_rf = model.predict(X_test, batch_size=32768)\nfpr_rf, tpr_rf, thresholds_rf = roc_curve(y_test, y_pred_rf)\nplt.plot(fpr_rf, tpr_rf, label='RF (area = {:.3f})'.format(auc))\nplt.xlabel('False positive rate')\nplt.ylabel('True positive rate')\nplt.title('ROC curve')\nplt.legend(loc='best')\nplt.show()",
   "execution_count": 23,
   "outputs": [
    {
     "name": "stdout",
     "text": "5/5 [==============================] - 0s 3ms/step - loss: 0.5238 - accuracy: 0.6920 - auc: 0.7597\n5/5 [==============================] - 0s 2ms/step\n",
     "output_type": "stream"
    },
    {
     "data": {
      "text/plain": "<Figure size 640x480 with 1 Axes>",
      "image/png": "[encoded data removed]"
     },
     "metadata": {
      "image/png": {
       "width": 567,
       "height": 455
      }
     },
     "output_type": "display_data"
    }
   ]
  },
  {
   "cell_type": "code",
   "metadata": {
    "cell_id": "2ceef4a0e3dd480f9d43c92cc47af099",
    "tags": [],
    "deepnote_to_be_reexecuted": false,
    "source_hash": "432fc94a",
    "execution_start": 1664713570444,
    "execution_millis": 1800,
    "deepnote_cell_type": "code",
    "deepnote_cell_height": 1069,
    "deepnote_output_heights": [
     null,
     414,
     414
    ]
   },
   "source": "print(history.params)\nplt.plot(history.history['accuracy'])\nplt.show()\nplt.plot(history.history['loss'])\nplt.show()",
   "execution_count": 24,
   "outputs": [
    {
     "name": "stdout",
     "text": "{'verbose': 1, 'epochs': 100, 'steps': 12}\n",
     "output_type": "stream"
    },
    {
     "data": {
      "text/plain": "<Figure size 640x480 with 1 Axes>",
      "image/png": "[encoded data removed]"
     },
     "metadata": {
      "image/png": {
       "width": 556,
       "height": 413
      }
     },
     "output_type": "display_data"
    },
    {
     "data": {
      "text/plain": "<Figure size 640x480 with 1 Axes>",
      "image/png": "[encoded data removed]"
     },
     "metadata": {
      "image/png": {
       "width": 565,
       "height": 413
      }
     },
     "output_type": "display_data"
    }
   ]
  },
  {
   "cell_type": "code",
   "source": "!pip install tensorflowjs\nimport tensorflowjs as tfjs\ntfjs.converters.save_keras_model(model, \"tfjs_for_vuejs\")",
   "metadata": {
    "cell_id": "e780967029274e46a10805fb5fc23412",
    "tags": [],
    "deepnote_to_be_reexecuted": false,
    "source_hash": "fda8d0c8",
    "execution_start": 1664713570763,
    "execution_millis": 2750,
    "deepnote_cell_type": "code",
    "deepnote_cell_height": 732
   },
   "outputs": [
    {
     "name": "stdout",
     "text": "Requirement already satisfied: tensorflowjs in /root/venv/lib/python3.9/site-packages (3.20.0)\nRequirement already satisfied: importlib_resources>=5.9.0 in /root/venv/lib/python3.9/site-packages (from tensorflowjs) (5.9.0)\nRequirement already satisfied: protobuf<3.20,>=3.9.2 in /shared-libs/python3.9/py/lib/python3.9/site-packages (from tensorflowjs) (3.19.4)\nRequirement already satisfied: tensorflow-hub<0.13,>=0.7.0 in /root/venv/lib/python3.9/site-packages (from tensorflowjs) (0.12.0)\nRequirement already satisfied: tensorflow<3,>=2.1.0 in /shared-libs/python3.9/py/lib/python3.9/site-packages (from tensorflowjs) (2.10.0)\nRequirement already satisfied: six<2,>=1.12.0 in /shared-libs/python3.9/py-core/lib/python3.9/site-packages (from tensorflowjs) (1.16.0)\nCollecting packaging~=20.9\n  Using cached packaging-20.9-py2.py3-none-any.whl (40 kB)\nRequirement already satisfied: jax>=0.3.16 in /root/venv/lib/python3.9/site-packages (from tensorflowjs) (0.3.20)\nRequirement already satisfied: flax>=0.5.3 in /root/venv/lib/python3.9/site-packages (from tensorflowjs) (0.6.0)\nRequirement already satisfied: msgpack in /root/venv/lib/python3.9/site-packages (from flax>=0.5.3->tensorflowjs) (1.0.4)\nRequirement already satisfied: PyYAML>=5.4.1 in /root/venv/lib/python3.9/site-packages (from flax>=0.5.3->tensorflowjs) (6.0)\nRequirement already satisfied: numpy>=1.12 in /shared-libs/python3.9/py/lib/python3.9/site-packages (from flax>=0.5.3->tensorflowjs) (1.23.3)\nRequirement already satisfied: typing-extensions>=4.1.1 in /shared-libs/python3.9/py/lib/python3.9/site-packages (from flax>=0.5.3->tensorflowjs) (4.3.0)\nRequirement already satisfied: optax in /root/venv/lib/python3.9/site-packages (from flax>=0.5.3->tensorflowjs) (0.1.3)\nRequirement already satisfied: matplotlib in /shared-libs/python3.9/py/lib/python3.9/site-packages (from flax>=0.5.3->tensorflowjs) (3.5.3)\nRequirement already satisfied: rich~=11.1 in /root/venv/lib/python3.9/site-packages (from flax>=0.5.3->tensorflowjs) (11.2.0)\nRequirement already satisfied: zipp>=3.1.0 in /shared-libs/python3.9/py/lib/python3.9/site-packages (from importlib_resources>=5.9.0->tensorflowjs) (3.8.1)\nRequirement already satisfied: opt-einsum in /shared-libs/python3.9/py/lib/python3.9/site-packages (from jax>=0.3.16->tensorflowjs) (3.3.0)\nRequirement already satisfied: absl-py in /shared-libs/python3.9/py/lib/python3.9/site-packages (from jax>=0.3.16->tensorflowjs) (1.2.0)\nRequirement already satisfied: etils[epath] in /root/venv/lib/python3.9/site-packages (from jax>=0.3.16->tensorflowjs) (0.8.0)\nRequirement already satisfied: scipy>=1.5 in /shared-libs/python3.9/py/lib/python3.9/site-packages (from jax>=0.3.16->tensorflowjs) (1.9.1)\nRequirement already satisfied: pyparsing>=2.0.2 in /shared-libs/python3.9/py-core/lib/python3.9/site-packages (from packaging~=20.9->tensorflowjs) (3.0.9)\nRequirement already satisfied: libclang>=13.0.0 in /shared-libs/python3.9/py/lib/python3.9/site-packages (from tensorflow<3,>=2.1.0->tensorflowjs) (14.0.6)\nRequirement already satisfied: tensorflow-io-gcs-filesystem>=0.23.1 in /shared-libs/python3.9/py/lib/python3.9/site-packages (from tensorflow<3,>=2.1.0->tensorflowjs) (0.27.0)\nRequirement already satisfied: termcolor>=1.1.0 in /shared-libs/python3.9/py/lib/python3.9/site-packages (from tensorflow<3,>=2.1.0->tensorflowjs) (2.0.1)\nRequirement already satisfied: keras<2.11,>=2.10.0 in /shared-libs/python3.9/py/lib/python3.9/site-packages (from tensorflow<3,>=2.1.0->tensorflowjs) (2.10.0)\nRequirement already satisfied: h5py>=2.9.0 in /shared-libs/python3.9/py/lib/python3.9/site-packages (from tensorflow<3,>=2.1.0->tensorflowjs) (3.7.0)\nRequirement already satisfied: flatbuffers>=2.0 in /shared-libs/python3.9/py/lib/python3.9/site-packages (from tensorflow<3,>=2.1.0->tensorflowjs) (2.0.7)\nRequirement already satisfied: google-pasta>=0.1.1 in /shared-libs/python3.9/py/lib/python3.9/site-packages (from tensorflow<3,>=2.1.0->tensorflowjs) (0.2.0)\nRequirement already satisfied: gast<=0.4.0,>=0.2.1 in /shared-libs/python3.9/py/lib/python3.9/site-packages (from tensorflow<3,>=2.1.0->tensorflowjs) (0.4.0)\nRequirement already satisfied: tensorflow-estimator<2.11,>=2.10.0 in /shared-libs/python3.9/py/lib/python3.9/site-packages (from tensorflow<3,>=2.1.0->tensorflowjs) (2.10.0)\nRequirement already satisfied: wrapt>=1.11.0 in /shared-libs/python3.9/py/lib/python3.9/site-packages (from tensorflow<3,>=2.1.0->tensorflowjs) (1.14.1)\nRequirement already satisfied: keras-preprocessing>=1.1.1 in /shared-libs/python3.9/py/lib/python3.9/site-packages (from tensorflow<3,>=2.1.0->tensorflowjs) (1.1.2)\nRequirement already satisfied: tensorboard<2.11,>=2.10 in /shared-libs/python3.9/py/lib/python3.9/site-packages (from tensorflow<3,>=2.1.0->tensorflowjs) (2.10.0)\nRequirement already satisfied: setuptools in /root/venv/lib/python3.9/site-packages (from tensorflow<3,>=2.1.0->tensorflowjs) (58.1.0)\nRequirement already satisfied: grpcio<2.0,>=1.24.3 in /shared-libs/python3.9/py/lib/python3.9/site-packages (from tensorflow<3,>=2.1.0->tensorflowjs) (1.48.1)\nRequirement already satisfied: astunparse>=1.6.0 in /shared-libs/python3.9/py/lib/python3.9/site-packages (from tensorflow<3,>=2.1.0->tensorflowjs) (1.6.3)\nRequirement already satisfied: wheel<1.0,>=0.23.0 in /usr/local/lib/python3.9/site-packages (from astunparse>=1.6.0->tensorflow<3,>=2.1.0->tensorflowjs) (0.37.1)\nRequirement already satisfied: colorama<0.5.0,>=0.4.0 in /root/venv/lib/python3.9/site-packages (from rich~=11.1->flax>=0.5.3->tensorflowjs) (0.4.5)\nRequirement already satisfied: pygments<3.0.0,>=2.6.0 in /shared-libs/python3.9/py-core/lib/python3.9/site-packages (from rich~=11.1->flax>=0.5.3->tensorflowjs) (2.13.0)\nRequirement already satisfied: commonmark<0.10.0,>=0.9.0 in /root/venv/lib/python3.9/site-packages (from rich~=11.1->flax>=0.5.3->tensorflowjs) (0.9.1)\nRequirement already satisfied: google-auth-oauthlib<0.5,>=0.4.1 in /shared-libs/python3.9/py/lib/python3.9/site-packages (from tensorboard<2.11,>=2.10->tensorflow<3,>=2.1.0->tensorflowjs) (0.4.6)\nRequirement already satisfied: werkzeug>=1.0.1 in /shared-libs/python3.9/py/lib/python3.9/site-packages (from tensorboard<2.11,>=2.10->tensorflow<3,>=2.1.0->tensorflowjs) (2.2.2)\nRequirement already satisfied: tensorboard-data-server<0.7.0,>=0.6.0 in /shared-libs/python3.9/py/lib/python3.9/site-packages (from tensorboard<2.11,>=2.10->tensorflow<3,>=2.1.0->tensorflowjs) (0.6.1)\nRequirement already satisfied: tensorboard-plugin-wit>=1.6.0 in /shared-libs/python3.9/py/lib/python3.9/site-packages (from tensorboard<2.11,>=2.10->tensorflow<3,>=2.1.0->tensorflowjs) (1.8.1)\nRequirement already satisfied: markdown>=2.6.8 in /shared-libs/python3.9/py/lib/python3.9/site-packages (from tensorboard<2.11,>=2.10->tensorflow<3,>=2.1.0->tensorflowjs) (3.4.1)\nRequirement already satisfied: google-auth<3,>=1.6.3 in /shared-libs/python3.9/py/lib/python3.9/site-packages (from tensorboard<2.11,>=2.10->tensorflow<3,>=2.1.0->tensorflowjs) (2.11.0)\nRequirement already satisfied: requests<3,>=2.21.0 in /shared-libs/python3.9/py/lib/python3.9/site-packages (from tensorboard<2.11,>=2.10->tensorflow<3,>=2.1.0->tensorflowjs) (2.28.1)\nRequirement already satisfied: pillow>=6.2.0 in /shared-libs/python3.9/py/lib/python3.9/site-packages (from matplotlib->flax>=0.5.3->tensorflowjs) (9.2.0)\nRequirement already satisfied: python-dateutil>=2.7 in /shared-libs/python3.9/py-core/lib/python3.9/site-packages (from matplotlib->flax>=0.5.3->tensorflowjs) (2.8.2)\nRequirement already satisfied: cycler>=0.10 in /shared-libs/python3.9/py/lib/python3.9/site-packages (from matplotlib->flax>=0.5.3->tensorflowjs) (0.11.0)\nRequirement already satisfied: kiwisolver>=1.0.1 in /shared-libs/python3.9/py/lib/python3.9/site-packages (from matplotlib->flax>=0.5.3->tensorflowjs) (1.4.4)\nRequirement already satisfied: fonttools>=4.22.0 in /shared-libs/python3.9/py/lib/python3.9/site-packages (from matplotlib->flax>=0.5.3->tensorflowjs) (4.37.1)\nRequirement already satisfied: jaxlib>=0.1.37 in /root/venv/lib/python3.9/site-packages (from optax->flax>=0.5.3->tensorflowjs) (0.3.20)\nRequirement already satisfied: chex>=0.0.4 in /root/venv/lib/python3.9/site-packages (from optax->flax>=0.5.3->tensorflowjs) (0.1.5)\nRequirement already satisfied: toolz>=0.9.0 in /shared-libs/python3.9/py/lib/python3.9/site-packages (from chex>=0.0.4->optax->flax>=0.5.3->tensorflowjs) (0.12.0)\nRequirement already satisfied: dm-tree>=0.1.5 in /root/venv/lib/python3.9/site-packages (from chex>=0.0.4->optax->flax>=0.5.3->tensorflowjs) (0.1.7)\nRequirement already satisfied: rsa<5,>=3.1.4 in /shared-libs/python3.9/py/lib/python3.9/site-packages (from google-auth<3,>=1.6.3->tensorboard<2.11,>=2.10->tensorflow<3,>=2.1.0->tensorflowjs) (4.9)\nRequirement already satisfied: pyasn1-modules>=0.2.1 in /shared-libs/python3.9/py/lib/python3.9/site-packages (from google-auth<3,>=1.6.3->tensorboard<2.11,>=2.10->tensorflow<3,>=2.1.0->tensorflowjs) (0.2.8)\nRequirement already satisfied: cachetools<6.0,>=2.0.0 in /shared-libs/python3.9/py/lib/python3.9/site-packages (from google-auth<3,>=1.6.3->tensorboard<2.11,>=2.10->tensorflow<3,>=2.1.0->tensorflowjs) (5.2.0)\nRequirement already satisfied: requests-oauthlib>=0.7.0 in /shared-libs/python3.9/py/lib/python3.9/site-packages (from google-auth-oauthlib<0.5,>=0.4.1->tensorboard<2.11,>=2.10->tensorflow<3,>=2.1.0->tensorflowjs) (1.3.1)\nRequirement already satisfied: importlib-metadata>=4.4 in /shared-libs/python3.9/py/lib/python3.9/site-packages (from markdown>=2.6.8->tensorboard<2.11,>=2.10->tensorflow<3,>=2.1.0->tensorflowjs) (4.12.0)\nRequirement already satisfied: urllib3<1.27,>=1.21.1 in /shared-libs/python3.9/py/lib/python3.9/site-packages (from requests<3,>=2.21.0->tensorboard<2.11,>=2.10->tensorflow<3,>=2.1.0->tensorflowjs) (1.26.12)\nRequirement already satisfied: charset-normalizer<3,>=2 in /shared-libs/python3.9/py-core/lib/python3.9/site-packages (from requests<3,>=2.21.0->tensorboard<2.11,>=2.10->tensorflow<3,>=2.1.0->tensorflowjs) (2.1.1)\nRequirement already satisfied: idna<4,>=2.5 in /shared-libs/python3.9/py-core/lib/python3.9/site-packages (from requests<3,>=2.21.0->tensorboard<2.11,>=2.10->tensorflow<3,>=2.1.0->tensorflowjs) (3.3)\nRequirement already satisfied: certifi>=2017.4.17 in /shared-libs/python3.9/py/lib/python3.9/site-packages (from requests<3,>=2.21.0->tensorboard<2.11,>=2.10->tensorflow<3,>=2.1.0->tensorflowjs) (2022.6.15.1)\nCollecting MarkupSafe>=2.1.1\n  Using cached MarkupSafe-2.1.1-cp39-cp39-manylinux_2_17_x86_64.manylinux2014_x86_64.whl (25 kB)\nRequirement already satisfied: pyasn1<0.5.0,>=0.4.6 in /shared-libs/python3.9/py/lib/python3.9/site-packages (from pyasn1-modules>=0.2.1->google-auth<3,>=1.6.3->tensorboard<2.11,>=2.10->tensorflow<3,>=2.1.0->tensorflowjs) (0.4.8)\nRequirement already satisfied: oauthlib>=3.0.0 in /shared-libs/python3.9/py/lib/python3.9/site-packages (from requests-oauthlib>=0.7.0->google-auth-oauthlib<0.5,>=0.4.1->tensorboard<2.11,>=2.10->tensorflow<3,>=2.1.0->tensorflowjs) (3.2.1)\nInstalling collected packages: packaging, MarkupSafe\n  Attempting uninstall: packaging\n    Found existing installation: packaging 21.3\n    Not uninstalling packaging at /shared-libs/python3.9/py-core/lib/python3.9/site-packages, outside environment /root/venv\n    Can't uninstall 'packaging'. No files were found to uninstall.\n  Attempting uninstall: MarkupSafe\n    Found existing installation: MarkupSafe 2.0.1\n    Not uninstalling markupsafe at /shared-libs/python3.9/py-core/lib/python3.9/site-packages, outside environment /root/venv\n    Can't uninstall 'MarkupSafe'. No files were found to uninstall.\nSuccessfully installed MarkupSafe-2.1.1 packaging-20.9\n\u001b[33mWARNING: You are using pip version 22.0.4; however, version 22.2.2 is available.\nYou should consider upgrading via the '/root/venv/bin/python -m pip install --upgrade pip' command.\u001b[0m\u001b[33m\n\u001b[0m",
     "output_type": "stream"
    }
   ],
   "execution_count": 25
  },
  {
   "cell_type": "code",
   "source": "model.predict([[0.00190004, 0.        , 0.        , 0.        , 1.        ]])\n",
   "metadata": {
    "cell_id": "caba8b06969a471182162732361e9aa3",
    "tags": [],
    "deepnote_to_be_reexecuted": false,
    "source_hash": "4104ce16",
    "execution_start": 1664713573515,
    "execution_millis": 186,
    "deepnote_cell_type": "code",
    "deepnote_cell_height": 176,
    "deepnote_output_heights": [
     null,
     20
    ]
   },
   "outputs": [
    {
     "name": "stdout",
     "text": "1/1 [==============================] - 0s 26ms/step\n",
     "output_type": "stream"
    },
    {
     "output_type": "execute_result",
     "execution_count": 26,
     "data": {
      "text/plain": "array([[2.4593173e-05]], dtype=float32)"
     },
     "metadata": {}
    }
   ],
   "execution_count": 26
  },
  {
   "cell_type": "markdown",
   "source": "<a style='text-decoration:none;line-height:16px;display:flex;color:#5B5B62;padding:10px;justify-content:end;' href='https://deepnote.com?utm_source=created-in-deepnote-cell&projectId=03c1f381-4bef-44c8-9167-00386ebceba9' target=\"_blank\">\n<img alt='Created in deepnote.com' style='display:inline;max-height:16px;margin:0px;margin-right:7.5px;' src='data:image/svg+xml;base64,PD94bWwgdmVyc2lvbj0iMS4wIiBlbmNvZGluZz0iVVRGLTgiPz4KPHN2ZyB3aWR0aD0iODBweCIgaGVpZ2h0PSI4MHB4IiB2aWV3Qm94PSIwIDAgODAgODAiIHZlcnNpb249IjEuMSIgeG1sbnM9Imh0dHA6Ly93d3cudzMub3JnLzIwMDAvc3ZnIiB4bWxuczp4bGluaz0iaHR0cDovL3d3dy53My5vcmcvMTk5OS94bGluayI+CiAgICA8IS0tIEdlbmVyYXRvcjogU2tldGNoIDU0LjEgKDc2NDkwKSAtIGh0dHBzOi8vc2tldGNoYXBwLmNvbSAtLT4KICAgIDx0aXRsZT5Hcm91cCAzPC90aXRsZT4KICAgIDxkZXNjPkNyZWF0ZWQgd2l0aCBTa2V0Y2guPC9kZXNjPgogICAgPGcgaWQ9IkxhbmRpbmciIHN0cm9rZT0ibm9uZSIgc3Ryb2tlLXdpZHRoPSIxIiBmaWxsPSJub25lIiBmaWxsLXJ1bGU9ImV2ZW5vZGQiPgogICAgICAgIDxnIGlkPSJBcnRib2FyZCIgdHJhbnNmb3JtPSJ0cmFuc2xhdGUoLTEyMzUuMDAwMDAwLCAtNzkuMDAwMDAwKSI+CiAgICAgICAgICAgIDxnIGlkPSJHcm91cC0zIiB0cmFuc2Zvcm09InRyYW5zbGF0ZSgxMjM1LjAwMDAwMCwgNzkuMDAwMDAwKSI+CiAgICAgICAgICAgICAgICA8cG9seWdvbiBpZD0iUGF0aC0yMCIgZmlsbD0iIzAyNjVCNCIgcG9pbnRzPSIyLjM3NjIzNzYyIDgwIDM4LjA0NzY2NjcgODAgNTcuODIxNzgyMiA3My44MDU3NTkyIDU3LjgyMTc4MjIgMzIuNzU5MjczOSAzOS4xNDAyMjc4IDMxLjY4MzE2ODMiPjwvcG9seWdvbj4KICAgICAgICAgICAgICAgIDxwYXRoIGQ9Ik0zNS4wMDc3MTgsODAgQzQyLjkwNjIwMDcsNzYuNDU0OTM1OCA0Ny41NjQ5MTY3LDcxLjU0MjI2NzEgNDguOTgzODY2LDY1LjI2MTk5MzkgQzUxLjExMjI4OTksNTUuODQxNTg0MiA0MS42NzcxNzk1LDQ5LjIxMjIyODQgMjUuNjIzOTg0Niw0OS4yMTIyMjg0IEMyNS40ODQ5Mjg5LDQ5LjEyNjg0NDggMjkuODI2MTI5Niw0My4yODM4MjQ4IDM4LjY0NzU4NjksMzEuNjgzMTY4MyBMNzIuODcxMjg3MSwzMi41NTQ0MjUgTDY1LjI4MDk3Myw2Ny42NzYzNDIxIEw1MS4xMTIyODk5LDc3LjM3NjE0NCBMMzUuMDA3NzE4LDgwIFoiIGlkPSJQYXRoLTIyIiBmaWxsPSIjMDAyODY4Ij48L3BhdGg+CiAgICAgICAgICAgICAgICA8cGF0aCBkPSJNMCwzNy43MzA0NDA1IEwyNy4xMTQ1MzcsMC4yNTcxMTE0MzYgQzYyLjM3MTUxMjMsLTEuOTkwNzE3MDEgODAsMTAuNTAwMzkyNyA4MCwzNy43MzA0NDA1IEM4MCw2NC45NjA0ODgyIDY0Ljc3NjUwMzgsNzkuMDUwMzQxNCAzNC4zMjk1MTEzLDgwIEM0Ny4wNTUzNDg5LDc3LjU2NzA4MDggNTMuNDE4MjY3Nyw3MC4zMTM2MTAzIDUzLjQxODI2NzcsNTguMjM5NTg4NSBDNTMuNDE4MjY3Nyw0MC4xMjg1NTU3IDM2LjMwMzk1NDQsMzcuNzMwNDQwNSAyNS4yMjc0MTcsMzcuNzMwNDQwNSBDMTcuODQzMDU4NiwzNy43MzA0NDA1IDkuNDMzOTE5NjYsMzcuNzMwNDQwNSAwLDM3LjczMDQ0MDUgWiIgaWQ9IlBhdGgtMTkiIGZpbGw9IiMzNzkzRUYiPjwvcGF0aD4KICAgICAgICAgICAgPC9nPgogICAgICAgIDwvZz4KICAgIDwvZz4KPC9zdmc+' > </img>\nCreated in <span style='font-weight:600;margin-left:4px;'>Deepnote</span></a>",
   "metadata": {
    "tags": [],
    "created_in_deepnote_cell": true,
    "deepnote_cell_type": "markdown"
   }
  }
 ],
 "nbformat": 4,
 "nbformat_minor": 2,
 "metadata": {
  "orig_nbformat": 2,
  "deepnote": {},
  "deepnote_notebook_id": "f3e7fc64-4233-42a4-bcf1-219af1625d05",
  "deepnote_execution_queue": [],
  "deepnote_persisted_session": {
   "createdAt": "2022-10-02T09:09:47.312Z"
  }
 }
}