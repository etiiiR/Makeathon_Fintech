{
 "cells": [
  {
   "cell_type": "code",
   "source": "import numpy as np\nimport pandas as pd\nimport seaborn as sns\nimport matplotlib.pyplot as plt\n\nfrom sklearn.linear_model import LogisticRegression\nfrom sklearn.model_selection import train_test_split\n\nfrom keras.models import Sequential\nfrom keras.layers import Dense\nfrom keras.metrics import BinaryAccuracy\n",
   "metadata": {
    "cell_id": "71740b262ec245b9ac39e0c6dba0df48",
    "tags": [],
    "deepnote_to_be_reexecuted": false,
    "source_hash": "81054c4b",
    "execution_start": 1664647567466,
    "execution_millis": 0,
    "deepnote_cell_type": "code",
    "deepnote_cell_height": 274
   },
   "outputs": [],
   "execution_count": 34
  },
  {
   "cell_type": "code",
   "source": "data = pd.read_csv('Washington_State_HDMA-2016.csv') # description: https://cfpb.github.io/hmda-platform/#data-browser-api",
   "metadata": {
    "cell_id": "6739ff164c0d4e3188c4657bd82845f8",
    "tags": [],
    "deepnote_to_be_reexecuted": false,
    "source_hash": "d755737e",
    "execution_start": 1664645520696,
    "execution_millis": 2570,
    "deepnote_cell_type": "code",
    "deepnote_cell_height": 136
   },
   "outputs": [
    {
     "name": "stderr",
     "text": "/shared-libs/python3.9/py-core/lib/python3.9/site-packages/IPython/core/interactiveshell.py:3139: DtypeWarning: Columns (23,24,25,28,29,30,38,39,40) have mixed types.Specify dtype option on import or set low_memory=False.\n  has_raised = await self.run_ast_nodes(code_ast.body, cell_name,\n",
     "output_type": "stream"
    }
   ],
   "execution_count": 2
  },
  {
   "cell_type": "code",
   "source": "data",
   "metadata": {
    "cell_id": "b314b7ab1f6848e68480e719e08ef794",
    "tags": [],
    "deepnote_to_be_reexecuted": false,
    "source_hash": "e6928a8f",
    "execution_start": 1664645523268,
    "execution_millis": 533,
    "deepnote_cell_type": "code",
    "deepnote_cell_height": 595
   },
   "outputs": [
    {
     "output_type": "execute_result",
     "execution_count": 3,
     "data": {
      "application/vnd.deepnote.dataframe.v3+json": {
       "column_count": 47,
       "row_count": 466566,
       "columns": [
        {
         "name": "tract_to_msamd_income",
         "dtype": "float64"
        },
        {
         "name": "rate_spread",
         "dtype": "float64"
        },
        {
         "name": "population",
         "dtype": "float64"
        },
        {
         "name": "minority_population",
         "dtype": "float64"
        },
        {
         "name": "number_of_owner_occupied_units",
         "dtype": "float64"
        },
        {
         "name": "number_of_1_to_4_family_units",
         "dtype": "float64"
        },
        {
         "name": "loan_amount_000s",
         "dtype": "int64"
        },
        {
         "name": "hud_median_family_income",
         "dtype": "float64"
        },
        {
         "name": "applicant_income_000s",
         "dtype": "float64"
        },
        {
         "name": "state_name",
         "dtype": "object"
        },
        {
         "name": "state_abbr",
         "dtype": "object"
        },
        {
         "name": "sequence_number",
         "dtype": "int64"
        },
        {
         "name": "respondent_id",
         "dtype": "object"
        },
        {
         "name": "purchaser_type_name",
         "dtype": "object"
        },
        {
         "name": "property_type_name",
         "dtype": "object"
        },
        {
         "name": "preapproval_name",
         "dtype": "object"
        },
        {
         "name": "owner_occupancy_name",
         "dtype": "object"
        },
        {
         "name": "msamd_name",
         "dtype": "object"
        },
        {
         "name": "loan_type_name",
         "dtype": "object"
        },
        {
         "name": "loan_purpose_name",
         "dtype": "object"
        },
        {
         "name": "lien_status_name",
         "dtype": "object"
        },
        {
         "name": "hoepa_status_name",
         "dtype": "object"
        },
        {
         "name": "edit_status_name",
         "dtype": "object"
        },
        {
         "name": "denial_reason_name_3",
         "dtype": "object"
        },
        {
         "name": "denial_reason_name_2",
         "dtype": "object"
        },
        {
         "name": "denial_reason_name_1",
         "dtype": "object"
        },
        {
         "name": "county_name",
         "dtype": "object"
        },
        {
         "name": "co_applicant_sex_name",
         "dtype": "object"
        },
        {
         "name": "co_applicant_race_name_5",
         "dtype": "object"
        },
        {
         "name": "co_applicant_race_name_4",
         "dtype": "object"
        },
        {
         "name": "co_applicant_race_name_3",
         "dtype": "object"
        },
        {
         "name": "co_applicant_race_name_2",
         "dtype": "object"
        },
        {
         "name": "co_applicant_race_name_1",
         "dtype": "object"
        },
        {
         "name": "co_applicant_ethnicity_name",
         "dtype": "object"
        },
        {
         "name": "census_tract_number",
         "dtype": "float64"
        },
        {
         "name": "as_of_year",
         "dtype": "int64"
        },
        {
         "name": "application_date_indicator",
         "dtype": "int64"
        },
        {
         "name": "applicant_sex_name",
         "dtype": "object"
        },
        {
         "name": "applicant_race_name_5",
         "dtype": "object"
        },
        {
         "name": "applicant_race_name_4",
         "dtype": "object"
        },
        {
         "name": "applicant_race_name_3",
         "dtype": "object"
        },
        {
         "name": "applicant_race_name_2",
         "dtype": "object"
        },
        {
         "name": "applicant_race_name_1",
         "dtype": "object"
        },
        {
         "name": "applicant_ethnicity_name",
         "dtype": "object"
        },
        {
         "name": "agency_name",
         "dtype": "object"
        },
        {
         "name": "agency_abbr",
         "dtype": "object"
        },
        {
         "name": "action_taken_name",
         "dtype": "object"
        },
        {
         "name": "_deepnote_index_column",
         "dtype": "int64"
        }
       ],
       "rows": [
        {
         "tract_to_msamd_income": "121.6900024",
         "rate_spread": "nan",
         "population": "8381.0",
         "minority_population": "23.79000092",
         "number_of_owner_occupied_units": "2175.0",
         "number_of_1_to_4_family_units": "2660.0",
         "loan_amount_000s": "227",
         "hud_median_family_income": "73300.0",
         "applicant_income_000s": "116.0",
         "state_name": "Washington",
         "state_abbr": "WA",
         "sequence_number": "119969",
         "respondent_id": "480228",
         "purchaser_type_name": "Freddie Mac (FHLMC)",
         "property_type_name": "One-to-four family dwelling (other than manufactured housing)",
         "preapproval_name": "Not applicable",
         "owner_occupancy_name": "Owner-occupied as a principal dwelling",
         "msamd_name": "Portland, Vancouver, Hillsboro - OR, WA",
         "loan_type_name": "Conventional",
         "loan_purpose_name": "Refinancing",
         "lien_status_name": "Secured by a first lien",
         "hoepa_status_name": "Not a HOEPA loan",
         "edit_status_name": "nan",
         "denial_reason_name_3": "nan",
         "denial_reason_name_2": "nan",
         "denial_reason_name_1": "nan",
         "county_name": "Clark County",
         "co_applicant_sex_name": "Male",
         "co_applicant_race_name_5": "nan",
         "co_applicant_race_name_4": "nan",
         "co_applicant_race_name_3": "nan",
         "co_applicant_race_name_2": "nan",
         "co_applicant_race_name_1": "Information not provided by applicant in mail, Internet, or telephone application",
         "co_applicant_ethnicity_name": "Not Hispanic or Latino",
         "census_tract_number": "413.27",
         "as_of_year": "2016",
         "application_date_indicator": "0",
         "applicant_sex_name": "Female",
         "applicant_race_name_5": "nan",
         "applicant_race_name_4": "nan",
         "applicant_race_name_3": "nan",
         "applicant_race_name_2": "nan",
         "applicant_race_name_1": "Information not provided by applicant in mail, Internet, or telephone application",
         "applicant_ethnicity_name": "Not Hispanic or Latino",
         "agency_name": "Consumer Financial Protection Bureau",
         "agency_abbr": "CFPB",
         "action_taken_name": "Loan originated",
         "_deepnote_index_column": "0"
        },
        {
         "tract_to_msamd_income": "83.37000275",
         "rate_spread": "nan",
         "population": "4915.0",
         "minority_population": "23.98999977",
         "number_of_owner_occupied_units": "1268.0",
         "number_of_1_to_4_family_units": "1777.0",
         "loan_amount_000s": "240",
         "hud_median_family_income": "57900.0",
         "applicant_income_000s": "42.0",
         "state_name": "Washington",
         "state_abbr": "WA",
         "sequence_number": "52605",
         "respondent_id": "7257500009",
         "purchaser_type_name": "Life insurance company, credit union, mortgage bank, or finance company",
         "property_type_name": "One-to-four family dwelling (other than manufactured housing)",
         "preapproval_name": "Not applicable",
         "owner_occupancy_name": "Owner-occupied as a principal dwelling",
         "msamd_name": "Walla Walla - WA",
         "loan_type_name": "FHA-insured",
         "loan_purpose_name": "Home purchase",
         "lien_status_name": "Secured by a first lien",
         "hoepa_status_name": "Not a HOEPA loan",
         "edit_status_name": "nan",
         "denial_reason_name_3": "nan",
         "denial_reason_name_2": "nan",
         "denial_reason_name_1": "nan",
         "county_name": "Walla Walla County",
         "co_applicant_sex_name": "No co-applicant",
         "co_applicant_race_name_5": "nan",
         "co_applicant_race_name_4": "nan",
         "co_applicant_race_name_3": "nan",
         "co_applicant_race_name_2": "nan",
         "co_applicant_race_name_1": "No co-applicant",
         "co_applicant_ethnicity_name": "No co-applicant",
         "census_tract_number": "9208.01",
         "as_of_year": "2016",
         "application_date_indicator": "0",
         "applicant_sex_name": "Male",
         "applicant_race_name_5": "nan",
         "applicant_race_name_4": "nan",
         "applicant_race_name_3": "nan",
         "applicant_race_name_2": "nan",
         "applicant_race_name_1": "White",
         "applicant_ethnicity_name": "Hispanic or Latino",
         "agency_name": "Department of Housing and Urban Development",
         "agency_abbr": "HUD",
         "action_taken_name": "Loan originated",
         "_deepnote_index_column": "1"
        },
        {
         "tract_to_msamd_income": "91.12999725",
         "rate_spread": "nan",
         "population": "5075.0",
         "minority_population": "11.81999969",
         "number_of_owner_occupied_units": "1136.0",
         "number_of_1_to_4_family_units": "1838.0",
         "loan_amount_000s": "241",
         "hud_median_family_income": "73300.0",
         "applicant_income_000s": "117.0",
         "state_name": "Washington",
         "state_abbr": "WA",
         "sequence_number": "6210",
         "respondent_id": "72-1545376",
         "purchaser_type_name": "Loan was not originated or was not sold in calendar year covered by register",
         "property_type_name": "One-to-four family dwelling (other than manufactured housing)",
         "preapproval_name": "Not applicable",
         "owner_occupancy_name": "Owner-occupied as a principal dwelling",
         "msamd_name": "Portland, Vancouver, Hillsboro - OR, WA",
         "loan_type_name": "Conventional",
         "loan_purpose_name": "Refinancing",
         "lien_status_name": "Secured by a first lien",
         "hoepa_status_name": "Not a HOEPA loan",
         "edit_status_name": "nan",
         "denial_reason_name_3": "nan",
         "denial_reason_name_2": "nan",
         "denial_reason_name_1": "nan",
         "county_name": "Clark County",
         "co_applicant_sex_name": "Female",
         "co_applicant_race_name_5": "nan",
         "co_applicant_race_name_4": "nan",
         "co_applicant_race_name_3": "nan",
         "co_applicant_race_name_2": "nan",
         "co_applicant_race_name_1": "White",
         "co_applicant_ethnicity_name": "Not Hispanic or Latino",
         "census_tract_number": "414.0",
         "as_of_year": "2016",
         "application_date_indicator": "0",
         "applicant_sex_name": "Male",
         "applicant_race_name_5": "nan",
         "applicant_race_name_4": "nan",
         "applicant_race_name_3": "nan",
         "applicant_race_name_2": "nan",
         "applicant_race_name_1": "White",
         "applicant_ethnicity_name": "Not Hispanic or Latino",
         "agency_name": "Department of Housing and Urban Development",
         "agency_abbr": "HUD",
         "action_taken_name": "Loan originated",
         "_deepnote_index_column": "2"
        },
        {
         "tract_to_msamd_income": "146.1699982",
         "rate_spread": "nan",
         "population": "5032.0",
         "minority_population": "8.590000153",
         "number_of_owner_occupied_units": "1525.0",
         "number_of_1_to_4_family_units": "1820.0",
         "loan_amount_000s": "351",
         "hud_median_family_income": "73300.0",
         "applicant_income_000s": "315.0",
         "state_name": "Washington",
         "state_abbr": "WA",
         "sequence_number": "197",
         "respondent_id": "4878",
         "purchaser_type_name": "Loan was not originated or was not sold in calendar year covered by register",
         "property_type_name": "One-to-four family dwelling (other than manufactured housing)",
         "preapproval_name": "Not applicable",
         "owner_occupancy_name": "Owner-occupied as a principal dwelling",
         "msamd_name": "Portland, Vancouver, Hillsboro - OR, WA",
         "loan_type_name": "Conventional",
         "loan_purpose_name": "Refinancing",
         "lien_status_name": "Secured by a first lien",
         "hoepa_status_name": "Not a HOEPA loan",
         "edit_status_name": "nan",
         "denial_reason_name_3": "nan",
         "denial_reason_name_2": "nan",
         "denial_reason_name_1": "nan",
         "county_name": "Clark County",
         "co_applicant_sex_name": "Female",
         "co_applicant_race_name_5": "nan",
         "co_applicant_race_name_4": "nan",
         "co_applicant_race_name_3": "nan",
         "co_applicant_race_name_2": "nan",
         "co_applicant_race_name_1": "Information not provided by applicant in mail, Internet, or telephone application",
         "co_applicant_ethnicity_name": "Information not provided by applicant in mail, Internet, or telephone application",
         "census_tract_number": "405.1",
         "as_of_year": "2016",
         "application_date_indicator": "0",
         "applicant_sex_name": "Male",
         "applicant_race_name_5": "nan",
         "applicant_race_name_4": "nan",
         "applicant_race_name_3": "nan",
         "applicant_race_name_2": "nan",
         "applicant_race_name_1": "Information not provided by applicant in mail, Internet, or telephone application",
         "applicant_ethnicity_name": "Information not provided by applicant in mail, Internet, or telephone application",
         "agency_name": "National Credit Union Administration",
         "agency_abbr": "NCUA",
         "action_taken_name": "Loan originated",
         "_deepnote_index_column": "3"
        },
        {
         "tract_to_msamd_income": "162.4700012",
         "rate_spread": "nan",
         "population": "5183.0",
         "minority_population": "10.5",
         "number_of_owner_occupied_units": "1705.0",
         "number_of_1_to_4_family_units": "2104.0",
         "loan_amount_000s": "417",
         "hud_median_family_income": "78100.0",
         "applicant_income_000s": "114.0",
         "state_name": "Washington",
         "state_abbr": "WA",
         "sequence_number": "32582",
         "respondent_id": "32489",
         "purchaser_type_name": "Freddie Mac (FHLMC)",
         "property_type_name": "One-to-four family dwelling (other than manufactured housing)",
         "preapproval_name": "Not applicable",
         "owner_occupancy_name": "Owner-occupied as a principal dwelling",
         "msamd_name": "Bremerton, Silverdale - WA",
         "loan_type_name": "Conventional",
         "loan_purpose_name": "Home improvement",
         "lien_status_name": "Secured by a first lien",
         "hoepa_status_name": "Not a HOEPA loan",
         "edit_status_name": "nan",
         "denial_reason_name_3": "nan",
         "denial_reason_name_2": "nan",
         "denial_reason_name_1": "nan",
         "county_name": "Kitsap County",
         "co_applicant_sex_name": "Male",
         "co_applicant_race_name_5": "nan",
         "co_applicant_race_name_4": "nan",
         "co_applicant_race_name_3": "nan",
         "co_applicant_race_name_2": "nan",
         "co_applicant_race_name_1": "White",
         "co_applicant_ethnicity_name": "Not Hispanic or Latino",
         "census_tract_number": "907.0",
         "as_of_year": "2016",
         "application_date_indicator": "0",
         "applicant_sex_name": "Female",
         "applicant_race_name_5": "nan",
         "applicant_race_name_4": "nan",
         "applicant_race_name_3": "nan",
         "applicant_race_name_2": "nan",
         "applicant_race_name_1": "White",
         "applicant_ethnicity_name": "Not Hispanic or Latino",
         "agency_name": "Federal Deposit Insurance Corporation",
         "agency_abbr": "FDIC",
         "action_taken_name": "Loan originated",
         "_deepnote_index_column": "4"
        },
        {
         "tract_to_msamd_income": "119.6299973",
         "rate_spread": "nan",
         "population": "4775.0",
         "minority_population": "18.88999939",
         "number_of_owner_occupied_units": "954.0",
         "number_of_1_to_4_family_units": "1332.0",
         "loan_amount_000s": "206",
         "hud_median_family_income": "72300.0",
         "applicant_income_000s": "nan",
         "state_name": "Washington",
         "state_abbr": "WA",
         "sequence_number": "6270",
         "respondent_id": "24671",
         "purchaser_type_name": "Life insurance company, credit union, mortgage bank, or finance company",
         "property_type_name": "One-to-four family dwelling (other than manufactured housing)",
         "preapproval_name": "Not applicable",
         "owner_occupancy_name": "Owner-occupied as a principal dwelling",
         "msamd_name": "Tacoma, Lakewood - WA",
         "loan_type_name": "VA-guaranteed",
         "loan_purpose_name": "Refinancing",
         "lien_status_name": "Secured by a first lien",
         "hoepa_status_name": "Not a HOEPA loan",
         "edit_status_name": "Quality edit failure only",
         "denial_reason_name_3": "nan",
         "denial_reason_name_2": "nan",
         "denial_reason_name_1": "nan",
         "county_name": "Pierce County",
         "co_applicant_sex_name": "No co-applicant",
         "co_applicant_race_name_5": "nan",
         "co_applicant_race_name_4": "nan",
         "co_applicant_race_name_3": "nan",
         "co_applicant_race_name_2": "nan",
         "co_applicant_race_name_1": "No co-applicant",
         "co_applicant_ethnicity_name": "No co-applicant",
         "census_tract_number": "734.06",
         "as_of_year": "2016",
         "application_date_indicator": "0",
         "applicant_sex_name": "Male",
         "applicant_race_name_5": "nan",
         "applicant_race_name_4": "nan",
         "applicant_race_name_3": "nan",
         "applicant_race_name_2": "nan",
         "applicant_race_name_1": "White",
         "applicant_ethnicity_name": "Not Hispanic or Latino",
         "agency_name": "Office of the Comptroller of the Currency",
         "agency_abbr": "OCC",
         "action_taken_name": "Loan originated",
         "_deepnote_index_column": "5"
        },
        {
         "tract_to_msamd_income": "103.2099991",
         "rate_spread": "nan",
         "population": "4745.0",
         "minority_population": "33.06999969",
         "number_of_owner_occupied_units": "1337.0",
         "number_of_1_to_4_family_units": "1442.0",
         "loan_amount_000s": "356",
         "hud_median_family_income": "90300.0",
         "applicant_income_000s": "nan",
         "state_name": "Washington",
         "state_abbr": "WA",
         "sequence_number": "10009",
         "respondent_id": "6443809990",
         "purchaser_type_name": "Ginnie Mae (GNMA)",
         "property_type_name": "One-to-four family dwelling (other than manufactured housing)",
         "preapproval_name": "Not applicable",
         "owner_occupancy_name": "Owner-occupied as a principal dwelling",
         "msamd_name": "Seattle, Bellevue, Everett - WA",
         "loan_type_name": "VA-guaranteed",
         "loan_purpose_name": "Refinancing",
         "lien_status_name": "Secured by a first lien",
         "hoepa_status_name": "Not a HOEPA loan",
         "edit_status_name": "Quality edit failure only",
         "denial_reason_name_3": "nan",
         "denial_reason_name_2": "nan",
         "denial_reason_name_1": "nan",
         "county_name": "Snohomish County",
         "co_applicant_sex_name": "No co-applicant",
         "co_applicant_race_name_5": "nan",
         "co_applicant_race_name_4": "nan",
         "co_applicant_race_name_3": "nan",
         "co_applicant_race_name_2": "nan",
         "co_applicant_race_name_1": "No co-applicant",
         "co_applicant_ethnicity_name": "No co-applicant",
         "census_tract_number": "519.23",
         "as_of_year": "2016",
         "application_date_indicator": "0",
         "applicant_sex_name": "Male",
         "applicant_race_name_5": "nan",
         "applicant_race_name_4": "nan",
         "applicant_race_name_3": "nan",
         "applicant_race_name_2": "nan",
         "applicant_race_name_1": "White",
         "applicant_ethnicity_name": "Not Hispanic or Latino",
         "agency_name": "Department of Housing and Urban Development",
         "agency_abbr": "HUD",
         "action_taken_name": "Loan originated",
         "_deepnote_index_column": "6"
        },
        {
         "tract_to_msamd_income": "93.76999664",
         "rate_spread": "nan",
         "population": "7451.0",
         "minority_population": "33.40000153",
         "number_of_owner_occupied_units": "1761.0",
         "number_of_1_to_4_family_units": "2478.0",
         "loan_amount_000s": "265",
         "hud_median_family_income": "72300.0",
         "applicant_income_000s": "nan",
         "state_name": "Washington",
         "state_abbr": "WA",
         "sequence_number": "192917",
         "respondent_id": "504713",
         "purchaser_type_name": "Ginnie Mae (GNMA)",
         "property_type_name": "One-to-four family dwelling (other than manufactured housing)",
         "preapproval_name": "Not applicable",
         "owner_occupancy_name": "Owner-occupied as a principal dwelling",
         "msamd_name": "Tacoma, Lakewood - WA",
         "loan_type_name": "VA-guaranteed",
         "loan_purpose_name": "Refinancing",
         "lien_status_name": "Secured by a first lien",
         "hoepa_status_name": "Not a HOEPA loan",
         "edit_status_name": "Quality edit failure only",
         "denial_reason_name_3": "nan",
         "denial_reason_name_2": "nan",
         "denial_reason_name_1": "nan",
         "county_name": "Pierce County",
         "co_applicant_sex_name": "Female",
         "co_applicant_race_name_5": "nan",
         "co_applicant_race_name_4": "nan",
         "co_applicant_race_name_3": "nan",
         "co_applicant_race_name_2": "nan",
         "co_applicant_race_name_1": "White",
         "co_applicant_ethnicity_name": "Not Hispanic or Latino",
         "census_tract_number": "731.08",
         "as_of_year": "2016",
         "application_date_indicator": "0",
         "applicant_sex_name": "Male",
         "applicant_race_name_5": "nan",
         "applicant_race_name_4": "nan",
         "applicant_race_name_3": "nan",
         "applicant_race_name_2": "nan",
         "applicant_race_name_1": "White",
         "applicant_ethnicity_name": "Not Hispanic or Latino",
         "agency_name": "Consumer Financial Protection Bureau",
         "agency_abbr": "CFPB",
         "action_taken_name": "Loan originated",
         "_deepnote_index_column": "7"
        },
        {
         "tract_to_msamd_income": "109.5800018",
         "rate_spread": "nan",
         "population": "6567.0",
         "minority_population": "21.70999908",
         "number_of_owner_occupied_units": "1130.0",
         "number_of_1_to_4_family_units": "1579.0",
         "loan_amount_000s": "131",
         "hud_median_family_income": "73600.0",
         "applicant_income_000s": "nan",
         "state_name": "Washington",
         "state_abbr": "WA",
         "sequence_number": "52027",
         "respondent_id": "20-8745846",
         "purchaser_type_name": "Ginnie Mae (GNMA)",
         "property_type_name": "One-to-four family dwelling (other than manufactured housing)",
         "preapproval_name": "Not applicable",
         "owner_occupancy_name": "Owner-occupied as a principal dwelling",
         "msamd_name": "Olympia, Tumwater - WA",
         "loan_type_name": "FHA-insured",
         "loan_purpose_name": "Refinancing",
         "lien_status_name": "Secured by a first lien",
         "hoepa_status_name": "Not a HOEPA loan",
         "edit_status_name": "Quality edit failure only",
         "denial_reason_name_3": "nan",
         "denial_reason_name_2": "nan",
         "denial_reason_name_1": "nan",
         "county_name": "Thurston County",
         "co_applicant_sex_name": "No co-applicant",
         "co_applicant_race_name_5": "nan",
         "co_applicant_race_name_4": "nan",
         "co_applicant_race_name_3": "nan",
         "co_applicant_race_name_2": "nan",
         "co_applicant_race_name_1": "No co-applicant",
         "co_applicant_ethnicity_name": "No co-applicant",
         "census_tract_number": "109.1",
         "as_of_year": "2016",
         "application_date_indicator": "0",
         "applicant_sex_name": "Male",
         "applicant_race_name_5": "nan",
         "applicant_race_name_4": "nan",
         "applicant_race_name_3": "nan",
         "applicant_race_name_2": "nan",
         "applicant_race_name_1": "White",
         "applicant_ethnicity_name": "Not Hispanic or Latino",
         "agency_name": "Department of Housing and Urban Development",
         "agency_abbr": "HUD",
         "action_taken_name": "Loan originated",
         "_deepnote_index_column": "8"
        },
        {
         "tract_to_msamd_income": "87.16000366",
         "rate_spread": "nan",
         "population": "9326.0",
         "minority_population": "19.39999962",
         "number_of_owner_occupied_units": "2449.0",
         "number_of_1_to_4_family_units": "3403.0",
         "loan_amount_000s": "199",
         "hud_median_family_income": "61400.0",
         "applicant_income_000s": "37.0",
         "state_name": "Washington",
         "state_abbr": "WA",
         "sequence_number": "490",
         "respondent_id": "6158",
         "purchaser_type_name": "Life insurance company, credit union, mortgage bank, or finance company",
         "property_type_name": "One-to-four family dwelling (other than manufactured housing)",
         "preapproval_name": "Preapproval was not requested",
         "owner_occupancy_name": "Owner-occupied as a principal dwelling",
         "msamd_name": "Mount Vernon, Anacortes - WA",
         "loan_type_name": "Conventional",
         "loan_purpose_name": "Home purchase",
         "lien_status_name": "Secured by a first lien",
         "hoepa_status_name": "Not a HOEPA loan",
         "edit_status_name": "nan",
         "denial_reason_name_3": "nan",
         "denial_reason_name_2": "nan",
         "denial_reason_name_1": "nan",
         "county_name": "Skagit County",
         "co_applicant_sex_name": "No co-applicant",
         "co_applicant_race_name_5": "nan",
         "co_applicant_race_name_4": "nan",
         "co_applicant_race_name_3": "nan",
         "co_applicant_race_name_2": "nan",
         "co_applicant_race_name_1": "No co-applicant",
         "co_applicant_ethnicity_name": "No co-applicant",
         "census_tract_number": "9515.0",
         "as_of_year": "2016",
         "application_date_indicator": "0",
         "applicant_sex_name": "Male",
         "applicant_race_name_5": "nan",
         "applicant_race_name_4": "nan",
         "applicant_race_name_3": "nan",
         "applicant_race_name_2": "nan",
         "applicant_race_name_1": "White",
         "applicant_ethnicity_name": "Not Hispanic or Latino",
         "agency_name": "Federal Deposit Insurance Corporation",
         "agency_abbr": "FDIC",
         "action_taken_name": "Loan originated",
         "_deepnote_index_column": "9"
        }
       ]
      },
      "text/plain": "        tract_to_msamd_income  rate_spread  population  minority_population  \\\n0                  121.690002          NaN      8381.0            23.790001   \n1                   83.370003          NaN      4915.0            23.990000   \n2                   91.129997          NaN      5075.0            11.820000   \n3                  146.169998          NaN      5032.0             8.590000   \n4                  162.470001          NaN      5183.0            10.500000   \n...                       ...          ...         ...                  ...   \n466561                    NaN          NaN         NaN                  NaN   \n466562                    NaN          NaN         NaN                  NaN   \n466563                    NaN          NaN         NaN                  NaN   \n466564              88.690002          NaN      4725.0            45.880001   \n466565             128.690002          NaN      3657.0            21.410000   \n\n        number_of_owner_occupied_units  number_of_1_to_4_family_units  \\\n0                               2175.0                         2660.0   \n1                               1268.0                         1777.0   \n2                               1136.0                         1838.0   \n3                               1525.0                         1820.0   \n4                               1705.0                         2104.0   \n...                                ...                            ...   \n466561                             NaN                            NaN   \n466562                             NaN                            NaN   \n466563                             NaN                            NaN   \n466564                          1188.0                         1686.0   \n466565                          1156.0                         1244.0   \n\n        loan_amount_000s  hud_median_family_income  applicant_income_000s  \\\n0                    227                   73300.0                  116.0   \n1                    240                   57900.0                   42.0   \n2                    241                   73300.0                  117.0   \n3                    351                   73300.0                  315.0   \n4                    417                   78100.0                  114.0   \n...                  ...                       ...                    ...   \n466561               178                       NaN                   97.0   \n466562               110                       NaN                   30.0   \n466563               420                       NaN                   71.0   \n466564               255                   72300.0                   77.0   \n466565               319                   90300.0                   78.0   \n\n        state_name  ... applicant_sex_name  applicant_race_name_5  \\\n0       Washington  ...             Female                    NaN   \n1       Washington  ...               Male                    NaN   \n2       Washington  ...               Male                    NaN   \n3       Washington  ...               Male                    NaN   \n4       Washington  ...             Female                    NaN   \n...            ...  ...                ...                    ...   \n466561  Washington  ...             Female                    NaN   \n466562  Washington  ...               Male                    NaN   \n466563  Washington  ...             Female                    NaN   \n466564  Washington  ...               Male                    NaN   \n466565  Washington  ...               Male                    NaN   \n\n       applicant_race_name_4 applicant_race_name_3 applicant_race_name_2  \\\n0                        NaN                   NaN                   NaN   \n1                        NaN                   NaN                   NaN   \n2                        NaN                   NaN                   NaN   \n3                        NaN                   NaN                   NaN   \n4                        NaN                   NaN                   NaN   \n...                      ...                   ...                   ...   \n466561                   NaN                   NaN                   NaN   \n466562                   NaN                   NaN                   NaN   \n466563                   NaN                   NaN                   NaN   \n466564                   NaN                   NaN                   NaN   \n466565                   NaN                   NaN                   NaN   \n\n                                    applicant_race_name_1  \\\n0       Information not provided by applicant in mail,...   \n1                                                   White   \n2                                                   White   \n3       Information not provided by applicant in mail,...   \n4                                                   White   \n...                                                   ...   \n466561                                              White   \n466562                                              White   \n466563  Information not provided by applicant in mail,...   \n466564                                              White   \n466565                          Black or African American   \n\n                                 applicant_ethnicity_name  \\\n0                                  Not Hispanic or Latino   \n1                                      Hispanic or Latino   \n2                                  Not Hispanic or Latino   \n3       Information not provided by applicant in mail,...   \n4                                  Not Hispanic or Latino   \n...                                                   ...   \n466561                             Not Hispanic or Latino   \n466562                             Not Hispanic or Latino   \n466563  Information not provided by applicant in mail,...   \n466564                             Not Hispanic or Latino   \n466565                             Not Hispanic or Latino   \n\n                                        agency_name agency_abbr  \\\n0              Consumer Financial Protection Bureau        CFPB   \n1       Department of Housing and Urban Development         HUD   \n2       Department of Housing and Urban Development         HUD   \n3              National Credit Union Administration        NCUA   \n4             Federal Deposit Insurance Corporation        FDIC   \n...                                             ...         ...   \n466561  Department of Housing and Urban Development         HUD   \n466562  Department of Housing and Urban Development         HUD   \n466563  Department of Housing and Urban Development         HUD   \n466564  Department of Housing and Urban Development         HUD   \n466565  Department of Housing and Urban Development         HUD   \n\n                                        action_taken_name  \n0                                         Loan originated  \n1                                         Loan originated  \n2                                         Loan originated  \n3                                         Loan originated  \n4                                         Loan originated  \n...                                                   ...  \n466561  Preapproval request denied by financial instit...  \n466562  Preapproval request denied by financial instit...  \n466563      Preapproval request approved but not accepted  \n466564      Preapproval request approved but not accepted  \n466565      Preapproval request approved but not accepted  \n\n[466566 rows x 47 columns]",
      "text/html": "<div>\n<style scoped>\n    .dataframe tbody tr th:only-of-type {\n        vertical-align: middle;\n    }\n\n    .dataframe tbody tr th {\n        vertical-align: top;\n    }\n\n    .dataframe thead th {\n        text-align: right;\n    }\n</style>\n<table border=\"1\" class=\"dataframe\">\n  <thead>\n    <tr style=\"text-align: right;\">\n      <th></th>\n      <th>tract_to_msamd_income</th>\n      <th>rate_spread</th>\n      <th>population</th>\n      <th>minority_population</th>\n      <th>number_of_owner_occupied_units</th>\n      <th>number_of_1_to_4_family_units</th>\n      <th>loan_amount_000s</th>\n      <th>hud_median_family_income</th>\n      <th>applicant_income_000s</th>\n      <th>state_name</th>\n      <th>...</th>\n      <th>applicant_sex_name</th>\n      <th>applicant_race_name_5</th>\n      <th>applicant_race_name_4</th>\n      <th>applicant_race_name_3</th>\n      <th>applicant_race_name_2</th>\n      <th>applicant_race_name_1</th>\n      <th>applicant_ethnicity_name</th>\n      <th>agency_name</th>\n      <th>agency_abbr</th>\n      <th>action_taken_name</th>\n    </tr>\n  </thead>\n  <tbody>\n    <tr>\n      <th>0</th>\n      <td>121.690002</td>\n      <td>NaN</td>\n      <td>8381.0</td>\n      <td>23.790001</td>\n      <td>2175.0</td>\n      <td>2660.0</td>\n      <td>227</td>\n      <td>73300.0</td>\n      <td>116.0</td>\n      <td>Washington</td>\n      <td>...</td>\n      <td>Female</td>\n      <td>NaN</td>\n      <td>NaN</td>\n      <td>NaN</td>\n      <td>NaN</td>\n      <td>Information not provided by applicant in mail,...</td>\n      <td>Not Hispanic or Latino</td>\n      <td>Consumer Financial Protection Bureau</td>\n      <td>CFPB</td>\n      <td>Loan originated</td>\n    </tr>\n    <tr>\n      <th>1</th>\n      <td>83.370003</td>\n      <td>NaN</td>\n      <td>4915.0</td>\n      <td>23.990000</td>\n      <td>1268.0</td>\n      <td>1777.0</td>\n      <td>240</td>\n      <td>57900.0</td>\n      <td>42.0</td>\n      <td>Washington</td>\n      <td>...</td>\n      <td>Male</td>\n      <td>NaN</td>\n      <td>NaN</td>\n      <td>NaN</td>\n      <td>NaN</td>\n      <td>White</td>\n      <td>Hispanic or Latino</td>\n      <td>Department of Housing and Urban Development</td>\n      <td>HUD</td>\n      <td>Loan originated</td>\n    </tr>\n    <tr>\n      <th>2</th>\n      <td>91.129997</td>\n      <td>NaN</td>\n      <td>5075.0</td>\n      <td>11.820000</td>\n      <td>1136.0</td>\n      <td>1838.0</td>\n      <td>241</td>\n      <td>73300.0</td>\n      <td>117.0</td>\n      <td>Washington</td>\n      <td>...</td>\n      <td>Male</td>\n      <td>NaN</td>\n      <td>NaN</td>\n      <td>NaN</td>\n      <td>NaN</td>\n      <td>White</td>\n      <td>Not Hispanic or Latino</td>\n      <td>Department of Housing and Urban Development</td>\n      <td>HUD</td>\n      <td>Loan originated</td>\n    </tr>\n    <tr>\n      <th>3</th>\n      <td>146.169998</td>\n      <td>NaN</td>\n      <td>5032.0</td>\n      <td>8.590000</td>\n      <td>1525.0</td>\n      <td>1820.0</td>\n      <td>351</td>\n      <td>73300.0</td>\n      <td>315.0</td>\n      <td>Washington</td>\n      <td>...</td>\n      <td>Male</td>\n      <td>NaN</td>\n      <td>NaN</td>\n      <td>NaN</td>\n      <td>NaN</td>\n      <td>Information not provided by applicant in mail,...</td>\n      <td>Information not provided by applicant in mail,...</td>\n      <td>National Credit Union Administration</td>\n      <td>NCUA</td>\n      <td>Loan originated</td>\n    </tr>\n    <tr>\n      <th>4</th>\n      <td>162.470001</td>\n      <td>NaN</td>\n      <td>5183.0</td>\n      <td>10.500000</td>\n      <td>1705.0</td>\n      <td>2104.0</td>\n      <td>417</td>\n      <td>78100.0</td>\n      <td>114.0</td>\n      <td>Washington</td>\n      <td>...</td>\n      <td>Female</td>\n      <td>NaN</td>\n      <td>NaN</td>\n      <td>NaN</td>\n      <td>NaN</td>\n      <td>White</td>\n      <td>Not Hispanic or Latino</td>\n      <td>Federal Deposit Insurance Corporation</td>\n      <td>FDIC</td>\n      <td>Loan originated</td>\n    </tr>\n    <tr>\n      <th>...</th>\n      <td>...</td>\n      <td>...</td>\n      <td>...</td>\n      <td>...</td>\n      <td>...</td>\n      <td>...</td>\n      <td>...</td>\n      <td>...</td>\n      <td>...</td>\n      <td>...</td>\n      <td>...</td>\n      <td>...</td>\n      <td>...</td>\n      <td>...</td>\n      <td>...</td>\n      <td>...</td>\n      <td>...</td>\n      <td>...</td>\n      <td>...</td>\n      <td>...</td>\n      <td>...</td>\n    </tr>\n    <tr>\n      <th>466561</th>\n      <td>NaN</td>\n      <td>NaN</td>\n      <td>NaN</td>\n      <td>NaN</td>\n      <td>NaN</td>\n      <td>NaN</td>\n      <td>178</td>\n      <td>NaN</td>\n      <td>97.0</td>\n      <td>Washington</td>\n      <td>...</td>\n      <td>Female</td>\n      <td>NaN</td>\n      <td>NaN</td>\n      <td>NaN</td>\n      <td>NaN</td>\n      <td>White</td>\n      <td>Not Hispanic or Latino</td>\n      <td>Department of Housing and Urban Development</td>\n      <td>HUD</td>\n      <td>Preapproval request denied by financial instit...</td>\n    </tr>\n    <tr>\n      <th>466562</th>\n      <td>NaN</td>\n      <td>NaN</td>\n      <td>NaN</td>\n      <td>NaN</td>\n      <td>NaN</td>\n      <td>NaN</td>\n      <td>110</td>\n      <td>NaN</td>\n      <td>30.0</td>\n      <td>Washington</td>\n      <td>...</td>\n      <td>Male</td>\n      <td>NaN</td>\n      <td>NaN</td>\n      <td>NaN</td>\n      <td>NaN</td>\n      <td>White</td>\n      <td>Not Hispanic or Latino</td>\n      <td>Department of Housing and Urban Development</td>\n      <td>HUD</td>\n      <td>Preapproval request denied by financial instit...</td>\n    </tr>\n    <tr>\n      <th>466563</th>\n      <td>NaN</td>\n      <td>NaN</td>\n      <td>NaN</td>\n      <td>NaN</td>\n      <td>NaN</td>\n      <td>NaN</td>\n      <td>420</td>\n      <td>NaN</td>\n      <td>71.0</td>\n      <td>Washington</td>\n      <td>...</td>\n      <td>Female</td>\n      <td>NaN</td>\n      <td>NaN</td>\n      <td>NaN</td>\n      <td>NaN</td>\n      <td>Information not provided by applicant in mail,...</td>\n      <td>Information not provided by applicant in mail,...</td>\n      <td>Department of Housing and Urban Development</td>\n      <td>HUD</td>\n      <td>Preapproval request approved but not accepted</td>\n    </tr>\n    <tr>\n      <th>466564</th>\n      <td>88.690002</td>\n      <td>NaN</td>\n      <td>4725.0</td>\n      <td>45.880001</td>\n      <td>1188.0</td>\n      <td>1686.0</td>\n      <td>255</td>\n      <td>72300.0</td>\n      <td>77.0</td>\n      <td>Washington</td>\n      <td>...</td>\n      <td>Male</td>\n      <td>NaN</td>\n      <td>NaN</td>\n      <td>NaN</td>\n      <td>NaN</td>\n      <td>White</td>\n      <td>Not Hispanic or Latino</td>\n      <td>Department of Housing and Urban Development</td>\n      <td>HUD</td>\n      <td>Preapproval request approved but not accepted</td>\n    </tr>\n    <tr>\n      <th>466565</th>\n      <td>128.690002</td>\n      <td>NaN</td>\n      <td>3657.0</td>\n      <td>21.410000</td>\n      <td>1156.0</td>\n      <td>1244.0</td>\n      <td>319</td>\n      <td>90300.0</td>\n      <td>78.0</td>\n      <td>Washington</td>\n      <td>...</td>\n      <td>Male</td>\n      <td>NaN</td>\n      <td>NaN</td>\n      <td>NaN</td>\n      <td>NaN</td>\n      <td>Black or African American</td>\n      <td>Not Hispanic or Latino</td>\n      <td>Department of Housing and Urban Development</td>\n      <td>HUD</td>\n      <td>Preapproval request approved but not accepted</td>\n    </tr>\n  </tbody>\n</table>\n<p>466566 rows × 47 columns</p>\n</div>"
     },
     "metadata": {}
    }
   ],
   "execution_count": 3
  },
  {
   "cell_type": "markdown",
   "source": "### target variables\n - action_taken_name\n - denial_reason_name_1\n - denial_reason_name_2\n - denial_reason_name_3\n\n\n### variables we maybe need to leave out:\n - sequence_number\n - respondent_id\n - purchaser_type_name # will be fix for excelsis so leave this out.",
   "metadata": {
    "cell_id": "1e21f9f8a2d343c0b63aa77e897ab9df",
    "tags": [],
    "deepnote_cell_type": "markdown",
    "deepnote_cell_height": 329
   }
  },
  {
   "cell_type": "code",
   "source": "data.columns",
   "metadata": {
    "tags": [],
    "cell_id": "1011a4ab-b803-4aeb-9b8a-6c4d278441e7",
    "deepnote_to_be_reexecuted": false,
    "source_hash": "c8a8c27a",
    "execution_start": 1664645523804,
    "execution_millis": 2,
    "deepnote_cell_type": "code",
    "deepnote_cell_height": 454,
    "deepnote_output_heights": [
     362
    ]
   },
   "execution_count": 4,
   "outputs": [
    {
     "output_type": "execute_result",
     "execution_count": 4,
     "data": {
      "text/plain": "Index(['tract_to_msamd_income', 'rate_spread', 'population',\n       'minority_population', 'number_of_owner_occupied_units',\n       'number_of_1_to_4_family_units', 'loan_amount_000s',\n       'hud_median_family_income', 'applicant_income_000s', 'state_name',\n       'state_abbr', 'sequence_number', 'respondent_id', 'purchaser_type_name',\n       'property_type_name', 'preapproval_name', 'owner_occupancy_name',\n       'msamd_name', 'loan_type_name', 'loan_purpose_name', 'lien_status_name',\n       'hoepa_status_name', 'edit_status_name', 'denial_reason_name_3',\n       'denial_reason_name_2', 'denial_reason_name_1', 'county_name',\n       'co_applicant_sex_name', 'co_applicant_race_name_5',\n       'co_applicant_race_name_4', 'co_applicant_race_name_3',\n       'co_applicant_race_name_2', 'co_applicant_race_name_1',\n       'co_applicant_ethnicity_name', 'census_tract_number', 'as_of_year',\n       'application_date_indicator', 'applicant_sex_name',\n       'applicant_race_name_5', 'applicant_race_name_4',\n       'applicant_race_name_3', 'applicant_race_name_2',\n       'applicant_race_name_1', 'applicant_ethnicity_name', 'agency_name',\n       'agency_abbr', 'action_taken_name'],\n      dtype='object')"
     },
     "metadata": {}
    }
   ]
  },
  {
   "cell_type": "code",
   "source": "data[~data['denial_reason_name_1'].isnull()]['denial_reason_name_1'].value_counts()",
   "metadata": {
    "cell_id": "6a2f96033c0d4527a27390ed58389471",
    "tags": [],
    "deepnote_to_be_reexecuted": false,
    "source_hash": "72b2a8d0",
    "execution_start": 1664645523805,
    "execution_millis": 70,
    "deepnote_cell_type": "code",
    "deepnote_cell_height": 283,
    "deepnote_output_heights": [
     191
    ]
   },
   "outputs": [
    {
     "output_type": "execute_result",
     "execution_count": 5,
     "data": {
      "text/plain": "Debt-to-income ratio                              8648\nCredit history                                    7671\nCollateral                                        5748\nCredit application incomplete                     5433\nOther                                             4058\nUnverifiable information                          1353\nInsufficient cash (downpayment, closing costs)    1036\nEmployment history                                 535\nMortgage insurance denied                           17\nName: denial_reason_name_1, dtype: int64"
     },
     "metadata": {}
    }
   ],
   "execution_count": 5
  },
  {
   "cell_type": "code",
   "source": "data['action_taken_name'].value_counts()",
   "metadata": {
    "cell_id": "28ba43ca69cc46e09b066a7dc178c6a4",
    "tags": [],
    "deepnote_to_be_reexecuted": false,
    "source_hash": "69e60733",
    "execution_start": 1664645523874,
    "execution_millis": 2,
    "deepnote_cell_type": "code",
    "deepnote_cell_height": 264,
    "deepnote_output_heights": [
     172
    ]
   },
   "outputs": [
    {
     "output_type": "execute_result",
     "execution_count": 6,
     "data": {
      "text/plain": "Loan originated                                        263712\nApplication denied by financial institution             64177\nApplication withdrawn by applicant                      60358\nLoan purchased by the institution                       48356\nFile closed for incompleteness                          18176\nApplication approved but not accepted                   11735\nPreapproval request denied by financial institution        35\nPreapproval request approved but not accepted              17\nName: action_taken_name, dtype: int64"
     },
     "metadata": {}
    }
   ],
   "execution_count": 6
  },
  {
   "cell_type": "code",
   "source": "data['preapproval_name'].value_counts()",
   "metadata": {
    "cell_id": "70ac835582b942a887460614710f6dd6",
    "tags": [],
    "deepnote_to_be_reexecuted": false,
    "source_hash": "34dd219d",
    "execution_start": 1664645523918,
    "execution_millis": 1,
    "deepnote_cell_type": "code",
    "deepnote_cell_height": 169,
    "deepnote_output_heights": [
     77
    ]
   },
   "outputs": [
    {
     "output_type": "execute_result",
     "execution_count": 7,
     "data": {
      "text/plain": "Not applicable                   397521\nPreapproval was not requested     57700\nPreapproval was requested         11345\nName: preapproval_name, dtype: int64"
     },
     "metadata": {}
    }
   ],
   "execution_count": 7
  },
  {
   "cell_type": "code",
   "source": "data[data['preapproval_name'] == 'Preapproval was requested']['action_taken_name'].value_counts()",
   "metadata": {
    "cell_id": "116139d377874ae592128db6aed09e24",
    "tags": [],
    "deepnote_to_be_reexecuted": false,
    "source_hash": "6a6ee465",
    "execution_start": 1664645523918,
    "execution_millis": 44,
    "deepnote_cell_type": "code",
    "deepnote_cell_height": 245,
    "deepnote_output_heights": [
     153
    ]
   },
   "outputs": [
    {
     "output_type": "execute_result",
     "execution_count": 8,
     "data": {
      "text/plain": "Loan originated                                        8962\nApplication withdrawn by applicant                     1014\nApplication approved but not accepted                   626\nApplication denied by financial institution             591\nFile closed for incompleteness                          100\nPreapproval request denied by financial institution      35\nPreapproval request approved but not accepted            17\nName: action_taken_name, dtype: int64"
     },
     "metadata": {}
    }
   ],
   "execution_count": 8
  },
  {
   "cell_type": "markdown",
   "source": "### Remove the following data points\nWhere action_taken_name is one of the following value:\n - Application withdrawn by applicant\n - Application approved but not accepted\n - Preapproval request denied by financial institution\n - Preapproval request approved but not accepted",
   "metadata": {
    "cell_id": "2b11fb642bd44625a1f552307f1f05d2",
    "tags": [],
    "deepnote_cell_type": "markdown",
    "deepnote_cell_height": 225
   }
  },
  {
   "cell_type": "code",
   "source": "data['msamd_name'].value_counts()",
   "metadata": {
    "cell_id": "0309a126aeaa4fc987ae4d52123231d4",
    "tags": [],
    "deepnote_to_be_reexecuted": false,
    "source_hash": "61094dfa",
    "execution_start": 1664645523978,
    "execution_millis": 5,
    "deepnote_cell_type": "code",
    "deepnote_cell_height": 378,
    "deepnote_output_heights": [
     286
    ]
   },
   "outputs": [
    {
     "output_type": "execute_result",
     "execution_count": 9,
     "data": {
      "text/plain": "Seattle, Bellevue, Everett - WA            196473\nTacoma, Lakewood - WA                       61552\nPortland, Vancouver, Hillsboro - OR, WA     38729\nSpokane, Spokane Valley - WA                32050\nBremerton, Silverdale - WA                  18146\nOlympia, Tumwater - WA                      17739\nKennewick, Richland - WA                    15949\nBellingham - WA                             12629\nYakima - WA                                  9731\nMount Vernon, Anacortes - WA                 7930\nLongview - WA                                6940\nWenatchee - WA                               6242\nWalla Walla - WA                             3099\nLewiston - ID, WA                            1083\nName: msamd_name, dtype: int64"
     },
     "metadata": {}
    }
   ],
   "execution_count": 9
  },
  {
   "cell_type": "code",
   "source": "data['purchaser_type_name'].value_counts()",
   "metadata": {
    "cell_id": "9610d1b017b6405cbb9285b70ec2cfe5",
    "tags": [],
    "deepnote_to_be_reexecuted": false,
    "source_hash": "7bebe55c",
    "execution_start": 1664645524025,
    "execution_millis": 5,
    "deepnote_cell_type": "code",
    "deepnote_cell_height": 302,
    "deepnote_output_heights": [
     210
    ]
   },
   "outputs": [
    {
     "output_type": "execute_result",
     "execution_count": 10,
     "data": {
      "text/plain": "Loan was not originated or was not sold in calendar year covered by register    220297\nFannie Mae (FNMA)                                                                75990\nGinnie Mae (GNMA)                                                                60831\nFreddie Mac (FHLMC)                                                              51808\nLife insurance company, credit union, mortgage bank, or finance company          21510\nCommercial bank, savings bank or savings association                             18283\nOther type of purchaser                                                          11921\nAffiliate institution                                                             3994\nPrivate securitization                                                            1914\nFarmer Mac (FAMC)                                                                   18\nName: purchaser_type_name, dtype: int64"
     },
     "metadata": {}
    }
   ],
   "execution_count": 10
  },
  {
   "cell_type": "code",
   "source": "data['property_type_name'].value_counts()",
   "metadata": {
    "cell_id": "7238d97af7354ce5afb8e846c6efbf5f",
    "tags": [],
    "deepnote_to_be_reexecuted": false,
    "source_hash": "a7ef0461",
    "execution_start": 1664645524026,
    "execution_millis": 45,
    "deepnote_cell_type": "code",
    "deepnote_cell_height": 169,
    "deepnote_output_heights": [
     77
    ]
   },
   "outputs": [
    {
     "output_type": "execute_result",
     "execution_count": 11,
     "data": {
      "text/plain": "One-to-four family dwelling (other than manufactured housing)    450406\nManufactured housing                                              14504\nMultifamily dwelling                                               1656\nName: property_type_name, dtype: int64"
     },
     "metadata": {}
    }
   ],
   "execution_count": 11
  },
  {
   "cell_type": "code",
   "source": "print(data['loan_type_name'].value_counts())\nprint(data['loan_purpose_name'].value_counts())\nprint(data['lien_status_name'].value_counts())\nprint(data['hoepa_status_name'].value_counts())\nprint(data['edit_status_name'].value_counts())",
   "metadata": {
    "cell_id": "0c546a8cf3524782ad64bcf068c891a3",
    "tags": [],
    "deepnote_to_be_reexecuted": false,
    "source_hash": "91b8c2f7",
    "execution_start": 1664645524070,
    "execution_millis": 126,
    "deepnote_cell_type": "code",
    "deepnote_cell_height": 539
   },
   "outputs": [
    {
     "name": "stdout",
     "text": "Conventional          332433\nFHA-insured            66754\nVA-guaranteed          62915\nFSA/RHS-guaranteed      4464\nName: loan_type_name, dtype: int64\nRefinancing         250046\nHome purchase       192684\nHome improvement     23836\nName: loan_purpose_name, dtype: int64\nSecured by a first lien          403525\nNot applicable                    48356\nSecured by a subordinate lien      9298\nNot secured by a lien              5387\nName: lien_status_name, dtype: int64\nNot a HOEPA loan    466553\nHOEPA loan              13\nName: hoepa_status_name, dtype: int64\nQuality edit failure only    74505\nName: edit_status_name, dtype: int64\n",
     "output_type": "stream"
    }
   ],
   "execution_count": 12
  },
  {
   "cell_type": "code",
   "source": "data['census_tract_number'].value_counts()",
   "metadata": {
    "cell_id": "f95755c1628f42f2b2c678c82ed034df",
    "tags": [],
    "deepnote_to_be_reexecuted": false,
    "source_hash": "97d3e7b7",
    "execution_start": 1664645524234,
    "execution_millis": 3,
    "deepnote_cell_type": "code",
    "deepnote_cell_height": 321,
    "deepnote_output_heights": [
     229
    ]
   },
   "outputs": [
    {
     "output_type": "execute_result",
     "execution_count": 13,
     "data": {
      "text/plain": "2.00       2698\n8.00       2059\n7.00       1914\n101.00     1849\n106.00     1841\n           ... \n729.07        2\n105.10        2\n9204.00       1\n808.00        1\n9901.00       1\nName: census_tract_number, Length: 1116, dtype: int64"
     },
     "metadata": {}
    }
   ],
   "execution_count": 13
  },
  {
   "cell_type": "code",
   "source": "data['rate_spread'].hist(bins=100)\nplt.show()",
   "metadata": {
    "cell_id": "7ba66fe7876d4277be23f35998df42d9",
    "tags": [],
    "deepnote_to_be_reexecuted": false,
    "source_hash": "1c158705",
    "execution_start": 1664646648897,
    "execution_millis": 261,
    "deepnote_cell_type": "code",
    "deepnote_cell_height": 339,
    "deepnote_output_heights": [
     229
    ]
   },
   "outputs": [
    {
     "data": {
      "text/plain": "<Figure size 640x480 with 1 Axes>",
      "image/png": "[encoded data removed]"
     },
     "metadata": {
      "image/png": {
       "width": 560,
       "height": 414
      }
     },
     "output_type": "display_data"
    }
   ],
   "execution_count": 25
  },
  {
   "cell_type": "markdown",
   "source": "# Data preparation",
   "metadata": {
    "is_collapsed": false,
    "cell_id": "63542cad777b445e9e85434b32272937",
    "tags": [],
    "formattedRanges": [],
    "deepnote_cell_type": "text-cell-h1"
   }
  },
  {
   "cell_type": "code",
   "source": "# remove the unhelpful rows\n# - Application withdrawn by applicant\n# - Application approved but not accepted\n# - Preapproval request denied by financial institution\n# - Preapproval request approved but not accepted\n\ndata_clean = data.drop(data[(data.action_taken_name == \"Application withdrawn by applicant\") | \\\n                            (data.action_taken_name == \"Application approved but not accepted\") | \\\n                            (data.action_taken_name == \"Preapproval request denied by financial institution\") | \\\n                            (data.action_taken_name == \"Preapproval request approved but not accepted\")].index)\n\n# turn our target into binary\ndata_clean['loan_approved'] = data_clean['action_taken_name'] == \"Loan originated\"\n\n# remove unnecessary columns\ndata_clean = data_clean.drop(columns=[\"action_taken_name\", \\\n                         \"sequence_number\", \\\n                         \"respondent_id\", \\\n                         \"purchaser_type_name\", \\\n                         \"denial_reason_name_1\", \\\n                         \"denial_reason_name_2\", \\\n                         \"denial_reason_name_3\"])\n\n# replace nan with 0 in rate_spread\ndata_clean.fillna(0, inplace=True)\n\n\n# turn categorial into dummies\ncategorial_names = list(set(data_clean.columns) - set(data_clean._get_numeric_data().columns))\ndata_clean = pd.get_dummies(data=data_clean, columns=categorial_names, drop_first=True)\n\ndata_clean",
   "metadata": {
    "cell_id": "1200b9c4e86b41b294fbf06a3bf78389",
    "tags": [],
    "deepnote_to_be_reexecuted": false,
    "source_hash": "72bff391",
    "execution_start": 1664645905479,
    "execution_millis": 1538,
    "deepnote_table_state": {
     "pageSize": 10,
     "pageIndex": 0,
     "filters": [],
     "sortBy": []
    },
    "deepnote_table_loading": false,
    "deepnote_cell_type": "code",
    "deepnote_cell_height": 1158,
    "deepnote_output_heights": [
     20,
     362
    ]
   },
   "outputs": [
    {
     "output_type": "execute_result",
     "execution_count": 19,
     "data": {
      "application/vnd.deepnote.dataframe.v3+json": {
       "column_count": 147,
       "row_count": 394421,
       "columns": [
        {
         "name": "tract_to_msamd_income",
         "dtype": "float64"
        },
        {
         "name": "rate_spread",
         "dtype": "float64"
        },
        {
         "name": "population",
         "dtype": "float64"
        },
        {
         "name": "minority_population",
         "dtype": "float64"
        },
        {
         "name": "number_of_owner_occupied_units",
         "dtype": "float64"
        },
        {
         "name": "number_of_1_to_4_family_units",
         "dtype": "float64"
        },
        {
         "name": "loan_amount_000s",
         "dtype": "int64"
        },
        {
         "name": "hud_median_family_income",
         "dtype": "float64"
        },
        {
         "name": "applicant_income_000s",
         "dtype": "float64"
        },
        {
         "name": "census_tract_number",
         "dtype": "float64"
        },
        {
         "name": "as_of_year",
         "dtype": "int64"
        },
        {
         "name": "application_date_indicator",
         "dtype": "int64"
        },
        {
         "name": "loan_approved",
         "dtype": "bool"
        },
        {
         "name": "applicant_race_name_3_American Indian or Alaska Native",
         "dtype": "uint8"
        },
        {
         "name": "applicant_race_name_3_Asian",
         "dtype": "uint8"
        },
        {
         "name": "applicant_race_name_3_Black or African American",
         "dtype": "uint8"
        },
        {
         "name": "applicant_race_name_3_Native Hawaiian or Other Pacific Islander",
         "dtype": "uint8"
        },
        {
         "name": "applicant_race_name_3_White",
         "dtype": "uint8"
        },
        {
         "name": "hoepa_status_name_Not a HOEPA loan",
         "dtype": "uint8"
        },
        {
         "name": "co_applicant_ethnicity_name_Information not provided by applicant in mail, Internet, or telephone application",
         "dtype": "uint8"
        },
        {
         "name": "co_applicant_ethnicity_name_No co-applicant",
         "dtype": "uint8"
        },
        {
         "name": "co_applicant_ethnicity_name_Not Hispanic or Latino",
         "dtype": "uint8"
        },
        {
         "name": "co_applicant_ethnicity_name_Not applicable",
         "dtype": "uint8"
        },
        {
         "name": "agency_name_Department of Housing and Urban Development",
         "dtype": "uint8"
        },
        {
         "name": "agency_name_Federal Deposit Insurance Corporation",
         "dtype": "uint8"
        },
        {
         "name": "agency_name_Federal Reserve System",
         "dtype": "uint8"
        },
        {
         "name": "agency_name_National Credit Union Administration",
         "dtype": "uint8"
        },
        {
         "name": "agency_name_Office of the Comptroller of the Currency",
         "dtype": "uint8"
        },
        {
         "name": "agency_abbr_FDIC",
         "dtype": "uint8"
        },
        {
         "name": "agency_abbr_FRS",
         "dtype": "uint8"
        },
        {
         "name": "agency_abbr_HUD",
         "dtype": "uint8"
        },
        {
         "name": "agency_abbr_NCUA",
         "dtype": "uint8"
        },
        {
         "name": "agency_abbr_OCC",
         "dtype": "uint8"
        },
        {
         "name": "applicant_race_name_2_American Indian or Alaska Native",
         "dtype": "uint8"
        },
        {
         "name": "applicant_race_name_2_Asian",
         "dtype": "uint8"
        },
        {
         "name": "applicant_race_name_2_Black or African American",
         "dtype": "uint8"
        },
        {
         "name": "applicant_race_name_2_Native Hawaiian or Other Pacific Islander",
         "dtype": "uint8"
        },
        {
         "name": "applicant_race_name_2_White",
         "dtype": "uint8"
        },
        {
         "name": "applicant_ethnicity_name_Information not provided by applicant in mail, Internet, or telephone application",
         "dtype": "uint8"
        },
        {
         "name": "applicant_ethnicity_name_Not Hispanic or Latino",
         "dtype": "uint8"
        },
        {
         "name": "applicant_ethnicity_name_Not applicable",
         "dtype": "uint8"
        },
        {
         "name": "county_name_Adams County",
         "dtype": "uint8"
        },
        {
         "name": "county_name_Asotin County",
         "dtype": "uint8"
        },
        {
         "name": "county_name_Benton County",
         "dtype": "uint8"
        },
        {
         "name": "county_name_Chelan County",
         "dtype": "uint8"
        },
        {
         "name": "county_name_Clallam County",
         "dtype": "uint8"
        },
        {
         "name": "county_name_Clark County",
         "dtype": "uint8"
        },
        {
         "name": "county_name_Columbia County",
         "dtype": "uint8"
        },
        {
         "name": "county_name_Cowlitz County",
         "dtype": "uint8"
        },
        {
         "name": "county_name_Douglas County",
         "dtype": "uint8"
        },
        {
         "name": "county_name_Ferry County",
         "dtype": "uint8"
        },
        {
         "name": "county_name_Franklin County",
         "dtype": "uint8"
        },
        {
         "name": "county_name_Garfield County",
         "dtype": "uint8"
        },
        {
         "name": "county_name_Grant County",
         "dtype": "uint8"
        },
        {
         "name": "county_name_Grays Harbor County",
         "dtype": "uint8"
        },
        {
         "name": "county_name_Island County",
         "dtype": "uint8"
        },
        {
         "name": "county_name_Jefferson County",
         "dtype": "uint8"
        },
        {
         "name": "county_name_King County",
         "dtype": "uint8"
        },
        {
         "name": "county_name_Kitsap County",
         "dtype": "uint8"
        },
        {
         "name": "county_name_Kittitas County",
         "dtype": "uint8"
        },
        {
         "name": "county_name_Klickitat County",
         "dtype": "uint8"
        },
        {
         "name": "county_name_Lewis County",
         "dtype": "uint8"
        },
        {
         "name": "county_name_Lincoln County",
         "dtype": "uint8"
        },
        {
         "name": "county_name_Mason County",
         "dtype": "uint8"
        },
        {
         "name": "county_name_Okanogan County",
         "dtype": "uint8"
        },
        {
         "name": "county_name_Pacific County",
         "dtype": "uint8"
        },
        {
         "name": "county_name_Pend Oreille County",
         "dtype": "uint8"
        },
        {
         "name": "county_name_Pierce County",
         "dtype": "uint8"
        },
        {
         "name": "county_name_San Juan County",
         "dtype": "uint8"
        },
        {
         "name": "county_name_Skagit County",
         "dtype": "uint8"
        },
        {
         "name": "county_name_Skamania County",
         "dtype": "uint8"
        },
        {
         "name": "county_name_Snohomish County",
         "dtype": "uint8"
        },
        {
         "name": "county_name_Spokane County",
         "dtype": "uint8"
        },
        {
         "name": "county_name_Stevens County",
         "dtype": "uint8"
        },
        {
         "name": "county_name_Thurston County",
         "dtype": "uint8"
        },
        {
         "name": "county_name_Wahkiakum County",
         "dtype": "uint8"
        },
        {
         "name": "county_name_Walla Walla County",
         "dtype": "uint8"
        },
        {
         "name": "county_name_Whatcom County",
         "dtype": "uint8"
        },
        {
         "name": "county_name_Whitman County",
         "dtype": "uint8"
        },
        {
         "name": "county_name_Yakima County",
         "dtype": "uint8"
        },
        {
         "name": "co_applicant_race_name_3_Black or African American",
         "dtype": "uint8"
        },
        {
         "name": "co_applicant_race_name_3_Native Hawaiian or Other Pacific Islander",
         "dtype": "uint8"
        },
        {
         "name": "co_applicant_race_name_3_White",
         "dtype": "uint8"
        },
        {
         "name": "owner_occupancy_name_Not owner-occupied as a principal dwelling",
         "dtype": "uint8"
        },
        {
         "name": "owner_occupancy_name_Owner-occupied as a principal dwelling",
         "dtype": "uint8"
        },
        {
         "name": "lien_status_name_Not secured by a lien",
         "dtype": "uint8"
        },
        {
         "name": "lien_status_name_Secured by a first lien",
         "dtype": "uint8"
        },
        {
         "name": "lien_status_name_Secured by a subordinate lien",
         "dtype": "uint8"
        },
        {
         "name": "co_applicant_race_name_5_White",
         "dtype": "uint8"
        },
        {
         "name": "edit_status_name_Quality edit failure only",
         "dtype": "uint8"
        },
        {
         "name": "applicant_race_name_1_Asian",
         "dtype": "uint8"
        },
        {
         "name": "applicant_race_name_1_Black or African American",
         "dtype": "uint8"
        },
        {
         "name": "applicant_race_name_1_Information not provided by applicant in mail, Internet, or telephone application",
         "dtype": "uint8"
        },
        {
         "name": "applicant_race_name_1_Native Hawaiian or Other Pacific Islander",
         "dtype": "uint8"
        },
        {
         "name": "applicant_race_name_1_Not applicable",
         "dtype": "uint8"
        },
        {
         "name": "applicant_race_name_1_White",
         "dtype": "uint8"
        },
        {
         "name": "co_applicant_race_name_2_American Indian or Alaska Native",
         "dtype": "uint8"
        },
        {
         "name": "co_applicant_race_name_2_Asian",
         "dtype": "uint8"
        },
        {
         "name": "co_applicant_race_name_2_Black or African American",
         "dtype": "uint8"
        },
        {
         "name": "co_applicant_race_name_2_Native Hawaiian or Other Pacific Islander",
         "dtype": "uint8"
        },
        {
         "name": "co_applicant_race_name_2_White",
         "dtype": "uint8"
        },
        {
         "name": "msamd_name_Bellingham - WA",
         "dtype": "uint8"
        },
        {
         "name": "msamd_name_Bremerton, Silverdale - WA",
         "dtype": "uint8"
        },
        {
         "name": "msamd_name_Kennewick, Richland - WA",
         "dtype": "uint8"
        },
        {
         "name": "msamd_name_Lewiston - ID, WA",
         "dtype": "uint8"
        },
        {
         "name": "msamd_name_Longview - WA",
         "dtype": "uint8"
        },
        {
         "name": "msamd_name_Mount Vernon, Anacortes - WA",
         "dtype": "uint8"
        },
        {
         "name": "msamd_name_Olympia, Tumwater - WA",
         "dtype": "uint8"
        },
        {
         "name": "msamd_name_Portland, Vancouver, Hillsboro - OR, WA",
         "dtype": "uint8"
        },
        {
         "name": "msamd_name_Seattle, Bellevue, Everett - WA",
         "dtype": "uint8"
        },
        {
         "name": "msamd_name_Spokane, Spokane Valley - WA",
         "dtype": "uint8"
        },
        {
         "name": "msamd_name_Tacoma, Lakewood - WA",
         "dtype": "uint8"
        },
        {
         "name": "msamd_name_Walla Walla - WA",
         "dtype": "uint8"
        },
        {
         "name": "msamd_name_Wenatchee - WA",
         "dtype": "uint8"
        },
        {
         "name": "msamd_name_Yakima - WA",
         "dtype": "uint8"
        },
        {
         "name": "property_type_name_Multifamily dwelling",
         "dtype": "uint8"
        },
        {
         "name": "property_type_name_One-to-four family dwelling (other than manufactured housing)",
         "dtype": "uint8"
        },
        {
         "name": "co_applicant_sex_name_Information not provided by applicant in mail, Internet, or telephone application",
         "dtype": "uint8"
        },
        {
         "name": "co_applicant_sex_name_Male",
         "dtype": "uint8"
        },
        {
         "name": "co_applicant_sex_name_No co-applicant",
         "dtype": "uint8"
        },
        {
         "name": "co_applicant_sex_name_Not applicable",
         "dtype": "uint8"
        },
        {
         "name": "loan_type_name_FHA-insured",
         "dtype": "uint8"
        },
        {
         "name": "loan_type_name_FSA/RHS-guaranteed",
         "dtype": "uint8"
        },
        {
         "name": "loan_type_name_VA-guaranteed",
         "dtype": "uint8"
        },
        {
         "name": "co_applicant_race_name_1_Asian",
         "dtype": "uint8"
        },
        {
         "name": "co_applicant_race_name_1_Black or African American",
         "dtype": "uint8"
        },
        {
         "name": "co_applicant_race_name_1_Information not provided by applicant in mail, Internet, or telephone application",
         "dtype": "uint8"
        },
        {
         "name": "co_applicant_race_name_1_Native Hawaiian or Other Pacific Islander",
         "dtype": "uint8"
        },
        {
         "name": "co_applicant_race_name_1_No co-applicant",
         "dtype": "uint8"
        },
        {
         "name": "co_applicant_race_name_1_Not applicable",
         "dtype": "uint8"
        },
        {
         "name": "co_applicant_race_name_1_White",
         "dtype": "uint8"
        },
        {
         "name": "co_applicant_race_name_4_Native Hawaiian or Other Pacific Islander",
         "dtype": "uint8"
        },
        {
         "name": "co_applicant_race_name_4_White",
         "dtype": "uint8"
        },
        {
         "name": "applicant_race_name_4_Asian",
         "dtype": "uint8"
        },
        {
         "name": "applicant_race_name_4_Black or African American",
         "dtype": "uint8"
        },
        {
         "name": "applicant_race_name_4_Native Hawaiian or Other Pacific Islander",
         "dtype": "uint8"
        },
        {
         "name": "applicant_race_name_4_White",
         "dtype": "uint8"
        },
        {
         "name": "loan_purpose_name_Home purchase",
         "dtype": "uint8"
        },
        {
         "name": "loan_purpose_name_Refinancing",
         "dtype": "uint8"
        },
        {
         "name": "applicant_race_name_5_Asian",
         "dtype": "uint8"
        },
        {
         "name": "applicant_race_name_5_Black or African American",
         "dtype": "uint8"
        },
        {
         "name": "applicant_race_name_5_White",
         "dtype": "uint8"
        },
        {
         "name": "preapproval_name_Preapproval was not requested",
         "dtype": "uint8"
        },
        {
         "name": "preapproval_name_Preapproval was requested",
         "dtype": "uint8"
        },
        {
         "name": "applicant_sex_name_Information not provided by applicant in mail, Internet, or telephone application",
         "dtype": "uint8"
        },
        {
         "name": "applicant_sex_name_Male",
         "dtype": "uint8"
        },
        {
         "name": "applicant_sex_name_Not applicable",
         "dtype": "uint8"
        },
        {
         "name": "_deepnote_index_column",
         "dtype": "int64"
        }
       ],
       "rows": [
        {
         "tract_to_msamd_income": "121.6900024",
         "rate_spread": "0.0",
         "population": "8381.0",
         "minority_population": "23.79000092",
         "number_of_owner_occupied_units": "2175.0",
         "number_of_1_to_4_family_units": "2660.0",
         "loan_amount_000s": "227",
         "hud_median_family_income": "73300.0",
         "applicant_income_000s": "116.0",
         "census_tract_number": "413.27",
         "as_of_year": "2016",
         "application_date_indicator": "0",
         "loan_approved": "True",
         "applicant_race_name_3_American Indian or Alaska Native": "0",
         "applicant_race_name_3_Asian": "0",
         "applicant_race_name_3_Black or African American": "0",
         "applicant_race_name_3_Native Hawaiian or Other Pacific Islander": "0",
         "applicant_race_name_3_White": "0",
         "hoepa_status_name_Not a HOEPA loan": "1",
         "co_applicant_ethnicity_name_Information not provided by applicant in mail, Internet, or telephone application": "0",
         "co_applicant_ethnicity_name_No co-applicant": "0",
         "co_applicant_ethnicity_name_Not Hispanic or Latino": "1",
         "co_applicant_ethnicity_name_Not applicable": "0",
         "agency_name_Department of Housing and Urban Development": "0",
         "agency_name_Federal Deposit Insurance Corporation": "0",
         "agency_name_Federal Reserve System": "0",
         "agency_name_National Credit Union Administration": "0",
         "agency_name_Office of the Comptroller of the Currency": "0",
         "agency_abbr_FDIC": "0",
         "agency_abbr_FRS": "0",
         "agency_abbr_HUD": "0",
         "agency_abbr_NCUA": "0",
         "agency_abbr_OCC": "0",
         "applicant_race_name_2_American Indian or Alaska Native": "0",
         "applicant_race_name_2_Asian": "0",
         "applicant_race_name_2_Black or African American": "0",
         "applicant_race_name_2_Native Hawaiian or Other Pacific Islander": "0",
         "applicant_race_name_2_White": "0",
         "applicant_ethnicity_name_Information not provided by applicant in mail, Internet, or telephone application": "0",
         "applicant_ethnicity_name_Not Hispanic or Latino": "1",
         "applicant_ethnicity_name_Not applicable": "0",
         "county_name_Adams County": "0",
         "county_name_Asotin County": "0",
         "county_name_Benton County": "0",
         "county_name_Chelan County": "0",
         "county_name_Clallam County": "0",
         "county_name_Clark County": "1",
         "county_name_Columbia County": "0",
         "county_name_Cowlitz County": "0",
         "county_name_Douglas County": "0",
         "county_name_Ferry County": "0",
         "county_name_Franklin County": "0",
         "county_name_Garfield County": "0",
         "county_name_Grant County": "0",
         "county_name_Grays Harbor County": "0",
         "county_name_Island County": "0",
         "county_name_Jefferson County": "0",
         "county_name_King County": "0",
         "county_name_Kitsap County": "0",
         "county_name_Kittitas County": "0",
         "county_name_Klickitat County": "0",
         "county_name_Lewis County": "0",
         "county_name_Lincoln County": "0",
         "county_name_Mason County": "0",
         "county_name_Okanogan County": "0",
         "county_name_Pacific County": "0",
         "county_name_Pend Oreille County": "0",
         "county_name_Pierce County": "0",
         "county_name_San Juan County": "0",
         "county_name_Skagit County": "0",
         "county_name_Skamania County": "0",
         "county_name_Snohomish County": "0",
         "county_name_Spokane County": "0",
         "county_name_Stevens County": "0",
         "county_name_Thurston County": "0",
         "county_name_Wahkiakum County": "0",
         "county_name_Walla Walla County": "0",
         "county_name_Whatcom County": "0",
         "county_name_Whitman County": "0",
         "county_name_Yakima County": "0",
         "co_applicant_race_name_3_Black or African American": "0",
         "co_applicant_race_name_3_Native Hawaiian or Other Pacific Islander": "0",
         "co_applicant_race_name_3_White": "0",
         "owner_occupancy_name_Not owner-occupied as a principal dwelling": "0",
         "owner_occupancy_name_Owner-occupied as a principal dwelling": "1",
         "lien_status_name_Not secured by a lien": "0",
         "lien_status_name_Secured by a first lien": "1",
         "lien_status_name_Secured by a subordinate lien": "0",
         "co_applicant_race_name_5_White": "0",
         "edit_status_name_Quality edit failure only": "0",
         "applicant_race_name_1_Asian": "0",
         "applicant_race_name_1_Black or African American": "0",
         "applicant_race_name_1_Information not provided by applicant in mail, Internet, or telephone application": "1",
         "applicant_race_name_1_Native Hawaiian or Other Pacific Islander": "0",
         "applicant_race_name_1_Not applicable": "0",
         "applicant_race_name_1_White": "0",
         "co_applicant_race_name_2_American Indian or Alaska Native": "0",
         "co_applicant_race_name_2_Asian": "0",
         "co_applicant_race_name_2_Black or African American": "0",
         "co_applicant_race_name_2_Native Hawaiian or Other Pacific Islander": "0",
         "co_applicant_race_name_2_White": "0",
         "msamd_name_Bellingham - WA": "0",
         "msamd_name_Bremerton, Silverdale - WA": "0",
         "msamd_name_Kennewick, Richland - WA": "0",
         "msamd_name_Lewiston - ID, WA": "0",
         "msamd_name_Longview - WA": "0",
         "msamd_name_Mount Vernon, Anacortes - WA": "0",
         "msamd_name_Olympia, Tumwater - WA": "0",
         "msamd_name_Portland, Vancouver, Hillsboro - OR, WA": "1",
         "msamd_name_Seattle, Bellevue, Everett - WA": "0",
         "msamd_name_Spokane, Spokane Valley - WA": "0",
         "msamd_name_Tacoma, Lakewood - WA": "0",
         "msamd_name_Walla Walla - WA": "0",
         "msamd_name_Wenatchee - WA": "0",
         "msamd_name_Yakima - WA": "0",
         "property_type_name_Multifamily dwelling": "0",
         "property_type_name_One-to-four family dwelling (other than manufactured housing)": "1",
         "co_applicant_sex_name_Information not provided by applicant in mail, Internet, or telephone application": "0",
         "co_applicant_sex_name_Male": "1",
         "co_applicant_sex_name_No co-applicant": "0",
         "co_applicant_sex_name_Not applicable": "0",
         "loan_type_name_FHA-insured": "0",
         "loan_type_name_FSA/RHS-guaranteed": "0",
         "loan_type_name_VA-guaranteed": "0",
         "co_applicant_race_name_1_Asian": "0",
         "co_applicant_race_name_1_Black or African American": "0",
         "co_applicant_race_name_1_Information not provided by applicant in mail, Internet, or telephone application": "1",
         "co_applicant_race_name_1_Native Hawaiian or Other Pacific Islander": "0",
         "co_applicant_race_name_1_No co-applicant": "0",
         "co_applicant_race_name_1_Not applicable": "0",
         "co_applicant_race_name_1_White": "0",
         "co_applicant_race_name_4_Native Hawaiian or Other Pacific Islander": "0",
         "co_applicant_race_name_4_White": "0",
         "applicant_race_name_4_Asian": "0",
         "applicant_race_name_4_Black or African American": "0",
         "applicant_race_name_4_Native Hawaiian or Other Pacific Islander": "0",
         "applicant_race_name_4_White": "0",
         "loan_purpose_name_Home purchase": "0",
         "loan_purpose_name_Refinancing": "1",
         "applicant_race_name_5_Asian": "0",
         "applicant_race_name_5_Black or African American": "0",
         "applicant_race_name_5_White": "0",
         "preapproval_name_Preapproval was not requested": "0",
         "preapproval_name_Preapproval was requested": "0",
         "applicant_sex_name_Information not provided by applicant in mail, Internet, or telephone application": "0",
         "applicant_sex_name_Male": "0",
         "applicant_sex_name_Not applicable": "0",
         "_deepnote_index_column": "0"
        },
        {
         "tract_to_msamd_income": "83.37000275",
         "rate_spread": "0.0",
         "population": "4915.0",
         "minority_population": "23.98999977",
         "number_of_owner_occupied_units": "1268.0",
         "number_of_1_to_4_family_units": "1777.0",
         "loan_amount_000s": "240",
         "hud_median_family_income": "57900.0",
         "applicant_income_000s": "42.0",
         "census_tract_number": "9208.01",
         "as_of_year": "2016",
         "application_date_indicator": "0",
         "loan_approved": "True",
         "applicant_race_name_3_American Indian or Alaska Native": "0",
         "applicant_race_name_3_Asian": "0",
         "applicant_race_name_3_Black or African American": "0",
         "applicant_race_name_3_Native Hawaiian or Other Pacific Islander": "0",
         "applicant_race_name_3_White": "0",
         "hoepa_status_name_Not a HOEPA loan": "1",
         "co_applicant_ethnicity_name_Information not provided by applicant in mail, Internet, or telephone application": "0",
         "co_applicant_ethnicity_name_No co-applicant": "1",
         "co_applicant_ethnicity_name_Not Hispanic or Latino": "0",
         "co_applicant_ethnicity_name_Not applicable": "0",
         "agency_name_Department of Housing and Urban Development": "1",
         "agency_name_Federal Deposit Insurance Corporation": "0",
         "agency_name_Federal Reserve System": "0",
         "agency_name_National Credit Union Administration": "0",
         "agency_name_Office of the Comptroller of the Currency": "0",
         "agency_abbr_FDIC": "0",
         "agency_abbr_FRS": "0",
         "agency_abbr_HUD": "1",
         "agency_abbr_NCUA": "0",
         "agency_abbr_OCC": "0",
         "applicant_race_name_2_American Indian or Alaska Native": "0",
         "applicant_race_name_2_Asian": "0",
         "applicant_race_name_2_Black or African American": "0",
         "applicant_race_name_2_Native Hawaiian or Other Pacific Islander": "0",
         "applicant_race_name_2_White": "0",
         "applicant_ethnicity_name_Information not provided by applicant in mail, Internet, or telephone application": "0",
         "applicant_ethnicity_name_Not Hispanic or Latino": "0",
         "applicant_ethnicity_name_Not applicable": "0",
         "county_name_Adams County": "0",
         "county_name_Asotin County": "0",
         "county_name_Benton County": "0",
         "county_name_Chelan County": "0",
         "county_name_Clallam County": "0",
         "county_name_Clark County": "0",
         "county_name_Columbia County": "0",
         "county_name_Cowlitz County": "0",
         "county_name_Douglas County": "0",
         "county_name_Ferry County": "0",
         "county_name_Franklin County": "0",
         "county_name_Garfield County": "0",
         "county_name_Grant County": "0",
         "county_name_Grays Harbor County": "0",
         "county_name_Island County": "0",
         "county_name_Jefferson County": "0",
         "county_name_King County": "0",
         "county_name_Kitsap County": "0",
         "county_name_Kittitas County": "0",
         "county_name_Klickitat County": "0",
         "county_name_Lewis County": "0",
         "county_name_Lincoln County": "0",
         "county_name_Mason County": "0",
         "county_name_Okanogan County": "0",
         "county_name_Pacific County": "0",
         "county_name_Pend Oreille County": "0",
         "county_name_Pierce County": "0",
         "county_name_San Juan County": "0",
         "county_name_Skagit County": "0",
         "county_name_Skamania County": "0",
         "county_name_Snohomish County": "0",
         "county_name_Spokane County": "0",
         "county_name_Stevens County": "0",
         "county_name_Thurston County": "0",
         "county_name_Wahkiakum County": "0",
         "county_name_Walla Walla County": "1",
         "county_name_Whatcom County": "0",
         "county_name_Whitman County": "0",
         "county_name_Yakima County": "0",
         "co_applicant_race_name_3_Black or African American": "0",
         "co_applicant_race_name_3_Native Hawaiian or Other Pacific Islander": "0",
         "co_applicant_race_name_3_White": "0",
         "owner_occupancy_name_Not owner-occupied as a principal dwelling": "0",
         "owner_occupancy_name_Owner-occupied as a principal dwelling": "1",
         "lien_status_name_Not secured by a lien": "0",
         "lien_status_name_Secured by a first lien": "1",
         "lien_status_name_Secured by a subordinate lien": "0",
         "co_applicant_race_name_5_White": "0",
         "edit_status_name_Quality edit failure only": "0",
         "applicant_race_name_1_Asian": "0",
         "applicant_race_name_1_Black or African American": "0",
         "applicant_race_name_1_Information not provided by applicant in mail, Internet, or telephone application": "0",
         "applicant_race_name_1_Native Hawaiian or Other Pacific Islander": "0",
         "applicant_race_name_1_Not applicable": "0",
         "applicant_race_name_1_White": "1",
         "co_applicant_race_name_2_American Indian or Alaska Native": "0",
         "co_applicant_race_name_2_Asian": "0",
         "co_applicant_race_name_2_Black or African American": "0",
         "co_applicant_race_name_2_Native Hawaiian or Other Pacific Islander": "0",
         "co_applicant_race_name_2_White": "0",
         "msamd_name_Bellingham - WA": "0",
         "msamd_name_Bremerton, Silverdale - WA": "0",
         "msamd_name_Kennewick, Richland - WA": "0",
         "msamd_name_Lewiston - ID, WA": "0",
         "msamd_name_Longview - WA": "0",
         "msamd_name_Mount Vernon, Anacortes - WA": "0",
         "msamd_name_Olympia, Tumwater - WA": "0",
         "msamd_name_Portland, Vancouver, Hillsboro - OR, WA": "0",
         "msamd_name_Seattle, Bellevue, Everett - WA": "0",
         "msamd_name_Spokane, Spokane Valley - WA": "0",
         "msamd_name_Tacoma, Lakewood - WA": "0",
         "msamd_name_Walla Walla - WA": "1",
         "msamd_name_Wenatchee - WA": "0",
         "msamd_name_Yakima - WA": "0",
         "property_type_name_Multifamily dwelling": "0",
         "property_type_name_One-to-four family dwelling (other than manufactured housing)": "1",
         "co_applicant_sex_name_Information not provided by applicant in mail, Internet, or telephone application": "0",
         "co_applicant_sex_name_Male": "0",
         "co_applicant_sex_name_No co-applicant": "1",
         "co_applicant_sex_name_Not applicable": "0",
         "loan_type_name_FHA-insured": "1",
         "loan_type_name_FSA/RHS-guaranteed": "0",
         "loan_type_name_VA-guaranteed": "0",
         "co_applicant_race_name_1_Asian": "0",
         "co_applicant_race_name_1_Black or African American": "0",
         "co_applicant_race_name_1_Information not provided by applicant in mail, Internet, or telephone application": "0",
         "co_applicant_race_name_1_Native Hawaiian or Other Pacific Islander": "0",
         "co_applicant_race_name_1_No co-applicant": "1",
         "co_applicant_race_name_1_Not applicable": "0",
         "co_applicant_race_name_1_White": "0",
         "co_applicant_race_name_4_Native Hawaiian or Other Pacific Islander": "0",
         "co_applicant_race_name_4_White": "0",
         "applicant_race_name_4_Asian": "0",
         "applicant_race_name_4_Black or African American": "0",
         "applicant_race_name_4_Native Hawaiian or Other Pacific Islander": "0",
         "applicant_race_name_4_White": "0",
         "loan_purpose_name_Home purchase": "1",
         "loan_purpose_name_Refinancing": "0",
         "applicant_race_name_5_Asian": "0",
         "applicant_race_name_5_Black or African American": "0",
         "applicant_race_name_5_White": "0",
         "preapproval_name_Preapproval was not requested": "0",
         "preapproval_name_Preapproval was requested": "0",
         "applicant_sex_name_Information not provided by applicant in mail, Internet, or telephone application": "0",
         "applicant_sex_name_Male": "1",
         "applicant_sex_name_Not applicable": "0",
         "_deepnote_index_column": "1"
        },
        {
         "tract_to_msamd_income": "91.12999725",
         "rate_spread": "0.0",
         "population": "5075.0",
         "minority_population": "11.81999969",
         "number_of_owner_occupied_units": "1136.0",
         "number_of_1_to_4_family_units": "1838.0",
         "loan_amount_000s": "241",
         "hud_median_family_income": "73300.0",
         "applicant_income_000s": "117.0",
         "census_tract_number": "414.0",
         "as_of_year": "2016",
         "application_date_indicator": "0",
         "loan_approved": "True",
         "applicant_race_name_3_American Indian or Alaska Native": "0",
         "applicant_race_name_3_Asian": "0",
         "applicant_race_name_3_Black or African American": "0",
         "applicant_race_name_3_Native Hawaiian or Other Pacific Islander": "0",
         "applicant_race_name_3_White": "0",
         "hoepa_status_name_Not a HOEPA loan": "1",
         "co_applicant_ethnicity_name_Information not provided by applicant in mail, Internet, or telephone application": "0",
         "co_applicant_ethnicity_name_No co-applicant": "0",
         "co_applicant_ethnicity_name_Not Hispanic or Latino": "1",
         "co_applicant_ethnicity_name_Not applicable": "0",
         "agency_name_Department of Housing and Urban Development": "1",
         "agency_name_Federal Deposit Insurance Corporation": "0",
         "agency_name_Federal Reserve System": "0",
         "agency_name_National Credit Union Administration": "0",
         "agency_name_Office of the Comptroller of the Currency": "0",
         "agency_abbr_FDIC": "0",
         "agency_abbr_FRS": "0",
         "agency_abbr_HUD": "1",
         "agency_abbr_NCUA": "0",
         "agency_abbr_OCC": "0",
         "applicant_race_name_2_American Indian or Alaska Native": "0",
         "applicant_race_name_2_Asian": "0",
         "applicant_race_name_2_Black or African American": "0",
         "applicant_race_name_2_Native Hawaiian or Other Pacific Islander": "0",
         "applicant_race_name_2_White": "0",
         "applicant_ethnicity_name_Information not provided by applicant in mail, Internet, or telephone application": "0",
         "applicant_ethnicity_name_Not Hispanic or Latino": "1",
         "applicant_ethnicity_name_Not applicable": "0",
         "county_name_Adams County": "0",
         "county_name_Asotin County": "0",
         "county_name_Benton County": "0",
         "county_name_Chelan County": "0",
         "county_name_Clallam County": "0",
         "county_name_Clark County": "1",
         "county_name_Columbia County": "0",
         "county_name_Cowlitz County": "0",
         "county_name_Douglas County": "0",
         "county_name_Ferry County": "0",
         "county_name_Franklin County": "0",
         "county_name_Garfield County": "0",
         "county_name_Grant County": "0",
         "county_name_Grays Harbor County": "0",
         "county_name_Island County": "0",
         "county_name_Jefferson County": "0",
         "county_name_King County": "0",
         "county_name_Kitsap County": "0",
         "county_name_Kittitas County": "0",
         "county_name_Klickitat County": "0",
         "county_name_Lewis County": "0",
         "county_name_Lincoln County": "0",
         "county_name_Mason County": "0",
         "county_name_Okanogan County": "0",
         "county_name_Pacific County": "0",
         "county_name_Pend Oreille County": "0",
         "county_name_Pierce County": "0",
         "county_name_San Juan County": "0",
         "county_name_Skagit County": "0",
         "county_name_Skamania County": "0",
         "county_name_Snohomish County": "0",
         "county_name_Spokane County": "0",
         "county_name_Stevens County": "0",
         "county_name_Thurston County": "0",
         "county_name_Wahkiakum County": "0",
         "county_name_Walla Walla County": "0",
         "county_name_Whatcom County": "0",
         "county_name_Whitman County": "0",
         "county_name_Yakima County": "0",
         "co_applicant_race_name_3_Black or African American": "0",
         "co_applicant_race_name_3_Native Hawaiian or Other Pacific Islander": "0",
         "co_applicant_race_name_3_White": "0",
         "owner_occupancy_name_Not owner-occupied as a principal dwelling": "0",
         "owner_occupancy_name_Owner-occupied as a principal dwelling": "1",
         "lien_status_name_Not secured by a lien": "0",
         "lien_status_name_Secured by a first lien": "1",
         "lien_status_name_Secured by a subordinate lien": "0",
         "co_applicant_race_name_5_White": "0",
         "edit_status_name_Quality edit failure only": "0",
         "applicant_race_name_1_Asian": "0",
         "applicant_race_name_1_Black or African American": "0",
         "applicant_race_name_1_Information not provided by applicant in mail, Internet, or telephone application": "0",
         "applicant_race_name_1_Native Hawaiian or Other Pacific Islander": "0",
         "applicant_race_name_1_Not applicable": "0",
         "applicant_race_name_1_White": "1",
         "co_applicant_race_name_2_American Indian or Alaska Native": "0",
         "co_applicant_race_name_2_Asian": "0",
         "co_applicant_race_name_2_Black or African American": "0",
         "co_applicant_race_name_2_Native Hawaiian or Other Pacific Islander": "0",
         "co_applicant_race_name_2_White": "0",
         "msamd_name_Bellingham - WA": "0",
         "msamd_name_Bremerton, Silverdale - WA": "0",
         "msamd_name_Kennewick, Richland - WA": "0",
         "msamd_name_Lewiston - ID, WA": "0",
         "msamd_name_Longview - WA": "0",
         "msamd_name_Mount Vernon, Anacortes - WA": "0",
         "msamd_name_Olympia, Tumwater - WA": "0",
         "msamd_name_Portland, Vancouver, Hillsboro - OR, WA": "1",
         "msamd_name_Seattle, Bellevue, Everett - WA": "0",
         "msamd_name_Spokane, Spokane Valley - WA": "0",
         "msamd_name_Tacoma, Lakewood - WA": "0",
         "msamd_name_Walla Walla - WA": "0",
         "msamd_name_Wenatchee - WA": "0",
         "msamd_name_Yakima - WA": "0",
         "property_type_name_Multifamily dwelling": "0",
         "property_type_name_One-to-four family dwelling (other than manufactured housing)": "1",
         "co_applicant_sex_name_Information not provided by applicant in mail, Internet, or telephone application": "0",
         "co_applicant_sex_name_Male": "0",
         "co_applicant_sex_name_No co-applicant": "0",
         "co_applicant_sex_name_Not applicable": "0",
         "loan_type_name_FHA-insured": "0",
         "loan_type_name_FSA/RHS-guaranteed": "0",
         "loan_type_name_VA-guaranteed": "0",
         "co_applicant_race_name_1_Asian": "0",
         "co_applicant_race_name_1_Black or African American": "0",
         "co_applicant_race_name_1_Information not provided by applicant in mail, Internet, or telephone application": "0",
         "co_applicant_race_name_1_Native Hawaiian or Other Pacific Islander": "0",
         "co_applicant_race_name_1_No co-applicant": "0",
         "co_applicant_race_name_1_Not applicable": "0",
         "co_applicant_race_name_1_White": "1",
         "co_applicant_race_name_4_Native Hawaiian or Other Pacific Islander": "0",
         "co_applicant_race_name_4_White": "0",
         "applicant_race_name_4_Asian": "0",
         "applicant_race_name_4_Black or African American": "0",
         "applicant_race_name_4_Native Hawaiian or Other Pacific Islander": "0",
         "applicant_race_name_4_White": "0",
         "loan_purpose_name_Home purchase": "0",
         "loan_purpose_name_Refinancing": "1",
         "applicant_race_name_5_Asian": "0",
         "applicant_race_name_5_Black or African American": "0",
         "applicant_race_name_5_White": "0",
         "preapproval_name_Preapproval was not requested": "0",
         "preapproval_name_Preapproval was requested": "0",
         "applicant_sex_name_Information not provided by applicant in mail, Internet, or telephone application": "0",
         "applicant_sex_name_Male": "1",
         "applicant_sex_name_Not applicable": "0",
         "_deepnote_index_column": "2"
        },
        {
         "tract_to_msamd_income": "146.1699982",
         "rate_spread": "0.0",
         "population": "5032.0",
         "minority_population": "8.590000153",
         "number_of_owner_occupied_units": "1525.0",
         "number_of_1_to_4_family_units": "1820.0",
         "loan_amount_000s": "351",
         "hud_median_family_income": "73300.0",
         "applicant_income_000s": "315.0",
         "census_tract_number": "405.1",
         "as_of_year": "2016",
         "application_date_indicator": "0",
         "loan_approved": "True",
         "applicant_race_name_3_American Indian or Alaska Native": "0",
         "applicant_race_name_3_Asian": "0",
         "applicant_race_name_3_Black or African American": "0",
         "applicant_race_name_3_Native Hawaiian or Other Pacific Islander": "0",
         "applicant_race_name_3_White": "0",
         "hoepa_status_name_Not a HOEPA loan": "1",
         "co_applicant_ethnicity_name_Information not provided by applicant in mail, Internet, or telephone application": "1",
         "co_applicant_ethnicity_name_No co-applicant": "0",
         "co_applicant_ethnicity_name_Not Hispanic or Latino": "0",
         "co_applicant_ethnicity_name_Not applicable": "0",
         "agency_name_Department of Housing and Urban Development": "0",
         "agency_name_Federal Deposit Insurance Corporation": "0",
         "agency_name_Federal Reserve System": "0",
         "agency_name_National Credit Union Administration": "1",
         "agency_name_Office of the Comptroller of the Currency": "0",
         "agency_abbr_FDIC": "0",
         "agency_abbr_FRS": "0",
         "agency_abbr_HUD": "0",
         "agency_abbr_NCUA": "1",
         "agency_abbr_OCC": "0",
         "applicant_race_name_2_American Indian or Alaska Native": "0",
         "applicant_race_name_2_Asian": "0",
         "applicant_race_name_2_Black or African American": "0",
         "applicant_race_name_2_Native Hawaiian or Other Pacific Islander": "0",
         "applicant_race_name_2_White": "0",
         "applicant_ethnicity_name_Information not provided by applicant in mail, Internet, or telephone application": "1",
         "applicant_ethnicity_name_Not Hispanic or Latino": "0",
         "applicant_ethnicity_name_Not applicable": "0",
         "county_name_Adams County": "0",
         "county_name_Asotin County": "0",
         "county_name_Benton County": "0",
         "county_name_Chelan County": "0",
         "county_name_Clallam County": "0",
         "county_name_Clark County": "1",
         "county_name_Columbia County": "0",
         "county_name_Cowlitz County": "0",
         "county_name_Douglas County": "0",
         "county_name_Ferry County": "0",
         "county_name_Franklin County": "0",
         "county_name_Garfield County": "0",
         "county_name_Grant County": "0",
         "county_name_Grays Harbor County": "0",
         "county_name_Island County": "0",
         "county_name_Jefferson County": "0",
         "county_name_King County": "0",
         "county_name_Kitsap County": "0",
         "county_name_Kittitas County": "0",
         "county_name_Klickitat County": "0",
         "county_name_Lewis County": "0",
         "county_name_Lincoln County": "0",
         "county_name_Mason County": "0",
         "county_name_Okanogan County": "0",
         "county_name_Pacific County": "0",
         "county_name_Pend Oreille County": "0",
         "county_name_Pierce County": "0",
         "county_name_San Juan County": "0",
         "county_name_Skagit County": "0",
         "county_name_Skamania County": "0",
         "county_name_Snohomish County": "0",
         "county_name_Spokane County": "0",
         "county_name_Stevens County": "0",
         "county_name_Thurston County": "0",
         "county_name_Wahkiakum County": "0",
         "county_name_Walla Walla County": "0",
         "county_name_Whatcom County": "0",
         "county_name_Whitman County": "0",
         "county_name_Yakima County": "0",
         "co_applicant_race_name_3_Black or African American": "0",
         "co_applicant_race_name_3_Native Hawaiian or Other Pacific Islander": "0",
         "co_applicant_race_name_3_White": "0",
         "owner_occupancy_name_Not owner-occupied as a principal dwelling": "0",
         "owner_occupancy_name_Owner-occupied as a principal dwelling": "1",
         "lien_status_name_Not secured by a lien": "0",
         "lien_status_name_Secured by a first lien": "1",
         "lien_status_name_Secured by a subordinate lien": "0",
         "co_applicant_race_name_5_White": "0",
         "edit_status_name_Quality edit failure only": "0",
         "applicant_race_name_1_Asian": "0",
         "applicant_race_name_1_Black or African American": "0",
         "applicant_race_name_1_Information not provided by applicant in mail, Internet, or telephone application": "1",
         "applicant_race_name_1_Native Hawaiian or Other Pacific Islander": "0",
         "applicant_race_name_1_Not applicable": "0",
         "applicant_race_name_1_White": "0",
         "co_applicant_race_name_2_American Indian or Alaska Native": "0",
         "co_applicant_race_name_2_Asian": "0",
         "co_applicant_race_name_2_Black or African American": "0",
         "co_applicant_race_name_2_Native Hawaiian or Other Pacific Islander": "0",
         "co_applicant_race_name_2_White": "0",
         "msamd_name_Bellingham - WA": "0",
         "msamd_name_Bremerton, Silverdale - WA": "0",
         "msamd_name_Kennewick, Richland - WA": "0",
         "msamd_name_Lewiston - ID, WA": "0",
         "msamd_name_Longview - WA": "0",
         "msamd_name_Mount Vernon, Anacortes - WA": "0",
         "msamd_name_Olympia, Tumwater - WA": "0",
         "msamd_name_Portland, Vancouver, Hillsboro - OR, WA": "1",
         "msamd_name_Seattle, Bellevue, Everett - WA": "0",
         "msamd_name_Spokane, Spokane Valley - WA": "0",
         "msamd_name_Tacoma, Lakewood - WA": "0",
         "msamd_name_Walla Walla - WA": "0",
         "msamd_name_Wenatchee - WA": "0",
         "msamd_name_Yakima - WA": "0",
         "property_type_name_Multifamily dwelling": "0",
         "property_type_name_One-to-four family dwelling (other than manufactured housing)": "1",
         "co_applicant_sex_name_Information not provided by applicant in mail, Internet, or telephone application": "0",
         "co_applicant_sex_name_Male": "0",
         "co_applicant_sex_name_No co-applicant": "0",
         "co_applicant_sex_name_Not applicable": "0",
         "loan_type_name_FHA-insured": "0",
         "loan_type_name_FSA/RHS-guaranteed": "0",
         "loan_type_name_VA-guaranteed": "0",
         "co_applicant_race_name_1_Asian": "0",
         "co_applicant_race_name_1_Black or African American": "0",
         "co_applicant_race_name_1_Information not provided by applicant in mail, Internet, or telephone application": "1",
         "co_applicant_race_name_1_Native Hawaiian or Other Pacific Islander": "0",
         "co_applicant_race_name_1_No co-applicant": "0",
         "co_applicant_race_name_1_Not applicable": "0",
         "co_applicant_race_name_1_White": "0",
         "co_applicant_race_name_4_Native Hawaiian or Other Pacific Islander": "0",
         "co_applicant_race_name_4_White": "0",
         "applicant_race_name_4_Asian": "0",
         "applicant_race_name_4_Black or African American": "0",
         "applicant_race_name_4_Native Hawaiian or Other Pacific Islander": "0",
         "applicant_race_name_4_White": "0",
         "loan_purpose_name_Home purchase": "0",
         "loan_purpose_name_Refinancing": "1",
         "applicant_race_name_5_Asian": "0",
         "applicant_race_name_5_Black or African American": "0",
         "applicant_race_name_5_White": "0",
         "preapproval_name_Preapproval was not requested": "0",
         "preapproval_name_Preapproval was requested": "0",
         "applicant_sex_name_Information not provided by applicant in mail, Internet, or telephone application": "0",
         "applicant_sex_name_Male": "1",
         "applicant_sex_name_Not applicable": "0",
         "_deepnote_index_column": "3"
        },
        {
         "tract_to_msamd_income": "162.4700012",
         "rate_spread": "0.0",
         "population": "5183.0",
         "minority_population": "10.5",
         "number_of_owner_occupied_units": "1705.0",
         "number_of_1_to_4_family_units": "2104.0",
         "loan_amount_000s": "417",
         "hud_median_family_income": "78100.0",
         "applicant_income_000s": "114.0",
         "census_tract_number": "907.0",
         "as_of_year": "2016",
         "application_date_indicator": "0",
         "loan_approved": "True",
         "applicant_race_name_3_American Indian or Alaska Native": "0",
         "applicant_race_name_3_Asian": "0",
         "applicant_race_name_3_Black or African American": "0",
         "applicant_race_name_3_Native Hawaiian or Other Pacific Islander": "0",
         "applicant_race_name_3_White": "0",
         "hoepa_status_name_Not a HOEPA loan": "1",
         "co_applicant_ethnicity_name_Information not provided by applicant in mail, Internet, or telephone application": "0",
         "co_applicant_ethnicity_name_No co-applicant": "0",
         "co_applicant_ethnicity_name_Not Hispanic or Latino": "1",
         "co_applicant_ethnicity_name_Not applicable": "0",
         "agency_name_Department of Housing and Urban Development": "0",
         "agency_name_Federal Deposit Insurance Corporation": "1",
         "agency_name_Federal Reserve System": "0",
         "agency_name_National Credit Union Administration": "0",
         "agency_name_Office of the Comptroller of the Currency": "0",
         "agency_abbr_FDIC": "1",
         "agency_abbr_FRS": "0",
         "agency_abbr_HUD": "0",
         "agency_abbr_NCUA": "0",
         "agency_abbr_OCC": "0",
         "applicant_race_name_2_American Indian or Alaska Native": "0",
         "applicant_race_name_2_Asian": "0",
         "applicant_race_name_2_Black or African American": "0",
         "applicant_race_name_2_Native Hawaiian or Other Pacific Islander": "0",
         "applicant_race_name_2_White": "0",
         "applicant_ethnicity_name_Information not provided by applicant in mail, Internet, or telephone application": "0",
         "applicant_ethnicity_name_Not Hispanic or Latino": "1",
         "applicant_ethnicity_name_Not applicable": "0",
         "county_name_Adams County": "0",
         "county_name_Asotin County": "0",
         "county_name_Benton County": "0",
         "county_name_Chelan County": "0",
         "county_name_Clallam County": "0",
         "county_name_Clark County": "0",
         "county_name_Columbia County": "0",
         "county_name_Cowlitz County": "0",
         "county_name_Douglas County": "0",
         "county_name_Ferry County": "0",
         "county_name_Franklin County": "0",
         "county_name_Garfield County": "0",
         "county_name_Grant County": "0",
         "county_name_Grays Harbor County": "0",
         "county_name_Island County": "0",
         "county_name_Jefferson County": "0",
         "county_name_King County": "0",
         "county_name_Kitsap County": "1",
         "county_name_Kittitas County": "0",
         "county_name_Klickitat County": "0",
         "county_name_Lewis County": "0",
         "county_name_Lincoln County": "0",
         "county_name_Mason County": "0",
         "county_name_Okanogan County": "0",
         "county_name_Pacific County": "0",
         "county_name_Pend Oreille County": "0",
         "county_name_Pierce County": "0",
         "county_name_San Juan County": "0",
         "county_name_Skagit County": "0",
         "county_name_Skamania County": "0",
         "county_name_Snohomish County": "0",
         "county_name_Spokane County": "0",
         "county_name_Stevens County": "0",
         "county_name_Thurston County": "0",
         "county_name_Wahkiakum County": "0",
         "county_name_Walla Walla County": "0",
         "county_name_Whatcom County": "0",
         "county_name_Whitman County": "0",
         "county_name_Yakima County": "0",
         "co_applicant_race_name_3_Black or African American": "0",
         "co_applicant_race_name_3_Native Hawaiian or Other Pacific Islander": "0",
         "co_applicant_race_name_3_White": "0",
         "owner_occupancy_name_Not owner-occupied as a principal dwelling": "0",
         "owner_occupancy_name_Owner-occupied as a principal dwelling": "1",
         "lien_status_name_Not secured by a lien": "0",
         "lien_status_name_Secured by a first lien": "1",
         "lien_status_name_Secured by a subordinate lien": "0",
         "co_applicant_race_name_5_White": "0",
         "edit_status_name_Quality edit failure only": "0",
         "applicant_race_name_1_Asian": "0",
         "applicant_race_name_1_Black or African American": "0",
         "applicant_race_name_1_Information not provided by applicant in mail, Internet, or telephone application": "0",
         "applicant_race_name_1_Native Hawaiian or Other Pacific Islander": "0",
         "applicant_race_name_1_Not applicable": "0",
         "applicant_race_name_1_White": "1",
         "co_applicant_race_name_2_American Indian or Alaska Native": "0",
         "co_applicant_race_name_2_Asian": "0",
         "co_applicant_race_name_2_Black or African American": "0",
         "co_applicant_race_name_2_Native Hawaiian or Other Pacific Islander": "0",
         "co_applicant_race_name_2_White": "0",
         "msamd_name_Bellingham - WA": "0",
         "msamd_name_Bremerton, Silverdale - WA": "1",
         "msamd_name_Kennewick, Richland - WA": "0",
         "msamd_name_Lewiston - ID, WA": "0",
         "msamd_name_Longview - WA": "0",
         "msamd_name_Mount Vernon, Anacortes - WA": "0",
         "msamd_name_Olympia, Tumwater - WA": "0",
         "msamd_name_Portland, Vancouver, Hillsboro - OR, WA": "0",
         "msamd_name_Seattle, Bellevue, Everett - WA": "0",
         "msamd_name_Spokane, Spokane Valley - WA": "0",
         "msamd_name_Tacoma, Lakewood - WA": "0",
         "msamd_name_Walla Walla - WA": "0",
         "msamd_name_Wenatchee - WA": "0",
         "msamd_name_Yakima - WA": "0",
         "property_type_name_Multifamily dwelling": "0",
         "property_type_name_One-to-four family dwelling (other than manufactured housing)": "1",
         "co_applicant_sex_name_Information not provided by applicant in mail, Internet, or telephone application": "0",
         "co_applicant_sex_name_Male": "1",
         "co_applicant_sex_name_No co-applicant": "0",
         "co_applicant_sex_name_Not applicable": "0",
         "loan_type_name_FHA-insured": "0",
         "loan_type_name_FSA/RHS-guaranteed": "0",
         "loan_type_name_VA-guaranteed": "0",
         "co_applicant_race_name_1_Asian": "0",
         "co_applicant_race_name_1_Black or African American": "0",
         "co_applicant_race_name_1_Information not provided by applicant in mail, Internet, or telephone application": "0",
         "co_applicant_race_name_1_Native Hawaiian or Other Pacific Islander": "0",
         "co_applicant_race_name_1_No co-applicant": "0",
         "co_applicant_race_name_1_Not applicable": "0",
         "co_applicant_race_name_1_White": "1",
         "co_applicant_race_name_4_Native Hawaiian or Other Pacific Islander": "0",
         "co_applicant_race_name_4_White": "0",
         "applicant_race_name_4_Asian": "0",
         "applicant_race_name_4_Black or African American": "0",
         "applicant_race_name_4_Native Hawaiian or Other Pacific Islander": "0",
         "applicant_race_name_4_White": "0",
         "loan_purpose_name_Home purchase": "0",
         "loan_purpose_name_Refinancing": "0",
         "applicant_race_name_5_Asian": "0",
         "applicant_race_name_5_Black or African American": "0",
         "applicant_race_name_5_White": "0",
         "preapproval_name_Preapproval was not requested": "0",
         "preapproval_name_Preapproval was requested": "0",
         "applicant_sex_name_Information not provided by applicant in mail, Internet, or telephone application": "0",
         "applicant_sex_name_Male": "0",
         "applicant_sex_name_Not applicable": "0",
         "_deepnote_index_column": "4"
        },
        {
         "tract_to_msamd_income": "119.6299973",
         "rate_spread": "0.0",
         "population": "4775.0",
         "minority_population": "18.88999939",
         "number_of_owner_occupied_units": "954.0",
         "number_of_1_to_4_family_units": "1332.0",
         "loan_amount_000s": "206",
         "hud_median_family_income": "72300.0",
         "applicant_income_000s": "0.0",
         "census_tract_number": "734.06",
         "as_of_year": "2016",
         "application_date_indicator": "0",
         "loan_approved": "True",
         "applicant_race_name_3_American Indian or Alaska Native": "0",
         "applicant_race_name_3_Asian": "0",
         "applicant_race_name_3_Black or African American": "0",
         "applicant_race_name_3_Native Hawaiian or Other Pacific Islander": "0",
         "applicant_race_name_3_White": "0",
         "hoepa_status_name_Not a HOEPA loan": "1",
         "co_applicant_ethnicity_name_Information not provided by applicant in mail, Internet, or telephone application": "0",
         "co_applicant_ethnicity_name_No co-applicant": "1",
         "co_applicant_ethnicity_name_Not Hispanic or Latino": "0",
         "co_applicant_ethnicity_name_Not applicable": "0",
         "agency_name_Department of Housing and Urban Development": "0",
         "agency_name_Federal Deposit Insurance Corporation": "0",
         "agency_name_Federal Reserve System": "0",
         "agency_name_National Credit Union Administration": "0",
         "agency_name_Office of the Comptroller of the Currency": "1",
         "agency_abbr_FDIC": "0",
         "agency_abbr_FRS": "0",
         "agency_abbr_HUD": "0",
         "agency_abbr_NCUA": "0",
         "agency_abbr_OCC": "1",
         "applicant_race_name_2_American Indian or Alaska Native": "0",
         "applicant_race_name_2_Asian": "0",
         "applicant_race_name_2_Black or African American": "0",
         "applicant_race_name_2_Native Hawaiian or Other Pacific Islander": "0",
         "applicant_race_name_2_White": "0",
         "applicant_ethnicity_name_Information not provided by applicant in mail, Internet, or telephone application": "0",
         "applicant_ethnicity_name_Not Hispanic or Latino": "1",
         "applicant_ethnicity_name_Not applicable": "0",
         "county_name_Adams County": "0",
         "county_name_Asotin County": "0",
         "county_name_Benton County": "0",
         "county_name_Chelan County": "0",
         "county_name_Clallam County": "0",
         "county_name_Clark County": "0",
         "county_name_Columbia County": "0",
         "county_name_Cowlitz County": "0",
         "county_name_Douglas County": "0",
         "county_name_Ferry County": "0",
         "county_name_Franklin County": "0",
         "county_name_Garfield County": "0",
         "county_name_Grant County": "0",
         "county_name_Grays Harbor County": "0",
         "county_name_Island County": "0",
         "county_name_Jefferson County": "0",
         "county_name_King County": "0",
         "county_name_Kitsap County": "0",
         "county_name_Kittitas County": "0",
         "county_name_Klickitat County": "0",
         "county_name_Lewis County": "0",
         "county_name_Lincoln County": "0",
         "county_name_Mason County": "0",
         "county_name_Okanogan County": "0",
         "county_name_Pacific County": "0",
         "county_name_Pend Oreille County": "0",
         "county_name_Pierce County": "1",
         "county_name_San Juan County": "0",
         "county_name_Skagit County": "0",
         "county_name_Skamania County": "0",
         "county_name_Snohomish County": "0",
         "county_name_Spokane County": "0",
         "county_name_Stevens County": "0",
         "county_name_Thurston County": "0",
         "county_name_Wahkiakum County": "0",
         "county_name_Walla Walla County": "0",
         "county_name_Whatcom County": "0",
         "county_name_Whitman County": "0",
         "county_name_Yakima County": "0",
         "co_applicant_race_name_3_Black or African American": "0",
         "co_applicant_race_name_3_Native Hawaiian or Other Pacific Islander": "0",
         "co_applicant_race_name_3_White": "0",
         "owner_occupancy_name_Not owner-occupied as a principal dwelling": "0",
         "owner_occupancy_name_Owner-occupied as a principal dwelling": "1",
         "lien_status_name_Not secured by a lien": "0",
         "lien_status_name_Secured by a first lien": "1",
         "lien_status_name_Secured by a subordinate lien": "0",
         "co_applicant_race_name_5_White": "0",
         "edit_status_name_Quality edit failure only": "1",
         "applicant_race_name_1_Asian": "0",
         "applicant_race_name_1_Black or African American": "0",
         "applicant_race_name_1_Information not provided by applicant in mail, Internet, or telephone application": "0",
         "applicant_race_name_1_Native Hawaiian or Other Pacific Islander": "0",
         "applicant_race_name_1_Not applicable": "0",
         "applicant_race_name_1_White": "1",
         "co_applicant_race_name_2_American Indian or Alaska Native": "0",
         "co_applicant_race_name_2_Asian": "0",
         "co_applicant_race_name_2_Black or African American": "0",
         "co_applicant_race_name_2_Native Hawaiian or Other Pacific Islander": "0",
         "co_applicant_race_name_2_White": "0",
         "msamd_name_Bellingham - WA": "0",
         "msamd_name_Bremerton, Silverdale - WA": "0",
         "msamd_name_Kennewick, Richland - WA": "0",
         "msamd_name_Lewiston - ID, WA": "0",
         "msamd_name_Longview - WA": "0",
         "msamd_name_Mount Vernon, Anacortes - WA": "0",
         "msamd_name_Olympia, Tumwater - WA": "0",
         "msamd_name_Portland, Vancouver, Hillsboro - OR, WA": "0",
         "msamd_name_Seattle, Bellevue, Everett - WA": "0",
         "msamd_name_Spokane, Spokane Valley - WA": "0",
         "msamd_name_Tacoma, Lakewood - WA": "1",
         "msamd_name_Walla Walla - WA": "0",
         "msamd_name_Wenatchee - WA": "0",
         "msamd_name_Yakima - WA": "0",
         "property_type_name_Multifamily dwelling": "0",
         "property_type_name_One-to-four family dwelling (other than manufactured housing)": "1",
         "co_applicant_sex_name_Information not provided by applicant in mail, Internet, or telephone application": "0",
         "co_applicant_sex_name_Male": "0",
         "co_applicant_sex_name_No co-applicant": "1",
         "co_applicant_sex_name_Not applicable": "0",
         "loan_type_name_FHA-insured": "0",
         "loan_type_name_FSA/RHS-guaranteed": "0",
         "loan_type_name_VA-guaranteed": "1",
         "co_applicant_race_name_1_Asian": "0",
         "co_applicant_race_name_1_Black or African American": "0",
         "co_applicant_race_name_1_Information not provided by applicant in mail, Internet, or telephone application": "0",
         "co_applicant_race_name_1_Native Hawaiian or Other Pacific Islander": "0",
         "co_applicant_race_name_1_No co-applicant": "1",
         "co_applicant_race_name_1_Not applicable": "0",
         "co_applicant_race_name_1_White": "0",
         "co_applicant_race_name_4_Native Hawaiian or Other Pacific Islander": "0",
         "co_applicant_race_name_4_White": "0",
         "applicant_race_name_4_Asian": "0",
         "applicant_race_name_4_Black or African American": "0",
         "applicant_race_name_4_Native Hawaiian or Other Pacific Islander": "0",
         "applicant_race_name_4_White": "0",
         "loan_purpose_name_Home purchase": "0",
         "loan_purpose_name_Refinancing": "1",
         "applicant_race_name_5_Asian": "0",
         "applicant_race_name_5_Black or African American": "0",
         "applicant_race_name_5_White": "0",
         "preapproval_name_Preapproval was not requested": "0",
         "preapproval_name_Preapproval was requested": "0",
         "applicant_sex_name_Information not provided by applicant in mail, Internet, or telephone application": "0",
         "applicant_sex_name_Male": "1",
         "applicant_sex_name_Not applicable": "0",
         "_deepnote_index_column": "5"
        },
        {
         "tract_to_msamd_income": "103.2099991",
         "rate_spread": "0.0",
         "population": "4745.0",
         "minority_population": "33.06999969",
         "number_of_owner_occupied_units": "1337.0",
         "number_of_1_to_4_family_units": "1442.0",
         "loan_amount_000s": "356",
         "hud_median_family_income": "90300.0",
         "applicant_income_000s": "0.0",
         "census_tract_number": "519.23",
         "as_of_year": "2016",
         "application_date_indicator": "0",
         "loan_approved": "True",
         "applicant_race_name_3_American Indian or Alaska Native": "0",
         "applicant_race_name_3_Asian": "0",
         "applicant_race_name_3_Black or African American": "0",
         "applicant_race_name_3_Native Hawaiian or Other Pacific Islander": "0",
         "applicant_race_name_3_White": "0",
         "hoepa_status_name_Not a HOEPA loan": "1",
         "co_applicant_ethnicity_name_Information not provided by applicant in mail, Internet, or telephone application": "0",
         "co_applicant_ethnicity_name_No co-applicant": "1",
         "co_applicant_ethnicity_name_Not Hispanic or Latino": "0",
         "co_applicant_ethnicity_name_Not applicable": "0",
         "agency_name_Department of Housing and Urban Development": "1",
         "agency_name_Federal Deposit Insurance Corporation": "0",
         "agency_name_Federal Reserve System": "0",
         "agency_name_National Credit Union Administration": "0",
         "agency_name_Office of the Comptroller of the Currency": "0",
         "agency_abbr_FDIC": "0",
         "agency_abbr_FRS": "0",
         "agency_abbr_HUD": "1",
         "agency_abbr_NCUA": "0",
         "agency_abbr_OCC": "0",
         "applicant_race_name_2_American Indian or Alaska Native": "0",
         "applicant_race_name_2_Asian": "0",
         "applicant_race_name_2_Black or African American": "0",
         "applicant_race_name_2_Native Hawaiian or Other Pacific Islander": "0",
         "applicant_race_name_2_White": "0",
         "applicant_ethnicity_name_Information not provided by applicant in mail, Internet, or telephone application": "0",
         "applicant_ethnicity_name_Not Hispanic or Latino": "1",
         "applicant_ethnicity_name_Not applicable": "0",
         "county_name_Adams County": "0",
         "county_name_Asotin County": "0",
         "county_name_Benton County": "0",
         "county_name_Chelan County": "0",
         "county_name_Clallam County": "0",
         "county_name_Clark County": "0",
         "county_name_Columbia County": "0",
         "county_name_Cowlitz County": "0",
         "county_name_Douglas County": "0",
         "county_name_Ferry County": "0",
         "county_name_Franklin County": "0",
         "county_name_Garfield County": "0",
         "county_name_Grant County": "0",
         "county_name_Grays Harbor County": "0",
         "county_name_Island County": "0",
         "county_name_Jefferson County": "0",
         "county_name_King County": "0",
         "county_name_Kitsap County": "0",
         "county_name_Kittitas County": "0",
         "county_name_Klickitat County": "0",
         "county_name_Lewis County": "0",
         "county_name_Lincoln County": "0",
         "county_name_Mason County": "0",
         "county_name_Okanogan County": "0",
         "county_name_Pacific County": "0",
         "county_name_Pend Oreille County": "0",
         "county_name_Pierce County": "0",
         "county_name_San Juan County": "0",
         "county_name_Skagit County": "0",
         "county_name_Skamania County": "0",
         "county_name_Snohomish County": "1",
         "county_name_Spokane County": "0",
         "county_name_Stevens County": "0",
         "county_name_Thurston County": "0",
         "county_name_Wahkiakum County": "0",
         "county_name_Walla Walla County": "0",
         "county_name_Whatcom County": "0",
         "county_name_Whitman County": "0",
         "county_name_Yakima County": "0",
         "co_applicant_race_name_3_Black or African American": "0",
         "co_applicant_race_name_3_Native Hawaiian or Other Pacific Islander": "0",
         "co_applicant_race_name_3_White": "0",
         "owner_occupancy_name_Not owner-occupied as a principal dwelling": "0",
         "owner_occupancy_name_Owner-occupied as a principal dwelling": "1",
         "lien_status_name_Not secured by a lien": "0",
         "lien_status_name_Secured by a first lien": "1",
         "lien_status_name_Secured by a subordinate lien": "0",
         "co_applicant_race_name_5_White": "0",
         "edit_status_name_Quality edit failure only": "1",
         "applicant_race_name_1_Asian": "0",
         "applicant_race_name_1_Black or African American": "0",
         "applicant_race_name_1_Information not provided by applicant in mail, Internet, or telephone application": "0",
         "applicant_race_name_1_Native Hawaiian or Other Pacific Islander": "0",
         "applicant_race_name_1_Not applicable": "0",
         "applicant_race_name_1_White": "1",
         "co_applicant_race_name_2_American Indian or Alaska Native": "0",
         "co_applicant_race_name_2_Asian": "0",
         "co_applicant_race_name_2_Black or African American": "0",
         "co_applicant_race_name_2_Native Hawaiian or Other Pacific Islander": "0",
         "co_applicant_race_name_2_White": "0",
         "msamd_name_Bellingham - WA": "0",
         "msamd_name_Bremerton, Silverdale - WA": "0",
         "msamd_name_Kennewick, Richland - WA": "0",
         "msamd_name_Lewiston - ID, WA": "0",
         "msamd_name_Longview - WA": "0",
         "msamd_name_Mount Vernon, Anacortes - WA": "0",
         "msamd_name_Olympia, Tumwater - WA": "0",
         "msamd_name_Portland, Vancouver, Hillsboro - OR, WA": "0",
         "msamd_name_Seattle, Bellevue, Everett - WA": "1",
         "msamd_name_Spokane, Spokane Valley - WA": "0",
         "msamd_name_Tacoma, Lakewood - WA": "0",
         "msamd_name_Walla Walla - WA": "0",
         "msamd_name_Wenatchee - WA": "0",
         "msamd_name_Yakima - WA": "0",
         "property_type_name_Multifamily dwelling": "0",
         "property_type_name_One-to-four family dwelling (other than manufactured housing)": "1",
         "co_applicant_sex_name_Information not provided by applicant in mail, Internet, or telephone application": "0",
         "co_applicant_sex_name_Male": "0",
         "co_applicant_sex_name_No co-applicant": "1",
         "co_applicant_sex_name_Not applicable": "0",
         "loan_type_name_FHA-insured": "0",
         "loan_type_name_FSA/RHS-guaranteed": "0",
         "loan_type_name_VA-guaranteed": "1",
         "co_applicant_race_name_1_Asian": "0",
         "co_applicant_race_name_1_Black or African American": "0",
         "co_applicant_race_name_1_Information not provided by applicant in mail, Internet, or telephone application": "0",
         "co_applicant_race_name_1_Native Hawaiian or Other Pacific Islander": "0",
         "co_applicant_race_name_1_No co-applicant": "1",
         "co_applicant_race_name_1_Not applicable": "0",
         "co_applicant_race_name_1_White": "0",
         "co_applicant_race_name_4_Native Hawaiian or Other Pacific Islander": "0",
         "co_applicant_race_name_4_White": "0",
         "applicant_race_name_4_Asian": "0",
         "applicant_race_name_4_Black or African American": "0",
         "applicant_race_name_4_Native Hawaiian or Other Pacific Islander": "0",
         "applicant_race_name_4_White": "0",
         "loan_purpose_name_Home purchase": "0",
         "loan_purpose_name_Refinancing": "1",
         "applicant_race_name_5_Asian": "0",
         "applicant_race_name_5_Black or African American": "0",
         "applicant_race_name_5_White": "0",
         "preapproval_name_Preapproval was not requested": "0",
         "preapproval_name_Preapproval was requested": "0",
         "applicant_sex_name_Information not provided by applicant in mail, Internet, or telephone application": "0",
         "applicant_sex_name_Male": "1",
         "applicant_sex_name_Not applicable": "0",
         "_deepnote_index_column": "6"
        },
        {
         "tract_to_msamd_income": "93.76999664",
         "rate_spread": "0.0",
         "population": "7451.0",
         "minority_population": "33.40000153",
         "number_of_owner_occupied_units": "1761.0",
         "number_of_1_to_4_family_units": "2478.0",
         "loan_amount_000s": "265",
         "hud_median_family_income": "72300.0",
         "applicant_income_000s": "0.0",
         "census_tract_number": "731.08",
         "as_of_year": "2016",
         "application_date_indicator": "0",
         "loan_approved": "True",
         "applicant_race_name_3_American Indian or Alaska Native": "0",
         "applicant_race_name_3_Asian": "0",
         "applicant_race_name_3_Black or African American": "0",
         "applicant_race_name_3_Native Hawaiian or Other Pacific Islander": "0",
         "applicant_race_name_3_White": "0",
         "hoepa_status_name_Not a HOEPA loan": "1",
         "co_applicant_ethnicity_name_Information not provided by applicant in mail, Internet, or telephone application": "0",
         "co_applicant_ethnicity_name_No co-applicant": "0",
         "co_applicant_ethnicity_name_Not Hispanic or Latino": "1",
         "co_applicant_ethnicity_name_Not applicable": "0",
         "agency_name_Department of Housing and Urban Development": "0",
         "agency_name_Federal Deposit Insurance Corporation": "0",
         "agency_name_Federal Reserve System": "0",
         "agency_name_National Credit Union Administration": "0",
         "agency_name_Office of the Comptroller of the Currency": "0",
         "agency_abbr_FDIC": "0",
         "agency_abbr_FRS": "0",
         "agency_abbr_HUD": "0",
         "agency_abbr_NCUA": "0",
         "agency_abbr_OCC": "0",
         "applicant_race_name_2_American Indian or Alaska Native": "0",
         "applicant_race_name_2_Asian": "0",
         "applicant_race_name_2_Black or African American": "0",
         "applicant_race_name_2_Native Hawaiian or Other Pacific Islander": "0",
         "applicant_race_name_2_White": "0",
         "applicant_ethnicity_name_Information not provided by applicant in mail, Internet, or telephone application": "0",
         "applicant_ethnicity_name_Not Hispanic or Latino": "1",
         "applicant_ethnicity_name_Not applicable": "0",
         "county_name_Adams County": "0",
         "county_name_Asotin County": "0",
         "county_name_Benton County": "0",
         "county_name_Chelan County": "0",
         "county_name_Clallam County": "0",
         "county_name_Clark County": "0",
         "county_name_Columbia County": "0",
         "county_name_Cowlitz County": "0",
         "county_name_Douglas County": "0",
         "county_name_Ferry County": "0",
         "county_name_Franklin County": "0",
         "county_name_Garfield County": "0",
         "county_name_Grant County": "0",
         "county_name_Grays Harbor County": "0",
         "county_name_Island County": "0",
         "county_name_Jefferson County": "0",
         "county_name_King County": "0",
         "county_name_Kitsap County": "0",
         "county_name_Kittitas County": "0",
         "county_name_Klickitat County": "0",
         "county_name_Lewis County": "0",
         "county_name_Lincoln County": "0",
         "county_name_Mason County": "0",
         "county_name_Okanogan County": "0",
         "county_name_Pacific County": "0",
         "county_name_Pend Oreille County": "0",
         "county_name_Pierce County": "1",
         "county_name_San Juan County": "0",
         "county_name_Skagit County": "0",
         "county_name_Skamania County": "0",
         "county_name_Snohomish County": "0",
         "county_name_Spokane County": "0",
         "county_name_Stevens County": "0",
         "county_name_Thurston County": "0",
         "county_name_Wahkiakum County": "0",
         "county_name_Walla Walla County": "0",
         "county_name_Whatcom County": "0",
         "county_name_Whitman County": "0",
         "county_name_Yakima County": "0",
         "co_applicant_race_name_3_Black or African American": "0",
         "co_applicant_race_name_3_Native Hawaiian or Other Pacific Islander": "0",
         "co_applicant_race_name_3_White": "0",
         "owner_occupancy_name_Not owner-occupied as a principal dwelling": "0",
         "owner_occupancy_name_Owner-occupied as a principal dwelling": "1",
         "lien_status_name_Not secured by a lien": "0",
         "lien_status_name_Secured by a first lien": "1",
         "lien_status_name_Secured by a subordinate lien": "0",
         "co_applicant_race_name_5_White": "0",
         "edit_status_name_Quality edit failure only": "1",
         "applicant_race_name_1_Asian": "0",
         "applicant_race_name_1_Black or African American": "0",
         "applicant_race_name_1_Information not provided by applicant in mail, Internet, or telephone application": "0",
         "applicant_race_name_1_Native Hawaiian or Other Pacific Islander": "0",
         "applicant_race_name_1_Not applicable": "0",
         "applicant_race_name_1_White": "1",
         "co_applicant_race_name_2_American Indian or Alaska Native": "0",
         "co_applicant_race_name_2_Asian": "0",
         "co_applicant_race_name_2_Black or African American": "0",
         "co_applicant_race_name_2_Native Hawaiian or Other Pacific Islander": "0",
         "co_applicant_race_name_2_White": "0",
         "msamd_name_Bellingham - WA": "0",
         "msamd_name_Bremerton, Silverdale - WA": "0",
         "msamd_name_Kennewick, Richland - WA": "0",
         "msamd_name_Lewiston - ID, WA": "0",
         "msamd_name_Longview - WA": "0",
         "msamd_name_Mount Vernon, Anacortes - WA": "0",
         "msamd_name_Olympia, Tumwater - WA": "0",
         "msamd_name_Portland, Vancouver, Hillsboro - OR, WA": "0",
         "msamd_name_Seattle, Bellevue, Everett - WA": "0",
         "msamd_name_Spokane, Spokane Valley - WA": "0",
         "msamd_name_Tacoma, Lakewood - WA": "1",
         "msamd_name_Walla Walla - WA": "0",
         "msamd_name_Wenatchee - WA": "0",
         "msamd_name_Yakima - WA": "0",
         "property_type_name_Multifamily dwelling": "0",
         "property_type_name_One-to-four family dwelling (other than manufactured housing)": "1",
         "co_applicant_sex_name_Information not provided by applicant in mail, Internet, or telephone application": "0",
         "co_applicant_sex_name_Male": "0",
         "co_applicant_sex_name_No co-applicant": "0",
         "co_applicant_sex_name_Not applicable": "0",
         "loan_type_name_FHA-insured": "0",
         "loan_type_name_FSA/RHS-guaranteed": "0",
         "loan_type_name_VA-guaranteed": "1",
         "co_applicant_race_name_1_Asian": "0",
         "co_applicant_race_name_1_Black or African American": "0",
         "co_applicant_race_name_1_Information not provided by applicant in mail, Internet, or telephone application": "0",
         "co_applicant_race_name_1_Native Hawaiian or Other Pacific Islander": "0",
         "co_applicant_race_name_1_No co-applicant": "0",
         "co_applicant_race_name_1_Not applicable": "0",
         "co_applicant_race_name_1_White": "1",
         "co_applicant_race_name_4_Native Hawaiian or Other Pacific Islander": "0",
         "co_applicant_race_name_4_White": "0",
         "applicant_race_name_4_Asian": "0",
         "applicant_race_name_4_Black or African American": "0",
         "applicant_race_name_4_Native Hawaiian or Other Pacific Islander": "0",
         "applicant_race_name_4_White": "0",
         "loan_purpose_name_Home purchase": "0",
         "loan_purpose_name_Refinancing": "1",
         "applicant_race_name_5_Asian": "0",
         "applicant_race_name_5_Black or African American": "0",
         "applicant_race_name_5_White": "0",
         "preapproval_name_Preapproval was not requested": "0",
         "preapproval_name_Preapproval was requested": "0",
         "applicant_sex_name_Information not provided by applicant in mail, Internet, or telephone application": "0",
         "applicant_sex_name_Male": "1",
         "applicant_sex_name_Not applicable": "0",
         "_deepnote_index_column": "7"
        },
        {
         "tract_to_msamd_income": "109.5800018",
         "rate_spread": "0.0",
         "population": "6567.0",
         "minority_population": "21.70999908",
         "number_of_owner_occupied_units": "1130.0",
         "number_of_1_to_4_family_units": "1579.0",
         "loan_amount_000s": "131",
         "hud_median_family_income": "73600.0",
         "applicant_income_000s": "0.0",
         "census_tract_number": "109.1",
         "as_of_year": "2016",
         "application_date_indicator": "0",
         "loan_approved": "True",
         "applicant_race_name_3_American Indian or Alaska Native": "0",
         "applicant_race_name_3_Asian": "0",
         "applicant_race_name_3_Black or African American": "0",
         "applicant_race_name_3_Native Hawaiian or Other Pacific Islander": "0",
         "applicant_race_name_3_White": "0",
         "hoepa_status_name_Not a HOEPA loan": "1",
         "co_applicant_ethnicity_name_Information not provided by applicant in mail, Internet, or telephone application": "0",
         "co_applicant_ethnicity_name_No co-applicant": "1",
         "co_applicant_ethnicity_name_Not Hispanic or Latino": "0",
         "co_applicant_ethnicity_name_Not applicable": "0",
         "agency_name_Department of Housing and Urban Development": "1",
         "agency_name_Federal Deposit Insurance Corporation": "0",
         "agency_name_Federal Reserve System": "0",
         "agency_name_National Credit Union Administration": "0",
         "agency_name_Office of the Comptroller of the Currency": "0",
         "agency_abbr_FDIC": "0",
         "agency_abbr_FRS": "0",
         "agency_abbr_HUD": "1",
         "agency_abbr_NCUA": "0",
         "agency_abbr_OCC": "0",
         "applicant_race_name_2_American Indian or Alaska Native": "0",
         "applicant_race_name_2_Asian": "0",
         "applicant_race_name_2_Black or African American": "0",
         "applicant_race_name_2_Native Hawaiian or Other Pacific Islander": "0",
         "applicant_race_name_2_White": "0",
         "applicant_ethnicity_name_Information not provided by applicant in mail, Internet, or telephone application": "0",
         "applicant_ethnicity_name_Not Hispanic or Latino": "1",
         "applicant_ethnicity_name_Not applicable": "0",
         "county_name_Adams County": "0",
         "county_name_Asotin County": "0",
         "county_name_Benton County": "0",
         "county_name_Chelan County": "0",
         "county_name_Clallam County": "0",
         "county_name_Clark County": "0",
         "county_name_Columbia County": "0",
         "county_name_Cowlitz County": "0",
         "county_name_Douglas County": "0",
         "county_name_Ferry County": "0",
         "county_name_Franklin County": "0",
         "county_name_Garfield County": "0",
         "county_name_Grant County": "0",
         "county_name_Grays Harbor County": "0",
         "county_name_Island County": "0",
         "county_name_Jefferson County": "0",
         "county_name_King County": "0",
         "county_name_Kitsap County": "0",
         "county_name_Kittitas County": "0",
         "county_name_Klickitat County": "0",
         "county_name_Lewis County": "0",
         "county_name_Lincoln County": "0",
         "county_name_Mason County": "0",
         "county_name_Okanogan County": "0",
         "county_name_Pacific County": "0",
         "county_name_Pend Oreille County": "0",
         "county_name_Pierce County": "0",
         "county_name_San Juan County": "0",
         "county_name_Skagit County": "0",
         "county_name_Skamania County": "0",
         "county_name_Snohomish County": "0",
         "county_name_Spokane County": "0",
         "county_name_Stevens County": "0",
         "county_name_Thurston County": "1",
         "county_name_Wahkiakum County": "0",
         "county_name_Walla Walla County": "0",
         "county_name_Whatcom County": "0",
         "county_name_Whitman County": "0",
         "county_name_Yakima County": "0",
         "co_applicant_race_name_3_Black or African American": "0",
         "co_applicant_race_name_3_Native Hawaiian or Other Pacific Islander": "0",
         "co_applicant_race_name_3_White": "0",
         "owner_occupancy_name_Not owner-occupied as a principal dwelling": "0",
         "owner_occupancy_name_Owner-occupied as a principal dwelling": "1",
         "lien_status_name_Not secured by a lien": "0",
         "lien_status_name_Secured by a first lien": "1",
         "lien_status_name_Secured by a subordinate lien": "0",
         "co_applicant_race_name_5_White": "0",
         "edit_status_name_Quality edit failure only": "1",
         "applicant_race_name_1_Asian": "0",
         "applicant_race_name_1_Black or African American": "0",
         "applicant_race_name_1_Information not provided by applicant in mail, Internet, or telephone application": "0",
         "applicant_race_name_1_Native Hawaiian or Other Pacific Islander": "0",
         "applicant_race_name_1_Not applicable": "0",
         "applicant_race_name_1_White": "1",
         "co_applicant_race_name_2_American Indian or Alaska Native": "0",
         "co_applicant_race_name_2_Asian": "0",
         "co_applicant_race_name_2_Black or African American": "0",
         "co_applicant_race_name_2_Native Hawaiian or Other Pacific Islander": "0",
         "co_applicant_race_name_2_White": "0",
         "msamd_name_Bellingham - WA": "0",
         "msamd_name_Bremerton, Silverdale - WA": "0",
         "msamd_name_Kennewick, Richland - WA": "0",
         "msamd_name_Lewiston - ID, WA": "0",
         "msamd_name_Longview - WA": "0",
         "msamd_name_Mount Vernon, Anacortes - WA": "0",
         "msamd_name_Olympia, Tumwater - WA": "1",
         "msamd_name_Portland, Vancouver, Hillsboro - OR, WA": "0",
         "msamd_name_Seattle, Bellevue, Everett - WA": "0",
         "msamd_name_Spokane, Spokane Valley - WA": "0",
         "msamd_name_Tacoma, Lakewood - WA": "0",
         "msamd_name_Walla Walla - WA": "0",
         "msamd_name_Wenatchee - WA": "0",
         "msamd_name_Yakima - WA": "0",
         "property_type_name_Multifamily dwelling": "0",
         "property_type_name_One-to-four family dwelling (other than manufactured housing)": "1",
         "co_applicant_sex_name_Information not provided by applicant in mail, Internet, or telephone application": "0",
         "co_applicant_sex_name_Male": "0",
         "co_applicant_sex_name_No co-applicant": "1",
         "co_applicant_sex_name_Not applicable": "0",
         "loan_type_name_FHA-insured": "1",
         "loan_type_name_FSA/RHS-guaranteed": "0",
         "loan_type_name_VA-guaranteed": "0",
         "co_applicant_race_name_1_Asian": "0",
         "co_applicant_race_name_1_Black or African American": "0",
         "co_applicant_race_name_1_Information not provided by applicant in mail, Internet, or telephone application": "0",
         "co_applicant_race_name_1_Native Hawaiian or Other Pacific Islander": "0",
         "co_applicant_race_name_1_No co-applicant": "1",
         "co_applicant_race_name_1_Not applicable": "0",
         "co_applicant_race_name_1_White": "0",
         "co_applicant_race_name_4_Native Hawaiian or Other Pacific Islander": "0",
         "co_applicant_race_name_4_White": "0",
         "applicant_race_name_4_Asian": "0",
         "applicant_race_name_4_Black or African American": "0",
         "applicant_race_name_4_Native Hawaiian or Other Pacific Islander": "0",
         "applicant_race_name_4_White": "0",
         "loan_purpose_name_Home purchase": "0",
         "loan_purpose_name_Refinancing": "1",
         "applicant_race_name_5_Asian": "0",
         "applicant_race_name_5_Black or African American": "0",
         "applicant_race_name_5_White": "0",
         "preapproval_name_Preapproval was not requested": "0",
         "preapproval_name_Preapproval was requested": "0",
         "applicant_sex_name_Information not provided by applicant in mail, Internet, or telephone application": "0",
         "applicant_sex_name_Male": "1",
         "applicant_sex_name_Not applicable": "0",
         "_deepnote_index_column": "8"
        },
        {
         "tract_to_msamd_income": "87.16000366",
         "rate_spread": "0.0",
         "population": "9326.0",
         "minority_population": "19.39999962",
         "number_of_owner_occupied_units": "2449.0",
         "number_of_1_to_4_family_units": "3403.0",
         "loan_amount_000s": "199",
         "hud_median_family_income": "61400.0",
         "applicant_income_000s": "37.0",
         "census_tract_number": "9515.0",
         "as_of_year": "2016",
         "application_date_indicator": "0",
         "loan_approved": "True",
         "applicant_race_name_3_American Indian or Alaska Native": "0",
         "applicant_race_name_3_Asian": "0",
         "applicant_race_name_3_Black or African American": "0",
         "applicant_race_name_3_Native Hawaiian or Other Pacific Islander": "0",
         "applicant_race_name_3_White": "0",
         "hoepa_status_name_Not a HOEPA loan": "1",
         "co_applicant_ethnicity_name_Information not provided by applicant in mail, Internet, or telephone application": "0",
         "co_applicant_ethnicity_name_No co-applicant": "1",
         "co_applicant_ethnicity_name_Not Hispanic or Latino": "0",
         "co_applicant_ethnicity_name_Not applicable": "0",
         "agency_name_Department of Housing and Urban Development": "0",
         "agency_name_Federal Deposit Insurance Corporation": "1",
         "agency_name_Federal Reserve System": "0",
         "agency_name_National Credit Union Administration": "0",
         "agency_name_Office of the Comptroller of the Currency": "0",
         "agency_abbr_FDIC": "1",
         "agency_abbr_FRS": "0",
         "agency_abbr_HUD": "0",
         "agency_abbr_NCUA": "0",
         "agency_abbr_OCC": "0",
         "applicant_race_name_2_American Indian or Alaska Native": "0",
         "applicant_race_name_2_Asian": "0",
         "applicant_race_name_2_Black or African American": "0",
         "applicant_race_name_2_Native Hawaiian or Other Pacific Islander": "0",
         "applicant_race_name_2_White": "0",
         "applicant_ethnicity_name_Information not provided by applicant in mail, Internet, or telephone application": "0",
         "applicant_ethnicity_name_Not Hispanic or Latino": "1",
         "applicant_ethnicity_name_Not applicable": "0",
         "county_name_Adams County": "0",
         "county_name_Asotin County": "0",
         "county_name_Benton County": "0",
         "county_name_Chelan County": "0",
         "county_name_Clallam County": "0",
         "county_name_Clark County": "0",
         "county_name_Columbia County": "0",
         "county_name_Cowlitz County": "0",
         "county_name_Douglas County": "0",
         "county_name_Ferry County": "0",
         "county_name_Franklin County": "0",
         "county_name_Garfield County": "0",
         "county_name_Grant County": "0",
         "county_name_Grays Harbor County": "0",
         "county_name_Island County": "0",
         "county_name_Jefferson County": "0",
         "county_name_King County": "0",
         "county_name_Kitsap County": "0",
         "county_name_Kittitas County": "0",
         "county_name_Klickitat County": "0",
         "county_name_Lewis County": "0",
         "county_name_Lincoln County": "0",
         "county_name_Mason County": "0",
         "county_name_Okanogan County": "0",
         "county_name_Pacific County": "0",
         "county_name_Pend Oreille County": "0",
         "county_name_Pierce County": "0",
         "county_name_San Juan County": "0",
         "county_name_Skagit County": "1",
         "county_name_Skamania County": "0",
         "county_name_Snohomish County": "0",
         "county_name_Spokane County": "0",
         "county_name_Stevens County": "0",
         "county_name_Thurston County": "0",
         "county_name_Wahkiakum County": "0",
         "county_name_Walla Walla County": "0",
         "county_name_Whatcom County": "0",
         "county_name_Whitman County": "0",
         "county_name_Yakima County": "0",
         "co_applicant_race_name_3_Black or African American": "0",
         "co_applicant_race_name_3_Native Hawaiian or Other Pacific Islander": "0",
         "co_applicant_race_name_3_White": "0",
         "owner_occupancy_name_Not owner-occupied as a principal dwelling": "0",
         "owner_occupancy_name_Owner-occupied as a principal dwelling": "1",
         "lien_status_name_Not secured by a lien": "0",
         "lien_status_name_Secured by a first lien": "1",
         "lien_status_name_Secured by a subordinate lien": "0",
         "co_applicant_race_name_5_White": "0",
         "edit_status_name_Quality edit failure only": "0",
         "applicant_race_name_1_Asian": "0",
         "applicant_race_name_1_Black or African American": "0",
         "applicant_race_name_1_Information not provided by applicant in mail, Internet, or telephone application": "0",
         "applicant_race_name_1_Native Hawaiian or Other Pacific Islander": "0",
         "applicant_race_name_1_Not applicable": "0",
         "applicant_race_name_1_White": "1",
         "co_applicant_race_name_2_American Indian or Alaska Native": "0",
         "co_applicant_race_name_2_Asian": "0",
         "co_applicant_race_name_2_Black or African American": "0",
         "co_applicant_race_name_2_Native Hawaiian or Other Pacific Islander": "0",
         "co_applicant_race_name_2_White": "0",
         "msamd_name_Bellingham - WA": "0",
         "msamd_name_Bremerton, Silverdale - WA": "0",
         "msamd_name_Kennewick, Richland - WA": "0",
         "msamd_name_Lewiston - ID, WA": "0",
         "msamd_name_Longview - WA": "0",
         "msamd_name_Mount Vernon, Anacortes - WA": "1",
         "msamd_name_Olympia, Tumwater - WA": "0",
         "msamd_name_Portland, Vancouver, Hillsboro - OR, WA": "0",
         "msamd_name_Seattle, Bellevue, Everett - WA": "0",
         "msamd_name_Spokane, Spokane Valley - WA": "0",
         "msamd_name_Tacoma, Lakewood - WA": "0",
         "msamd_name_Walla Walla - WA": "0",
         "msamd_name_Wenatchee - WA": "0",
         "msamd_name_Yakima - WA": "0",
         "property_type_name_Multifamily dwelling": "0",
         "property_type_name_One-to-four family dwelling (other than manufactured housing)": "1",
         "co_applicant_sex_name_Information not provided by applicant in mail, Internet, or telephone application": "0",
         "co_applicant_sex_name_Male": "0",
         "co_applicant_sex_name_No co-applicant": "1",
         "co_applicant_sex_name_Not applicable": "0",
         "loan_type_name_FHA-insured": "0",
         "loan_type_name_FSA/RHS-guaranteed": "0",
         "loan_type_name_VA-guaranteed": "0",
         "co_applicant_race_name_1_Asian": "0",
         "co_applicant_race_name_1_Black or African American": "0",
         "co_applicant_race_name_1_Information not provided by applicant in mail, Internet, or telephone application": "0",
         "co_applicant_race_name_1_Native Hawaiian or Other Pacific Islander": "0",
         "co_applicant_race_name_1_No co-applicant": "1",
         "co_applicant_race_name_1_Not applicable": "0",
         "co_applicant_race_name_1_White": "0",
         "co_applicant_race_name_4_Native Hawaiian or Other Pacific Islander": "0",
         "co_applicant_race_name_4_White": "0",
         "applicant_race_name_4_Asian": "0",
         "applicant_race_name_4_Black or African American": "0",
         "applicant_race_name_4_Native Hawaiian or Other Pacific Islander": "0",
         "applicant_race_name_4_White": "0",
         "loan_purpose_name_Home purchase": "1",
         "loan_purpose_name_Refinancing": "0",
         "applicant_race_name_5_Asian": "0",
         "applicant_race_name_5_Black or African American": "0",
         "applicant_race_name_5_White": "0",
         "preapproval_name_Preapproval was not requested": "1",
         "preapproval_name_Preapproval was requested": "0",
         "applicant_sex_name_Information not provided by applicant in mail, Internet, or telephone application": "0",
         "applicant_sex_name_Male": "1",
         "applicant_sex_name_Not applicable": "0",
         "_deepnote_index_column": "9"
        }
       ]
      },
      "text/plain": "        tract_to_msamd_income  rate_spread  population  minority_population  \\\n0                  121.690002          0.0      8381.0            23.790001   \n1                   83.370003          0.0      4915.0            23.990000   \n2                   91.129997          0.0      5075.0            11.820000   \n3                  146.169998          0.0      5032.0             8.590000   \n4                  162.470001          0.0      5183.0            10.500000   \n...                       ...          ...         ...                  ...   \n466553              91.070000          0.0      6792.0            16.889999   \n466554             128.800003          0.0      4966.0            11.500000   \n466555              99.669998          0.0      4950.0            29.639999   \n466556              88.889999          0.0      3233.0            16.610001   \n466557             110.230003          0.0      7206.0            22.059999   \n\n        number_of_owner_occupied_units  number_of_1_to_4_family_units  \\\n0                               2175.0                         2660.0   \n1                               1268.0                         1777.0   \n2                               1136.0                         1838.0   \n3                               1525.0                         1820.0   \n4                               1705.0                         2104.0   \n...                                ...                            ...   \n466553                          1763.0                         2280.0   \n466554                          1561.0                         1870.0   \n466555                          1594.0                         1742.0   \n466556                          1055.0                         1278.0   \n466557                          1804.0                         2261.0   \n\n        loan_amount_000s  hud_median_family_income  applicant_income_000s  \\\n0                    227                   73300.0                  116.0   \n1                    240                   57900.0                   42.0   \n2                    241                   73300.0                  117.0   \n3                    351                   73300.0                  315.0   \n4                    417                   78100.0                  114.0   \n...                  ...                       ...                    ...   \n466553               225                   69900.0                   54.0   \n466554               100                   69900.0                   21.0   \n466555               196                   90300.0                    0.0   \n466556               169                   73600.0                    0.0   \n466557                76                   90300.0                    0.0   \n\n        census_tract_number  ...  loan_purpose_name_Home purchase  \\\n0                    413.27  ...                                0   \n1                   9208.01  ...                                1   \n2                    414.00  ...                                0   \n3                    405.10  ...                                0   \n4                    907.00  ...                                0   \n...                     ...  ...                              ...   \n466553               103.01  ...                                1   \n466554                 8.05  ...                                1   \n466555               219.05  ...                                0   \n466556               125.10  ...                                1   \n466557               527.05  ...                                1   \n\n        loan_purpose_name_Refinancing  applicant_race_name_5_Asian  \\\n0                                   1                            0   \n1                                   0                            0   \n2                                   1                            0   \n3                                   1                            0   \n4                                   0                            0   \n...                               ...                          ...   \n466553                              0                            0   \n466554                              0                            0   \n466555                              1                            0   \n466556                              0                            0   \n466557                              0                            0   \n\n        applicant_race_name_5_Black or African American  \\\n0                                                     0   \n1                                                     0   \n2                                                     0   \n3                                                     0   \n4                                                     0   \n...                                                 ...   \n466553                                                0   \n466554                                                0   \n466555                                                0   \n466556                                                0   \n466557                                                0   \n\n        applicant_race_name_5_White  \\\n0                                 0   \n1                                 0   \n2                                 0   \n3                                 0   \n4                                 0   \n...                             ...   \n466553                            0   \n466554                            0   \n466555                            0   \n466556                            0   \n466557                            0   \n\n        preapproval_name_Preapproval was not requested  \\\n0                                                    0   \n1                                                    0   \n2                                                    0   \n3                                                    0   \n4                                                    0   \n...                                                ...   \n466553                                               0   \n466554                                               0   \n466555                                               0   \n466556                                               0   \n466557                                               0   \n\n        preapproval_name_Preapproval was requested  \\\n0                                                0   \n1                                                0   \n2                                                0   \n3                                                0   \n4                                                0   \n...                                            ...   \n466553                                           0   \n466554                                           0   \n466555                                           0   \n466556                                           0   \n466557                                           0   \n\n        applicant_sex_name_Information not provided by applicant in mail, Internet, or telephone application  \\\n0                                                       0                                                      \n1                                                       0                                                      \n2                                                       0                                                      \n3                                                       0                                                      \n4                                                       0                                                      \n...                                                   ...                                                      \n466553                                                  0                                                      \n466554                                                  0                                                      \n466555                                                  0                                                      \n466556                                                  0                                                      \n466557                                                  0                                                      \n\n        applicant_sex_name_Male  applicant_sex_name_Not applicable  \n0                             0                                  0  \n1                             1                                  0  \n2                             1                                  0  \n3                             1                                  0  \n4                             0                                  0  \n...                         ...                                ...  \n466553                        1                                  0  \n466554                        0                                  0  \n466555                        0                                  1  \n466556                        0                                  1  \n466557                        0                                  1  \n\n[394421 rows x 147 columns]",
      "text/html": "<div>\n<style scoped>\n    .dataframe tbody tr th:only-of-type {\n        vertical-align: middle;\n    }\n\n    .dataframe tbody tr th {\n        vertical-align: top;\n    }\n\n    .dataframe thead th {\n        text-align: right;\n    }\n</style>\n<table border=\"1\" class=\"dataframe\">\n  <thead>\n    <tr style=\"text-align: right;\">\n      <th></th>\n      <th>tract_to_msamd_income</th>\n      <th>rate_spread</th>\n      <th>population</th>\n      <th>minority_population</th>\n      <th>number_of_owner_occupied_units</th>\n      <th>number_of_1_to_4_family_units</th>\n      <th>loan_amount_000s</th>\n      <th>hud_median_family_income</th>\n      <th>applicant_income_000s</th>\n      <th>census_tract_number</th>\n      <th>...</th>\n      <th>loan_purpose_name_Home purchase</th>\n      <th>loan_purpose_name_Refinancing</th>\n      <th>applicant_race_name_5_Asian</th>\n      <th>applicant_race_name_5_Black or African American</th>\n      <th>applicant_race_name_5_White</th>\n      <th>preapproval_name_Preapproval was not requested</th>\n      <th>preapproval_name_Preapproval was requested</th>\n      <th>applicant_sex_name_Information not provided by applicant in mail, Internet, or telephone application</th>\n      <th>applicant_sex_name_Male</th>\n      <th>applicant_sex_name_Not applicable</th>\n    </tr>\n  </thead>\n  <tbody>\n    <tr>\n      <th>0</th>\n      <td>121.690002</td>\n      <td>0.0</td>\n      <td>8381.0</td>\n      <td>23.790001</td>\n      <td>2175.0</td>\n      <td>2660.0</td>\n      <td>227</td>\n      <td>73300.0</td>\n      <td>116.0</td>\n      <td>413.27</td>\n      <td>...</td>\n      <td>0</td>\n      <td>1</td>\n      <td>0</td>\n      <td>0</td>\n      <td>0</td>\n      <td>0</td>\n      <td>0</td>\n      <td>0</td>\n      <td>0</td>\n      <td>0</td>\n    </tr>\n    <tr>\n      <th>1</th>\n      <td>83.370003</td>\n      <td>0.0</td>\n      <td>4915.0</td>\n      <td>23.990000</td>\n      <td>1268.0</td>\n      <td>1777.0</td>\n      <td>240</td>\n      <td>57900.0</td>\n      <td>42.0</td>\n      <td>9208.01</td>\n      <td>...</td>\n      <td>1</td>\n      <td>0</td>\n      <td>0</td>\n      <td>0</td>\n      <td>0</td>\n      <td>0</td>\n      <td>0</td>\n      <td>0</td>\n      <td>1</td>\n      <td>0</td>\n    </tr>\n    <tr>\n      <th>2</th>\n      <td>91.129997</td>\n      <td>0.0</td>\n      <td>5075.0</td>\n      <td>11.820000</td>\n      <td>1136.0</td>\n      <td>1838.0</td>\n      <td>241</td>\n      <td>73300.0</td>\n      <td>117.0</td>\n      <td>414.00</td>\n      <td>...</td>\n      <td>0</td>\n      <td>1</td>\n      <td>0</td>\n      <td>0</td>\n      <td>0</td>\n      <td>0</td>\n      <td>0</td>\n      <td>0</td>\n      <td>1</td>\n      <td>0</td>\n    </tr>\n    <tr>\n      <th>3</th>\n      <td>146.169998</td>\n      <td>0.0</td>\n      <td>5032.0</td>\n      <td>8.590000</td>\n      <td>1525.0</td>\n      <td>1820.0</td>\n      <td>351</td>\n      <td>73300.0</td>\n      <td>315.0</td>\n      <td>405.10</td>\n      <td>...</td>\n      <td>0</td>\n      <td>1</td>\n      <td>0</td>\n      <td>0</td>\n      <td>0</td>\n      <td>0</td>\n      <td>0</td>\n      <td>0</td>\n      <td>1</td>\n      <td>0</td>\n    </tr>\n    <tr>\n      <th>4</th>\n      <td>162.470001</td>\n      <td>0.0</td>\n      <td>5183.0</td>\n      <td>10.500000</td>\n      <td>1705.0</td>\n      <td>2104.0</td>\n      <td>417</td>\n      <td>78100.0</td>\n      <td>114.0</td>\n      <td>907.00</td>\n      <td>...</td>\n      <td>0</td>\n      <td>0</td>\n      <td>0</td>\n      <td>0</td>\n      <td>0</td>\n      <td>0</td>\n      <td>0</td>\n      <td>0</td>\n      <td>0</td>\n      <td>0</td>\n    </tr>\n    <tr>\n      <th>...</th>\n      <td>...</td>\n      <td>...</td>\n      <td>...</td>\n      <td>...</td>\n      <td>...</td>\n      <td>...</td>\n      <td>...</td>\n      <td>...</td>\n      <td>...</td>\n      <td>...</td>\n      <td>...</td>\n      <td>...</td>\n      <td>...</td>\n      <td>...</td>\n      <td>...</td>\n      <td>...</td>\n      <td>...</td>\n      <td>...</td>\n      <td>...</td>\n      <td>...</td>\n      <td>...</td>\n    </tr>\n    <tr>\n      <th>466553</th>\n      <td>91.070000</td>\n      <td>0.0</td>\n      <td>6792.0</td>\n      <td>16.889999</td>\n      <td>1763.0</td>\n      <td>2280.0</td>\n      <td>225</td>\n      <td>69900.0</td>\n      <td>54.0</td>\n      <td>103.01</td>\n      <td>...</td>\n      <td>1</td>\n      <td>0</td>\n      <td>0</td>\n      <td>0</td>\n      <td>0</td>\n      <td>0</td>\n      <td>0</td>\n      <td>0</td>\n      <td>1</td>\n      <td>0</td>\n    </tr>\n    <tr>\n      <th>466554</th>\n      <td>128.800003</td>\n      <td>0.0</td>\n      <td>4966.0</td>\n      <td>11.500000</td>\n      <td>1561.0</td>\n      <td>1870.0</td>\n      <td>100</td>\n      <td>69900.0</td>\n      <td>21.0</td>\n      <td>8.05</td>\n      <td>...</td>\n      <td>1</td>\n      <td>0</td>\n      <td>0</td>\n      <td>0</td>\n      <td>0</td>\n      <td>0</td>\n      <td>0</td>\n      <td>0</td>\n      <td>0</td>\n      <td>0</td>\n    </tr>\n    <tr>\n      <th>466555</th>\n      <td>99.669998</td>\n      <td>0.0</td>\n      <td>4950.0</td>\n      <td>29.639999</td>\n      <td>1594.0</td>\n      <td>1742.0</td>\n      <td>196</td>\n      <td>90300.0</td>\n      <td>0.0</td>\n      <td>219.05</td>\n      <td>...</td>\n      <td>0</td>\n      <td>1</td>\n      <td>0</td>\n      <td>0</td>\n      <td>0</td>\n      <td>0</td>\n      <td>0</td>\n      <td>0</td>\n      <td>0</td>\n      <td>1</td>\n    </tr>\n    <tr>\n      <th>466556</th>\n      <td>88.889999</td>\n      <td>0.0</td>\n      <td>3233.0</td>\n      <td>16.610001</td>\n      <td>1055.0</td>\n      <td>1278.0</td>\n      <td>169</td>\n      <td>73600.0</td>\n      <td>0.0</td>\n      <td>125.10</td>\n      <td>...</td>\n      <td>1</td>\n      <td>0</td>\n      <td>0</td>\n      <td>0</td>\n      <td>0</td>\n      <td>0</td>\n      <td>0</td>\n      <td>0</td>\n      <td>0</td>\n      <td>1</td>\n    </tr>\n    <tr>\n      <th>466557</th>\n      <td>110.230003</td>\n      <td>0.0</td>\n      <td>7206.0</td>\n      <td>22.059999</td>\n      <td>1804.0</td>\n      <td>2261.0</td>\n      <td>76</td>\n      <td>90300.0</td>\n      <td>0.0</td>\n      <td>527.05</td>\n      <td>...</td>\n      <td>1</td>\n      <td>0</td>\n      <td>0</td>\n      <td>0</td>\n      <td>0</td>\n      <td>0</td>\n      <td>0</td>\n      <td>0</td>\n      <td>0</td>\n      <td>1</td>\n    </tr>\n  </tbody>\n</table>\n<p>394421 rows × 147 columns</p>\n</div>"
     },
     "metadata": {}
    }
   ],
   "execution_count": 19
  },
  {
   "cell_type": "code",
   "source": "X = data_clean.drop('loan_approved', axis=1).values\ny = data_clean['loan_approved'].values\nprint(X.shape)\nprint(y.shape)\n",
   "metadata": {
    "cell_id": "eb0051ad403145c78af67161b24477fe",
    "tags": [],
    "deepnote_to_be_reexecuted": false,
    "source_hash": "78bd17d6",
    "execution_start": 1664645908493,
    "execution_millis": 168,
    "deepnote_cell_type": "code",
    "deepnote_cell_height": 199
   },
   "outputs": [
    {
     "name": "stdout",
     "text": "(394421, 146)\n(394421,)\n",
     "output_type": "stream"
    }
   ],
   "execution_count": 20
  },
  {
   "cell_type": "code",
   "source": "X_train, X_test, y_train, y_test = train_test_split(X, y, test_size=0.31)",
   "metadata": {
    "cell_id": "39dfa19bf31949ddac5a7590a334937c",
    "tags": [],
    "deepnote_to_be_reexecuted": false,
    "source_hash": "ab65b08a",
    "execution_start": 1664645910992,
    "execution_millis": 405,
    "deepnote_cell_type": "code",
    "deepnote_cell_height": 76
   },
   "outputs": [],
   "execution_count": 21
  },
  {
   "cell_type": "code",
   "source": "model = LogisticRegression(max_iter=1000)\nmodel.fit(X_train, y_train)\nmodel.score(X_test, y_test)",
   "metadata": {
    "cell_id": "19b47b76e2104493b596b681226e5e62",
    "tags": [],
    "deepnote_to_be_reexecuted": false,
    "source_hash": "45507fcb",
    "execution_start": 1664645912983,
    "execution_millis": 287029,
    "deepnote_cell_type": "code",
    "deepnote_cell_height": 338,
    "deepnote_output_heights": [
     null,
     20
    ]
   },
   "outputs": [
    {
     "name": "stderr",
     "text": "/shared-libs/python3.9/py/lib/python3.9/site-packages/sklearn/linear_model/_logistic.py:444: ConvergenceWarning: lbfgs failed to converge (status=1):\nSTOP: TOTAL NO. of ITERATIONS REACHED LIMIT.\n\nIncrease the number of iterations (max_iter) or scale the data as shown in:\n    https://scikit-learn.org/stable/modules/preprocessing.html\nPlease also refer to the documentation for alternative solver options:\n    https://scikit-learn.org/stable/modules/linear_model.html#logistic-regression\n  n_iter_i = _check_optimize_result(\n",
     "output_type": "stream"
    },
    {
     "output_type": "execute_result",
     "execution_count": 22,
     "data": {
      "text/plain": "0.7775515044450442"
     },
     "metadata": {}
    }
   ],
   "execution_count": null
  },
  {
   "cell_type": "code",
   "source": "model = Sequential()\nmodel.add(Dense(100, activation='relu', input_dim=X_train.shape[1]))\nmodel.add(Dense(1, activation='sigmoid', input_dim=100))\nmodel.compile(optimizer='Adam', loss='binary_crossentropy', metrics=[BinaryAccuracy()])\nhistory = model.fit(X_test, y_test, epochs=10, validation_data=(X_test, y_test))",
   "metadata": {
    "cell_id": "cc68cdcd07b3455da92691ad78d34a93",
    "tags": [],
    "deepnote_to_be_reexecuted": false,
    "source_hash": "a59ad863",
    "execution_start": 1664647902313,
    "execution_millis": 28977,
    "deepnote_cell_type": "code",
    "deepnote_cell_height": 283
   },
   "outputs": [
    {
     "name": "stdout",
     "text": "Epoch 1/3\n3821/3821 [==============================] - 10s 3ms/step - loss: 36.9344 - binary_accuracy: 0.6019 - val_loss: 7.2782 - val_binary_accuracy: 0.5504\nEpoch 2/3\n3821/3821 [==============================] - 9s 2ms/step - loss: 17.7051 - binary_accuracy: 0.6375 - val_loss: 22.5275 - val_binary_accuracy: 0.7173\nEpoch 3/3\n3821/3821 [==============================] - 9s 2ms/step - loss: 13.2104 - binary_accuracy: 0.6634 - val_loss: 23.9030 - val_binary_accuracy: 0.7284\n",
     "output_type": "stream"
    }
   ],
   "execution_count": 44
  },
  {
   "cell_type": "code",
   "source": "print(history.params)\nplt.plot(history.history['binary_accuracy'])\nplt.show()\nplt.plot(history.history['loss'])\nplt.show()",
   "metadata": {
    "cell_id": "2ceef4a0e3dd480f9d43c92cc47af099",
    "tags": [],
    "deepnote_to_be_reexecuted": false,
    "source_hash": "8a221a2d",
    "execution_start": 1664647953615,
    "execution_millis": 378,
    "deepnote_cell_type": "code",
    "deepnote_cell_height": 1069,
    "deepnote_output_heights": [
     null,
     414,
     414
    ]
   },
   "outputs": [
    {
     "name": "stdout",
     "text": "{'verbose': 1, 'epochs': 3, 'steps': 3821}\n",
     "output_type": "stream"
    },
    {
     "data": {
      "text/plain": "<Figure size 640x480 with 1 Axes>",
      "image/png": "[encoded data removed]"
     },
     "metadata": {
      "image/png": {
       "width": 556,
       "height": 413
      }
     },
     "output_type": "display_data"
    },
    {
     "data": {
      "text/plain": "<Figure size 640x480 with 1 Axes>",
      "image/png": "[encoded data removed]"
     },
     "metadata": {
      "image/png": {
       "width": 543,
       "height": 413
      }
     },
     "output_type": "display_data"
    }
   ],
   "execution_count": 45
  },
  {
   "cell_type": "markdown",
   "source": "<a style='text-decoration:none;line-height:16px;display:flex;color:#5B5B62;padding:10px;justify-content:end;' href='https://deepnote.com?utm_source=created-in-deepnote-cell&projectId=03c1f381-4bef-44c8-9167-00386ebceba9' target=\"_blank\">\n<img alt='Created in deepnote.com' style='display:inline;max-height:16px;margin:0px;margin-right:7.5px;' src='data:image/svg+xml;base64,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' > </img>\nCreated in <span style='font-weight:600;margin-left:4px;'>Deepnote</span></a>",
   "metadata": {
    "tags": [],
    "created_in_deepnote_cell": true,
    "deepnote_cell_type": "markdown"
   }
  }
 ],
 "nbformat": 4,
 "nbformat_minor": 2,
 "metadata": {
  "orig_nbformat": 2,
  "deepnote": {},
  "deepnote_notebook_id": "f3e7fc64-4233-42a4-bcf1-219af1625d05",
  "deepnote_execution_queue": []
 }
}