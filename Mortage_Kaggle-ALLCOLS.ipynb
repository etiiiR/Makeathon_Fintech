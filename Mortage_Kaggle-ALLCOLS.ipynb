{
 "cells": [
  {
   "cell_type": "code",
   "metadata": {
    "tags": [],
    "deepnote_to_be_reexecuted": false,
    "source_hash": "913d8b85",
    "execution_start": 1664713944826,
    "execution_millis": 9564,
    "cell_id": "11b7728a-f2da-44e1-b9bd-51831e33fa4d",
    "deepnote_cell_type": "code",
    "deepnote_cell_height": 829
   },
   "source": "!pip install imblearn\nimport numpy as np\nimport pandas as pd\nimport seaborn as sns\nimport matplotlib.pyplot as plt\n\nfrom sklearn.linear_model import LogisticRegression\nfrom sklearn.svm import SVC\nfrom sklearn.model_selection import train_test_split\nfrom sklearn.preprocessing import MinMaxScaler\nfrom sklearn.metrics import roc_curve\n\nfrom keras.models import Sequential\nfrom keras.layers import Dense\nfrom keras.metrics import BinaryAccuracy, AUC\nfrom keras.regularizers import l1_l2\n\nfrom tensorflow.keras.callbacks import EarlyStopping\n\n#from tensorflow_decision_forests.keras import RandomForestModel\n\nfrom imblearn.over_sampling import RandomOverSampler",
   "execution_count": 1,
   "outputs": [
    {
     "name": "stdout",
     "text": "Requirement already satisfied: imblearn in /root/venv/lib/python3.9/site-packages (0.0)\nRequirement already satisfied: imbalanced-learn in /root/venv/lib/python3.9/site-packages (from imblearn) (0.9.1)\nRequirement already satisfied: scipy>=1.3.2 in /shared-libs/python3.9/py/lib/python3.9/site-packages (from imbalanced-learn->imblearn) (1.9.1)\nRequirement already satisfied: numpy>=1.17.3 in /shared-libs/python3.9/py/lib/python3.9/site-packages (from imbalanced-learn->imblearn) (1.23.3)\nRequirement already satisfied: joblib>=1.0.0 in /shared-libs/python3.9/py/lib/python3.9/site-packages (from imbalanced-learn->imblearn) (1.1.0)\nRequirement already satisfied: threadpoolctl>=2.0.0 in /shared-libs/python3.9/py/lib/python3.9/site-packages (from imbalanced-learn->imblearn) (3.1.0)\nRequirement already satisfied: scikit-learn>=1.1.0 in /shared-libs/python3.9/py/lib/python3.9/site-packages (from imbalanced-learn->imblearn) (1.1.2)\n\u001b[33mWARNING: You are using pip version 22.0.4; however, version 22.2.2 is available.\nYou should consider upgrading via the '/root/venv/bin/python -m pip install --upgrade pip' command.\u001b[0m\u001b[33m\n\u001b[0m2022-10-02 12:32:28.806571: I tensorflow/core/platform/cpu_feature_guard.cc:193] This TensorFlow binary is optimized with oneAPI Deep Neural Network Library (oneDNN) to use the following CPU instructions in performance-critical operations:  AVX2 AVX512F AVX512_VNNI FMA\nTo enable them in other operations, rebuild TensorFlow with the appropriate compiler flags.\n2022-10-02 12:32:28.926439: I tensorflow/core/util/util.cc:169] oneDNN custom operations are on. You may see slightly different numerical results due to floating-point round-off errors from different computation orders. To turn them off, set the environment variable `TF_ENABLE_ONEDNN_OPTS=0`.\n2022-10-02 12:32:28.931308: W tensorflow/stream_executor/platform/default/dso_loader.cc:64] Could not load dynamic library 'libcudart.so.11.0'; dlerror: libcudart.so.11.0: cannot open shared object file: No such file or directory\n2022-10-02 12:32:28.931328: I tensorflow/stream_executor/cuda/cudart_stub.cc:29] Ignore above cudart dlerror if you do not have a GPU set up on your machine.\n2022-10-02 12:32:28.955638: E tensorflow/stream_executor/cuda/cuda_blas.cc:2981] Unable to register cuBLAS factory: Attempting to register factory for plugin cuBLAS when one has already been registered\n2022-10-02 12:32:30.788295: W tensorflow/stream_executor/platform/default/dso_loader.cc:64] Could not load dynamic library 'libnvinfer.so.7'; dlerror: libnvinfer.so.7: cannot open shared object file: No such file or directory\n2022-10-02 12:32:30.788373: W tensorflow/stream_executor/platform/default/dso_loader.cc:64] Could not load dynamic library 'libnvinfer_plugin.so.7'; dlerror: libnvinfer_plugin.so.7: cannot open shared object file: No such file or directory\n2022-10-02 12:32:30.788379: W tensorflow/compiler/tf2tensorrt/utils/py_utils.cc:38] TF-TRT Warning: Cannot dlopen some TensorRT libraries. If you would like to use Nvidia GPU with TensorRT, please make sure the missing libraries mentioned above are installed properly.\n",
     "output_type": "stream"
    }
   ]
  },
  {
   "cell_type": "code",
   "metadata": {
    "tags": [],
    "deepnote_to_be_reexecuted": false,
    "source_hash": "d755737e",
    "execution_start": 1664713954433,
    "execution_millis": 3254,
    "cell_id": "00001-1e2d0fc4-b069-4e30-a6dc-9659964544d0",
    "deepnote_cell_type": "code",
    "deepnote_cell_height": 136
   },
   "source": "data = pd.read_csv('Washington_State_HDMA-2016.csv') # description: https://cfpb.github.io/hmda-platform/#data-browser-api",
   "execution_count": 2,
   "outputs": [
    {
     "name": "stderr",
     "text": "/shared-libs/python3.9/py-core/lib/python3.9/site-packages/IPython/core/interactiveshell.py:3139: DtypeWarning: Columns (23,24,25,28,29,30,38,39,40) have mixed types.Specify dtype option on import or set low_memory=False.\n  has_raised = await self.run_ast_nodes(code_ast.body, cell_name,\n",
     "output_type": "stream"
    }
   ]
  },
  {
   "cell_type": "code",
   "metadata": {
    "tags": [],
    "deepnote_to_be_reexecuted": false,
    "source_hash": "e6928a8f",
    "execution_start": 1664713957019,
    "execution_millis": 673,
    "cell_id": "00002-ca2edfd9-0183-4279-863b-75656f2d9955",
    "deepnote_cell_type": "code",
    "deepnote_cell_height": 595
   },
   "source": "data",
   "execution_count": 3,
   "outputs": [
    {
     "output_type": "execute_result",
     "execution_count": 3,
     "data": {
      "application/vnd.deepnote.dataframe.v3+json": {
       "column_count": 47,
       "row_count": 466566,
       "columns": [
        {
         "name": "tract_to_msamd_income",
         "dtype": "float64"
        },
        {
         "name": "rate_spread",
         "dtype": "float64"
        },
        {
         "name": "population",
         "dtype": "float64"
        },
        {
         "name": "minority_population",
         "dtype": "float64"
        },
        {
         "name": "number_of_owner_occupied_units",
         "dtype": "float64"
        },
        {
         "name": "number_of_1_to_4_family_units",
         "dtype": "float64"
        },
        {
         "name": "loan_amount_000s",
         "dtype": "int64"
        },
        {
         "name": "hud_median_family_income",
         "dtype": "float64"
        },
        {
         "name": "applicant_income_000s",
         "dtype": "float64"
        },
        {
         "name": "state_name",
         "dtype": "object"
        },
        {
         "name": "state_abbr",
         "dtype": "object"
        },
        {
         "name": "sequence_number",
         "dtype": "int64"
        },
        {
         "name": "respondent_id",
         "dtype": "object"
        },
        {
         "name": "purchaser_type_name",
         "dtype": "object"
        },
        {
         "name": "property_type_name",
         "dtype": "object"
        },
        {
         "name": "preapproval_name",
         "dtype": "object"
        },
        {
         "name": "owner_occupancy_name",
         "dtype": "object"
        },
        {
         "name": "msamd_name",
         "dtype": "object"
        },
        {
         "name": "loan_type_name",
         "dtype": "object"
        },
        {
         "name": "loan_purpose_name",
         "dtype": "object"
        },
        {
         "name": "lien_status_name",
         "dtype": "object"
        },
        {
         "name": "hoepa_status_name",
         "dtype": "object"
        },
        {
         "name": "edit_status_name",
         "dtype": "object"
        },
        {
         "name": "denial_reason_name_3",
         "dtype": "object"
        },
        {
         "name": "denial_reason_name_2",
         "dtype": "object"
        },
        {
         "name": "denial_reason_name_1",
         "dtype": "object"
        },
        {
         "name": "county_name",
         "dtype": "object"
        },
        {
         "name": "co_applicant_sex_name",
         "dtype": "object"
        },
        {
         "name": "co_applicant_race_name_5",
         "dtype": "object"
        },
        {
         "name": "co_applicant_race_name_4",
         "dtype": "object"
        },
        {
         "name": "co_applicant_race_name_3",
         "dtype": "object"
        },
        {
         "name": "co_applicant_race_name_2",
         "dtype": "object"
        },
        {
         "name": "co_applicant_race_name_1",
         "dtype": "object"
        },
        {
         "name": "co_applicant_ethnicity_name",
         "dtype": "object"
        },
        {
         "name": "census_tract_number",
         "dtype": "float64"
        },
        {
         "name": "as_of_year",
         "dtype": "int64"
        },
        {
         "name": "application_date_indicator",
         "dtype": "int64"
        },
        {
         "name": "applicant_sex_name",
         "dtype": "object"
        },
        {
         "name": "applicant_race_name_5",
         "dtype": "object"
        },
        {
         "name": "applicant_race_name_4",
         "dtype": "object"
        },
        {
         "name": "applicant_race_name_3",
         "dtype": "object"
        },
        {
         "name": "applicant_race_name_2",
         "dtype": "object"
        },
        {
         "name": "applicant_race_name_1",
         "dtype": "object"
        },
        {
         "name": "applicant_ethnicity_name",
         "dtype": "object"
        },
        {
         "name": "agency_name",
         "dtype": "object"
        },
        {
         "name": "agency_abbr",
         "dtype": "object"
        },
        {
         "name": "action_taken_name",
         "dtype": "object"
        },
        {
         "name": "_deepnote_index_column",
         "dtype": "int64"
        }
       ],
       "rows": [
        {
         "tract_to_msamd_income": "121.6900024",
         "rate_spread": "nan",
         "population": "8381.0",
         "minority_population": "23.79000092",
         "number_of_owner_occupied_units": "2175.0",
         "number_of_1_to_4_family_units": "2660.0",
         "loan_amount_000s": "227",
         "hud_median_family_income": "73300.0",
         "applicant_income_000s": "116.0",
         "state_name": "Washington",
         "state_abbr": "WA",
         "sequence_number": "119969",
         "respondent_id": "480228",
         "purchaser_type_name": "Freddie Mac (FHLMC)",
         "property_type_name": "One-to-four family dwelling (other than manufactured housing)",
         "preapproval_name": "Not applicable",
         "owner_occupancy_name": "Owner-occupied as a principal dwelling",
         "msamd_name": "Portland, Vancouver, Hillsboro - OR, WA",
         "loan_type_name": "Conventional",
         "loan_purpose_name": "Refinancing",
         "lien_status_name": "Secured by a first lien",
         "hoepa_status_name": "Not a HOEPA loan",
         "edit_status_name": "nan",
         "denial_reason_name_3": "nan",
         "denial_reason_name_2": "nan",
         "denial_reason_name_1": "nan",
         "county_name": "Clark County",
         "co_applicant_sex_name": "Male",
         "co_applicant_race_name_5": "nan",
         "co_applicant_race_name_4": "nan",
         "co_applicant_race_name_3": "nan",
         "co_applicant_race_name_2": "nan",
         "co_applicant_race_name_1": "Information not provided by applicant in mail, Internet, or telephone application",
         "co_applicant_ethnicity_name": "Not Hispanic or Latino",
         "census_tract_number": "413.27",
         "as_of_year": "2016",
         "application_date_indicator": "0",
         "applicant_sex_name": "Female",
         "applicant_race_name_5": "nan",
         "applicant_race_name_4": "nan",
         "applicant_race_name_3": "nan",
         "applicant_race_name_2": "nan",
         "applicant_race_name_1": "Information not provided by applicant in mail, Internet, or telephone application",
         "applicant_ethnicity_name": "Not Hispanic or Latino",
         "agency_name": "Consumer Financial Protection Bureau",
         "agency_abbr": "CFPB",
         "action_taken_name": "Loan originated",
         "_deepnote_index_column": "0"
        },
        {
         "tract_to_msamd_income": "83.37000275",
         "rate_spread": "nan",
         "population": "4915.0",
         "minority_population": "23.98999977",
         "number_of_owner_occupied_units": "1268.0",
         "number_of_1_to_4_family_units": "1777.0",
         "loan_amount_000s": "240",
         "hud_median_family_income": "57900.0",
         "applicant_income_000s": "42.0",
         "state_name": "Washington",
         "state_abbr": "WA",
         "sequence_number": "52605",
         "respondent_id": "7257500009",
         "purchaser_type_name": "Life insurance company, credit union, mortgage bank, or finance company",
         "property_type_name": "One-to-four family dwelling (other than manufactured housing)",
         "preapproval_name": "Not applicable",
         "owner_occupancy_name": "Owner-occupied as a principal dwelling",
         "msamd_name": "Walla Walla - WA",
         "loan_type_name": "FHA-insured",
         "loan_purpose_name": "Home purchase",
         "lien_status_name": "Secured by a first lien",
         "hoepa_status_name": "Not a HOEPA loan",
         "edit_status_name": "nan",
         "denial_reason_name_3": "nan",
         "denial_reason_name_2": "nan",
         "denial_reason_name_1": "nan",
         "county_name": "Walla Walla County",
         "co_applicant_sex_name": "No co-applicant",
         "co_applicant_race_name_5": "nan",
         "co_applicant_race_name_4": "nan",
         "co_applicant_race_name_3": "nan",
         "co_applicant_race_name_2": "nan",
         "co_applicant_race_name_1": "No co-applicant",
         "co_applicant_ethnicity_name": "No co-applicant",
         "census_tract_number": "9208.01",
         "as_of_year": "2016",
         "application_date_indicator": "0",
         "applicant_sex_name": "Male",
         "applicant_race_name_5": "nan",
         "applicant_race_name_4": "nan",
         "applicant_race_name_3": "nan",
         "applicant_race_name_2": "nan",
         "applicant_race_name_1": "White",
         "applicant_ethnicity_name": "Hispanic or Latino",
         "agency_name": "Department of Housing and Urban Development",
         "agency_abbr": "HUD",
         "action_taken_name": "Loan originated",
         "_deepnote_index_column": "1"
        },
        {
         "tract_to_msamd_income": "91.12999725",
         "rate_spread": "nan",
         "population": "5075.0",
         "minority_population": "11.81999969",
         "number_of_owner_occupied_units": "1136.0",
         "number_of_1_to_4_family_units": "1838.0",
         "loan_amount_000s": "241",
         "hud_median_family_income": "73300.0",
         "applicant_income_000s": "117.0",
         "state_name": "Washington",
         "state_abbr": "WA",
         "sequence_number": "6210",
         "respondent_id": "72-1545376",
         "purchaser_type_name": "Loan was not originated or was not sold in calendar year covered by register",
         "property_type_name": "One-to-four family dwelling (other than manufactured housing)",
         "preapproval_name": "Not applicable",
         "owner_occupancy_name": "Owner-occupied as a principal dwelling",
         "msamd_name": "Portland, Vancouver, Hillsboro - OR, WA",
         "loan_type_name": "Conventional",
         "loan_purpose_name": "Refinancing",
         "lien_status_name": "Secured by a first lien",
         "hoepa_status_name": "Not a HOEPA loan",
         "edit_status_name": "nan",
         "denial_reason_name_3": "nan",
         "denial_reason_name_2": "nan",
         "denial_reason_name_1": "nan",
         "county_name": "Clark County",
         "co_applicant_sex_name": "Female",
         "co_applicant_race_name_5": "nan",
         "co_applicant_race_name_4": "nan",
         "co_applicant_race_name_3": "nan",
         "co_applicant_race_name_2": "nan",
         "co_applicant_race_name_1": "White",
         "co_applicant_ethnicity_name": "Not Hispanic or Latino",
         "census_tract_number": "414.0",
         "as_of_year": "2016",
         "application_date_indicator": "0",
         "applicant_sex_name": "Male",
         "applicant_race_name_5": "nan",
         "applicant_race_name_4": "nan",
         "applicant_race_name_3": "nan",
         "applicant_race_name_2": "nan",
         "applicant_race_name_1": "White",
         "applicant_ethnicity_name": "Not Hispanic or Latino",
         "agency_name": "Department of Housing and Urban Development",
         "agency_abbr": "HUD",
         "action_taken_name": "Loan originated",
         "_deepnote_index_column": "2"
        },
        {
         "tract_to_msamd_income": "146.1699982",
         "rate_spread": "nan",
         "population": "5032.0",
         "minority_population": "8.590000153",
         "number_of_owner_occupied_units": "1525.0",
         "number_of_1_to_4_family_units": "1820.0",
         "loan_amount_000s": "351",
         "hud_median_family_income": "73300.0",
         "applicant_income_000s": "315.0",
         "state_name": "Washington",
         "state_abbr": "WA",
         "sequence_number": "197",
         "respondent_id": "4878",
         "purchaser_type_name": "Loan was not originated or was not sold in calendar year covered by register",
         "property_type_name": "One-to-four family dwelling (other than manufactured housing)",
         "preapproval_name": "Not applicable",
         "owner_occupancy_name": "Owner-occupied as a principal dwelling",
         "msamd_name": "Portland, Vancouver, Hillsboro - OR, WA",
         "loan_type_name": "Conventional",
         "loan_purpose_name": "Refinancing",
         "lien_status_name": "Secured by a first lien",
         "hoepa_status_name": "Not a HOEPA loan",
         "edit_status_name": "nan",
         "denial_reason_name_3": "nan",
         "denial_reason_name_2": "nan",
         "denial_reason_name_1": "nan",
         "county_name": "Clark County",
         "co_applicant_sex_name": "Female",
         "co_applicant_race_name_5": "nan",
         "co_applicant_race_name_4": "nan",
         "co_applicant_race_name_3": "nan",
         "co_applicant_race_name_2": "nan",
         "co_applicant_race_name_1": "Information not provided by applicant in mail, Internet, or telephone application",
         "co_applicant_ethnicity_name": "Information not provided by applicant in mail, Internet, or telephone application",
         "census_tract_number": "405.1",
         "as_of_year": "2016",
         "application_date_indicator": "0",
         "applicant_sex_name": "Male",
         "applicant_race_name_5": "nan",
         "applicant_race_name_4": "nan",
         "applicant_race_name_3": "nan",
         "applicant_race_name_2": "nan",
         "applicant_race_name_1": "Information not provided by applicant in mail, Internet, or telephone application",
         "applicant_ethnicity_name": "Information not provided by applicant in mail, Internet, or telephone application",
         "agency_name": "National Credit Union Administration",
         "agency_abbr": "NCUA",
         "action_taken_name": "Loan originated",
         "_deepnote_index_column": "3"
        },
        {
         "tract_to_msamd_income": "162.4700012",
         "rate_spread": "nan",
         "population": "5183.0",
         "minority_population": "10.5",
         "number_of_owner_occupied_units": "1705.0",
         "number_of_1_to_4_family_units": "2104.0",
         "loan_amount_000s": "417",
         "hud_median_family_income": "78100.0",
         "applicant_income_000s": "114.0",
         "state_name": "Washington",
         "state_abbr": "WA",
         "sequence_number": "32582",
         "respondent_id": "32489",
         "purchaser_type_name": "Freddie Mac (FHLMC)",
         "property_type_name": "One-to-four family dwelling (other than manufactured housing)",
         "preapproval_name": "Not applicable",
         "owner_occupancy_name": "Owner-occupied as a principal dwelling",
         "msamd_name": "Bremerton, Silverdale - WA",
         "loan_type_name": "Conventional",
         "loan_purpose_name": "Home improvement",
         "lien_status_name": "Secured by a first lien",
         "hoepa_status_name": "Not a HOEPA loan",
         "edit_status_name": "nan",
         "denial_reason_name_3": "nan",
         "denial_reason_name_2": "nan",
         "denial_reason_name_1": "nan",
         "county_name": "Kitsap County",
         "co_applicant_sex_name": "Male",
         "co_applicant_race_name_5": "nan",
         "co_applicant_race_name_4": "nan",
         "co_applicant_race_name_3": "nan",
         "co_applicant_race_name_2": "nan",
         "co_applicant_race_name_1": "White",
         "co_applicant_ethnicity_name": "Not Hispanic or Latino",
         "census_tract_number": "907.0",
         "as_of_year": "2016",
         "application_date_indicator": "0",
         "applicant_sex_name": "Female",
         "applicant_race_name_5": "nan",
         "applicant_race_name_4": "nan",
         "applicant_race_name_3": "nan",
         "applicant_race_name_2": "nan",
         "applicant_race_name_1": "White",
         "applicant_ethnicity_name": "Not Hispanic or Latino",
         "agency_name": "Federal Deposit Insurance Corporation",
         "agency_abbr": "FDIC",
         "action_taken_name": "Loan originated",
         "_deepnote_index_column": "4"
        },
        {
         "tract_to_msamd_income": "119.6299973",
         "rate_spread": "nan",
         "population": "4775.0",
         "minority_population": "18.88999939",
         "number_of_owner_occupied_units": "954.0",
         "number_of_1_to_4_family_units": "1332.0",
         "loan_amount_000s": "206",
         "hud_median_family_income": "72300.0",
         "applicant_income_000s": "nan",
         "state_name": "Washington",
         "state_abbr": "WA",
         "sequence_number": "6270",
         "respondent_id": "24671",
         "purchaser_type_name": "Life insurance company, credit union, mortgage bank, or finance company",
         "property_type_name": "One-to-four family dwelling (other than manufactured housing)",
         "preapproval_name": "Not applicable",
         "owner_occupancy_name": "Owner-occupied as a principal dwelling",
         "msamd_name": "Tacoma, Lakewood - WA",
         "loan_type_name": "VA-guaranteed",
         "loan_purpose_name": "Refinancing",
         "lien_status_name": "Secured by a first lien",
         "hoepa_status_name": "Not a HOEPA loan",
         "edit_status_name": "Quality edit failure only",
         "denial_reason_name_3": "nan",
         "denial_reason_name_2": "nan",
         "denial_reason_name_1": "nan",
         "county_name": "Pierce County",
         "co_applicant_sex_name": "No co-applicant",
         "co_applicant_race_name_5": "nan",
         "co_applicant_race_name_4": "nan",
         "co_applicant_race_name_3": "nan",
         "co_applicant_race_name_2": "nan",
         "co_applicant_race_name_1": "No co-applicant",
         "co_applicant_ethnicity_name": "No co-applicant",
         "census_tract_number": "734.06",
         "as_of_year": "2016",
         "application_date_indicator": "0",
         "applicant_sex_name": "Male",
         "applicant_race_name_5": "nan",
         "applicant_race_name_4": "nan",
         "applicant_race_name_3": "nan",
         "applicant_race_name_2": "nan",
         "applicant_race_name_1": "White",
         "applicant_ethnicity_name": "Not Hispanic or Latino",
         "agency_name": "Office of the Comptroller of the Currency",
         "agency_abbr": "OCC",
         "action_taken_name": "Loan originated",
         "_deepnote_index_column": "5"
        },
        {
         "tract_to_msamd_income": "103.2099991",
         "rate_spread": "nan",
         "population": "4745.0",
         "minority_population": "33.06999969",
         "number_of_owner_occupied_units": "1337.0",
         "number_of_1_to_4_family_units": "1442.0",
         "loan_amount_000s": "356",
         "hud_median_family_income": "90300.0",
         "applicant_income_000s": "nan",
         "state_name": "Washington",
         "state_abbr": "WA",
         "sequence_number": "10009",
         "respondent_id": "6443809990",
         "purchaser_type_name": "Ginnie Mae (GNMA)",
         "property_type_name": "One-to-four family dwelling (other than manufactured housing)",
         "preapproval_name": "Not applicable",
         "owner_occupancy_name": "Owner-occupied as a principal dwelling",
         "msamd_name": "Seattle, Bellevue, Everett - WA",
         "loan_type_name": "VA-guaranteed",
         "loan_purpose_name": "Refinancing",
         "lien_status_name": "Secured by a first lien",
         "hoepa_status_name": "Not a HOEPA loan",
         "edit_status_name": "Quality edit failure only",
         "denial_reason_name_3": "nan",
         "denial_reason_name_2": "nan",
         "denial_reason_name_1": "nan",
         "county_name": "Snohomish County",
         "co_applicant_sex_name": "No co-applicant",
         "co_applicant_race_name_5": "nan",
         "co_applicant_race_name_4": "nan",
         "co_applicant_race_name_3": "nan",
         "co_applicant_race_name_2": "nan",
         "co_applicant_race_name_1": "No co-applicant",
         "co_applicant_ethnicity_name": "No co-applicant",
         "census_tract_number": "519.23",
         "as_of_year": "2016",
         "application_date_indicator": "0",
         "applicant_sex_name": "Male",
         "applicant_race_name_5": "nan",
         "applicant_race_name_4": "nan",
         "applicant_race_name_3": "nan",
         "applicant_race_name_2": "nan",
         "applicant_race_name_1": "White",
         "applicant_ethnicity_name": "Not Hispanic or Latino",
         "agency_name": "Department of Housing and Urban Development",
         "agency_abbr": "HUD",
         "action_taken_name": "Loan originated",
         "_deepnote_index_column": "6"
        },
        {
         "tract_to_msamd_income": "93.76999664",
         "rate_spread": "nan",
         "population": "7451.0",
         "minority_population": "33.40000153",
         "number_of_owner_occupied_units": "1761.0",
         "number_of_1_to_4_family_units": "2478.0",
         "loan_amount_000s": "265",
         "hud_median_family_income": "72300.0",
         "applicant_income_000s": "nan",
         "state_name": "Washington",
         "state_abbr": "WA",
         "sequence_number": "192917",
         "respondent_id": "504713",
         "purchaser_type_name": "Ginnie Mae (GNMA)",
         "property_type_name": "One-to-four family dwelling (other than manufactured housing)",
         "preapproval_name": "Not applicable",
         "owner_occupancy_name": "Owner-occupied as a principal dwelling",
         "msamd_name": "Tacoma, Lakewood - WA",
         "loan_type_name": "VA-guaranteed",
         "loan_purpose_name": "Refinancing",
         "lien_status_name": "Secured by a first lien",
         "hoepa_status_name": "Not a HOEPA loan",
         "edit_status_name": "Quality edit failure only",
         "denial_reason_name_3": "nan",
         "denial_reason_name_2": "nan",
         "denial_reason_name_1": "nan",
         "county_name": "Pierce County",
         "co_applicant_sex_name": "Female",
         "co_applicant_race_name_5": "nan",
         "co_applicant_race_name_4": "nan",
         "co_applicant_race_name_3": "nan",
         "co_applicant_race_name_2": "nan",
         "co_applicant_race_name_1": "White",
         "co_applicant_ethnicity_name": "Not Hispanic or Latino",
         "census_tract_number": "731.08",
         "as_of_year": "2016",
         "application_date_indicator": "0",
         "applicant_sex_name": "Male",
         "applicant_race_name_5": "nan",
         "applicant_race_name_4": "nan",
         "applicant_race_name_3": "nan",
         "applicant_race_name_2": "nan",
         "applicant_race_name_1": "White",
         "applicant_ethnicity_name": "Not Hispanic or Latino",
         "agency_name": "Consumer Financial Protection Bureau",
         "agency_abbr": "CFPB",
         "action_taken_name": "Loan originated",
         "_deepnote_index_column": "7"
        },
        {
         "tract_to_msamd_income": "109.5800018",
         "rate_spread": "nan",
         "population": "6567.0",
         "minority_population": "21.70999908",
         "number_of_owner_occupied_units": "1130.0",
         "number_of_1_to_4_family_units": "1579.0",
         "loan_amount_000s": "131",
         "hud_median_family_income": "73600.0",
         "applicant_income_000s": "nan",
         "state_name": "Washington",
         "state_abbr": "WA",
         "sequence_number": "52027",
         "respondent_id": "20-8745846",
         "purchaser_type_name": "Ginnie Mae (GNMA)",
         "property_type_name": "One-to-four family dwelling (other than manufactured housing)",
         "preapproval_name": "Not applicable",
         "owner_occupancy_name": "Owner-occupied as a principal dwelling",
         "msamd_name": "Olympia, Tumwater - WA",
         "loan_type_name": "FHA-insured",
         "loan_purpose_name": "Refinancing",
         "lien_status_name": "Secured by a first lien",
         "hoepa_status_name": "Not a HOEPA loan",
         "edit_status_name": "Quality edit failure only",
         "denial_reason_name_3": "nan",
         "denial_reason_name_2": "nan",
         "denial_reason_name_1": "nan",
         "county_name": "Thurston County",
         "co_applicant_sex_name": "No co-applicant",
         "co_applicant_race_name_5": "nan",
         "co_applicant_race_name_4": "nan",
         "co_applicant_race_name_3": "nan",
         "co_applicant_race_name_2": "nan",
         "co_applicant_race_name_1": "No co-applicant",
         "co_applicant_ethnicity_name": "No co-applicant",
         "census_tract_number": "109.1",
         "as_of_year": "2016",
         "application_date_indicator": "0",
         "applicant_sex_name": "Male",
         "applicant_race_name_5": "nan",
         "applicant_race_name_4": "nan",
         "applicant_race_name_3": "nan",
         "applicant_race_name_2": "nan",
         "applicant_race_name_1": "White",
         "applicant_ethnicity_name": "Not Hispanic or Latino",
         "agency_name": "Department of Housing and Urban Development",
         "agency_abbr": "HUD",
         "action_taken_name": "Loan originated",
         "_deepnote_index_column": "8"
        },
        {
         "tract_to_msamd_income": "87.16000366",
         "rate_spread": "nan",
         "population": "9326.0",
         "minority_population": "19.39999962",
         "number_of_owner_occupied_units": "2449.0",
         "number_of_1_to_4_family_units": "3403.0",
         "loan_amount_000s": "199",
         "hud_median_family_income": "61400.0",
         "applicant_income_000s": "37.0",
         "state_name": "Washington",
         "state_abbr": "WA",
         "sequence_number": "490",
         "respondent_id": "6158",
         "purchaser_type_name": "Life insurance company, credit union, mortgage bank, or finance company",
         "property_type_name": "One-to-four family dwelling (other than manufactured housing)",
         "preapproval_name": "Preapproval was not requested",
         "owner_occupancy_name": "Owner-occupied as a principal dwelling",
         "msamd_name": "Mount Vernon, Anacortes - WA",
         "loan_type_name": "Conventional",
         "loan_purpose_name": "Home purchase",
         "lien_status_name": "Secured by a first lien",
         "hoepa_status_name": "Not a HOEPA loan",
         "edit_status_name": "nan",
         "denial_reason_name_3": "nan",
         "denial_reason_name_2": "nan",
         "denial_reason_name_1": "nan",
         "county_name": "Skagit County",
         "co_applicant_sex_name": "No co-applicant",
         "co_applicant_race_name_5": "nan",
         "co_applicant_race_name_4": "nan",
         "co_applicant_race_name_3": "nan",
         "co_applicant_race_name_2": "nan",
         "co_applicant_race_name_1": "No co-applicant",
         "co_applicant_ethnicity_name": "No co-applicant",
         "census_tract_number": "9515.0",
         "as_of_year": "2016",
         "application_date_indicator": "0",
         "applicant_sex_name": "Male",
         "applicant_race_name_5": "nan",
         "applicant_race_name_4": "nan",
         "applicant_race_name_3": "nan",
         "applicant_race_name_2": "nan",
         "applicant_race_name_1": "White",
         "applicant_ethnicity_name": "Not Hispanic or Latino",
         "agency_name": "Federal Deposit Insurance Corporation",
         "agency_abbr": "FDIC",
         "action_taken_name": "Loan originated",
         "_deepnote_index_column": "9"
        }
       ]
      },
      "text/plain": "        tract_to_msamd_income  rate_spread  population  minority_population  \\\n0                  121.690002          NaN      8381.0            23.790001   \n1                   83.370003          NaN      4915.0            23.990000   \n2                   91.129997          NaN      5075.0            11.820000   \n3                  146.169998          NaN      5032.0             8.590000   \n4                  162.470001          NaN      5183.0            10.500000   \n...                       ...          ...         ...                  ...   \n466561                    NaN          NaN         NaN                  NaN   \n466562                    NaN          NaN         NaN                  NaN   \n466563                    NaN          NaN         NaN                  NaN   \n466564              88.690002          NaN      4725.0            45.880001   \n466565             128.690002          NaN      3657.0            21.410000   \n\n        number_of_owner_occupied_units  number_of_1_to_4_family_units  \\\n0                               2175.0                         2660.0   \n1                               1268.0                         1777.0   \n2                               1136.0                         1838.0   \n3                               1525.0                         1820.0   \n4                               1705.0                         2104.0   \n...                                ...                            ...   \n466561                             NaN                            NaN   \n466562                             NaN                            NaN   \n466563                             NaN                            NaN   \n466564                          1188.0                         1686.0   \n466565                          1156.0                         1244.0   \n\n        loan_amount_000s  hud_median_family_income  applicant_income_000s  \\\n0                    227                   73300.0                  116.0   \n1                    240                   57900.0                   42.0   \n2                    241                   73300.0                  117.0   \n3                    351                   73300.0                  315.0   \n4                    417                   78100.0                  114.0   \n...                  ...                       ...                    ...   \n466561               178                       NaN                   97.0   \n466562               110                       NaN                   30.0   \n466563               420                       NaN                   71.0   \n466564               255                   72300.0                   77.0   \n466565               319                   90300.0                   78.0   \n\n        state_name  ... applicant_sex_name  applicant_race_name_5  \\\n0       Washington  ...             Female                    NaN   \n1       Washington  ...               Male                    NaN   \n2       Washington  ...               Male                    NaN   \n3       Washington  ...               Male                    NaN   \n4       Washington  ...             Female                    NaN   \n...            ...  ...                ...                    ...   \n466561  Washington  ...             Female                    NaN   \n466562  Washington  ...               Male                    NaN   \n466563  Washington  ...             Female                    NaN   \n466564  Washington  ...               Male                    NaN   \n466565  Washington  ...               Male                    NaN   \n\n       applicant_race_name_4 applicant_race_name_3 applicant_race_name_2  \\\n0                        NaN                   NaN                   NaN   \n1                        NaN                   NaN                   NaN   \n2                        NaN                   NaN                   NaN   \n3                        NaN                   NaN                   NaN   \n4                        NaN                   NaN                   NaN   \n...                      ...                   ...                   ...   \n466561                   NaN                   NaN                   NaN   \n466562                   NaN                   NaN                   NaN   \n466563                   NaN                   NaN                   NaN   \n466564                   NaN                   NaN                   NaN   \n466565                   NaN                   NaN                   NaN   \n\n                                    applicant_race_name_1  \\\n0       Information not provided by applicant in mail,...   \n1                                                   White   \n2                                                   White   \n3       Information not provided by applicant in mail,...   \n4                                                   White   \n...                                                   ...   \n466561                                              White   \n466562                                              White   \n466563  Information not provided by applicant in mail,...   \n466564                                              White   \n466565                          Black or African American   \n\n                                 applicant_ethnicity_name  \\\n0                                  Not Hispanic or Latino   \n1                                      Hispanic or Latino   \n2                                  Not Hispanic or Latino   \n3       Information not provided by applicant in mail,...   \n4                                  Not Hispanic or Latino   \n...                                                   ...   \n466561                             Not Hispanic or Latino   \n466562                             Not Hispanic or Latino   \n466563  Information not provided by applicant in mail,...   \n466564                             Not Hispanic or Latino   \n466565                             Not Hispanic or Latino   \n\n                                        agency_name agency_abbr  \\\n0              Consumer Financial Protection Bureau        CFPB   \n1       Department of Housing and Urban Development         HUD   \n2       Department of Housing and Urban Development         HUD   \n3              National Credit Union Administration        NCUA   \n4             Federal Deposit Insurance Corporation        FDIC   \n...                                             ...         ...   \n466561  Department of Housing and Urban Development         HUD   \n466562  Department of Housing and Urban Development         HUD   \n466563  Department of Housing and Urban Development         HUD   \n466564  Department of Housing and Urban Development         HUD   \n466565  Department of Housing and Urban Development         HUD   \n\n                                        action_taken_name  \n0                                         Loan originated  \n1                                         Loan originated  \n2                                         Loan originated  \n3                                         Loan originated  \n4                                         Loan originated  \n...                                                   ...  \n466561  Preapproval request denied by financial instit...  \n466562  Preapproval request denied by financial instit...  \n466563      Preapproval request approved but not accepted  \n466564      Preapproval request approved but not accepted  \n466565      Preapproval request approved but not accepted  \n\n[466566 rows x 47 columns]",
      "text/html": "<div>\n<style scoped>\n    .dataframe tbody tr th:only-of-type {\n        vertical-align: middle;\n    }\n\n    .dataframe tbody tr th {\n        vertical-align: top;\n    }\n\n    .dataframe thead th {\n        text-align: right;\n    }\n</style>\n<table border=\"1\" class=\"dataframe\">\n  <thead>\n    <tr style=\"text-align: right;\">\n      <th></th>\n      <th>tract_to_msamd_income</th>\n      <th>rate_spread</th>\n      <th>population</th>\n      <th>minority_population</th>\n      <th>number_of_owner_occupied_units</th>\n      <th>number_of_1_to_4_family_units</th>\n      <th>loan_amount_000s</th>\n      <th>hud_median_family_income</th>\n      <th>applicant_income_000s</th>\n      <th>state_name</th>\n      <th>...</th>\n      <th>applicant_sex_name</th>\n      <th>applicant_race_name_5</th>\n      <th>applicant_race_name_4</th>\n      <th>applicant_race_name_3</th>\n      <th>applicant_race_name_2</th>\n      <th>applicant_race_name_1</th>\n      <th>applicant_ethnicity_name</th>\n      <th>agency_name</th>\n      <th>agency_abbr</th>\n      <th>action_taken_name</th>\n    </tr>\n  </thead>\n  <tbody>\n    <tr>\n      <th>0</th>\n      <td>121.690002</td>\n      <td>NaN</td>\n      <td>8381.0</td>\n      <td>23.790001</td>\n      <td>2175.0</td>\n      <td>2660.0</td>\n      <td>227</td>\n      <td>73300.0</td>\n      <td>116.0</td>\n      <td>Washington</td>\n      <td>...</td>\n      <td>Female</td>\n      <td>NaN</td>\n      <td>NaN</td>\n      <td>NaN</td>\n      <td>NaN</td>\n      <td>Information not provided by applicant in mail,...</td>\n      <td>Not Hispanic or Latino</td>\n      <td>Consumer Financial Protection Bureau</td>\n      <td>CFPB</td>\n      <td>Loan originated</td>\n    </tr>\n    <tr>\n      <th>1</th>\n      <td>83.370003</td>\n      <td>NaN</td>\n      <td>4915.0</td>\n      <td>23.990000</td>\n      <td>1268.0</td>\n      <td>1777.0</td>\n      <td>240</td>\n      <td>57900.0</td>\n      <td>42.0</td>\n      <td>Washington</td>\n      <td>...</td>\n      <td>Male</td>\n      <td>NaN</td>\n      <td>NaN</td>\n      <td>NaN</td>\n      <td>NaN</td>\n      <td>White</td>\n      <td>Hispanic or Latino</td>\n      <td>Department of Housing and Urban Development</td>\n      <td>HUD</td>\n      <td>Loan originated</td>\n    </tr>\n    <tr>\n      <th>2</th>\n      <td>91.129997</td>\n      <td>NaN</td>\n      <td>5075.0</td>\n      <td>11.820000</td>\n      <td>1136.0</td>\n      <td>1838.0</td>\n      <td>241</td>\n      <td>73300.0</td>\n      <td>117.0</td>\n      <td>Washington</td>\n      <td>...</td>\n      <td>Male</td>\n      <td>NaN</td>\n      <td>NaN</td>\n      <td>NaN</td>\n      <td>NaN</td>\n      <td>White</td>\n      <td>Not Hispanic or Latino</td>\n      <td>Department of Housing and Urban Development</td>\n      <td>HUD</td>\n      <td>Loan originated</td>\n    </tr>\n    <tr>\n      <th>3</th>\n      <td>146.169998</td>\n      <td>NaN</td>\n      <td>5032.0</td>\n      <td>8.590000</td>\n      <td>1525.0</td>\n      <td>1820.0</td>\n      <td>351</td>\n      <td>73300.0</td>\n      <td>315.0</td>\n      <td>Washington</td>\n      <td>...</td>\n      <td>Male</td>\n      <td>NaN</td>\n      <td>NaN</td>\n      <td>NaN</td>\n      <td>NaN</td>\n      <td>Information not provided by applicant in mail,...</td>\n      <td>Information not provided by applicant in mail,...</td>\n      <td>National Credit Union Administration</td>\n      <td>NCUA</td>\n      <td>Loan originated</td>\n    </tr>\n    <tr>\n      <th>4</th>\n      <td>162.470001</td>\n      <td>NaN</td>\n      <td>5183.0</td>\n      <td>10.500000</td>\n      <td>1705.0</td>\n      <td>2104.0</td>\n      <td>417</td>\n      <td>78100.0</td>\n      <td>114.0</td>\n      <td>Washington</td>\n      <td>...</td>\n      <td>Female</td>\n      <td>NaN</td>\n      <td>NaN</td>\n      <td>NaN</td>\n      <td>NaN</td>\n      <td>White</td>\n      <td>Not Hispanic or Latino</td>\n      <td>Federal Deposit Insurance Corporation</td>\n      <td>FDIC</td>\n      <td>Loan originated</td>\n    </tr>\n    <tr>\n      <th>...</th>\n      <td>...</td>\n      <td>...</td>\n      <td>...</td>\n      <td>...</td>\n      <td>...</td>\n      <td>...</td>\n      <td>...</td>\n      <td>...</td>\n      <td>...</td>\n      <td>...</td>\n      <td>...</td>\n      <td>...</td>\n      <td>...</td>\n      <td>...</td>\n      <td>...</td>\n      <td>...</td>\n      <td>...</td>\n      <td>...</td>\n      <td>...</td>\n      <td>...</td>\n      <td>...</td>\n    </tr>\n    <tr>\n      <th>466561</th>\n      <td>NaN</td>\n      <td>NaN</td>\n      <td>NaN</td>\n      <td>NaN</td>\n      <td>NaN</td>\n      <td>NaN</td>\n      <td>178</td>\n      <td>NaN</td>\n      <td>97.0</td>\n      <td>Washington</td>\n      <td>...</td>\n      <td>Female</td>\n      <td>NaN</td>\n      <td>NaN</td>\n      <td>NaN</td>\n      <td>NaN</td>\n      <td>White</td>\n      <td>Not Hispanic or Latino</td>\n      <td>Department of Housing and Urban Development</td>\n      <td>HUD</td>\n      <td>Preapproval request denied by financial instit...</td>\n    </tr>\n    <tr>\n      <th>466562</th>\n      <td>NaN</td>\n      <td>NaN</td>\n      <td>NaN</td>\n      <td>NaN</td>\n      <td>NaN</td>\n      <td>NaN</td>\n      <td>110</td>\n      <td>NaN</td>\n      <td>30.0</td>\n      <td>Washington</td>\n      <td>...</td>\n      <td>Male</td>\n      <td>NaN</td>\n      <td>NaN</td>\n      <td>NaN</td>\n      <td>NaN</td>\n      <td>White</td>\n      <td>Not Hispanic or Latino</td>\n      <td>Department of Housing and Urban Development</td>\n      <td>HUD</td>\n      <td>Preapproval request denied by financial instit...</td>\n    </tr>\n    <tr>\n      <th>466563</th>\n      <td>NaN</td>\n      <td>NaN</td>\n      <td>NaN</td>\n      <td>NaN</td>\n      <td>NaN</td>\n      <td>NaN</td>\n      <td>420</td>\n      <td>NaN</td>\n      <td>71.0</td>\n      <td>Washington</td>\n      <td>...</td>\n      <td>Female</td>\n      <td>NaN</td>\n      <td>NaN</td>\n      <td>NaN</td>\n      <td>NaN</td>\n      <td>Information not provided by applicant in mail,...</td>\n      <td>Information not provided by applicant in mail,...</td>\n      <td>Department of Housing and Urban Development</td>\n      <td>HUD</td>\n      <td>Preapproval request approved but not accepted</td>\n    </tr>\n    <tr>\n      <th>466564</th>\n      <td>88.690002</td>\n      <td>NaN</td>\n      <td>4725.0</td>\n      <td>45.880001</td>\n      <td>1188.0</td>\n      <td>1686.0</td>\n      <td>255</td>\n      <td>72300.0</td>\n      <td>77.0</td>\n      <td>Washington</td>\n      <td>...</td>\n      <td>Male</td>\n      <td>NaN</td>\n      <td>NaN</td>\n      <td>NaN</td>\n      <td>NaN</td>\n      <td>White</td>\n      <td>Not Hispanic or Latino</td>\n      <td>Department of Housing and Urban Development</td>\n      <td>HUD</td>\n      <td>Preapproval request approved but not accepted</td>\n    </tr>\n    <tr>\n      <th>466565</th>\n      <td>128.690002</td>\n      <td>NaN</td>\n      <td>3657.0</td>\n      <td>21.410000</td>\n      <td>1156.0</td>\n      <td>1244.0</td>\n      <td>319</td>\n      <td>90300.0</td>\n      <td>78.0</td>\n      <td>Washington</td>\n      <td>...</td>\n      <td>Male</td>\n      <td>NaN</td>\n      <td>NaN</td>\n      <td>NaN</td>\n      <td>NaN</td>\n      <td>Black or African American</td>\n      <td>Not Hispanic or Latino</td>\n      <td>Department of Housing and Urban Development</td>\n      <td>HUD</td>\n      <td>Preapproval request approved but not accepted</td>\n    </tr>\n  </tbody>\n</table>\n<p>466566 rows × 47 columns</p>\n</div>"
     },
     "metadata": {}
    }
   ]
  },
  {
   "cell_type": "code",
   "metadata": {
    "tags": [],
    "deepnote_to_be_reexecuted": false,
    "source_hash": "c877db3a",
    "execution_start": 1664713957547,
    "execution_millis": 145,
    "cell_id": "00003-67993f23-a0b3-4858-8ecb-85296ff97370",
    "deepnote_cell_type": "code",
    "deepnote_cell_height": 130,
    "deepnote_output_heights": [
     20
    ]
   },
   "source": "new_data = data.iloc[:1]\nnew_data.to_json()",
   "execution_count": 4,
   "outputs": [
    {
     "output_type": "execute_result",
     "execution_count": 4,
     "data": {
      "text/plain": "'{\"tract_to_msamd_income\":{\"0\":121.6900024},\"rate_spread\":{\"0\":null},\"population\":{\"0\":8381.0},\"minority_population\":{\"0\":23.79000092},\"number_of_owner_occupied_units\":{\"0\":2175.0},\"number_of_1_to_4_family_units\":{\"0\":2660.0},\"loan_amount_000s\":{\"0\":227},\"hud_median_family_income\":{\"0\":73300.0},\"applicant_income_000s\":{\"0\":116.0},\"state_name\":{\"0\":\"Washington\"},\"state_abbr\":{\"0\":\"WA\"},\"sequence_number\":{\"0\":119969},\"respondent_id\":{\"0\":\"480228\"},\"purchaser_type_name\":{\"0\":\"Freddie Mac (FHLMC)\"},\"property_type_name\":{\"0\":\"One-to-four family dwelling (other than manufactured housing)\"},\"preapproval_name\":{\"0\":\"Not applicable\"},\"owner_occupancy_name\":{\"0\":\"Owner-occupied as a principal dwelling\"},\"msamd_name\":{\"0\":\"Portland, Vancouver, Hillsboro - OR, WA\"},\"loan_type_name\":{\"0\":\"Conventional\"},\"loan_purpose_name\":{\"0\":\"Refinancing\"},\"lien_status_name\":{\"0\":\"Secured by a first lien\"},\"hoepa_status_name\":{\"0\":\"Not a HOEPA loan\"},\"edit_status_name\":{\"0\":null},\"denial_reason_name_3\":{\"0\":null},\"denial_reason_name_2\":{\"0\":null},\"denial_reason_name_1\":{\"0\":null},\"county_name\":{\"0\":\"Clark County\"},\"co_applicant_sex_name\":{\"0\":\"Male\"},\"co_applicant_race_name_5\":{\"0\":null},\"co_applicant_race_name_4\":{\"0\":null},\"co_applicant_race_name_3\":{\"0\":null},\"co_applicant_race_name_2\":{\"0\":null},\"co_applicant_race_name_1\":{\"0\":\"Information not provided by applicant in mail, Internet, or telephone application\"},\"co_applicant_ethnicity_name\":{\"0\":\"Not Hispanic or Latino\"},\"census_tract_number\":{\"0\":413.27},\"as_of_year\":{\"0\":2016},\"application_date_indicator\":{\"0\":0},\"applicant_sex_name\":{\"0\":\"Female\"},\"applicant_race_name_5\":{\"0\":null},\"applicant_race_name_4\":{\"0\":null},\"applicant_race_name_3\":{\"0\":null},\"applicant_race_name_2\":{\"0\":null},\"applicant_race_name_1\":{\"0\":\"Information not provided by applicant in mail, Internet, or telephone application\"},\"applicant_ethnicity_name\":{\"0\":\"Not Hispanic or Latino\"},\"agency_name\":{\"0\":\"Consumer Financial Protection Bureau\"},\"agency_abbr\":{\"0\":\"CFPB\"},\"action_taken_name\":{\"0\":\"Loan originated\"}}'"
     },
     "metadata": {}
    }
   ]
  },
  {
   "cell_type": "code",
   "metadata": {
    "tags": [],
    "deepnote_to_be_reexecuted": false,
    "source_hash": "4ca47298",
    "execution_start": 1664713957552,
    "execution_millis": 144,
    "cell_id": "00004-5ea99607-b9c9-4d54-832b-7923250a858f",
    "deepnote_cell_type": "code",
    "deepnote_cell_height": 226
   },
   "source": "data.iloc[300000:300001]",
   "execution_count": 5,
   "outputs": [
    {
     "output_type": "execute_result",
     "execution_count": 5,
     "data": {
      "application/vnd.deepnote.dataframe.v3+json": {
       "column_count": 47,
       "row_count": 1,
       "columns": [
        {
         "name": "tract_to_msamd_income",
         "dtype": "float64",
         "stats": {
          "unique_count": 1,
          "nan_count": 0,
          "min": "187.9799957",
          "max": "187.9799957",
          "histogram": [
           {
            "bin_start": 187.4799957,
            "bin_end": 187.57999569999998,
            "count": 0
           },
           {
            "bin_start": 187.57999569999998,
            "bin_end": 187.67999569999998,
            "count": 0
           },
           {
            "bin_start": 187.67999569999998,
            "bin_end": 187.7799957,
            "count": 0
           },
           {
            "bin_start": 187.7799957,
            "bin_end": 187.8799957,
            "count": 0
           },
           {
            "bin_start": 187.8799957,
            "bin_end": 187.9799957,
            "count": 0
           },
           {
            "bin_start": 187.9799957,
            "bin_end": 188.07999569999998,
            "count": 1
           },
           {
            "bin_start": 188.07999569999998,
            "bin_end": 188.17999569999998,
            "count": 0
           },
           {
            "bin_start": 188.17999569999998,
            "bin_end": 188.2799957,
            "count": 0
           },
           {
            "bin_start": 188.2799957,
            "bin_end": 188.3799957,
            "count": 0
           },
           {
            "bin_start": 188.3799957,
            "bin_end": 188.4799957,
            "count": 0
           }
          ]
         }
        },
        {
         "name": "rate_spread",
         "dtype": "float64",
         "stats": {
          "unique_count": 0,
          "nan_count": 1,
          "min": null,
          "max": null,
          "histogram": [
           {
            "bin_start": 0,
            "bin_end": 0.1,
            "count": 0
           },
           {
            "bin_start": 0.1,
            "bin_end": 0.2,
            "count": 0
           },
           {
            "bin_start": 0.2,
            "bin_end": 0.30000000000000004,
            "count": 0
           },
           {
            "bin_start": 0.30000000000000004,
            "bin_end": 0.4,
            "count": 0
           },
           {
            "bin_start": 0.4,
            "bin_end": 0.5,
            "count": 0
           },
           {
            "bin_start": 0.5,
            "bin_end": 0.6000000000000001,
            "count": 0
           },
           {
            "bin_start": 0.6000000000000001,
            "bin_end": 0.7000000000000001,
            "count": 0
           },
           {
            "bin_start": 0.7000000000000001,
            "bin_end": 0.8,
            "count": 0
           },
           {
            "bin_start": 0.8,
            "bin_end": 0.9,
            "count": 0
           },
           {
            "bin_start": 0.9,
            "bin_end": 1,
            "count": 0
           }
          ]
         }
        },
        {
         "name": "population",
         "dtype": "float64",
         "stats": {
          "unique_count": 1,
          "nan_count": 0,
          "min": "5495.0",
          "max": "5495.0",
          "histogram": [
           {
            "bin_start": 5494.5,
            "bin_end": 5494.6,
            "count": 0
           },
           {
            "bin_start": 5494.6,
            "bin_end": 5494.7,
            "count": 0
           },
           {
            "bin_start": 5494.7,
            "bin_end": 5494.8,
            "count": 0
           },
           {
            "bin_start": 5494.8,
            "bin_end": 5494.9,
            "count": 0
           },
           {
            "bin_start": 5494.9,
            "bin_end": 5495,
            "count": 0
           },
           {
            "bin_start": 5495,
            "bin_end": 5495.1,
            "count": 1
           },
           {
            "bin_start": 5495.1,
            "bin_end": 5495.2,
            "count": 0
           },
           {
            "bin_start": 5495.2,
            "bin_end": 5495.3,
            "count": 0
           },
           {
            "bin_start": 5495.3,
            "bin_end": 5495.4,
            "count": 0
           },
           {
            "bin_start": 5495.4,
            "bin_end": 5495.5,
            "count": 0
           }
          ]
         }
        },
        {
         "name": "minority_population",
         "dtype": "float64",
         "stats": {
          "unique_count": 1,
          "nan_count": 0,
          "min": "26.14999962",
          "max": "26.14999962",
          "histogram": [
           {
            "bin_start": 25.64999962,
            "bin_end": 25.74999962,
            "count": 0
           },
           {
            "bin_start": 25.74999962,
            "bin_end": 25.84999962,
            "count": 0
           },
           {
            "bin_start": 25.84999962,
            "bin_end": 25.94999962,
            "count": 0
           },
           {
            "bin_start": 25.94999962,
            "bin_end": 26.049999619999998,
            "count": 0
           },
           {
            "bin_start": 26.049999619999998,
            "bin_end": 26.14999962,
            "count": 0
           },
           {
            "bin_start": 26.14999962,
            "bin_end": 26.24999962,
            "count": 1
           },
           {
            "bin_start": 26.24999962,
            "bin_end": 26.34999962,
            "count": 0
           },
           {
            "bin_start": 26.34999962,
            "bin_end": 26.44999962,
            "count": 0
           },
           {
            "bin_start": 26.44999962,
            "bin_end": 26.549999619999998,
            "count": 0
           },
           {
            "bin_start": 26.549999619999998,
            "bin_end": 26.64999962,
            "count": 0
           }
          ]
         }
        },
        {
         "name": "number_of_owner_occupied_units",
         "dtype": "float64",
         "stats": {
          "unique_count": 1,
          "nan_count": 0,
          "min": "1550.0",
          "max": "1550.0",
          "histogram": [
           {
            "bin_start": 1549.5,
            "bin_end": 1549.6,
            "count": 0
           },
           {
            "bin_start": 1549.6,
            "bin_end": 1549.7,
            "count": 0
           },
           {
            "bin_start": 1549.7,
            "bin_end": 1549.8,
            "count": 0
           },
           {
            "bin_start": 1549.8,
            "bin_end": 1549.9,
            "count": 0
           },
           {
            "bin_start": 1549.9,
            "bin_end": 1550,
            "count": 0
           },
           {
            "bin_start": 1550,
            "bin_end": 1550.1,
            "count": 1
           },
           {
            "bin_start": 1550.1,
            "bin_end": 1550.2,
            "count": 0
           },
           {
            "bin_start": 1550.2,
            "bin_end": 1550.3,
            "count": 0
           },
           {
            "bin_start": 1550.3,
            "bin_end": 1550.4,
            "count": 0
           },
           {
            "bin_start": 1550.4,
            "bin_end": 1550.5,
            "count": 0
           }
          ]
         }
        },
        {
         "name": "number_of_1_to_4_family_units",
         "dtype": "float64",
         "stats": {
          "unique_count": 1,
          "nan_count": 0,
          "min": "1787.0",
          "max": "1787.0",
          "histogram": [
           {
            "bin_start": 1786.5,
            "bin_end": 1786.6,
            "count": 0
           },
           {
            "bin_start": 1786.6,
            "bin_end": 1786.7,
            "count": 0
           },
           {
            "bin_start": 1786.7,
            "bin_end": 1786.8,
            "count": 0
           },
           {
            "bin_start": 1786.8,
            "bin_end": 1786.9,
            "count": 0
           },
           {
            "bin_start": 1786.9,
            "bin_end": 1787,
            "count": 0
           },
           {
            "bin_start": 1787,
            "bin_end": 1787.1,
            "count": 1
           },
           {
            "bin_start": 1787.1,
            "bin_end": 1787.2,
            "count": 0
           },
           {
            "bin_start": 1787.2,
            "bin_end": 1787.3,
            "count": 0
           },
           {
            "bin_start": 1787.3,
            "bin_end": 1787.4,
            "count": 0
           },
           {
            "bin_start": 1787.4,
            "bin_end": 1787.5,
            "count": 0
           }
          ]
         }
        },
        {
         "name": "loan_amount_000s",
         "dtype": "int64",
         "stats": {
          "unique_count": 1,
          "nan_count": 0,
          "min": "518",
          "max": "518",
          "histogram": [
           {
            "bin_start": 517.5,
            "bin_end": 517.6,
            "count": 0
           },
           {
            "bin_start": 517.6,
            "bin_end": 517.7,
            "count": 0
           },
           {
            "bin_start": 517.7,
            "bin_end": 517.8,
            "count": 0
           },
           {
            "bin_start": 517.8,
            "bin_end": 517.9,
            "count": 0
           },
           {
            "bin_start": 517.9,
            "bin_end": 518,
            "count": 0
           },
           {
            "bin_start": 518,
            "bin_end": 518.1,
            "count": 1
           },
           {
            "bin_start": 518.1,
            "bin_end": 518.2,
            "count": 0
           },
           {
            "bin_start": 518.2,
            "bin_end": 518.3,
            "count": 0
           },
           {
            "bin_start": 518.3,
            "bin_end": 518.4,
            "count": 0
           },
           {
            "bin_start": 518.4,
            "bin_end": 518.5,
            "count": 0
           }
          ]
         }
        },
        {
         "name": "hud_median_family_income",
         "dtype": "float64",
         "stats": {
          "unique_count": 1,
          "nan_count": 0,
          "min": "90300.0",
          "max": "90300.0",
          "histogram": [
           {
            "bin_start": 90299.5,
            "bin_end": 90299.6,
            "count": 0
           },
           {
            "bin_start": 90299.6,
            "bin_end": 90299.7,
            "count": 0
           },
           {
            "bin_start": 90299.7,
            "bin_end": 90299.8,
            "count": 0
           },
           {
            "bin_start": 90299.8,
            "bin_end": 90299.9,
            "count": 0
           },
           {
            "bin_start": 90299.9,
            "bin_end": 90300,
            "count": 0
           },
           {
            "bin_start": 90300,
            "bin_end": 90300.1,
            "count": 1
           },
           {
            "bin_start": 90300.1,
            "bin_end": 90300.2,
            "count": 0
           },
           {
            "bin_start": 90300.2,
            "bin_end": 90300.3,
            "count": 0
           },
           {
            "bin_start": 90300.3,
            "bin_end": 90300.4,
            "count": 0
           },
           {
            "bin_start": 90300.4,
            "bin_end": 90300.5,
            "count": 0
           }
          ]
         }
        },
        {
         "name": "applicant_income_000s",
         "dtype": "float64",
         "stats": {
          "unique_count": 1,
          "nan_count": 0,
          "min": "113.0",
          "max": "113.0",
          "histogram": [
           {
            "bin_start": 112.5,
            "bin_end": 112.6,
            "count": 0
           },
           {
            "bin_start": 112.6,
            "bin_end": 112.7,
            "count": 0
           },
           {
            "bin_start": 112.7,
            "bin_end": 112.8,
            "count": 0
           },
           {
            "bin_start": 112.8,
            "bin_end": 112.9,
            "count": 0
           },
           {
            "bin_start": 112.9,
            "bin_end": 113,
            "count": 0
           },
           {
            "bin_start": 113,
            "bin_end": 113.1,
            "count": 1
           },
           {
            "bin_start": 113.1,
            "bin_end": 113.2,
            "count": 0
           },
           {
            "bin_start": 113.2,
            "bin_end": 113.3,
            "count": 0
           },
           {
            "bin_start": 113.3,
            "bin_end": 113.4,
            "count": 0
           },
           {
            "bin_start": 113.4,
            "bin_end": 113.5,
            "count": 0
           }
          ]
         }
        },
        {
         "name": "state_name",
         "dtype": "object",
         "stats": {
          "unique_count": 1,
          "nan_count": 0,
          "categories": [
           {
            "name": "Washington",
            "count": 1
           }
          ]
         }
        },
        {
         "name": "state_abbr",
         "dtype": "object",
         "stats": {
          "unique_count": 1,
          "nan_count": 0,
          "categories": [
           {
            "name": "WA",
            "count": 1
           }
          ]
         }
        },
        {
         "name": "sequence_number",
         "dtype": "int64",
         "stats": {
          "unique_count": 1,
          "nan_count": 0,
          "min": "73508",
          "max": "73508",
          "histogram": [
           {
            "bin_start": 73507.5,
            "bin_end": 73507.6,
            "count": 0
           },
           {
            "bin_start": 73507.6,
            "bin_end": 73507.7,
            "count": 0
           },
           {
            "bin_start": 73507.7,
            "bin_end": 73507.8,
            "count": 0
           },
           {
            "bin_start": 73507.8,
            "bin_end": 73507.9,
            "count": 0
           },
           {
            "bin_start": 73507.9,
            "bin_end": 73508,
            "count": 0
           },
           {
            "bin_start": 73508,
            "bin_end": 73508.1,
            "count": 1
           },
           {
            "bin_start": 73508.1,
            "bin_end": 73508.2,
            "count": 0
           },
           {
            "bin_start": 73508.2,
            "bin_end": 73508.3,
            "count": 0
           },
           {
            "bin_start": 73508.3,
            "bin_end": 73508.4,
            "count": 0
           },
           {
            "bin_start": 73508.4,
            "bin_end": 73508.5,
            "count": 0
           }
          ]
         }
        },
        {
         "name": "respondent_id",
         "dtype": "object",
         "stats": {
          "unique_count": 1,
          "nan_count": 0,
          "categories": [
           {
            "name": "23-2769131",
            "count": 1
           }
          ]
         }
        },
        {
         "name": "purchaser_type_name",
         "dtype": "object",
         "stats": {
          "unique_count": 1,
          "nan_count": 0,
          "categories": [
           {
            "name": "Loan was not originated or was not sold in calendar year covered by register",
            "count": 1
           }
          ]
         }
        },
        {
         "name": "property_type_name",
         "dtype": "object",
         "stats": {
          "unique_count": 1,
          "nan_count": 0,
          "categories": [
           {
            "name": "One-to-four family dwelling (other than manufactured housing)",
            "count": 1
           }
          ]
         }
        },
        {
         "name": "preapproval_name",
         "dtype": "object",
         "stats": {
          "unique_count": 1,
          "nan_count": 0,
          "categories": [
           {
            "name": "Not applicable",
            "count": 1
           }
          ]
         }
        },
        {
         "name": "owner_occupancy_name",
         "dtype": "object",
         "stats": {
          "unique_count": 1,
          "nan_count": 0,
          "categories": [
           {
            "name": "Owner-occupied as a principal dwelling",
            "count": 1
           }
          ]
         }
        },
        {
         "name": "msamd_name",
         "dtype": "object",
         "stats": {
          "unique_count": 1,
          "nan_count": 0,
          "categories": [
           {
            "name": "Seattle, Bellevue, Everett - WA",
            "count": 1
           }
          ]
         }
        },
        {
         "name": "loan_type_name",
         "dtype": "object",
         "stats": {
          "unique_count": 1,
          "nan_count": 0,
          "categories": [
           {
            "name": "FHA-insured",
            "count": 1
           }
          ]
         }
        },
        {
         "name": "loan_purpose_name",
         "dtype": "object",
         "stats": {
          "unique_count": 1,
          "nan_count": 0,
          "categories": [
           {
            "name": "Refinancing",
            "count": 1
           }
          ]
         }
        },
        {
         "name": "lien_status_name",
         "dtype": "object",
         "stats": {
          "unique_count": 1,
          "nan_count": 0,
          "categories": [
           {
            "name": "Secured by a first lien",
            "count": 1
           }
          ]
         }
        },
        {
         "name": "hoepa_status_name",
         "dtype": "object",
         "stats": {
          "unique_count": 1,
          "nan_count": 0,
          "categories": [
           {
            "name": "Not a HOEPA loan",
            "count": 1
           }
          ]
         }
        },
        {
         "name": "edit_status_name",
         "dtype": "object",
         "stats": {
          "unique_count": 0,
          "nan_count": 1,
          "categories": [
           {
            "name": "Missing",
            "count": 1
           }
          ]
         }
        },
        {
         "name": "denial_reason_name_3",
         "dtype": "object",
         "stats": {
          "unique_count": 0,
          "nan_count": 1,
          "categories": [
           {
            "name": "Missing",
            "count": 1
           }
          ]
         }
        },
        {
         "name": "denial_reason_name_2",
         "dtype": "object",
         "stats": {
          "unique_count": 0,
          "nan_count": 1,
          "categories": [
           {
            "name": "Missing",
            "count": 1
           }
          ]
         }
        },
        {
         "name": "denial_reason_name_1",
         "dtype": "object",
         "stats": {
          "unique_count": 1,
          "nan_count": 0,
          "categories": [
           {
            "name": "Other",
            "count": 1
           }
          ]
         }
        },
        {
         "name": "county_name",
         "dtype": "object",
         "stats": {
          "unique_count": 1,
          "nan_count": 0,
          "categories": [
           {
            "name": "King County",
            "count": 1
           }
          ]
         }
        },
        {
         "name": "co_applicant_sex_name",
         "dtype": "object",
         "stats": {
          "unique_count": 1,
          "nan_count": 0,
          "categories": [
           {
            "name": "Female",
            "count": 1
           }
          ]
         }
        },
        {
         "name": "co_applicant_race_name_5",
         "dtype": "object",
         "stats": {
          "unique_count": 0,
          "nan_count": 1,
          "categories": [
           {
            "name": "Missing",
            "count": 1
           }
          ]
         }
        },
        {
         "name": "co_applicant_race_name_4",
         "dtype": "object",
         "stats": {
          "unique_count": 0,
          "nan_count": 1,
          "categories": [
           {
            "name": "Missing",
            "count": 1
           }
          ]
         }
        },
        {
         "name": "co_applicant_race_name_3",
         "dtype": "object",
         "stats": {
          "unique_count": 0,
          "nan_count": 1,
          "categories": [
           {
            "name": "Missing",
            "count": 1
           }
          ]
         }
        },
        {
         "name": "co_applicant_race_name_2",
         "dtype": "object",
         "stats": {
          "unique_count": 0,
          "nan_count": 1,
          "categories": [
           {
            "name": "Missing",
            "count": 1
           }
          ]
         }
        },
        {
         "name": "co_applicant_race_name_1",
         "dtype": "object",
         "stats": {
          "unique_count": 1,
          "nan_count": 0,
          "categories": [
           {
            "name": "White",
            "count": 1
           }
          ]
         }
        },
        {
         "name": "co_applicant_ethnicity_name",
         "dtype": "object",
         "stats": {
          "unique_count": 1,
          "nan_count": 0,
          "categories": [
           {
            "name": "Not Hispanic or Latino",
            "count": 1
           }
          ]
         }
        },
        {
         "name": "census_tract_number",
         "dtype": "float64",
         "stats": {
          "unique_count": 1,
          "nan_count": 0,
          "min": "323.16",
          "max": "323.16",
          "histogram": [
           {
            "bin_start": 322.66,
            "bin_end": 322.76000000000005,
            "count": 0
           },
           {
            "bin_start": 322.76000000000005,
            "bin_end": 322.86,
            "count": 0
           },
           {
            "bin_start": 322.86,
            "bin_end": 322.96000000000004,
            "count": 0
           },
           {
            "bin_start": 322.96000000000004,
            "bin_end": 323.06,
            "count": 0
           },
           {
            "bin_start": 323.06,
            "bin_end": 323.16,
            "count": 0
           },
           {
            "bin_start": 323.16,
            "bin_end": 323.26000000000005,
            "count": 1
           },
           {
            "bin_start": 323.26000000000005,
            "bin_end": 323.36,
            "count": 0
           },
           {
            "bin_start": 323.36,
            "bin_end": 323.46000000000004,
            "count": 0
           },
           {
            "bin_start": 323.46000000000004,
            "bin_end": 323.56,
            "count": 0
           },
           {
            "bin_start": 323.56,
            "bin_end": 323.66,
            "count": 0
           }
          ]
         }
        },
        {
         "name": "as_of_year",
         "dtype": "int64",
         "stats": {
          "unique_count": 1,
          "nan_count": 0,
          "min": "2016",
          "max": "2016",
          "histogram": [
           {
            "bin_start": 2015.5,
            "bin_end": 2015.6,
            "count": 0
           },
           {
            "bin_start": 2015.6,
            "bin_end": 2015.7,
            "count": 0
           },
           {
            "bin_start": 2015.7,
            "bin_end": 2015.8,
            "count": 0
           },
           {
            "bin_start": 2015.8,
            "bin_end": 2015.9,
            "count": 0
           },
           {
            "bin_start": 2015.9,
            "bin_end": 2016,
            "count": 0
           },
           {
            "bin_start": 2016,
            "bin_end": 2016.1,
            "count": 1
           },
           {
            "bin_start": 2016.1,
            "bin_end": 2016.2,
            "count": 0
           },
           {
            "bin_start": 2016.2,
            "bin_end": 2016.3,
            "count": 0
           },
           {
            "bin_start": 2016.3,
            "bin_end": 2016.4,
            "count": 0
           },
           {
            "bin_start": 2016.4,
            "bin_end": 2016.5,
            "count": 0
           }
          ]
         }
        },
        {
         "name": "application_date_indicator",
         "dtype": "int64",
         "stats": {
          "unique_count": 1,
          "nan_count": 0,
          "min": "0",
          "max": "0",
          "histogram": [
           {
            "bin_start": -0.5,
            "bin_end": -0.4,
            "count": 0
           },
           {
            "bin_start": -0.4,
            "bin_end": -0.3,
            "count": 0
           },
           {
            "bin_start": -0.3,
            "bin_end": -0.19999999999999996,
            "count": 0
           },
           {
            "bin_start": -0.19999999999999996,
            "bin_end": -0.09999999999999998,
            "count": 0
           },
           {
            "bin_start": -0.09999999999999998,
            "bin_end": 0,
            "count": 0
           },
           {
            "bin_start": 0,
            "bin_end": 0.10000000000000009,
            "count": 1
           },
           {
            "bin_start": 0.10000000000000009,
            "bin_end": 0.20000000000000007,
            "count": 0
           },
           {
            "bin_start": 0.20000000000000007,
            "bin_end": 0.30000000000000004,
            "count": 0
           },
           {
            "bin_start": 0.30000000000000004,
            "bin_end": 0.4,
            "count": 0
           },
           {
            "bin_start": 0.4,
            "bin_end": 0.5,
            "count": 0
           }
          ]
         }
        },
        {
         "name": "applicant_sex_name",
         "dtype": "object",
         "stats": {
          "unique_count": 1,
          "nan_count": 0,
          "categories": [
           {
            "name": "Male",
            "count": 1
           }
          ]
         }
        },
        {
         "name": "applicant_race_name_5",
         "dtype": "object",
         "stats": {
          "unique_count": 0,
          "nan_count": 1,
          "categories": [
           {
            "name": "Missing",
            "count": 1
           }
          ]
         }
        },
        {
         "name": "applicant_race_name_4",
         "dtype": "object",
         "stats": {
          "unique_count": 0,
          "nan_count": 1,
          "categories": [
           {
            "name": "Missing",
            "count": 1
           }
          ]
         }
        },
        {
         "name": "applicant_race_name_3",
         "dtype": "object",
         "stats": {
          "unique_count": 0,
          "nan_count": 1,
          "categories": [
           {
            "name": "Missing",
            "count": 1
           }
          ]
         }
        },
        {
         "name": "applicant_race_name_2",
         "dtype": "object",
         "stats": {
          "unique_count": 0,
          "nan_count": 1,
          "categories": [
           {
            "name": "Missing",
            "count": 1
           }
          ]
         }
        },
        {
         "name": "applicant_race_name_1",
         "dtype": "object",
         "stats": {
          "unique_count": 1,
          "nan_count": 0,
          "categories": [
           {
            "name": "White",
            "count": 1
           }
          ]
         }
        },
        {
         "name": "applicant_ethnicity_name",
         "dtype": "object",
         "stats": {
          "unique_count": 1,
          "nan_count": 0,
          "categories": [
           {
            "name": "Not Hispanic or Latino",
            "count": 1
           }
          ]
         }
        },
        {
         "name": "agency_name",
         "dtype": "object",
         "stats": {
          "unique_count": 1,
          "nan_count": 0,
          "categories": [
           {
            "name": "Department of Housing and Urban Development",
            "count": 1
           }
          ]
         }
        },
        {
         "name": "agency_abbr",
         "dtype": "object",
         "stats": {
          "unique_count": 1,
          "nan_count": 0,
          "categories": [
           {
            "name": "HUD",
            "count": 1
           }
          ]
         }
        },
        {
         "name": "action_taken_name",
         "dtype": "object",
         "stats": {
          "unique_count": 1,
          "nan_count": 0,
          "categories": [
           {
            "name": "Application denied by financial institution",
            "count": 1
           }
          ]
         }
        },
        {
         "name": "_deepnote_index_column",
         "dtype": "int64"
        }
       ],
       "rows": [
        {
         "tract_to_msamd_income": "187.9799957",
         "rate_spread": "nan",
         "population": "5495.0",
         "minority_population": "26.14999962",
         "number_of_owner_occupied_units": "1550.0",
         "number_of_1_to_4_family_units": "1787.0",
         "loan_amount_000s": "518",
         "hud_median_family_income": "90300.0",
         "applicant_income_000s": "113.0",
         "state_name": "Washington",
         "state_abbr": "WA",
         "sequence_number": "73508",
         "respondent_id": "23-2769131",
         "purchaser_type_name": "Loan was not originated or was not sold in calendar year covered by register",
         "property_type_name": "One-to-four family dwelling (other than manufactured housing)",
         "preapproval_name": "Not applicable",
         "owner_occupancy_name": "Owner-occupied as a principal dwelling",
         "msamd_name": "Seattle, Bellevue, Everett - WA",
         "loan_type_name": "FHA-insured",
         "loan_purpose_name": "Refinancing",
         "lien_status_name": "Secured by a first lien",
         "hoepa_status_name": "Not a HOEPA loan",
         "edit_status_name": "nan",
         "denial_reason_name_3": "nan",
         "denial_reason_name_2": "nan",
         "denial_reason_name_1": "Other",
         "county_name": "King County",
         "co_applicant_sex_name": "Female",
         "co_applicant_race_name_5": "nan",
         "co_applicant_race_name_4": "nan",
         "co_applicant_race_name_3": "nan",
         "co_applicant_race_name_2": "nan",
         "co_applicant_race_name_1": "White",
         "co_applicant_ethnicity_name": "Not Hispanic or Latino",
         "census_tract_number": "323.16",
         "as_of_year": "2016",
         "application_date_indicator": "0",
         "applicant_sex_name": "Male",
         "applicant_race_name_5": "nan",
         "applicant_race_name_4": "nan",
         "applicant_race_name_3": "nan",
         "applicant_race_name_2": "nan",
         "applicant_race_name_1": "White",
         "applicant_ethnicity_name": "Not Hispanic or Latino",
         "agency_name": "Department of Housing and Urban Development",
         "agency_abbr": "HUD",
         "action_taken_name": "Application denied by financial institution",
         "_deepnote_index_column": "300000"
        }
       ]
      },
      "text/plain": "        tract_to_msamd_income  rate_spread  population  minority_population  \\\n300000             187.979996          NaN      5495.0                26.15   \n\n        number_of_owner_occupied_units  number_of_1_to_4_family_units  \\\n300000                          1550.0                         1787.0   \n\n        loan_amount_000s  hud_median_family_income  applicant_income_000s  \\\n300000               518                   90300.0                  113.0   \n\n        state_name  ... applicant_sex_name  applicant_race_name_5  \\\n300000  Washington  ...               Male                    NaN   \n\n       applicant_race_name_4 applicant_race_name_3 applicant_race_name_2  \\\n300000                   NaN                   NaN                   NaN   \n\n       applicant_race_name_1 applicant_ethnicity_name  \\\n300000                 White   Not Hispanic or Latino   \n\n                                        agency_name agency_abbr  \\\n300000  Department of Housing and Urban Development         HUD   \n\n                                  action_taken_name  \n300000  Application denied by financial institution  \n\n[1 rows x 47 columns]",
      "text/html": "<div>\n<style scoped>\n    .dataframe tbody tr th:only-of-type {\n        vertical-align: middle;\n    }\n\n    .dataframe tbody tr th {\n        vertical-align: top;\n    }\n\n    .dataframe thead th {\n        text-align: right;\n    }\n</style>\n<table border=\"1\" class=\"dataframe\">\n  <thead>\n    <tr style=\"text-align: right;\">\n      <th></th>\n      <th>tract_to_msamd_income</th>\n      <th>rate_spread</th>\n      <th>population</th>\n      <th>minority_population</th>\n      <th>number_of_owner_occupied_units</th>\n      <th>number_of_1_to_4_family_units</th>\n      <th>loan_amount_000s</th>\n      <th>hud_median_family_income</th>\n      <th>applicant_income_000s</th>\n      <th>state_name</th>\n      <th>...</th>\n      <th>applicant_sex_name</th>\n      <th>applicant_race_name_5</th>\n      <th>applicant_race_name_4</th>\n      <th>applicant_race_name_3</th>\n      <th>applicant_race_name_2</th>\n      <th>applicant_race_name_1</th>\n      <th>applicant_ethnicity_name</th>\n      <th>agency_name</th>\n      <th>agency_abbr</th>\n      <th>action_taken_name</th>\n    </tr>\n  </thead>\n  <tbody>\n    <tr>\n      <th>300000</th>\n      <td>187.979996</td>\n      <td>NaN</td>\n      <td>5495.0</td>\n      <td>26.15</td>\n      <td>1550.0</td>\n      <td>1787.0</td>\n      <td>518</td>\n      <td>90300.0</td>\n      <td>113.0</td>\n      <td>Washington</td>\n      <td>...</td>\n      <td>Male</td>\n      <td>NaN</td>\n      <td>NaN</td>\n      <td>NaN</td>\n      <td>NaN</td>\n      <td>White</td>\n      <td>Not Hispanic or Latino</td>\n      <td>Department of Housing and Urban Development</td>\n      <td>HUD</td>\n      <td>Application denied by financial institution</td>\n    </tr>\n  </tbody>\n</table>\n<p>1 rows × 47 columns</p>\n</div>"
     },
     "metadata": {}
    }
   ]
  },
  {
   "cell_type": "markdown",
   "source": "### target variables\n - action_taken_name\n - denial_reason_name_1\n - denial_reason_name_2\n - denial_reason_name_3\n\n\n### variables we maybe need to leave out:\n - sequence_number\n - respondent_id\n - purchaser_type_name # will be fix for excelsis so leave this out.",
   "metadata": {
    "tags": [],
    "cell_id": "00005-2cfef164-4729-4a3d-a9dc-57e0edb2d7ce",
    "deepnote_cell_type": "markdown",
    "deepnote_cell_height": 329
   }
  },
  {
   "cell_type": "code",
   "metadata": {
    "tags": [],
    "deepnote_to_be_reexecuted": false,
    "source_hash": "c8a8c27a",
    "execution_start": 1664713957640,
    "execution_millis": 1,
    "cell_id": "00006-53dc42ed-4930-40eb-a8f1-caa7ee995a11",
    "deepnote_cell_type": "code",
    "deepnote_cell_height": 454,
    "deepnote_output_heights": [
     362
    ]
   },
   "source": "data.columns",
   "execution_count": 6,
   "outputs": [
    {
     "output_type": "execute_result",
     "execution_count": 6,
     "data": {
      "text/plain": "Index(['tract_to_msamd_income', 'rate_spread', 'population',\n       'minority_population', 'number_of_owner_occupied_units',\n       'number_of_1_to_4_family_units', 'loan_amount_000s',\n       'hud_median_family_income', 'applicant_income_000s', 'state_name',\n       'state_abbr', 'sequence_number', 'respondent_id', 'purchaser_type_name',\n       'property_type_name', 'preapproval_name', 'owner_occupancy_name',\n       'msamd_name', 'loan_type_name', 'loan_purpose_name', 'lien_status_name',\n       'hoepa_status_name', 'edit_status_name', 'denial_reason_name_3',\n       'denial_reason_name_2', 'denial_reason_name_1', 'county_name',\n       'co_applicant_sex_name', 'co_applicant_race_name_5',\n       'co_applicant_race_name_4', 'co_applicant_race_name_3',\n       'co_applicant_race_name_2', 'co_applicant_race_name_1',\n       'co_applicant_ethnicity_name', 'census_tract_number', 'as_of_year',\n       'application_date_indicator', 'applicant_sex_name',\n       'applicant_race_name_5', 'applicant_race_name_4',\n       'applicant_race_name_3', 'applicant_race_name_2',\n       'applicant_race_name_1', 'applicant_ethnicity_name', 'agency_name',\n       'agency_abbr', 'action_taken_name'],\n      dtype='object')"
     },
     "metadata": {}
    }
   ]
  },
  {
   "cell_type": "code",
   "metadata": {
    "tags": [],
    "deepnote_to_be_reexecuted": false,
    "source_hash": "72b2a8d0",
    "execution_start": 1664713957644,
    "execution_millis": 53,
    "cell_id": "00007-375aa2d4-f427-4397-8b4b-953d277d372e",
    "deepnote_cell_type": "code",
    "deepnote_cell_height": 283,
    "deepnote_output_heights": [
     191
    ]
   },
   "source": "data[~data['denial_reason_name_1'].isnull()]['denial_reason_name_1'].value_counts()",
   "execution_count": 7,
   "outputs": [
    {
     "output_type": "execute_result",
     "execution_count": 7,
     "data": {
      "text/plain": "Debt-to-income ratio                              8648\nCredit history                                    7671\nCollateral                                        5748\nCredit application incomplete                     5433\nOther                                             4058\nUnverifiable information                          1353\nInsufficient cash (downpayment, closing costs)    1036\nEmployment history                                 535\nMortgage insurance denied                           17\nName: denial_reason_name_1, dtype: int64"
     },
     "metadata": {}
    }
   ]
  },
  {
   "cell_type": "code",
   "metadata": {
    "tags": [],
    "deepnote_to_be_reexecuted": false,
    "source_hash": "69e60733",
    "execution_start": 1664713957733,
    "execution_millis": 4,
    "cell_id": "00008-59246e1c-9b08-4386-93ce-be9e2cb3ffa3",
    "deepnote_cell_type": "code",
    "deepnote_cell_height": 264,
    "deepnote_output_heights": [
     172
    ]
   },
   "source": "data['action_taken_name'].value_counts()",
   "execution_count": 8,
   "outputs": [
    {
     "output_type": "execute_result",
     "execution_count": 8,
     "data": {
      "text/plain": "Loan originated                                        263712\nApplication denied by financial institution             64177\nApplication withdrawn by applicant                      60358\nLoan purchased by the institution                       48356\nFile closed for incompleteness                          18176\nApplication approved but not accepted                   11735\nPreapproval request denied by financial institution        35\nPreapproval request approved but not accepted              17\nName: action_taken_name, dtype: int64"
     },
     "metadata": {}
    }
   ]
  },
  {
   "cell_type": "code",
   "metadata": {
    "tags": [],
    "deepnote_to_be_reexecuted": false,
    "source_hash": "34dd219d",
    "execution_start": 1664713957734,
    "execution_millis": 44,
    "cell_id": "00009-e24cd66f-3e6c-4e0a-8e23-b39859ca200e",
    "deepnote_cell_type": "code",
    "deepnote_cell_height": 169,
    "deepnote_output_heights": [
     77
    ]
   },
   "source": "data['preapproval_name'].value_counts()",
   "execution_count": 9,
   "outputs": [
    {
     "output_type": "execute_result",
     "execution_count": 9,
     "data": {
      "text/plain": "Not applicable                   397521\nPreapproval was not requested     57700\nPreapproval was requested         11345\nName: preapproval_name, dtype: int64"
     },
     "metadata": {}
    }
   ]
  },
  {
   "cell_type": "code",
   "metadata": {
    "tags": [],
    "deepnote_to_be_reexecuted": false,
    "source_hash": "6a6ee465",
    "execution_start": 1664713957778,
    "execution_millis": 6,
    "cell_id": "00010-f917fb4c-83ea-4339-bbe7-197544d2f9c3",
    "deepnote_cell_type": "code",
    "deepnote_cell_height": 245,
    "deepnote_output_heights": [
     153
    ]
   },
   "source": "data[data['preapproval_name'] == 'Preapproval was requested']['action_taken_name'].value_counts()",
   "execution_count": 10,
   "outputs": [
    {
     "output_type": "execute_result",
     "execution_count": 10,
     "data": {
      "text/plain": "Loan originated                                        8962\nApplication withdrawn by applicant                     1014\nApplication approved but not accepted                   626\nApplication denied by financial institution             591\nFile closed for incompleteness                          100\nPreapproval request denied by financial institution      35\nPreapproval request approved but not accepted            17\nName: action_taken_name, dtype: int64"
     },
     "metadata": {}
    }
   ]
  },
  {
   "cell_type": "markdown",
   "source": "### Remove the following data points\nWhere action_taken_name is one of the following value:\n - Application withdrawn by applicant\n - Application approved but not accepted\n - Preapproval request denied by financial institution\n - Preapproval request approved but not accepted",
   "metadata": {
    "tags": [],
    "cell_id": "00011-10b0cd2e-b73c-4906-b983-1eca8d7c52e7",
    "deepnote_cell_type": "markdown",
    "deepnote_cell_height": 225
   }
  },
  {
   "cell_type": "code",
   "metadata": {
    "tags": [],
    "deepnote_to_be_reexecuted": false,
    "source_hash": "61094dfa",
    "execution_start": 1664713957811,
    "execution_millis": 64,
    "cell_id": "00012-7518dcb5-82b6-4423-aa0d-563c7a27d592",
    "deepnote_cell_type": "code",
    "deepnote_cell_height": 378,
    "deepnote_output_heights": [
     286
    ]
   },
   "source": "data['msamd_name'].value_counts()",
   "execution_count": 11,
   "outputs": [
    {
     "output_type": "execute_result",
     "execution_count": 11,
     "data": {
      "text/plain": "Seattle, Bellevue, Everett - WA            196473\nTacoma, Lakewood - WA                       61552\nPortland, Vancouver, Hillsboro - OR, WA     38729\nSpokane, Spokane Valley - WA                32050\nBremerton, Silverdale - WA                  18146\nOlympia, Tumwater - WA                      17739\nKennewick, Richland - WA                    15949\nBellingham - WA                             12629\nYakima - WA                                  9731\nMount Vernon, Anacortes - WA                 7930\nLongview - WA                                6940\nWenatchee - WA                               6242\nWalla Walla - WA                             3099\nLewiston - ID, WA                            1083\nName: msamd_name, dtype: int64"
     },
     "metadata": {}
    }
   ]
  },
  {
   "cell_type": "code",
   "metadata": {
    "tags": [],
    "deepnote_to_be_reexecuted": false,
    "source_hash": "7bebe55c",
    "execution_start": 1664713957873,
    "execution_millis": 2,
    "cell_id": "00013-776f8206-5d5a-4a28-b11d-140ed3a6de66",
    "deepnote_cell_type": "code",
    "deepnote_cell_height": 302,
    "deepnote_output_heights": [
     210
    ]
   },
   "source": "data['purchaser_type_name'].value_counts()",
   "execution_count": 12,
   "outputs": [
    {
     "output_type": "execute_result",
     "execution_count": 12,
     "data": {
      "text/plain": "Loan was not originated or was not sold in calendar year covered by register    220297\nFannie Mae (FNMA)                                                                75990\nGinnie Mae (GNMA)                                                                60831\nFreddie Mac (FHLMC)                                                              51808\nLife insurance company, credit union, mortgage bank, or finance company          21510\nCommercial bank, savings bank or savings association                             18283\nOther type of purchaser                                                          11921\nAffiliate institution                                                             3994\nPrivate securitization                                                            1914\nFarmer Mac (FAMC)                                                                   18\nName: purchaser_type_name, dtype: int64"
     },
     "metadata": {}
    }
   ]
  },
  {
   "cell_type": "code",
   "metadata": {
    "tags": [],
    "deepnote_to_be_reexecuted": false,
    "source_hash": "a7ef0461",
    "execution_start": 1664713957874,
    "execution_millis": 44,
    "cell_id": "00014-0c38e309-2d6d-4b18-9e31-c6c2d38b4408",
    "deepnote_cell_type": "code",
    "deepnote_cell_height": 169,
    "deepnote_output_heights": [
     77
    ]
   },
   "source": "data['property_type_name'].value_counts()",
   "execution_count": 13,
   "outputs": [
    {
     "output_type": "execute_result",
     "execution_count": 13,
     "data": {
      "text/plain": "One-to-four family dwelling (other than manufactured housing)    450406\nManufactured housing                                              14504\nMultifamily dwelling                                               1656\nName: property_type_name, dtype: int64"
     },
     "metadata": {}
    }
   ]
  },
  {
   "cell_type": "code",
   "metadata": {
    "tags": [],
    "deepnote_to_be_reexecuted": false,
    "source_hash": "91b8c2f7",
    "execution_start": 1664713957936,
    "execution_millis": 106,
    "cell_id": "00015-4e8845f7-521e-4209-830d-287bd95dbe90",
    "deepnote_cell_type": "code",
    "deepnote_cell_height": 539
   },
   "source": "print(data['loan_type_name'].value_counts())\nprint(data['loan_purpose_name'].value_counts())\nprint(data['lien_status_name'].value_counts())\nprint(data['hoepa_status_name'].value_counts())\nprint(data['edit_status_name'].value_counts())",
   "execution_count": 14,
   "outputs": [
    {
     "name": "stdout",
     "text": "Conventional          332433\nFHA-insured            66754\nVA-guaranteed          62915\nFSA/RHS-guaranteed      4464\nName: loan_type_name, dtype: int64\nRefinancing         250046\nHome purchase       192684\nHome improvement     23836\nName: loan_purpose_name, dtype: int64\nSecured by a first lien          403525\nNot applicable                    48356\nSecured by a subordinate lien      9298\nNot secured by a lien              5387\nName: lien_status_name, dtype: int64\nNot a HOEPA loan    466553\nHOEPA loan              13\nName: hoepa_status_name, dtype: int64\nQuality edit failure only    74505\nName: edit_status_name, dtype: int64\n",
     "output_type": "stream"
    }
   ]
  },
  {
   "cell_type": "code",
   "metadata": {
    "tags": [],
    "deepnote_to_be_reexecuted": false,
    "source_hash": "97d3e7b7",
    "execution_start": 1664713958085,
    "execution_millis": 2,
    "cell_id": "00016-9052dbd4-8d09-4d60-9cca-0b4fc7594848",
    "deepnote_cell_type": "code",
    "deepnote_cell_height": 321,
    "deepnote_output_heights": [
     229
    ]
   },
   "source": "data['census_tract_number'].value_counts()",
   "execution_count": 15,
   "outputs": [
    {
     "output_type": "execute_result",
     "execution_count": 15,
     "data": {
      "text/plain": "2.00       2698\n8.00       2059\n7.00       1914\n101.00     1849\n106.00     1841\n           ... \n729.07        2\n105.10        2\n9204.00       1\n808.00        1\n9901.00       1\nName: census_tract_number, Length: 1116, dtype: int64"
     },
     "metadata": {}
    }
   ]
  },
  {
   "cell_type": "code",
   "metadata": {
    "tags": [],
    "deepnote_to_be_reexecuted": false,
    "source_hash": "1c158705",
    "execution_start": 1664713958086,
    "execution_millis": 352,
    "cell_id": "00017-62ca0f64-2fa3-416f-9a08-9c984de182cf",
    "deepnote_cell_type": "code",
    "deepnote_cell_height": 525,
    "deepnote_output_heights": [
     415
    ]
   },
   "source": "data['rate_spread'].hist(bins=100)\nplt.show()",
   "execution_count": 16,
   "outputs": [
    {
     "data": {
      "text/plain": "<Figure size 640x480 with 1 Axes>",
      "image/png": "[encoded data removed]"
     },
     "metadata": {
      "image/png": {
       "width": 560,
       "height": 414
      }
     },
     "output_type": "display_data"
    }
   ]
  },
  {
   "cell_type": "markdown",
   "source": "# Data preparation",
   "metadata": {
    "formattedRanges": [],
    "is_collapsed": false,
    "tags": [],
    "cell_id": "00018-e9bd0374-4951-4f25-9adf-9b8a99c601f6",
    "deepnote_cell_type": "text-cell-h1"
   }
  },
  {
   "cell_type": "code",
   "metadata": {
    "tags": [],
    "deepnote_to_be_reexecuted": false,
    "source_hash": "f6f6569e",
    "execution_start": 1664713958475,
    "execution_millis": 2105,
    "deepnote_table_state": {
     "pageSize": 10,
     "pageIndex": 0,
     "filters": [],
     "sortBy": []
    },
    "deepnote_table_loading": false,
    "cell_id": "00019-68970ca3-6b11-40a5-87ba-879618077dd6",
    "deepnote_cell_type": "code",
    "deepnote_cell_height": 1158
   },
   "source": "# remove the unhelpful rows\n# - Application withdrawn by applicant\n# - Application approved but not accepted\n# - Preapproval request denied by financial institution\n# - Preapproval request approved but not accepted\n\ndata_clean = data.drop(data[(data.action_taken_name == \"Application withdrawn by applicant\") | \\\n                            (data.action_taken_name == \"Application approved but not accepted\") | \\\n                            (data.action_taken_name == \"Preapproval request denied by financial institution\") | \\\n                            (data.action_taken_name == \"Preapproval request approved but not accepted\")].index)\n\n# turn our target into binary\ndata_clean['loan_approved'] = data_clean['action_taken_name'] == \"Loan originated\"\n\n# remove unnecessary columns\ndata_clean = data_clean.drop(columns=[\"action_taken_name\", \\\n                         \"sequence_number\", \\\n                         \"respondent_id\", \\\n                         \"purchaser_type_name\", \\\n                         \"denial_reason_name_1\", \\\n                         \"denial_reason_name_2\", \\\n                         \"denial_reason_name_3\"])\n\n# replace nan with 0 in rate_spread\ndata_clean.fillna(0, inplace=True)\n\n\n# turn categorial into dummies\ncategorial_names = list(set(data_clean.columns) - set(data_clean._get_numeric_data().columns))\ndata_clean = pd.get_dummies(data=data_clean, columns=categorial_names)\n\ndata_clean",
   "execution_count": 17,
   "outputs": [
    {
     "output_type": "execute_result",
     "execution_count": 17,
     "data": {
      "application/vnd.deepnote.dataframe.v3+json": {
       "column_count": 175,
       "row_count": 394421,
       "columns": [
        {
         "name": "tract_to_msamd_income",
         "dtype": "float64"
        },
        {
         "name": "rate_spread",
         "dtype": "float64"
        },
        {
         "name": "population",
         "dtype": "float64"
        },
        {
         "name": "minority_population",
         "dtype": "float64"
        },
        {
         "name": "number_of_owner_occupied_units",
         "dtype": "float64"
        },
        {
         "name": "number_of_1_to_4_family_units",
         "dtype": "float64"
        },
        {
         "name": "loan_amount_000s",
         "dtype": "int64"
        },
        {
         "name": "hud_median_family_income",
         "dtype": "float64"
        },
        {
         "name": "applicant_income_000s",
         "dtype": "float64"
        },
        {
         "name": "census_tract_number",
         "dtype": "float64"
        },
        {
         "name": "as_of_year",
         "dtype": "int64"
        },
        {
         "name": "application_date_indicator",
         "dtype": "int64"
        },
        {
         "name": "loan_approved",
         "dtype": "bool"
        },
        {
         "name": "applicant_race_name_1_American Indian or Alaska Native",
         "dtype": "uint8"
        },
        {
         "name": "applicant_race_name_1_Asian",
         "dtype": "uint8"
        },
        {
         "name": "applicant_race_name_1_Black or African American",
         "dtype": "uint8"
        },
        {
         "name": "applicant_race_name_1_Information not provided by applicant in mail, Internet, or telephone application",
         "dtype": "uint8"
        },
        {
         "name": "applicant_race_name_1_Native Hawaiian or Other Pacific Islander",
         "dtype": "uint8"
        },
        {
         "name": "applicant_race_name_1_Not applicable",
         "dtype": "uint8"
        },
        {
         "name": "applicant_race_name_1_White",
         "dtype": "uint8"
        },
        {
         "name": "co_applicant_race_name_3_0",
         "dtype": "uint8"
        },
        {
         "name": "co_applicant_race_name_3_Black or African American",
         "dtype": "uint8"
        },
        {
         "name": "co_applicant_race_name_3_Native Hawaiian or Other Pacific Islander",
         "dtype": "uint8"
        },
        {
         "name": "co_applicant_race_name_3_White",
         "dtype": "uint8"
        },
        {
         "name": "county_name_0",
         "dtype": "uint8"
        },
        {
         "name": "county_name_Adams County",
         "dtype": "uint8"
        },
        {
         "name": "county_name_Asotin County",
         "dtype": "uint8"
        },
        {
         "name": "county_name_Benton County",
         "dtype": "uint8"
        },
        {
         "name": "county_name_Chelan County",
         "dtype": "uint8"
        },
        {
         "name": "county_name_Clallam County",
         "dtype": "uint8"
        },
        {
         "name": "county_name_Clark County",
         "dtype": "uint8"
        },
        {
         "name": "county_name_Columbia County",
         "dtype": "uint8"
        },
        {
         "name": "county_name_Cowlitz County",
         "dtype": "uint8"
        },
        {
         "name": "county_name_Douglas County",
         "dtype": "uint8"
        },
        {
         "name": "county_name_Ferry County",
         "dtype": "uint8"
        },
        {
         "name": "county_name_Franklin County",
         "dtype": "uint8"
        },
        {
         "name": "county_name_Garfield County",
         "dtype": "uint8"
        },
        {
         "name": "county_name_Grant County",
         "dtype": "uint8"
        },
        {
         "name": "county_name_Grays Harbor County",
         "dtype": "uint8"
        },
        {
         "name": "county_name_Island County",
         "dtype": "uint8"
        },
        {
         "name": "county_name_Jefferson County",
         "dtype": "uint8"
        },
        {
         "name": "county_name_King County",
         "dtype": "uint8"
        },
        {
         "name": "county_name_Kitsap County",
         "dtype": "uint8"
        },
        {
         "name": "county_name_Kittitas County",
         "dtype": "uint8"
        },
        {
         "name": "county_name_Klickitat County",
         "dtype": "uint8"
        },
        {
         "name": "county_name_Lewis County",
         "dtype": "uint8"
        },
        {
         "name": "county_name_Lincoln County",
         "dtype": "uint8"
        },
        {
         "name": "county_name_Mason County",
         "dtype": "uint8"
        },
        {
         "name": "county_name_Okanogan County",
         "dtype": "uint8"
        },
        {
         "name": "county_name_Pacific County",
         "dtype": "uint8"
        },
        {
         "name": "county_name_Pend Oreille County",
         "dtype": "uint8"
        },
        {
         "name": "county_name_Pierce County",
         "dtype": "uint8"
        },
        {
         "name": "county_name_San Juan County",
         "dtype": "uint8"
        },
        {
         "name": "county_name_Skagit County",
         "dtype": "uint8"
        },
        {
         "name": "county_name_Skamania County",
         "dtype": "uint8"
        },
        {
         "name": "county_name_Snohomish County",
         "dtype": "uint8"
        },
        {
         "name": "county_name_Spokane County",
         "dtype": "uint8"
        },
        {
         "name": "county_name_Stevens County",
         "dtype": "uint8"
        },
        {
         "name": "county_name_Thurston County",
         "dtype": "uint8"
        },
        {
         "name": "county_name_Wahkiakum County",
         "dtype": "uint8"
        },
        {
         "name": "county_name_Walla Walla County",
         "dtype": "uint8"
        },
        {
         "name": "county_name_Whatcom County",
         "dtype": "uint8"
        },
        {
         "name": "county_name_Whitman County",
         "dtype": "uint8"
        },
        {
         "name": "county_name_Yakima County",
         "dtype": "uint8"
        },
        {
         "name": "edit_status_name_0",
         "dtype": "uint8"
        },
        {
         "name": "edit_status_name_Quality edit failure only",
         "dtype": "uint8"
        },
        {
         "name": "msamd_name_0",
         "dtype": "uint8"
        },
        {
         "name": "msamd_name_Bellingham - WA",
         "dtype": "uint8"
        },
        {
         "name": "msamd_name_Bremerton, Silverdale - WA",
         "dtype": "uint8"
        },
        {
         "name": "msamd_name_Kennewick, Richland - WA",
         "dtype": "uint8"
        },
        {
         "name": "msamd_name_Lewiston - ID, WA",
         "dtype": "uint8"
        },
        {
         "name": "msamd_name_Longview - WA",
         "dtype": "uint8"
        },
        {
         "name": "msamd_name_Mount Vernon, Anacortes - WA",
         "dtype": "uint8"
        },
        {
         "name": "msamd_name_Olympia, Tumwater - WA",
         "dtype": "uint8"
        },
        {
         "name": "msamd_name_Portland, Vancouver, Hillsboro - OR, WA",
         "dtype": "uint8"
        },
        {
         "name": "msamd_name_Seattle, Bellevue, Everett - WA",
         "dtype": "uint8"
        },
        {
         "name": "msamd_name_Spokane, Spokane Valley - WA",
         "dtype": "uint8"
        },
        {
         "name": "msamd_name_Tacoma, Lakewood - WA",
         "dtype": "uint8"
        },
        {
         "name": "msamd_name_Walla Walla - WA",
         "dtype": "uint8"
        },
        {
         "name": "msamd_name_Wenatchee - WA",
         "dtype": "uint8"
        },
        {
         "name": "msamd_name_Yakima - WA",
         "dtype": "uint8"
        },
        {
         "name": "agency_name_Consumer Financial Protection Bureau",
         "dtype": "uint8"
        },
        {
         "name": "agency_name_Department of Housing and Urban Development",
         "dtype": "uint8"
        },
        {
         "name": "agency_name_Federal Deposit Insurance Corporation",
         "dtype": "uint8"
        },
        {
         "name": "agency_name_Federal Reserve System",
         "dtype": "uint8"
        },
        {
         "name": "agency_name_National Credit Union Administration",
         "dtype": "uint8"
        },
        {
         "name": "agency_name_Office of the Comptroller of the Currency",
         "dtype": "uint8"
        },
        {
         "name": "applicant_race_name_4_0",
         "dtype": "uint8"
        },
        {
         "name": "applicant_race_name_4_Asian",
         "dtype": "uint8"
        },
        {
         "name": "applicant_race_name_4_Black or African American",
         "dtype": "uint8"
        },
        {
         "name": "applicant_race_name_4_Native Hawaiian or Other Pacific Islander",
         "dtype": "uint8"
        },
        {
         "name": "applicant_race_name_4_White",
         "dtype": "uint8"
        },
        {
         "name": "property_type_name_Manufactured housing",
         "dtype": "uint8"
        },
        {
         "name": "property_type_name_Multifamily dwelling",
         "dtype": "uint8"
        },
        {
         "name": "property_type_name_One-to-four family dwelling (other than manufactured housing)",
         "dtype": "uint8"
        },
        {
         "name": "co_applicant_race_name_4_0",
         "dtype": "uint8"
        },
        {
         "name": "co_applicant_race_name_4_Native Hawaiian or Other Pacific Islander",
         "dtype": "uint8"
        },
        {
         "name": "co_applicant_race_name_4_White",
         "dtype": "uint8"
        },
        {
         "name": "state_name_Washington",
         "dtype": "uint8"
        },
        {
         "name": "hoepa_status_name_HOEPA loan",
         "dtype": "uint8"
        },
        {
         "name": "hoepa_status_name_Not a HOEPA loan",
         "dtype": "uint8"
        },
        {
         "name": "applicant_race_name_2_0",
         "dtype": "uint8"
        },
        {
         "name": "applicant_race_name_2_American Indian or Alaska Native",
         "dtype": "uint8"
        },
        {
         "name": "applicant_race_name_2_Asian",
         "dtype": "uint8"
        },
        {
         "name": "applicant_race_name_2_Black or African American",
         "dtype": "uint8"
        },
        {
         "name": "applicant_race_name_2_Native Hawaiian or Other Pacific Islander",
         "dtype": "uint8"
        },
        {
         "name": "applicant_race_name_2_White",
         "dtype": "uint8"
        },
        {
         "name": "state_abbr_WA",
         "dtype": "uint8"
        },
        {
         "name": "lien_status_name_Not applicable",
         "dtype": "uint8"
        },
        {
         "name": "lien_status_name_Not secured by a lien",
         "dtype": "uint8"
        },
        {
         "name": "lien_status_name_Secured by a first lien",
         "dtype": "uint8"
        },
        {
         "name": "lien_status_name_Secured by a subordinate lien",
         "dtype": "uint8"
        },
        {
         "name": "co_applicant_race_name_5_0",
         "dtype": "uint8"
        },
        {
         "name": "co_applicant_race_name_5_White",
         "dtype": "uint8"
        },
        {
         "name": "co_applicant_race_name_1_American Indian or Alaska Native",
         "dtype": "uint8"
        },
        {
         "name": "co_applicant_race_name_1_Asian",
         "dtype": "uint8"
        },
        {
         "name": "co_applicant_race_name_1_Black or African American",
         "dtype": "uint8"
        },
        {
         "name": "co_applicant_race_name_1_Information not provided by applicant in mail, Internet, or telephone application",
         "dtype": "uint8"
        },
        {
         "name": "co_applicant_race_name_1_Native Hawaiian or Other Pacific Islander",
         "dtype": "uint8"
        },
        {
         "name": "co_applicant_race_name_1_No co-applicant",
         "dtype": "uint8"
        },
        {
         "name": "co_applicant_race_name_1_Not applicable",
         "dtype": "uint8"
        },
        {
         "name": "co_applicant_race_name_1_White",
         "dtype": "uint8"
        },
        {
         "name": "applicant_race_name_3_0",
         "dtype": "uint8"
        },
        {
         "name": "applicant_race_name_3_American Indian or Alaska Native",
         "dtype": "uint8"
        },
        {
         "name": "applicant_race_name_3_Asian",
         "dtype": "uint8"
        },
        {
         "name": "applicant_race_name_3_Black or African American",
         "dtype": "uint8"
        },
        {
         "name": "applicant_race_name_3_Native Hawaiian or Other Pacific Islander",
         "dtype": "uint8"
        },
        {
         "name": "applicant_race_name_3_White",
         "dtype": "uint8"
        },
        {
         "name": "co_applicant_race_name_2_0",
         "dtype": "uint8"
        },
        {
         "name": "co_applicant_race_name_2_American Indian or Alaska Native",
         "dtype": "uint8"
        },
        {
         "name": "co_applicant_race_name_2_Asian",
         "dtype": "uint8"
        },
        {
         "name": "co_applicant_race_name_2_Black or African American",
         "dtype": "uint8"
        },
        {
         "name": "co_applicant_race_name_2_Native Hawaiian or Other Pacific Islander",
         "dtype": "uint8"
        },
        {
         "name": "co_applicant_race_name_2_White",
         "dtype": "uint8"
        },
        {
         "name": "loan_type_name_Conventional",
         "dtype": "uint8"
        },
        {
         "name": "loan_type_name_FHA-insured",
         "dtype": "uint8"
        },
        {
         "name": "loan_type_name_FSA/RHS-guaranteed",
         "dtype": "uint8"
        },
        {
         "name": "loan_type_name_VA-guaranteed",
         "dtype": "uint8"
        },
        {
         "name": "co_applicant_sex_name_Female",
         "dtype": "uint8"
        },
        {
         "name": "co_applicant_sex_name_Information not provided by applicant in mail, Internet, or telephone application",
         "dtype": "uint8"
        },
        {
         "name": "co_applicant_sex_name_Male",
         "dtype": "uint8"
        },
        {
         "name": "co_applicant_sex_name_No co-applicant",
         "dtype": "uint8"
        },
        {
         "name": "co_applicant_sex_name_Not applicable",
         "dtype": "uint8"
        },
        {
         "name": "applicant_race_name_5_0",
         "dtype": "uint8"
        },
        {
         "name": "applicant_race_name_5_Asian",
         "dtype": "uint8"
        },
        {
         "name": "applicant_race_name_5_Black or African American",
         "dtype": "uint8"
        },
        {
         "name": "applicant_race_name_5_White",
         "dtype": "uint8"
        },
        {
         "name": "agency_abbr_CFPB",
         "dtype": "uint8"
        },
        {
         "name": "agency_abbr_FDIC",
         "dtype": "uint8"
        },
        {
         "name": "agency_abbr_FRS",
         "dtype": "uint8"
        },
        {
         "name": "agency_abbr_HUD",
         "dtype": "uint8"
        },
        {
         "name": "agency_abbr_NCUA",
         "dtype": "uint8"
        },
        {
         "name": "agency_abbr_OCC",
         "dtype": "uint8"
        },
        {
         "name": "loan_purpose_name_Home improvement",
         "dtype": "uint8"
        },
        {
         "name": "loan_purpose_name_Home purchase",
         "dtype": "uint8"
        },
        {
         "name": "loan_purpose_name_Refinancing",
         "dtype": "uint8"
        },
        {
         "name": "preapproval_name_Not applicable",
         "dtype": "uint8"
        },
        {
         "name": "preapproval_name_Preapproval was not requested",
         "dtype": "uint8"
        },
        {
         "name": "preapproval_name_Preapproval was requested",
         "dtype": "uint8"
        },
        {
         "name": "co_applicant_ethnicity_name_Hispanic or Latino",
         "dtype": "uint8"
        },
        {
         "name": "co_applicant_ethnicity_name_Information not provided by applicant in mail, Internet, or telephone application",
         "dtype": "uint8"
        },
        {
         "name": "co_applicant_ethnicity_name_No co-applicant",
         "dtype": "uint8"
        },
        {
         "name": "co_applicant_ethnicity_name_Not Hispanic or Latino",
         "dtype": "uint8"
        },
        {
         "name": "co_applicant_ethnicity_name_Not applicable",
         "dtype": "uint8"
        },
        {
         "name": "applicant_ethnicity_name_Hispanic or Latino",
         "dtype": "uint8"
        },
        {
         "name": "applicant_ethnicity_name_Information not provided by applicant in mail, Internet, or telephone application",
         "dtype": "uint8"
        },
        {
         "name": "applicant_ethnicity_name_Not Hispanic or Latino",
         "dtype": "uint8"
        },
        {
         "name": "applicant_ethnicity_name_Not applicable",
         "dtype": "uint8"
        },
        {
         "name": "applicant_sex_name_Female",
         "dtype": "uint8"
        },
        {
         "name": "applicant_sex_name_Information not provided by applicant in mail, Internet, or telephone application",
         "dtype": "uint8"
        },
        {
         "name": "applicant_sex_name_Male",
         "dtype": "uint8"
        },
        {
         "name": "applicant_sex_name_Not applicable",
         "dtype": "uint8"
        },
        {
         "name": "owner_occupancy_name_Not applicable",
         "dtype": "uint8"
        },
        {
         "name": "owner_occupancy_name_Not owner-occupied as a principal dwelling",
         "dtype": "uint8"
        },
        {
         "name": "owner_occupancy_name_Owner-occupied as a principal dwelling",
         "dtype": "uint8"
        },
        {
         "name": "_deepnote_index_column",
         "dtype": "int64"
        }
       ],
       "rows": [
        {
         "tract_to_msamd_income": "121.6900024",
         "rate_spread": "0.0",
         "population": "8381.0",
         "minority_population": "23.79000092",
         "number_of_owner_occupied_units": "2175.0",
         "number_of_1_to_4_family_units": "2660.0",
         "loan_amount_000s": "227",
         "hud_median_family_income": "73300.0",
         "applicant_income_000s": "116.0",
         "census_tract_number": "413.27",
         "as_of_year": "2016",
         "application_date_indicator": "0",
         "loan_approved": "True",
         "applicant_race_name_1_American Indian or Alaska Native": "0",
         "applicant_race_name_1_Asian": "0",
         "applicant_race_name_1_Black or African American": "0",
         "applicant_race_name_1_Information not provided by applicant in mail, Internet, or telephone application": "1",
         "applicant_race_name_1_Native Hawaiian or Other Pacific Islander": "0",
         "applicant_race_name_1_Not applicable": "0",
         "applicant_race_name_1_White": "0",
         "co_applicant_race_name_3_0": "1",
         "co_applicant_race_name_3_Black or African American": "0",
         "co_applicant_race_name_3_Native Hawaiian or Other Pacific Islander": "0",
         "co_applicant_race_name_3_White": "0",
         "county_name_0": "0",
         "county_name_Adams County": "0",
         "county_name_Asotin County": "0",
         "county_name_Benton County": "0",
         "county_name_Chelan County": "0",
         "county_name_Clallam County": "0",
         "county_name_Clark County": "1",
         "county_name_Columbia County": "0",
         "county_name_Cowlitz County": "0",
         "county_name_Douglas County": "0",
         "county_name_Ferry County": "0",
         "county_name_Franklin County": "0",
         "county_name_Garfield County": "0",
         "county_name_Grant County": "0",
         "county_name_Grays Harbor County": "0",
         "county_name_Island County": "0",
         "county_name_Jefferson County": "0",
         "county_name_King County": "0",
         "county_name_Kitsap County": "0",
         "county_name_Kittitas County": "0",
         "county_name_Klickitat County": "0",
         "county_name_Lewis County": "0",
         "county_name_Lincoln County": "0",
         "county_name_Mason County": "0",
         "county_name_Okanogan County": "0",
         "county_name_Pacific County": "0",
         "county_name_Pend Oreille County": "0",
         "county_name_Pierce County": "0",
         "county_name_San Juan County": "0",
         "county_name_Skagit County": "0",
         "county_name_Skamania County": "0",
         "county_name_Snohomish County": "0",
         "county_name_Spokane County": "0",
         "county_name_Stevens County": "0",
         "county_name_Thurston County": "0",
         "county_name_Wahkiakum County": "0",
         "county_name_Walla Walla County": "0",
         "county_name_Whatcom County": "0",
         "county_name_Whitman County": "0",
         "county_name_Yakima County": "0",
         "edit_status_name_0": "1",
         "edit_status_name_Quality edit failure only": "0",
         "msamd_name_0": "0",
         "msamd_name_Bellingham - WA": "0",
         "msamd_name_Bremerton, Silverdale - WA": "0",
         "msamd_name_Kennewick, Richland - WA": "0",
         "msamd_name_Lewiston - ID, WA": "0",
         "msamd_name_Longview - WA": "0",
         "msamd_name_Mount Vernon, Anacortes - WA": "0",
         "msamd_name_Olympia, Tumwater - WA": "0",
         "msamd_name_Portland, Vancouver, Hillsboro - OR, WA": "1",
         "msamd_name_Seattle, Bellevue, Everett - WA": "0",
         "msamd_name_Spokane, Spokane Valley - WA": "0",
         "msamd_name_Tacoma, Lakewood - WA": "0",
         "msamd_name_Walla Walla - WA": "0",
         "msamd_name_Wenatchee - WA": "0",
         "msamd_name_Yakima - WA": "0",
         "agency_name_Consumer Financial Protection Bureau": "1",
         "agency_name_Department of Housing and Urban Development": "0",
         "agency_name_Federal Deposit Insurance Corporation": "0",
         "agency_name_Federal Reserve System": "0",
         "agency_name_National Credit Union Administration": "0",
         "agency_name_Office of the Comptroller of the Currency": "0",
         "applicant_race_name_4_0": "1",
         "applicant_race_name_4_Asian": "0",
         "applicant_race_name_4_Black or African American": "0",
         "applicant_race_name_4_Native Hawaiian or Other Pacific Islander": "0",
         "applicant_race_name_4_White": "0",
         "property_type_name_Manufactured housing": "0",
         "property_type_name_Multifamily dwelling": "0",
         "property_type_name_One-to-four family dwelling (other than manufactured housing)": "1",
         "co_applicant_race_name_4_0": "1",
         "co_applicant_race_name_4_Native Hawaiian or Other Pacific Islander": "0",
         "co_applicant_race_name_4_White": "0",
         "state_name_Washington": "1",
         "hoepa_status_name_HOEPA loan": "0",
         "hoepa_status_name_Not a HOEPA loan": "1",
         "applicant_race_name_2_0": "1",
         "applicant_race_name_2_American Indian or Alaska Native": "0",
         "applicant_race_name_2_Asian": "0",
         "applicant_race_name_2_Black or African American": "0",
         "applicant_race_name_2_Native Hawaiian or Other Pacific Islander": "0",
         "applicant_race_name_2_White": "0",
         "state_abbr_WA": "1",
         "lien_status_name_Not applicable": "0",
         "lien_status_name_Not secured by a lien": "0",
         "lien_status_name_Secured by a first lien": "1",
         "lien_status_name_Secured by a subordinate lien": "0",
         "co_applicant_race_name_5_0": "1",
         "co_applicant_race_name_5_White": "0",
         "co_applicant_race_name_1_American Indian or Alaska Native": "0",
         "co_applicant_race_name_1_Asian": "0",
         "co_applicant_race_name_1_Black or African American": "0",
         "co_applicant_race_name_1_Information not provided by applicant in mail, Internet, or telephone application": "1",
         "co_applicant_race_name_1_Native Hawaiian or Other Pacific Islander": "0",
         "co_applicant_race_name_1_No co-applicant": "0",
         "co_applicant_race_name_1_Not applicable": "0",
         "co_applicant_race_name_1_White": "0",
         "applicant_race_name_3_0": "1",
         "applicant_race_name_3_American Indian or Alaska Native": "0",
         "applicant_race_name_3_Asian": "0",
         "applicant_race_name_3_Black or African American": "0",
         "applicant_race_name_3_Native Hawaiian or Other Pacific Islander": "0",
         "applicant_race_name_3_White": "0",
         "co_applicant_race_name_2_0": "1",
         "co_applicant_race_name_2_American Indian or Alaska Native": "0",
         "co_applicant_race_name_2_Asian": "0",
         "co_applicant_race_name_2_Black or African American": "0",
         "co_applicant_race_name_2_Native Hawaiian or Other Pacific Islander": "0",
         "co_applicant_race_name_2_White": "0",
         "loan_type_name_Conventional": "1",
         "loan_type_name_FHA-insured": "0",
         "loan_type_name_FSA/RHS-guaranteed": "0",
         "loan_type_name_VA-guaranteed": "0",
         "co_applicant_sex_name_Female": "0",
         "co_applicant_sex_name_Information not provided by applicant in mail, Internet, or telephone application": "0",
         "co_applicant_sex_name_Male": "1",
         "co_applicant_sex_name_No co-applicant": "0",
         "co_applicant_sex_name_Not applicable": "0",
         "applicant_race_name_5_0": "1",
         "applicant_race_name_5_Asian": "0",
         "applicant_race_name_5_Black or African American": "0",
         "applicant_race_name_5_White": "0",
         "agency_abbr_CFPB": "1",
         "agency_abbr_FDIC": "0",
         "agency_abbr_FRS": "0",
         "agency_abbr_HUD": "0",
         "agency_abbr_NCUA": "0",
         "agency_abbr_OCC": "0",
         "loan_purpose_name_Home improvement": "0",
         "loan_purpose_name_Home purchase": "0",
         "loan_purpose_name_Refinancing": "1",
         "preapproval_name_Not applicable": "1",
         "preapproval_name_Preapproval was not requested": "0",
         "preapproval_name_Preapproval was requested": "0",
         "co_applicant_ethnicity_name_Hispanic or Latino": "0",
         "co_applicant_ethnicity_name_Information not provided by applicant in mail, Internet, or telephone application": "0",
         "co_applicant_ethnicity_name_No co-applicant": "0",
         "co_applicant_ethnicity_name_Not Hispanic or Latino": "1",
         "co_applicant_ethnicity_name_Not applicable": "0",
         "applicant_ethnicity_name_Hispanic or Latino": "0",
         "applicant_ethnicity_name_Information not provided by applicant in mail, Internet, or telephone application": "0",
         "applicant_ethnicity_name_Not Hispanic or Latino": "1",
         "applicant_ethnicity_name_Not applicable": "0",
         "applicant_sex_name_Female": "1",
         "applicant_sex_name_Information not provided by applicant in mail, Internet, or telephone application": "0",
         "applicant_sex_name_Male": "0",
         "applicant_sex_name_Not applicable": "0",
         "owner_occupancy_name_Not applicable": "0",
         "owner_occupancy_name_Not owner-occupied as a principal dwelling": "0",
         "owner_occupancy_name_Owner-occupied as a principal dwelling": "1",
         "_deepnote_index_column": "0"
        },
        {
         "tract_to_msamd_income": "83.37000275",
         "rate_spread": "0.0",
         "population": "4915.0",
         "minority_population": "23.98999977",
         "number_of_owner_occupied_units": "1268.0",
         "number_of_1_to_4_family_units": "1777.0",
         "loan_amount_000s": "240",
         "hud_median_family_income": "57900.0",
         "applicant_income_000s": "42.0",
         "census_tract_number": "9208.01",
         "as_of_year": "2016",
         "application_date_indicator": "0",
         "loan_approved": "True",
         "applicant_race_name_1_American Indian or Alaska Native": "0",
         "applicant_race_name_1_Asian": "0",
         "applicant_race_name_1_Black or African American": "0",
         "applicant_race_name_1_Information not provided by applicant in mail, Internet, or telephone application": "0",
         "applicant_race_name_1_Native Hawaiian or Other Pacific Islander": "0",
         "applicant_race_name_1_Not applicable": "0",
         "applicant_race_name_1_White": "1",
         "co_applicant_race_name_3_0": "1",
         "co_applicant_race_name_3_Black or African American": "0",
         "co_applicant_race_name_3_Native Hawaiian or Other Pacific Islander": "0",
         "co_applicant_race_name_3_White": "0",
         "county_name_0": "0",
         "county_name_Adams County": "0",
         "county_name_Asotin County": "0",
         "county_name_Benton County": "0",
         "county_name_Chelan County": "0",
         "county_name_Clallam County": "0",
         "county_name_Clark County": "0",
         "county_name_Columbia County": "0",
         "county_name_Cowlitz County": "0",
         "county_name_Douglas County": "0",
         "county_name_Ferry County": "0",
         "county_name_Franklin County": "0",
         "county_name_Garfield County": "0",
         "county_name_Grant County": "0",
         "county_name_Grays Harbor County": "0",
         "county_name_Island County": "0",
         "county_name_Jefferson County": "0",
         "county_name_King County": "0",
         "county_name_Kitsap County": "0",
         "county_name_Kittitas County": "0",
         "county_name_Klickitat County": "0",
         "county_name_Lewis County": "0",
         "county_name_Lincoln County": "0",
         "county_name_Mason County": "0",
         "county_name_Okanogan County": "0",
         "county_name_Pacific County": "0",
         "county_name_Pend Oreille County": "0",
         "county_name_Pierce County": "0",
         "county_name_San Juan County": "0",
         "county_name_Skagit County": "0",
         "county_name_Skamania County": "0",
         "county_name_Snohomish County": "0",
         "county_name_Spokane County": "0",
         "county_name_Stevens County": "0",
         "county_name_Thurston County": "0",
         "county_name_Wahkiakum County": "0",
         "county_name_Walla Walla County": "1",
         "county_name_Whatcom County": "0",
         "county_name_Whitman County": "0",
         "county_name_Yakima County": "0",
         "edit_status_name_0": "1",
         "edit_status_name_Quality edit failure only": "0",
         "msamd_name_0": "0",
         "msamd_name_Bellingham - WA": "0",
         "msamd_name_Bremerton, Silverdale - WA": "0",
         "msamd_name_Kennewick, Richland - WA": "0",
         "msamd_name_Lewiston - ID, WA": "0",
         "msamd_name_Longview - WA": "0",
         "msamd_name_Mount Vernon, Anacortes - WA": "0",
         "msamd_name_Olympia, Tumwater - WA": "0",
         "msamd_name_Portland, Vancouver, Hillsboro - OR, WA": "0",
         "msamd_name_Seattle, Bellevue, Everett - WA": "0",
         "msamd_name_Spokane, Spokane Valley - WA": "0",
         "msamd_name_Tacoma, Lakewood - WA": "0",
         "msamd_name_Walla Walla - WA": "1",
         "msamd_name_Wenatchee - WA": "0",
         "msamd_name_Yakima - WA": "0",
         "agency_name_Consumer Financial Protection Bureau": "0",
         "agency_name_Department of Housing and Urban Development": "1",
         "agency_name_Federal Deposit Insurance Corporation": "0",
         "agency_name_Federal Reserve System": "0",
         "agency_name_National Credit Union Administration": "0",
         "agency_name_Office of the Comptroller of the Currency": "0",
         "applicant_race_name_4_0": "1",
         "applicant_race_name_4_Asian": "0",
         "applicant_race_name_4_Black or African American": "0",
         "applicant_race_name_4_Native Hawaiian or Other Pacific Islander": "0",
         "applicant_race_name_4_White": "0",
         "property_type_name_Manufactured housing": "0",
         "property_type_name_Multifamily dwelling": "0",
         "property_type_name_One-to-four family dwelling (other than manufactured housing)": "1",
         "co_applicant_race_name_4_0": "1",
         "co_applicant_race_name_4_Native Hawaiian or Other Pacific Islander": "0",
         "co_applicant_race_name_4_White": "0",
         "state_name_Washington": "1",
         "hoepa_status_name_HOEPA loan": "0",
         "hoepa_status_name_Not a HOEPA loan": "1",
         "applicant_race_name_2_0": "1",
         "applicant_race_name_2_American Indian or Alaska Native": "0",
         "applicant_race_name_2_Asian": "0",
         "applicant_race_name_2_Black or African American": "0",
         "applicant_race_name_2_Native Hawaiian or Other Pacific Islander": "0",
         "applicant_race_name_2_White": "0",
         "state_abbr_WA": "1",
         "lien_status_name_Not applicable": "0",
         "lien_status_name_Not secured by a lien": "0",
         "lien_status_name_Secured by a first lien": "1",
         "lien_status_name_Secured by a subordinate lien": "0",
         "co_applicant_race_name_5_0": "1",
         "co_applicant_race_name_5_White": "0",
         "co_applicant_race_name_1_American Indian or Alaska Native": "0",
         "co_applicant_race_name_1_Asian": "0",
         "co_applicant_race_name_1_Black or African American": "0",
         "co_applicant_race_name_1_Information not provided by applicant in mail, Internet, or telephone application": "0",
         "co_applicant_race_name_1_Native Hawaiian or Other Pacific Islander": "0",
         "co_applicant_race_name_1_No co-applicant": "1",
         "co_applicant_race_name_1_Not applicable": "0",
         "co_applicant_race_name_1_White": "0",
         "applicant_race_name_3_0": "1",
         "applicant_race_name_3_American Indian or Alaska Native": "0",
         "applicant_race_name_3_Asian": "0",
         "applicant_race_name_3_Black or African American": "0",
         "applicant_race_name_3_Native Hawaiian or Other Pacific Islander": "0",
         "applicant_race_name_3_White": "0",
         "co_applicant_race_name_2_0": "1",
         "co_applicant_race_name_2_American Indian or Alaska Native": "0",
         "co_applicant_race_name_2_Asian": "0",
         "co_applicant_race_name_2_Black or African American": "0",
         "co_applicant_race_name_2_Native Hawaiian or Other Pacific Islander": "0",
         "co_applicant_race_name_2_White": "0",
         "loan_type_name_Conventional": "0",
         "loan_type_name_FHA-insured": "1",
         "loan_type_name_FSA/RHS-guaranteed": "0",
         "loan_type_name_VA-guaranteed": "0",
         "co_applicant_sex_name_Female": "0",
         "co_applicant_sex_name_Information not provided by applicant in mail, Internet, or telephone application": "0",
         "co_applicant_sex_name_Male": "0",
         "co_applicant_sex_name_No co-applicant": "1",
         "co_applicant_sex_name_Not applicable": "0",
         "applicant_race_name_5_0": "1",
         "applicant_race_name_5_Asian": "0",
         "applicant_race_name_5_Black or African American": "0",
         "applicant_race_name_5_White": "0",
         "agency_abbr_CFPB": "0",
         "agency_abbr_FDIC": "0",
         "agency_abbr_FRS": "0",
         "agency_abbr_HUD": "1",
         "agency_abbr_NCUA": "0",
         "agency_abbr_OCC": "0",
         "loan_purpose_name_Home improvement": "0",
         "loan_purpose_name_Home purchase": "1",
         "loan_purpose_name_Refinancing": "0",
         "preapproval_name_Not applicable": "1",
         "preapproval_name_Preapproval was not requested": "0",
         "preapproval_name_Preapproval was requested": "0",
         "co_applicant_ethnicity_name_Hispanic or Latino": "0",
         "co_applicant_ethnicity_name_Information not provided by applicant in mail, Internet, or telephone application": "0",
         "co_applicant_ethnicity_name_No co-applicant": "1",
         "co_applicant_ethnicity_name_Not Hispanic or Latino": "0",
         "co_applicant_ethnicity_name_Not applicable": "0",
         "applicant_ethnicity_name_Hispanic or Latino": "1",
         "applicant_ethnicity_name_Information not provided by applicant in mail, Internet, or telephone application": "0",
         "applicant_ethnicity_name_Not Hispanic or Latino": "0",
         "applicant_ethnicity_name_Not applicable": "0",
         "applicant_sex_name_Female": "0",
         "applicant_sex_name_Information not provided by applicant in mail, Internet, or telephone application": "0",
         "applicant_sex_name_Male": "1",
         "applicant_sex_name_Not applicable": "0",
         "owner_occupancy_name_Not applicable": "0",
         "owner_occupancy_name_Not owner-occupied as a principal dwelling": "0",
         "owner_occupancy_name_Owner-occupied as a principal dwelling": "1",
         "_deepnote_index_column": "1"
        },
        {
         "tract_to_msamd_income": "91.12999725",
         "rate_spread": "0.0",
         "population": "5075.0",
         "minority_population": "11.81999969",
         "number_of_owner_occupied_units": "1136.0",
         "number_of_1_to_4_family_units": "1838.0",
         "loan_amount_000s": "241",
         "hud_median_family_income": "73300.0",
         "applicant_income_000s": "117.0",
         "census_tract_number": "414.0",
         "as_of_year": "2016",
         "application_date_indicator": "0",
         "loan_approved": "True",
         "applicant_race_name_1_American Indian or Alaska Native": "0",
         "applicant_race_name_1_Asian": "0",
         "applicant_race_name_1_Black or African American": "0",
         "applicant_race_name_1_Information not provided by applicant in mail, Internet, or telephone application": "0",
         "applicant_race_name_1_Native Hawaiian or Other Pacific Islander": "0",
         "applicant_race_name_1_Not applicable": "0",
         "applicant_race_name_1_White": "1",
         "co_applicant_race_name_3_0": "1",
         "co_applicant_race_name_3_Black or African American": "0",
         "co_applicant_race_name_3_Native Hawaiian or Other Pacific Islander": "0",
         "co_applicant_race_name_3_White": "0",
         "county_name_0": "0",
         "county_name_Adams County": "0",
         "county_name_Asotin County": "0",
         "county_name_Benton County": "0",
         "county_name_Chelan County": "0",
         "county_name_Clallam County": "0",
         "county_name_Clark County": "1",
         "county_name_Columbia County": "0",
         "county_name_Cowlitz County": "0",
         "county_name_Douglas County": "0",
         "county_name_Ferry County": "0",
         "county_name_Franklin County": "0",
         "county_name_Garfield County": "0",
         "county_name_Grant County": "0",
         "county_name_Grays Harbor County": "0",
         "county_name_Island County": "0",
         "county_name_Jefferson County": "0",
         "county_name_King County": "0",
         "county_name_Kitsap County": "0",
         "county_name_Kittitas County": "0",
         "county_name_Klickitat County": "0",
         "county_name_Lewis County": "0",
         "county_name_Lincoln County": "0",
         "county_name_Mason County": "0",
         "county_name_Okanogan County": "0",
         "county_name_Pacific County": "0",
         "county_name_Pend Oreille County": "0",
         "county_name_Pierce County": "0",
         "county_name_San Juan County": "0",
         "county_name_Skagit County": "0",
         "county_name_Skamania County": "0",
         "county_name_Snohomish County": "0",
         "county_name_Spokane County": "0",
         "county_name_Stevens County": "0",
         "county_name_Thurston County": "0",
         "county_name_Wahkiakum County": "0",
         "county_name_Walla Walla County": "0",
         "county_name_Whatcom County": "0",
         "county_name_Whitman County": "0",
         "county_name_Yakima County": "0",
         "edit_status_name_0": "1",
         "edit_status_name_Quality edit failure only": "0",
         "msamd_name_0": "0",
         "msamd_name_Bellingham - WA": "0",
         "msamd_name_Bremerton, Silverdale - WA": "0",
         "msamd_name_Kennewick, Richland - WA": "0",
         "msamd_name_Lewiston - ID, WA": "0",
         "msamd_name_Longview - WA": "0",
         "msamd_name_Mount Vernon, Anacortes - WA": "0",
         "msamd_name_Olympia, Tumwater - WA": "0",
         "msamd_name_Portland, Vancouver, Hillsboro - OR, WA": "1",
         "msamd_name_Seattle, Bellevue, Everett - WA": "0",
         "msamd_name_Spokane, Spokane Valley - WA": "0",
         "msamd_name_Tacoma, Lakewood - WA": "0",
         "msamd_name_Walla Walla - WA": "0",
         "msamd_name_Wenatchee - WA": "0",
         "msamd_name_Yakima - WA": "0",
         "agency_name_Consumer Financial Protection Bureau": "0",
         "agency_name_Department of Housing and Urban Development": "1",
         "agency_name_Federal Deposit Insurance Corporation": "0",
         "agency_name_Federal Reserve System": "0",
         "agency_name_National Credit Union Administration": "0",
         "agency_name_Office of the Comptroller of the Currency": "0",
         "applicant_race_name_4_0": "1",
         "applicant_race_name_4_Asian": "0",
         "applicant_race_name_4_Black or African American": "0",
         "applicant_race_name_4_Native Hawaiian or Other Pacific Islander": "0",
         "applicant_race_name_4_White": "0",
         "property_type_name_Manufactured housing": "0",
         "property_type_name_Multifamily dwelling": "0",
         "property_type_name_One-to-four family dwelling (other than manufactured housing)": "1",
         "co_applicant_race_name_4_0": "1",
         "co_applicant_race_name_4_Native Hawaiian or Other Pacific Islander": "0",
         "co_applicant_race_name_4_White": "0",
         "state_name_Washington": "1",
         "hoepa_status_name_HOEPA loan": "0",
         "hoepa_status_name_Not a HOEPA loan": "1",
         "applicant_race_name_2_0": "1",
         "applicant_race_name_2_American Indian or Alaska Native": "0",
         "applicant_race_name_2_Asian": "0",
         "applicant_race_name_2_Black or African American": "0",
         "applicant_race_name_2_Native Hawaiian or Other Pacific Islander": "0",
         "applicant_race_name_2_White": "0",
         "state_abbr_WA": "1",
         "lien_status_name_Not applicable": "0",
         "lien_status_name_Not secured by a lien": "0",
         "lien_status_name_Secured by a first lien": "1",
         "lien_status_name_Secured by a subordinate lien": "0",
         "co_applicant_race_name_5_0": "1",
         "co_applicant_race_name_5_White": "0",
         "co_applicant_race_name_1_American Indian or Alaska Native": "0",
         "co_applicant_race_name_1_Asian": "0",
         "co_applicant_race_name_1_Black or African American": "0",
         "co_applicant_race_name_1_Information not provided by applicant in mail, Internet, or telephone application": "0",
         "co_applicant_race_name_1_Native Hawaiian or Other Pacific Islander": "0",
         "co_applicant_race_name_1_No co-applicant": "0",
         "co_applicant_race_name_1_Not applicable": "0",
         "co_applicant_race_name_1_White": "1",
         "applicant_race_name_3_0": "1",
         "applicant_race_name_3_American Indian or Alaska Native": "0",
         "applicant_race_name_3_Asian": "0",
         "applicant_race_name_3_Black or African American": "0",
         "applicant_race_name_3_Native Hawaiian or Other Pacific Islander": "0",
         "applicant_race_name_3_White": "0",
         "co_applicant_race_name_2_0": "1",
         "co_applicant_race_name_2_American Indian or Alaska Native": "0",
         "co_applicant_race_name_2_Asian": "0",
         "co_applicant_race_name_2_Black or African American": "0",
         "co_applicant_race_name_2_Native Hawaiian or Other Pacific Islander": "0",
         "co_applicant_race_name_2_White": "0",
         "loan_type_name_Conventional": "1",
         "loan_type_name_FHA-insured": "0",
         "loan_type_name_FSA/RHS-guaranteed": "0",
         "loan_type_name_VA-guaranteed": "0",
         "co_applicant_sex_name_Female": "1",
         "co_applicant_sex_name_Information not provided by applicant in mail, Internet, or telephone application": "0",
         "co_applicant_sex_name_Male": "0",
         "co_applicant_sex_name_No co-applicant": "0",
         "co_applicant_sex_name_Not applicable": "0",
         "applicant_race_name_5_0": "1",
         "applicant_race_name_5_Asian": "0",
         "applicant_race_name_5_Black or African American": "0",
         "applicant_race_name_5_White": "0",
         "agency_abbr_CFPB": "0",
         "agency_abbr_FDIC": "0",
         "agency_abbr_FRS": "0",
         "agency_abbr_HUD": "1",
         "agency_abbr_NCUA": "0",
         "agency_abbr_OCC": "0",
         "loan_purpose_name_Home improvement": "0",
         "loan_purpose_name_Home purchase": "0",
         "loan_purpose_name_Refinancing": "1",
         "preapproval_name_Not applicable": "1",
         "preapproval_name_Preapproval was not requested": "0",
         "preapproval_name_Preapproval was requested": "0",
         "co_applicant_ethnicity_name_Hispanic or Latino": "0",
         "co_applicant_ethnicity_name_Information not provided by applicant in mail, Internet, or telephone application": "0",
         "co_applicant_ethnicity_name_No co-applicant": "0",
         "co_applicant_ethnicity_name_Not Hispanic or Latino": "1",
         "co_applicant_ethnicity_name_Not applicable": "0",
         "applicant_ethnicity_name_Hispanic or Latino": "0",
         "applicant_ethnicity_name_Information not provided by applicant in mail, Internet, or telephone application": "0",
         "applicant_ethnicity_name_Not Hispanic or Latino": "1",
         "applicant_ethnicity_name_Not applicable": "0",
         "applicant_sex_name_Female": "0",
         "applicant_sex_name_Information not provided by applicant in mail, Internet, or telephone application": "0",
         "applicant_sex_name_Male": "1",
         "applicant_sex_name_Not applicable": "0",
         "owner_occupancy_name_Not applicable": "0",
         "owner_occupancy_name_Not owner-occupied as a principal dwelling": "0",
         "owner_occupancy_name_Owner-occupied as a principal dwelling": "1",
         "_deepnote_index_column": "2"
        },
        {
         "tract_to_msamd_income": "146.1699982",
         "rate_spread": "0.0",
         "population": "5032.0",
         "minority_population": "8.590000153",
         "number_of_owner_occupied_units": "1525.0",
         "number_of_1_to_4_family_units": "1820.0",
         "loan_amount_000s": "351",
         "hud_median_family_income": "73300.0",
         "applicant_income_000s": "315.0",
         "census_tract_number": "405.1",
         "as_of_year": "2016",
         "application_date_indicator": "0",
         "loan_approved": "True",
         "applicant_race_name_1_American Indian or Alaska Native": "0",
         "applicant_race_name_1_Asian": "0",
         "applicant_race_name_1_Black or African American": "0",
         "applicant_race_name_1_Information not provided by applicant in mail, Internet, or telephone application": "1",
         "applicant_race_name_1_Native Hawaiian or Other Pacific Islander": "0",
         "applicant_race_name_1_Not applicable": "0",
         "applicant_race_name_1_White": "0",
         "co_applicant_race_name_3_0": "1",
         "co_applicant_race_name_3_Black or African American": "0",
         "co_applicant_race_name_3_Native Hawaiian or Other Pacific Islander": "0",
         "co_applicant_race_name_3_White": "0",
         "county_name_0": "0",
         "county_name_Adams County": "0",
         "county_name_Asotin County": "0",
         "county_name_Benton County": "0",
         "county_name_Chelan County": "0",
         "county_name_Clallam County": "0",
         "county_name_Clark County": "1",
         "county_name_Columbia County": "0",
         "county_name_Cowlitz County": "0",
         "county_name_Douglas County": "0",
         "county_name_Ferry County": "0",
         "county_name_Franklin County": "0",
         "county_name_Garfield County": "0",
         "county_name_Grant County": "0",
         "county_name_Grays Harbor County": "0",
         "county_name_Island County": "0",
         "county_name_Jefferson County": "0",
         "county_name_King County": "0",
         "county_name_Kitsap County": "0",
         "county_name_Kittitas County": "0",
         "county_name_Klickitat County": "0",
         "county_name_Lewis County": "0",
         "county_name_Lincoln County": "0",
         "county_name_Mason County": "0",
         "county_name_Okanogan County": "0",
         "county_name_Pacific County": "0",
         "county_name_Pend Oreille County": "0",
         "county_name_Pierce County": "0",
         "county_name_San Juan County": "0",
         "county_name_Skagit County": "0",
         "county_name_Skamania County": "0",
         "county_name_Snohomish County": "0",
         "county_name_Spokane County": "0",
         "county_name_Stevens County": "0",
         "county_name_Thurston County": "0",
         "county_name_Wahkiakum County": "0",
         "county_name_Walla Walla County": "0",
         "county_name_Whatcom County": "0",
         "county_name_Whitman County": "0",
         "county_name_Yakima County": "0",
         "edit_status_name_0": "1",
         "edit_status_name_Quality edit failure only": "0",
         "msamd_name_0": "0",
         "msamd_name_Bellingham - WA": "0",
         "msamd_name_Bremerton, Silverdale - WA": "0",
         "msamd_name_Kennewick, Richland - WA": "0",
         "msamd_name_Lewiston - ID, WA": "0",
         "msamd_name_Longview - WA": "0",
         "msamd_name_Mount Vernon, Anacortes - WA": "0",
         "msamd_name_Olympia, Tumwater - WA": "0",
         "msamd_name_Portland, Vancouver, Hillsboro - OR, WA": "1",
         "msamd_name_Seattle, Bellevue, Everett - WA": "0",
         "msamd_name_Spokane, Spokane Valley - WA": "0",
         "msamd_name_Tacoma, Lakewood - WA": "0",
         "msamd_name_Walla Walla - WA": "0",
         "msamd_name_Wenatchee - WA": "0",
         "msamd_name_Yakima - WA": "0",
         "agency_name_Consumer Financial Protection Bureau": "0",
         "agency_name_Department of Housing and Urban Development": "0",
         "agency_name_Federal Deposit Insurance Corporation": "0",
         "agency_name_Federal Reserve System": "0",
         "agency_name_National Credit Union Administration": "1",
         "agency_name_Office of the Comptroller of the Currency": "0",
         "applicant_race_name_4_0": "1",
         "applicant_race_name_4_Asian": "0",
         "applicant_race_name_4_Black or African American": "0",
         "applicant_race_name_4_Native Hawaiian or Other Pacific Islander": "0",
         "applicant_race_name_4_White": "0",
         "property_type_name_Manufactured housing": "0",
         "property_type_name_Multifamily dwelling": "0",
         "property_type_name_One-to-four family dwelling (other than manufactured housing)": "1",
         "co_applicant_race_name_4_0": "1",
         "co_applicant_race_name_4_Native Hawaiian or Other Pacific Islander": "0",
         "co_applicant_race_name_4_White": "0",
         "state_name_Washington": "1",
         "hoepa_status_name_HOEPA loan": "0",
         "hoepa_status_name_Not a HOEPA loan": "1",
         "applicant_race_name_2_0": "1",
         "applicant_race_name_2_American Indian or Alaska Native": "0",
         "applicant_race_name_2_Asian": "0",
         "applicant_race_name_2_Black or African American": "0",
         "applicant_race_name_2_Native Hawaiian or Other Pacific Islander": "0",
         "applicant_race_name_2_White": "0",
         "state_abbr_WA": "1",
         "lien_status_name_Not applicable": "0",
         "lien_status_name_Not secured by a lien": "0",
         "lien_status_name_Secured by a first lien": "1",
         "lien_status_name_Secured by a subordinate lien": "0",
         "co_applicant_race_name_5_0": "1",
         "co_applicant_race_name_5_White": "0",
         "co_applicant_race_name_1_American Indian or Alaska Native": "0",
         "co_applicant_race_name_1_Asian": "0",
         "co_applicant_race_name_1_Black or African American": "0",
         "co_applicant_race_name_1_Information not provided by applicant in mail, Internet, or telephone application": "1",
         "co_applicant_race_name_1_Native Hawaiian or Other Pacific Islander": "0",
         "co_applicant_race_name_1_No co-applicant": "0",
         "co_applicant_race_name_1_Not applicable": "0",
         "co_applicant_race_name_1_White": "0",
         "applicant_race_name_3_0": "1",
         "applicant_race_name_3_American Indian or Alaska Native": "0",
         "applicant_race_name_3_Asian": "0",
         "applicant_race_name_3_Black or African American": "0",
         "applicant_race_name_3_Native Hawaiian or Other Pacific Islander": "0",
         "applicant_race_name_3_White": "0",
         "co_applicant_race_name_2_0": "1",
         "co_applicant_race_name_2_American Indian or Alaska Native": "0",
         "co_applicant_race_name_2_Asian": "0",
         "co_applicant_race_name_2_Black or African American": "0",
         "co_applicant_race_name_2_Native Hawaiian or Other Pacific Islander": "0",
         "co_applicant_race_name_2_White": "0",
         "loan_type_name_Conventional": "1",
         "loan_type_name_FHA-insured": "0",
         "loan_type_name_FSA/RHS-guaranteed": "0",
         "loan_type_name_VA-guaranteed": "0",
         "co_applicant_sex_name_Female": "1",
         "co_applicant_sex_name_Information not provided by applicant in mail, Internet, or telephone application": "0",
         "co_applicant_sex_name_Male": "0",
         "co_applicant_sex_name_No co-applicant": "0",
         "co_applicant_sex_name_Not applicable": "0",
         "applicant_race_name_5_0": "1",
         "applicant_race_name_5_Asian": "0",
         "applicant_race_name_5_Black or African American": "0",
         "applicant_race_name_5_White": "0",
         "agency_abbr_CFPB": "0",
         "agency_abbr_FDIC": "0",
         "agency_abbr_FRS": "0",
         "agency_abbr_HUD": "0",
         "agency_abbr_NCUA": "1",
         "agency_abbr_OCC": "0",
         "loan_purpose_name_Home improvement": "0",
         "loan_purpose_name_Home purchase": "0",
         "loan_purpose_name_Refinancing": "1",
         "preapproval_name_Not applicable": "1",
         "preapproval_name_Preapproval was not requested": "0",
         "preapproval_name_Preapproval was requested": "0",
         "co_applicant_ethnicity_name_Hispanic or Latino": "0",
         "co_applicant_ethnicity_name_Information not provided by applicant in mail, Internet, or telephone application": "1",
         "co_applicant_ethnicity_name_No co-applicant": "0",
         "co_applicant_ethnicity_name_Not Hispanic or Latino": "0",
         "co_applicant_ethnicity_name_Not applicable": "0",
         "applicant_ethnicity_name_Hispanic or Latino": "0",
         "applicant_ethnicity_name_Information not provided by applicant in mail, Internet, or telephone application": "1",
         "applicant_ethnicity_name_Not Hispanic or Latino": "0",
         "applicant_ethnicity_name_Not applicable": "0",
         "applicant_sex_name_Female": "0",
         "applicant_sex_name_Information not provided by applicant in mail, Internet, or telephone application": "0",
         "applicant_sex_name_Male": "1",
         "applicant_sex_name_Not applicable": "0",
         "owner_occupancy_name_Not applicable": "0",
         "owner_occupancy_name_Not owner-occupied as a principal dwelling": "0",
         "owner_occupancy_name_Owner-occupied as a principal dwelling": "1",
         "_deepnote_index_column": "3"
        },
        {
         "tract_to_msamd_income": "162.4700012",
         "rate_spread": "0.0",
         "population": "5183.0",
         "minority_population": "10.5",
         "number_of_owner_occupied_units": "1705.0",
         "number_of_1_to_4_family_units": "2104.0",
         "loan_amount_000s": "417",
         "hud_median_family_income": "78100.0",
         "applicant_income_000s": "114.0",
         "census_tract_number": "907.0",
         "as_of_year": "2016",
         "application_date_indicator": "0",
         "loan_approved": "True",
         "applicant_race_name_1_American Indian or Alaska Native": "0",
         "applicant_race_name_1_Asian": "0",
         "applicant_race_name_1_Black or African American": "0",
         "applicant_race_name_1_Information not provided by applicant in mail, Internet, or telephone application": "0",
         "applicant_race_name_1_Native Hawaiian or Other Pacific Islander": "0",
         "applicant_race_name_1_Not applicable": "0",
         "applicant_race_name_1_White": "1",
         "co_applicant_race_name_3_0": "1",
         "co_applicant_race_name_3_Black or African American": "0",
         "co_applicant_race_name_3_Native Hawaiian or Other Pacific Islander": "0",
         "co_applicant_race_name_3_White": "0",
         "county_name_0": "0",
         "county_name_Adams County": "0",
         "county_name_Asotin County": "0",
         "county_name_Benton County": "0",
         "county_name_Chelan County": "0",
         "county_name_Clallam County": "0",
         "county_name_Clark County": "0",
         "county_name_Columbia County": "0",
         "county_name_Cowlitz County": "0",
         "county_name_Douglas County": "0",
         "county_name_Ferry County": "0",
         "county_name_Franklin County": "0",
         "county_name_Garfield County": "0",
         "county_name_Grant County": "0",
         "county_name_Grays Harbor County": "0",
         "county_name_Island County": "0",
         "county_name_Jefferson County": "0",
         "county_name_King County": "0",
         "county_name_Kitsap County": "1",
         "county_name_Kittitas County": "0",
         "county_name_Klickitat County": "0",
         "county_name_Lewis County": "0",
         "county_name_Lincoln County": "0",
         "county_name_Mason County": "0",
         "county_name_Okanogan County": "0",
         "county_name_Pacific County": "0",
         "county_name_Pend Oreille County": "0",
         "county_name_Pierce County": "0",
         "county_name_San Juan County": "0",
         "county_name_Skagit County": "0",
         "county_name_Skamania County": "0",
         "county_name_Snohomish County": "0",
         "county_name_Spokane County": "0",
         "county_name_Stevens County": "0",
         "county_name_Thurston County": "0",
         "county_name_Wahkiakum County": "0",
         "county_name_Walla Walla County": "0",
         "county_name_Whatcom County": "0",
         "county_name_Whitman County": "0",
         "county_name_Yakima County": "0",
         "edit_status_name_0": "1",
         "edit_status_name_Quality edit failure only": "0",
         "msamd_name_0": "0",
         "msamd_name_Bellingham - WA": "0",
         "msamd_name_Bremerton, Silverdale - WA": "1",
         "msamd_name_Kennewick, Richland - WA": "0",
         "msamd_name_Lewiston - ID, WA": "0",
         "msamd_name_Longview - WA": "0",
         "msamd_name_Mount Vernon, Anacortes - WA": "0",
         "msamd_name_Olympia, Tumwater - WA": "0",
         "msamd_name_Portland, Vancouver, Hillsboro - OR, WA": "0",
         "msamd_name_Seattle, Bellevue, Everett - WA": "0",
         "msamd_name_Spokane, Spokane Valley - WA": "0",
         "msamd_name_Tacoma, Lakewood - WA": "0",
         "msamd_name_Walla Walla - WA": "0",
         "msamd_name_Wenatchee - WA": "0",
         "msamd_name_Yakima - WA": "0",
         "agency_name_Consumer Financial Protection Bureau": "0",
         "agency_name_Department of Housing and Urban Development": "0",
         "agency_name_Federal Deposit Insurance Corporation": "1",
         "agency_name_Federal Reserve System": "0",
         "agency_name_National Credit Union Administration": "0",
         "agency_name_Office of the Comptroller of the Currency": "0",
         "applicant_race_name_4_0": "1",
         "applicant_race_name_4_Asian": "0",
         "applicant_race_name_4_Black or African American": "0",
         "applicant_race_name_4_Native Hawaiian or Other Pacific Islander": "0",
         "applicant_race_name_4_White": "0",
         "property_type_name_Manufactured housing": "0",
         "property_type_name_Multifamily dwelling": "0",
         "property_type_name_One-to-four family dwelling (other than manufactured housing)": "1",
         "co_applicant_race_name_4_0": "1",
         "co_applicant_race_name_4_Native Hawaiian or Other Pacific Islander": "0",
         "co_applicant_race_name_4_White": "0",
         "state_name_Washington": "1",
         "hoepa_status_name_HOEPA loan": "0",
         "hoepa_status_name_Not a HOEPA loan": "1",
         "applicant_race_name_2_0": "1",
         "applicant_race_name_2_American Indian or Alaska Native": "0",
         "applicant_race_name_2_Asian": "0",
         "applicant_race_name_2_Black or African American": "0",
         "applicant_race_name_2_Native Hawaiian or Other Pacific Islander": "0",
         "applicant_race_name_2_White": "0",
         "state_abbr_WA": "1",
         "lien_status_name_Not applicable": "0",
         "lien_status_name_Not secured by a lien": "0",
         "lien_status_name_Secured by a first lien": "1",
         "lien_status_name_Secured by a subordinate lien": "0",
         "co_applicant_race_name_5_0": "1",
         "co_applicant_race_name_5_White": "0",
         "co_applicant_race_name_1_American Indian or Alaska Native": "0",
         "co_applicant_race_name_1_Asian": "0",
         "co_applicant_race_name_1_Black or African American": "0",
         "co_applicant_race_name_1_Information not provided by applicant in mail, Internet, or telephone application": "0",
         "co_applicant_race_name_1_Native Hawaiian or Other Pacific Islander": "0",
         "co_applicant_race_name_1_No co-applicant": "0",
         "co_applicant_race_name_1_Not applicable": "0",
         "co_applicant_race_name_1_White": "1",
         "applicant_race_name_3_0": "1",
         "applicant_race_name_3_American Indian or Alaska Native": "0",
         "applicant_race_name_3_Asian": "0",
         "applicant_race_name_3_Black or African American": "0",
         "applicant_race_name_3_Native Hawaiian or Other Pacific Islander": "0",
         "applicant_race_name_3_White": "0",
         "co_applicant_race_name_2_0": "1",
         "co_applicant_race_name_2_American Indian or Alaska Native": "0",
         "co_applicant_race_name_2_Asian": "0",
         "co_applicant_race_name_2_Black or African American": "0",
         "co_applicant_race_name_2_Native Hawaiian or Other Pacific Islander": "0",
         "co_applicant_race_name_2_White": "0",
         "loan_type_name_Conventional": "1",
         "loan_type_name_FHA-insured": "0",
         "loan_type_name_FSA/RHS-guaranteed": "0",
         "loan_type_name_VA-guaranteed": "0",
         "co_applicant_sex_name_Female": "0",
         "co_applicant_sex_name_Information not provided by applicant in mail, Internet, or telephone application": "0",
         "co_applicant_sex_name_Male": "1",
         "co_applicant_sex_name_No co-applicant": "0",
         "co_applicant_sex_name_Not applicable": "0",
         "applicant_race_name_5_0": "1",
         "applicant_race_name_5_Asian": "0",
         "applicant_race_name_5_Black or African American": "0",
         "applicant_race_name_5_White": "0",
         "agency_abbr_CFPB": "0",
         "agency_abbr_FDIC": "1",
         "agency_abbr_FRS": "0",
         "agency_abbr_HUD": "0",
         "agency_abbr_NCUA": "0",
         "agency_abbr_OCC": "0",
         "loan_purpose_name_Home improvement": "1",
         "loan_purpose_name_Home purchase": "0",
         "loan_purpose_name_Refinancing": "0",
         "preapproval_name_Not applicable": "1",
         "preapproval_name_Preapproval was not requested": "0",
         "preapproval_name_Preapproval was requested": "0",
         "co_applicant_ethnicity_name_Hispanic or Latino": "0",
         "co_applicant_ethnicity_name_Information not provided by applicant in mail, Internet, or telephone application": "0",
         "co_applicant_ethnicity_name_No co-applicant": "0",
         "co_applicant_ethnicity_name_Not Hispanic or Latino": "1",
         "co_applicant_ethnicity_name_Not applicable": "0",
         "applicant_ethnicity_name_Hispanic or Latino": "0",
         "applicant_ethnicity_name_Information not provided by applicant in mail, Internet, or telephone application": "0",
         "applicant_ethnicity_name_Not Hispanic or Latino": "1",
         "applicant_ethnicity_name_Not applicable": "0",
         "applicant_sex_name_Female": "1",
         "applicant_sex_name_Information not provided by applicant in mail, Internet, or telephone application": "0",
         "applicant_sex_name_Male": "0",
         "applicant_sex_name_Not applicable": "0",
         "owner_occupancy_name_Not applicable": "0",
         "owner_occupancy_name_Not owner-occupied as a principal dwelling": "0",
         "owner_occupancy_name_Owner-occupied as a principal dwelling": "1",
         "_deepnote_index_column": "4"
        },
        {
         "tract_to_msamd_income": "119.6299973",
         "rate_spread": "0.0",
         "population": "4775.0",
         "minority_population": "18.88999939",
         "number_of_owner_occupied_units": "954.0",
         "number_of_1_to_4_family_units": "1332.0",
         "loan_amount_000s": "206",
         "hud_median_family_income": "72300.0",
         "applicant_income_000s": "0.0",
         "census_tract_number": "734.06",
         "as_of_year": "2016",
         "application_date_indicator": "0",
         "loan_approved": "True",
         "applicant_race_name_1_American Indian or Alaska Native": "0",
         "applicant_race_name_1_Asian": "0",
         "applicant_race_name_1_Black or African American": "0",
         "applicant_race_name_1_Information not provided by applicant in mail, Internet, or telephone application": "0",
         "applicant_race_name_1_Native Hawaiian or Other Pacific Islander": "0",
         "applicant_race_name_1_Not applicable": "0",
         "applicant_race_name_1_White": "1",
         "co_applicant_race_name_3_0": "1",
         "co_applicant_race_name_3_Black or African American": "0",
         "co_applicant_race_name_3_Native Hawaiian or Other Pacific Islander": "0",
         "co_applicant_race_name_3_White": "0",
         "county_name_0": "0",
         "county_name_Adams County": "0",
         "county_name_Asotin County": "0",
         "county_name_Benton County": "0",
         "county_name_Chelan County": "0",
         "county_name_Clallam County": "0",
         "county_name_Clark County": "0",
         "county_name_Columbia County": "0",
         "county_name_Cowlitz County": "0",
         "county_name_Douglas County": "0",
         "county_name_Ferry County": "0",
         "county_name_Franklin County": "0",
         "county_name_Garfield County": "0",
         "county_name_Grant County": "0",
         "county_name_Grays Harbor County": "0",
         "county_name_Island County": "0",
         "county_name_Jefferson County": "0",
         "county_name_King County": "0",
         "county_name_Kitsap County": "0",
         "county_name_Kittitas County": "0",
         "county_name_Klickitat County": "0",
         "county_name_Lewis County": "0",
         "county_name_Lincoln County": "0",
         "county_name_Mason County": "0",
         "county_name_Okanogan County": "0",
         "county_name_Pacific County": "0",
         "county_name_Pend Oreille County": "0",
         "county_name_Pierce County": "1",
         "county_name_San Juan County": "0",
         "county_name_Skagit County": "0",
         "county_name_Skamania County": "0",
         "county_name_Snohomish County": "0",
         "county_name_Spokane County": "0",
         "county_name_Stevens County": "0",
         "county_name_Thurston County": "0",
         "county_name_Wahkiakum County": "0",
         "county_name_Walla Walla County": "0",
         "county_name_Whatcom County": "0",
         "county_name_Whitman County": "0",
         "county_name_Yakima County": "0",
         "edit_status_name_0": "0",
         "edit_status_name_Quality edit failure only": "1",
         "msamd_name_0": "0",
         "msamd_name_Bellingham - WA": "0",
         "msamd_name_Bremerton, Silverdale - WA": "0",
         "msamd_name_Kennewick, Richland - WA": "0",
         "msamd_name_Lewiston - ID, WA": "0",
         "msamd_name_Longview - WA": "0",
         "msamd_name_Mount Vernon, Anacortes - WA": "0",
         "msamd_name_Olympia, Tumwater - WA": "0",
         "msamd_name_Portland, Vancouver, Hillsboro - OR, WA": "0",
         "msamd_name_Seattle, Bellevue, Everett - WA": "0",
         "msamd_name_Spokane, Spokane Valley - WA": "0",
         "msamd_name_Tacoma, Lakewood - WA": "1",
         "msamd_name_Walla Walla - WA": "0",
         "msamd_name_Wenatchee - WA": "0",
         "msamd_name_Yakima - WA": "0",
         "agency_name_Consumer Financial Protection Bureau": "0",
         "agency_name_Department of Housing and Urban Development": "0",
         "agency_name_Federal Deposit Insurance Corporation": "0",
         "agency_name_Federal Reserve System": "0",
         "agency_name_National Credit Union Administration": "0",
         "agency_name_Office of the Comptroller of the Currency": "1",
         "applicant_race_name_4_0": "1",
         "applicant_race_name_4_Asian": "0",
         "applicant_race_name_4_Black or African American": "0",
         "applicant_race_name_4_Native Hawaiian or Other Pacific Islander": "0",
         "applicant_race_name_4_White": "0",
         "property_type_name_Manufactured housing": "0",
         "property_type_name_Multifamily dwelling": "0",
         "property_type_name_One-to-four family dwelling (other than manufactured housing)": "1",
         "co_applicant_race_name_4_0": "1",
         "co_applicant_race_name_4_Native Hawaiian or Other Pacific Islander": "0",
         "co_applicant_race_name_4_White": "0",
         "state_name_Washington": "1",
         "hoepa_status_name_HOEPA loan": "0",
         "hoepa_status_name_Not a HOEPA loan": "1",
         "applicant_race_name_2_0": "1",
         "applicant_race_name_2_American Indian or Alaska Native": "0",
         "applicant_race_name_2_Asian": "0",
         "applicant_race_name_2_Black or African American": "0",
         "applicant_race_name_2_Native Hawaiian or Other Pacific Islander": "0",
         "applicant_race_name_2_White": "0",
         "state_abbr_WA": "1",
         "lien_status_name_Not applicable": "0",
         "lien_status_name_Not secured by a lien": "0",
         "lien_status_name_Secured by a first lien": "1",
         "lien_status_name_Secured by a subordinate lien": "0",
         "co_applicant_race_name_5_0": "1",
         "co_applicant_race_name_5_White": "0",
         "co_applicant_race_name_1_American Indian or Alaska Native": "0",
         "co_applicant_race_name_1_Asian": "0",
         "co_applicant_race_name_1_Black or African American": "0",
         "co_applicant_race_name_1_Information not provided by applicant in mail, Internet, or telephone application": "0",
         "co_applicant_race_name_1_Native Hawaiian or Other Pacific Islander": "0",
         "co_applicant_race_name_1_No co-applicant": "1",
         "co_applicant_race_name_1_Not applicable": "0",
         "co_applicant_race_name_1_White": "0",
         "applicant_race_name_3_0": "1",
         "applicant_race_name_3_American Indian or Alaska Native": "0",
         "applicant_race_name_3_Asian": "0",
         "applicant_race_name_3_Black or African American": "0",
         "applicant_race_name_3_Native Hawaiian or Other Pacific Islander": "0",
         "applicant_race_name_3_White": "0",
         "co_applicant_race_name_2_0": "1",
         "co_applicant_race_name_2_American Indian or Alaska Native": "0",
         "co_applicant_race_name_2_Asian": "0",
         "co_applicant_race_name_2_Black or African American": "0",
         "co_applicant_race_name_2_Native Hawaiian or Other Pacific Islander": "0",
         "co_applicant_race_name_2_White": "0",
         "loan_type_name_Conventional": "0",
         "loan_type_name_FHA-insured": "0",
         "loan_type_name_FSA/RHS-guaranteed": "0",
         "loan_type_name_VA-guaranteed": "1",
         "co_applicant_sex_name_Female": "0",
         "co_applicant_sex_name_Information not provided by applicant in mail, Internet, or telephone application": "0",
         "co_applicant_sex_name_Male": "0",
         "co_applicant_sex_name_No co-applicant": "1",
         "co_applicant_sex_name_Not applicable": "0",
         "applicant_race_name_5_0": "1",
         "applicant_race_name_5_Asian": "0",
         "applicant_race_name_5_Black or African American": "0",
         "applicant_race_name_5_White": "0",
         "agency_abbr_CFPB": "0",
         "agency_abbr_FDIC": "0",
         "agency_abbr_FRS": "0",
         "agency_abbr_HUD": "0",
         "agency_abbr_NCUA": "0",
         "agency_abbr_OCC": "1",
         "loan_purpose_name_Home improvement": "0",
         "loan_purpose_name_Home purchase": "0",
         "loan_purpose_name_Refinancing": "1",
         "preapproval_name_Not applicable": "1",
         "preapproval_name_Preapproval was not requested": "0",
         "preapproval_name_Preapproval was requested": "0",
         "co_applicant_ethnicity_name_Hispanic or Latino": "0",
         "co_applicant_ethnicity_name_Information not provided by applicant in mail, Internet, or telephone application": "0",
         "co_applicant_ethnicity_name_No co-applicant": "1",
         "co_applicant_ethnicity_name_Not Hispanic or Latino": "0",
         "co_applicant_ethnicity_name_Not applicable": "0",
         "applicant_ethnicity_name_Hispanic or Latino": "0",
         "applicant_ethnicity_name_Information not provided by applicant in mail, Internet, or telephone application": "0",
         "applicant_ethnicity_name_Not Hispanic or Latino": "1",
         "applicant_ethnicity_name_Not applicable": "0",
         "applicant_sex_name_Female": "0",
         "applicant_sex_name_Information not provided by applicant in mail, Internet, or telephone application": "0",
         "applicant_sex_name_Male": "1",
         "applicant_sex_name_Not applicable": "0",
         "owner_occupancy_name_Not applicable": "0",
         "owner_occupancy_name_Not owner-occupied as a principal dwelling": "0",
         "owner_occupancy_name_Owner-occupied as a principal dwelling": "1",
         "_deepnote_index_column": "5"
        },
        {
         "tract_to_msamd_income": "103.2099991",
         "rate_spread": "0.0",
         "population": "4745.0",
         "minority_population": "33.06999969",
         "number_of_owner_occupied_units": "1337.0",
         "number_of_1_to_4_family_units": "1442.0",
         "loan_amount_000s": "356",
         "hud_median_family_income": "90300.0",
         "applicant_income_000s": "0.0",
         "census_tract_number": "519.23",
         "as_of_year": "2016",
         "application_date_indicator": "0",
         "loan_approved": "True",
         "applicant_race_name_1_American Indian or Alaska Native": "0",
         "applicant_race_name_1_Asian": "0",
         "applicant_race_name_1_Black or African American": "0",
         "applicant_race_name_1_Information not provided by applicant in mail, Internet, or telephone application": "0",
         "applicant_race_name_1_Native Hawaiian or Other Pacific Islander": "0",
         "applicant_race_name_1_Not applicable": "0",
         "applicant_race_name_1_White": "1",
         "co_applicant_race_name_3_0": "1",
         "co_applicant_race_name_3_Black or African American": "0",
         "co_applicant_race_name_3_Native Hawaiian or Other Pacific Islander": "0",
         "co_applicant_race_name_3_White": "0",
         "county_name_0": "0",
         "county_name_Adams County": "0",
         "county_name_Asotin County": "0",
         "county_name_Benton County": "0",
         "county_name_Chelan County": "0",
         "county_name_Clallam County": "0",
         "county_name_Clark County": "0",
         "county_name_Columbia County": "0",
         "county_name_Cowlitz County": "0",
         "county_name_Douglas County": "0",
         "county_name_Ferry County": "0",
         "county_name_Franklin County": "0",
         "county_name_Garfield County": "0",
         "county_name_Grant County": "0",
         "county_name_Grays Harbor County": "0",
         "county_name_Island County": "0",
         "county_name_Jefferson County": "0",
         "county_name_King County": "0",
         "county_name_Kitsap County": "0",
         "county_name_Kittitas County": "0",
         "county_name_Klickitat County": "0",
         "county_name_Lewis County": "0",
         "county_name_Lincoln County": "0",
         "county_name_Mason County": "0",
         "county_name_Okanogan County": "0",
         "county_name_Pacific County": "0",
         "county_name_Pend Oreille County": "0",
         "county_name_Pierce County": "0",
         "county_name_San Juan County": "0",
         "county_name_Skagit County": "0",
         "county_name_Skamania County": "0",
         "county_name_Snohomish County": "1",
         "county_name_Spokane County": "0",
         "county_name_Stevens County": "0",
         "county_name_Thurston County": "0",
         "county_name_Wahkiakum County": "0",
         "county_name_Walla Walla County": "0",
         "county_name_Whatcom County": "0",
         "county_name_Whitman County": "0",
         "county_name_Yakima County": "0",
         "edit_status_name_0": "0",
         "edit_status_name_Quality edit failure only": "1",
         "msamd_name_0": "0",
         "msamd_name_Bellingham - WA": "0",
         "msamd_name_Bremerton, Silverdale - WA": "0",
         "msamd_name_Kennewick, Richland - WA": "0",
         "msamd_name_Lewiston - ID, WA": "0",
         "msamd_name_Longview - WA": "0",
         "msamd_name_Mount Vernon, Anacortes - WA": "0",
         "msamd_name_Olympia, Tumwater - WA": "0",
         "msamd_name_Portland, Vancouver, Hillsboro - OR, WA": "0",
         "msamd_name_Seattle, Bellevue, Everett - WA": "1",
         "msamd_name_Spokane, Spokane Valley - WA": "0",
         "msamd_name_Tacoma, Lakewood - WA": "0",
         "msamd_name_Walla Walla - WA": "0",
         "msamd_name_Wenatchee - WA": "0",
         "msamd_name_Yakima - WA": "0",
         "agency_name_Consumer Financial Protection Bureau": "0",
         "agency_name_Department of Housing and Urban Development": "1",
         "agency_name_Federal Deposit Insurance Corporation": "0",
         "agency_name_Federal Reserve System": "0",
         "agency_name_National Credit Union Administration": "0",
         "agency_name_Office of the Comptroller of the Currency": "0",
         "applicant_race_name_4_0": "1",
         "applicant_race_name_4_Asian": "0",
         "applicant_race_name_4_Black or African American": "0",
         "applicant_race_name_4_Native Hawaiian or Other Pacific Islander": "0",
         "applicant_race_name_4_White": "0",
         "property_type_name_Manufactured housing": "0",
         "property_type_name_Multifamily dwelling": "0",
         "property_type_name_One-to-four family dwelling (other than manufactured housing)": "1",
         "co_applicant_race_name_4_0": "1",
         "co_applicant_race_name_4_Native Hawaiian or Other Pacific Islander": "0",
         "co_applicant_race_name_4_White": "0",
         "state_name_Washington": "1",
         "hoepa_status_name_HOEPA loan": "0",
         "hoepa_status_name_Not a HOEPA loan": "1",
         "applicant_race_name_2_0": "1",
         "applicant_race_name_2_American Indian or Alaska Native": "0",
         "applicant_race_name_2_Asian": "0",
         "applicant_race_name_2_Black or African American": "0",
         "applicant_race_name_2_Native Hawaiian or Other Pacific Islander": "0",
         "applicant_race_name_2_White": "0",
         "state_abbr_WA": "1",
         "lien_status_name_Not applicable": "0",
         "lien_status_name_Not secured by a lien": "0",
         "lien_status_name_Secured by a first lien": "1",
         "lien_status_name_Secured by a subordinate lien": "0",
         "co_applicant_race_name_5_0": "1",
         "co_applicant_race_name_5_White": "0",
         "co_applicant_race_name_1_American Indian or Alaska Native": "0",
         "co_applicant_race_name_1_Asian": "0",
         "co_applicant_race_name_1_Black or African American": "0",
         "co_applicant_race_name_1_Information not provided by applicant in mail, Internet, or telephone application": "0",
         "co_applicant_race_name_1_Native Hawaiian or Other Pacific Islander": "0",
         "co_applicant_race_name_1_No co-applicant": "1",
         "co_applicant_race_name_1_Not applicable": "0",
         "co_applicant_race_name_1_White": "0",
         "applicant_race_name_3_0": "1",
         "applicant_race_name_3_American Indian or Alaska Native": "0",
         "applicant_race_name_3_Asian": "0",
         "applicant_race_name_3_Black or African American": "0",
         "applicant_race_name_3_Native Hawaiian or Other Pacific Islander": "0",
         "applicant_race_name_3_White": "0",
         "co_applicant_race_name_2_0": "1",
         "co_applicant_race_name_2_American Indian or Alaska Native": "0",
         "co_applicant_race_name_2_Asian": "0",
         "co_applicant_race_name_2_Black or African American": "0",
         "co_applicant_race_name_2_Native Hawaiian or Other Pacific Islander": "0",
         "co_applicant_race_name_2_White": "0",
         "loan_type_name_Conventional": "0",
         "loan_type_name_FHA-insured": "0",
         "loan_type_name_FSA/RHS-guaranteed": "0",
         "loan_type_name_VA-guaranteed": "1",
         "co_applicant_sex_name_Female": "0",
         "co_applicant_sex_name_Information not provided by applicant in mail, Internet, or telephone application": "0",
         "co_applicant_sex_name_Male": "0",
         "co_applicant_sex_name_No co-applicant": "1",
         "co_applicant_sex_name_Not applicable": "0",
         "applicant_race_name_5_0": "1",
         "applicant_race_name_5_Asian": "0",
         "applicant_race_name_5_Black or African American": "0",
         "applicant_race_name_5_White": "0",
         "agency_abbr_CFPB": "0",
         "agency_abbr_FDIC": "0",
         "agency_abbr_FRS": "0",
         "agency_abbr_HUD": "1",
         "agency_abbr_NCUA": "0",
         "agency_abbr_OCC": "0",
         "loan_purpose_name_Home improvement": "0",
         "loan_purpose_name_Home purchase": "0",
         "loan_purpose_name_Refinancing": "1",
         "preapproval_name_Not applicable": "1",
         "preapproval_name_Preapproval was not requested": "0",
         "preapproval_name_Preapproval was requested": "0",
         "co_applicant_ethnicity_name_Hispanic or Latino": "0",
         "co_applicant_ethnicity_name_Information not provided by applicant in mail, Internet, or telephone application": "0",
         "co_applicant_ethnicity_name_No co-applicant": "1",
         "co_applicant_ethnicity_name_Not Hispanic or Latino": "0",
         "co_applicant_ethnicity_name_Not applicable": "0",
         "applicant_ethnicity_name_Hispanic or Latino": "0",
         "applicant_ethnicity_name_Information not provided by applicant in mail, Internet, or telephone application": "0",
         "applicant_ethnicity_name_Not Hispanic or Latino": "1",
         "applicant_ethnicity_name_Not applicable": "0",
         "applicant_sex_name_Female": "0",
         "applicant_sex_name_Information not provided by applicant in mail, Internet, or telephone application": "0",
         "applicant_sex_name_Male": "1",
         "applicant_sex_name_Not applicable": "0",
         "owner_occupancy_name_Not applicable": "0",
         "owner_occupancy_name_Not owner-occupied as a principal dwelling": "0",
         "owner_occupancy_name_Owner-occupied as a principal dwelling": "1",
         "_deepnote_index_column": "6"
        },
        {
         "tract_to_msamd_income": "93.76999664",
         "rate_spread": "0.0",
         "population": "7451.0",
         "minority_population": "33.40000153",
         "number_of_owner_occupied_units": "1761.0",
         "number_of_1_to_4_family_units": "2478.0",
         "loan_amount_000s": "265",
         "hud_median_family_income": "72300.0",
         "applicant_income_000s": "0.0",
         "census_tract_number": "731.08",
         "as_of_year": "2016",
         "application_date_indicator": "0",
         "loan_approved": "True",
         "applicant_race_name_1_American Indian or Alaska Native": "0",
         "applicant_race_name_1_Asian": "0",
         "applicant_race_name_1_Black or African American": "0",
         "applicant_race_name_1_Information not provided by applicant in mail, Internet, or telephone application": "0",
         "applicant_race_name_1_Native Hawaiian or Other Pacific Islander": "0",
         "applicant_race_name_1_Not applicable": "0",
         "applicant_race_name_1_White": "1",
         "co_applicant_race_name_3_0": "1",
         "co_applicant_race_name_3_Black or African American": "0",
         "co_applicant_race_name_3_Native Hawaiian or Other Pacific Islander": "0",
         "co_applicant_race_name_3_White": "0",
         "county_name_0": "0",
         "county_name_Adams County": "0",
         "county_name_Asotin County": "0",
         "county_name_Benton County": "0",
         "county_name_Chelan County": "0",
         "county_name_Clallam County": "0",
         "county_name_Clark County": "0",
         "county_name_Columbia County": "0",
         "county_name_Cowlitz County": "0",
         "county_name_Douglas County": "0",
         "county_name_Ferry County": "0",
         "county_name_Franklin County": "0",
         "county_name_Garfield County": "0",
         "county_name_Grant County": "0",
         "county_name_Grays Harbor County": "0",
         "county_name_Island County": "0",
         "county_name_Jefferson County": "0",
         "county_name_King County": "0",
         "county_name_Kitsap County": "0",
         "county_name_Kittitas County": "0",
         "county_name_Klickitat County": "0",
         "county_name_Lewis County": "0",
         "county_name_Lincoln County": "0",
         "county_name_Mason County": "0",
         "county_name_Okanogan County": "0",
         "county_name_Pacific County": "0",
         "county_name_Pend Oreille County": "0",
         "county_name_Pierce County": "1",
         "county_name_San Juan County": "0",
         "county_name_Skagit County": "0",
         "county_name_Skamania County": "0",
         "county_name_Snohomish County": "0",
         "county_name_Spokane County": "0",
         "county_name_Stevens County": "0",
         "county_name_Thurston County": "0",
         "county_name_Wahkiakum County": "0",
         "county_name_Walla Walla County": "0",
         "county_name_Whatcom County": "0",
         "county_name_Whitman County": "0",
         "county_name_Yakima County": "0",
         "edit_status_name_0": "0",
         "edit_status_name_Quality edit failure only": "1",
         "msamd_name_0": "0",
         "msamd_name_Bellingham - WA": "0",
         "msamd_name_Bremerton, Silverdale - WA": "0",
         "msamd_name_Kennewick, Richland - WA": "0",
         "msamd_name_Lewiston - ID, WA": "0",
         "msamd_name_Longview - WA": "0",
         "msamd_name_Mount Vernon, Anacortes - WA": "0",
         "msamd_name_Olympia, Tumwater - WA": "0",
         "msamd_name_Portland, Vancouver, Hillsboro - OR, WA": "0",
         "msamd_name_Seattle, Bellevue, Everett - WA": "0",
         "msamd_name_Spokane, Spokane Valley - WA": "0",
         "msamd_name_Tacoma, Lakewood - WA": "1",
         "msamd_name_Walla Walla - WA": "0",
         "msamd_name_Wenatchee - WA": "0",
         "msamd_name_Yakima - WA": "0",
         "agency_name_Consumer Financial Protection Bureau": "1",
         "agency_name_Department of Housing and Urban Development": "0",
         "agency_name_Federal Deposit Insurance Corporation": "0",
         "agency_name_Federal Reserve System": "0",
         "agency_name_National Credit Union Administration": "0",
         "agency_name_Office of the Comptroller of the Currency": "0",
         "applicant_race_name_4_0": "1",
         "applicant_race_name_4_Asian": "0",
         "applicant_race_name_4_Black or African American": "0",
         "applicant_race_name_4_Native Hawaiian or Other Pacific Islander": "0",
         "applicant_race_name_4_White": "0",
         "property_type_name_Manufactured housing": "0",
         "property_type_name_Multifamily dwelling": "0",
         "property_type_name_One-to-four family dwelling (other than manufactured housing)": "1",
         "co_applicant_race_name_4_0": "1",
         "co_applicant_race_name_4_Native Hawaiian or Other Pacific Islander": "0",
         "co_applicant_race_name_4_White": "0",
         "state_name_Washington": "1",
         "hoepa_status_name_HOEPA loan": "0",
         "hoepa_status_name_Not a HOEPA loan": "1",
         "applicant_race_name_2_0": "1",
         "applicant_race_name_2_American Indian or Alaska Native": "0",
         "applicant_race_name_2_Asian": "0",
         "applicant_race_name_2_Black or African American": "0",
         "applicant_race_name_2_Native Hawaiian or Other Pacific Islander": "0",
         "applicant_race_name_2_White": "0",
         "state_abbr_WA": "1",
         "lien_status_name_Not applicable": "0",
         "lien_status_name_Not secured by a lien": "0",
         "lien_status_name_Secured by a first lien": "1",
         "lien_status_name_Secured by a subordinate lien": "0",
         "co_applicant_race_name_5_0": "1",
         "co_applicant_race_name_5_White": "0",
         "co_applicant_race_name_1_American Indian or Alaska Native": "0",
         "co_applicant_race_name_1_Asian": "0",
         "co_applicant_race_name_1_Black or African American": "0",
         "co_applicant_race_name_1_Information not provided by applicant in mail, Internet, or telephone application": "0",
         "co_applicant_race_name_1_Native Hawaiian or Other Pacific Islander": "0",
         "co_applicant_race_name_1_No co-applicant": "0",
         "co_applicant_race_name_1_Not applicable": "0",
         "co_applicant_race_name_1_White": "1",
         "applicant_race_name_3_0": "1",
         "applicant_race_name_3_American Indian or Alaska Native": "0",
         "applicant_race_name_3_Asian": "0",
         "applicant_race_name_3_Black or African American": "0",
         "applicant_race_name_3_Native Hawaiian or Other Pacific Islander": "0",
         "applicant_race_name_3_White": "0",
         "co_applicant_race_name_2_0": "1",
         "co_applicant_race_name_2_American Indian or Alaska Native": "0",
         "co_applicant_race_name_2_Asian": "0",
         "co_applicant_race_name_2_Black or African American": "0",
         "co_applicant_race_name_2_Native Hawaiian or Other Pacific Islander": "0",
         "co_applicant_race_name_2_White": "0",
         "loan_type_name_Conventional": "0",
         "loan_type_name_FHA-insured": "0",
         "loan_type_name_FSA/RHS-guaranteed": "0",
         "loan_type_name_VA-guaranteed": "1",
         "co_applicant_sex_name_Female": "1",
         "co_applicant_sex_name_Information not provided by applicant in mail, Internet, or telephone application": "0",
         "co_applicant_sex_name_Male": "0",
         "co_applicant_sex_name_No co-applicant": "0",
         "co_applicant_sex_name_Not applicable": "0",
         "applicant_race_name_5_0": "1",
         "applicant_race_name_5_Asian": "0",
         "applicant_race_name_5_Black or African American": "0",
         "applicant_race_name_5_White": "0",
         "agency_abbr_CFPB": "1",
         "agency_abbr_FDIC": "0",
         "agency_abbr_FRS": "0",
         "agency_abbr_HUD": "0",
         "agency_abbr_NCUA": "0",
         "agency_abbr_OCC": "0",
         "loan_purpose_name_Home improvement": "0",
         "loan_purpose_name_Home purchase": "0",
         "loan_purpose_name_Refinancing": "1",
         "preapproval_name_Not applicable": "1",
         "preapproval_name_Preapproval was not requested": "0",
         "preapproval_name_Preapproval was requested": "0",
         "co_applicant_ethnicity_name_Hispanic or Latino": "0",
         "co_applicant_ethnicity_name_Information not provided by applicant in mail, Internet, or telephone application": "0",
         "co_applicant_ethnicity_name_No co-applicant": "0",
         "co_applicant_ethnicity_name_Not Hispanic or Latino": "1",
         "co_applicant_ethnicity_name_Not applicable": "0",
         "applicant_ethnicity_name_Hispanic or Latino": "0",
         "applicant_ethnicity_name_Information not provided by applicant in mail, Internet, or telephone application": "0",
         "applicant_ethnicity_name_Not Hispanic or Latino": "1",
         "applicant_ethnicity_name_Not applicable": "0",
         "applicant_sex_name_Female": "0",
         "applicant_sex_name_Information not provided by applicant in mail, Internet, or telephone application": "0",
         "applicant_sex_name_Male": "1",
         "applicant_sex_name_Not applicable": "0",
         "owner_occupancy_name_Not applicable": "0",
         "owner_occupancy_name_Not owner-occupied as a principal dwelling": "0",
         "owner_occupancy_name_Owner-occupied as a principal dwelling": "1",
         "_deepnote_index_column": "7"
        },
        {
         "tract_to_msamd_income": "109.5800018",
         "rate_spread": "0.0",
         "population": "6567.0",
         "minority_population": "21.70999908",
         "number_of_owner_occupied_units": "1130.0",
         "number_of_1_to_4_family_units": "1579.0",
         "loan_amount_000s": "131",
         "hud_median_family_income": "73600.0",
         "applicant_income_000s": "0.0",
         "census_tract_number": "109.1",
         "as_of_year": "2016",
         "application_date_indicator": "0",
         "loan_approved": "True",
         "applicant_race_name_1_American Indian or Alaska Native": "0",
         "applicant_race_name_1_Asian": "0",
         "applicant_race_name_1_Black or African American": "0",
         "applicant_race_name_1_Information not provided by applicant in mail, Internet, or telephone application": "0",
         "applicant_race_name_1_Native Hawaiian or Other Pacific Islander": "0",
         "applicant_race_name_1_Not applicable": "0",
         "applicant_race_name_1_White": "1",
         "co_applicant_race_name_3_0": "1",
         "co_applicant_race_name_3_Black or African American": "0",
         "co_applicant_race_name_3_Native Hawaiian or Other Pacific Islander": "0",
         "co_applicant_race_name_3_White": "0",
         "county_name_0": "0",
         "county_name_Adams County": "0",
         "county_name_Asotin County": "0",
         "county_name_Benton County": "0",
         "county_name_Chelan County": "0",
         "county_name_Clallam County": "0",
         "county_name_Clark County": "0",
         "county_name_Columbia County": "0",
         "county_name_Cowlitz County": "0",
         "county_name_Douglas County": "0",
         "county_name_Ferry County": "0",
         "county_name_Franklin County": "0",
         "county_name_Garfield County": "0",
         "county_name_Grant County": "0",
         "county_name_Grays Harbor County": "0",
         "county_name_Island County": "0",
         "county_name_Jefferson County": "0",
         "county_name_King County": "0",
         "county_name_Kitsap County": "0",
         "county_name_Kittitas County": "0",
         "county_name_Klickitat County": "0",
         "county_name_Lewis County": "0",
         "county_name_Lincoln County": "0",
         "county_name_Mason County": "0",
         "county_name_Okanogan County": "0",
         "county_name_Pacific County": "0",
         "county_name_Pend Oreille County": "0",
         "county_name_Pierce County": "0",
         "county_name_San Juan County": "0",
         "county_name_Skagit County": "0",
         "county_name_Skamania County": "0",
         "county_name_Snohomish County": "0",
         "county_name_Spokane County": "0",
         "county_name_Stevens County": "0",
         "county_name_Thurston County": "1",
         "county_name_Wahkiakum County": "0",
         "county_name_Walla Walla County": "0",
         "county_name_Whatcom County": "0",
         "county_name_Whitman County": "0",
         "county_name_Yakima County": "0",
         "edit_status_name_0": "0",
         "edit_status_name_Quality edit failure only": "1",
         "msamd_name_0": "0",
         "msamd_name_Bellingham - WA": "0",
         "msamd_name_Bremerton, Silverdale - WA": "0",
         "msamd_name_Kennewick, Richland - WA": "0",
         "msamd_name_Lewiston - ID, WA": "0",
         "msamd_name_Longview - WA": "0",
         "msamd_name_Mount Vernon, Anacortes - WA": "0",
         "msamd_name_Olympia, Tumwater - WA": "1",
         "msamd_name_Portland, Vancouver, Hillsboro - OR, WA": "0",
         "msamd_name_Seattle, Bellevue, Everett - WA": "0",
         "msamd_name_Spokane, Spokane Valley - WA": "0",
         "msamd_name_Tacoma, Lakewood - WA": "0",
         "msamd_name_Walla Walla - WA": "0",
         "msamd_name_Wenatchee - WA": "0",
         "msamd_name_Yakima - WA": "0",
         "agency_name_Consumer Financial Protection Bureau": "0",
         "agency_name_Department of Housing and Urban Development": "1",
         "agency_name_Federal Deposit Insurance Corporation": "0",
         "agency_name_Federal Reserve System": "0",
         "agency_name_National Credit Union Administration": "0",
         "agency_name_Office of the Comptroller of the Currency": "0",
         "applicant_race_name_4_0": "1",
         "applicant_race_name_4_Asian": "0",
         "applicant_race_name_4_Black or African American": "0",
         "applicant_race_name_4_Native Hawaiian or Other Pacific Islander": "0",
         "applicant_race_name_4_White": "0",
         "property_type_name_Manufactured housing": "0",
         "property_type_name_Multifamily dwelling": "0",
         "property_type_name_One-to-four family dwelling (other than manufactured housing)": "1",
         "co_applicant_race_name_4_0": "1",
         "co_applicant_race_name_4_Native Hawaiian or Other Pacific Islander": "0",
         "co_applicant_race_name_4_White": "0",
         "state_name_Washington": "1",
         "hoepa_status_name_HOEPA loan": "0",
         "hoepa_status_name_Not a HOEPA loan": "1",
         "applicant_race_name_2_0": "1",
         "applicant_race_name_2_American Indian or Alaska Native": "0",
         "applicant_race_name_2_Asian": "0",
         "applicant_race_name_2_Black or African American": "0",
         "applicant_race_name_2_Native Hawaiian or Other Pacific Islander": "0",
         "applicant_race_name_2_White": "0",
         "state_abbr_WA": "1",
         "lien_status_name_Not applicable": "0",
         "lien_status_name_Not secured by a lien": "0",
         "lien_status_name_Secured by a first lien": "1",
         "lien_status_name_Secured by a subordinate lien": "0",
         "co_applicant_race_name_5_0": "1",
         "co_applicant_race_name_5_White": "0",
         "co_applicant_race_name_1_American Indian or Alaska Native": "0",
         "co_applicant_race_name_1_Asian": "0",
         "co_applicant_race_name_1_Black or African American": "0",
         "co_applicant_race_name_1_Information not provided by applicant in mail, Internet, or telephone application": "0",
         "co_applicant_race_name_1_Native Hawaiian or Other Pacific Islander": "0",
         "co_applicant_race_name_1_No co-applicant": "1",
         "co_applicant_race_name_1_Not applicable": "0",
         "co_applicant_race_name_1_White": "0",
         "applicant_race_name_3_0": "1",
         "applicant_race_name_3_American Indian or Alaska Native": "0",
         "applicant_race_name_3_Asian": "0",
         "applicant_race_name_3_Black or African American": "0",
         "applicant_race_name_3_Native Hawaiian or Other Pacific Islander": "0",
         "applicant_race_name_3_White": "0",
         "co_applicant_race_name_2_0": "1",
         "co_applicant_race_name_2_American Indian or Alaska Native": "0",
         "co_applicant_race_name_2_Asian": "0",
         "co_applicant_race_name_2_Black or African American": "0",
         "co_applicant_race_name_2_Native Hawaiian or Other Pacific Islander": "0",
         "co_applicant_race_name_2_White": "0",
         "loan_type_name_Conventional": "0",
         "loan_type_name_FHA-insured": "1",
         "loan_type_name_FSA/RHS-guaranteed": "0",
         "loan_type_name_VA-guaranteed": "0",
         "co_applicant_sex_name_Female": "0",
         "co_applicant_sex_name_Information not provided by applicant in mail, Internet, or telephone application": "0",
         "co_applicant_sex_name_Male": "0",
         "co_applicant_sex_name_No co-applicant": "1",
         "co_applicant_sex_name_Not applicable": "0",
         "applicant_race_name_5_0": "1",
         "applicant_race_name_5_Asian": "0",
         "applicant_race_name_5_Black or African American": "0",
         "applicant_race_name_5_White": "0",
         "agency_abbr_CFPB": "0",
         "agency_abbr_FDIC": "0",
         "agency_abbr_FRS": "0",
         "agency_abbr_HUD": "1",
         "agency_abbr_NCUA": "0",
         "agency_abbr_OCC": "0",
         "loan_purpose_name_Home improvement": "0",
         "loan_purpose_name_Home purchase": "0",
         "loan_purpose_name_Refinancing": "1",
         "preapproval_name_Not applicable": "1",
         "preapproval_name_Preapproval was not requested": "0",
         "preapproval_name_Preapproval was requested": "0",
         "co_applicant_ethnicity_name_Hispanic or Latino": "0",
         "co_applicant_ethnicity_name_Information not provided by applicant in mail, Internet, or telephone application": "0",
         "co_applicant_ethnicity_name_No co-applicant": "1",
         "co_applicant_ethnicity_name_Not Hispanic or Latino": "0",
         "co_applicant_ethnicity_name_Not applicable": "0",
         "applicant_ethnicity_name_Hispanic or Latino": "0",
         "applicant_ethnicity_name_Information not provided by applicant in mail, Internet, or telephone application": "0",
         "applicant_ethnicity_name_Not Hispanic or Latino": "1",
         "applicant_ethnicity_name_Not applicable": "0",
         "applicant_sex_name_Female": "0",
         "applicant_sex_name_Information not provided by applicant in mail, Internet, or telephone application": "0",
         "applicant_sex_name_Male": "1",
         "applicant_sex_name_Not applicable": "0",
         "owner_occupancy_name_Not applicable": "0",
         "owner_occupancy_name_Not owner-occupied as a principal dwelling": "0",
         "owner_occupancy_name_Owner-occupied as a principal dwelling": "1",
         "_deepnote_index_column": "8"
        },
        {
         "tract_to_msamd_income": "87.16000366",
         "rate_spread": "0.0",
         "population": "9326.0",
         "minority_population": "19.39999962",
         "number_of_owner_occupied_units": "2449.0",
         "number_of_1_to_4_family_units": "3403.0",
         "loan_amount_000s": "199",
         "hud_median_family_income": "61400.0",
         "applicant_income_000s": "37.0",
         "census_tract_number": "9515.0",
         "as_of_year": "2016",
         "application_date_indicator": "0",
         "loan_approved": "True",
         "applicant_race_name_1_American Indian or Alaska Native": "0",
         "applicant_race_name_1_Asian": "0",
         "applicant_race_name_1_Black or African American": "0",
         "applicant_race_name_1_Information not provided by applicant in mail, Internet, or telephone application": "0",
         "applicant_race_name_1_Native Hawaiian or Other Pacific Islander": "0",
         "applicant_race_name_1_Not applicable": "0",
         "applicant_race_name_1_White": "1",
         "co_applicant_race_name_3_0": "1",
         "co_applicant_race_name_3_Black or African American": "0",
         "co_applicant_race_name_3_Native Hawaiian or Other Pacific Islander": "0",
         "co_applicant_race_name_3_White": "0",
         "county_name_0": "0",
         "county_name_Adams County": "0",
         "county_name_Asotin County": "0",
         "county_name_Benton County": "0",
         "county_name_Chelan County": "0",
         "county_name_Clallam County": "0",
         "county_name_Clark County": "0",
         "county_name_Columbia County": "0",
         "county_name_Cowlitz County": "0",
         "county_name_Douglas County": "0",
         "county_name_Ferry County": "0",
         "county_name_Franklin County": "0",
         "county_name_Garfield County": "0",
         "county_name_Grant County": "0",
         "county_name_Grays Harbor County": "0",
         "county_name_Island County": "0",
         "county_name_Jefferson County": "0",
         "county_name_King County": "0",
         "county_name_Kitsap County": "0",
         "county_name_Kittitas County": "0",
         "county_name_Klickitat County": "0",
         "county_name_Lewis County": "0",
         "county_name_Lincoln County": "0",
         "county_name_Mason County": "0",
         "county_name_Okanogan County": "0",
         "county_name_Pacific County": "0",
         "county_name_Pend Oreille County": "0",
         "county_name_Pierce County": "0",
         "county_name_San Juan County": "0",
         "county_name_Skagit County": "1",
         "county_name_Skamania County": "0",
         "county_name_Snohomish County": "0",
         "county_name_Spokane County": "0",
         "county_name_Stevens County": "0",
         "county_name_Thurston County": "0",
         "county_name_Wahkiakum County": "0",
         "county_name_Walla Walla County": "0",
         "county_name_Whatcom County": "0",
         "county_name_Whitman County": "0",
         "county_name_Yakima County": "0",
         "edit_status_name_0": "1",
         "edit_status_name_Quality edit failure only": "0",
         "msamd_name_0": "0",
         "msamd_name_Bellingham - WA": "0",
         "msamd_name_Bremerton, Silverdale - WA": "0",
         "msamd_name_Kennewick, Richland - WA": "0",
         "msamd_name_Lewiston - ID, WA": "0",
         "msamd_name_Longview - WA": "0",
         "msamd_name_Mount Vernon, Anacortes - WA": "1",
         "msamd_name_Olympia, Tumwater - WA": "0",
         "msamd_name_Portland, Vancouver, Hillsboro - OR, WA": "0",
         "msamd_name_Seattle, Bellevue, Everett - WA": "0",
         "msamd_name_Spokane, Spokane Valley - WA": "0",
         "msamd_name_Tacoma, Lakewood - WA": "0",
         "msamd_name_Walla Walla - WA": "0",
         "msamd_name_Wenatchee - WA": "0",
         "msamd_name_Yakima - WA": "0",
         "agency_name_Consumer Financial Protection Bureau": "0",
         "agency_name_Department of Housing and Urban Development": "0",
         "agency_name_Federal Deposit Insurance Corporation": "1",
         "agency_name_Federal Reserve System": "0",
         "agency_name_National Credit Union Administration": "0",
         "agency_name_Office of the Comptroller of the Currency": "0",
         "applicant_race_name_4_0": "1",
         "applicant_race_name_4_Asian": "0",
         "applicant_race_name_4_Black or African American": "0",
         "applicant_race_name_4_Native Hawaiian or Other Pacific Islander": "0",
         "applicant_race_name_4_White": "0",
         "property_type_name_Manufactured housing": "0",
         "property_type_name_Multifamily dwelling": "0",
         "property_type_name_One-to-four family dwelling (other than manufactured housing)": "1",
         "co_applicant_race_name_4_0": "1",
         "co_applicant_race_name_4_Native Hawaiian or Other Pacific Islander": "0",
         "co_applicant_race_name_4_White": "0",
         "state_name_Washington": "1",
         "hoepa_status_name_HOEPA loan": "0",
         "hoepa_status_name_Not a HOEPA loan": "1",
         "applicant_race_name_2_0": "1",
         "applicant_race_name_2_American Indian or Alaska Native": "0",
         "applicant_race_name_2_Asian": "0",
         "applicant_race_name_2_Black or African American": "0",
         "applicant_race_name_2_Native Hawaiian or Other Pacific Islander": "0",
         "applicant_race_name_2_White": "0",
         "state_abbr_WA": "1",
         "lien_status_name_Not applicable": "0",
         "lien_status_name_Not secured by a lien": "0",
         "lien_status_name_Secured by a first lien": "1",
         "lien_status_name_Secured by a subordinate lien": "0",
         "co_applicant_race_name_5_0": "1",
         "co_applicant_race_name_5_White": "0",
         "co_applicant_race_name_1_American Indian or Alaska Native": "0",
         "co_applicant_race_name_1_Asian": "0",
         "co_applicant_race_name_1_Black or African American": "0",
         "co_applicant_race_name_1_Information not provided by applicant in mail, Internet, or telephone application": "0",
         "co_applicant_race_name_1_Native Hawaiian or Other Pacific Islander": "0",
         "co_applicant_race_name_1_No co-applicant": "1",
         "co_applicant_race_name_1_Not applicable": "0",
         "co_applicant_race_name_1_White": "0",
         "applicant_race_name_3_0": "1",
         "applicant_race_name_3_American Indian or Alaska Native": "0",
         "applicant_race_name_3_Asian": "0",
         "applicant_race_name_3_Black or African American": "0",
         "applicant_race_name_3_Native Hawaiian or Other Pacific Islander": "0",
         "applicant_race_name_3_White": "0",
         "co_applicant_race_name_2_0": "1",
         "co_applicant_race_name_2_American Indian or Alaska Native": "0",
         "co_applicant_race_name_2_Asian": "0",
         "co_applicant_race_name_2_Black or African American": "0",
         "co_applicant_race_name_2_Native Hawaiian or Other Pacific Islander": "0",
         "co_applicant_race_name_2_White": "0",
         "loan_type_name_Conventional": "1",
         "loan_type_name_FHA-insured": "0",
         "loan_type_name_FSA/RHS-guaranteed": "0",
         "loan_type_name_VA-guaranteed": "0",
         "co_applicant_sex_name_Female": "0",
         "co_applicant_sex_name_Information not provided by applicant in mail, Internet, or telephone application": "0",
         "co_applicant_sex_name_Male": "0",
         "co_applicant_sex_name_No co-applicant": "1",
         "co_applicant_sex_name_Not applicable": "0",
         "applicant_race_name_5_0": "1",
         "applicant_race_name_5_Asian": "0",
         "applicant_race_name_5_Black or African American": "0",
         "applicant_race_name_5_White": "0",
         "agency_abbr_CFPB": "0",
         "agency_abbr_FDIC": "1",
         "agency_abbr_FRS": "0",
         "agency_abbr_HUD": "0",
         "agency_abbr_NCUA": "0",
         "agency_abbr_OCC": "0",
         "loan_purpose_name_Home improvement": "0",
         "loan_purpose_name_Home purchase": "1",
         "loan_purpose_name_Refinancing": "0",
         "preapproval_name_Not applicable": "0",
         "preapproval_name_Preapproval was not requested": "1",
         "preapproval_name_Preapproval was requested": "0",
         "co_applicant_ethnicity_name_Hispanic or Latino": "0",
         "co_applicant_ethnicity_name_Information not provided by applicant in mail, Internet, or telephone application": "0",
         "co_applicant_ethnicity_name_No co-applicant": "1",
         "co_applicant_ethnicity_name_Not Hispanic or Latino": "0",
         "co_applicant_ethnicity_name_Not applicable": "0",
         "applicant_ethnicity_name_Hispanic or Latino": "0",
         "applicant_ethnicity_name_Information not provided by applicant in mail, Internet, or telephone application": "0",
         "applicant_ethnicity_name_Not Hispanic or Latino": "1",
         "applicant_ethnicity_name_Not applicable": "0",
         "applicant_sex_name_Female": "0",
         "applicant_sex_name_Information not provided by applicant in mail, Internet, or telephone application": "0",
         "applicant_sex_name_Male": "1",
         "applicant_sex_name_Not applicable": "0",
         "owner_occupancy_name_Not applicable": "0",
         "owner_occupancy_name_Not owner-occupied as a principal dwelling": "0",
         "owner_occupancy_name_Owner-occupied as a principal dwelling": "1",
         "_deepnote_index_column": "9"
        }
       ]
      },
      "text/plain": "        tract_to_msamd_income  rate_spread  population  minority_population  \\\n0                  121.690002          0.0      8381.0            23.790001   \n1                   83.370003          0.0      4915.0            23.990000   \n2                   91.129997          0.0      5075.0            11.820000   \n3                  146.169998          0.0      5032.0             8.590000   \n4                  162.470001          0.0      5183.0            10.500000   \n...                       ...          ...         ...                  ...   \n466553              91.070000          0.0      6792.0            16.889999   \n466554             128.800003          0.0      4966.0            11.500000   \n466555              99.669998          0.0      4950.0            29.639999   \n466556              88.889999          0.0      3233.0            16.610001   \n466557             110.230003          0.0      7206.0            22.059999   \n\n        number_of_owner_occupied_units  number_of_1_to_4_family_units  \\\n0                               2175.0                         2660.0   \n1                               1268.0                         1777.0   \n2                               1136.0                         1838.0   \n3                               1525.0                         1820.0   \n4                               1705.0                         2104.0   \n...                                ...                            ...   \n466553                          1763.0                         2280.0   \n466554                          1561.0                         1870.0   \n466555                          1594.0                         1742.0   \n466556                          1055.0                         1278.0   \n466557                          1804.0                         2261.0   \n\n        loan_amount_000s  hud_median_family_income  applicant_income_000s  \\\n0                    227                   73300.0                  116.0   \n1                    240                   57900.0                   42.0   \n2                    241                   73300.0                  117.0   \n3                    351                   73300.0                  315.0   \n4                    417                   78100.0                  114.0   \n...                  ...                       ...                    ...   \n466553               225                   69900.0                   54.0   \n466554               100                   69900.0                   21.0   \n466555               196                   90300.0                    0.0   \n466556               169                   73600.0                    0.0   \n466557                76                   90300.0                    0.0   \n\n        census_tract_number  ...  \\\n0                    413.27  ...   \n1                   9208.01  ...   \n2                    414.00  ...   \n3                    405.10  ...   \n4                    907.00  ...   \n...                     ...  ...   \n466553               103.01  ...   \n466554                 8.05  ...   \n466555               219.05  ...   \n466556               125.10  ...   \n466557               527.05  ...   \n\n        applicant_ethnicity_name_Information not provided by applicant in mail, Internet, or telephone application  \\\n0                                                       0                                                            \n1                                                       0                                                            \n2                                                       0                                                            \n3                                                       1                                                            \n4                                                       0                                                            \n...                                                   ...                                                            \n466553                                                  0                                                            \n466554                                                  0                                                            \n466555                                                  0                                                            \n466556                                                  0                                                            \n466557                                                  0                                                            \n\n        applicant_ethnicity_name_Not Hispanic or Latino  \\\n0                                                     1   \n1                                                     0   \n2                                                     1   \n3                                                     0   \n4                                                     1   \n...                                                 ...   \n466553                                                0   \n466554                                                0   \n466555                                                0   \n466556                                                0   \n466557                                                0   \n\n        applicant_ethnicity_name_Not applicable  applicant_sex_name_Female  \\\n0                                             0                          1   \n1                                             0                          0   \n2                                             0                          0   \n3                                             0                          0   \n4                                             0                          1   \n...                                         ...                        ...   \n466553                                        0                          0   \n466554                                        0                          1   \n466555                                        1                          0   \n466556                                        1                          0   \n466557                                        1                          0   \n\n        applicant_sex_name_Information not provided by applicant in mail, Internet, or telephone application  \\\n0                                                       0                                                      \n1                                                       0                                                      \n2                                                       0                                                      \n3                                                       0                                                      \n4                                                       0                                                      \n...                                                   ...                                                      \n466553                                                  0                                                      \n466554                                                  0                                                      \n466555                                                  0                                                      \n466556                                                  0                                                      \n466557                                                  0                                                      \n\n        applicant_sex_name_Male  applicant_sex_name_Not applicable  \\\n0                             0                                  0   \n1                             1                                  0   \n2                             1                                  0   \n3                             1                                  0   \n4                             0                                  0   \n...                         ...                                ...   \n466553                        1                                  0   \n466554                        0                                  0   \n466555                        0                                  1   \n466556                        0                                  1   \n466557                        0                                  1   \n\n        owner_occupancy_name_Not applicable  \\\n0                                         0   \n1                                         0   \n2                                         0   \n3                                         0   \n4                                         0   \n...                                     ...   \n466553                                    0   \n466554                                    0   \n466555                                    0   \n466556                                    0   \n466557                                    0   \n\n        owner_occupancy_name_Not owner-occupied as a principal dwelling  \\\n0                                                       0                 \n1                                                       0                 \n2                                                       0                 \n3                                                       0                 \n4                                                       0                 \n...                                                   ...                 \n466553                                                  0                 \n466554                                                  0                 \n466555                                                  0                 \n466556                                                  0                 \n466557                                                  0                 \n\n        owner_occupancy_name_Owner-occupied as a principal dwelling  \n0                                                       1            \n1                                                       1            \n2                                                       1            \n3                                                       1            \n4                                                       1            \n...                                                   ...            \n466553                                                  1            \n466554                                                  1            \n466555                                                  1            \n466556                                                  1            \n466557                                                  1            \n\n[394421 rows x 175 columns]",
      "text/html": "<div>\n<style scoped>\n    .dataframe tbody tr th:only-of-type {\n        vertical-align: middle;\n    }\n\n    .dataframe tbody tr th {\n        vertical-align: top;\n    }\n\n    .dataframe thead th {\n        text-align: right;\n    }\n</style>\n<table border=\"1\" class=\"dataframe\">\n  <thead>\n    <tr style=\"text-align: right;\">\n      <th></th>\n      <th>tract_to_msamd_income</th>\n      <th>rate_spread</th>\n      <th>population</th>\n      <th>minority_population</th>\n      <th>number_of_owner_occupied_units</th>\n      <th>number_of_1_to_4_family_units</th>\n      <th>loan_amount_000s</th>\n      <th>hud_median_family_income</th>\n      <th>applicant_income_000s</th>\n      <th>census_tract_number</th>\n      <th>...</th>\n      <th>applicant_ethnicity_name_Information not provided by applicant in mail, Internet, or telephone application</th>\n      <th>applicant_ethnicity_name_Not Hispanic or Latino</th>\n      <th>applicant_ethnicity_name_Not applicable</th>\n      <th>applicant_sex_name_Female</th>\n      <th>applicant_sex_name_Information not provided by applicant in mail, Internet, or telephone application</th>\n      <th>applicant_sex_name_Male</th>\n      <th>applicant_sex_name_Not applicable</th>\n      <th>owner_occupancy_name_Not applicable</th>\n      <th>owner_occupancy_name_Not owner-occupied as a principal dwelling</th>\n      <th>owner_occupancy_name_Owner-occupied as a principal dwelling</th>\n    </tr>\n  </thead>\n  <tbody>\n    <tr>\n      <th>0</th>\n      <td>121.690002</td>\n      <td>0.0</td>\n      <td>8381.0</td>\n      <td>23.790001</td>\n      <td>2175.0</td>\n      <td>2660.0</td>\n      <td>227</td>\n      <td>73300.0</td>\n      <td>116.0</td>\n      <td>413.27</td>\n      <td>...</td>\n      <td>0</td>\n      <td>1</td>\n      <td>0</td>\n      <td>1</td>\n      <td>0</td>\n      <td>0</td>\n      <td>0</td>\n      <td>0</td>\n      <td>0</td>\n      <td>1</td>\n    </tr>\n    <tr>\n      <th>1</th>\n      <td>83.370003</td>\n      <td>0.0</td>\n      <td>4915.0</td>\n      <td>23.990000</td>\n      <td>1268.0</td>\n      <td>1777.0</td>\n      <td>240</td>\n      <td>57900.0</td>\n      <td>42.0</td>\n      <td>9208.01</td>\n      <td>...</td>\n      <td>0</td>\n      <td>0</td>\n      <td>0</td>\n      <td>0</td>\n      <td>0</td>\n      <td>1</td>\n      <td>0</td>\n      <td>0</td>\n      <td>0</td>\n      <td>1</td>\n    </tr>\n    <tr>\n      <th>2</th>\n      <td>91.129997</td>\n      <td>0.0</td>\n      <td>5075.0</td>\n      <td>11.820000</td>\n      <td>1136.0</td>\n      <td>1838.0</td>\n      <td>241</td>\n      <td>73300.0</td>\n      <td>117.0</td>\n      <td>414.00</td>\n      <td>...</td>\n      <td>0</td>\n      <td>1</td>\n      <td>0</td>\n      <td>0</td>\n      <td>0</td>\n      <td>1</td>\n      <td>0</td>\n      <td>0</td>\n      <td>0</td>\n      <td>1</td>\n    </tr>\n    <tr>\n      <th>3</th>\n      <td>146.169998</td>\n      <td>0.0</td>\n      <td>5032.0</td>\n      <td>8.590000</td>\n      <td>1525.0</td>\n      <td>1820.0</td>\n      <td>351</td>\n      <td>73300.0</td>\n      <td>315.0</td>\n      <td>405.10</td>\n      <td>...</td>\n      <td>1</td>\n      <td>0</td>\n      <td>0</td>\n      <td>0</td>\n      <td>0</td>\n      <td>1</td>\n      <td>0</td>\n      <td>0</td>\n      <td>0</td>\n      <td>1</td>\n    </tr>\n    <tr>\n      <th>4</th>\n      <td>162.470001</td>\n      <td>0.0</td>\n      <td>5183.0</td>\n      <td>10.500000</td>\n      <td>1705.0</td>\n      <td>2104.0</td>\n      <td>417</td>\n      <td>78100.0</td>\n      <td>114.0</td>\n      <td>907.00</td>\n      <td>...</td>\n      <td>0</td>\n      <td>1</td>\n      <td>0</td>\n      <td>1</td>\n      <td>0</td>\n      <td>0</td>\n      <td>0</td>\n      <td>0</td>\n      <td>0</td>\n      <td>1</td>\n    </tr>\n    <tr>\n      <th>...</th>\n      <td>...</td>\n      <td>...</td>\n      <td>...</td>\n      <td>...</td>\n      <td>...</td>\n      <td>...</td>\n      <td>...</td>\n      <td>...</td>\n      <td>...</td>\n      <td>...</td>\n      <td>...</td>\n      <td>...</td>\n      <td>...</td>\n      <td>...</td>\n      <td>...</td>\n      <td>...</td>\n      <td>...</td>\n      <td>...</td>\n      <td>...</td>\n      <td>...</td>\n      <td>...</td>\n    </tr>\n    <tr>\n      <th>466553</th>\n      <td>91.070000</td>\n      <td>0.0</td>\n      <td>6792.0</td>\n      <td>16.889999</td>\n      <td>1763.0</td>\n      <td>2280.0</td>\n      <td>225</td>\n      <td>69900.0</td>\n      <td>54.0</td>\n      <td>103.01</td>\n      <td>...</td>\n      <td>0</td>\n      <td>0</td>\n      <td>0</td>\n      <td>0</td>\n      <td>0</td>\n      <td>1</td>\n      <td>0</td>\n      <td>0</td>\n      <td>0</td>\n      <td>1</td>\n    </tr>\n    <tr>\n      <th>466554</th>\n      <td>128.800003</td>\n      <td>0.0</td>\n      <td>4966.0</td>\n      <td>11.500000</td>\n      <td>1561.0</td>\n      <td>1870.0</td>\n      <td>100</td>\n      <td>69900.0</td>\n      <td>21.0</td>\n      <td>8.05</td>\n      <td>...</td>\n      <td>0</td>\n      <td>0</td>\n      <td>0</td>\n      <td>1</td>\n      <td>0</td>\n      <td>0</td>\n      <td>0</td>\n      <td>0</td>\n      <td>0</td>\n      <td>1</td>\n    </tr>\n    <tr>\n      <th>466555</th>\n      <td>99.669998</td>\n      <td>0.0</td>\n      <td>4950.0</td>\n      <td>29.639999</td>\n      <td>1594.0</td>\n      <td>1742.0</td>\n      <td>196</td>\n      <td>90300.0</td>\n      <td>0.0</td>\n      <td>219.05</td>\n      <td>...</td>\n      <td>0</td>\n      <td>0</td>\n      <td>1</td>\n      <td>0</td>\n      <td>0</td>\n      <td>0</td>\n      <td>1</td>\n      <td>0</td>\n      <td>0</td>\n      <td>1</td>\n    </tr>\n    <tr>\n      <th>466556</th>\n      <td>88.889999</td>\n      <td>0.0</td>\n      <td>3233.0</td>\n      <td>16.610001</td>\n      <td>1055.0</td>\n      <td>1278.0</td>\n      <td>169</td>\n      <td>73600.0</td>\n      <td>0.0</td>\n      <td>125.10</td>\n      <td>...</td>\n      <td>0</td>\n      <td>0</td>\n      <td>1</td>\n      <td>0</td>\n      <td>0</td>\n      <td>0</td>\n      <td>1</td>\n      <td>0</td>\n      <td>0</td>\n      <td>1</td>\n    </tr>\n    <tr>\n      <th>466557</th>\n      <td>110.230003</td>\n      <td>0.0</td>\n      <td>7206.0</td>\n      <td>22.059999</td>\n      <td>1804.0</td>\n      <td>2261.0</td>\n      <td>76</td>\n      <td>90300.0</td>\n      <td>0.0</td>\n      <td>527.05</td>\n      <td>...</td>\n      <td>0</td>\n      <td>0</td>\n      <td>1</td>\n      <td>0</td>\n      <td>0</td>\n      <td>0</td>\n      <td>1</td>\n      <td>0</td>\n      <td>0</td>\n      <td>1</td>\n    </tr>\n  </tbody>\n</table>\n<p>394421 rows × 175 columns</p>\n</div>"
     },
     "metadata": {}
    }
   ]
  },
  {
   "cell_type": "code",
   "metadata": {
    "tags": [],
    "deepnote_to_be_reexecuted": false,
    "source_hash": "86ab14e4",
    "execution_start": 1664713960077,
    "execution_millis": 504,
    "cell_id": "00020-44003f50-326c-4feb-82bd-348028857fda",
    "deepnote_cell_type": "code",
    "deepnote_cell_height": 150,
    "deepnote_output_heights": [
     58
    ]
   },
   "source": "data_clean['loan_approved'].value_counts()",
   "execution_count": 18,
   "outputs": [
    {
     "output_type": "execute_result",
     "execution_count": 18,
     "data": {
      "text/plain": "True     263712\nFalse    130709\nName: loan_approved, dtype: int64"
     },
     "metadata": {}
    }
   ]
  },
  {
   "cell_type": "code",
   "source": "cols = data_clean.drop(columns = [\"loan_approved\"]).columns\n\nprint(data_clean[cols].columns)\nX = data_clean[cols].values\ny = data_clean['loan_approved'].values\n\noversample = RandomOverSampler(sampling_strategy='minority')\nX, y = oversample.fit_resample(X, y)\n\nscaler = MinMaxScaler()\nX = scaler.fit_transform(X, y)\n\nprint(X.shape)\nprint(y.shape)\n",
   "metadata": {
    "tags": [],
    "deepnote_to_be_reexecuted": false,
    "source_hash": "9a1ee6a2",
    "execution_start": 1664713960081,
    "execution_millis": 1615,
    "cell_id": "00021-6e1453f1-04ab-4574-9069-4729735d8d6c",
    "deepnote_cell_type": "code",
    "deepnote_cell_height": 679
   },
   "execution_count": 19,
   "outputs": [
    {
     "name": "stdout",
     "text": "Index(['tract_to_msamd_income', 'rate_spread', 'population',\n       'minority_population', 'number_of_owner_occupied_units',\n       'number_of_1_to_4_family_units', 'loan_amount_000s',\n       'hud_median_family_income', 'applicant_income_000s',\n       'census_tract_number',\n       ...\n       'applicant_ethnicity_name_Information not provided by applicant in mail, Internet, or telephone application',\n       'applicant_ethnicity_name_Not Hispanic or Latino',\n       'applicant_ethnicity_name_Not applicable', 'applicant_sex_name_Female',\n       'applicant_sex_name_Information not provided by applicant in mail, Internet, or telephone application',\n       'applicant_sex_name_Male', 'applicant_sex_name_Not applicable',\n       'owner_occupancy_name_Not applicable',\n       'owner_occupancy_name_Not owner-occupied as a principal dwelling',\n       'owner_occupancy_name_Owner-occupied as a principal dwelling'],\n      dtype='object', length=174)\n(527424, 174)\n(527424,)\n",
     "output_type": "stream"
    }
   ]
  },
  {
   "cell_type": "code",
   "source": "# Scaler values for frontend\nfor v in scaler.scale_:\n    print(f'{v:.70f}')",
   "metadata": {
    "tags": [],
    "deepnote_to_be_reexecuted": false,
    "source_hash": "29a7d05b",
    "execution_start": 1664713961697,
    "execution_millis": 9,
    "cell_id": "00022-5dc26473-fe79-47e3-a1d3-1dfc8e19106f",
    "deepnote_cell_type": "code",
    "deepnote_cell_height": 732
   },
   "outputs": [
    {
     "name": "stdout",
     "text": "0.0038889318784381841573316584970143594546243548393249511718750000000000\n0.0732064421669106901724433100753230974078178405761718750000000000000000\n0.0000767754318618042209693835831174624217965174466371536254882812500000\n0.0105496359351654710179158058735993108712136745452880859375000000000000\n0.0003336670003336670155096033152375412100809626281261444091796875000000\n0.0001696928559307653251383984915889868716476485133171081542968750000000\n0.0000100002000040000804686633403828288635395438177511096000671386718750\n0.0000110741971207087492364701253322323282191064208745956420898437500000\n0.0001000100010001000132688411814463336213520960882306098937988281250000\n0.0001009998990001010059792269091261118774127680808305740356445312500000\n1.0000000000000000000000000000000000000000000000000000000000000000000000\n0.5000000000000000000000000000000000000000000000000000000000000000000000\n1.0000000000000000000000000000000000000000000000000000000000000000000000\n1.0000000000000000000000000000000000000000000000000000000000000000000000\n1.0000000000000000000000000000000000000000000000000000000000000000000000\n1.0000000000000000000000000000000000000000000000000000000000000000000000\n1.0000000000000000000000000000000000000000000000000000000000000000000000\n1.0000000000000000000000000000000000000000000000000000000000000000000000\n1.0000000000000000000000000000000000000000000000000000000000000000000000\n1.0000000000000000000000000000000000000000000000000000000000000000000000\n1.0000000000000000000000000000000000000000000000000000000000000000000000\n1.0000000000000000000000000000000000000000000000000000000000000000000000\n1.0000000000000000000000000000000000000000000000000000000000000000000000\n1.0000000000000000000000000000000000000000000000000000000000000000000000\n1.0000000000000000000000000000000000000000000000000000000000000000000000\n1.0000000000000000000000000000000000000000000000000000000000000000000000\n1.0000000000000000000000000000000000000000000000000000000000000000000000\n1.0000000000000000000000000000000000000000000000000000000000000000000000\n1.0000000000000000000000000000000000000000000000000000000000000000000000\n1.0000000000000000000000000000000000000000000000000000000000000000000000\n1.0000000000000000000000000000000000000000000000000000000000000000000000\n1.0000000000000000000000000000000000000000000000000000000000000000000000\n1.0000000000000000000000000000000000000000000000000000000000000000000000\n1.0000000000000000000000000000000000000000000000000000000000000000000000\n1.0000000000000000000000000000000000000000000000000000000000000000000000\n1.0000000000000000000000000000000000000000000000000000000000000000000000\n1.0000000000000000000000000000000000000000000000000000000000000000000000\n1.0000000000000000000000000000000000000000000000000000000000000000000000\n1.0000000000000000000000000000000000000000000000000000000000000000000000\n1.0000000000000000000000000000000000000000000000000000000000000000000000\n1.0000000000000000000000000000000000000000000000000000000000000000000000\n1.0000000000000000000000000000000000000000000000000000000000000000000000\n1.0000000000000000000000000000000000000000000000000000000000000000000000\n1.0000000000000000000000000000000000000000000000000000000000000000000000\n1.0000000000000000000000000000000000000000000000000000000000000000000000\n1.0000000000000000000000000000000000000000000000000000000000000000000000\n1.0000000000000000000000000000000000000000000000000000000000000000000000\n1.0000000000000000000000000000000000000000000000000000000000000000000000\n1.0000000000000000000000000000000000000000000000000000000000000000000000\n1.0000000000000000000000000000000000000000000000000000000000000000000000\n1.0000000000000000000000000000000000000000000000000000000000000000000000\n1.0000000000000000000000000000000000000000000000000000000000000000000000\n1.0000000000000000000000000000000000000000000000000000000000000000000000\n1.0000000000000000000000000000000000000000000000000000000000000000000000\n1.0000000000000000000000000000000000000000000000000000000000000000000000\n1.0000000000000000000000000000000000000000000000000000000000000000000000\n1.0000000000000000000000000000000000000000000000000000000000000000000000\n1.0000000000000000000000000000000000000000000000000000000000000000000000\n1.0000000000000000000000000000000000000000000000000000000000000000000000\n1.0000000000000000000000000000000000000000000000000000000000000000000000\n1.0000000000000000000000000000000000000000000000000000000000000000000000\n1.0000000000000000000000000000000000000000000000000000000000000000000000\n1.0000000000000000000000000000000000000000000000000000000000000000000000\n1.0000000000000000000000000000000000000000000000000000000000000000000000\n1.0000000000000000000000000000000000000000000000000000000000000000000000\n1.0000000000000000000000000000000000000000000000000000000000000000000000\n1.0000000000000000000000000000000000000000000000000000000000000000000000\n1.0000000000000000000000000000000000000000000000000000000000000000000000\n1.0000000000000000000000000000000000000000000000000000000000000000000000\n1.0000000000000000000000000000000000000000000000000000000000000000000000\n1.0000000000000000000000000000000000000000000000000000000000000000000000\n1.0000000000000000000000000000000000000000000000000000000000000000000000\n1.0000000000000000000000000000000000000000000000000000000000000000000000\n1.0000000000000000000000000000000000000000000000000000000000000000000000\n1.0000000000000000000000000000000000000000000000000000000000000000000000\n1.0000000000000000000000000000000000000000000000000000000000000000000000\n1.0000000000000000000000000000000000000000000000000000000000000000000000\n1.0000000000000000000000000000000000000000000000000000000000000000000000\n1.0000000000000000000000000000000000000000000000000000000000000000000000\n1.0000000000000000000000000000000000000000000000000000000000000000000000\n1.0000000000000000000000000000000000000000000000000000000000000000000000\n1.0000000000000000000000000000000000000000000000000000000000000000000000\n1.0000000000000000000000000000000000000000000000000000000000000000000000\n1.0000000000000000000000000000000000000000000000000000000000000000000000\n1.0000000000000000000000000000000000000000000000000000000000000000000000\n1.0000000000000000000000000000000000000000000000000000000000000000000000\n1.0000000000000000000000000000000000000000000000000000000000000000000000\n1.0000000000000000000000000000000000000000000000000000000000000000000000\n1.0000000000000000000000000000000000000000000000000000000000000000000000\n1.0000000000000000000000000000000000000000000000000000000000000000000000\n1.0000000000000000000000000000000000000000000000000000000000000000000000\n1.0000000000000000000000000000000000000000000000000000000000000000000000\n1.0000000000000000000000000000000000000000000000000000000000000000000000\n1.0000000000000000000000000000000000000000000000000000000000000000000000\n1.0000000000000000000000000000000000000000000000000000000000000000000000\n1.0000000000000000000000000000000000000000000000000000000000000000000000\n1.0000000000000000000000000000000000000000000000000000000000000000000000\n1.0000000000000000000000000000000000000000000000000000000000000000000000\n1.0000000000000000000000000000000000000000000000000000000000000000000000\n1.0000000000000000000000000000000000000000000000000000000000000000000000\n1.0000000000000000000000000000000000000000000000000000000000000000000000\n1.0000000000000000000000000000000000000000000000000000000000000000000000\n1.0000000000000000000000000000000000000000000000000000000000000000000000\n1.0000000000000000000000000000000000000000000000000000000000000000000000\n1.0000000000000000000000000000000000000000000000000000000000000000000000\n1.0000000000000000000000000000000000000000000000000000000000000000000000\n1.0000000000000000000000000000000000000000000000000000000000000000000000\n1.0000000000000000000000000000000000000000000000000000000000000000000000\n1.0000000000000000000000000000000000000000000000000000000000000000000000\n1.0000000000000000000000000000000000000000000000000000000000000000000000\n1.0000000000000000000000000000000000000000000000000000000000000000000000\n1.0000000000000000000000000000000000000000000000000000000000000000000000\n1.0000000000000000000000000000000000000000000000000000000000000000000000\n1.0000000000000000000000000000000000000000000000000000000000000000000000\n1.0000000000000000000000000000000000000000000000000000000000000000000000\n1.0000000000000000000000000000000000000000000000000000000000000000000000\n1.0000000000000000000000000000000000000000000000000000000000000000000000\n1.0000000000000000000000000000000000000000000000000000000000000000000000\n1.0000000000000000000000000000000000000000000000000000000000000000000000\n1.0000000000000000000000000000000000000000000000000000000000000000000000\n1.0000000000000000000000000000000000000000000000000000000000000000000000\n1.0000000000000000000000000000000000000000000000000000000000000000000000\n1.0000000000000000000000000000000000000000000000000000000000000000000000\n1.0000000000000000000000000000000000000000000000000000000000000000000000\n1.0000000000000000000000000000000000000000000000000000000000000000000000\n1.0000000000000000000000000000000000000000000000000000000000000000000000\n1.0000000000000000000000000000000000000000000000000000000000000000000000\n1.0000000000000000000000000000000000000000000000000000000000000000000000\n1.0000000000000000000000000000000000000000000000000000000000000000000000\n1.0000000000000000000000000000000000000000000000000000000000000000000000\n1.0000000000000000000000000000000000000000000000000000000000000000000000\n1.0000000000000000000000000000000000000000000000000000000000000000000000\n1.0000000000000000000000000000000000000000000000000000000000000000000000\n1.0000000000000000000000000000000000000000000000000000000000000000000000\n1.0000000000000000000000000000000000000000000000000000000000000000000000\n1.0000000000000000000000000000000000000000000000000000000000000000000000\n1.0000000000000000000000000000000000000000000000000000000000000000000000\n1.0000000000000000000000000000000000000000000000000000000000000000000000\n1.0000000000000000000000000000000000000000000000000000000000000000000000\n1.0000000000000000000000000000000000000000000000000000000000000000000000\n1.0000000000000000000000000000000000000000000000000000000000000000000000\n1.0000000000000000000000000000000000000000000000000000000000000000000000\n1.0000000000000000000000000000000000000000000000000000000000000000000000\n1.0000000000000000000000000000000000000000000000000000000000000000000000\n1.0000000000000000000000000000000000000000000000000000000000000000000000\n1.0000000000000000000000000000000000000000000000000000000000000000000000\n1.0000000000000000000000000000000000000000000000000000000000000000000000\n1.0000000000000000000000000000000000000000000000000000000000000000000000\n1.0000000000000000000000000000000000000000000000000000000000000000000000\n1.0000000000000000000000000000000000000000000000000000000000000000000000\n1.0000000000000000000000000000000000000000000000000000000000000000000000\n1.0000000000000000000000000000000000000000000000000000000000000000000000\n1.0000000000000000000000000000000000000000000000000000000000000000000000\n1.0000000000000000000000000000000000000000000000000000000000000000000000\n1.0000000000000000000000000000000000000000000000000000000000000000000000\n1.0000000000000000000000000000000000000000000000000000000000000000000000\n1.0000000000000000000000000000000000000000000000000000000000000000000000\n1.0000000000000000000000000000000000000000000000000000000000000000000000\n1.0000000000000000000000000000000000000000000000000000000000000000000000\n1.0000000000000000000000000000000000000000000000000000000000000000000000\n1.0000000000000000000000000000000000000000000000000000000000000000000000\n1.0000000000000000000000000000000000000000000000000000000000000000000000\n1.0000000000000000000000000000000000000000000000000000000000000000000000\n1.0000000000000000000000000000000000000000000000000000000000000000000000\n1.0000000000000000000000000000000000000000000000000000000000000000000000\n1.0000000000000000000000000000000000000000000000000000000000000000000000\n1.0000000000000000000000000000000000000000000000000000000000000000000000\n1.0000000000000000000000000000000000000000000000000000000000000000000000\n1.0000000000000000000000000000000000000000000000000000000000000000000000\n1.0000000000000000000000000000000000000000000000000000000000000000000000\n1.0000000000000000000000000000000000000000000000000000000000000000000000\n1.0000000000000000000000000000000000000000000000000000000000000000000000\n1.0000000000000000000000000000000000000000000000000000000000000000000000\n1.0000000000000000000000000000000000000000000000000000000000000000000000\n",
     "output_type": "stream"
    }
   ],
   "execution_count": null
  },
  {
   "cell_type": "code",
   "metadata": {
    "tags": [],
    "deepnote_to_be_reexecuted": false,
    "source_hash": "f7de7aef",
    "execution_start": 1664713961715,
    "execution_millis": 236,
    "cell_id": "00023-0376c3f6-a726-48d1-95e3-e403f4af5e0a",
    "deepnote_cell_type": "code",
    "deepnote_cell_height": 76
   },
   "source": "X_train, X_test, y_train, y_test = train_test_split(X, y, test_size=0.3)",
   "execution_count": 21,
   "outputs": []
  },
  {
   "cell_type": "code",
   "metadata": {
    "tags": [],
    "deepnote_to_be_reexecuted": false,
    "source_hash": "6260b932",
    "execution_start": 1664713961973,
    "execution_millis": 74718,
    "cell_id": "00024-e9b7c429-2f06-49ab-aef5-d90f44d9cd1e",
    "deepnote_cell_type": "code",
    "deepnote_cell_height": 1380
   },
   "source": "epochs = 100\n\nmodel = Sequential()\n\nmodel.add(\n        Dense(32, activation='relu', input_shape=(X_train.shape[1],))\n)\n\nmodel.add(\n        Dense(32, activation='relu',)\n)\n\n\nmodel.add(\n        Dense(1, activation='sigmoid')\n)\n\nmodel.compile(\n        optimizer='adam', \n        loss='binary_crossentropy', \n        metrics=['accuracy', 'AUC']\n)\n\nearly_stop = EarlyStopping(\n        monitor='val_loss', \n        mode='min', \n        verbose=1, \n        patience=25\n)\n\nhistory = model.fit(\n        X_train, \n        y_train, \n        epochs=epochs, \n        batch_size=32768, \n        validation_data=(X_test, y_test),\n        callbacks=[early_stop],\n        use_multiprocessing=True\n)",
   "execution_count": 22,
   "outputs": [
    {
     "name": "stderr",
     "text": "2022-10-02 12:32:41.955963: W tensorflow/stream_executor/platform/default/dso_loader.cc:64] Could not load dynamic library 'libcuda.so.1'; dlerror: libcuda.so.1: cannot open shared object file: No such file or directory\n2022-10-02 12:32:41.956016: W tensorflow/stream_executor/cuda/cuda_driver.cc:263] failed call to cuInit: UNKNOWN ERROR (303)\n2022-10-02 12:32:41.956035: I tensorflow/stream_executor/cuda/cuda_diagnostics.cc:156] kernel driver does not appear to be running on this host (p-03c1f381-4bef-44c8-9167-00386ebceba9): /proc/driver/nvidia/version does not exist\n2022-10-02 12:32:41.956274: I tensorflow/core/platform/cpu_feature_guard.cc:193] This TensorFlow binary is optimized with oneAPI Deep Neural Network Library (oneDNN) to use the following CPU instructions in performance-critical operations:  AVX2 AVX512F AVX512_VNNI FMA\nTo enable them in other operations, rebuild TensorFlow with the appropriate compiler flags.\nEpoch 1/100\n12/12 [==============================] - 2s 147ms/step - loss: 0.6655 - accuracy: 0.5860 - auc: 0.6415 - val_loss: 0.6300 - val_accuracy: 0.6644 - val_auc: 0.7293\nEpoch 2/100\n12/12 [==============================] - 1s 56ms/step - loss: 0.6096 - accuracy: 0.6776 - auc: 0.7465 - val_loss: 0.5821 - val_accuracy: 0.6913 - val_auc: 0.7677\nEpoch 3/100\n12/12 [==============================] - 1s 64ms/step - loss: 0.5668 - accuracy: 0.6970 - auc: 0.7740 - val_loss: 0.5469 - val_accuracy: 0.7049 - val_auc: 0.7864\nEpoch 4/100\n12/12 [==============================] - 1s 62ms/step - loss: 0.5379 - accuracy: 0.7103 - auc: 0.7907 - val_loss: 0.5242 - val_accuracy: 0.7188 - val_auc: 0.8011\nEpoch 5/100\n12/12 [==============================] - 1s 56ms/step - loss: 0.5193 - accuracy: 0.7212 - auc: 0.8027 - val_loss: 0.5102 - val_accuracy: 0.7278 - val_auc: 0.8094\nEpoch 6/100\n12/12 [==============================] - 1s 64ms/step - loss: 0.5082 - accuracy: 0.7284 - auc: 0.8089 - val_loss: 0.5021 - val_accuracy: 0.7310 - val_auc: 0.8134\nEpoch 7/100\n12/12 [==============================] - 1s 63ms/step - loss: 0.5016 - accuracy: 0.7313 - auc: 0.8119 - val_loss: 0.4978 - val_accuracy: 0.7322 - val_auc: 0.8160\nEpoch 8/100\n12/12 [==============================] - 1s 56ms/step - loss: 0.4977 - accuracy: 0.7328 - auc: 0.8138 - val_loss: 0.4940 - val_accuracy: 0.7345 - val_auc: 0.8179\nEpoch 9/100\n12/12 [==============================] - 1s 75ms/step - loss: 0.4947 - accuracy: 0.7347 - auc: 0.8158 - val_loss: 0.4914 - val_accuracy: 0.7364 - val_auc: 0.8195\nEpoch 10/100\n12/12 [==============================] - 1s 61ms/step - loss: 0.4923 - accuracy: 0.7359 - auc: 0.8176 - val_loss: 0.4893 - val_accuracy: 0.7378 - val_auc: 0.8209\nEpoch 11/100\n12/12 [==============================] - 1s 63ms/step - loss: 0.4904 - accuracy: 0.7365 - auc: 0.8191 - val_loss: 0.4876 - val_accuracy: 0.7385 - val_auc: 0.8220\nEpoch 12/100\n12/12 [==============================] - 1s 56ms/step - loss: 0.4887 - accuracy: 0.7382 - auc: 0.8203 - val_loss: 0.4862 - val_accuracy: 0.7401 - val_auc: 0.8234\nEpoch 13/100\n12/12 [==============================] - 1s 63ms/step - loss: 0.4874 - accuracy: 0.7386 - auc: 0.8215 - val_loss: 0.4851 - val_accuracy: 0.7402 - val_auc: 0.8244\nEpoch 14/100\n12/12 [==============================] - 1s 64ms/step - loss: 0.4861 - accuracy: 0.7391 - auc: 0.8226 - val_loss: 0.4836 - val_accuracy: 0.7416 - val_auc: 0.8253\nEpoch 15/100\n12/12 [==============================] - 1s 57ms/step - loss: 0.4848 - accuracy: 0.7401 - auc: 0.8237 - val_loss: 0.4826 - val_accuracy: 0.7427 - val_auc: 0.8263\nEpoch 16/100\n12/12 [==============================] - 1s 63ms/step - loss: 0.4837 - accuracy: 0.7410 - auc: 0.8246 - val_loss: 0.4816 - val_accuracy: 0.7432 - val_auc: 0.8271\nEpoch 17/100\n12/12 [==============================] - 1s 64ms/step - loss: 0.4826 - accuracy: 0.7417 - auc: 0.8256 - val_loss: 0.4806 - val_accuracy: 0.7442 - val_auc: 0.8278\nEpoch 18/100\n12/12 [==============================] - 1s 63ms/step - loss: 0.4816 - accuracy: 0.7423 - auc: 0.8264 - val_loss: 0.4799 - val_accuracy: 0.7447 - val_auc: 0.8285\nEpoch 19/100\n12/12 [==============================] - 1s 64ms/step - loss: 0.4807 - accuracy: 0.7432 - auc: 0.8272 - val_loss: 0.4792 - val_accuracy: 0.7458 - val_auc: 0.8292\nEpoch 20/100\n12/12 [==============================] - 1s 56ms/step - loss: 0.4800 - accuracy: 0.7436 - auc: 0.8279 - val_loss: 0.4788 - val_accuracy: 0.7451 - val_auc: 0.8298\nEpoch 21/100\n12/12 [==============================] - 1s 63ms/step - loss: 0.4796 - accuracy: 0.7436 - auc: 0.8281 - val_loss: 0.4776 - val_accuracy: 0.7466 - val_auc: 0.8304\nEpoch 22/100\n12/12 [==============================] - 1s 64ms/step - loss: 0.4785 - accuracy: 0.7444 - auc: 0.8291 - val_loss: 0.4771 - val_accuracy: 0.7475 - val_auc: 0.8310\nEpoch 23/100\n12/12 [==============================] - 1s 56ms/step - loss: 0.4781 - accuracy: 0.7453 - auc: 0.8294 - val_loss: 0.4763 - val_accuracy: 0.7476 - val_auc: 0.8315\nEpoch 24/100\n12/12 [==============================] - 1s 64ms/step - loss: 0.4772 - accuracy: 0.7456 - auc: 0.8303 - val_loss: 0.4759 - val_accuracy: 0.7479 - val_auc: 0.8318\nEpoch 25/100\n12/12 [==============================] - 1s 63ms/step - loss: 0.4765 - accuracy: 0.7457 - auc: 0.8308 - val_loss: 0.4755 - val_accuracy: 0.7479 - val_auc: 0.8322\nEpoch 26/100\n12/12 [==============================] - 1s 63ms/step - loss: 0.4762 - accuracy: 0.7461 - auc: 0.8310 - val_loss: 0.4751 - val_accuracy: 0.7484 - val_auc: 0.8325\nEpoch 27/100\n12/12 [==============================] - 1s 64ms/step - loss: 0.4757 - accuracy: 0.7462 - auc: 0.8315 - val_loss: 0.4750 - val_accuracy: 0.7484 - val_auc: 0.8327\nEpoch 28/100\n12/12 [==============================] - 1s 63ms/step - loss: 0.4753 - accuracy: 0.7462 - auc: 0.8318 - val_loss: 0.4745 - val_accuracy: 0.7485 - val_auc: 0.8329\nEpoch 29/100\n12/12 [==============================] - 1s 63ms/step - loss: 0.4749 - accuracy: 0.7467 - auc: 0.8321 - val_loss: 0.4744 - val_accuracy: 0.7489 - val_auc: 0.8332\nEpoch 30/100\n12/12 [==============================] - 1s 57ms/step - loss: 0.4748 - accuracy: 0.7467 - auc: 0.8322 - val_loss: 0.4740 - val_accuracy: 0.7489 - val_auc: 0.8335\nEpoch 31/100\n12/12 [==============================] - 1s 63ms/step - loss: 0.4744 - accuracy: 0.7470 - auc: 0.8326 - val_loss: 0.4737 - val_accuracy: 0.7494 - val_auc: 0.8336\nEpoch 32/100\n12/12 [==============================] - 1s 64ms/step - loss: 0.4740 - accuracy: 0.7472 - auc: 0.8328 - val_loss: 0.4733 - val_accuracy: 0.7494 - val_auc: 0.8338\nEpoch 33/100\n12/12 [==============================] - 1s 57ms/step - loss: 0.4738 - accuracy: 0.7471 - auc: 0.8330 - val_loss: 0.4731 - val_accuracy: 0.7494 - val_auc: 0.8340\nEpoch 34/100\n12/12 [==============================] - 1s 56ms/step - loss: 0.4734 - accuracy: 0.7477 - auc: 0.8334 - val_loss: 0.4728 - val_accuracy: 0.7498 - val_auc: 0.8343\nEpoch 35/100\n12/12 [==============================] - 1s 63ms/step - loss: 0.4731 - accuracy: 0.7479 - auc: 0.8337 - val_loss: 0.4728 - val_accuracy: 0.7497 - val_auc: 0.8343\nEpoch 36/100\n12/12 [==============================] - 1s 63ms/step - loss: 0.4729 - accuracy: 0.7477 - auc: 0.8338 - val_loss: 0.4730 - val_accuracy: 0.7497 - val_auc: 0.8345\nEpoch 37/100\n12/12 [==============================] - 1s 57ms/step - loss: 0.4726 - accuracy: 0.7481 - auc: 0.8340 - val_loss: 0.4724 - val_accuracy: 0.7502 - val_auc: 0.8346\nEpoch 38/100\n12/12 [==============================] - 1s 65ms/step - loss: 0.4726 - accuracy: 0.7479 - auc: 0.8340 - val_loss: 0.4726 - val_accuracy: 0.7495 - val_auc: 0.8348\nEpoch 39/100\n12/12 [==============================] - 1s 61ms/step - loss: 0.4723 - accuracy: 0.7484 - auc: 0.8344 - val_loss: 0.4726 - val_accuracy: 0.7499 - val_auc: 0.8347\nEpoch 40/100\n12/12 [==============================] - 1s 57ms/step - loss: 0.4723 - accuracy: 0.7482 - auc: 0.8342 - val_loss: 0.4717 - val_accuracy: 0.7502 - val_auc: 0.8351\nEpoch 41/100\n12/12 [==============================] - 1s 63ms/step - loss: 0.4720 - accuracy: 0.7482 - auc: 0.8346 - val_loss: 0.4718 - val_accuracy: 0.7498 - val_auc: 0.8351\nEpoch 42/100\n12/12 [==============================] - 1s 63ms/step - loss: 0.4716 - accuracy: 0.7486 - auc: 0.8349 - val_loss: 0.4721 - val_accuracy: 0.7505 - val_auc: 0.8350\nEpoch 43/100\n12/12 [==============================] - 1s 64ms/step - loss: 0.4717 - accuracy: 0.7485 - auc: 0.8348 - val_loss: 0.4717 - val_accuracy: 0.7500 - val_auc: 0.8353\nEpoch 44/100\n12/12 [==============================] - 1s 59ms/step - loss: 0.4714 - accuracy: 0.7488 - auc: 0.8350 - val_loss: 0.4717 - val_accuracy: 0.7503 - val_auc: 0.8352\nEpoch 45/100\n12/12 [==============================] - 1s 56ms/step - loss: 0.4713 - accuracy: 0.7489 - auc: 0.8351 - val_loss: 0.4713 - val_accuracy: 0.7502 - val_auc: 0.8354\nEpoch 46/100\n12/12 [==============================] - 1s 64ms/step - loss: 0.4710 - accuracy: 0.7490 - auc: 0.8354 - val_loss: 0.4713 - val_accuracy: 0.7509 - val_auc: 0.8355\nEpoch 47/100\n12/12 [==============================] - 1s 63ms/step - loss: 0.4710 - accuracy: 0.7488 - auc: 0.8354 - val_loss: 0.4710 - val_accuracy: 0.7508 - val_auc: 0.8356\nEpoch 48/100\n12/12 [==============================] - 1s 56ms/step - loss: 0.4707 - accuracy: 0.7491 - auc: 0.8357 - val_loss: 0.4709 - val_accuracy: 0.7501 - val_auc: 0.8357\nEpoch 49/100\n12/12 [==============================] - 1s 56ms/step - loss: 0.4705 - accuracy: 0.7492 - auc: 0.8359 - val_loss: 0.4709 - val_accuracy: 0.7510 - val_auc: 0.8357\nEpoch 50/100\n12/12 [==============================] - 1s 63ms/step - loss: 0.4704 - accuracy: 0.7492 - auc: 0.8359 - val_loss: 0.4707 - val_accuracy: 0.7507 - val_auc: 0.8359\nEpoch 51/100\n12/12 [==============================] - 1s 63ms/step - loss: 0.4703 - accuracy: 0.7493 - auc: 0.8359 - val_loss: 0.4709 - val_accuracy: 0.7502 - val_auc: 0.8357\nEpoch 52/100\n12/12 [==============================] - 1s 64ms/step - loss: 0.4703 - accuracy: 0.7495 - auc: 0.8359 - val_loss: 0.4708 - val_accuracy: 0.7506 - val_auc: 0.8357\nEpoch 53/100\n12/12 [==============================] - 1s 56ms/step - loss: 0.4701 - accuracy: 0.7495 - auc: 0.8360 - val_loss: 0.4706 - val_accuracy: 0.7507 - val_auc: 0.8359\nEpoch 54/100\n12/12 [==============================] - 1s 58ms/step - loss: 0.4701 - accuracy: 0.7495 - auc: 0.8361 - val_loss: 0.4706 - val_accuracy: 0.7506 - val_auc: 0.8360\nEpoch 55/100\n12/12 [==============================] - 1s 64ms/step - loss: 0.4700 - accuracy: 0.7493 - auc: 0.8362 - val_loss: 0.4705 - val_accuracy: 0.7504 - val_auc: 0.8361\nEpoch 56/100\n12/12 [==============================] - 1s 63ms/step - loss: 0.4697 - accuracy: 0.7498 - auc: 0.8364 - val_loss: 0.4708 - val_accuracy: 0.7503 - val_auc: 0.8361\nEpoch 57/100\n12/12 [==============================] - 1s 62ms/step - loss: 0.4697 - accuracy: 0.7495 - auc: 0.8364 - val_loss: 0.4706 - val_accuracy: 0.7503 - val_auc: 0.8359\nEpoch 58/100\n12/12 [==============================] - 1s 64ms/step - loss: 0.4695 - accuracy: 0.7494 - auc: 0.8366 - val_loss: 0.4700 - val_accuracy: 0.7511 - val_auc: 0.8363\nEpoch 59/100\n12/12 [==============================] - 1s 63ms/step - loss: 0.4693 - accuracy: 0.7498 - auc: 0.8368 - val_loss: 0.4701 - val_accuracy: 0.7506 - val_auc: 0.8362\nEpoch 60/100\n12/12 [==============================] - 1s 62ms/step - loss: 0.4692 - accuracy: 0.7496 - auc: 0.8369 - val_loss: 0.4700 - val_accuracy: 0.7508 - val_auc: 0.8362\nEpoch 61/100\n12/12 [==============================] - 1s 63ms/step - loss: 0.4693 - accuracy: 0.7496 - auc: 0.8368 - val_loss: 0.4699 - val_accuracy: 0.7503 - val_auc: 0.8363\nEpoch 62/100\n12/12 [==============================] - 1s 58ms/step - loss: 0.4691 - accuracy: 0.7498 - auc: 0.8369 - val_loss: 0.4704 - val_accuracy: 0.7504 - val_auc: 0.8364\nEpoch 63/100\n12/12 [==============================] - 1s 63ms/step - loss: 0.4692 - accuracy: 0.7495 - auc: 0.8368 - val_loss: 0.4698 - val_accuracy: 0.7508 - val_auc: 0.8364\nEpoch 64/100\n12/12 [==============================] - 1s 63ms/step - loss: 0.4690 - accuracy: 0.7498 - auc: 0.8370 - val_loss: 0.4698 - val_accuracy: 0.7511 - val_auc: 0.8365\nEpoch 65/100\n12/12 [==============================] - 1s 62ms/step - loss: 0.4687 - accuracy: 0.7499 - auc: 0.8372 - val_loss: 0.4698 - val_accuracy: 0.7512 - val_auc: 0.8366\nEpoch 66/100\n12/12 [==============================] - 1s 63ms/step - loss: 0.4688 - accuracy: 0.7497 - auc: 0.8372 - val_loss: 0.4704 - val_accuracy: 0.7501 - val_auc: 0.8365\nEpoch 67/100\n12/12 [==============================] - 1s 57ms/step - loss: 0.4687 - accuracy: 0.7500 - auc: 0.8373 - val_loss: 0.4695 - val_accuracy: 0.7508 - val_auc: 0.8367\nEpoch 68/100\n12/12 [==============================] - 1s 63ms/step - loss: 0.4686 - accuracy: 0.7501 - auc: 0.8373 - val_loss: 0.4695 - val_accuracy: 0.7511 - val_auc: 0.8367\nEpoch 69/100\n12/12 [==============================] - 1s 63ms/step - loss: 0.4684 - accuracy: 0.7500 - auc: 0.8375 - val_loss: 0.4695 - val_accuracy: 0.7511 - val_auc: 0.8367\nEpoch 70/100\n12/12 [==============================] - 1s 63ms/step - loss: 0.4683 - accuracy: 0.7501 - auc: 0.8376 - val_loss: 0.4694 - val_accuracy: 0.7509 - val_auc: 0.8368\nEpoch 71/100\n12/12 [==============================] - 1s 56ms/step - loss: 0.4682 - accuracy: 0.7505 - auc: 0.8377 - val_loss: 0.4694 - val_accuracy: 0.7513 - val_auc: 0.8369\nEpoch 72/100\n12/12 [==============================] - 1s 63ms/step - loss: 0.4681 - accuracy: 0.7501 - auc: 0.8378 - val_loss: 0.4693 - val_accuracy: 0.7513 - val_auc: 0.8369\nEpoch 73/100\n12/12 [==============================] - 1s 63ms/step - loss: 0.4680 - accuracy: 0.7505 - auc: 0.8379 - val_loss: 0.4704 - val_accuracy: 0.7506 - val_auc: 0.8367\nEpoch 74/100\n12/12 [==============================] - 1s 63ms/step - loss: 0.4682 - accuracy: 0.7499 - auc: 0.8376 - val_loss: 0.4692 - val_accuracy: 0.7512 - val_auc: 0.8369\nEpoch 75/100\n12/12 [==============================] - 1s 56ms/step - loss: 0.4679 - accuracy: 0.7504 - auc: 0.8379 - val_loss: 0.4693 - val_accuracy: 0.7512 - val_auc: 0.8370\nEpoch 76/100\n12/12 [==============================] - 1s 57ms/step - loss: 0.4683 - accuracy: 0.7500 - auc: 0.8375 - val_loss: 0.4703 - val_accuracy: 0.7507 - val_auc: 0.8369\nEpoch 77/100\n12/12 [==============================] - 1s 63ms/step - loss: 0.4680 - accuracy: 0.7505 - auc: 0.8378 - val_loss: 0.4693 - val_accuracy: 0.7509 - val_auc: 0.8369\nEpoch 78/100\n12/12 [==============================] - 1s 63ms/step - loss: 0.4678 - accuracy: 0.7505 - auc: 0.8380 - val_loss: 0.4690 - val_accuracy: 0.7514 - val_auc: 0.8371\nEpoch 79/100\n12/12 [==============================] - 1s 62ms/step - loss: 0.4675 - accuracy: 0.7506 - auc: 0.8382 - val_loss: 0.4688 - val_accuracy: 0.7516 - val_auc: 0.8372\nEpoch 80/100\n12/12 [==============================] - 1s 58ms/step - loss: 0.4674 - accuracy: 0.7506 - auc: 0.8383 - val_loss: 0.4688 - val_accuracy: 0.7514 - val_auc: 0.8372\nEpoch 81/100\n12/12 [==============================] - 1s 56ms/step - loss: 0.4674 - accuracy: 0.7506 - auc: 0.8383 - val_loss: 0.4696 - val_accuracy: 0.7512 - val_auc: 0.8370\nEpoch 82/100\n12/12 [==============================] - 1s 64ms/step - loss: 0.4677 - accuracy: 0.7502 - auc: 0.8380 - val_loss: 0.4687 - val_accuracy: 0.7514 - val_auc: 0.8373\nEpoch 83/100\n12/12 [==============================] - 1s 63ms/step - loss: 0.4672 - accuracy: 0.7509 - auc: 0.8385 - val_loss: 0.4702 - val_accuracy: 0.7503 - val_auc: 0.8374\nEpoch 84/100\n12/12 [==============================] - 1s 56ms/step - loss: 0.4676 - accuracy: 0.7508 - auc: 0.8381 - val_loss: 0.4690 - val_accuracy: 0.7514 - val_auc: 0.8373\nEpoch 85/100\n12/12 [==============================] - 1s 64ms/step - loss: 0.4673 - accuracy: 0.7505 - auc: 0.8384 - val_loss: 0.4686 - val_accuracy: 0.7519 - val_auc: 0.8374\nEpoch 86/100\n12/12 [==============================] - 1s 62ms/step - loss: 0.4670 - accuracy: 0.7511 - auc: 0.8387 - val_loss: 0.4692 - val_accuracy: 0.7507 - val_auc: 0.8374\nEpoch 87/100\n12/12 [==============================] - 1s 64ms/step - loss: 0.4671 - accuracy: 0.7509 - auc: 0.8385 - val_loss: 0.4687 - val_accuracy: 0.7516 - val_auc: 0.8374\nEpoch 88/100\n12/12 [==============================] - 1s 57ms/step - loss: 0.4669 - accuracy: 0.7510 - auc: 0.8387 - val_loss: 0.4685 - val_accuracy: 0.7519 - val_auc: 0.8374\nEpoch 89/100\n12/12 [==============================] - 1s 56ms/step - loss: 0.4669 - accuracy: 0.7510 - auc: 0.8387 - val_loss: 0.4690 - val_accuracy: 0.7517 - val_auc: 0.8376\nEpoch 90/100\n12/12 [==============================] - 1s 64ms/step - loss: 0.4670 - accuracy: 0.7511 - auc: 0.8385 - val_loss: 0.4684 - val_accuracy: 0.7516 - val_auc: 0.8375\nEpoch 91/100\n12/12 [==============================] - 1s 63ms/step - loss: 0.4667 - accuracy: 0.7513 - auc: 0.8389 - val_loss: 0.4688 - val_accuracy: 0.7517 - val_auc: 0.8375\nEpoch 92/100\n12/12 [==============================] - 1s 57ms/step - loss: 0.4673 - accuracy: 0.7509 - auc: 0.8383 - val_loss: 0.4682 - val_accuracy: 0.7521 - val_auc: 0.8376\nEpoch 93/100\n12/12 [==============================] - 1s 64ms/step - loss: 0.4669 - accuracy: 0.7512 - auc: 0.8387 - val_loss: 0.4694 - val_accuracy: 0.7508 - val_auc: 0.8376\nEpoch 94/100\n12/12 [==============================] - 1s 63ms/step - loss: 0.4667 - accuracy: 0.7510 - auc: 0.8388 - val_loss: 0.4687 - val_accuracy: 0.7513 - val_auc: 0.8377\nEpoch 95/100\n12/12 [==============================] - 1s 64ms/step - loss: 0.4665 - accuracy: 0.7515 - auc: 0.8390 - val_loss: 0.4690 - val_accuracy: 0.7517 - val_auc: 0.8375\nEpoch 96/100\n12/12 [==============================] - 1s 63ms/step - loss: 0.4666 - accuracy: 0.7514 - auc: 0.8389 - val_loss: 0.4682 - val_accuracy: 0.7521 - val_auc: 0.8376\nEpoch 97/100\n12/12 [==============================] - 1s 63ms/step - loss: 0.4665 - accuracy: 0.7515 - auc: 0.8390 - val_loss: 0.4702 - val_accuracy: 0.7498 - val_auc: 0.8377\nEpoch 98/100\n12/12 [==============================] - 1s 56ms/step - loss: 0.4678 - accuracy: 0.7500 - auc: 0.8377 - val_loss: 0.4682 - val_accuracy: 0.7521 - val_auc: 0.8377\nEpoch 99/100\n12/12 [==============================] - 1s 56ms/step - loss: 0.4663 - accuracy: 0.7514 - auc: 0.8392 - val_loss: 0.4681 - val_accuracy: 0.7517 - val_auc: 0.8378\nEpoch 100/100\n12/12 [==============================] - 1s 55ms/step - loss: 0.4662 - accuracy: 0.7516 - auc: 0.8393 - val_loss: 0.4680 - val_accuracy: 0.7521 - val_auc: 0.8377\n",
     "output_type": "stream"
    }
   ]
  },
  {
   "cell_type": "code",
   "metadata": {
    "tags": [],
    "deepnote_to_be_reexecuted": false,
    "source_hash": "f8921236",
    "execution_start": 1664714036690,
    "execution_millis": 756,
    "cell_id": "00025-bdb03d4f-2cf8-404b-a003-f993a7bed68d",
    "deepnote_cell_type": "code",
    "deepnote_cell_height": 758,
    "deepnote_output_heights": [
     null,
     456
    ]
   },
   "source": "loss, accuracy, auc = model.evaluate(X_test, y_test, batch_size=32768)\ny_pred_rf = model.predict(X_test, batch_size=32768)\nfpr_rf, tpr_rf, thresholds_rf = roc_curve(y_test, y_pred_rf)\nplt.plot(fpr_rf, tpr_rf, label='RF (area = {:.3f})'.format(auc))\nplt.xlabel('False positive rate')\nplt.ylabel('True positive rate')\nplt.title('ROC curve')\nplt.legend(loc='best')\nplt.show()",
   "execution_count": 23,
   "outputs": [
    {
     "name": "stdout",
     "text": "5/5 [==============================] - 0s 4ms/step - loss: 0.4680 - accuracy: 0.7521 - auc: 0.8377\n5/5 [==============================] - 0s 17ms/step\n",
     "output_type": "stream"
    },
    {
     "data": {
      "text/plain": "<Figure size 640x480 with 1 Axes>",
      "image/png": "[encoded data removed]"
     },
     "metadata": {
      "image/png": {
       "width": 567,
       "height": 455
      }
     },
     "output_type": "display_data"
    }
   ]
  },
  {
   "cell_type": "code",
   "metadata": {
    "tags": [],
    "deepnote_to_be_reexecuted": false,
    "source_hash": "432fc94a",
    "execution_start": 1664714037449,
    "execution_millis": 332,
    "cell_id": "00026-ad908b46-0ac8-4fb9-96a5-1c13c781c9c8",
    "deepnote_cell_type": "code",
    "deepnote_cell_height": 1074,
    "deepnote_output_heights": [
     null,
     414,
     419
    ]
   },
   "source": "print(history.params)\nplt.plot(history.history['accuracy'])\nplt.show()\nplt.plot(history.history['loss'])\nplt.show()",
   "execution_count": 24,
   "outputs": [
    {
     "name": "stdout",
     "text": "{'verbose': 1, 'epochs': 100, 'steps': 12}\n",
     "output_type": "stream"
    },
    {
     "data": {
      "text/plain": "<Figure size 640x480 with 1 Axes>",
      "image/png": "[encoded data removed]"
     },
     "metadata": {
      "image/png": {
       "width": 565,
       "height": 413
      }
     },
     "output_type": "display_data"
    },
    {
     "data": {
      "text/plain": "<Figure size 640x480 with 1 Axes>",
      "image/png": "[encoded data removed]"
     },
     "metadata": {
      "image/png": {
       "width": 565,
       "height": 418
      }
     },
     "output_type": "display_data"
    }
   ]
  },
  {
   "cell_type": "code",
   "source": "# Model export for frontend\n!pip install tensorflowjs\nimport tensorflowjs as tfjs\ntfjs.converters.save_keras_model(model, \"tfjs_for_vuejs\")",
   "metadata": {
    "tags": [],
    "deepnote_to_be_reexecuted": false,
    "source_hash": "fda8d0c8",
    "execution_start": 1664714037785,
    "execution_millis": 4449,
    "cell_id": "00027-a5ae1c9f-89a1-455f-9bd7-96aaa1a1b2cc",
    "deepnote_cell_type": "code",
    "deepnote_cell_height": 750
   },
   "outputs": [
    {
     "name": "stdout",
     "text": "Requirement already satisfied: tensorflowjs in /root/venv/lib/python3.9/site-packages (3.20.0)\nRequirement already satisfied: protobuf<3.20,>=3.9.2 in /shared-libs/python3.9/py/lib/python3.9/site-packages (from tensorflowjs) (3.19.4)\nRequirement already satisfied: tensorflow<3,>=2.1.0 in /shared-libs/python3.9/py/lib/python3.9/site-packages (from tensorflowjs) (2.10.0)\nRequirement already satisfied: six<2,>=1.12.0 in /shared-libs/python3.9/py-core/lib/python3.9/site-packages (from tensorflowjs) (1.16.0)\nRequirement already satisfied: tensorflow-hub<0.13,>=0.7.0 in /root/venv/lib/python3.9/site-packages (from tensorflowjs) (0.12.0)\nRequirement already satisfied: flax>=0.5.3 in /root/venv/lib/python3.9/site-packages (from tensorflowjs) (0.6.0)\nRequirement already satisfied: importlib_resources>=5.9.0 in /root/venv/lib/python3.9/site-packages (from tensorflowjs) (5.9.0)\nCollecting packaging~=20.9\n  Using cached packaging-20.9-py2.py3-none-any.whl (40 kB)\nRequirement already satisfied: jax>=0.3.16 in /root/venv/lib/python3.9/site-packages (from tensorflowjs) (0.3.20)\nRequirement already satisfied: matplotlib in /shared-libs/python3.9/py/lib/python3.9/site-packages (from flax>=0.5.3->tensorflowjs) (3.5.3)\nRequirement already satisfied: typing-extensions>=4.1.1 in /shared-libs/python3.9/py/lib/python3.9/site-packages (from flax>=0.5.3->tensorflowjs) (4.3.0)\nRequirement already satisfied: msgpack in /root/venv/lib/python3.9/site-packages (from flax>=0.5.3->tensorflowjs) (1.0.4)\nRequirement already satisfied: numpy>=1.12 in /shared-libs/python3.9/py/lib/python3.9/site-packages (from flax>=0.5.3->tensorflowjs) (1.23.3)\nRequirement already satisfied: PyYAML>=5.4.1 in /root/venv/lib/python3.9/site-packages (from flax>=0.5.3->tensorflowjs) (6.0)\nRequirement already satisfied: optax in /root/venv/lib/python3.9/site-packages (from flax>=0.5.3->tensorflowjs) (0.1.3)\nRequirement already satisfied: rich~=11.1 in /root/venv/lib/python3.9/site-packages (from flax>=0.5.3->tensorflowjs) (11.2.0)\nRequirement already satisfied: zipp>=3.1.0 in /shared-libs/python3.9/py/lib/python3.9/site-packages (from importlib_resources>=5.9.0->tensorflowjs) (3.8.1)\nRequirement already satisfied: absl-py in /shared-libs/python3.9/py/lib/python3.9/site-packages (from jax>=0.3.16->tensorflowjs) (1.2.0)\nRequirement already satisfied: opt-einsum in /shared-libs/python3.9/py/lib/python3.9/site-packages (from jax>=0.3.16->tensorflowjs) (3.3.0)\nRequirement already satisfied: scipy>=1.5 in /shared-libs/python3.9/py/lib/python3.9/site-packages (from jax>=0.3.16->tensorflowjs) (1.9.1)\nRequirement already satisfied: etils[epath] in /root/venv/lib/python3.9/site-packages (from jax>=0.3.16->tensorflowjs) (0.8.0)\nRequirement already satisfied: pyparsing>=2.0.2 in /shared-libs/python3.9/py-core/lib/python3.9/site-packages (from packaging~=20.9->tensorflowjs) (3.0.9)\nRequirement already satisfied: tensorboard<2.11,>=2.10 in /shared-libs/python3.9/py/lib/python3.9/site-packages (from tensorflow<3,>=2.1.0->tensorflowjs) (2.10.0)\nRequirement already satisfied: google-pasta>=0.1.1 in /shared-libs/python3.9/py/lib/python3.9/site-packages (from tensorflow<3,>=2.1.0->tensorflowjs) (0.2.0)\nRequirement already satisfied: wrapt>=1.11.0 in /shared-libs/python3.9/py/lib/python3.9/site-packages (from tensorflow<3,>=2.1.0->tensorflowjs) (1.14.1)\nRequirement already satisfied: setuptools in /root/venv/lib/python3.9/site-packages (from tensorflow<3,>=2.1.0->tensorflowjs) (58.1.0)\nRequirement already satisfied: tensorflow-io-gcs-filesystem>=0.23.1 in /shared-libs/python3.9/py/lib/python3.9/site-packages (from tensorflow<3,>=2.1.0->tensorflowjs) (0.27.0)\nRequirement already satisfied: tensorflow-estimator<2.11,>=2.10.0 in /shared-libs/python3.9/py/lib/python3.9/site-packages (from tensorflow<3,>=2.1.0->tensorflowjs) (2.10.0)\nRequirement already satisfied: h5py>=2.9.0 in /shared-libs/python3.9/py/lib/python3.9/site-packages (from tensorflow<3,>=2.1.0->tensorflowjs) (3.7.0)\nRequirement already satisfied: gast<=0.4.0,>=0.2.1 in /shared-libs/python3.9/py/lib/python3.9/site-packages (from tensorflow<3,>=2.1.0->tensorflowjs) (0.4.0)\nRequirement already satisfied: flatbuffers>=2.0 in /shared-libs/python3.9/py/lib/python3.9/site-packages (from tensorflow<3,>=2.1.0->tensorflowjs) (2.0.7)\nRequirement already satisfied: keras<2.11,>=2.10.0 in /shared-libs/python3.9/py/lib/python3.9/site-packages (from tensorflow<3,>=2.1.0->tensorflowjs) (2.10.0)\nRequirement already satisfied: keras-preprocessing>=1.1.1 in /shared-libs/python3.9/py/lib/python3.9/site-packages (from tensorflow<3,>=2.1.0->tensorflowjs) (1.1.2)\nRequirement already satisfied: grpcio<2.0,>=1.24.3 in /shared-libs/python3.9/py/lib/python3.9/site-packages (from tensorflow<3,>=2.1.0->tensorflowjs) (1.48.1)\nRequirement already satisfied: libclang>=13.0.0 in /shared-libs/python3.9/py/lib/python3.9/site-packages (from tensorflow<3,>=2.1.0->tensorflowjs) (14.0.6)\nRequirement already satisfied: termcolor>=1.1.0 in /shared-libs/python3.9/py/lib/python3.9/site-packages (from tensorflow<3,>=2.1.0->tensorflowjs) (2.0.1)\nRequirement already satisfied: astunparse>=1.6.0 in /shared-libs/python3.9/py/lib/python3.9/site-packages (from tensorflow<3,>=2.1.0->tensorflowjs) (1.6.3)\nRequirement already satisfied: wheel<1.0,>=0.23.0 in /usr/local/lib/python3.9/site-packages (from astunparse>=1.6.0->tensorflow<3,>=2.1.0->tensorflowjs) (0.37.1)\nRequirement already satisfied: pygments<3.0.0,>=2.6.0 in /shared-libs/python3.9/py-core/lib/python3.9/site-packages (from rich~=11.1->flax>=0.5.3->tensorflowjs) (2.13.0)\nRequirement already satisfied: colorama<0.5.0,>=0.4.0 in /root/venv/lib/python3.9/site-packages (from rich~=11.1->flax>=0.5.3->tensorflowjs) (0.4.5)\nRequirement already satisfied: commonmark<0.10.0,>=0.9.0 in /root/venv/lib/python3.9/site-packages (from rich~=11.1->flax>=0.5.3->tensorflowjs) (0.9.1)\nRequirement already satisfied: google-auth-oauthlib<0.5,>=0.4.1 in /shared-libs/python3.9/py/lib/python3.9/site-packages (from tensorboard<2.11,>=2.10->tensorflow<3,>=2.1.0->tensorflowjs) (0.4.6)\nRequirement already satisfied: tensorboard-plugin-wit>=1.6.0 in /shared-libs/python3.9/py/lib/python3.9/site-packages (from tensorboard<2.11,>=2.10->tensorflow<3,>=2.1.0->tensorflowjs) (1.8.1)\nRequirement already satisfied: werkzeug>=1.0.1 in /shared-libs/python3.9/py/lib/python3.9/site-packages (from tensorboard<2.11,>=2.10->tensorflow<3,>=2.1.0->tensorflowjs) (2.2.2)\nRequirement already satisfied: markdown>=2.6.8 in /shared-libs/python3.9/py/lib/python3.9/site-packages (from tensorboard<2.11,>=2.10->tensorflow<3,>=2.1.0->tensorflowjs) (3.4.1)\nRequirement already satisfied: tensorboard-data-server<0.7.0,>=0.6.0 in /shared-libs/python3.9/py/lib/python3.9/site-packages (from tensorboard<2.11,>=2.10->tensorflow<3,>=2.1.0->tensorflowjs) (0.6.1)\nRequirement already satisfied: google-auth<3,>=1.6.3 in /shared-libs/python3.9/py/lib/python3.9/site-packages (from tensorboard<2.11,>=2.10->tensorflow<3,>=2.1.0->tensorflowjs) (2.11.0)\nRequirement already satisfied: requests<3,>=2.21.0 in /shared-libs/python3.9/py/lib/python3.9/site-packages (from tensorboard<2.11,>=2.10->tensorflow<3,>=2.1.0->tensorflowjs) (2.28.1)\nRequirement already satisfied: kiwisolver>=1.0.1 in /shared-libs/python3.9/py/lib/python3.9/site-packages (from matplotlib->flax>=0.5.3->tensorflowjs) (1.4.4)\nRequirement already satisfied: fonttools>=4.22.0 in /shared-libs/python3.9/py/lib/python3.9/site-packages (from matplotlib->flax>=0.5.3->tensorflowjs) (4.37.1)\nRequirement already satisfied: cycler>=0.10 in /shared-libs/python3.9/py/lib/python3.9/site-packages (from matplotlib->flax>=0.5.3->tensorflowjs) (0.11.0)\nRequirement already satisfied: python-dateutil>=2.7 in /shared-libs/python3.9/py-core/lib/python3.9/site-packages (from matplotlib->flax>=0.5.3->tensorflowjs) (2.8.2)\nRequirement already satisfied: pillow>=6.2.0 in /shared-libs/python3.9/py/lib/python3.9/site-packages (from matplotlib->flax>=0.5.3->tensorflowjs) (9.2.0)\nRequirement already satisfied: chex>=0.0.4 in /root/venv/lib/python3.9/site-packages (from optax->flax>=0.5.3->tensorflowjs) (0.1.5)\nRequirement already satisfied: jaxlib>=0.1.37 in /root/venv/lib/python3.9/site-packages (from optax->flax>=0.5.3->tensorflowjs) (0.3.20)\nRequirement already satisfied: dm-tree>=0.1.5 in /root/venv/lib/python3.9/site-packages (from chex>=0.0.4->optax->flax>=0.5.3->tensorflowjs) (0.1.7)\nRequirement already satisfied: toolz>=0.9.0 in /shared-libs/python3.9/py/lib/python3.9/site-packages (from chex>=0.0.4->optax->flax>=0.5.3->tensorflowjs) (0.12.0)\nRequirement already satisfied: cachetools<6.0,>=2.0.0 in /shared-libs/python3.9/py/lib/python3.9/site-packages (from google-auth<3,>=1.6.3->tensorboard<2.11,>=2.10->tensorflow<3,>=2.1.0->tensorflowjs) (5.2.0)\nRequirement already satisfied: pyasn1-modules>=0.2.1 in /shared-libs/python3.9/py/lib/python3.9/site-packages (from google-auth<3,>=1.6.3->tensorboard<2.11,>=2.10->tensorflow<3,>=2.1.0->tensorflowjs) (0.2.8)\nRequirement already satisfied: rsa<5,>=3.1.4 in /shared-libs/python3.9/py/lib/python3.9/site-packages (from google-auth<3,>=1.6.3->tensorboard<2.11,>=2.10->tensorflow<3,>=2.1.0->tensorflowjs) (4.9)\nRequirement already satisfied: requests-oauthlib>=0.7.0 in /shared-libs/python3.9/py/lib/python3.9/site-packages (from google-auth-oauthlib<0.5,>=0.4.1->tensorboard<2.11,>=2.10->tensorflow<3,>=2.1.0->tensorflowjs) (1.3.1)\nRequirement already satisfied: importlib-metadata>=4.4 in /shared-libs/python3.9/py/lib/python3.9/site-packages (from markdown>=2.6.8->tensorboard<2.11,>=2.10->tensorflow<3,>=2.1.0->tensorflowjs) (4.12.0)\nRequirement already satisfied: charset-normalizer<3,>=2 in /shared-libs/python3.9/py-core/lib/python3.9/site-packages (from requests<3,>=2.21.0->tensorboard<2.11,>=2.10->tensorflow<3,>=2.1.0->tensorflowjs) (2.1.1)\nRequirement already satisfied: certifi>=2017.4.17 in /shared-libs/python3.9/py/lib/python3.9/site-packages (from requests<3,>=2.21.0->tensorboard<2.11,>=2.10->tensorflow<3,>=2.1.0->tensorflowjs) (2022.6.15.1)\nRequirement already satisfied: urllib3<1.27,>=1.21.1 in /shared-libs/python3.9/py/lib/python3.9/site-packages (from requests<3,>=2.21.0->tensorboard<2.11,>=2.10->tensorflow<3,>=2.1.0->tensorflowjs) (1.26.12)\nRequirement already satisfied: idna<4,>=2.5 in /shared-libs/python3.9/py-core/lib/python3.9/site-packages (from requests<3,>=2.21.0->tensorboard<2.11,>=2.10->tensorflow<3,>=2.1.0->tensorflowjs) (3.3)\nCollecting MarkupSafe>=2.1.1\n  Using cached MarkupSafe-2.1.1-cp39-cp39-manylinux_2_17_x86_64.manylinux2014_x86_64.whl (25 kB)\nRequirement already satisfied: pyasn1<0.5.0,>=0.4.6 in /shared-libs/python3.9/py/lib/python3.9/site-packages (from pyasn1-modules>=0.2.1->google-auth<3,>=1.6.3->tensorboard<2.11,>=2.10->tensorflow<3,>=2.1.0->tensorflowjs) (0.4.8)\nRequirement already satisfied: oauthlib>=3.0.0 in /shared-libs/python3.9/py/lib/python3.9/site-packages (from requests-oauthlib>=0.7.0->google-auth-oauthlib<0.5,>=0.4.1->tensorboard<2.11,>=2.10->tensorflow<3,>=2.1.0->tensorflowjs) (3.2.1)\nInstalling collected packages: packaging, MarkupSafe\n  Attempting uninstall: packaging\n    Found existing installation: packaging 21.3\n    Not uninstalling packaging at /shared-libs/python3.9/py-core/lib/python3.9/site-packages, outside environment /root/venv\n    Can't uninstall 'packaging'. No files were found to uninstall.\n  Attempting uninstall: MarkupSafe\n    Found existing installation: MarkupSafe 2.0.1\n    Not uninstalling markupsafe at /shared-libs/python3.9/py-core/lib/python3.9/site-packages, outside environment /root/venv\n    Can't uninstall 'MarkupSafe'. No files were found to uninstall.\nSuccessfully installed MarkupSafe-2.1.1 packaging-20.9\n\u001b[33mWARNING: You are using pip version 22.0.4; however, version 22.2.2 is available.\nYou should consider upgrading via the '/root/venv/bin/python -m pip install --upgrade pip' command.\u001b[0m\u001b[33m\n\u001b[0m",
     "output_type": "stream"
    }
   ],
   "execution_count": null
  },
  {
   "cell_type": "markdown",
   "source": "<a style='text-decoration:none;line-height:16px;display:flex;color:#5B5B62;padding:10px;justify-content:end;' href='https://deepnote.com?utm_source=created-in-deepnote-cell&projectId=03c1f381-4bef-44c8-9167-00386ebceba9' target=\"_blank\">\n<img alt='Created in deepnote.com' style='display:inline;max-height:16px;margin:0px;margin-right:7.5px;' src='data:image/svg+xml;base64,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' > </img>\nCreated in <span style='font-weight:600;margin-left:4px;'>Deepnote</span></a>",
   "metadata": {
    "tags": [],
    "created_in_deepnote_cell": true,
    "deepnote_cell_type": "markdown"
   }
  }
 ],
 "nbformat": 4,
 "nbformat_minor": 2,
 "metadata": {
  "orig_nbformat": 2,
  "deepnote": {},
  "deepnote_notebook_id": "09157208-eb1d-435f-bf99-02cdef3a6d0e",
  "deepnote_execution_queue": [],
  "deepnote_persisted_session": {
   "createdAt": "2022-10-02T09:09:47.312Z"
  }
 }
}